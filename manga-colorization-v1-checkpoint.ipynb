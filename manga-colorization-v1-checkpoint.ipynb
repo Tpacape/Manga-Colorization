{
 "cells": [
  {
   "cell_type": "code",
   "execution_count": 1,
   "metadata": {},
   "outputs": [
    {
     "name": "stderr",
     "output_type": "stream",
     "text": [
      "Using TensorFlow backend.\n"
     ]
    },
    {
     "name": "stdout",
     "output_type": "stream",
     "text": [
      "Done\n"
     ]
    }
   ],
   "source": [
    "import os\n",
    "import numpy as np\n",
    "import pandas as pd\n",
    "import matplotlib.pyplot as plt\n",
    "import seaborn as sns\n",
    "import cv2\n",
    "import time\n",
    "import datetime\n",
    "import itertools\n",
    "import shutil\n",
    "import gc\n",
    "from math import ceil\n",
    "from tqdm import tqdm\n",
    "\n",
    "from sklearn.preprocessing import LabelBinarizer\n",
    "from sklearn.model_selection import train_test_split\n",
    "from sklearn.metrics import accuracy_score\n",
    "from sklearn.metrics import confusion_matrix\n",
    "from skimage import color\n",
    "from skimage.color import rgb2lab, lab2rgb, rgb2gray\n",
    "\n",
    "import keras\n",
    "from keras.models import Sequential, Model\n",
    "from keras.layers import Dense, Conv2D, MaxPooling2D, Flatten, Dropout, Input\n",
    "from keras.layers import BatchNormalization, GlobalAveragePooling2D, UpSampling2D, Conv2DTranspose\n",
    "from keras.layers import DepthwiseConv2D, BatchNormalization, LeakyReLU, Concatenate\n",
    "from keras.optimizers import RMSprop, Adam\n",
    "from keras.preprocessing.image import ImageDataGenerator\n",
    "from keras.preprocessing.image import img_to_array, load_img\n",
    "from keras.callbacks import ReduceLROnPlateau\n",
    "from keras.callbacks import ModelCheckpoint\n",
    "from keras.models import model_from_json\n",
    "from keras.models import load_model\n",
    "from keras.preprocessing.image import img_to_array\n",
    "from keras.preprocessing import image\n",
    "from keras.regularizers import l2\n",
    "from keras import losses\n",
    "from keras import backend as K\n",
    "\n",
    "import logging\n",
    "logging.getLogger('tensorflow').setLevel(logging.ERROR)\n",
    "\n",
    "from numpy.random import seed\n",
    "from tensorflow import set_random_seed\n",
    "seed(5)\n",
    "set_random_seed(5)\n",
    "\n",
    "print(\"Done\")"
   ]
  },
  {
   "cell_type": "code",
   "execution_count": 2,
   "metadata": {},
   "outputs": [
    {
     "name": "stdout",
     "output_type": "stream",
     "text": [
      "Done\n"
     ]
    }
   ],
   "source": [
    "max_images = 1200\n",
    "x_shape = 512\n",
    "y_shape = 736\n",
    "batch_size = 8\n",
    "global_epochs = 20\n",
    "#images_path = \"../input/done/\"\n",
    "images_path = \"datasets/Images/\"\n",
    "\n",
    "print(\"Done\")"
   ]
  },
  {
   "cell_type": "markdown",
   "metadata": {},
   "source": [
    "## Transform dowload folders into jpg (736/512) in the Images directory"
   ]
  },
  {
   "cell_type": "code",
   "execution_count": 3,
   "metadata": {},
   "outputs": [],
   "source": [
    "#dossierlist=os.listdir('datasets/Downloads/')\n",
    "#for dossier in tqdm(dossierlist):\n",
    "    \n",
    "#    fichierlist = os.listdir('datasets/Downloads/' + dossier)\n",
    "#    for fichier in fichierlist:\n",
    "        \n",
    "#        if fichier.endswith('.jpg'):\n",
    "            \n",
    "#            # Rename and move images\n",
    "#            src = 'datasets/Downloads/' + dossier + '/' + fichier \n",
    "#            filename = dossier + '_' + fichier\n",
    "#            dst = 'datasets/Images/' + filename\n",
    "#            os.rename(src, dst)\n",
    "\n",
    "            # Open, Resize and Save images\n",
    "#            try :\n",
    "#                image = cv2.imread(dst)\n",
    "#                resize = cv2.resize(image, (x_shape, y_shape), cv2.INTER_CUBIC)\n",
    "#                cv2.imwrite(dst , resize)\n",
    "#            except :\n",
    "#                #print(\"remove : \" + str(dst))\n",
    "#                os.remove(dst)\n",
    "        \n",
    "    # Delete the original folder\n",
    "#    os.rmdir('datasets/Downloads/' + dossier)       "
   ]
  },
  {
   "cell_type": "markdown",
   "metadata": {},
   "source": [
    "## Load all images"
   ]
  },
  {
   "cell_type": "code",
   "execution_count": null,
   "metadata": {},
   "outputs": [
    {
     "name": "stderr",
     "output_type": "stream",
     "text": [
      " 87%|████████▋ | 1095/1260 [00:16<00:02, 69.40it/s]"
     ]
    }
   ],
   "source": [
    "Images = []\n",
    "\n",
    "cpt = 0\n",
    "\n",
    "for filename in tqdm(os.listdir(images_path)):\n",
    "    if filename.endswith('.jpg'):\n",
    "        try : \n",
    "\n",
    "            # Read the image\n",
    "            image = cv2.imread(images_path + filename)\n",
    "            Images.append(image)\n",
    "            \n",
    "            # Move the image\n",
    "            #os.rename('datasets/Images/'+filename, 'datasets/Images/Done/'+filename)\n",
    "            \n",
    "            cpt = cpt + 1\n",
    "            if cpt == max_images:\n",
    "                break\n",
    "                     \n",
    "        except Exception as e:\n",
    "            print(e)\n",
    "            pass\n",
    "\n",
    "\n",
    "Images = np.array(Images, dtype=np.float32)\n",
    "np.random.shuffle(Images)\n",
    "\n",
    "# Set up training and test data\n",
    "split = int(1*len(Images))\n",
    "Xtrain = Images[:split]\n",
    "Xvalid = Images[split:]      \n",
    "\n",
    "print('Done')"
   ]
  },
  {
   "cell_type": "code",
   "execution_count": null,
   "metadata": {},
   "outputs": [],
   "source": [
    "# Image transformer\n",
    "datagen = ImageDataGenerator(\n",
    "        rotation_range=20,\n",
    "        horizontal_flip=True)\n",
    "\n",
    "# Generate training data\n",
    "def image_a_b_gen(batch_size, Images):\n",
    "    for batch in datagen.flow(Images, batch_size=batch_size):\n",
    "        \n",
    "        gray = [cv2.cvtColor(img, cv2.COLOR_BGR2GRAY) for img in batch]\n",
    "        gray = np.array(gray)\n",
    "        gray = gray.reshape(gray.shape+(1,))\n",
    "        X = gray / 255\n",
    "        X = X.astype(float)\n",
    "        \n",
    "        Y = batch / 255\n",
    "        Y = Y.astype(float)\n",
    "\n",
    "        yield (X, Y)\n",
    "        \n",
    "print('Done')"
   ]
  },
  {
   "cell_type": "markdown",
   "metadata": {},
   "source": [
    "## cGAN"
   ]
  },
  {
   "cell_type": "code",
   "execution_count": 6,
   "metadata": {},
   "outputs": [
    {
     "name": "stdout",
     "output_type": "stream",
     "text": [
      "Done\n"
     ]
    }
   ],
   "source": [
    "def generator_model():\n",
    "    \n",
    "    ks = (3,3)\n",
    "    p = 'same'\n",
    "    a = 'elu'\n",
    "    kr = l2(0.001)\n",
    "    s = (2,2)\n",
    "    ps = (2,2)\n",
    "    \n",
    "    model = Sequential()\n",
    "    \n",
    "    # Encoder\n",
    "    model.add(Conv2D(16,kernel_size=ks,strides=(1,1),padding=p,activation=a,kernel_regularizer=kr, input_shape=(y_shape, x_shape, 1)))\n",
    "    model.add(BatchNormalization())\n",
    "    \n",
    "    model.add(Conv2D(32,kernel_size=ks,padding=p,activation=a,kernel_regularizer=kr))\n",
    "    model.add(Conv2D(32,kernel_size=ks,padding=p,activation=a,kernel_regularizer=kr))\n",
    "    model.add(MaxPooling2D(pool_size=ps,padding=p))\n",
    "    model.add(BatchNormalization())\n",
    "    \n",
    "    model.add(Conv2D(64,kernel_size=ks,padding=p,activation=a,kernel_regularizer=kr))\n",
    "    model.add(Conv2D(64,kernel_size=ks,padding=p,activation=a,kernel_regularizer=kr))\n",
    "    model.add(MaxPooling2D(pool_size=ps,padding=p))\n",
    "    model.add(BatchNormalization())\n",
    "    \n",
    "    model.add(Conv2D(128,kernel_size=ks,padding=p,activation=a,kernel_regularizer=kr))\n",
    "    model.add(Conv2D(128,kernel_size=ks,padding=p,activation=a,kernel_regularizer=kr))\n",
    "    model.add(MaxPooling2D(pool_size=ps,padding=p))\n",
    "    model.add(BatchNormalization())\n",
    "    \n",
    "    model.add(Conv2D(256,kernel_size=ks,padding=p,activation=a,kernel_regularizer=kr))\n",
    "    model.add(Conv2D(256,kernel_size=ks,padding=p,activation=a,kernel_regularizer=kr))\n",
    "    model.add(MaxPooling2D(pool_size=ps,padding=p))\n",
    "    model.add(BatchNormalization())\n",
    "    \n",
    "    model.add(Conv2D(512,kernel_size=ks,padding=p,activation=a,kernel_regularizer=kr))\n",
    "    model.add(Conv2D(512,kernel_size=ks,padding=p,activation=a,kernel_regularizer=kr))\n",
    "    model.add(MaxPooling2D(pool_size=ps,padding=p))\n",
    "    model.add(BatchNormalization())\n",
    "    \n",
    "    model.add(Conv2D(512,kernel_size=ks,padding=p,activation=a,kernel_regularizer=kr))\n",
    "    model.add(BatchNormalization())\n",
    "    \n",
    "    \n",
    "    # Decoder\n",
    "    model.add(Conv2D(512,kernel_size=ks,padding=p,activation=a,kernel_regularizer=kr))\n",
    "    model.add(BatchNormalization())\n",
    "    \n",
    "    model.add(Conv2DTranspose(512,kernel_size=ks,padding=p,activation=a,strides=s,kernel_regularizer=kr))\n",
    "    model.add(BatchNormalization())\n",
    "    model.add(Conv2D(512,kernel_size=ks,padding=p,activation=a,kernel_regularizer=kr))\n",
    "    model.add(BatchNormalization())\n",
    "    \n",
    "    model.add(Conv2DTranspose(256,kernel_size=ks,padding=p,activation=a,strides=s,kernel_regularizer=kr))\n",
    "    model.add(BatchNormalization())\n",
    "    model.add(Conv2D(256,kernel_size=ks,padding=p,activation=a,kernel_regularizer=kr))\n",
    "    model.add(BatchNormalization())\n",
    "    \n",
    "    model.add(Conv2DTranspose(128,kernel_size=ks,padding=p,activation=a,strides=s,kernel_regularizer=kr))\n",
    "    model.add(Conv2D(128,kernel_size=ks,padding=p,activation=a,kernel_regularizer=kr))\n",
    "    \n",
    "    model.add(Conv2DTranspose(64,kernel_size=ks,padding=p,activation=a,strides=s,kernel_regularizer=kr))\n",
    "    model.add(Conv2D(64,kernel_size=ks,padding=p,activation=a,kernel_regularizer=kr))\n",
    "    \n",
    "    model.add(Conv2DTranspose(32,kernel_size=ks,padding=p,activation=a,strides=s,kernel_regularizer=kr))\n",
    "    model.add(Conv2D(32,kernel_size=ks,padding=p,activation=a,kernel_regularizer=kr))\n",
    "    \n",
    "    model.add(Conv2DTranspose(16,kernel_size=ks,padding=p,activation=a,kernel_regularizer=kr))\n",
    "    model.add(Conv2D(16,kernel_size=ks,padding=p,activation=a,kernel_regularizer=kr))\n",
    "    \n",
    "    model.add(Conv2D(3,kernel_size=(1,1),padding=p,activation='relu'))\n",
    "    \n",
    "    \n",
    "    return model\n",
    "\n",
    "print('Done')"
   ]
  },
  {
   "cell_type": "code",
   "execution_count": 7,
   "metadata": {},
   "outputs": [
    {
     "name": "stdout",
     "output_type": "stream",
     "text": [
      "Done\n"
     ]
    }
   ],
   "source": [
    "def discriminator_model():\n",
    "    \n",
    "    generator_input = Input(batch_shape=(None, y_shape, x_shape, 1), name='generator_output')\n",
    "    convi = Conv2D(32,kernel_size=(3,3),activation='elu',padding='same',kernel_regularizer=l2(0.001))(generator_input)\n",
    "    convi = BatchNormalization()(convi)\n",
    "    convi = Conv2D(64,kernel_size=(3,3),activation='elu',padding='same',kernel_regularizer=l2(0.001))(convi)\n",
    "    convi = BatchNormalization()(convi)\n",
    "    convi = Conv2D(64,kernel_size=(3,3),strides=(2,2),activation='elu',padding='same',kernel_regularizer=l2(0.001))(convi)\n",
    "\n",
    "    \n",
    "    generator_output = Input(batch_shape=(None, y_shape, x_shape, 3), name='generator_input')    \n",
    "    convo = Conv2D(32,kernel_size=(3,3),activation='elu',padding='same',kernel_regularizer=l2(0.001))(generator_output)\n",
    "    convo = BatchNormalization()(convo)\n",
    "    convo = Conv2D(64,kernel_size=(3,3),activation='elu',padding='same',kernel_regularizer=l2(0.001))(convo)\n",
    "    convo = BatchNormalization()(convo)\n",
    "    convo = Conv2D(64,kernel_size=(3,3),strides=(2,2),activation='elu',padding='same',kernel_regularizer=l2(0.001))(convo)\n",
    "    \n",
    "    \n",
    "    conv = Concatenate()([convi,convo])\n",
    "    conv = BatchNormalization()(conv)\n",
    "\n",
    "    conv = Conv2D(128,kernel_size=(3,3),strides=(2,2),activation='elu',padding='same',kernel_regularizer=l2(0.001))(conv)\n",
    "    conv = BatchNormalization()(conv)\n",
    "    \n",
    "    conv = Conv2D(128,kernel_size=(3,3),strides=(2,2),activation='elu',padding='same',kernel_regularizer=l2(0.001))(conv)\n",
    "    conv = BatchNormalization()(conv)\n",
    "    \n",
    "    conv = Conv2D(128,kernel_size=(3,3),strides=(2,2),activation='elu',padding='same',kernel_regularizer=l2(0.001))(conv)\n",
    "    conv = BatchNormalization()(conv)\n",
    "    \n",
    "    conv = Conv2D(256,kernel_size=(3,3),strides=(2,2),activation='elu',padding='same',kernel_regularizer=l2(0.001))(conv)\n",
    "    conv = BatchNormalization()(conv)\n",
    "    \n",
    "    conv = Conv2D(256,kernel_size=(3,3),strides=(2,2),activation='elu',padding='same')(conv)\n",
    "    conv = BatchNormalization()(conv)\n",
    "    \n",
    "    conv = Flatten()(conv)\n",
    "    conv = Dropout(0.5)(conv)\n",
    "    \n",
    "    conv = Dense(100,activation='elu')(conv)\n",
    "    conv = Dropout(0.5)(conv)\n",
    "    \n",
    "    output = Dense(1,activation='sigmoid')(conv)\n",
    "    \n",
    "    model = Model(inputs=([generator_input,generator_output]),outputs=[output])\n",
    "    \n",
    "    return model\n",
    "\n",
    "print('Done')"
   ]
  },
  {
   "cell_type": "code",
   "execution_count": 8,
   "metadata": {},
   "outputs": [
    {
     "name": "stdout",
     "output_type": "stream",
     "text": [
      "Done\n"
     ]
    }
   ],
   "source": [
    "def cGAN_model(generator,discriminator):\n",
    "    \n",
    "    discriminator.trainable = False\n",
    "    model = Model(inputs=generator.inputs,outputs=[discriminator([generator.input,generator.output]), generator.output])\n",
    "    \n",
    "    return model\n",
    "\n",
    "print('Done')"
   ]
  },
  {
   "cell_type": "code",
   "execution_count": 9,
   "metadata": {},
   "outputs": [
    {
     "name": "stdout",
     "output_type": "stream",
     "text": [
      "Done\n"
     ]
    }
   ],
   "source": [
    "# scaled cosine_distance with MSE + MAE\n",
    "def custom_loss_2(y_true,y_pred):\n",
    "    cosine = losses.cosine_proximity(y_true,y_pred)\n",
    "    mse = losses.mean_squared_error(y_true, y_pred)\n",
    "    mle = losses.mean_absolute_error(y_true, y_pred)\n",
    "    l = (1+cosine)*mse+mle\n",
    "    return l\n",
    "\n",
    "print('Done')"
   ]
  },
  {
   "cell_type": "code",
   "execution_count": 10,
   "metadata": {},
   "outputs": [
    {
     "name": "stderr",
     "output_type": "stream",
     "text": [
      "\n",
      "0it [00:00, ?it/s]\u001b[A"
     ]
    },
    {
     "name": "stdout",
     "output_type": "stream",
     "text": [
      "Epoch 0\n",
      "iteration : 0\n",
      "Epoch 1/1\n"
     ]
    },
    {
     "name": "stderr",
     "output_type": "stream",
     "text": [
      " 95%|█████████▍| 1194/1260 [00:30<00:00, 94.20it/s]"
     ]
    },
    {
     "name": "stdout",
     "output_type": "stream",
     "text": [
      "16/16 [==============================] - 1s 93ms/step - loss: 2.0423 - acc: 0.4375\n",
      "Epoch 1/1\n",
      "8/8 [==============================] - 8s 1s/step - loss: 99.2221 - model_1_loss: 1.0868 - conv2d_20_loss: 0.8815\n",
      "\n",
      "Epoch 00001: loss improved from inf to 99.22213, saving model to weights-improvement.hdf5\n"
     ]
    },
    {
     "name": "stderr",
     "output_type": "stream",
     "text": [
      "\n",
      "1it [00:26, 26.13s/it]\u001b[A"
     ]
    },
    {
     "name": "stdout",
     "output_type": "stream",
     "text": [
      "iteration : 1\n",
      "Epoch 1/1\n",
      " 8/16 [==============>...............] - ETA: 0s - loss: 2.2335 - acc: 0.3750"
     ]
    },
    {
     "name": "stderr",
     "output_type": "stream",
     "text": [
      "/opt/conda/lib/python3.6/site-packages/keras/engine/training.py:490: UserWarning: Discrepancy between trainable weights and collected trainable weights, did you set `model.trainable` without calling `model.compile` after ?\n",
      "  'Discrepancy between trainable weights and collected trainable'\n"
     ]
    },
    {
     "name": "stdout",
     "output_type": "stream",
     "text": [
      "16/16 [==============================] - 0s 24ms/step - loss: 2.5526 - acc: 0.3750\n",
      "Epoch 1/1\n",
      "8/8 [==============================] - 1s 99ms/step - loss: 92.9455 - model_1_loss: 0.1840 - conv2d_20_loss: 0.8639\n",
      "\n",
      "Epoch 00001: loss improved from 99.22213 to 92.94546, saving model to weights-improvement.hdf5\n"
     ]
    },
    {
     "name": "stderr",
     "output_type": "stream",
     "text": [
      "\n",
      "2it [00:31, 19.79s/it]\u001b[A"
     ]
    },
    {
     "name": "stdout",
     "output_type": "stream",
     "text": [
      "iteration : 2\n",
      "Epoch 1/1\n",
      " 8/16 [==============>...............] - ETA: 0s - loss: 3.0056 - acc: 0.3750"
     ]
    },
    {
     "name": "stderr",
     "output_type": "stream",
     "text": [
      "/opt/conda/lib/python3.6/site-packages/keras/engine/training.py:490: UserWarning: Discrepancy between trainable weights and collected trainable weights, did you set `model.trainable` without calling `model.compile` after ?\n",
      "  'Discrepancy between trainable weights and collected trainable'\n"
     ]
    },
    {
     "name": "stdout",
     "output_type": "stream",
     "text": [
      "16/16 [==============================] - 0s 23ms/step - loss: 2.5234 - acc: 0.3750\n",
      "Epoch 1/1\n",
      "8/8 [==============================] - 1s 97ms/step - loss: 90.9544 - model_1_loss: 0.4993 - conv2d_20_loss: 0.8282\n",
      "\n",
      "Epoch 00001: loss improved from 92.94546 to 90.95435, saving model to weights-improvement.hdf5\n"
     ]
    },
    {
     "name": "stderr",
     "output_type": "stream",
     "text": [
      "\n",
      "3it [00:36, 15.35s/it]\u001b[A"
     ]
    },
    {
     "name": "stdout",
     "output_type": "stream",
     "text": [
      "iteration : 3\n",
      "Epoch 1/1\n",
      " 8/16 [==============>...............] - ETA: 0s - loss: 2.5809 - acc: 0.2500"
     ]
    },
    {
     "name": "stderr",
     "output_type": "stream",
     "text": [
      "/opt/conda/lib/python3.6/site-packages/keras/engine/training.py:490: UserWarning: Discrepancy between trainable weights and collected trainable weights, did you set `model.trainable` without calling `model.compile` after ?\n",
      "  'Discrepancy between trainable weights and collected trainable'\n"
     ]
    },
    {
     "name": "stdout",
     "output_type": "stream",
     "text": [
      "16/16 [==============================] - 0s 23ms/step - loss: 2.9509 - acc: 0.1875\n",
      "Epoch 1/1\n",
      "8/8 [==============================] - 1s 99ms/step - loss: 91.2332 - model_1_loss: 0.5576 - conv2d_20_loss: 0.8281\n",
      "\n",
      "Epoch 00001: loss did not improve from 90.95435\n"
     ]
    },
    {
     "name": "stderr",
     "output_type": "stream",
     "text": [
      "\n",
      "4it [00:40, 12.01s/it]\u001b[A"
     ]
    },
    {
     "name": "stdout",
     "output_type": "stream",
     "text": [
      "iteration : 4\n",
      "Epoch 1/1\n",
      " 8/16 [==============>...............] - ETA: 0s - loss: 3.3713 - acc: 0.2500"
     ]
    },
    {
     "name": "stderr",
     "output_type": "stream",
     "text": [
      "/opt/conda/lib/python3.6/site-packages/keras/engine/training.py:490: UserWarning: Discrepancy between trainable weights and collected trainable weights, did you set `model.trainable` without calling `model.compile` after ?\n",
      "  'Discrepancy between trainable weights and collected trainable'\n"
     ]
    },
    {
     "name": "stdout",
     "output_type": "stream",
     "text": [
      "16/16 [==============================] - 0s 23ms/step - loss: 3.2595 - acc: 0.3125\n",
      "Epoch 1/1\n",
      "8/8 [==============================] - 1s 97ms/step - loss: 82.0132 - model_1_loss: 0.2397 - conv2d_20_loss: 0.7517\n",
      "\n",
      "Epoch 00001: loss improved from 90.95435 to 82.01321, saving model to weights-improvement.hdf5\n"
     ]
    },
    {
     "name": "stderr",
     "output_type": "stream",
     "text": [
      "\n",
      "5it [00:45,  9.85s/it]\u001b[A"
     ]
    },
    {
     "name": "stdout",
     "output_type": "stream",
     "text": [
      "iteration : 5\n",
      "Epoch 1/1\n",
      " 8/16 [==============>...............] - ETA: 0s - loss: 2.9987 - acc: 0.2500"
     ]
    },
    {
     "name": "stderr",
     "output_type": "stream",
     "text": [
      "/opt/conda/lib/python3.6/site-packages/keras/engine/training.py:490: UserWarning: Discrepancy between trainable weights and collected trainable weights, did you set `model.trainable` without calling `model.compile` after ?\n",
      "  'Discrepancy between trainable weights and collected trainable'\n"
     ]
    },
    {
     "name": "stdout",
     "output_type": "stream",
     "text": [
      "16/16 [==============================] - 0s 24ms/step - loss: 2.7729 - acc: 0.2500\n",
      "Epoch 1/1\n",
      "8/8 [==============================] - 1s 97ms/step - loss: 84.9316 - model_1_loss: 0.6746 - conv2d_20_loss: 0.7592\n",
      "\n",
      "Epoch 00001: loss did not improve from 82.01321\n"
     ]
    },
    {
     "name": "stderr",
     "output_type": "stream",
     "text": [
      "\n",
      "6it [00:49,  8.23s/it]\u001b[A"
     ]
    },
    {
     "name": "stdout",
     "output_type": "stream",
     "text": [
      "iteration : 6\n",
      "Epoch 1/1\n",
      " 8/16 [==============>...............] - ETA: 0s - loss: 3.7508 - acc: 0.1250"
     ]
    },
    {
     "name": "stderr",
     "output_type": "stream",
     "text": [
      "/opt/conda/lib/python3.6/site-packages/keras/engine/training.py:490: UserWarning: Discrepancy between trainable weights and collected trainable weights, did you set `model.trainable` without calling `model.compile` after ?\n",
      "  'Discrepancy between trainable weights and collected trainable'\n"
     ]
    },
    {
     "name": "stdout",
     "output_type": "stream",
     "text": [
      "16/16 [==============================] - 0s 23ms/step - loss: 3.8455 - acc: 0.1250\n",
      "Epoch 1/1\n",
      "8/8 [==============================] - 1s 97ms/step - loss: 87.4310 - model_1_loss: 0.6451 - conv2d_20_loss: 0.7857\n",
      "\n",
      "Epoch 00001: loss did not improve from 82.01321\n"
     ]
    },
    {
     "name": "stderr",
     "output_type": "stream",
     "text": [
      "\n",
      "7it [00:53,  7.02s/it]\u001b[A"
     ]
    },
    {
     "name": "stdout",
     "output_type": "stream",
     "text": [
      "iteration : 7\n",
      "Epoch 1/1\n",
      " 8/16 [==============>...............] - ETA: 0s - loss: 5.0450 - acc: 0.3750"
     ]
    },
    {
     "name": "stderr",
     "output_type": "stream",
     "text": [
      "/opt/conda/lib/python3.6/site-packages/keras/engine/training.py:490: UserWarning: Discrepancy between trainable weights and collected trainable weights, did you set `model.trainable` without calling `model.compile` after ?\n",
      "  'Discrepancy between trainable weights and collected trainable'\n"
     ]
    },
    {
     "name": "stdout",
     "output_type": "stream",
     "text": [
      "16/16 [==============================] - 0s 23ms/step - loss: 4.7048 - acc: 0.2500\n",
      "Epoch 1/1\n",
      "8/8 [==============================] - 1s 97ms/step - loss: 87.0336 - model_1_loss: 0.4598 - conv2d_20_loss: 0.7909\n",
      "\n",
      "Epoch 00001: loss did not improve from 82.01321\n"
     ]
    },
    {
     "name": "stderr",
     "output_type": "stream",
     "text": [
      "\n",
      "8it [00:57,  6.17s/it]\u001b[A"
     ]
    },
    {
     "name": "stdout",
     "output_type": "stream",
     "text": [
      "iteration : 8\n",
      "Epoch 1/1\n",
      " 8/16 [==============>...............] - ETA: 0s - loss: 2.1235 - acc: 0.5000"
     ]
    },
    {
     "name": "stderr",
     "output_type": "stream",
     "text": [
      "/opt/conda/lib/python3.6/site-packages/keras/engine/training.py:490: UserWarning: Discrepancy between trainable weights and collected trainable weights, did you set `model.trainable` without calling `model.compile` after ?\n",
      "  'Discrepancy between trainable weights and collected trainable'\n"
     ]
    },
    {
     "name": "stdout",
     "output_type": "stream",
     "text": [
      "16/16 [==============================] - 0s 26ms/step - loss: 2.8952 - acc: 0.3750\n",
      "Epoch 1/1\n",
      "8/8 [==============================] - 1s 98ms/step - loss: 78.0594 - model_1_loss: 0.1862 - conv2d_20_loss: 0.7149\n",
      "\n",
      "Epoch 00001: loss improved from 82.01321 to 78.05942, saving model to weights-improvement.hdf5\n"
     ]
    },
    {
     "name": "stderr",
     "output_type": "stream",
     "text": [
      "\n",
      "9it [01:02,  5.78s/it]\u001b[A"
     ]
    },
    {
     "name": "stdout",
     "output_type": "stream",
     "text": [
      "iteration : 9\n",
      "Epoch 1/1\n",
      " 8/16 [==============>...............] - ETA: 0s - loss: 2.8956 - acc: 0.3750"
     ]
    },
    {
     "name": "stderr",
     "output_type": "stream",
     "text": [
      "/opt/conda/lib/python3.6/site-packages/keras/engine/training.py:490: UserWarning: Discrepancy between trainable weights and collected trainable weights, did you set `model.trainable` without calling `model.compile` after ?\n",
      "  'Discrepancy between trainable weights and collected trainable'\n"
     ]
    },
    {
     "name": "stdout",
     "output_type": "stream",
     "text": [
      "16/16 [==============================] - 0s 24ms/step - loss: 3.7831 - acc: 0.3750\n",
      "Epoch 1/1\n",
      "8/8 [==============================] - 1s 97ms/step - loss: 84.3217 - model_1_loss: 0.0040 - conv2d_20_loss: 0.7866\n",
      "\n",
      "Epoch 00001: loss did not improve from 78.05942\n"
     ]
    },
    {
     "name": "stderr",
     "output_type": "stream",
     "text": [
      "\n",
      "10it [01:07,  5.38s/it]\u001b[A"
     ]
    },
    {
     "name": "stdout",
     "output_type": "stream",
     "text": [
      "iteration : 10\n",
      "Epoch 1/1\n",
      " 8/16 [==============>...............] - ETA: 0s - loss: 4.5340 - acc: 0.2500"
     ]
    },
    {
     "name": "stderr",
     "output_type": "stream",
     "text": [
      "/opt/conda/lib/python3.6/site-packages/keras/engine/training.py:490: UserWarning: Discrepancy between trainable weights and collected trainable weights, did you set `model.trainable` without calling `model.compile` after ?\n",
      "  'Discrepancy between trainable weights and collected trainable'\n"
     ]
    },
    {
     "name": "stdout",
     "output_type": "stream",
     "text": [
      "16/16 [==============================] - 0s 24ms/step - loss: 4.3210 - acc: 0.1250\n",
      "Epoch 1/1\n",
      "8/8 [==============================] - 1s 98ms/step - loss: 93.9195 - model_1_loss: 0.1437 - conv2d_20_loss: 0.8756\n",
      "\n",
      "Epoch 00001: loss did not improve from 78.05942\n"
     ]
    },
    {
     "name": "stderr",
     "output_type": "stream",
     "text": [
      "\n",
      "11it [01:11,  5.04s/it]\u001b[A"
     ]
    },
    {
     "name": "stdout",
     "output_type": "stream",
     "text": [
      "iteration : 11\n",
      "Epoch 1/1\n",
      " 8/16 [==============>...............] - ETA: 0s - loss: 2.8285 - acc: 0.3750"
     ]
    },
    {
     "name": "stderr",
     "output_type": "stream",
     "text": [
      "/opt/conda/lib/python3.6/site-packages/keras/engine/training.py:490: UserWarning: Discrepancy between trainable weights and collected trainable weights, did you set `model.trainable` without calling `model.compile` after ?\n",
      "  'Discrepancy between trainable weights and collected trainable'\n"
     ]
    },
    {
     "name": "stdout",
     "output_type": "stream",
     "text": [
      "16/16 [==============================] - 0s 23ms/step - loss: 3.6123 - acc: 0.3125\n",
      "Epoch 1/1\n",
      "8/8 [==============================] - 1s 97ms/step - loss: 83.8508 - model_1_loss: 0.1520 - conv2d_20_loss: 0.7745\n",
      "\n",
      "Epoch 00001: loss did not improve from 78.05942\n"
     ]
    },
    {
     "name": "stderr",
     "output_type": "stream",
     "text": [
      "\n",
      "12it [01:15,  4.78s/it]\u001b[A"
     ]
    },
    {
     "name": "stdout",
     "output_type": "stream",
     "text": [
      "iteration : 12\n",
      "Epoch 1/1\n",
      " 8/16 [==============>...............] - ETA: 0s - loss: 3.0520 - acc: 0.3750"
     ]
    },
    {
     "name": "stderr",
     "output_type": "stream",
     "text": [
      "/opt/conda/lib/python3.6/site-packages/keras/engine/training.py:490: UserWarning: Discrepancy between trainable weights and collected trainable weights, did you set `model.trainable` without calling `model.compile` after ?\n",
      "  'Discrepancy between trainable weights and collected trainable'\n"
     ]
    },
    {
     "name": "stdout",
     "output_type": "stream",
     "text": [
      "16/16 [==============================] - 0s 26ms/step - loss: 3.3830 - acc: 0.3125\n",
      "Epoch 1/1\n",
      "8/8 [==============================] - 1s 98ms/step - loss: 86.1100 - model_1_loss: 0.0972 - conv2d_20_loss: 0.7998\n",
      "\n",
      "Epoch 00001: loss did not improve from 78.05942\n"
     ]
    },
    {
     "name": "stderr",
     "output_type": "stream",
     "text": [
      "\n",
      "13it [01:19,  4.62s/it]\u001b[A"
     ]
    },
    {
     "name": "stdout",
     "output_type": "stream",
     "text": [
      "iteration : 13\n",
      "Epoch 1/1\n",
      " 8/16 [==============>...............] - ETA: 0s - loss: 3.8759 - acc: 0.2500"
     ]
    },
    {
     "name": "stderr",
     "output_type": "stream",
     "text": [
      "/opt/conda/lib/python3.6/site-packages/keras/engine/training.py:490: UserWarning: Discrepancy between trainable weights and collected trainable weights, did you set `model.trainable` without calling `model.compile` after ?\n",
      "  'Discrepancy between trainable weights and collected trainable'\n"
     ]
    },
    {
     "name": "stdout",
     "output_type": "stream",
     "text": [
      "16/16 [==============================] - 0s 24ms/step - loss: 3.4359 - acc: 0.2500\n",
      "Epoch 1/1\n",
      "8/8 [==============================] - 1s 98ms/step - loss: 87.1963 - model_1_loss: 0.1486 - conv2d_20_loss: 0.8081\n",
      "\n",
      "Epoch 00001: loss did not improve from 78.05942\n"
     ]
    },
    {
     "name": "stderr",
     "output_type": "stream",
     "text": [
      "\n",
      "14it [01:24,  4.49s/it]\u001b[A"
     ]
    },
    {
     "name": "stdout",
     "output_type": "stream",
     "text": [
      "iteration : 14\n",
      "Epoch 1/1\n",
      " 8/16 [==============>...............] - ETA: 0s - loss: 2.7618 - acc: 0.5000"
     ]
    },
    {
     "name": "stderr",
     "output_type": "stream",
     "text": [
      "/opt/conda/lib/python3.6/site-packages/keras/engine/training.py:490: UserWarning: Discrepancy between trainable weights and collected trainable weights, did you set `model.trainable` without calling `model.compile` after ?\n",
      "  'Discrepancy between trainable weights and collected trainable'\n"
     ]
    },
    {
     "name": "stdout",
     "output_type": "stream",
     "text": [
      "16/16 [==============================] - 0s 24ms/step - loss: 2.5754 - acc: 0.3750\n",
      "Epoch 1/1\n",
      "8/8 [==============================] - 1s 98ms/step - loss: 81.3206 - model_1_loss: 0.4640 - conv2d_20_loss: 0.7336\n",
      "\n",
      "Epoch 00001: loss did not improve from 78.05942\n"
     ]
    },
    {
     "name": "stderr",
     "output_type": "stream",
     "text": [
      "\n",
      "15it [01:28,  4.41s/it]\u001b[A"
     ]
    },
    {
     "name": "stdout",
     "output_type": "stream",
     "text": [
      "iteration : 15\n",
      "Epoch 1/1\n",
      " 8/16 [==============>...............] - ETA: 0s - loss: 3.0924 - acc: 0.5000"
     ]
    },
    {
     "name": "stderr",
     "output_type": "stream",
     "text": [
      "/opt/conda/lib/python3.6/site-packages/keras/engine/training.py:490: UserWarning: Discrepancy between trainable weights and collected trainable weights, did you set `model.trainable` without calling `model.compile` after ?\n",
      "  'Discrepancy between trainable weights and collected trainable'\n"
     ]
    },
    {
     "name": "stdout",
     "output_type": "stream",
     "text": [
      "16/16 [==============================] - 0s 23ms/step - loss: 3.4790 - acc: 0.3125\n",
      "Epoch 1/1\n",
      "8/8 [==============================] - 1s 98ms/step - loss: 81.5091 - model_1_loss: 0.8432 - conv2d_20_loss: 0.7165\n",
      "\n",
      "Epoch 00001: loss did not improve from 78.05942\n"
     ]
    },
    {
     "name": "stderr",
     "output_type": "stream",
     "text": [
      "\n",
      "16it [01:32,  4.37s/it]\u001b[A"
     ]
    },
    {
     "name": "stdout",
     "output_type": "stream",
     "text": [
      "iteration : 16\n",
      "Epoch 1/1\n",
      " 8/16 [==============>...............] - ETA: 0s - loss: 3.2682 - acc: 0.1250"
     ]
    },
    {
     "name": "stderr",
     "output_type": "stream",
     "text": [
      "/opt/conda/lib/python3.6/site-packages/keras/engine/training.py:490: UserWarning: Discrepancy between trainable weights and collected trainable weights, did you set `model.trainable` without calling `model.compile` after ?\n",
      "  'Discrepancy between trainable weights and collected trainable'\n"
     ]
    },
    {
     "name": "stdout",
     "output_type": "stream",
     "text": [
      "16/16 [==============================] - 0s 23ms/step - loss: 4.0819 - acc: 0.1875\n",
      "Epoch 1/1\n",
      "8/8 [==============================] - 1s 97ms/step - loss: 79.2727 - model_1_loss: 0.7423 - conv2d_20_loss: 0.6992\n",
      "\n",
      "Epoch 00001: loss did not improve from 78.05942\n"
     ]
    },
    {
     "name": "stderr",
     "output_type": "stream",
     "text": [
      "\n",
      "17it [01:36,  4.32s/it]\u001b[A"
     ]
    },
    {
     "name": "stdout",
     "output_type": "stream",
     "text": [
      "iteration : 17\n",
      "Epoch 1/1\n",
      " 8/16 [==============>...............] - ETA: 0s - loss: 6.4994 - acc: 0.1250"
     ]
    },
    {
     "name": "stderr",
     "output_type": "stream",
     "text": [
      "/opt/conda/lib/python3.6/site-packages/keras/engine/training.py:490: UserWarning: Discrepancy between trainable weights and collected trainable weights, did you set `model.trainable` without calling `model.compile` after ?\n",
      "  'Discrepancy between trainable weights and collected trainable'\n"
     ]
    },
    {
     "name": "stdout",
     "output_type": "stream",
     "text": [
      "16/16 [==============================] - 0s 24ms/step - loss: 5.1605 - acc: 0.1875\n",
      "Epoch 1/1\n",
      "8/8 [==============================] - 1s 98ms/step - loss: 76.0098 - model_1_loss: 0.0259 - conv2d_20_loss: 0.7024\n",
      "\n",
      "Epoch 00001: loss improved from 78.05942 to 76.00977, saving model to weights-improvement.hdf5\n"
     ]
    },
    {
     "name": "stderr",
     "output_type": "stream",
     "text": [
      "\n",
      "18it [01:41,  4.47s/it]\u001b[A"
     ]
    },
    {
     "name": "stdout",
     "output_type": "stream",
     "text": [
      "iteration : 18\n",
      "Epoch 1/1\n",
      " 8/16 [==============>...............] - ETA: 0s - loss: 4.3634 - acc: 0.1250"
     ]
    },
    {
     "name": "stderr",
     "output_type": "stream",
     "text": [
      "/opt/conda/lib/python3.6/site-packages/keras/engine/training.py:490: UserWarning: Discrepancy between trainable weights and collected trainable weights, did you set `model.trainable` without calling `model.compile` after ?\n",
      "  'Discrepancy between trainable weights and collected trainable'\n"
     ]
    },
    {
     "name": "stdout",
     "output_type": "stream",
     "text": [
      "16/16 [==============================] - 0s 23ms/step - loss: 4.4581 - acc: 0.1250\n",
      "Epoch 1/1\n",
      "8/8 [==============================] - 1s 97ms/step - loss: 77.3213 - model_1_loss: 0.0169 - conv2d_20_loss: 0.7159\n",
      "\n",
      "Epoch 00001: loss did not improve from 76.00977\n"
     ]
    },
    {
     "name": "stderr",
     "output_type": "stream",
     "text": [
      "\n",
      "19it [01:45,  4.41s/it]\u001b[A"
     ]
    },
    {
     "name": "stdout",
     "output_type": "stream",
     "text": [
      "iteration : 19\n",
      "Epoch 1/1\n",
      " 8/16 [==============>...............] - ETA: 0s - loss: 3.6274 - acc: 0.2500"
     ]
    },
    {
     "name": "stderr",
     "output_type": "stream",
     "text": [
      "/opt/conda/lib/python3.6/site-packages/keras/engine/training.py:490: UserWarning: Discrepancy between trainable weights and collected trainable weights, did you set `model.trainable` without calling `model.compile` after ?\n",
      "  'Discrepancy between trainable weights and collected trainable'\n"
     ]
    },
    {
     "name": "stdout",
     "output_type": "stream",
     "text": [
      "16/16 [==============================] - 0s 23ms/step - loss: 4.2662 - acc: 0.2500\n",
      "Epoch 1/1\n",
      "8/8 [==============================] - 1s 97ms/step - loss: 77.9288 - model_1_loss: 0.0119 - conv2d_20_loss: 0.7223\n",
      "\n",
      "Epoch 00001: loss did not improve from 76.00977\n"
     ]
    },
    {
     "name": "stderr",
     "output_type": "stream",
     "text": [
      "\n",
      "20it [01:50,  4.35s/it]\u001b[A"
     ]
    },
    {
     "name": "stdout",
     "output_type": "stream",
     "text": [
      "iteration : 20\n",
      "Epoch 1/1\n",
      " 8/16 [==============>...............] - ETA: 0s - loss: 3.5907 - acc: 0.3750"
     ]
    },
    {
     "name": "stderr",
     "output_type": "stream",
     "text": [
      "/opt/conda/lib/python3.6/site-packages/keras/engine/training.py:490: UserWarning: Discrepancy between trainable weights and collected trainable weights, did you set `model.trainable` without calling `model.compile` after ?\n",
      "  'Discrepancy between trainable weights and collected trainable'\n"
     ]
    },
    {
     "name": "stdout",
     "output_type": "stream",
     "text": [
      "16/16 [==============================] - 0s 25ms/step - loss: 3.7873 - acc: 0.3125\n",
      "Epoch 1/1\n",
      "8/8 [==============================] - 1s 97ms/step - loss: 79.5171 - model_1_loss: 0.0027 - conv2d_20_loss: 0.7386\n",
      "\n",
      "Epoch 00001: loss did not improve from 76.00977\n"
     ]
    },
    {
     "name": "stderr",
     "output_type": "stream",
     "text": [
      "\n",
      "21it [01:54,  4.30s/it]\u001b[A"
     ]
    },
    {
     "name": "stdout",
     "output_type": "stream",
     "text": [
      "iteration : 21\n",
      "Epoch 1/1\n",
      " 8/16 [==============>...............] - ETA: 0s - loss: 3.7788 - acc: 0.2500"
     ]
    },
    {
     "name": "stderr",
     "output_type": "stream",
     "text": [
      "/opt/conda/lib/python3.6/site-packages/keras/engine/training.py:490: UserWarning: Discrepancy between trainable weights and collected trainable weights, did you set `model.trainable` without calling `model.compile` after ?\n",
      "  'Discrepancy between trainable weights and collected trainable'\n"
     ]
    },
    {
     "name": "stdout",
     "output_type": "stream",
     "text": [
      "16/16 [==============================] - 0s 24ms/step - loss: 4.1500 - acc: 0.2500\n",
      "Epoch 1/1\n",
      "8/8 [==============================] - 1s 98ms/step - loss: 75.6059 - model_1_loss: 0.3280 - conv2d_20_loss: 0.6832\n",
      "\n",
      "Epoch 00001: loss improved from 76.00977 to 75.60589, saving model to weights-improvement.hdf5\n"
     ]
    },
    {
     "name": "stderr",
     "output_type": "stream",
     "text": [
      "\n",
      "22it [01:59,  4.45s/it]\u001b[A"
     ]
    },
    {
     "name": "stdout",
     "output_type": "stream",
     "text": [
      "iteration : 22\n",
      "Epoch 1/1\n",
      " 8/16 [==============>...............] - ETA: 0s - loss: 6.0924 - acc: 0.2500"
     ]
    },
    {
     "name": "stderr",
     "output_type": "stream",
     "text": [
      "/opt/conda/lib/python3.6/site-packages/keras/engine/training.py:490: UserWarning: Discrepancy between trainable weights and collected trainable weights, did you set `model.trainable` without calling `model.compile` after ?\n",
      "  'Discrepancy between trainable weights and collected trainable'\n"
     ]
    },
    {
     "name": "stdout",
     "output_type": "stream",
     "text": [
      "16/16 [==============================] - 0s 23ms/step - loss: 5.4780 - acc: 0.1250\n",
      "Epoch 1/1\n",
      "8/8 [==============================] - 1s 97ms/step - loss: 77.3522 - model_1_loss: 0.0929 - conv2d_20_loss: 0.7124\n",
      "\n",
      "Epoch 00001: loss did not improve from 75.60589\n"
     ]
    },
    {
     "name": "stderr",
     "output_type": "stream",
     "text": [
      "\n",
      "23it [02:03,  4.44s/it]\u001b[A"
     ]
    },
    {
     "name": "stdout",
     "output_type": "stream",
     "text": [
      "iteration : 23\n",
      "Epoch 1/1\n",
      " 8/16 [==============>...............] - ETA: 0s - loss: 3.6922 - acc: 0.1250"
     ]
    },
    {
     "name": "stderr",
     "output_type": "stream",
     "text": [
      "/opt/conda/lib/python3.6/site-packages/keras/engine/training.py:490: UserWarning: Discrepancy between trainable weights and collected trainable weights, did you set `model.trainable` without calling `model.compile` after ?\n",
      "  'Discrepancy between trainable weights and collected trainable'\n"
     ]
    },
    {
     "name": "stdout",
     "output_type": "stream",
     "text": [
      "16/16 [==============================] - 0s 24ms/step - loss: 3.7102 - acc: 0.1875\n",
      "Epoch 1/1\n",
      "8/8 [==============================] - 1s 98ms/step - loss: 79.4517 - model_1_loss: 0.3820 - conv2d_20_loss: 0.7190\n",
      "\n",
      "Epoch 00001: loss did not improve from 75.60589\n"
     ]
    },
    {
     "name": "stderr",
     "output_type": "stream",
     "text": [
      "\n",
      "24it [02:07,  4.36s/it]\u001b[A"
     ]
    },
    {
     "name": "stdout",
     "output_type": "stream",
     "text": [
      "iteration : 24\n",
      "Epoch 1/1\n",
      " 8/16 [==============>...............] - ETA: 0s - loss: 5.9224 - acc: 0.1250"
     ]
    },
    {
     "name": "stderr",
     "output_type": "stream",
     "text": [
      "/opt/conda/lib/python3.6/site-packages/keras/engine/training.py:490: UserWarning: Discrepancy between trainable weights and collected trainable weights, did you set `model.trainable` without calling `model.compile` after ?\n",
      "  'Discrepancy between trainable weights and collected trainable'\n"
     ]
    },
    {
     "name": "stdout",
     "output_type": "stream",
     "text": [
      "16/16 [==============================] - 0s 23ms/step - loss: 5.6636 - acc: 0.0625\n",
      "Epoch 1/1\n",
      "8/8 [==============================] - 1s 97ms/step - loss: 75.7879 - model_1_loss: 0.0178 - conv2d_20_loss: 0.7005\n",
      "\n",
      "Epoch 00001: loss did not improve from 75.60589\n"
     ]
    },
    {
     "name": "stderr",
     "output_type": "stream",
     "text": [
      "\n",
      "25it [02:11,  4.31s/it]\u001b[A"
     ]
    },
    {
     "name": "stdout",
     "output_type": "stream",
     "text": [
      "iteration : 25\n",
      "Epoch 1/1\n",
      " 8/16 [==============>...............] - ETA: 0s - loss: 3.9912 - acc: 0.3750"
     ]
    },
    {
     "name": "stderr",
     "output_type": "stream",
     "text": [
      "/opt/conda/lib/python3.6/site-packages/keras/engine/training.py:490: UserWarning: Discrepancy between trainable weights and collected trainable weights, did you set `model.trainable` without calling `model.compile` after ?\n",
      "  'Discrepancy between trainable weights and collected trainable'\n"
     ]
    },
    {
     "name": "stdout",
     "output_type": "stream",
     "text": [
      "16/16 [==============================] - 0s 24ms/step - loss: 4.1761 - acc: 0.2500\n",
      "Epoch 1/1\n",
      "8/8 [==============================] - 1s 98ms/step - loss: 72.7948 - model_1_loss: 0.0063 - conv2d_20_loss: 0.6712\n",
      "\n",
      "Epoch 00001: loss improved from 75.60589 to 72.79478, saving model to weights-improvement.hdf5\n"
     ]
    },
    {
     "name": "stderr",
     "output_type": "stream",
     "text": [
      "\n",
      "26it [02:16,  4.45s/it]\u001b[A"
     ]
    },
    {
     "name": "stdout",
     "output_type": "stream",
     "text": [
      "iteration : 26\n",
      "Epoch 1/1\n",
      " 8/16 [==============>...............] - ETA: 0s - loss: 4.3850 - acc: 0.2500"
     ]
    },
    {
     "name": "stderr",
     "output_type": "stream",
     "text": [
      "/opt/conda/lib/python3.6/site-packages/keras/engine/training.py:490: UserWarning: Discrepancy between trainable weights and collected trainable weights, did you set `model.trainable` without calling `model.compile` after ?\n",
      "  'Discrepancy between trainable weights and collected trainable'\n"
     ]
    },
    {
     "name": "stdout",
     "output_type": "stream",
     "text": [
      "16/16 [==============================] - 0s 23ms/step - loss: 3.8225 - acc: 0.3750\n",
      "Epoch 1/1\n",
      "8/8 [==============================] - 1s 97ms/step - loss: 69.4529 - model_1_loss: 0.1922 - conv2d_20_loss: 0.6285\n",
      "\n",
      "Epoch 00001: loss improved from 72.79478 to 69.45292, saving model to weights-improvement.hdf5\n"
     ]
    },
    {
     "name": "stderr",
     "output_type": "stream",
     "text": [
      "\n",
      "27it [02:21,  4.69s/it]\u001b[A"
     ]
    },
    {
     "name": "stdout",
     "output_type": "stream",
     "text": [
      "iteration : 27\n",
      "Epoch 1/1\n",
      " 8/16 [==============>...............] - ETA: 0s - loss: 4.0451 - acc: 0.5000"
     ]
    },
    {
     "name": "stderr",
     "output_type": "stream",
     "text": [
      "/opt/conda/lib/python3.6/site-packages/keras/engine/training.py:490: UserWarning: Discrepancy between trainable weights and collected trainable weights, did you set `model.trainable` without calling `model.compile` after ?\n",
      "  'Discrepancy between trainable weights and collected trainable'\n"
     ]
    },
    {
     "name": "stdout",
     "output_type": "stream",
     "text": [
      "16/16 [==============================] - 0s 24ms/step - loss: 5.4251 - acc: 0.3125\n",
      "Epoch 1/1\n",
      "8/8 [==============================] - 1s 98ms/step - loss: 65.9095 - model_1_loss: 0.1877 - conv2d_20_loss: 0.5933\n",
      "\n",
      "Epoch 00001: loss improved from 69.45292 to 65.90950, saving model to weights-improvement.hdf5\n"
     ]
    },
    {
     "name": "stderr",
     "output_type": "stream",
     "text": [
      "\n",
      "28it [02:26,  4.72s/it]\u001b[A"
     ]
    },
    {
     "name": "stdout",
     "output_type": "stream",
     "text": [
      "iteration : 28\n",
      "Epoch 1/1\n",
      " 8/16 [==============>...............] - ETA: 0s - loss: 4.5126 - acc: 0.1250"
     ]
    },
    {
     "name": "stderr",
     "output_type": "stream",
     "text": [
      "/opt/conda/lib/python3.6/site-packages/keras/engine/training.py:490: UserWarning: Discrepancy between trainable weights and collected trainable weights, did you set `model.trainable` without calling `model.compile` after ?\n",
      "  'Discrepancy between trainable weights and collected trainable'\n"
     ]
    },
    {
     "name": "stdout",
     "output_type": "stream",
     "text": [
      "16/16 [==============================] - 0s 23ms/step - loss: 4.1890 - acc: 0.2500\n",
      "Epoch 1/1\n",
      "8/8 [==============================] - 1s 97ms/step - loss: 71.2695 - model_1_loss: 0.0065 - conv2d_20_loss: 0.6559\n",
      "\n",
      "Epoch 00001: loss did not improve from 65.90950\n"
     ]
    },
    {
     "name": "stderr",
     "output_type": "stream",
     "text": [
      "\n",
      "29it [02:31,  4.62s/it]\u001b[A"
     ]
    },
    {
     "name": "stdout",
     "output_type": "stream",
     "text": [
      "iteration : 29\n",
      "Epoch 1/1\n",
      " 8/16 [==============>...............] - ETA: 0s - loss: 3.5995 - acc: 0.2500"
     ]
    },
    {
     "name": "stderr",
     "output_type": "stream",
     "text": [
      "/opt/conda/lib/python3.6/site-packages/keras/engine/training.py:490: UserWarning: Discrepancy between trainable weights and collected trainable weights, did you set `model.trainable` without calling `model.compile` after ?\n",
      "  'Discrepancy between trainable weights and collected trainable'\n"
     ]
    },
    {
     "name": "stdout",
     "output_type": "stream",
     "text": [
      "16/16 [==============================] - 0s 24ms/step - loss: 4.5360 - acc: 0.1875\n",
      "Epoch 1/1\n",
      "8/8 [==============================] - 1s 99ms/step - loss: 66.7799 - model_1_loss: 0.0750 - conv2d_20_loss: 0.6076\n",
      "\n",
      "Epoch 00001: loss did not improve from 65.90950\n"
     ]
    },
    {
     "name": "stderr",
     "output_type": "stream",
     "text": [
      "\n",
      "30it [02:35,  4.51s/it]\u001b[A"
     ]
    },
    {
     "name": "stdout",
     "output_type": "stream",
     "text": [
      "iteration : 30\n",
      "Epoch 1/1\n",
      " 8/16 [==============>...............] - ETA: 0s - loss: 6.6532 - acc: 0.0000e+00"
     ]
    },
    {
     "name": "stderr",
     "output_type": "stream",
     "text": [
      "/opt/conda/lib/python3.6/site-packages/keras/engine/training.py:490: UserWarning: Discrepancy between trainable weights and collected trainable weights, did you set `model.trainable` without calling `model.compile` after ?\n",
      "  'Discrepancy between trainable weights and collected trainable'\n"
     ]
    },
    {
     "name": "stdout",
     "output_type": "stream",
     "text": [
      "16/16 [==============================] - 0s 23ms/step - loss: 4.8879 - acc: 0.1250\n",
      "Epoch 1/1\n",
      "8/8 [==============================] - 1s 97ms/step - loss: 61.9473 - model_1_loss: 0.0156 - conv2d_20_loss: 0.5622\n",
      "\n",
      "Epoch 00001: loss improved from 65.90950 to 61.94728, saving model to weights-improvement.hdf5\n"
     ]
    },
    {
     "name": "stderr",
     "output_type": "stream",
     "text": [
      "\n",
      "31it [02:40,  4.60s/it]\u001b[A"
     ]
    },
    {
     "name": "stdout",
     "output_type": "stream",
     "text": [
      "iteration : 31\n",
      "Epoch 1/1\n",
      " 8/16 [==============>...............] - ETA: 0s - loss: 5.3257 - acc: 0.2500"
     ]
    },
    {
     "name": "stderr",
     "output_type": "stream",
     "text": [
      "/opt/conda/lib/python3.6/site-packages/keras/engine/training.py:490: UserWarning: Discrepancy between trainable weights and collected trainable weights, did you set `model.trainable` without calling `model.compile` after ?\n",
      "  'Discrepancy between trainable weights and collected trainable'\n"
     ]
    },
    {
     "name": "stdout",
     "output_type": "stream",
     "text": [
      "16/16 [==============================] - 0s 24ms/step - loss: 4.6599 - acc: 0.1875\n",
      "Epoch 1/1\n",
      "8/8 [==============================] - 1s 98ms/step - loss: 64.6628 - model_1_loss: 0.0104 - conv2d_20_loss: 0.5896\n",
      "\n",
      "Epoch 00001: loss did not improve from 61.94728\n"
     ]
    },
    {
     "name": "stderr",
     "output_type": "stream",
     "text": [
      "\n",
      "32it [02:44,  4.57s/it]\u001b[A"
     ]
    },
    {
     "name": "stdout",
     "output_type": "stream",
     "text": [
      "iteration : 32\n",
      "Epoch 1/1\n",
      " 8/16 [==============>...............] - ETA: 0s - loss: 6.3578 - acc: 0.1250"
     ]
    },
    {
     "name": "stderr",
     "output_type": "stream",
     "text": [
      "/opt/conda/lib/python3.6/site-packages/keras/engine/training.py:490: UserWarning: Discrepancy between trainable weights and collected trainable weights, did you set `model.trainable` without calling `model.compile` after ?\n",
      "  'Discrepancy between trainable weights and collected trainable'\n"
     ]
    },
    {
     "name": "stdout",
     "output_type": "stream",
     "text": [
      "16/16 [==============================] - 0s 23ms/step - loss: 4.8926 - acc: 0.1875\n",
      "Epoch 1/1\n",
      "8/8 [==============================] - 1s 97ms/step - loss: 66.2694 - model_1_loss: 0.0020 - conv2d_20_loss: 0.6061\n",
      "\n",
      "Epoch 00001: loss did not improve from 61.94728\n"
     ]
    },
    {
     "name": "stderr",
     "output_type": "stream",
     "text": [
      "\n",
      "33it [02:48,  4.45s/it]\u001b[A"
     ]
    },
    {
     "name": "stdout",
     "output_type": "stream",
     "text": [
      "iteration : 33\n",
      "Epoch 1/1\n",
      " 8/16 [==============>...............] - ETA: 0s - loss: 3.7233 - acc: 0.5000"
     ]
    },
    {
     "name": "stderr",
     "output_type": "stream",
     "text": [
      "/opt/conda/lib/python3.6/site-packages/keras/engine/training.py:490: UserWarning: Discrepancy between trainable weights and collected trainable weights, did you set `model.trainable` without calling `model.compile` after ?\n",
      "  'Discrepancy between trainable weights and collected trainable'\n"
     ]
    },
    {
     "name": "stdout",
     "output_type": "stream",
     "text": [
      "16/16 [==============================] - 0s 24ms/step - loss: 4.7675 - acc: 0.3750\n",
      "Epoch 1/1\n",
      "8/8 [==============================] - 1s 98ms/step - loss: 57.2753 - model_1_loss: 0.0183 - conv2d_20_loss: 0.5154\n",
      "\n",
      "Epoch 00001: loss improved from 61.94728 to 57.27534, saving model to weights-improvement.hdf5\n"
     ]
    },
    {
     "name": "stderr",
     "output_type": "stream",
     "text": [
      "\n",
      "34it [02:53,  4.56s/it]\u001b[A"
     ]
    },
    {
     "name": "stdout",
     "output_type": "stream",
     "text": [
      "iteration : 34\n",
      "Epoch 1/1\n",
      " 8/16 [==============>...............] - ETA: 0s - loss: 5.7255 - acc: 0.1250"
     ]
    },
    {
     "name": "stderr",
     "output_type": "stream",
     "text": [
      "/opt/conda/lib/python3.6/site-packages/keras/engine/training.py:490: UserWarning: Discrepancy between trainable weights and collected trainable weights, did you set `model.trainable` without calling `model.compile` after ?\n",
      "  'Discrepancy between trainable weights and collected trainable'\n"
     ]
    },
    {
     "name": "stdout",
     "output_type": "stream",
     "text": [
      "16/16 [==============================] - 0s 23ms/step - loss: 5.3361 - acc: 0.1875\n",
      "Epoch 1/1\n",
      "8/8 [==============================] - 1s 96ms/step - loss: 63.9007 - model_1_loss: 0.0043 - conv2d_20_loss: 0.5823\n",
      "\n",
      "Epoch 00001: loss did not improve from 57.27534\n"
     ]
    },
    {
     "name": "stderr",
     "output_type": "stream",
     "text": [
      "\n",
      "35it [02:57,  4.48s/it]\u001b[A"
     ]
    },
    {
     "name": "stdout",
     "output_type": "stream",
     "text": [
      "iteration : 35\n",
      "Epoch 1/1\n",
      " 8/16 [==============>...............] - ETA: 0s - loss: 2.7759 - acc: 0.0000e+00"
     ]
    },
    {
     "name": "stderr",
     "output_type": "stream",
     "text": [
      "/opt/conda/lib/python3.6/site-packages/keras/engine/training.py:490: UserWarning: Discrepancy between trainable weights and collected trainable weights, did you set `model.trainable` without calling `model.compile` after ?\n",
      "  'Discrepancy between trainable weights and collected trainable'\n"
     ]
    },
    {
     "name": "stdout",
     "output_type": "stream",
     "text": [
      "16/16 [==============================] - 0s 23ms/step - loss: 4.6371 - acc: 0.0625\n",
      "Epoch 1/1\n",
      "8/8 [==============================] - 1s 98ms/step - loss: 62.0087 - model_1_loss: 0.0926 - conv2d_20_loss: 0.5590\n",
      "\n",
      "Epoch 00001: loss did not improve from 57.27534\n"
     ]
    },
    {
     "name": "stderr",
     "output_type": "stream",
     "text": [
      "\n",
      "36it [03:02,  4.38s/it]\u001b[A"
     ]
    },
    {
     "name": "stdout",
     "output_type": "stream",
     "text": [
      "iteration : 36\n",
      "Epoch 1/1\n",
      " 8/16 [==============>...............] - ETA: 0s - loss: 4.2909 - acc: 0.1250"
     ]
    },
    {
     "name": "stderr",
     "output_type": "stream",
     "text": [
      "/opt/conda/lib/python3.6/site-packages/keras/engine/training.py:490: UserWarning: Discrepancy between trainable weights and collected trainable weights, did you set `model.trainable` without calling `model.compile` after ?\n",
      "  'Discrepancy between trainable weights and collected trainable'\n"
     ]
    },
    {
     "name": "stdout",
     "output_type": "stream",
     "text": [
      "16/16 [==============================] - 0s 23ms/step - loss: 5.0536 - acc: 0.1250\n",
      "Epoch 1/1\n",
      "8/8 [==============================] - 1s 97ms/step - loss: 60.9251 - model_1_loss: 0.0059 - conv2d_20_loss: 0.5525\n",
      "\n",
      "Epoch 00001: loss did not improve from 57.27534\n"
     ]
    },
    {
     "name": "stderr",
     "output_type": "stream",
     "text": [
      "\n",
      "37it [03:06,  4.32s/it]\u001b[A"
     ]
    },
    {
     "name": "stdout",
     "output_type": "stream",
     "text": [
      "iteration : 37\n",
      "Epoch 1/1\n",
      " 8/16 [==============>...............] - ETA: 0s - loss: 6.8415 - acc: 0.2500"
     ]
    },
    {
     "name": "stderr",
     "output_type": "stream",
     "text": [
      "/opt/conda/lib/python3.6/site-packages/keras/engine/training.py:490: UserWarning: Discrepancy between trainable weights and collected trainable weights, did you set `model.trainable` without calling `model.compile` after ?\n",
      "  'Discrepancy between trainable weights and collected trainable'\n"
     ]
    },
    {
     "name": "stdout",
     "output_type": "stream",
     "text": [
      "16/16 [==============================] - 0s 24ms/step - loss: 5.7006 - acc: 0.2500\n",
      "Epoch 1/1\n",
      "8/8 [==============================] - 1s 98ms/step - loss: 50.5840 - model_1_loss: 0.0047 - conv2d_20_loss: 0.4491\n",
      "\n",
      "Epoch 00001: loss improved from 57.27534 to 50.58396, saving model to weights-improvement.hdf5\n"
     ]
    },
    {
     "name": "stderr",
     "output_type": "stream",
     "text": [
      "\n",
      "38it [03:11,  4.46s/it]\u001b[A"
     ]
    },
    {
     "name": "stdout",
     "output_type": "stream",
     "text": [
      "iteration : 38\n",
      "Epoch 1/1\n",
      " 8/16 [==============>...............] - ETA: 0s - loss: 4.1313 - acc: 0.3750"
     ]
    },
    {
     "name": "stderr",
     "output_type": "stream",
     "text": [
      "/opt/conda/lib/python3.6/site-packages/keras/engine/training.py:490: UserWarning: Discrepancy between trainable weights and collected trainable weights, did you set `model.trainable` without calling `model.compile` after ?\n",
      "  'Discrepancy between trainable weights and collected trainable'\n"
     ]
    },
    {
     "name": "stdout",
     "output_type": "stream",
     "text": [
      "16/16 [==============================] - 0s 23ms/step - loss: 4.8921 - acc: 0.2500\n",
      "Epoch 1/1\n",
      "8/8 [==============================] - 1s 97ms/step - loss: 56.4414 - model_1_loss: 0.0116 - conv2d_20_loss: 0.5074\n",
      "\n",
      "Epoch 00001: loss did not improve from 50.58396\n"
     ]
    },
    {
     "name": "stderr",
     "output_type": "stream",
     "text": [
      "\n",
      "39it [03:15,  4.49s/it]\u001b[A"
     ]
    },
    {
     "name": "stdout",
     "output_type": "stream",
     "text": [
      "iteration : 39\n",
      "Epoch 1/1\n",
      " 8/16 [==============>...............] - ETA: 0s - loss: 4.8113 - acc: 0.2500"
     ]
    },
    {
     "name": "stderr",
     "output_type": "stream",
     "text": [
      "/opt/conda/lib/python3.6/site-packages/keras/engine/training.py:490: UserWarning: Discrepancy between trainable weights and collected trainable weights, did you set `model.trainable` without calling `model.compile` after ?\n",
      "  'Discrepancy between trainable weights and collected trainable'\n"
     ]
    },
    {
     "name": "stdout",
     "output_type": "stream",
     "text": [
      "16/16 [==============================] - 0s 24ms/step - loss: 4.3913 - acc: 0.2500\n",
      "Epoch 1/1\n",
      "8/8 [==============================] - 1s 98ms/step - loss: 57.4296 - model_1_loss: 0.7055 - conv2d_20_loss: 0.4826\n",
      "\n",
      "Epoch 00001: loss did not improve from 50.58396\n"
     ]
    },
    {
     "name": "stderr",
     "output_type": "stream",
     "text": [
      "\n",
      "40it [03:19,  4.41s/it]\u001b[A"
     ]
    },
    {
     "name": "stdout",
     "output_type": "stream",
     "text": [
      "iteration : 40\n",
      "Epoch 1/1\n",
      " 8/16 [==============>...............] - ETA: 0s - loss: 4.6447 - acc: 0.1250"
     ]
    },
    {
     "name": "stderr",
     "output_type": "stream",
     "text": [
      "/opt/conda/lib/python3.6/site-packages/keras/engine/training.py:490: UserWarning: Discrepancy between trainable weights and collected trainable weights, did you set `model.trainable` without calling `model.compile` after ?\n",
      "  'Discrepancy between trainable weights and collected trainable'\n"
     ]
    },
    {
     "name": "stdout",
     "output_type": "stream",
     "text": [
      "16/16 [==============================] - 0s 23ms/step - loss: 3.5831 - acc: 0.3125\n",
      "Epoch 1/1\n",
      "8/8 [==============================] - 1s 97ms/step - loss: 53.2460 - model_1_loss: 0.3473 - conv2d_20_loss: 0.4586\n",
      "\n",
      "Epoch 00001: loss did not improve from 50.58396\n"
     ]
    },
    {
     "name": "stderr",
     "output_type": "stream",
     "text": [
      "\n",
      "41it [03:24,  4.34s/it]\u001b[A"
     ]
    },
    {
     "name": "stdout",
     "output_type": "stream",
     "text": [
      "iteration : 41\n",
      "Epoch 1/1\n",
      " 8/16 [==============>...............] - ETA: 0s - loss: 4.6057 - acc: 0.1250"
     ]
    },
    {
     "name": "stderr",
     "output_type": "stream",
     "text": [
      "/opt/conda/lib/python3.6/site-packages/keras/engine/training.py:490: UserWarning: Discrepancy between trainable weights and collected trainable weights, did you set `model.trainable` without calling `model.compile` after ?\n",
      "  'Discrepancy between trainable weights and collected trainable'\n"
     ]
    },
    {
     "name": "stdout",
     "output_type": "stream",
     "text": [
      "16/16 [==============================] - 0s 24ms/step - loss: 4.3702 - acc: 0.0625\n",
      "Epoch 1/1\n",
      "8/8 [==============================] - 1s 99ms/step - loss: 51.3684 - model_1_loss: 0.0246 - conv2d_20_loss: 0.4560\n",
      "\n",
      "Epoch 00001: loss did not improve from 50.58396\n"
     ]
    },
    {
     "name": "stderr",
     "output_type": "stream",
     "text": [
      "\n",
      "42it [03:28,  4.30s/it]\u001b[A"
     ]
    },
    {
     "name": "stdout",
     "output_type": "stream",
     "text": [
      "iteration : 42\n",
      "Epoch 1/1\n",
      " 8/16 [==============>...............] - ETA: 0s - loss: 5.4756 - acc: 0.0000e+00"
     ]
    },
    {
     "name": "stderr",
     "output_type": "stream",
     "text": [
      "/opt/conda/lib/python3.6/site-packages/keras/engine/training.py:490: UserWarning: Discrepancy between trainable weights and collected trainable weights, did you set `model.trainable` without calling `model.compile` after ?\n",
      "  'Discrepancy between trainable weights and collected trainable'\n"
     ]
    },
    {
     "name": "stdout",
     "output_type": "stream",
     "text": [
      "16/16 [==============================] - 0s 23ms/step - loss: 5.6746 - acc: 0.0625\n",
      "Epoch 1/1\n",
      "8/8 [==============================] - 1s 97ms/step - loss: 50.1554 - model_1_loss: 0.0016 - conv2d_20_loss: 0.4450\n",
      "\n",
      "Epoch 00001: loss improved from 50.58396 to 50.15543, saving model to weights-improvement.hdf5\n"
     ]
    },
    {
     "name": "stderr",
     "output_type": "stream",
     "text": [
      "\n",
      "43it [03:33,  4.44s/it]\u001b[A"
     ]
    },
    {
     "name": "stdout",
     "output_type": "stream",
     "text": [
      "iteration : 43\n",
      "Epoch 1/1\n",
      " 8/16 [==============>...............] - ETA: 0s - loss: 4.7386 - acc: 0.1250"
     ]
    },
    {
     "name": "stderr",
     "output_type": "stream",
     "text": [
      "/opt/conda/lib/python3.6/site-packages/keras/engine/training.py:490: UserWarning: Discrepancy between trainable weights and collected trainable weights, did you set `model.trainable` without calling `model.compile` after ?\n",
      "  'Discrepancy between trainable weights and collected trainable'\n"
     ]
    },
    {
     "name": "stdout",
     "output_type": "stream",
     "text": [
      "16/16 [==============================] - 0s 24ms/step - loss: 4.0758 - acc: 0.1875\n",
      "Epoch 1/1\n",
      "8/8 [==============================] - 1s 98ms/step - loss: 49.5707 - model_1_loss: 0.3543 - conv2d_20_loss: 0.4215\n",
      "\n",
      "Epoch 00001: loss improved from 50.15543 to 49.57071, saving model to weights-improvement.hdf5\n"
     ]
    },
    {
     "name": "stderr",
     "output_type": "stream",
     "text": [
      "\n",
      "44it [03:38,  4.70s/it]\u001b[A"
     ]
    },
    {
     "name": "stdout",
     "output_type": "stream",
     "text": [
      "iteration : 44\n",
      "Epoch 1/1\n",
      " 8/16 [==============>...............] - ETA: 0s - loss: 2.0978 - acc: 0.5000"
     ]
    },
    {
     "name": "stderr",
     "output_type": "stream",
     "text": [
      "/opt/conda/lib/python3.6/site-packages/keras/engine/training.py:490: UserWarning: Discrepancy between trainable weights and collected trainable weights, did you set `model.trainable` without calling `model.compile` after ?\n",
      "  'Discrepancy between trainable weights and collected trainable'\n"
     ]
    },
    {
     "name": "stdout",
     "output_type": "stream",
     "text": [
      "16/16 [==============================] - 0s 23ms/step - loss: 3.1375 - acc: 0.3125\n",
      "Epoch 1/1\n",
      "8/8 [==============================] - 1s 98ms/step - loss: 47.9828 - model_1_loss: 0.0199 - conv2d_20_loss: 0.4224\n",
      "\n",
      "Epoch 00001: loss improved from 49.57071 to 47.98276, saving model to weights-improvement.hdf5\n"
     ]
    },
    {
     "name": "stderr",
     "output_type": "stream",
     "text": [
      "\n",
      "45it [03:43,  4.72s/it]\u001b[A"
     ]
    },
    {
     "name": "stdout",
     "output_type": "stream",
     "text": [
      "iteration : 45\n",
      "Epoch 1/1\n",
      " 8/16 [==============>...............] - ETA: 0s - loss: 4.7375 - acc: 0.1250"
     ]
    },
    {
     "name": "stderr",
     "output_type": "stream",
     "text": [
      "/opt/conda/lib/python3.6/site-packages/keras/engine/training.py:490: UserWarning: Discrepancy between trainable weights and collected trainable weights, did you set `model.trainable` without calling `model.compile` after ?\n",
      "  'Discrepancy between trainable weights and collected trainable'\n"
     ]
    },
    {
     "name": "stdout",
     "output_type": "stream",
     "text": [
      "16/16 [==============================] - 0s 24ms/step - loss: 4.3355 - acc: 0.2500\n",
      "Epoch 1/1\n",
      "8/8 [==============================] - 1s 99ms/step - loss: 46.2046 - model_1_loss: 0.4715 - conv2d_20_loss: 0.3820\n",
      "\n",
      "Epoch 00001: loss improved from 47.98276 to 46.20459, saving model to weights-improvement.hdf5\n"
     ]
    },
    {
     "name": "stderr",
     "output_type": "stream",
     "text": [
      "\n",
      "46it [03:48,  4.90s/it]\u001b[A"
     ]
    },
    {
     "name": "stdout",
     "output_type": "stream",
     "text": [
      "iteration : 46\n",
      "Epoch 1/1\n",
      " 8/16 [==============>...............] - ETA: 0s - loss: 6.2425 - acc: 0.3750"
     ]
    },
    {
     "name": "stderr",
     "output_type": "stream",
     "text": [
      "/opt/conda/lib/python3.6/site-packages/keras/engine/training.py:490: UserWarning: Discrepancy between trainable weights and collected trainable weights, did you set `model.trainable` without calling `model.compile` after ?\n",
      "  'Discrepancy between trainable weights and collected trainable'\n"
     ]
    },
    {
     "name": "stdout",
     "output_type": "stream",
     "text": [
      "16/16 [==============================] - 0s 23ms/step - loss: 4.9206 - acc: 0.2500\n",
      "Epoch 1/1\n",
      "8/8 [==============================] - 1s 97ms/step - loss: 42.9024 - model_1_loss: 0.1057 - conv2d_20_loss: 0.3673\n",
      "\n",
      "Epoch 00001: loss improved from 46.20459 to 42.90235, saving model to weights-improvement.hdf5\n"
     ]
    },
    {
     "name": "stderr",
     "output_type": "stream",
     "text": [
      "\n",
      "47it [03:53,  4.86s/it]\u001b[A"
     ]
    },
    {
     "name": "stdout",
     "output_type": "stream",
     "text": [
      "iteration : 47\n",
      "Epoch 1/1\n",
      " 8/16 [==============>...............] - ETA: 0s - loss: 2.9397 - acc: 0.5000"
     ]
    },
    {
     "name": "stderr",
     "output_type": "stream",
     "text": [
      "/opt/conda/lib/python3.6/site-packages/keras/engine/training.py:490: UserWarning: Discrepancy between trainable weights and collected trainable weights, did you set `model.trainable` without calling `model.compile` after ?\n",
      "  'Discrepancy between trainable weights and collected trainable'\n"
     ]
    },
    {
     "name": "stdout",
     "output_type": "stream",
     "text": [
      "16/16 [==============================] - 0s 24ms/step - loss: 3.0206 - acc: 0.3750\n",
      "Epoch 1/1\n",
      "8/8 [==============================] - 1s 98ms/step - loss: 47.3918 - model_1_loss: 0.6160 - conv2d_20_loss: 0.3866\n",
      "\n",
      "Epoch 00001: loss did not improve from 42.90235\n"
     ]
    },
    {
     "name": "stderr",
     "output_type": "stream",
     "text": [
      "\n",
      "48it [03:57,  4.72s/it]\u001b[A"
     ]
    },
    {
     "name": "stdout",
     "output_type": "stream",
     "text": [
      "iteration : 48\n",
      "Epoch 1/1\n",
      " 8/16 [==============>...............] - ETA: 0s - loss: 4.4320 - acc: 0.3750"
     ]
    },
    {
     "name": "stderr",
     "output_type": "stream",
     "text": [
      "/opt/conda/lib/python3.6/site-packages/keras/engine/training.py:490: UserWarning: Discrepancy between trainable weights and collected trainable weights, did you set `model.trainable` without calling `model.compile` after ?\n",
      "  'Discrepancy between trainable weights and collected trainable'\n"
     ]
    },
    {
     "name": "stdout",
     "output_type": "stream",
     "text": [
      "16/16 [==============================] - 0s 23ms/step - loss: 4.4469 - acc: 0.2500\n",
      "Epoch 1/1\n",
      "8/8 [==============================] - 1s 97ms/step - loss: 46.8624 - model_1_loss: 0.0329 - conv2d_20_loss: 0.4105\n",
      "\n",
      "Epoch 00001: loss did not improve from 42.90235\n"
     ]
    },
    {
     "name": "stderr",
     "output_type": "stream",
     "text": [
      "\n",
      "49it [04:01,  4.56s/it]\u001b[A"
     ]
    },
    {
     "name": "stdout",
     "output_type": "stream",
     "text": [
      "iteration : 49\n",
      "Epoch 1/1\n",
      " 8/16 [==============>...............] - ETA: 0s - loss: 3.0319 - acc: 0.3750"
     ]
    },
    {
     "name": "stderr",
     "output_type": "stream",
     "text": [
      "/opt/conda/lib/python3.6/site-packages/keras/engine/training.py:490: UserWarning: Discrepancy between trainable weights and collected trainable weights, did you set `model.trainable` without calling `model.compile` after ?\n",
      "  'Discrepancy between trainable weights and collected trainable'\n"
     ]
    },
    {
     "name": "stdout",
     "output_type": "stream",
     "text": [
      "16/16 [==============================] - 0s 24ms/step - loss: 4.0612 - acc: 0.3750\n",
      "Epoch 1/1\n",
      "8/8 [==============================] - 1s 98ms/step - loss: 44.9834 - model_1_loss: 0.4637 - conv2d_20_loss: 0.3702\n",
      "\n",
      "Epoch 00001: loss did not improve from 42.90235\n"
     ]
    },
    {
     "name": "stderr",
     "output_type": "stream",
     "text": [
      "\n",
      "50it [04:05,  4.46s/it]\u001b[A"
     ]
    },
    {
     "name": "stdout",
     "output_type": "stream",
     "text": [
      "iteration : 50\n",
      "Epoch 1/1\n",
      " 8/16 [==============>...............] - ETA: 0s - loss: 2.9429 - acc: 0.3750"
     ]
    },
    {
     "name": "stderr",
     "output_type": "stream",
     "text": [
      "/opt/conda/lib/python3.6/site-packages/keras/engine/training.py:490: UserWarning: Discrepancy between trainable weights and collected trainable weights, did you set `model.trainable` without calling `model.compile` after ?\n",
      "  'Discrepancy between trainable weights and collected trainable'\n"
     ]
    },
    {
     "name": "stdout",
     "output_type": "stream",
     "text": [
      "16/16 [==============================] - 0s 23ms/step - loss: 4.1252 - acc: 0.3750\n",
      "Epoch 1/1\n",
      "8/8 [==============================] - 1s 97ms/step - loss: 41.3784 - model_1_loss: 0.0062 - conv2d_20_loss: 0.3570\n",
      "\n",
      "Epoch 00001: loss improved from 42.90235 to 41.37837, saving model to weights-improvement.hdf5\n"
     ]
    },
    {
     "name": "stderr",
     "output_type": "stream",
     "text": [
      "\n",
      "51it [04:10,  4.55s/it]\u001b[A"
     ]
    },
    {
     "name": "stdout",
     "output_type": "stream",
     "text": [
      "iteration : 51\n",
      "Epoch 1/1\n",
      " 8/16 [==============>...............] - ETA: 0s - loss: 3.6797 - acc: 0.1250"
     ]
    },
    {
     "name": "stderr",
     "output_type": "stream",
     "text": [
      "/opt/conda/lib/python3.6/site-packages/keras/engine/training.py:490: UserWarning: Discrepancy between trainable weights and collected trainable weights, did you set `model.trainable` without calling `model.compile` after ?\n",
      "  'Discrepancy between trainable weights and collected trainable'\n"
     ]
    },
    {
     "name": "stdout",
     "output_type": "stream",
     "text": [
      "16/16 [==============================] - 0s 24ms/step - loss: 5.0769 - acc: 0.1875\n",
      "Epoch 1/1\n",
      "8/8 [==============================] - 1s 98ms/step - loss: 43.3396 - model_1_loss: 0.1209 - conv2d_20_loss: 0.3709\n",
      "\n",
      "Epoch 00001: loss did not improve from 41.37837\n"
     ]
    },
    {
     "name": "stderr",
     "output_type": "stream",
     "text": [
      "\n",
      "52it [04:15,  4.51s/it]\u001b[A"
     ]
    },
    {
     "name": "stdout",
     "output_type": "stream",
     "text": [
      "iteration : 52\n",
      "Epoch 1/1\n",
      " 8/16 [==============>...............] - ETA: 0s - loss: 6.8751 - acc: 0.2500"
     ]
    },
    {
     "name": "stderr",
     "output_type": "stream",
     "text": [
      "/opt/conda/lib/python3.6/site-packages/keras/engine/training.py:490: UserWarning: Discrepancy between trainable weights and collected trainable weights, did you set `model.trainable` without calling `model.compile` after ?\n",
      "  'Discrepancy between trainable weights and collected trainable'\n"
     ]
    },
    {
     "name": "stdout",
     "output_type": "stream",
     "text": [
      "16/16 [==============================] - 0s 23ms/step - loss: 5.2814 - acc: 0.3125\n",
      "Epoch 1/1\n",
      "8/8 [==============================] - 1s 97ms/step - loss: 42.9103 - model_1_loss: 0.1280 - conv2d_20_loss: 0.3662\n",
      "\n",
      "Epoch 00001: loss did not improve from 41.37837\n"
     ]
    },
    {
     "name": "stderr",
     "output_type": "stream",
     "text": [
      "\n",
      "53it [04:19,  4.41s/it]\u001b[A"
     ]
    },
    {
     "name": "stdout",
     "output_type": "stream",
     "text": [
      "iteration : 53\n",
      "Epoch 1/1\n",
      " 8/16 [==============>...............] - ETA: 0s - loss: 4.9071 - acc: 0.1250"
     ]
    },
    {
     "name": "stderr",
     "output_type": "stream",
     "text": [
      "/opt/conda/lib/python3.6/site-packages/keras/engine/training.py:490: UserWarning: Discrepancy between trainable weights and collected trainable weights, did you set `model.trainable` without calling `model.compile` after ?\n",
      "  'Discrepancy between trainable weights and collected trainable'\n"
     ]
    },
    {
     "name": "stdout",
     "output_type": "stream",
     "text": [
      "16/16 [==============================] - 0s 24ms/step - loss: 4.4305 - acc: 0.1250\n",
      "Epoch 1/1\n",
      "8/8 [==============================] - 1s 99ms/step - loss: 41.0642 - model_1_loss: 0.0215 - conv2d_20_loss: 0.3531\n",
      "\n",
      "Epoch 00001: loss improved from 41.37837 to 41.06423, saving model to weights-improvement.hdf5\n"
     ]
    },
    {
     "name": "stderr",
     "output_type": "stream",
     "text": [
      "\n",
      "54it [04:24,  4.52s/it]\u001b[A"
     ]
    },
    {
     "name": "stdout",
     "output_type": "stream",
     "text": [
      "iteration : 54\n",
      "Epoch 1/1\n",
      " 8/16 [==============>...............] - ETA: 0s - loss: 5.1117 - acc: 0.1250"
     ]
    },
    {
     "name": "stderr",
     "output_type": "stream",
     "text": [
      "/opt/conda/lib/python3.6/site-packages/keras/engine/training.py:490: UserWarning: Discrepancy between trainable weights and collected trainable weights, did you set `model.trainable` without calling `model.compile` after ?\n",
      "  'Discrepancy between trainable weights and collected trainable'\n"
     ]
    },
    {
     "name": "stdout",
     "output_type": "stream",
     "text": [
      "16/16 [==============================] - 0s 23ms/step - loss: 4.6361 - acc: 0.0625\n",
      "Epoch 1/1\n",
      "8/8 [==============================] - 1s 97ms/step - loss: 40.5767 - model_1_loss: 0.1131 - conv2d_20_loss: 0.3436\n",
      "\n",
      "Epoch 00001: loss improved from 41.06423 to 40.57669, saving model to weights-improvement.hdf5\n"
     ]
    },
    {
     "name": "stderr",
     "output_type": "stream",
     "text": [
      "\n",
      "55it [04:29,  4.74s/it]\u001b[A"
     ]
    },
    {
     "name": "stdout",
     "output_type": "stream",
     "text": [
      "iteration : 55\n",
      "Epoch 1/1\n",
      " 8/16 [==============>...............] - ETA: 0s - loss: 3.9205 - acc: 0.1250"
     ]
    },
    {
     "name": "stderr",
     "output_type": "stream",
     "text": [
      "/opt/conda/lib/python3.6/site-packages/keras/engine/training.py:490: UserWarning: Discrepancy between trainable weights and collected trainable weights, did you set `model.trainable` without calling `model.compile` after ?\n",
      "  'Discrepancy between trainable weights and collected trainable'\n"
     ]
    },
    {
     "name": "stdout",
     "output_type": "stream",
     "text": [
      "16/16 [==============================] - 0s 24ms/step - loss: 4.1429 - acc: 0.1875\n",
      "Epoch 1/1\n",
      "8/8 [==============================] - 1s 98ms/step - loss: 40.8444 - model_1_loss: 0.0152 - conv2d_20_loss: 0.3512\n",
      "\n",
      "Epoch 00001: loss did not improve from 40.57669\n"
     ]
    },
    {
     "name": "stderr",
     "output_type": "stream",
     "text": [
      "\n",
      "56it [04:33,  4.63s/it]\u001b[A"
     ]
    },
    {
     "name": "stdout",
     "output_type": "stream",
     "text": [
      "iteration : 56\n",
      "Epoch 1/1\n",
      " 8/16 [==============>...............] - ETA: 0s - loss: 6.5132 - acc: 0.0000e+00"
     ]
    },
    {
     "name": "stderr",
     "output_type": "stream",
     "text": [
      "/opt/conda/lib/python3.6/site-packages/keras/engine/training.py:490: UserWarning: Discrepancy between trainable weights and collected trainable weights, did you set `model.trainable` without calling `model.compile` after ?\n",
      "  'Discrepancy between trainable weights and collected trainable'\n"
     ]
    },
    {
     "name": "stdout",
     "output_type": "stream",
     "text": [
      "16/16 [==============================] - 0s 23ms/step - loss: 5.4349 - acc: 0.1250\n",
      "Epoch 1/1\n",
      "8/8 [==============================] - 1s 97ms/step - loss: 39.8835 - model_1_loss: 0.0108 - conv2d_20_loss: 0.3418\n",
      "\n",
      "Epoch 00001: loss improved from 40.57669 to 39.88345, saving model to weights-improvement.hdf5\n"
     ]
    },
    {
     "name": "stderr",
     "output_type": "stream",
     "text": [
      "\n",
      "57it [04:38,  4.69s/it]\u001b[A"
     ]
    },
    {
     "name": "stdout",
     "output_type": "stream",
     "text": [
      "iteration : 57\n",
      "Epoch 1/1\n",
      " 8/16 [==============>...............] - ETA: 0s - loss: 5.4262 - acc: 0.2500"
     ]
    },
    {
     "name": "stderr",
     "output_type": "stream",
     "text": [
      "/opt/conda/lib/python3.6/site-packages/keras/engine/training.py:490: UserWarning: Discrepancy between trainable weights and collected trainable weights, did you set `model.trainable` without calling `model.compile` after ?\n",
      "  'Discrepancy between trainable weights and collected trainable'\n"
     ]
    },
    {
     "name": "stdout",
     "output_type": "stream",
     "text": [
      "16/16 [==============================] - 0s 24ms/step - loss: 5.1974 - acc: 0.1875\n",
      "Epoch 1/1\n",
      "8/8 [==============================] - 1s 98ms/step - loss: 39.7044 - model_1_loss: 0.1350 - conv2d_20_loss: 0.3338\n",
      "\n",
      "Epoch 00001: loss improved from 39.88345 to 39.70444, saving model to weights-improvement.hdf5\n"
     ]
    },
    {
     "name": "stderr",
     "output_type": "stream",
     "text": [
      "\n",
      "58it [04:45,  5.25s/it]\u001b[A"
     ]
    },
    {
     "name": "stdout",
     "output_type": "stream",
     "text": [
      "iteration : 58\n",
      "Epoch 1/1\n",
      " 8/16 [==============>...............] - ETA: 0s - loss: 5.6538 - acc: 0.3750"
     ]
    },
    {
     "name": "stderr",
     "output_type": "stream",
     "text": [
      "/opt/conda/lib/python3.6/site-packages/keras/engine/training.py:490: UserWarning: Discrepancy between trainable weights and collected trainable weights, did you set `model.trainable` without calling `model.compile` after ?\n",
      "  'Discrepancy between trainable weights and collected trainable'\n"
     ]
    },
    {
     "name": "stdout",
     "output_type": "stream",
     "text": [
      "16/16 [==============================] - 0s 23ms/step - loss: 5.3444 - acc: 0.3125\n",
      "Epoch 1/1\n",
      "8/8 [==============================] - 1s 97ms/step - loss: 37.5643 - model_1_loss: 0.0016 - conv2d_20_loss: 0.3191\n",
      "\n",
      "Epoch 00001: loss improved from 39.70444 to 37.56434, saving model to weights-improvement.hdf5\n"
     ]
    },
    {
     "name": "stderr",
     "output_type": "stream",
     "text": [
      "\n",
      "59it [04:50,  5.17s/it]\u001b[A"
     ]
    },
    {
     "name": "stdout",
     "output_type": "stream",
     "text": [
      "iteration : 59\n",
      "Epoch 1/1\n",
      " 8/16 [==============>...............] - ETA: 0s - loss: 4.2879 - acc: 0.3750"
     ]
    },
    {
     "name": "stderr",
     "output_type": "stream",
     "text": [
      "/opt/conda/lib/python3.6/site-packages/keras/engine/training.py:490: UserWarning: Discrepancy between trainable weights and collected trainable weights, did you set `model.trainable` without calling `model.compile` after ?\n",
      "  'Discrepancy between trainable weights and collected trainable'\n"
     ]
    },
    {
     "name": "stdout",
     "output_type": "stream",
     "text": [
      "16/16 [==============================] - 0s 24ms/step - loss: 5.4552 - acc: 0.2500\n",
      "Epoch 1/1\n",
      "8/8 [==============================] - 1s 98ms/step - loss: 36.6660 - model_1_loss: 0.0128 - conv2d_20_loss: 0.3095\n",
      "\n",
      "Epoch 00001: loss improved from 37.56434 to 36.66596, saving model to weights-improvement.hdf5\n"
     ]
    },
    {
     "name": "stderr",
     "output_type": "stream",
     "text": [
      "\n",
      "60it [04:54,  5.06s/it]\u001b[A"
     ]
    },
    {
     "name": "stdout",
     "output_type": "stream",
     "text": [
      "iteration : 60\n",
      "Epoch 1/1\n",
      " 8/16 [==============>...............] - ETA: 0s - loss: 4.5552 - acc: 0.2500"
     ]
    },
    {
     "name": "stderr",
     "output_type": "stream",
     "text": [
      "/opt/conda/lib/python3.6/site-packages/keras/engine/training.py:490: UserWarning: Discrepancy between trainable weights and collected trainable weights, did you set `model.trainable` without calling `model.compile` after ?\n",
      "  'Discrepancy between trainable weights and collected trainable'\n"
     ]
    },
    {
     "name": "stdout",
     "output_type": "stream",
     "text": [
      "16/16 [==============================] - 0s 23ms/step - loss: 4.1262 - acc: 0.3125\n",
      "Epoch 1/1\n",
      "8/8 [==============================] - 1s 97ms/step - loss: 37.3033 - model_1_loss: 0.0011 - conv2d_20_loss: 0.3165\n",
      "\n",
      "Epoch 00001: loss did not improve from 36.66596\n"
     ]
    },
    {
     "name": "stderr",
     "output_type": "stream",
     "text": [
      "\n",
      "61it [04:59,  4.86s/it]\u001b[A"
     ]
    },
    {
     "name": "stdout",
     "output_type": "stream",
     "text": [
      "iteration : 61\n",
      "Epoch 1/1\n",
      " 8/16 [==============>...............] - ETA: 0s - loss: 6.9653 - acc: 0.1250"
     ]
    },
    {
     "name": "stderr",
     "output_type": "stream",
     "text": [
      "/opt/conda/lib/python3.6/site-packages/keras/engine/training.py:490: UserWarning: Discrepancy between trainable weights and collected trainable weights, did you set `model.trainable` without calling `model.compile` after ?\n",
      "  'Discrepancy between trainable weights and collected trainable'\n"
     ]
    },
    {
     "name": "stdout",
     "output_type": "stream",
     "text": [
      "16/16 [==============================] - 0s 24ms/step - loss: 5.4338 - acc: 0.0625\n",
      "Epoch 1/1\n",
      "8/8 [==============================] - 1s 99ms/step - loss: 36.4653 - model_1_loss: 0.0672 - conv2d_20_loss: 0.3048\n",
      "\n",
      "Epoch 00001: loss improved from 36.66596 to 36.46528, saving model to weights-improvement.hdf5\n"
     ]
    },
    {
     "name": "stderr",
     "output_type": "stream",
     "text": [
      "\n",
      "62it [05:04,  4.84s/it]\u001b[A"
     ]
    },
    {
     "name": "stdout",
     "output_type": "stream",
     "text": [
      "iteration : 62\n",
      "Epoch 1/1\n",
      " 8/16 [==============>...............] - ETA: 0s - loss: 6.6067 - acc: 0.1250"
     ]
    },
    {
     "name": "stderr",
     "output_type": "stream",
     "text": [
      "/opt/conda/lib/python3.6/site-packages/keras/engine/training.py:490: UserWarning: Discrepancy between trainable weights and collected trainable weights, did you set `model.trainable` without calling `model.compile` after ?\n",
      "  'Discrepancy between trainable weights and collected trainable'\n"
     ]
    },
    {
     "name": "stdout",
     "output_type": "stream",
     "text": [
      "16/16 [==============================] - 0s 23ms/step - loss: 6.1287 - acc: 0.1250\n",
      "Epoch 1/1\n",
      "8/8 [==============================] - 1s 97ms/step - loss: 35.0938 - model_1_loss: 0.0075 - conv2d_20_loss: 0.2941\n",
      "\n",
      "Epoch 00001: loss improved from 36.46528 to 35.09378, saving model to weights-improvement.hdf5\n"
     ]
    },
    {
     "name": "stderr",
     "output_type": "stream",
     "text": [
      "\n",
      "63it [05:09,  4.92s/it]\u001b[A"
     ]
    },
    {
     "name": "stdout",
     "output_type": "stream",
     "text": [
      "iteration : 63\n",
      "Epoch 1/1\n",
      " 8/16 [==============>...............] - ETA: 0s - loss: 4.6178 - acc: 0.2500"
     ]
    },
    {
     "name": "stderr",
     "output_type": "stream",
     "text": [
      "/opt/conda/lib/python3.6/site-packages/keras/engine/training.py:490: UserWarning: Discrepancy between trainable weights and collected trainable weights, did you set `model.trainable` without calling `model.compile` after ?\n",
      "  'Discrepancy between trainable weights and collected trainable'\n"
     ]
    },
    {
     "name": "stdout",
     "output_type": "stream",
     "text": [
      "16/16 [==============================] - 0s 24ms/step - loss: 4.7799 - acc: 0.2500\n",
      "Epoch 1/1\n",
      "8/8 [==============================] - 1s 98ms/step - loss: 36.0435 - model_1_loss: 0.0027 - conv2d_20_loss: 0.3038\n",
      "\n",
      "Epoch 00001: loss did not improve from 35.09378\n"
     ]
    },
    {
     "name": "stderr",
     "output_type": "stream",
     "text": [
      "\n",
      "64it [05:13,  4.75s/it]\u001b[A"
     ]
    },
    {
     "name": "stdout",
     "output_type": "stream",
     "text": [
      "iteration : 64\n",
      "Epoch 1/1\n",
      " 8/16 [==============>...............] - ETA: 0s - loss: 5.5168 - acc: 0.0000e+00"
     ]
    },
    {
     "name": "stderr",
     "output_type": "stream",
     "text": [
      "/opt/conda/lib/python3.6/site-packages/keras/engine/training.py:490: UserWarning: Discrepancy between trainable weights and collected trainable weights, did you set `model.trainable` without calling `model.compile` after ?\n",
      "  'Discrepancy between trainable weights and collected trainable'\n"
     ]
    },
    {
     "name": "stdout",
     "output_type": "stream",
     "text": [
      "16/16 [==============================] - 0s 23ms/step - loss: 5.4126 - acc: 0.1875\n",
      "Epoch 1/1\n",
      "8/8 [==============================] - 1s 97ms/step - loss: 34.4591 - model_1_loss: 0.0021 - conv2d_20_loss: 0.2880\n",
      "\n",
      "Epoch 00001: loss improved from 35.09378 to 34.45906, saving model to weights-improvement.hdf5\n"
     ]
    },
    {
     "name": "stderr",
     "output_type": "stream",
     "text": [
      "\n",
      "65it [05:18,  4.84s/it]\u001b[A"
     ]
    },
    {
     "name": "stdout",
     "output_type": "stream",
     "text": [
      "iteration : 65\n",
      "Epoch 1/1\n",
      " 8/16 [==============>...............] - ETA: 0s - loss: 5.9400 - acc: 0.2500"
     ]
    },
    {
     "name": "stderr",
     "output_type": "stream",
     "text": [
      "/opt/conda/lib/python3.6/site-packages/keras/engine/training.py:490: UserWarning: Discrepancy between trainable weights and collected trainable weights, did you set `model.trainable` without calling `model.compile` after ?\n",
      "  'Discrepancy between trainable weights and collected trainable'\n"
     ]
    },
    {
     "name": "stdout",
     "output_type": "stream",
     "text": [
      "16/16 [==============================] - 0s 24ms/step - loss: 5.6314 - acc: 0.1875\n",
      "Epoch 1/1\n",
      "8/8 [==============================] - 1s 99ms/step - loss: 34.2677 - model_1_loss: 0.0101 - conv2d_20_loss: 0.2857\n",
      "\n",
      "Epoch 00001: loss improved from 34.45906 to 34.26767, saving model to weights-improvement.hdf5\n"
     ]
    },
    {
     "name": "stderr",
     "output_type": "stream",
     "text": [
      "\n",
      "66it [05:23,  4.83s/it]\u001b[A"
     ]
    },
    {
     "name": "stdout",
     "output_type": "stream",
     "text": [
      "iteration : 66\n",
      "Epoch 1/1\n",
      " 8/16 [==============>...............] - ETA: 0s - loss: 7.0355 - acc: 0.1250"
     ]
    },
    {
     "name": "stderr",
     "output_type": "stream",
     "text": [
      "/opt/conda/lib/python3.6/site-packages/keras/engine/training.py:490: UserWarning: Discrepancy between trainable weights and collected trainable weights, did you set `model.trainable` without calling `model.compile` after ?\n",
      "  'Discrepancy between trainable weights and collected trainable'\n"
     ]
    },
    {
     "name": "stdout",
     "output_type": "stream",
     "text": [
      "16/16 [==============================] - 0s 23ms/step - loss: 7.4044 - acc: 0.1250\n",
      "Epoch 1/1\n",
      "8/8 [==============================] - 1s 97ms/step - loss: 32.2097 - model_1_loss: 0.0015 - conv2d_20_loss: 0.2655\n",
      "\n",
      "Epoch 00001: loss improved from 34.26767 to 32.20974, saving model to weights-improvement.hdf5\n"
     ]
    },
    {
     "name": "stderr",
     "output_type": "stream",
     "text": [
      "\n",
      "67it [05:28,  4.88s/it]\u001b[A"
     ]
    },
    {
     "name": "stdout",
     "output_type": "stream",
     "text": [
      "iteration : 67\n",
      "Epoch 1/1\n",
      " 8/16 [==============>...............] - ETA: 0s - loss: 2.8267 - acc: 0.3750"
     ]
    },
    {
     "name": "stderr",
     "output_type": "stream",
     "text": [
      "/opt/conda/lib/python3.6/site-packages/keras/engine/training.py:490: UserWarning: Discrepancy between trainable weights and collected trainable weights, did you set `model.trainable` without calling `model.compile` after ?\n",
      "  'Discrepancy between trainable weights and collected trainable'\n"
     ]
    },
    {
     "name": "stdout",
     "output_type": "stream",
     "text": [
      "16/16 [==============================] - 0s 24ms/step - loss: 5.2270 - acc: 0.2500\n",
      "Epoch 1/1\n",
      "8/8 [==============================] - 1s 99ms/step - loss: 32.2490 - model_1_loss: 0.0022 - conv2d_20_loss: 0.2659\n",
      "\n",
      "Epoch 00001: loss did not improve from 32.20974\n"
     ]
    },
    {
     "name": "stderr",
     "output_type": "stream",
     "text": [
      "\n",
      "68it [05:32,  4.73s/it]\u001b[A"
     ]
    },
    {
     "name": "stdout",
     "output_type": "stream",
     "text": [
      "iteration : 68\n",
      "Epoch 1/1\n",
      " 8/16 [==============>...............] - ETA: 0s - loss: 4.9370 - acc: 0.2500"
     ]
    },
    {
     "name": "stderr",
     "output_type": "stream",
     "text": [
      "/opt/conda/lib/python3.6/site-packages/keras/engine/training.py:490: UserWarning: Discrepancy between trainable weights and collected trainable weights, did you set `model.trainable` without calling `model.compile` after ?\n",
      "  'Discrepancy between trainable weights and collected trainable'\n"
     ]
    },
    {
     "name": "stdout",
     "output_type": "stream",
     "text": [
      "16/16 [==============================] - 0s 23ms/step - loss: 6.1477 - acc: 0.1250\n",
      "Epoch 1/1\n",
      "8/8 [==============================] - 1s 98ms/step - loss: 31.6217 - model_1_loss: 0.0081 - conv2d_20_loss: 0.2593\n",
      "\n",
      "Epoch 00001: loss improved from 32.20974 to 31.62174, saving model to weights-improvement.hdf5\n"
     ]
    },
    {
     "name": "stderr",
     "output_type": "stream",
     "text": [
      "\n",
      "69it [05:37,  4.75s/it]\u001b[A"
     ]
    },
    {
     "name": "stdout",
     "output_type": "stream",
     "text": [
      "iteration : 69\n"
     ]
    },
    {
     "name": "stderr",
     "output_type": "stream",
     "text": [
      "/opt/conda/lib/python3.6/site-packages/keras/engine/training.py:490: UserWarning: Discrepancy between trainable weights and collected trainable weights, did you set `model.trainable` without calling `model.compile` after ?\n",
      "  'Discrepancy between trainable weights and collected trainable'\n"
     ]
    },
    {
     "name": "stdout",
     "output_type": "stream",
     "text": [
      "Epoch 1/1\n",
      "16/16 [==============================] - 0s 24ms/step - loss: 6.2512 - acc: 0.1875\n",
      "Epoch 1/1\n",
      "8/8 [==============================] - 1s 99ms/step - loss: 31.8049 - model_1_loss: 0.0016 - conv2d_20_loss: 0.2615\n",
      "\n",
      "Epoch 00001: loss did not improve from 31.62174\n"
     ]
    },
    {
     "name": "stderr",
     "output_type": "stream",
     "text": [
      "\n",
      "70it [05:42,  4.66s/it]\u001b[A"
     ]
    },
    {
     "name": "stdout",
     "output_type": "stream",
     "text": [
      "iteration : 70\n",
      "Epoch 1/1\n",
      " 8/16 [==============>...............] - ETA: 0s - loss: 3.5969 - acc: 0.2500"
     ]
    },
    {
     "name": "stderr",
     "output_type": "stream",
     "text": [
      "/opt/conda/lib/python3.6/site-packages/keras/engine/training.py:490: UserWarning: Discrepancy between trainable weights and collected trainable weights, did you set `model.trainable` without calling `model.compile` after ?\n",
      "  'Discrepancy between trainable weights and collected trainable'\n"
     ]
    },
    {
     "name": "stdout",
     "output_type": "stream",
     "text": [
      "16/16 [==============================] - 0s 23ms/step - loss: 4.8806 - acc: 0.2500\n",
      "Epoch 1/1\n",
      "8/8 [==============================] - 1s 97ms/step - loss: 33.7142 - model_1_loss: 0.1505 - conv2d_20_loss: 0.2731\n",
      "\n",
      "Epoch 00001: loss did not improve from 31.62174\n"
     ]
    },
    {
     "name": "stderr",
     "output_type": "stream",
     "text": [
      "\n",
      "71it [05:46,  4.52s/it]\u001b[A"
     ]
    },
    {
     "name": "stdout",
     "output_type": "stream",
     "text": [
      "iteration : 71\n",
      "Epoch 1/1\n",
      " 8/16 [==============>...............] - ETA: 0s - loss: 7.3898 - acc: 0.0000e+00"
     ]
    },
    {
     "name": "stderr",
     "output_type": "stream",
     "text": [
      "/opt/conda/lib/python3.6/site-packages/keras/engine/training.py:490: UserWarning: Discrepancy between trainable weights and collected trainable weights, did you set `model.trainable` without calling `model.compile` after ?\n",
      "  'Discrepancy between trainable weights and collected trainable'\n"
     ]
    },
    {
     "name": "stdout",
     "output_type": "stream",
     "text": [
      "16/16 [==============================] - 0s 24ms/step - loss: 6.8005 - acc: 0.1250\n",
      "Epoch 1/1\n",
      "8/8 [==============================] - 1s 98ms/step - loss: 29.7701 - model_1_loss: 0.0057 - conv2d_20_loss: 0.2409\n",
      "\n",
      "Epoch 00001: loss improved from 31.62174 to 29.77009, saving model to weights-improvement.hdf5\n"
     ]
    },
    {
     "name": "stderr",
     "output_type": "stream",
     "text": [
      "\n",
      "72it [05:51,  4.60s/it]\u001b[A"
     ]
    },
    {
     "name": "stdout",
     "output_type": "stream",
     "text": [
      "iteration : 72\n",
      "Epoch 1/1\n",
      " 8/16 [==============>...............] - ETA: 0s - loss: 6.9367 - acc: 0.1250"
     ]
    },
    {
     "name": "stderr",
     "output_type": "stream",
     "text": [
      "/opt/conda/lib/python3.6/site-packages/keras/engine/training.py:490: UserWarning: Discrepancy between trainable weights and collected trainable weights, did you set `model.trainable` without calling `model.compile` after ?\n",
      "  'Discrepancy between trainable weights and collected trainable'\n"
     ]
    },
    {
     "name": "stdout",
     "output_type": "stream",
     "text": [
      "16/16 [==============================] - 0s 23ms/step - loss: 6.6969 - acc: 0.1875\n",
      "Epoch 1/1\n",
      "8/8 [==============================] - 1s 97ms/step - loss: 30.1502 - model_1_loss: 0.0690 - conv2d_20_loss: 0.2416\n",
      "\n",
      "Epoch 00001: loss did not improve from 29.77009\n"
     ]
    },
    {
     "name": "stderr",
     "output_type": "stream",
     "text": [
      "\n",
      "73it [05:55,  4.55s/it]\u001b[A"
     ]
    },
    {
     "name": "stdout",
     "output_type": "stream",
     "text": [
      "iteration : 73\n",
      "Epoch 1/1\n",
      " 8/16 [==============>...............] - ETA: 0s - loss: 5.3115 - acc: 0.0000e+00"
     ]
    },
    {
     "name": "stderr",
     "output_type": "stream",
     "text": [
      "/opt/conda/lib/python3.6/site-packages/keras/engine/training.py:490: UserWarning: Discrepancy between trainable weights and collected trainable weights, did you set `model.trainable` without calling `model.compile` after ?\n",
      "  'Discrepancy between trainable weights and collected trainable'\n"
     ]
    },
    {
     "name": "stdout",
     "output_type": "stream",
     "text": [
      "16/16 [==============================] - 0s 24ms/step - loss: 5.3073 - acc: 0.1250\n",
      "Epoch 1/1\n",
      "8/8 [==============================] - 1s 98ms/step - loss: 29.1381 - model_1_loss: 0.0226 - conv2d_20_loss: 0.2338\n",
      "\n",
      "Epoch 00001: loss improved from 29.77009 to 29.13809, saving model to weights-improvement.hdf5\n"
     ]
    },
    {
     "name": "stderr",
     "output_type": "stream",
     "text": [
      "\n",
      "74it [06:00,  4.62s/it]\u001b[A"
     ]
    },
    {
     "name": "stdout",
     "output_type": "stream",
     "text": [
      "iteration : 74\n",
      "Epoch 1/1\n",
      " 8/16 [==============>...............] - ETA: 0s - loss: 5.7833 - acc: 0.3750"
     ]
    },
    {
     "name": "stderr",
     "output_type": "stream",
     "text": [
      "/opt/conda/lib/python3.6/site-packages/keras/engine/training.py:490: UserWarning: Discrepancy between trainable weights and collected trainable weights, did you set `model.trainable` without calling `model.compile` after ?\n",
      "  'Discrepancy between trainable weights and collected trainable'\n"
     ]
    },
    {
     "name": "stdout",
     "output_type": "stream",
     "text": [
      "16/16 [==============================] - 0s 23ms/step - loss: 5.5150 - acc: 0.4375\n",
      "Epoch 1/1\n",
      "8/8 [==============================] - 1s 97ms/step - loss: 30.1521 - model_1_loss: 0.0476 - conv2d_20_loss: 0.2427\n",
      "\n",
      "Epoch 00001: loss did not improve from 29.13809\n"
     ]
    },
    {
     "name": "stderr",
     "output_type": "stream",
     "text": [
      "\n",
      "75it [06:04,  4.55s/it]\u001b[A"
     ]
    },
    {
     "name": "stdout",
     "output_type": "stream",
     "text": [
      "iteration : 75\n",
      "Epoch 1/1\n",
      " 8/16 [==============>...............] - ETA: 0s - loss: 3.9408 - acc: 0.2500"
     ]
    },
    {
     "name": "stderr",
     "output_type": "stream",
     "text": [
      "/opt/conda/lib/python3.6/site-packages/keras/engine/training.py:490: UserWarning: Discrepancy between trainable weights and collected trainable weights, did you set `model.trainable` without calling `model.compile` after ?\n",
      "  'Discrepancy between trainable weights and collected trainable'\n"
     ]
    },
    {
     "name": "stdout",
     "output_type": "stream",
     "text": [
      "16/16 [==============================] - 0s 24ms/step - loss: 4.2349 - acc: 0.1875\n",
      "Epoch 1/1\n",
      "8/8 [==============================] - 1s 98ms/step - loss: 30.1951 - model_1_loss: 0.0490 - conv2d_20_loss: 0.2430\n",
      "\n",
      "Epoch 00001: loss did not improve from 29.13809\n"
     ]
    },
    {
     "name": "stderr",
     "output_type": "stream",
     "text": [
      "\n",
      "76it [06:08,  4.46s/it]\u001b[A"
     ]
    },
    {
     "name": "stdout",
     "output_type": "stream",
     "text": [
      "iteration : 76\n",
      "Epoch 1/1\n",
      " 8/16 [==============>...............] - ETA: 0s - loss: 5.0026 - acc: 0.1250"
     ]
    },
    {
     "name": "stderr",
     "output_type": "stream",
     "text": [
      "/opt/conda/lib/python3.6/site-packages/keras/engine/training.py:490: UserWarning: Discrepancy between trainable weights and collected trainable weights, did you set `model.trainable` without calling `model.compile` after ?\n",
      "  'Discrepancy between trainable weights and collected trainable'\n"
     ]
    },
    {
     "name": "stdout",
     "output_type": "stream",
     "text": [
      "16/16 [==============================] - 0s 23ms/step - loss: 5.8753 - acc: 0.1250\n",
      "Epoch 1/1\n",
      "8/8 [==============================] - 1s 97ms/step - loss: 29.6343 - model_1_loss: 0.0016 - conv2d_20_loss: 0.2398\n",
      "\n",
      "Epoch 00001: loss did not improve from 29.13809\n"
     ]
    },
    {
     "name": "stderr",
     "output_type": "stream",
     "text": [
      "\n",
      "77it [06:13,  4.38s/it]\u001b[A"
     ]
    },
    {
     "name": "stdout",
     "output_type": "stream",
     "text": [
      "iteration : 77\n",
      "Epoch 1/1\n",
      " 8/16 [==============>...............] - ETA: 0s - loss: 6.8610 - acc: 0.1250"
     ]
    },
    {
     "name": "stderr",
     "output_type": "stream",
     "text": [
      "/opt/conda/lib/python3.6/site-packages/keras/engine/training.py:490: UserWarning: Discrepancy between trainable weights and collected trainable weights, did you set `model.trainable` without calling `model.compile` after ?\n",
      "  'Discrepancy between trainable weights and collected trainable'\n"
     ]
    },
    {
     "name": "stdout",
     "output_type": "stream",
     "text": [
      "16/16 [==============================] - 0s 24ms/step - loss: 6.5070 - acc: 0.1875\n",
      "Epoch 1/1\n",
      "8/8 [==============================] - 1s 99ms/step - loss: 28.2659 - model_1_loss: 0.0047 - conv2d_20_loss: 0.2260\n",
      "\n",
      "Epoch 00001: loss improved from 29.13809 to 28.26589, saving model to weights-improvement.hdf5\n"
     ]
    },
    {
     "name": "stderr",
     "output_type": "stream",
     "text": [
      "\n",
      "78it [06:17,  4.51s/it]\u001b[A"
     ]
    },
    {
     "name": "stdout",
     "output_type": "stream",
     "text": [
      "iteration : 78\n",
      "Epoch 1/1\n",
      " 8/16 [==============>...............] - ETA: 0s - loss: 5.6815 - acc: 0.2500"
     ]
    },
    {
     "name": "stderr",
     "output_type": "stream",
     "text": [
      "/opt/conda/lib/python3.6/site-packages/keras/engine/training.py:490: UserWarning: Discrepancy between trainable weights and collected trainable weights, did you set `model.trainable` without calling `model.compile` after ?\n",
      "  'Discrepancy between trainable weights and collected trainable'\n"
     ]
    },
    {
     "name": "stdout",
     "output_type": "stream",
     "text": [
      "16/16 [==============================] - 0s 23ms/step - loss: 6.8419 - acc: 0.1875\n",
      "Epoch 1/1\n",
      "8/8 [==============================] - 1s 96ms/step - loss: 28.4688 - model_1_loss: 0.0057 - conv2d_20_loss: 0.2279\n",
      "\n",
      "Epoch 00001: loss did not improve from 28.26589\n"
     ]
    },
    {
     "name": "stderr",
     "output_type": "stream",
     "text": [
      "\n",
      "79it [06:22,  4.43s/it]\u001b[A"
     ]
    },
    {
     "name": "stdout",
     "output_type": "stream",
     "text": [
      "iteration : 79\n",
      "Epoch 1/1\n",
      " 8/16 [==============>...............] - ETA: 0s - loss: 5.6032 - acc: 0.1250"
     ]
    },
    {
     "name": "stderr",
     "output_type": "stream",
     "text": [
      "/opt/conda/lib/python3.6/site-packages/keras/engine/training.py:490: UserWarning: Discrepancy between trainable weights and collected trainable weights, did you set `model.trainable` without calling `model.compile` after ?\n",
      "  'Discrepancy between trainable weights and collected trainable'\n"
     ]
    },
    {
     "name": "stdout",
     "output_type": "stream",
     "text": [
      "16/16 [==============================] - 0s 24ms/step - loss: 6.2882 - acc: 0.1250\n",
      "Epoch 1/1\n",
      "8/8 [==============================] - 1s 99ms/step - loss: 27.3780 - model_1_loss: 9.5191e-04 - conv2d_20_loss: 0.2173\n",
      "\n",
      "Epoch 00001: loss improved from 28.26589 to 27.37798, saving model to weights-improvement.hdf5\n"
     ]
    },
    {
     "name": "stderr",
     "output_type": "stream",
     "text": [
      "\n",
      "80it [06:26,  4.55s/it]\u001b[A"
     ]
    },
    {
     "name": "stdout",
     "output_type": "stream",
     "text": [
      "iteration : 80\n",
      "Epoch 1/1\n",
      " 8/16 [==============>...............] - ETA: 0s - loss: 7.2809 - acc: 0.0000e+00"
     ]
    },
    {
     "name": "stderr",
     "output_type": "stream",
     "text": [
      "/opt/conda/lib/python3.6/site-packages/keras/engine/training.py:490: UserWarning: Discrepancy between trainable weights and collected trainable weights, did you set `model.trainable` without calling `model.compile` after ?\n",
      "  'Discrepancy between trainable weights and collected trainable'\n"
     ]
    },
    {
     "name": "stdout",
     "output_type": "stream",
     "text": [
      "16/16 [==============================] - 0s 23ms/step - loss: 6.2256 - acc: 0.0625\n",
      "Epoch 1/1\n",
      "8/8 [==============================] - 1s 97ms/step - loss: 28.2181 - model_1_loss: 0.0069 - conv2d_20_loss: 0.2254\n",
      "\n",
      "Epoch 00001: loss did not improve from 27.37798\n"
     ]
    },
    {
     "name": "stderr",
     "output_type": "stream",
     "text": [
      "\n",
      "81it [06:31,  4.49s/it]\u001b[A"
     ]
    },
    {
     "name": "stdout",
     "output_type": "stream",
     "text": [
      "iteration : 81\n",
      "Epoch 1/1\n",
      " 8/16 [==============>...............] - ETA: 0s - loss: 7.6091 - acc: 0.2500"
     ]
    },
    {
     "name": "stderr",
     "output_type": "stream",
     "text": [
      "/opt/conda/lib/python3.6/site-packages/keras/engine/training.py:490: UserWarning: Discrepancy between trainable weights and collected trainable weights, did you set `model.trainable` without calling `model.compile` after ?\n",
      "  'Discrepancy between trainable weights and collected trainable'\n"
     ]
    },
    {
     "name": "stdout",
     "output_type": "stream",
     "text": [
      "16/16 [==============================] - 0s 24ms/step - loss: 6.5427 - acc: 0.1875\n",
      "Epoch 1/1\n",
      "8/8 [==============================] - 1s 98ms/step - loss: 26.7590 - model_1_loss: 7.2257e-04 - conv2d_20_loss: 0.2111\n",
      "\n",
      "Epoch 00001: loss improved from 27.37798 to 26.75901, saving model to weights-improvement.hdf5\n"
     ]
    },
    {
     "name": "stderr",
     "output_type": "stream",
     "text": [
      "\n",
      "82it [06:36,  4.59s/it]\u001b[A"
     ]
    },
    {
     "name": "stdout",
     "output_type": "stream",
     "text": [
      "iteration : 82\n",
      "Epoch 1/1\n",
      " 8/16 [==============>...............] - ETA: 0s - loss: 6.7351 - acc: 0.1250"
     ]
    },
    {
     "name": "stderr",
     "output_type": "stream",
     "text": [
      "/opt/conda/lib/python3.6/site-packages/keras/engine/training.py:490: UserWarning: Discrepancy between trainable weights and collected trainable weights, did you set `model.trainable` without calling `model.compile` after ?\n",
      "  'Discrepancy between trainable weights and collected trainable'\n"
     ]
    },
    {
     "name": "stdout",
     "output_type": "stream",
     "text": [
      "16/16 [==============================] - 0s 23ms/step - loss: 7.0660 - acc: 0.0625\n",
      "Epoch 1/1\n",
      "8/8 [==============================] - 1s 98ms/step - loss: 28.9072 - model_1_loss: 0.0886 - conv2d_20_loss: 0.2282\n",
      "\n",
      "Epoch 00001: loss did not improve from 26.75901\n"
     ]
    },
    {
     "name": "stderr",
     "output_type": "stream",
     "text": [
      "\n",
      "83it [06:40,  4.52s/it]\u001b[A"
     ]
    },
    {
     "name": "stdout",
     "output_type": "stream",
     "text": [
      "iteration : 83\n",
      "Epoch 1/1\n",
      " 8/16 [==============>...............] - ETA: 0s - loss: 5.3758 - acc: 0.2500"
     ]
    },
    {
     "name": "stderr",
     "output_type": "stream",
     "text": [
      "/opt/conda/lib/python3.6/site-packages/keras/engine/training.py:490: UserWarning: Discrepancy between trainable weights and collected trainable weights, did you set `model.trainable` without calling `model.compile` after ?\n",
      "  'Discrepancy between trainable weights and collected trainable'\n"
     ]
    },
    {
     "name": "stdout",
     "output_type": "stream",
     "text": [
      "16/16 [==============================] - 0s 24ms/step - loss: 5.7866 - acc: 0.1875\n",
      "Epoch 1/1\n",
      "8/8 [==============================] - 1s 98ms/step - loss: 27.7864 - model_1_loss: 0.0332 - conv2d_20_loss: 0.2197\n",
      "\n",
      "Epoch 00001: loss did not improve from 26.75901\n"
     ]
    },
    {
     "name": "stderr",
     "output_type": "stream",
     "text": [
      "\n",
      "84it [06:44,  4.42s/it]\u001b[A"
     ]
    },
    {
     "name": "stdout",
     "output_type": "stream",
     "text": [
      "iteration : 84\n",
      "Epoch 1/1\n",
      " 8/16 [==============>...............] - ETA: 0s - loss: 2.7058 - acc: 0.3750"
     ]
    },
    {
     "name": "stderr",
     "output_type": "stream",
     "text": [
      "/opt/conda/lib/python3.6/site-packages/keras/engine/training.py:490: UserWarning: Discrepancy between trainable weights and collected trainable weights, did you set `model.trainable` without calling `model.compile` after ?\n",
      "  'Discrepancy between trainable weights and collected trainable'\n"
     ]
    },
    {
     "name": "stdout",
     "output_type": "stream",
     "text": [
      "16/16 [==============================] - 0s 23ms/step - loss: 6.4702 - acc: 0.1875\n",
      "Epoch 1/1\n",
      "8/8 [==============================] - 1s 97ms/step - loss: 26.3885 - model_1_loss: 0.0750 - conv2d_20_loss: 0.2037\n",
      "\n",
      "Epoch 00001: loss improved from 26.75901 to 26.38847, saving model to weights-improvement.hdf5\n"
     ]
    },
    {
     "name": "stderr",
     "output_type": "stream",
     "text": [
      "\n",
      "85it [06:49,  4.50s/it]\u001b[A"
     ]
    },
    {
     "name": "stdout",
     "output_type": "stream",
     "text": [
      "iteration : 85\n",
      "Epoch 1/1\n",
      " 8/16 [==============>...............] - ETA: 0s - loss: 6.4210 - acc: 0.1250"
     ]
    },
    {
     "name": "stderr",
     "output_type": "stream",
     "text": [
      "/opt/conda/lib/python3.6/site-packages/keras/engine/training.py:490: UserWarning: Discrepancy between trainable weights and collected trainable weights, did you set `model.trainable` without calling `model.compile` after ?\n",
      "  'Discrepancy between trainable weights and collected trainable'\n"
     ]
    },
    {
     "name": "stdout",
     "output_type": "stream",
     "text": [
      "16/16 [==============================] - 0s 23ms/step - loss: 6.3739 - acc: 0.1250\n",
      "Epoch 1/1\n",
      "8/8 [==============================] - 1s 98ms/step - loss: 27.8466 - model_1_loss: 0.0577 - conv2d_20_loss: 0.2191\n",
      "\n",
      "Epoch 00001: loss did not improve from 26.38847\n"
     ]
    },
    {
     "name": "stderr",
     "output_type": "stream",
     "text": [
      "\n",
      "86it [06:53,  4.46s/it]\u001b[A"
     ]
    },
    {
     "name": "stdout",
     "output_type": "stream",
     "text": [
      "iteration : 86\n",
      "Epoch 1/1\n",
      " 8/16 [==============>...............] - ETA: 0s - loss: 7.6769 - acc: 0.1250"
     ]
    },
    {
     "name": "stderr",
     "output_type": "stream",
     "text": [
      "/opt/conda/lib/python3.6/site-packages/keras/engine/training.py:490: UserWarning: Discrepancy between trainable weights and collected trainable weights, did you set `model.trainable` without calling `model.compile` after ?\n",
      "  'Discrepancy between trainable weights and collected trainable'\n"
     ]
    },
    {
     "name": "stdout",
     "output_type": "stream",
     "text": [
      "16/16 [==============================] - 0s 23ms/step - loss: 6.9337 - acc: 0.0625\n",
      "Epoch 1/1\n",
      "8/8 [==============================] - 1s 97ms/step - loss: 27.5601 - model_1_loss: 7.9753e-04 - conv2d_20_loss: 0.2191\n",
      "\n",
      "Epoch 00001: loss did not improve from 26.38847\n"
     ]
    },
    {
     "name": "stderr",
     "output_type": "stream",
     "text": [
      "\n",
      "87it [06:57,  4.38s/it]\u001b[A"
     ]
    },
    {
     "name": "stdout",
     "output_type": "stream",
     "text": [
      "iteration : 87\n",
      "Epoch 1/1\n",
      " 8/16 [==============>...............] - ETA: 0s - loss: 3.6657 - acc: 0.5000"
     ]
    },
    {
     "name": "stderr",
     "output_type": "stream",
     "text": [
      "/opt/conda/lib/python3.6/site-packages/keras/engine/training.py:490: UserWarning: Discrepancy between trainable weights and collected trainable weights, did you set `model.trainable` without calling `model.compile` after ?\n",
      "  'Discrepancy between trainable weights and collected trainable'\n"
     ]
    },
    {
     "name": "stdout",
     "output_type": "stream",
     "text": [
      "16/16 [==============================] - 0s 24ms/step - loss: 5.7017 - acc: 0.3125\n",
      "Epoch 1/1\n",
      "8/8 [==============================] - 1s 99ms/step - loss: 27.1546 - model_1_loss: 0.0052 - conv2d_20_loss: 0.2148\n",
      "\n",
      "Epoch 00001: loss did not improve from 26.38847\n"
     ]
    },
    {
     "name": "stderr",
     "output_type": "stream",
     "text": [
      "\n",
      "88it [07:02,  4.34s/it]\u001b[A"
     ]
    },
    {
     "name": "stdout",
     "output_type": "stream",
     "text": [
      "iteration : 88\n",
      "Epoch 1/1\n",
      " 8/16 [==============>...............] - ETA: 0s - loss: 7.4090 - acc: 0.1250"
     ]
    },
    {
     "name": "stderr",
     "output_type": "stream",
     "text": [
      "/opt/conda/lib/python3.6/site-packages/keras/engine/training.py:490: UserWarning: Discrepancy between trainable weights and collected trainable weights, did you set `model.trainable` without calling `model.compile` after ?\n",
      "  'Discrepancy between trainable weights and collected trainable'\n"
     ]
    },
    {
     "name": "stdout",
     "output_type": "stream",
     "text": [
      "16/16 [==============================] - 0s 23ms/step - loss: 7.0903 - acc: 0.1875\n",
      "Epoch 1/1\n",
      "8/8 [==============================] - 1s 97ms/step - loss: 25.4854 - model_1_loss: 0.0179 - conv2d_20_loss: 0.1975\n",
      "\n",
      "Epoch 00001: loss improved from 26.38847 to 25.48536, saving model to weights-improvement.hdf5\n"
     ]
    },
    {
     "name": "stderr",
     "output_type": "stream",
     "text": [
      "\n",
      "89it [07:06,  4.47s/it]\u001b[A"
     ]
    },
    {
     "name": "stdout",
     "output_type": "stream",
     "text": [
      "iteration : 89\n",
      "Epoch 1/1\n",
      " 8/16 [==============>...............] - ETA: 0s - loss: 5.7438 - acc: 0.1250"
     ]
    },
    {
     "name": "stderr",
     "output_type": "stream",
     "text": [
      "/opt/conda/lib/python3.6/site-packages/keras/engine/training.py:490: UserWarning: Discrepancy between trainable weights and collected trainable weights, did you set `model.trainable` without calling `model.compile` after ?\n",
      "  'Discrepancy between trainable weights and collected trainable'\n"
     ]
    },
    {
     "name": "stdout",
     "output_type": "stream",
     "text": [
      "16/16 [==============================] - 0s 24ms/step - loss: 6.9286 - acc: 0.1250\n",
      "Epoch 1/1\n",
      "8/8 [==============================] - 1s 98ms/step - loss: 25.9347 - model_1_loss: 6.0044e-04 - conv2d_20_loss: 0.2028\n",
      "\n",
      "Epoch 00001: loss did not improve from 25.48536\n"
     ]
    },
    {
     "name": "stderr",
     "output_type": "stream",
     "text": [
      "\n",
      "90it [07:11,  4.47s/it]\u001b[A"
     ]
    },
    {
     "name": "stdout",
     "output_type": "stream",
     "text": [
      "iteration : 90\n",
      "Epoch 1/1\n",
      " 8/16 [==============>...............] - ETA: 0s - loss: 7.7598 - acc: 0.0000e+00"
     ]
    },
    {
     "name": "stderr",
     "output_type": "stream",
     "text": [
      "/opt/conda/lib/python3.6/site-packages/keras/engine/training.py:490: UserWarning: Discrepancy between trainable weights and collected trainable weights, did you set `model.trainable` without calling `model.compile` after ?\n",
      "  'Discrepancy between trainable weights and collected trainable'\n"
     ]
    },
    {
     "name": "stdout",
     "output_type": "stream",
     "text": [
      "16/16 [==============================] - 0s 23ms/step - loss: 7.1505 - acc: 0.0625\n",
      "Epoch 1/1\n",
      "8/8 [==============================] - 1s 97ms/step - loss: 25.4338 - model_1_loss: 0.0105 - conv2d_20_loss: 0.1973\n",
      "\n",
      "Epoch 00001: loss improved from 25.48536 to 25.43382, saving model to weights-improvement.hdf5\n"
     ]
    },
    {
     "name": "stderr",
     "output_type": "stream",
     "text": [
      "\n",
      "91it [07:16,  4.56s/it]\u001b[A"
     ]
    },
    {
     "name": "stdout",
     "output_type": "stream",
     "text": [
      "iteration : 91\n",
      "Epoch 1/1\n",
      " 8/16 [==============>...............] - ETA: 0s - loss: 6.0473 - acc: 0.1250"
     ]
    },
    {
     "name": "stderr",
     "output_type": "stream",
     "text": [
      "/opt/conda/lib/python3.6/site-packages/keras/engine/training.py:490: UserWarning: Discrepancy between trainable weights and collected trainable weights, did you set `model.trainable` without calling `model.compile` after ?\n",
      "  'Discrepancy between trainable weights and collected trainable'\n"
     ]
    },
    {
     "name": "stdout",
     "output_type": "stream",
     "text": [
      "16/16 [==============================] - 0s 24ms/step - loss: 5.9121 - acc: 0.2500\n",
      "Epoch 1/1\n",
      "8/8 [==============================] - 1s 98ms/step - loss: 26.7042 - model_1_loss: 0.0031 - conv2d_20_loss: 0.2104\n",
      "\n",
      "Epoch 00001: loss did not improve from 25.43382\n"
     ]
    },
    {
     "name": "stderr",
     "output_type": "stream",
     "text": [
      "\n",
      "92it [07:20,  4.52s/it]\u001b[A"
     ]
    },
    {
     "name": "stdout",
     "output_type": "stream",
     "text": [
      "iteration : 92\n",
      "Epoch 1/1\n",
      " 8/16 [==============>...............] - ETA: 0s - loss: 6.0314 - acc: 0.1250"
     ]
    },
    {
     "name": "stderr",
     "output_type": "stream",
     "text": [
      "/opt/conda/lib/python3.6/site-packages/keras/engine/training.py:490: UserWarning: Discrepancy between trainable weights and collected trainable weights, did you set `model.trainable` without calling `model.compile` after ?\n",
      "  'Discrepancy between trainable weights and collected trainable'\n"
     ]
    },
    {
     "name": "stdout",
     "output_type": "stream",
     "text": [
      "16/16 [==============================] - 0s 23ms/step - loss: 6.7744 - acc: 0.1250\n",
      "Epoch 1/1\n",
      "8/8 [==============================] - 1s 97ms/step - loss: 25.1422 - model_1_loss: 0.0062 - conv2d_20_loss: 0.1946\n",
      "\n",
      "Epoch 00001: loss improved from 25.43382 to 25.14216, saving model to weights-improvement.hdf5\n"
     ]
    },
    {
     "name": "stderr",
     "output_type": "stream",
     "text": [
      "\n",
      "93it [07:25,  4.58s/it]\u001b[A"
     ]
    },
    {
     "name": "stdout",
     "output_type": "stream",
     "text": [
      "iteration : 93\n",
      "Epoch 1/1\n",
      " 8/16 [==============>...............] - ETA: 0s - loss: 3.5554 - acc: 0.5000"
     ]
    },
    {
     "name": "stderr",
     "output_type": "stream",
     "text": [
      "/opt/conda/lib/python3.6/site-packages/keras/engine/training.py:490: UserWarning: Discrepancy between trainable weights and collected trainable weights, did you set `model.trainable` without calling `model.compile` after ?\n",
      "  'Discrepancy between trainable weights and collected trainable'\n"
     ]
    },
    {
     "name": "stdout",
     "output_type": "stream",
     "text": [
      "16/16 [==============================] - 0s 24ms/step - loss: 5.6439 - acc: 0.3125\n",
      "Epoch 1/1\n",
      "8/8 [==============================] - 1s 98ms/step - loss: 26.3685 - model_1_loss: 0.0019 - conv2d_20_loss: 0.2071\n",
      "\n",
      "Epoch 00001: loss did not improve from 25.14216\n"
     ]
    },
    {
     "name": "stderr",
     "output_type": "stream",
     "text": [
      "\n",
      "94it [07:29,  4.53s/it]\u001b[A"
     ]
    },
    {
     "name": "stdout",
     "output_type": "stream",
     "text": [
      "iteration : 94\n",
      "Epoch 1/1\n",
      " 8/16 [==============>...............] - ETA: 0s - loss: 5.7360 - acc: 0.3750"
     ]
    },
    {
     "name": "stderr",
     "output_type": "stream",
     "text": [
      "/opt/conda/lib/python3.6/site-packages/keras/engine/training.py:490: UserWarning: Discrepancy between trainable weights and collected trainable weights, did you set `model.trainable` without calling `model.compile` after ?\n",
      "  'Discrepancy between trainable weights and collected trainable'\n"
     ]
    },
    {
     "name": "stdout",
     "output_type": "stream",
     "text": [
      "16/16 [==============================] - 0s 23ms/step - loss: 5.5743 - acc: 0.1875\n",
      "Epoch 1/1\n",
      "8/8 [==============================] - 1s 97ms/step - loss: 25.6270 - model_1_loss: 0.0027 - conv2d_20_loss: 0.1997\n",
      "\n",
      "Epoch 00001: loss did not improve from 25.14216\n"
     ]
    },
    {
     "name": "stderr",
     "output_type": "stream",
     "text": [
      "\n",
      "95it [07:33,  4.41s/it]\u001b[A"
     ]
    },
    {
     "name": "stdout",
     "output_type": "stream",
     "text": [
      "iteration : 95\n",
      "Epoch 1/1\n",
      " 8/16 [==============>...............] - ETA: 0s - loss: 4.6407 - acc: 0.3750"
     ]
    },
    {
     "name": "stderr",
     "output_type": "stream",
     "text": [
      "/opt/conda/lib/python3.6/site-packages/keras/engine/training.py:490: UserWarning: Discrepancy between trainable weights and collected trainable weights, did you set `model.trainable` without calling `model.compile` after ?\n",
      "  'Discrepancy between trainable weights and collected trainable'\n"
     ]
    },
    {
     "name": "stdout",
     "output_type": "stream",
     "text": [
      "16/16 [==============================] - 0s 24ms/step - loss: 5.4063 - acc: 0.2500\n",
      "Epoch 1/1\n",
      "8/8 [==============================] - 1s 98ms/step - loss: 26.0569 - model_1_loss: 0.0687 - conv2d_20_loss: 0.2007\n",
      "\n",
      "Epoch 00001: loss did not improve from 25.14216\n"
     ]
    },
    {
     "name": "stderr",
     "output_type": "stream",
     "text": [
      "\n",
      "96it [07:38,  4.35s/it]\u001b[A"
     ]
    },
    {
     "name": "stdout",
     "output_type": "stream",
     "text": [
      "iteration : 96\n",
      "Epoch 1/1\n",
      " 8/16 [==============>...............] - ETA: 0s - loss: 6.3974 - acc: 0.1250"
     ]
    },
    {
     "name": "stderr",
     "output_type": "stream",
     "text": [
      "/opt/conda/lib/python3.6/site-packages/keras/engine/training.py:490: UserWarning: Discrepancy between trainable weights and collected trainable weights, did you set `model.trainable` without calling `model.compile` after ?\n",
      "  'Discrepancy between trainable weights and collected trainable'\n"
     ]
    },
    {
     "name": "stdout",
     "output_type": "stream",
     "text": [
      "16/16 [==============================] - 0s 23ms/step - loss: 6.0508 - acc: 0.1875\n",
      "Epoch 1/1\n",
      "8/8 [==============================] - 1s 97ms/step - loss: 26.2554 - model_1_loss: 0.0016 - conv2d_20_loss: 0.2060\n",
      "\n",
      "Epoch 00001: loss did not improve from 25.14216\n"
     ]
    },
    {
     "name": "stderr",
     "output_type": "stream",
     "text": [
      "\n",
      "97it [07:42,  4.29s/it]\u001b[A"
     ]
    },
    {
     "name": "stdout",
     "output_type": "stream",
     "text": [
      "iteration : 97\n",
      "Epoch 1/1\n",
      " 8/16 [==============>...............] - ETA: 0s - loss: 5.9600 - acc: 0.1250"
     ]
    },
    {
     "name": "stderr",
     "output_type": "stream",
     "text": [
      "/opt/conda/lib/python3.6/site-packages/keras/engine/training.py:490: UserWarning: Discrepancy between trainable weights and collected trainable weights, did you set `model.trainable` without calling `model.compile` after ?\n",
      "  'Discrepancy between trainable weights and collected trainable'\n"
     ]
    },
    {
     "name": "stdout",
     "output_type": "stream",
     "text": [
      "16/16 [==============================] - 0s 24ms/step - loss: 6.2931 - acc: 0.1250\n",
      "Epoch 1/1\n",
      "8/8 [==============================] - 1s 99ms/step - loss: 25.7105 - model_1_loss: 0.0194 - conv2d_20_loss: 0.1997\n",
      "\n",
      "Epoch 00001: loss did not improve from 25.14216\n"
     ]
    },
    {
     "name": "stderr",
     "output_type": "stream",
     "text": [
      "\n",
      "98it [07:46,  4.25s/it]\u001b[A"
     ]
    },
    {
     "name": "stdout",
     "output_type": "stream",
     "text": [
      "iteration : 98\n",
      "Epoch 1/1\n",
      " 8/16 [==============>...............] - ETA: 0s - loss: 7.9641 - acc: 0.0000e+00"
     ]
    },
    {
     "name": "stderr",
     "output_type": "stream",
     "text": [
      "/opt/conda/lib/python3.6/site-packages/keras/engine/training.py:490: UserWarning: Discrepancy between trainable weights and collected trainable weights, did you set `model.trainable` without calling `model.compile` after ?\n",
      "  'Discrepancy between trainable weights and collected trainable'\n"
     ]
    },
    {
     "name": "stdout",
     "output_type": "stream",
     "text": [
      "16/16 [==============================] - 0s 23ms/step - loss: 7.1875 - acc: 0.1250\n",
      "Epoch 1/1\n",
      "8/8 [==============================] - 1s 97ms/step - loss: 25.5353 - model_1_loss: 0.0022 - conv2d_20_loss: 0.1988\n",
      "\n",
      "Epoch 00001: loss did not improve from 25.14216\n"
     ]
    },
    {
     "name": "stderr",
     "output_type": "stream",
     "text": [
      "\n",
      "99it [07:50,  4.22s/it]\u001b[A"
     ]
    },
    {
     "name": "stdout",
     "output_type": "stream",
     "text": [
      "iteration : 99\n",
      "Epoch 1/1\n",
      " 8/16 [==============>...............] - ETA: 0s - loss: 5.0300 - acc: 0.3750"
     ]
    },
    {
     "name": "stderr",
     "output_type": "stream",
     "text": [
      "/opt/conda/lib/python3.6/site-packages/keras/engine/training.py:490: UserWarning: Discrepancy between trainable weights and collected trainable weights, did you set `model.trainable` without calling `model.compile` after ?\n",
      "  'Discrepancy between trainable weights and collected trainable'\n"
     ]
    },
    {
     "name": "stdout",
     "output_type": "stream",
     "text": [
      "16/16 [==============================] - 0s 24ms/step - loss: 5.7455 - acc: 0.2500\n",
      "Epoch 1/1\n",
      "8/8 [==============================] - 1s 98ms/step - loss: 25.5745 - model_1_loss: 4.3001e-04 - conv2d_20_loss: 0.1993\n",
      "\n",
      "Epoch 00001: loss did not improve from 25.14216\n"
     ]
    },
    {
     "name": "stderr",
     "output_type": "stream",
     "text": [
      "\n",
      "100it [07:54,  4.21s/it]\u001b[A"
     ]
    },
    {
     "name": "stdout",
     "output_type": "stream",
     "text": [
      "iteration : 100\n",
      "Epoch 1/1\n",
      " 8/16 [==============>...............] - ETA: 0s - loss: 4.5489 - acc: 0.2500"
     ]
    },
    {
     "name": "stderr",
     "output_type": "stream",
     "text": [
      "/opt/conda/lib/python3.6/site-packages/keras/engine/training.py:490: UserWarning: Discrepancy between trainable weights and collected trainable weights, did you set `model.trainable` without calling `model.compile` after ?\n",
      "  'Discrepancy between trainable weights and collected trainable'\n"
     ]
    },
    {
     "name": "stdout",
     "output_type": "stream",
     "text": [
      "16/16 [==============================] - 0s 23ms/step - loss: 6.0125 - acc: 0.1250\n",
      "Epoch 1/1\n",
      "8/8 [==============================] - 1s 97ms/step - loss: 26.1372 - model_1_loss: 0.0868 - conv2d_20_loss: 0.2006\n",
      "\n",
      "Epoch 00001: loss did not improve from 25.14216\n"
     ]
    },
    {
     "name": "stderr",
     "output_type": "stream",
     "text": [
      "\n",
      "101it [07:58,  4.19s/it]\u001b[A"
     ]
    },
    {
     "name": "stdout",
     "output_type": "stream",
     "text": [
      "iteration : 101\n",
      "Epoch 1/1\n",
      " 8/16 [==============>...............] - ETA: 0s - loss: 6.6129 - acc: 0.2500"
     ]
    },
    {
     "name": "stderr",
     "output_type": "stream",
     "text": [
      "/opt/conda/lib/python3.6/site-packages/keras/engine/training.py:490: UserWarning: Discrepancy between trainable weights and collected trainable weights, did you set `model.trainable` without calling `model.compile` after ?\n",
      "  'Discrepancy between trainable weights and collected trainable'\n"
     ]
    },
    {
     "name": "stdout",
     "output_type": "stream",
     "text": [
      "16/16 [==============================] - 0s 24ms/step - loss: 5.7971 - acc: 0.3750\n",
      "Epoch 1/1\n",
      "8/8 [==============================] - 1s 99ms/step - loss: 25.0520 - model_1_loss: 0.0094 - conv2d_20_loss: 0.1936\n",
      "\n",
      "Epoch 00001: loss improved from 25.14216 to 25.05197, saving model to weights-improvement.hdf5\n"
     ]
    },
    {
     "name": "stderr",
     "output_type": "stream",
     "text": [
      "\n",
      "102it [08:03,  4.37s/it]\u001b[A"
     ]
    },
    {
     "name": "stdout",
     "output_type": "stream",
     "text": [
      "iteration : 102\n",
      "Epoch 1/1\n",
      " 8/16 [==============>...............] - ETA: 0s - loss: 6.7103 - acc: 0.1250"
     ]
    },
    {
     "name": "stderr",
     "output_type": "stream",
     "text": [
      "/opt/conda/lib/python3.6/site-packages/keras/engine/training.py:490: UserWarning: Discrepancy between trainable weights and collected trainable weights, did you set `model.trainable` without calling `model.compile` after ?\n",
      "  'Discrepancy between trainable weights and collected trainable'\n"
     ]
    },
    {
     "name": "stdout",
     "output_type": "stream",
     "text": [
      "16/16 [==============================] - 0s 23ms/step - loss: 6.3176 - acc: 0.2500\n",
      "Epoch 1/1\n",
      "8/8 [==============================] - 1s 96ms/step - loss: 26.1101 - model_1_loss: 0.0079 - conv2d_20_loss: 0.2042\n",
      "\n",
      "Epoch 00001: loss did not improve from 25.05197\n"
     ]
    },
    {
     "name": "stderr",
     "output_type": "stream",
     "text": [
      "\n",
      "103it [08:07,  4.34s/it]\u001b[A"
     ]
    },
    {
     "name": "stdout",
     "output_type": "stream",
     "text": [
      "iteration : 103\n",
      "Epoch 1/1\n",
      " 8/16 [==============>...............] - ETA: 0s - loss: 7.6571 - acc: 0.2500"
     ]
    },
    {
     "name": "stderr",
     "output_type": "stream",
     "text": [
      "/opt/conda/lib/python3.6/site-packages/keras/engine/training.py:490: UserWarning: Discrepancy between trainable weights and collected trainable weights, did you set `model.trainable` without calling `model.compile` after ?\n",
      "  'Discrepancy between trainable weights and collected trainable'\n"
     ]
    },
    {
     "name": "stdout",
     "output_type": "stream",
     "text": [
      "16/16 [==============================] - 0s 23ms/step - loss: 6.8737 - acc: 0.1875\n",
      "Epoch 1/1\n",
      "8/8 [==============================] - 1s 98ms/step - loss: 26.9050 - model_1_loss: 0.0256 - conv2d_20_loss: 0.2113\n",
      "\n",
      "Epoch 00001: loss did not improve from 25.05197\n"
     ]
    },
    {
     "name": "stderr",
     "output_type": "stream",
     "text": [
      "\n",
      "104it [08:11,  4.26s/it]\u001b[A"
     ]
    },
    {
     "name": "stdout",
     "output_type": "stream",
     "text": [
      "iteration : 104\n",
      "Epoch 1/1\n",
      " 8/16 [==============>...............] - ETA: 0s - loss: 4.2288 - acc: 0.2500"
     ]
    },
    {
     "name": "stderr",
     "output_type": "stream",
     "text": [
      "/opt/conda/lib/python3.6/site-packages/keras/engine/training.py:490: UserWarning: Discrepancy between trainable weights and collected trainable weights, did you set `model.trainable` without calling `model.compile` after ?\n",
      "  'Discrepancy between trainable weights and collected trainable'\n"
     ]
    },
    {
     "name": "stdout",
     "output_type": "stream",
     "text": [
      "16/16 [==============================] - 0s 23ms/step - loss: 5.2062 - acc: 0.2500\n",
      "Epoch 1/1\n",
      "8/8 [==============================] - 1s 96ms/step - loss: 25.8371 - model_1_loss: 0.0225 - conv2d_20_loss: 0.2008\n",
      "\n",
      "Epoch 00001: loss did not improve from 25.05197\n"
     ]
    },
    {
     "name": "stderr",
     "output_type": "stream",
     "text": [
      "\n",
      "105it [08:16,  4.22s/it]\u001b[A"
     ]
    },
    {
     "name": "stdout",
     "output_type": "stream",
     "text": [
      "iteration : 105\n",
      "Epoch 1/1\n",
      " 8/16 [==============>...............] - ETA: 0s - loss: 8.0327 - acc: 0.1250"
     ]
    },
    {
     "name": "stderr",
     "output_type": "stream",
     "text": [
      "/opt/conda/lib/python3.6/site-packages/keras/engine/training.py:490: UserWarning: Discrepancy between trainable weights and collected trainable weights, did you set `model.trainable` without calling `model.compile` after ?\n",
      "  'Discrepancy between trainable weights and collected trainable'\n"
     ]
    },
    {
     "name": "stdout",
     "output_type": "stream",
     "text": [
      "16/16 [==============================] - 0s 24ms/step - loss: 6.1614 - acc: 0.2500\n",
      "Epoch 1/1\n",
      "8/8 [==============================] - 1s 98ms/step - loss: 24.9079 - model_1_loss: 4.1610e-04 - conv2d_20_loss: 0.1926\n",
      "\n",
      "Epoch 00001: loss improved from 25.05197 to 24.90794, saving model to weights-improvement.hdf5\n"
     ]
    },
    {
     "name": "stderr",
     "output_type": "stream",
     "text": [
      "\n",
      "106it [08:20,  4.38s/it]\u001b[A"
     ]
    },
    {
     "name": "stdout",
     "output_type": "stream",
     "text": [
      "iteration : 106\n",
      "Epoch 1/1\n",
      " 8/16 [==============>...............] - ETA: 0s - loss: 7.1452 - acc: 0.1250"
     ]
    },
    {
     "name": "stderr",
     "output_type": "stream",
     "text": [
      "/opt/conda/lib/python3.6/site-packages/keras/engine/training.py:490: UserWarning: Discrepancy between trainable weights and collected trainable weights, did you set `model.trainable` without calling `model.compile` after ?\n",
      "  'Discrepancy between trainable weights and collected trainable'\n"
     ]
    },
    {
     "name": "stdout",
     "output_type": "stream",
     "text": [
      "16/16 [==============================] - 0s 23ms/step - loss: 6.7873 - acc: 0.1875\n",
      "Epoch 1/1\n",
      "8/8 [==============================] - 1s 97ms/step - loss: 26.1634 - model_1_loss: 0.1987 - conv2d_20_loss: 0.1952\n",
      "\n",
      "Epoch 00001: loss did not improve from 24.90794\n"
     ]
    },
    {
     "name": "stderr",
     "output_type": "stream",
     "text": [
      "\n",
      "107it [08:25,  4.37s/it]\u001b[A"
     ]
    },
    {
     "name": "stdout",
     "output_type": "stream",
     "text": [
      "iteration : 107\n",
      "Epoch 1/1\n",
      " 8/16 [==============>...............] - ETA: 0s - loss: 5.1279 - acc: 0.1250"
     ]
    },
    {
     "name": "stderr",
     "output_type": "stream",
     "text": [
      "/opt/conda/lib/python3.6/site-packages/keras/engine/training.py:490: UserWarning: Discrepancy between trainable weights and collected trainable weights, did you set `model.trainable` without calling `model.compile` after ?\n",
      "  'Discrepancy between trainable weights and collected trainable'\n"
     ]
    },
    {
     "name": "stdout",
     "output_type": "stream",
     "text": [
      "16/16 [==============================] - 0s 24ms/step - loss: 5.2896 - acc: 0.1250\n",
      "Epoch 1/1\n",
      "8/8 [==============================] - 1s 98ms/step - loss: 26.2718 - model_1_loss: 0.1127 - conv2d_20_loss: 0.2006\n",
      "\n",
      "Epoch 00001: loss did not improve from 24.90794\n"
     ]
    },
    {
     "name": "stderr",
     "output_type": "stream",
     "text": [
      "\n",
      "108it [08:29,  4.32s/it]\u001b[A"
     ]
    },
    {
     "name": "stdout",
     "output_type": "stream",
     "text": [
      "iteration : 108\n",
      "Epoch 1/1\n",
      " 8/16 [==============>...............] - ETA: 0s - loss: 6.3713 - acc: 0.2500"
     ]
    },
    {
     "name": "stderr",
     "output_type": "stream",
     "text": [
      "/opt/conda/lib/python3.6/site-packages/keras/engine/training.py:490: UserWarning: Discrepancy between trainable weights and collected trainable weights, did you set `model.trainable` without calling `model.compile` after ?\n",
      "  'Discrepancy between trainable weights and collected trainable'\n"
     ]
    },
    {
     "name": "stdout",
     "output_type": "stream",
     "text": [
      "16/16 [==============================] - 0s 23ms/step - loss: 6.5297 - acc: 0.3125\n",
      "Epoch 1/1\n",
      "8/8 [==============================] - 1s 97ms/step - loss: 25.0261 - model_1_loss: 0.0052 - conv2d_20_loss: 0.1935\n",
      "\n",
      "Epoch 00001: loss did not improve from 24.90794\n"
     ]
    },
    {
     "name": "stderr",
     "output_type": "stream",
     "text": [
      "\n",
      "109it [08:33,  4.27s/it]\u001b[A"
     ]
    },
    {
     "name": "stdout",
     "output_type": "stream",
     "text": [
      "iteration : 109\n",
      "Epoch 1/1\n",
      " 8/16 [==============>...............] - ETA: 0s - loss: 6.5512 - acc: 0.1250"
     ]
    },
    {
     "name": "stderr",
     "output_type": "stream",
     "text": [
      "/opt/conda/lib/python3.6/site-packages/keras/engine/training.py:490: UserWarning: Discrepancy between trainable weights and collected trainable weights, did you set `model.trainable` without calling `model.compile` after ?\n",
      "  'Discrepancy between trainable weights and collected trainable'\n"
     ]
    },
    {
     "name": "stdout",
     "output_type": "stream",
     "text": [
      "16/16 [==============================] - 0s 24ms/step - loss: 6.3539 - acc: 0.1250\n",
      "Epoch 1/1\n",
      "8/8 [==============================] - 1s 98ms/step - loss: 25.7991 - model_1_loss: 0.0463 - conv2d_20_loss: 0.1992\n",
      "\n",
      "Epoch 00001: loss did not improve from 24.90794\n"
     ]
    },
    {
     "name": "stderr",
     "output_type": "stream",
     "text": [
      "\n",
      "110it [08:37,  4.25s/it]\u001b[A"
     ]
    },
    {
     "name": "stdout",
     "output_type": "stream",
     "text": [
      "iteration : 110\n",
      "Epoch 1/1\n",
      " 8/16 [==============>...............] - ETA: 0s - loss: 4.7979 - acc: 0.5000"
     ]
    },
    {
     "name": "stderr",
     "output_type": "stream",
     "text": [
      "/opt/conda/lib/python3.6/site-packages/keras/engine/training.py:490: UserWarning: Discrepancy between trainable weights and collected trainable weights, did you set `model.trainable` without calling `model.compile` after ?\n",
      "  'Discrepancy between trainable weights and collected trainable'\n"
     ]
    },
    {
     "name": "stdout",
     "output_type": "stream",
     "text": [
      "16/16 [==============================] - 0s 23ms/step - loss: 6.2658 - acc: 0.3125\n",
      "Epoch 1/1\n",
      "8/8 [==============================] - 1s 97ms/step - loss: 25.8107 - model_1_loss: 0.0013 - conv2d_20_loss: 0.2016\n",
      "\n",
      "Epoch 00001: loss did not improve from 24.90794\n"
     ]
    },
    {
     "name": "stderr",
     "output_type": "stream",
     "text": [
      "\n",
      "111it [08:41,  4.23s/it]\u001b[A"
     ]
    },
    {
     "name": "stdout",
     "output_type": "stream",
     "text": [
      "iteration : 111\n",
      "Epoch 1/1\n",
      " 8/16 [==============>...............] - ETA: 0s - loss: 5.6402 - acc: 0.1250"
     ]
    },
    {
     "name": "stderr",
     "output_type": "stream",
     "text": [
      "/opt/conda/lib/python3.6/site-packages/keras/engine/training.py:490: UserWarning: Discrepancy between trainable weights and collected trainable weights, did you set `model.trainable` without calling `model.compile` after ?\n",
      "  'Discrepancy between trainable weights and collected trainable'\n"
     ]
    },
    {
     "name": "stdout",
     "output_type": "stream",
     "text": [
      "16/16 [==============================] - 0s 24ms/step - loss: 5.4017 - acc: 0.1875\n",
      "Epoch 1/1\n",
      "8/8 [==============================] - 1s 98ms/step - loss: 25.1902 - model_1_loss: 2.4394e-04 - conv2d_20_loss: 0.1954\n",
      "\n",
      "Epoch 00001: loss did not improve from 24.90794\n"
     ]
    },
    {
     "name": "stderr",
     "output_type": "stream",
     "text": [
      "\n",
      "112it [08:46,  4.21s/it]\u001b[A"
     ]
    },
    {
     "name": "stdout",
     "output_type": "stream",
     "text": [
      "iteration : 112\n",
      "Epoch 1/1\n",
      " 8/16 [==============>...............] - ETA: 0s - loss: 6.1123 - acc: 0.3750"
     ]
    },
    {
     "name": "stderr",
     "output_type": "stream",
     "text": [
      "/opt/conda/lib/python3.6/site-packages/keras/engine/training.py:490: UserWarning: Discrepancy between trainable weights and collected trainable weights, did you set `model.trainable` without calling `model.compile` after ?\n",
      "  'Discrepancy between trainable weights and collected trainable'\n"
     ]
    },
    {
     "name": "stdout",
     "output_type": "stream",
     "text": [
      "16/16 [==============================] - 0s 23ms/step - loss: 5.5792 - acc: 0.2500\n",
      "Epoch 1/1\n",
      "8/8 [==============================] - 1s 97ms/step - loss: 24.7366 - model_1_loss: 0.0188 - conv2d_20_loss: 0.1900\n",
      "\n",
      "Epoch 00001: loss improved from 24.90794 to 24.73663, saving model to weights-improvement.hdf5\n"
     ]
    },
    {
     "name": "stderr",
     "output_type": "stream",
     "text": [
      "\n",
      "113it [08:50,  4.38s/it]\u001b[A"
     ]
    },
    {
     "name": "stdout",
     "output_type": "stream",
     "text": [
      "iteration : 113\n",
      "Epoch 1/1\n",
      " 8/16 [==============>...............] - ETA: 0s - loss: 6.0704 - acc: 0.1250"
     ]
    },
    {
     "name": "stderr",
     "output_type": "stream",
     "text": [
      "/opt/conda/lib/python3.6/site-packages/keras/engine/training.py:490: UserWarning: Discrepancy between trainable weights and collected trainable weights, did you set `model.trainable` without calling `model.compile` after ?\n",
      "  'Discrepancy between trainable weights and collected trainable'\n"
     ]
    },
    {
     "name": "stdout",
     "output_type": "stream",
     "text": [
      "16/16 [==============================] - 0s 24ms/step - loss: 6.2470 - acc: 0.1250\n",
      "Epoch 1/1\n",
      "8/8 [==============================] - 1s 101ms/step - loss: 24.4747 - model_1_loss: 0.0211 - conv2d_20_loss: 0.1872\n",
      "\n",
      "Epoch 00001: loss improved from 24.73663 to 24.47470, saving model to weights-improvement.hdf5\n"
     ]
    },
    {
     "name": "stderr",
     "output_type": "stream",
     "text": [
      "\n",
      "114it [08:55,  4.53s/it]\u001b[A"
     ]
    },
    {
     "name": "stdout",
     "output_type": "stream",
     "text": [
      "iteration : 114\n",
      "Epoch 1/1\n",
      " 8/16 [==============>...............] - ETA: 0s - loss: 6.6783 - acc: 0.2500"
     ]
    },
    {
     "name": "stderr",
     "output_type": "stream",
     "text": [
      "/opt/conda/lib/python3.6/site-packages/keras/engine/training.py:490: UserWarning: Discrepancy between trainable weights and collected trainable weights, did you set `model.trainable` without calling `model.compile` after ?\n",
      "  'Discrepancy between trainable weights and collected trainable'\n"
     ]
    },
    {
     "name": "stdout",
     "output_type": "stream",
     "text": [
      "16/16 [==============================] - 0s 23ms/step - loss: 6.1581 - acc: 0.2500\n",
      "Epoch 1/1\n",
      "8/8 [==============================] - 1s 97ms/step - loss: 25.1531 - model_1_loss: 0.0056 - conv2d_20_loss: 0.1948\n",
      "\n",
      "Epoch 00001: loss did not improve from 24.47470\n"
     ]
    },
    {
     "name": "stderr",
     "output_type": "stream",
     "text": [
      "\n",
      "115it [09:00,  4.46s/it]\u001b[A"
     ]
    },
    {
     "name": "stdout",
     "output_type": "stream",
     "text": [
      "iteration : 115\n",
      "Epoch 1/1\n",
      " 8/16 [==============>...............] - ETA: 0s - loss: 5.2263 - acc: 0.2500"
     ]
    },
    {
     "name": "stderr",
     "output_type": "stream",
     "text": [
      "/opt/conda/lib/python3.6/site-packages/keras/engine/training.py:490: UserWarning: Discrepancy between trainable weights and collected trainable weights, did you set `model.trainable` without calling `model.compile` after ?\n",
      "  'Discrepancy between trainable weights and collected trainable'\n"
     ]
    },
    {
     "name": "stdout",
     "output_type": "stream",
     "text": [
      "16/16 [==============================] - 0s 24ms/step - loss: 6.0453 - acc: 0.1875\n",
      "Epoch 1/1\n",
      "8/8 [==============================] - 1s 98ms/step - loss: 24.8498 - model_1_loss: 0.0049 - conv2d_20_loss: 0.1918\n",
      "\n",
      "Epoch 00001: loss did not improve from 24.47470\n"
     ]
    },
    {
     "name": "stderr",
     "output_type": "stream",
     "text": [
      "\n",
      "116it [09:04,  4.37s/it]\u001b[A"
     ]
    },
    {
     "name": "stdout",
     "output_type": "stream",
     "text": [
      "iteration : 116\n",
      "Epoch 1/1\n",
      " 8/16 [==============>...............] - ETA: 0s - loss: 3.6692 - acc: 0.2500"
     ]
    },
    {
     "name": "stderr",
     "output_type": "stream",
     "text": [
      "/opt/conda/lib/python3.6/site-packages/keras/engine/training.py:490: UserWarning: Discrepancy between trainable weights and collected trainable weights, did you set `model.trainable` without calling `model.compile` after ?\n",
      "  'Discrepancy between trainable weights and collected trainable'\n"
     ]
    },
    {
     "name": "stdout",
     "output_type": "stream",
     "text": [
      "16/16 [==============================] - 0s 23ms/step - loss: 5.0732 - acc: 0.1250\n",
      "Epoch 1/1\n",
      "8/8 [==============================] - 1s 97ms/step - loss: 24.1106 - model_1_loss: 0.0050 - conv2d_20_loss: 0.1844\n",
      "\n",
      "Epoch 00001: loss improved from 24.47470 to 24.11059, saving model to weights-improvement.hdf5\n"
     ]
    },
    {
     "name": "stderr",
     "output_type": "stream",
     "text": [
      "\n",
      "117it [09:08,  4.48s/it]\u001b[A"
     ]
    },
    {
     "name": "stdout",
     "output_type": "stream",
     "text": [
      "iteration : 117\n",
      "Epoch 1/1\n",
      " 8/16 [==============>...............] - ETA: 0s - loss: 8.0362 - acc: 0.1250"
     ]
    },
    {
     "name": "stderr",
     "output_type": "stream",
     "text": [
      "/opt/conda/lib/python3.6/site-packages/keras/engine/training.py:490: UserWarning: Discrepancy between trainable weights and collected trainable weights, did you set `model.trainable` without calling `model.compile` after ?\n",
      "  'Discrepancy between trainable weights and collected trainable'\n"
     ]
    },
    {
     "name": "stdout",
     "output_type": "stream",
     "text": [
      "16/16 [==============================] - 0s 24ms/step - loss: 6.0661 - acc: 0.1875\n",
      "Epoch 1/1\n",
      "8/8 [==============================] - 1s 98ms/step - loss: 25.3182 - model_1_loss: 0.0134 - conv2d_20_loss: 0.1961\n",
      "\n",
      "Epoch 00001: loss did not improve from 24.11059\n"
     ]
    },
    {
     "name": "stderr",
     "output_type": "stream",
     "text": [
      "\n",
      "118it [09:13,  4.44s/it]\u001b[A"
     ]
    },
    {
     "name": "stdout",
     "output_type": "stream",
     "text": [
      "iteration : 118\n",
      "Epoch 1/1\n",
      " 8/16 [==============>...............] - ETA: 0s - loss: 5.6967 - acc: 0.2500"
     ]
    },
    {
     "name": "stderr",
     "output_type": "stream",
     "text": [
      "/opt/conda/lib/python3.6/site-packages/keras/engine/training.py:490: UserWarning: Discrepancy between trainable weights and collected trainable weights, did you set `model.trainable` without calling `model.compile` after ?\n",
      "  'Discrepancy between trainable weights and collected trainable'\n"
     ]
    },
    {
     "name": "stdout",
     "output_type": "stream",
     "text": [
      "16/16 [==============================] - 0s 23ms/step - loss: 6.0383 - acc: 0.1250\n",
      "Epoch 1/1\n",
      "8/8 [==============================] - 1s 97ms/step - loss: 24.9730 - model_1_loss: 0.0059 - conv2d_20_loss: 0.1930\n",
      "\n",
      "Epoch 00001: loss did not improve from 24.11059\n"
     ]
    },
    {
     "name": "stderr",
     "output_type": "stream",
     "text": [
      "\n",
      "119it [09:17,  4.36s/it]\u001b[A"
     ]
    },
    {
     "name": "stdout",
     "output_type": "stream",
     "text": [
      "iteration : 119\n",
      "Epoch 1/1\n",
      " 8/16 [==============>...............] - ETA: 0s - loss: 4.3295 - acc: 0.3750"
     ]
    },
    {
     "name": "stderr",
     "output_type": "stream",
     "text": [
      "/opt/conda/lib/python3.6/site-packages/keras/engine/training.py:490: UserWarning: Discrepancy between trainable weights and collected trainable weights, did you set `model.trainable` without calling `model.compile` after ?\n",
      "  'Discrepancy between trainable weights and collected trainable'\n"
     ]
    },
    {
     "name": "stdout",
     "output_type": "stream",
     "text": [
      "16/16 [==============================] - 0s 24ms/step - loss: 5.5640 - acc: 0.2500\n",
      "Epoch 1/1\n",
      "8/8 [==============================] - 1s 99ms/step - loss: 23.3920 - model_1_loss: 0.0230 - conv2d_20_loss: 0.1763\n",
      "\n",
      "Epoch 00001: loss improved from 24.11059 to 23.39200, saving model to weights-improvement.hdf5\n"
     ]
    },
    {
     "name": "stderr",
     "output_type": "stream",
     "text": [
      "\n",
      "120it [09:22,  4.48s/it]\u001b[A"
     ]
    },
    {
     "name": "stdout",
     "output_type": "stream",
     "text": [
      "iteration : 120\n",
      "Epoch 1/1\n",
      " 8/16 [==============>...............] - ETA: 0s - loss: 5.5599 - acc: 0.0000e+00"
     ]
    },
    {
     "name": "stderr",
     "output_type": "stream",
     "text": [
      "/opt/conda/lib/python3.6/site-packages/keras/engine/training.py:490: UserWarning: Discrepancy between trainable weights and collected trainable weights, did you set `model.trainable` without calling `model.compile` after ?\n",
      "  'Discrepancy between trainable weights and collected trainable'\n"
     ]
    },
    {
     "name": "stdout",
     "output_type": "stream",
     "text": [
      "16/16 [==============================] - 0s 23ms/step - loss: 6.2193 - acc: 0.1250\n",
      "Epoch 1/1\n",
      "8/8 [==============================] - 1s 97ms/step - loss: 23.3271 - model_1_loss: 0.0014 - conv2d_20_loss: 0.1767\n",
      "\n",
      "Epoch 00001: loss improved from 23.39200 to 23.32706, saving model to weights-improvement.hdf5\n"
     ]
    },
    {
     "name": "stderr",
     "output_type": "stream",
     "text": [
      "\n",
      "121it [09:28,  5.09s/it]\u001b[A"
     ]
    },
    {
     "name": "stdout",
     "output_type": "stream",
     "text": [
      "iteration : 121\n"
     ]
    },
    {
     "name": "stderr",
     "output_type": "stream",
     "text": [
      "/opt/conda/lib/python3.6/site-packages/keras/engine/training.py:490: UserWarning: Discrepancy between trainable weights and collected trainable weights, did you set `model.trainable` without calling `model.compile` after ?\n",
      "  'Discrepancy between trainable weights and collected trainable'\n"
     ]
    },
    {
     "name": "stdout",
     "output_type": "stream",
     "text": [
      "Epoch 1/1\n",
      "16/16 [==============================] - 1s 32ms/step - loss: 4.3364 - acc: 0.3125\n",
      "Epoch 1/1\n",
      "8/8 [==============================] - 1s 142ms/step - loss: 23.9030 - model_1_loss: 0.0035 - conv2d_20_loss: 0.1824\n",
      "\n",
      "Epoch 00001: loss did not improve from 23.32706\n"
     ]
    },
    {
     "name": "stderr",
     "output_type": "stream",
     "text": [
      "\n",
      "122it [09:33,  4.96s/it]\u001b[A"
     ]
    },
    {
     "name": "stdout",
     "output_type": "stream",
     "text": [
      "iteration : 122\n",
      "Epoch 1/1\n",
      " 8/16 [==============>...............] - ETA: 0s - loss: 6.0591 - acc: 0.1250"
     ]
    },
    {
     "name": "stderr",
     "output_type": "stream",
     "text": [
      "/opt/conda/lib/python3.6/site-packages/keras/engine/training.py:490: UserWarning: Discrepancy between trainable weights and collected trainable weights, did you set `model.trainable` without calling `model.compile` after ?\n",
      "  'Discrepancy between trainable weights and collected trainable'\n"
     ]
    },
    {
     "name": "stdout",
     "output_type": "stream",
     "text": [
      "16/16 [==============================] - 0s 23ms/step - loss: 5.9273 - acc: 0.0625\n",
      "Epoch 1/1\n",
      "8/8 [==============================] - 1s 97ms/step - loss: 24.1422 - model_1_loss: 8.3942e-04 - conv2d_20_loss: 0.1849\n",
      "\n",
      "Epoch 00001: loss did not improve from 23.32706\n"
     ]
    },
    {
     "name": "stderr",
     "output_type": "stream",
     "text": [
      "\n",
      "123it [09:37,  4.73s/it]\u001b[A"
     ]
    },
    {
     "name": "stdout",
     "output_type": "stream",
     "text": [
      "iteration : 123\n",
      "Epoch 1/1\n",
      " 8/16 [==============>...............] - ETA: 0s - loss: 5.2617 - acc: 0.2500"
     ]
    },
    {
     "name": "stderr",
     "output_type": "stream",
     "text": [
      "/opt/conda/lib/python3.6/site-packages/keras/engine/training.py:490: UserWarning: Discrepancy between trainable weights and collected trainable weights, did you set `model.trainable` without calling `model.compile` after ?\n",
      "  'Discrepancy between trainable weights and collected trainable'\n"
     ]
    },
    {
     "name": "stdout",
     "output_type": "stream",
     "text": [
      "16/16 [==============================] - 0s 24ms/step - loss: 5.3776 - acc: 0.3125\n",
      "Epoch 1/1\n",
      "8/8 [==============================] - 1s 99ms/step - loss: 24.0856 - model_1_loss: 0.0061 - conv2d_20_loss: 0.1841\n",
      "\n",
      "Epoch 00001: loss did not improve from 23.32706\n"
     ]
    },
    {
     "name": "stderr",
     "output_type": "stream",
     "text": [
      "\n",
      "124it [09:41,  4.56s/it]\u001b[A"
     ]
    },
    {
     "name": "stdout",
     "output_type": "stream",
     "text": [
      "iteration : 124\n",
      "Epoch 1/1\n",
      " 8/16 [==============>...............] - ETA: 0s - loss: 4.7126 - acc: 0.2500"
     ]
    },
    {
     "name": "stderr",
     "output_type": "stream",
     "text": [
      "/opt/conda/lib/python3.6/site-packages/keras/engine/training.py:490: UserWarning: Discrepancy between trainable weights and collected trainable weights, did you set `model.trainable` without calling `model.compile` after ?\n",
      "  'Discrepancy between trainable weights and collected trainable'\n"
     ]
    },
    {
     "name": "stdout",
     "output_type": "stream",
     "text": [
      "16/16 [==============================] - 0s 23ms/step - loss: 6.0139 - acc: 0.1250\n",
      "Epoch 1/1\n",
      "8/8 [==============================] - 1s 97ms/step - loss: 24.6287 - model_1_loss: 9.0682e-04 - conv2d_20_loss: 0.1898\n",
      "\n",
      "Epoch 00001: loss did not improve from 23.32706\n"
     ]
    },
    {
     "name": "stderr",
     "output_type": "stream",
     "text": [
      "\n",
      "125it [09:45,  4.43s/it]\u001b[A"
     ]
    },
    {
     "name": "stdout",
     "output_type": "stream",
     "text": [
      "iteration : 125\n",
      "Epoch 1/1\n",
      " 8/16 [==============>...............] - ETA: 0s - loss: 6.2637 - acc: 0.1250"
     ]
    },
    {
     "name": "stderr",
     "output_type": "stream",
     "text": [
      "/opt/conda/lib/python3.6/site-packages/keras/engine/training.py:490: UserWarning: Discrepancy between trainable weights and collected trainable weights, did you set `model.trainable` without calling `model.compile` after ?\n",
      "  'Discrepancy between trainable weights and collected trainable'\n"
     ]
    },
    {
     "name": "stdout",
     "output_type": "stream",
     "text": [
      "16/16 [==============================] - 0s 24ms/step - loss: 5.6387 - acc: 0.2500\n",
      "Epoch 1/1\n",
      "8/8 [==============================] - 1s 98ms/step - loss: 23.4284 - model_1_loss: 9.6863e-04 - conv2d_20_loss: 0.1778\n",
      "\n",
      "Epoch 00001: loss did not improve from 23.32706\n"
     ]
    },
    {
     "name": "stderr",
     "output_type": "stream",
     "text": [
      "\n",
      "126it [09:50,  4.36s/it]\u001b[A"
     ]
    },
    {
     "name": "stdout",
     "output_type": "stream",
     "text": [
      "iteration : 126\n",
      "Epoch 1/1\n",
      " 8/16 [==============>...............] - ETA: 0s - loss: 5.5587 - acc: 0.1250"
     ]
    },
    {
     "name": "stderr",
     "output_type": "stream",
     "text": [
      "/opt/conda/lib/python3.6/site-packages/keras/engine/training.py:490: UserWarning: Discrepancy between trainable weights and collected trainable weights, did you set `model.trainable` without calling `model.compile` after ?\n",
      "  'Discrepancy between trainable weights and collected trainable'\n"
     ]
    },
    {
     "name": "stdout",
     "output_type": "stream",
     "text": [
      "16/16 [==============================] - 0s 23ms/step - loss: 5.4700 - acc: 0.2500\n",
      "Epoch 1/1\n",
      "8/8 [==============================] - 1s 97ms/step - loss: 23.9396 - model_1_loss: 2.5944e-04 - conv2d_20_loss: 0.1829\n",
      "\n",
      "Epoch 00001: loss did not improve from 23.32706\n"
     ]
    },
    {
     "name": "stderr",
     "output_type": "stream",
     "text": [
      "\n",
      "127it [09:54,  4.30s/it]\u001b[A"
     ]
    },
    {
     "name": "stdout",
     "output_type": "stream",
     "text": [
      "iteration : 127\n",
      "Epoch 1/1\n",
      " 8/16 [==============>...............] - ETA: 0s - loss: 3.5534 - acc: 0.2500"
     ]
    },
    {
     "name": "stderr",
     "output_type": "stream",
     "text": [
      "/opt/conda/lib/python3.6/site-packages/keras/engine/training.py:490: UserWarning: Discrepancy between trainable weights and collected trainable weights, did you set `model.trainable` without calling `model.compile` after ?\n",
      "  'Discrepancy between trainable weights and collected trainable'\n"
     ]
    },
    {
     "name": "stdout",
     "output_type": "stream",
     "text": [
      "16/16 [==============================] - 0s 24ms/step - loss: 4.8814 - acc: 0.1250\n",
      "Epoch 1/1\n",
      "8/8 [==============================] - 1s 98ms/step - loss: 23.9693 - model_1_loss: 0.0016 - conv2d_20_loss: 0.1832\n",
      "\n",
      "Epoch 00001: loss did not improve from 23.32706\n"
     ]
    },
    {
     "name": "stderr",
     "output_type": "stream",
     "text": [
      "\n",
      "128it [09:58,  4.27s/it]\u001b[A"
     ]
    },
    {
     "name": "stdout",
     "output_type": "stream",
     "text": [
      "iteration : 128\n",
      "Epoch 1/1\n",
      " 8/16 [==============>...............] - ETA: 0s - loss: 7.5543 - acc: 0.0000e+00"
     ]
    },
    {
     "name": "stderr",
     "output_type": "stream",
     "text": [
      "/opt/conda/lib/python3.6/site-packages/keras/engine/training.py:490: UserWarning: Discrepancy between trainable weights and collected trainable weights, did you set `model.trainable` without calling `model.compile` after ?\n",
      "  'Discrepancy between trainable weights and collected trainable'\n"
     ]
    },
    {
     "name": "stdout",
     "output_type": "stream",
     "text": [
      "16/16 [==============================] - 0s 23ms/step - loss: 6.8239 - acc: 0.1250\n",
      "Epoch 1/1\n",
      "8/8 [==============================] - 1s 97ms/step - loss: 23.2107 - model_1_loss: 0.0065 - conv2d_20_loss: 0.1753\n",
      "\n",
      "Epoch 00001: loss improved from 23.32706 to 23.21071, saving model to weights-improvement.hdf5\n"
     ]
    },
    {
     "name": "stderr",
     "output_type": "stream",
     "text": [
      "\n",
      "129it [10:03,  4.41s/it]\u001b[A"
     ]
    },
    {
     "name": "stdout",
     "output_type": "stream",
     "text": [
      "iteration : 129\n",
      "Epoch 1/1\n",
      " 8/16 [==============>...............] - ETA: 0s - loss: 7.5376 - acc: 0.1250"
     ]
    },
    {
     "name": "stderr",
     "output_type": "stream",
     "text": [
      "/opt/conda/lib/python3.6/site-packages/keras/engine/training.py:490: UserWarning: Discrepancy between trainable weights and collected trainable weights, did you set `model.trainable` without calling `model.compile` after ?\n",
      "  'Discrepancy between trainable weights and collected trainable'\n"
     ]
    },
    {
     "name": "stdout",
     "output_type": "stream",
     "text": [
      "16/16 [==============================] - 0s 24ms/step - loss: 6.2622 - acc: 0.2500\n",
      "Epoch 1/1\n",
      "8/8 [==============================] - 1s 98ms/step - loss: 25.9190 - model_1_loss: 0.0306 - conv2d_20_loss: 0.2012\n",
      "\n",
      "Epoch 00001: loss did not improve from 23.21071\n"
     ]
    },
    {
     "name": "stderr",
     "output_type": "stream",
     "text": [
      "\n",
      "130it [10:07,  4.39s/it]\u001b[A"
     ]
    },
    {
     "name": "stdout",
     "output_type": "stream",
     "text": [
      "iteration : 130\n",
      "Epoch 1/1\n",
      " 8/16 [==============>...............] - ETA: 0s - loss: 3.8199 - acc: 0.6250"
     ]
    },
    {
     "name": "stderr",
     "output_type": "stream",
     "text": [
      "/opt/conda/lib/python3.6/site-packages/keras/engine/training.py:490: UserWarning: Discrepancy between trainable weights and collected trainable weights, did you set `model.trainable` without calling `model.compile` after ?\n",
      "  'Discrepancy between trainable weights and collected trainable'\n"
     ]
    },
    {
     "name": "stdout",
     "output_type": "stream",
     "text": [
      "16/16 [==============================] - 0s 23ms/step - loss: 4.9805 - acc: 0.3750\n",
      "Epoch 1/1\n",
      "8/8 [==============================] - 1s 97ms/step - loss: 24.3032 - model_1_loss: 0.0362 - conv2d_20_loss: 0.1848\n",
      "\n",
      "Epoch 00001: loss did not improve from 23.21071\n"
     ]
    },
    {
     "name": "stderr",
     "output_type": "stream",
     "text": [
      "\n",
      "131it [10:11,  4.32s/it]\u001b[A"
     ]
    },
    {
     "name": "stdout",
     "output_type": "stream",
     "text": [
      "iteration : 131\n",
      "Epoch 1/1\n",
      " 8/16 [==============>...............] - ETA: 0s - loss: 7.9336 - acc: 0.0000e+00"
     ]
    },
    {
     "name": "stderr",
     "output_type": "stream",
     "text": [
      "/opt/conda/lib/python3.6/site-packages/keras/engine/training.py:490: UserWarning: Discrepancy between trainable weights and collected trainable weights, did you set `model.trainable` without calling `model.compile` after ?\n",
      "  'Discrepancy between trainable weights and collected trainable'\n"
     ]
    },
    {
     "name": "stdout",
     "output_type": "stream",
     "text": [
      "16/16 [==============================] - 0s 24ms/step - loss: 7.0353 - acc: 0.1875\n",
      "Epoch 1/1\n",
      "8/8 [==============================] - 1s 98ms/step - loss: 23.1282 - model_1_loss: 0.0244 - conv2d_20_loss: 0.1736\n",
      "\n",
      "Epoch 00001: loss improved from 23.21071 to 23.12820, saving model to weights-improvement.hdf5\n"
     ]
    },
    {
     "name": "stderr",
     "output_type": "stream",
     "text": [
      "\n",
      "132it [10:16,  4.45s/it]\u001b[A"
     ]
    },
    {
     "name": "stdout",
     "output_type": "stream",
     "text": [
      "iteration : 132\n",
      "Epoch 1/1\n",
      " 8/16 [==============>...............] - ETA: 0s - loss: 5.1627 - acc: 0.1250"
     ]
    },
    {
     "name": "stderr",
     "output_type": "stream",
     "text": [
      "/opt/conda/lib/python3.6/site-packages/keras/engine/training.py:490: UserWarning: Discrepancy between trainable weights and collected trainable weights, did you set `model.trainable` without calling `model.compile` after ?\n",
      "  'Discrepancy between trainable weights and collected trainable'\n"
     ]
    },
    {
     "name": "stdout",
     "output_type": "stream",
     "text": [
      "16/16 [==============================] - 0s 23ms/step - loss: 6.1452 - acc: 0.0625\n",
      "Epoch 1/1\n",
      "8/8 [==============================] - 1s 97ms/step - loss: 23.7322 - model_1_loss: 4.7222e-04 - conv2d_20_loss: 0.1808\n",
      "\n",
      "Epoch 00001: loss did not improve from 23.12820\n"
     ]
    },
    {
     "name": "stderr",
     "output_type": "stream",
     "text": [
      "\n",
      "133it [10:20,  4.43s/it]\u001b[A"
     ]
    },
    {
     "name": "stdout",
     "output_type": "stream",
     "text": [
      "iteration : 133\n",
      "Epoch 1/1\n",
      " 8/16 [==============>...............] - ETA: 0s - loss: 6.3584 - acc: 0.1250"
     ]
    },
    {
     "name": "stderr",
     "output_type": "stream",
     "text": [
      "/opt/conda/lib/python3.6/site-packages/keras/engine/training.py:490: UserWarning: Discrepancy between trainable weights and collected trainable weights, did you set `model.trainable` without calling `model.compile` after ?\n",
      "  'Discrepancy between trainable weights and collected trainable'\n"
     ]
    },
    {
     "name": "stdout",
     "output_type": "stream",
     "text": [
      "16/16 [==============================] - 0s 24ms/step - loss: 5.9681 - acc: 0.2500\n",
      "Epoch 1/1\n",
      "8/8 [==============================] - 1s 98ms/step - loss: 22.7129 - model_1_loss: 4.9510e-04 - conv2d_20_loss: 0.1707\n",
      "\n",
      "Epoch 00001: loss improved from 23.12820 to 22.71292, saving model to weights-improvement.hdf5\n"
     ]
    },
    {
     "name": "stderr",
     "output_type": "stream",
     "text": [
      "\n",
      "134it [10:25,  4.54s/it]\u001b[A"
     ]
    },
    {
     "name": "stdout",
     "output_type": "stream",
     "text": [
      "iteration : 134\n",
      "Epoch 1/1\n",
      " 8/16 [==============>...............] - ETA: 0s - loss: 5.1775 - acc: 0.2500"
     ]
    },
    {
     "name": "stderr",
     "output_type": "stream",
     "text": [
      "/opt/conda/lib/python3.6/site-packages/keras/engine/training.py:490: UserWarning: Discrepancy between trainable weights and collected trainable weights, did you set `model.trainable` without calling `model.compile` after ?\n",
      "  'Discrepancy between trainable weights and collected trainable'\n"
     ]
    },
    {
     "name": "stdout",
     "output_type": "stream",
     "text": [
      "16/16 [==============================] - 0s 23ms/step - loss: 6.7293 - acc: 0.1875\n",
      "Epoch 1/1\n",
      "8/8 [==============================] - 1s 97ms/step - loss: 23.8581 - model_1_loss: 0.0192 - conv2d_20_loss: 0.1812\n",
      "\n",
      "Epoch 00001: loss did not improve from 22.71292\n"
     ]
    },
    {
     "name": "stderr",
     "output_type": "stream",
     "text": [
      "\n",
      "135it [10:29,  4.47s/it]\u001b[A"
     ]
    },
    {
     "name": "stdout",
     "output_type": "stream",
     "text": [
      "iteration : 135\n",
      "Epoch 1/1\n",
      " 8/16 [==============>...............] - ETA: 0s - loss: 4.4768 - acc: 0.2500"
     ]
    },
    {
     "name": "stderr",
     "output_type": "stream",
     "text": [
      "/opt/conda/lib/python3.6/site-packages/keras/engine/training.py:490: UserWarning: Discrepancy between trainable weights and collected trainable weights, did you set `model.trainable` without calling `model.compile` after ?\n",
      "  'Discrepancy between trainable weights and collected trainable'\n"
     ]
    },
    {
     "name": "stdout",
     "output_type": "stream",
     "text": [
      "16/16 [==============================] - 0s 24ms/step - loss: 6.2455 - acc: 0.1250\n",
      "Epoch 1/1\n",
      "8/8 [==============================] - 1s 99ms/step - loss: 23.1405 - model_1_loss: 0.0291 - conv2d_20_loss: 0.1735\n",
      "\n",
      "Epoch 00001: loss did not improve from 22.71292\n"
     ]
    },
    {
     "name": "stderr",
     "output_type": "stream",
     "text": [
      "\n",
      "136it [10:34,  4.39s/it]\u001b[A"
     ]
    },
    {
     "name": "stdout",
     "output_type": "stream",
     "text": [
      "iteration : 136\n",
      "Epoch 1/1\n",
      " 8/16 [==============>...............] - ETA: 0s - loss: 9.2884 - acc: 0.1250"
     ]
    },
    {
     "name": "stderr",
     "output_type": "stream",
     "text": [
      "/opt/conda/lib/python3.6/site-packages/keras/engine/training.py:490: UserWarning: Discrepancy between trainable weights and collected trainable weights, did you set `model.trainable` without calling `model.compile` after ?\n",
      "  'Discrepancy between trainable weights and collected trainable'\n"
     ]
    },
    {
     "name": "stdout",
     "output_type": "stream",
     "text": [
      "16/16 [==============================] - 0s 23ms/step - loss: 6.2703 - acc: 0.2500\n",
      "Epoch 1/1\n",
      "8/8 [==============================] - 1s 97ms/step - loss: 24.6992 - model_1_loss: 0.0092 - conv2d_20_loss: 0.1901\n",
      "\n",
      "Epoch 00001: loss did not improve from 22.71292\n"
     ]
    },
    {
     "name": "stderr",
     "output_type": "stream",
     "text": [
      "\n",
      "137it [10:38,  4.33s/it]\u001b[A"
     ]
    },
    {
     "name": "stdout",
     "output_type": "stream",
     "text": [
      "iteration : 137\n",
      "Epoch 1/1\n",
      " 8/16 [==============>...............] - ETA: 0s - loss: 6.3172 - acc: 0.1250"
     ]
    },
    {
     "name": "stderr",
     "output_type": "stream",
     "text": [
      "/opt/conda/lib/python3.6/site-packages/keras/engine/training.py:490: UserWarning: Discrepancy between trainable weights and collected trainable weights, did you set `model.trainable` without calling `model.compile` after ?\n",
      "  'Discrepancy between trainable weights and collected trainable'\n"
     ]
    },
    {
     "name": "stdout",
     "output_type": "stream",
     "text": [
      "16/16 [==============================] - 0s 24ms/step - loss: 5.7266 - acc: 0.2500\n",
      "Epoch 1/1\n",
      "8/8 [==============================] - 1s 98ms/step - loss: 24.8227 - model_1_loss: 0.0209 - conv2d_20_loss: 0.1907\n",
      "\n",
      "Epoch 00001: loss did not improve from 22.71292\n"
     ]
    },
    {
     "name": "stderr",
     "output_type": "stream",
     "text": [
      "\n",
      "138it [10:42,  4.28s/it]\u001b[A"
     ]
    },
    {
     "name": "stdout",
     "output_type": "stream",
     "text": [
      "iteration : 138\n",
      "Epoch 1/1\n",
      " 8/16 [==============>...............] - ETA: 0s - loss: 7.4452 - acc: 0.0000e+00"
     ]
    },
    {
     "name": "stderr",
     "output_type": "stream",
     "text": [
      "/opt/conda/lib/python3.6/site-packages/keras/engine/training.py:490: UserWarning: Discrepancy between trainable weights and collected trainable weights, did you set `model.trainable` without calling `model.compile` after ?\n",
      "  'Discrepancy between trainable weights and collected trainable'\n"
     ]
    },
    {
     "name": "stdout",
     "output_type": "stream",
     "text": [
      "16/16 [==============================] - 0s 23ms/step - loss: 5.6313 - acc: 0.1875\n",
      "Epoch 1/1\n",
      "8/8 [==============================] - 1s 97ms/step - loss: 22.6079 - model_1_loss: 0.0096 - conv2d_20_loss: 0.1691\n",
      "\n",
      "Epoch 00001: loss improved from 22.71292 to 22.60787, saving model to weights-improvement.hdf5\n"
     ]
    },
    {
     "name": "stderr",
     "output_type": "stream",
     "text": [
      "\n",
      "139it [10:47,  4.42s/it]\u001b[A"
     ]
    },
    {
     "name": "stdout",
     "output_type": "stream",
     "text": [
      "iteration : 139\n",
      "Epoch 1/1\n",
      " 8/16 [==============>...............] - ETA: 0s - loss: 3.0187 - acc: 0.6250"
     ]
    },
    {
     "name": "stderr",
     "output_type": "stream",
     "text": [
      "/opt/conda/lib/python3.6/site-packages/keras/engine/training.py:490: UserWarning: Discrepancy between trainable weights and collected trainable weights, did you set `model.trainable` without calling `model.compile` after ?\n",
      "  'Discrepancy between trainable weights and collected trainable'\n"
     ]
    },
    {
     "name": "stdout",
     "output_type": "stream",
     "text": [
      "16/16 [==============================] - 0s 24ms/step - loss: 4.8065 - acc: 0.4375\n",
      "Epoch 1/1\n",
      "8/8 [==============================] - 1s 98ms/step - loss: 23.8566 - model_1_loss: 0.0384 - conv2d_20_loss: 0.1802\n",
      "\n",
      "Epoch 00001: loss did not improve from 22.60787\n"
     ]
    },
    {
     "name": "stderr",
     "output_type": "stream",
     "text": [
      "\n",
      "140it [10:51,  4.40s/it]\u001b[A"
     ]
    },
    {
     "name": "stdout",
     "output_type": "stream",
     "text": [
      "iteration : 140\n",
      "Epoch 1/1\n",
      " 8/16 [==============>...............] - ETA: 0s - loss: 5.0936 - acc: 0.3750"
     ]
    },
    {
     "name": "stderr",
     "output_type": "stream",
     "text": [
      "/opt/conda/lib/python3.6/site-packages/keras/engine/training.py:490: UserWarning: Discrepancy between trainable weights and collected trainable weights, did you set `model.trainable` without calling `model.compile` after ?\n",
      "  'Discrepancy between trainable weights and collected trainable'\n"
     ]
    },
    {
     "name": "stdout",
     "output_type": "stream",
     "text": [
      "16/16 [==============================] - 0s 23ms/step - loss: 5.1302 - acc: 0.2500\n",
      "Epoch 1/1\n",
      "8/8 [==============================] - 1s 97ms/step - loss: 22.6894 - model_1_loss: 0.0249 - conv2d_20_loss: 0.1692\n",
      "\n",
      "Epoch 00001: loss did not improve from 22.60787\n"
     ]
    },
    {
     "name": "stderr",
     "output_type": "stream",
     "text": [
      "\n",
      "141it [10:55,  4.33s/it]\u001b[A"
     ]
    },
    {
     "name": "stdout",
     "output_type": "stream",
     "text": [
      "iteration : 141\n",
      "Epoch 1/1\n",
      " 8/16 [==============>...............] - ETA: 0s - loss: 7.6818 - acc: 0.1250"
     ]
    },
    {
     "name": "stderr",
     "output_type": "stream",
     "text": [
      "/opt/conda/lib/python3.6/site-packages/keras/engine/training.py:490: UserWarning: Discrepancy between trainable weights and collected trainable weights, did you set `model.trainable` without calling `model.compile` after ?\n",
      "  'Discrepancy between trainable weights and collected trainable'\n"
     ]
    },
    {
     "name": "stdout",
     "output_type": "stream",
     "text": [
      "16/16 [==============================] - 0s 24ms/step - loss: 6.7400 - acc: 0.3125\n",
      "Epoch 1/1\n",
      "8/8 [==============================] - 1s 98ms/step - loss: 23.2422 - model_1_loss: 0.0020 - conv2d_20_loss: 0.1759\n",
      "\n",
      "Epoch 00001: loss did not improve from 22.60787\n"
     ]
    },
    {
     "name": "stderr",
     "output_type": "stream",
     "text": [
      "\n",
      "142it [10:59,  4.29s/it]\u001b[A"
     ]
    },
    {
     "name": "stdout",
     "output_type": "stream",
     "text": [
      "iteration : 142\n",
      "Epoch 1/1\n",
      " 8/16 [==============>...............] - ETA: 0s - loss: 9.1416 - acc: 0.1250"
     ]
    },
    {
     "name": "stderr",
     "output_type": "stream",
     "text": [
      "/opt/conda/lib/python3.6/site-packages/keras/engine/training.py:490: UserWarning: Discrepancy between trainable weights and collected trainable weights, did you set `model.trainable` without calling `model.compile` after ?\n",
      "  'Discrepancy between trainable weights and collected trainable'\n"
     ]
    },
    {
     "name": "stdout",
     "output_type": "stream",
     "text": [
      "16/16 [==============================] - 0s 23ms/step - loss: 6.8248 - acc: 0.2500\n",
      "Epoch 1/1\n",
      "8/8 [==============================] - 1s 97ms/step - loss: 23.2573 - model_1_loss: 2.7176e-04 - conv2d_20_loss: 0.1761\n",
      "\n",
      "Epoch 00001: loss did not improve from 22.60787\n"
     ]
    },
    {
     "name": "stderr",
     "output_type": "stream",
     "text": [
      "\n",
      "143it [11:04,  4.25s/it]\u001b[A"
     ]
    },
    {
     "name": "stdout",
     "output_type": "stream",
     "text": [
      "iteration : 143\n",
      "Epoch 1/1\n",
      " 8/16 [==============>...............] - ETA: 0s - loss: 6.4271 - acc: 0.1250"
     ]
    },
    {
     "name": "stderr",
     "output_type": "stream",
     "text": [
      "/opt/conda/lib/python3.6/site-packages/keras/engine/training.py:490: UserWarning: Discrepancy between trainable weights and collected trainable weights, did you set `model.trainable` without calling `model.compile` after ?\n",
      "  'Discrepancy between trainable weights and collected trainable'\n"
     ]
    },
    {
     "name": "stdout",
     "output_type": "stream",
     "text": [
      "16/16 [==============================] - 0s 24ms/step - loss: 5.7781 - acc: 0.1875\n",
      "Epoch 1/1\n",
      "8/8 [==============================] - 1s 98ms/step - loss: 22.3303 - model_1_loss: 0.0013 - conv2d_20_loss: 0.1668\n",
      "\n",
      "Epoch 00001: loss improved from 22.60787 to 22.33030, saving model to weights-improvement.hdf5\n"
     ]
    },
    {
     "name": "stderr",
     "output_type": "stream",
     "text": [
      "\n",
      "144it [11:08,  4.40s/it]\u001b[A"
     ]
    },
    {
     "name": "stdout",
     "output_type": "stream",
     "text": [
      "iteration : 144\n",
      "Epoch 1/1\n",
      " 8/16 [==============>...............] - ETA: 0s - loss: 6.5032 - acc: 0.2500"
     ]
    },
    {
     "name": "stderr",
     "output_type": "stream",
     "text": [
      "/opt/conda/lib/python3.6/site-packages/keras/engine/training.py:490: UserWarning: Discrepancy between trainable weights and collected trainable weights, did you set `model.trainable` without calling `model.compile` after ?\n",
      "  'Discrepancy between trainable weights and collected trainable'\n"
     ]
    },
    {
     "name": "stdout",
     "output_type": "stream",
     "text": [
      "16/16 [==============================] - 0s 23ms/step - loss: 8.4122 - acc: 0.1250\n",
      "Epoch 1/1\n",
      "8/8 [==============================] - 1s 97ms/step - loss: 23.9888 - model_1_loss: 0.0032 - conv2d_20_loss: 0.1833\n",
      "\n",
      "Epoch 00001: loss did not improve from 22.33030\n"
     ]
    },
    {
     "name": "stderr",
     "output_type": "stream",
     "text": [
      "\n",
      "145it [11:13,  4.41s/it]\u001b[A"
     ]
    },
    {
     "name": "stdout",
     "output_type": "stream",
     "text": [
      "iteration : 145\n",
      "Epoch 1/1\n",
      " 8/16 [==============>...............] - ETA: 0s - loss: 7.0183 - acc: 0.1250"
     ]
    },
    {
     "name": "stderr",
     "output_type": "stream",
     "text": [
      "/opt/conda/lib/python3.6/site-packages/keras/engine/training.py:490: UserWarning: Discrepancy between trainable weights and collected trainable weights, did you set `model.trainable` without calling `model.compile` after ?\n",
      "  'Discrepancy between trainable weights and collected trainable'\n"
     ]
    },
    {
     "name": "stdout",
     "output_type": "stream",
     "text": [
      "16/16 [==============================] - 0s 24ms/step - loss: 6.0636 - acc: 0.0625\n",
      "Epoch 1/1\n",
      "8/8 [==============================] - 1s 98ms/step - loss: 23.9817 - model_1_loss: 0.0012 - conv2d_20_loss: 0.1833\n",
      "\n",
      "Epoch 00001: loss did not improve from 22.33030\n"
     ]
    },
    {
     "name": "stderr",
     "output_type": "stream",
     "text": [
      "\n",
      "146it [11:17,  4.35s/it]\u001b[A"
     ]
    },
    {
     "name": "stdout",
     "output_type": "stream",
     "text": [
      "iteration : 146\n",
      "Epoch 1/1\n",
      " 8/16 [==============>...............] - ETA: 0s - loss: 6.7777 - acc: 0.2500"
     ]
    },
    {
     "name": "stderr",
     "output_type": "stream",
     "text": [
      "/opt/conda/lib/python3.6/site-packages/keras/engine/training.py:490: UserWarning: Discrepancy between trainable weights and collected trainable weights, did you set `model.trainable` without calling `model.compile` after ?\n",
      "  'Discrepancy between trainable weights and collected trainable'\n"
     ]
    },
    {
     "name": "stdout",
     "output_type": "stream",
     "text": [
      "16/16 [==============================] - 0s 23ms/step - loss: 6.2745 - acc: 0.1250\n",
      "Epoch 1/1\n",
      "8/8 [==============================] - 1s 97ms/step - loss: 24.4456 - model_1_loss: 0.1063 - conv2d_20_loss: 0.1827\n",
      "\n",
      "Epoch 00001: loss did not improve from 22.33030\n"
     ]
    },
    {
     "name": "stderr",
     "output_type": "stream",
     "text": [
      "\n",
      "147it [11:21,  4.29s/it]\u001b[A"
     ]
    },
    {
     "name": "stdout",
     "output_type": "stream",
     "text": [
      "iteration : 147\n",
      "Epoch 1/1\n",
      " 8/16 [==============>...............] - ETA: 0s - loss: 6.5878 - acc: 0.2500"
     ]
    },
    {
     "name": "stderr",
     "output_type": "stream",
     "text": [
      "/opt/conda/lib/python3.6/site-packages/keras/engine/training.py:490: UserWarning: Discrepancy between trainable weights and collected trainable weights, did you set `model.trainable` without calling `model.compile` after ?\n",
      "  'Discrepancy between trainable weights and collected trainable'\n"
     ]
    },
    {
     "name": "stdout",
     "output_type": "stream",
     "text": [
      "16/16 [==============================] - 0s 24ms/step - loss: 6.1495 - acc: 0.2500\n",
      "Epoch 1/1\n",
      "8/8 [==============================] - 1s 98ms/step - loss: 22.1367 - model_1_loss: 1.5222e-04 - conv2d_20_loss: 0.1649\n",
      "\n",
      "Epoch 00001: loss improved from 22.33030 to 22.13671, saving model to weights-improvement.hdf5\n"
     ]
    },
    {
     "name": "stderr",
     "output_type": "stream",
     "text": [
      "\n",
      "148it [11:26,  4.43s/it]\u001b[A"
     ]
    },
    {
     "name": "stdout",
     "output_type": "stream",
     "text": [
      "iteration : 148\n",
      "Epoch 1/1\n",
      " 8/16 [==============>...............] - ETA: 0s - loss: 4.3167 - acc: 0.3750"
     ]
    },
    {
     "name": "stderr",
     "output_type": "stream",
     "text": [
      "/opt/conda/lib/python3.6/site-packages/keras/engine/training.py:490: UserWarning: Discrepancy between trainable weights and collected trainable weights, did you set `model.trainable` without calling `model.compile` after ?\n",
      "  'Discrepancy between trainable weights and collected trainable'\n"
     ]
    },
    {
     "name": "stdout",
     "output_type": "stream",
     "text": [
      "16/16 [==============================] - 0s 23ms/step - loss: 5.8009 - acc: 0.1875\n",
      "Epoch 1/1\n",
      "8/8 [==============================] - 1s 97ms/step - loss: 22.7313 - model_1_loss: 0.0015 - conv2d_20_loss: 0.1708\n",
      "\n",
      "Epoch 00001: loss did not improve from 22.13671\n"
     ]
    },
    {
     "name": "stderr",
     "output_type": "stream",
     "text": [
      "\n",
      "149it [11:30,  4.42s/it]\u001b[A"
     ]
    },
    {
     "name": "stdout",
     "output_type": "stream",
     "text": [
      "iteration : 149\n",
      "Epoch 1/1\n",
      " 8/16 [==============>...............] - ETA: 0s - loss: 4.9581 - acc: 0.1250"
     ]
    },
    {
     "name": "stderr",
     "output_type": "stream",
     "text": [
      "/opt/conda/lib/python3.6/site-packages/keras/engine/training.py:490: UserWarning: Discrepancy between trainable weights and collected trainable weights, did you set `model.trainable` without calling `model.compile` after ?\n",
      "  'Discrepancy between trainable weights and collected trainable'\n"
     ]
    },
    {
     "name": "stdout",
     "output_type": "stream",
     "text": [
      "16/16 [==============================] - 0s 24ms/step - loss: 6.3164 - acc: 0.1250\n",
      "Epoch 1/1\n",
      "8/8 [==============================] - 1s 98ms/step - loss: 21.4771 - model_1_loss: 3.1655e-04 - conv2d_20_loss: 0.1583\n",
      "\n",
      "Epoch 00001: loss improved from 22.13671 to 21.47706, saving model to weights-improvement.hdf5\n"
     ]
    },
    {
     "name": "stderr",
     "output_type": "stream",
     "text": [
      "\n",
      "150it [11:35,  4.52s/it]\u001b[A"
     ]
    },
    {
     "name": "stdout",
     "output_type": "stream",
     "text": [
      "iteration : 150\n",
      "Epoch 1/1\n",
      " 8/16 [==============>...............] - ETA: 0s - loss: 6.2701 - acc: 0.1250"
     ]
    },
    {
     "name": "stderr",
     "output_type": "stream",
     "text": [
      "/opt/conda/lib/python3.6/site-packages/keras/engine/training.py:490: UserWarning: Discrepancy between trainable weights and collected trainable weights, did you set `model.trainable` without calling `model.compile` after ?\n",
      "  'Discrepancy between trainable weights and collected trainable'\n"
     ]
    },
    {
     "name": "stdout",
     "output_type": "stream",
     "text": [
      "16/16 [==============================] - 0s 23ms/step - loss: 6.7785 - acc: 0.0625\n",
      "Epoch 1/1\n",
      "8/8 [==============================] - 1s 97ms/step - loss: 22.1066 - model_1_loss: 0.0598 - conv2d_20_loss: 0.1616\n",
      "\n",
      "Epoch 00001: loss did not improve from 21.47706\n"
     ]
    },
    {
     "name": "stderr",
     "output_type": "stream",
     "text": [
      "\n",
      "\n",
      "0it [00:00, ?it/s]\u001b[A\u001b[A"
     ]
    },
    {
     "name": "stdout",
     "output_type": "stream",
     "text": [
      "Epoch 1\n",
      "iteration : 0\n",
      "Epoch 1/1\n",
      " 8/16 [==============>...............] - ETA: 0s - loss: 4.1264 - acc: 0.3750"
     ]
    },
    {
     "name": "stderr",
     "output_type": "stream",
     "text": [
      "/opt/conda/lib/python3.6/site-packages/keras/engine/training.py:490: UserWarning: Discrepancy between trainable weights and collected trainable weights, did you set `model.trainable` without calling `model.compile` after ?\n",
      "  'Discrepancy between trainable weights and collected trainable'\n"
     ]
    },
    {
     "name": "stdout",
     "output_type": "stream",
     "text": [
      "16/16 [==============================] - 0s 24ms/step - loss: 5.1363 - acc: 0.1875\n",
      "Epoch 1/1\n",
      "8/8 [==============================] - 1s 99ms/step - loss: 23.5921 - model_1_loss: 0.0070 - conv2d_20_loss: 0.1791\n",
      "\n",
      "Epoch 00001: loss did not improve from 21.47706\n"
     ]
    },
    {
     "name": "stderr",
     "output_type": "stream",
     "text": [
      "\n",
      "\n",
      "1it [00:04,  4.19s/it]\u001b[A\u001b[A"
     ]
    },
    {
     "name": "stdout",
     "output_type": "stream",
     "text": [
      "iteration : 1\n",
      "Epoch 1/1\n",
      " 8/16 [==============>...............] - ETA: 0s - loss: 7.7848 - acc: 0.1250"
     ]
    },
    {
     "name": "stderr",
     "output_type": "stream",
     "text": [
      "/opt/conda/lib/python3.6/site-packages/keras/engine/training.py:490: UserWarning: Discrepancy between trainable weights and collected trainable weights, did you set `model.trainable` without calling `model.compile` after ?\n",
      "  'Discrepancy between trainable weights and collected trainable'\n"
     ]
    },
    {
     "name": "stdout",
     "output_type": "stream",
     "text": [
      "16/16 [==============================] - 0s 23ms/step - loss: 6.4236 - acc: 0.1875\n",
      "Epoch 1/1\n",
      "8/8 [==============================] - 1s 97ms/step - loss: 23.1779 - model_1_loss: 0.0025 - conv2d_20_loss: 0.1752\n",
      "\n",
      "Epoch 00001: loss did not improve from 21.47706\n"
     ]
    },
    {
     "name": "stderr",
     "output_type": "stream",
     "text": [
      "\n",
      "\n",
      "2it [00:08,  4.18s/it]\u001b[A\u001b[A"
     ]
    },
    {
     "name": "stdout",
     "output_type": "stream",
     "text": [
      "iteration : 2\n",
      "Epoch 1/1\n",
      " 8/16 [==============>...............] - ETA: 0s - loss: 5.1603 - acc: 0.2500"
     ]
    },
    {
     "name": "stderr",
     "output_type": "stream",
     "text": [
      "/opt/conda/lib/python3.6/site-packages/keras/engine/training.py:490: UserWarning: Discrepancy between trainable weights and collected trainable weights, did you set `model.trainable` without calling `model.compile` after ?\n",
      "  'Discrepancy between trainable weights and collected trainable'\n"
     ]
    },
    {
     "name": "stdout",
     "output_type": "stream",
     "text": [
      "16/16 [==============================] - 0s 24ms/step - loss: 5.8496 - acc: 0.2500\n",
      "Epoch 1/1\n",
      "8/8 [==============================] - 1s 98ms/step - loss: 24.3046 - model_1_loss: 0.0732 - conv2d_20_loss: 0.1829\n",
      "\n",
      "Epoch 00001: loss did not improve from 21.47706\n"
     ]
    },
    {
     "name": "stderr",
     "output_type": "stream",
     "text": [
      "\n",
      "\n",
      "3it [00:12,  4.18s/it]\u001b[A\u001b[A"
     ]
    },
    {
     "name": "stdout",
     "output_type": "stream",
     "text": [
      "iteration : 3\n",
      "Epoch 1/1\n",
      " 8/16 [==============>...............] - ETA: 0s - loss: 5.9247 - acc: 0.1250"
     ]
    },
    {
     "name": "stderr",
     "output_type": "stream",
     "text": [
      "/opt/conda/lib/python3.6/site-packages/keras/engine/training.py:490: UserWarning: Discrepancy between trainable weights and collected trainable weights, did you set `model.trainable` without calling `model.compile` after ?\n",
      "  'Discrepancy between trainable weights and collected trainable'\n"
     ]
    },
    {
     "name": "stdout",
     "output_type": "stream",
     "text": [
      "16/16 [==============================] - 0s 23ms/step - loss: 6.4335 - acc: 0.1250\n",
      "Epoch 1/1\n",
      "8/8 [==============================] - 1s 96ms/step - loss: 23.6265 - model_1_loss: 0.0014 - conv2d_20_loss: 0.1798\n",
      "\n",
      "Epoch 00001: loss did not improve from 21.47706\n"
     ]
    },
    {
     "name": "stderr",
     "output_type": "stream",
     "text": [
      "\n",
      "\n",
      "4it [00:16,  4.15s/it]\u001b[A\u001b[A"
     ]
    },
    {
     "name": "stdout",
     "output_type": "stream",
     "text": [
      "iteration : 4\n",
      "Epoch 1/1\n",
      " 8/16 [==============>...............] - ETA: 0s - loss: 7.3090 - acc: 0.1250"
     ]
    },
    {
     "name": "stderr",
     "output_type": "stream",
     "text": [
      "/opt/conda/lib/python3.6/site-packages/keras/engine/training.py:490: UserWarning: Discrepancy between trainable weights and collected trainable weights, did you set `model.trainable` without calling `model.compile` after ?\n",
      "  'Discrepancy between trainable weights and collected trainable'\n"
     ]
    },
    {
     "name": "stdout",
     "output_type": "stream",
     "text": [
      "16/16 [==============================] - 0s 23ms/step - loss: 5.6911 - acc: 0.0625\n",
      "Epoch 1/1\n",
      "8/8 [==============================] - 1s 98ms/step - loss: 23.5751 - model_1_loss: 0.0242 - conv2d_20_loss: 0.1781\n",
      "\n",
      "Epoch 00001: loss did not improve from 21.47706\n"
     ]
    },
    {
     "name": "stderr",
     "output_type": "stream",
     "text": [
      "\n",
      "\n",
      "5it [00:20,  4.17s/it]\u001b[A\u001b[A"
     ]
    },
    {
     "name": "stdout",
     "output_type": "stream",
     "text": [
      "iteration : 5\n",
      "Epoch 1/1\n",
      " 8/16 [==============>...............] - ETA: 0s - loss: 7.5851 - acc: 0.1250"
     ]
    },
    {
     "name": "stderr",
     "output_type": "stream",
     "text": [
      "/opt/conda/lib/python3.6/site-packages/keras/engine/training.py:490: UserWarning: Discrepancy between trainable weights and collected trainable weights, did you set `model.trainable` without calling `model.compile` after ?\n",
      "  'Discrepancy between trainable weights and collected trainable'\n"
     ]
    },
    {
     "name": "stdout",
     "output_type": "stream",
     "text": [
      "16/16 [==============================] - 0s 23ms/step - loss: 6.2033 - acc: 0.1875\n",
      "Epoch 1/1\n",
      "8/8 [==============================] - 1s 97ms/step - loss: 22.3796 - model_1_loss: 0.0056 - conv2d_20_loss: 0.1671\n",
      "\n",
      "Epoch 00001: loss did not improve from 21.47706\n"
     ]
    },
    {
     "name": "stderr",
     "output_type": "stream",
     "text": [
      "\n",
      "\n",
      "6it [00:24,  4.16s/it]\u001b[A\u001b[A"
     ]
    },
    {
     "name": "stdout",
     "output_type": "stream",
     "text": [
      "iteration : 6\n",
      "Epoch 1/1\n",
      " 8/16 [==============>...............] - ETA: 0s - loss: 7.2982 - acc: 0.3750"
     ]
    },
    {
     "name": "stderr",
     "output_type": "stream",
     "text": [
      "/opt/conda/lib/python3.6/site-packages/keras/engine/training.py:490: UserWarning: Discrepancy between trainable weights and collected trainable weights, did you set `model.trainable` without calling `model.compile` after ?\n",
      "  'Discrepancy between trainable weights and collected trainable'\n"
     ]
    },
    {
     "name": "stdout",
     "output_type": "stream",
     "text": [
      "16/16 [==============================] - 0s 24ms/step - loss: 6.6600 - acc: 0.3125\n",
      "Epoch 1/1\n",
      "8/8 [==============================] - 1s 99ms/step - loss: 24.8318 - model_1_loss: 9.8374e-04 - conv2d_20_loss: 0.1918\n",
      "\n",
      "Epoch 00001: loss did not improve from 21.47706\n"
     ]
    },
    {
     "name": "stderr",
     "output_type": "stream",
     "text": [
      "\n",
      "\n",
      "7it [00:29,  4.17s/it]\u001b[A\u001b[A"
     ]
    },
    {
     "name": "stdout",
     "output_type": "stream",
     "text": [
      "iteration : 7\n",
      "Epoch 1/1\n",
      " 8/16 [==============>...............] - ETA: 0s - loss: 6.1706 - acc: 0.2500"
     ]
    },
    {
     "name": "stderr",
     "output_type": "stream",
     "text": [
      "/opt/conda/lib/python3.6/site-packages/keras/engine/training.py:490: UserWarning: Discrepancy between trainable weights and collected trainable weights, did you set `model.trainable` without calling `model.compile` after ?\n",
      "  'Discrepancy between trainable weights and collected trainable'\n"
     ]
    },
    {
     "name": "stdout",
     "output_type": "stream",
     "text": [
      "16/16 [==============================] - 0s 23ms/step - loss: 6.0978 - acc: 0.1875\n",
      "Epoch 1/1\n",
      "8/8 [==============================] - 1s 97ms/step - loss: 22.2331 - model_1_loss: 0.0118 - conv2d_20_loss: 0.1653\n",
      "\n",
      "Epoch 00001: loss did not improve from 21.47706\n"
     ]
    },
    {
     "name": "stderr",
     "output_type": "stream",
     "text": [
      "\n",
      "\n",
      "8it [00:33,  4.16s/it]\u001b[A\u001b[A"
     ]
    },
    {
     "name": "stdout",
     "output_type": "stream",
     "text": [
      "iteration : 8\n",
      "Epoch 1/1\n",
      " 8/16 [==============>...............] - ETA: 0s - loss: 6.7868 - acc: 0.0000e+00"
     ]
    },
    {
     "name": "stderr",
     "output_type": "stream",
     "text": [
      "/opt/conda/lib/python3.6/site-packages/keras/engine/training.py:490: UserWarning: Discrepancy between trainable weights and collected trainable weights, did you set `model.trainable` without calling `model.compile` after ?\n",
      "  'Discrepancy between trainable weights and collected trainable'\n"
     ]
    },
    {
     "name": "stdout",
     "output_type": "stream",
     "text": [
      "16/16 [==============================] - 0s 24ms/step - loss: 6.9499 - acc: 0.0625\n",
      "Epoch 1/1\n",
      "8/8 [==============================] - 1s 98ms/step - loss: 23.2722 - model_1_loss: 0.0060 - conv2d_20_loss: 0.1760\n",
      "\n",
      "Epoch 00001: loss did not improve from 21.47706\n"
     ]
    },
    {
     "name": "stderr",
     "output_type": "stream",
     "text": [
      "\n",
      "\n",
      "9it [00:37,  4.17s/it]\u001b[A\u001b[A"
     ]
    },
    {
     "name": "stdout",
     "output_type": "stream",
     "text": [
      "iteration : 9\n",
      "Epoch 1/1\n",
      " 8/16 [==============>...............] - ETA: 0s - loss: 5.7386 - acc: 0.1250"
     ]
    },
    {
     "name": "stderr",
     "output_type": "stream",
     "text": [
      "/opt/conda/lib/python3.6/site-packages/keras/engine/training.py:490: UserWarning: Discrepancy between trainable weights and collected trainable weights, did you set `model.trainable` without calling `model.compile` after ?\n",
      "  'Discrepancy between trainable weights and collected trainable'\n"
     ]
    },
    {
     "name": "stdout",
     "output_type": "stream",
     "text": [
      "16/16 [==============================] - 0s 23ms/step - loss: 6.3127 - acc: 0.1250\n",
      "Epoch 1/1\n",
      "8/8 [==============================] - 1s 97ms/step - loss: 22.4803 - model_1_loss: 4.2929e-04 - conv2d_20_loss: 0.1683\n",
      "\n",
      "Epoch 00001: loss did not improve from 21.47706\n"
     ]
    },
    {
     "name": "stderr",
     "output_type": "stream",
     "text": [
      "\n",
      "\n",
      "10it [00:41,  4.16s/it]\u001b[A\u001b[A"
     ]
    },
    {
     "name": "stdout",
     "output_type": "stream",
     "text": [
      "iteration : 10\n",
      "Epoch 1/1\n",
      " 8/16 [==============>...............] - ETA: 0s - loss: 4.7670 - acc: 0.1250"
     ]
    },
    {
     "name": "stderr",
     "output_type": "stream",
     "text": [
      "/opt/conda/lib/python3.6/site-packages/keras/engine/training.py:490: UserWarning: Discrepancy between trainable weights and collected trainable weights, did you set `model.trainable` without calling `model.compile` after ?\n",
      "  'Discrepancy between trainable weights and collected trainable'\n"
     ]
    },
    {
     "name": "stdout",
     "output_type": "stream",
     "text": [
      "16/16 [==============================] - 0s 24ms/step - loss: 4.8185 - acc: 0.1250\n",
      "Epoch 1/1\n",
      "8/8 [==============================] - 1s 98ms/step - loss: 24.7410 - model_1_loss: 0.0701 - conv2d_20_loss: 0.1875\n",
      "\n",
      "Epoch 00001: loss did not improve from 21.47706\n"
     ]
    },
    {
     "name": "stderr",
     "output_type": "stream",
     "text": [
      "\n",
      "\n",
      "11it [00:45,  4.17s/it]\u001b[A\u001b[A"
     ]
    },
    {
     "name": "stdout",
     "output_type": "stream",
     "text": [
      "iteration : 11\n",
      "Epoch 1/1\n",
      " 8/16 [==============>...............] - ETA: 0s - loss: 5.8682 - acc: 0.1250"
     ]
    },
    {
     "name": "stderr",
     "output_type": "stream",
     "text": [
      "/opt/conda/lib/python3.6/site-packages/keras/engine/training.py:490: UserWarning: Discrepancy between trainable weights and collected trainable weights, did you set `model.trainable` without calling `model.compile` after ?\n",
      "  'Discrepancy between trainable weights and collected trainable'\n"
     ]
    },
    {
     "name": "stdout",
     "output_type": "stream",
     "text": [
      "16/16 [==============================] - 0s 23ms/step - loss: 6.0282 - acc: 0.1875\n",
      "Epoch 1/1\n",
      "8/8 [==============================] - 1s 97ms/step - loss: 22.2856 - model_1_loss: 0.0770 - conv2d_20_loss: 0.1626\n",
      "\n",
      "Epoch 00001: loss did not improve from 21.47706\n"
     ]
    },
    {
     "name": "stderr",
     "output_type": "stream",
     "text": [
      "\n",
      "\n",
      "12it [00:49,  4.17s/it]\u001b[A\u001b[A"
     ]
    },
    {
     "name": "stdout",
     "output_type": "stream",
     "text": [
      "iteration : 12\n",
      "Epoch 1/1\n",
      " 8/16 [==============>...............] - ETA: 0s - loss: 3.6061 - acc: 0.1250"
     ]
    },
    {
     "name": "stderr",
     "output_type": "stream",
     "text": [
      "/opt/conda/lib/python3.6/site-packages/keras/engine/training.py:490: UserWarning: Discrepancy between trainable weights and collected trainable weights, did you set `model.trainable` without calling `model.compile` after ?\n",
      "  'Discrepancy between trainable weights and collected trainable'\n"
     ]
    },
    {
     "name": "stdout",
     "output_type": "stream",
     "text": [
      "16/16 [==============================] - 0s 24ms/step - loss: 3.5681 - acc: 0.3750\n",
      "Epoch 1/1\n",
      "8/8 [==============================] - 1s 98ms/step - loss: 24.6916 - model_1_loss: 0.1093 - conv2d_20_loss: 0.1850\n",
      "\n",
      "Epoch 00001: loss did not improve from 21.47706\n"
     ]
    },
    {
     "name": "stderr",
     "output_type": "stream",
     "text": [
      "\n",
      "\n",
      "13it [00:54,  4.17s/it]\u001b[A\u001b[A"
     ]
    },
    {
     "name": "stdout",
     "output_type": "stream",
     "text": [
      "iteration : 13\n",
      "Epoch 1/1\n",
      " 8/16 [==============>...............] - ETA: 0s - loss: 3.4482 - acc: 0.3750"
     ]
    },
    {
     "name": "stderr",
     "output_type": "stream",
     "text": [
      "/opt/conda/lib/python3.6/site-packages/keras/engine/training.py:490: UserWarning: Discrepancy between trainable weights and collected trainable weights, did you set `model.trainable` without calling `model.compile` after ?\n",
      "  'Discrepancy between trainable weights and collected trainable'\n"
     ]
    },
    {
     "name": "stdout",
     "output_type": "stream",
     "text": [
      "16/16 [==============================] - 0s 23ms/step - loss: 6.4790 - acc: 0.1875\n",
      "Epoch 1/1\n",
      "8/8 [==============================] - 1s 97ms/step - loss: 21.8223 - model_1_loss: 0.0018 - conv2d_20_loss: 0.1617\n",
      "\n",
      "Epoch 00001: loss did not improve from 21.47706\n"
     ]
    },
    {
     "name": "stderr",
     "output_type": "stream",
     "text": [
      "\n",
      "\n",
      "14it [00:58,  4.17s/it]\u001b[A\u001b[A"
     ]
    },
    {
     "name": "stdout",
     "output_type": "stream",
     "text": [
      "iteration : 14\n",
      "Epoch 1/1\n",
      " 8/16 [==============>...............] - ETA: 0s - loss: 6.8845 - acc: 0.0000e+00"
     ]
    },
    {
     "name": "stderr",
     "output_type": "stream",
     "text": [
      "/opt/conda/lib/python3.6/site-packages/keras/engine/training.py:490: UserWarning: Discrepancy between trainable weights and collected trainable weights, did you set `model.trainable` without calling `model.compile` after ?\n",
      "  'Discrepancy between trainable weights and collected trainable'\n"
     ]
    },
    {
     "name": "stdout",
     "output_type": "stream",
     "text": [
      "16/16 [==============================] - 0s 24ms/step - loss: 6.8721 - acc: 0.0000e+00\n",
      "Epoch 1/1\n",
      "8/8 [==============================] - 1s 98ms/step - loss: 23.5088 - model_1_loss: 0.0025 - conv2d_20_loss: 0.1785\n",
      "\n",
      "Epoch 00001: loss did not improve from 21.47706\n"
     ]
    },
    {
     "name": "stderr",
     "output_type": "stream",
     "text": [
      "\n",
      "\n",
      "15it [01:02,  4.18s/it]\u001b[A\u001b[A"
     ]
    },
    {
     "name": "stdout",
     "output_type": "stream",
     "text": [
      "iteration : 15\n",
      "Epoch 1/1\n",
      " 8/16 [==============>...............] - ETA: 0s - loss: 5.9021 - acc: 0.1250"
     ]
    },
    {
     "name": "stderr",
     "output_type": "stream",
     "text": [
      "/opt/conda/lib/python3.6/site-packages/keras/engine/training.py:490: UserWarning: Discrepancy between trainable weights and collected trainable weights, did you set `model.trainable` without calling `model.compile` after ?\n",
      "  'Discrepancy between trainable weights and collected trainable'\n"
     ]
    },
    {
     "name": "stdout",
     "output_type": "stream",
     "text": [
      "16/16 [==============================] - 0s 23ms/step - loss: 6.9922 - acc: 0.1250\n",
      "Epoch 1/1\n",
      "8/8 [==============================] - 1s 97ms/step - loss: 21.9416 - model_1_loss: 1.7003e-04 - conv2d_20_loss: 0.1630\n",
      "\n",
      "Epoch 00001: loss did not improve from 21.47706\n"
     ]
    },
    {
     "name": "stderr",
     "output_type": "stream",
     "text": [
      "\n",
      "\n",
      "16it [01:06,  4.17s/it]\u001b[A\u001b[A"
     ]
    },
    {
     "name": "stdout",
     "output_type": "stream",
     "text": [
      "iteration : 16\n",
      "Epoch 1/1\n",
      " 8/16 [==============>...............] - ETA: 0s - loss: 7.8373 - acc: 0.1250"
     ]
    },
    {
     "name": "stderr",
     "output_type": "stream",
     "text": [
      "/opt/conda/lib/python3.6/site-packages/keras/engine/training.py:490: UserWarning: Discrepancy between trainable weights and collected trainable weights, did you set `model.trainable` without calling `model.compile` after ?\n",
      "  'Discrepancy between trainable weights and collected trainable'\n"
     ]
    },
    {
     "name": "stdout",
     "output_type": "stream",
     "text": [
      "16/16 [==============================] - 0s 24ms/step - loss: 6.8094 - acc: 0.1875\n",
      "Epoch 1/1\n",
      "8/8 [==============================] - 1s 98ms/step - loss: 24.4597 - model_1_loss: 7.2903e-04 - conv2d_20_loss: 0.1881\n",
      "\n",
      "Epoch 00001: loss did not improve from 21.47706\n"
     ]
    },
    {
     "name": "stderr",
     "output_type": "stream",
     "text": [
      "\n",
      "\n",
      "17it [01:10,  4.18s/it]\u001b[A\u001b[A"
     ]
    },
    {
     "name": "stdout",
     "output_type": "stream",
     "text": [
      "iteration : 17\n",
      "Epoch 1/1\n",
      " 8/16 [==============>...............] - ETA: 0s - loss: 6.4898 - acc: 0.1250"
     ]
    },
    {
     "name": "stderr",
     "output_type": "stream",
     "text": [
      "/opt/conda/lib/python3.6/site-packages/keras/engine/training.py:490: UserWarning: Discrepancy between trainable weights and collected trainable weights, did you set `model.trainable` without calling `model.compile` after ?\n",
      "  'Discrepancy between trainable weights and collected trainable'\n"
     ]
    },
    {
     "name": "stdout",
     "output_type": "stream",
     "text": [
      "16/16 [==============================] - 0s 23ms/step - loss: 6.2622 - acc: 0.1250\n",
      "Epoch 1/1\n",
      "8/8 [==============================] - 1s 97ms/step - loss: 25.2801 - model_1_loss: 0.0102 - conv2d_20_loss: 0.1959\n",
      "\n",
      "Epoch 00001: loss did not improve from 21.47706\n"
     ]
    },
    {
     "name": "stderr",
     "output_type": "stream",
     "text": [
      "\n",
      "\n",
      "18it [01:15,  4.17s/it]\u001b[A\u001b[A"
     ]
    },
    {
     "name": "stdout",
     "output_type": "stream",
     "text": [
      "iteration : 18\n",
      "Epoch 1/1\n",
      " 8/16 [==============>...............] - ETA: 0s - loss: 7.7369 - acc: 0.2500"
     ]
    },
    {
     "name": "stderr",
     "output_type": "stream",
     "text": [
      "/opt/conda/lib/python3.6/site-packages/keras/engine/training.py:490: UserWarning: Discrepancy between trainable weights and collected trainable weights, did you set `model.trainable` without calling `model.compile` after ?\n",
      "  'Discrepancy between trainable weights and collected trainable'\n"
     ]
    },
    {
     "name": "stdout",
     "output_type": "stream",
     "text": [
      "16/16 [==============================] - 0s 24ms/step - loss: 6.7942 - acc: 0.2500\n",
      "Epoch 1/1\n",
      "8/8 [==============================] - 1s 98ms/step - loss: 22.4181 - model_1_loss: 8.5521e-04 - conv2d_20_loss: 0.1677\n",
      "\n",
      "Epoch 00001: loss did not improve from 21.47706\n"
     ]
    },
    {
     "name": "stderr",
     "output_type": "stream",
     "text": [
      "\n",
      "\n",
      "19it [01:19,  4.18s/it]\u001b[A\u001b[A"
     ]
    },
    {
     "name": "stdout",
     "output_type": "stream",
     "text": [
      "iteration : 19\n",
      "Epoch 1/1\n",
      " 8/16 [==============>...............] - ETA: 0s - loss: 7.6723 - acc: 0.1250"
     ]
    },
    {
     "name": "stderr",
     "output_type": "stream",
     "text": [
      "/opt/conda/lib/python3.6/site-packages/keras/engine/training.py:490: UserWarning: Discrepancy between trainable weights and collected trainable weights, did you set `model.trainable` without calling `model.compile` after ?\n",
      "  'Discrepancy between trainable weights and collected trainable'\n"
     ]
    },
    {
     "name": "stdout",
     "output_type": "stream",
     "text": [
      "16/16 [==============================] - 0s 23ms/step - loss: 5.9901 - acc: 0.0625\n",
      "Epoch 1/1\n",
      "8/8 [==============================] - 1s 97ms/step - loss: 23.2410 - model_1_loss: 0.0033 - conv2d_20_loss: 0.1758\n",
      "\n",
      "Epoch 00001: loss did not improve from 21.47706\n"
     ]
    },
    {
     "name": "stderr",
     "output_type": "stream",
     "text": [
      "\n",
      "\n",
      "20it [01:23,  4.17s/it]\u001b[A\u001b[A"
     ]
    },
    {
     "name": "stdout",
     "output_type": "stream",
     "text": [
      "iteration : 20\n",
      "Epoch 1/1\n",
      " 8/16 [==============>...............] - ETA: 0s - loss: 7.4358 - acc: 0.2500"
     ]
    },
    {
     "name": "stderr",
     "output_type": "stream",
     "text": [
      "/opt/conda/lib/python3.6/site-packages/keras/engine/training.py:490: UserWarning: Discrepancy between trainable weights and collected trainable weights, did you set `model.trainable` without calling `model.compile` after ?\n",
      "  'Discrepancy between trainable weights and collected trainable'\n"
     ]
    },
    {
     "name": "stdout",
     "output_type": "stream",
     "text": [
      "16/16 [==============================] - 0s 24ms/step - loss: 6.4963 - acc: 0.1875\n",
      "Epoch 1/1\n",
      "8/8 [==============================] - 1s 98ms/step - loss: 23.2630 - model_1_loss: 6.6865e-04 - conv2d_20_loss: 0.1762\n",
      "\n",
      "Epoch 00001: loss did not improve from 21.47706\n"
     ]
    },
    {
     "name": "stderr",
     "output_type": "stream",
     "text": [
      "\n",
      "\n",
      "21it [01:27,  4.17s/it]\u001b[A\u001b[A"
     ]
    },
    {
     "name": "stdout",
     "output_type": "stream",
     "text": [
      "iteration : 21\n",
      "Epoch 1/1\n",
      " 8/16 [==============>...............] - ETA: 0s - loss: 7.8584 - acc: 0.2500"
     ]
    },
    {
     "name": "stderr",
     "output_type": "stream",
     "text": [
      "/opt/conda/lib/python3.6/site-packages/keras/engine/training.py:490: UserWarning: Discrepancy between trainable weights and collected trainable weights, did you set `model.trainable` without calling `model.compile` after ?\n",
      "  'Discrepancy between trainable weights and collected trainable'\n"
     ]
    },
    {
     "name": "stdout",
     "output_type": "stream",
     "text": [
      "16/16 [==============================] - 0s 23ms/step - loss: 7.3214 - acc: 0.1875\n",
      "Epoch 1/1\n",
      "8/8 [==============================] - 1s 97ms/step - loss: 22.9148 - model_1_loss: 0.0322 - conv2d_20_loss: 0.1711\n",
      "\n",
      "Epoch 00001: loss did not improve from 21.47706\n"
     ]
    },
    {
     "name": "stderr",
     "output_type": "stream",
     "text": [
      "\n",
      "\n",
      "22it [01:31,  4.17s/it]\u001b[A\u001b[A"
     ]
    },
    {
     "name": "stdout",
     "output_type": "stream",
     "text": [
      "iteration : 22\n",
      "Epoch 1/1\n",
      " 8/16 [==============>...............] - ETA: 0s - loss: 8.5068 - acc: 0.2500"
     ]
    },
    {
     "name": "stderr",
     "output_type": "stream",
     "text": [
      "/opt/conda/lib/python3.6/site-packages/keras/engine/training.py:490: UserWarning: Discrepancy between trainable weights and collected trainable weights, did you set `model.trainable` without calling `model.compile` after ?\n",
      "  'Discrepancy between trainable weights and collected trainable'\n"
     ]
    },
    {
     "name": "stdout",
     "output_type": "stream",
     "text": [
      "16/16 [==============================] - 0s 24ms/step - loss: 6.6434 - acc: 0.2500\n",
      "Epoch 1/1\n",
      "8/8 [==============================] - 1s 99ms/step - loss: 22.3570 - model_1_loss: 6.3545e-04 - conv2d_20_loss: 0.1671\n",
      "\n",
      "Epoch 00001: loss did not improve from 21.47706\n"
     ]
    },
    {
     "name": "stderr",
     "output_type": "stream",
     "text": [
      "\n",
      "\n",
      "23it [01:35,  4.17s/it]\u001b[A\u001b[A"
     ]
    },
    {
     "name": "stdout",
     "output_type": "stream",
     "text": [
      "iteration : 23\n",
      "Epoch 1/1\n",
      " 8/16 [==============>...............] - ETA: 0s - loss: 6.1552 - acc: 0.3750"
     ]
    },
    {
     "name": "stderr",
     "output_type": "stream",
     "text": [
      "/opt/conda/lib/python3.6/site-packages/keras/engine/training.py:490: UserWarning: Discrepancy between trainable weights and collected trainable weights, did you set `model.trainable` without calling `model.compile` after ?\n",
      "  'Discrepancy between trainable weights and collected trainable'\n"
     ]
    },
    {
     "name": "stdout",
     "output_type": "stream",
     "text": [
      "16/16 [==============================] - 0s 23ms/step - loss: 6.4272 - acc: 0.3125\n",
      "Epoch 1/1\n",
      "8/8 [==============================] - 1s 97ms/step - loss: 21.4933 - model_1_loss: 0.0027 - conv2d_20_loss: 0.1584\n",
      "\n",
      "Epoch 00001: loss did not improve from 21.47706\n"
     ]
    },
    {
     "name": "stderr",
     "output_type": "stream",
     "text": [
      "\n",
      "\n",
      "24it [01:39,  4.15s/it]\u001b[A\u001b[A"
     ]
    },
    {
     "name": "stdout",
     "output_type": "stream",
     "text": [
      "iteration : 24\n",
      "Epoch 1/1\n",
      " 8/16 [==============>...............] - ETA: 0s - loss: 6.4628 - acc: 0.0000e+00"
     ]
    },
    {
     "name": "stderr",
     "output_type": "stream",
     "text": [
      "/opt/conda/lib/python3.6/site-packages/keras/engine/training.py:490: UserWarning: Discrepancy between trainable weights and collected trainable weights, did you set `model.trainable` without calling `model.compile` after ?\n",
      "  'Discrepancy between trainable weights and collected trainable'\n"
     ]
    },
    {
     "name": "stdout",
     "output_type": "stream",
     "text": [
      "16/16 [==============================] - 0s 23ms/step - loss: 6.4985 - acc: 0.0000e+00\n",
      "Epoch 1/1\n",
      "8/8 [==============================] - 1s 98ms/step - loss: 21.4133 - model_1_loss: 0.0024 - conv2d_20_loss: 0.1576\n",
      "\n",
      "Epoch 00001: loss improved from 21.47706 to 21.41334, saving model to weights-improvement.hdf5\n"
     ]
    },
    {
     "name": "stderr",
     "output_type": "stream",
     "text": [
      "\n",
      "\n",
      "25it [01:44,  4.31s/it]\u001b[A\u001b[A"
     ]
    },
    {
     "name": "stdout",
     "output_type": "stream",
     "text": [
      "iteration : 25\n",
      "Epoch 1/1\n",
      " 8/16 [==============>...............] - ETA: 0s - loss: 7.4324 - acc: 0.1250"
     ]
    },
    {
     "name": "stderr",
     "output_type": "stream",
     "text": [
      "/opt/conda/lib/python3.6/site-packages/keras/engine/training.py:490: UserWarning: Discrepancy between trainable weights and collected trainable weights, did you set `model.trainable` without calling `model.compile` after ?\n",
      "  'Discrepancy between trainable weights and collected trainable'\n"
     ]
    },
    {
     "name": "stdout",
     "output_type": "stream",
     "text": [
      "16/16 [==============================] - 0s 23ms/step - loss: 7.0824 - acc: 0.0625\n",
      "Epoch 1/1\n",
      "8/8 [==============================] - 1s 97ms/step - loss: 21.5469 - model_1_loss: 0.0022 - conv2d_20_loss: 0.1589\n",
      "\n",
      "Epoch 00001: loss did not improve from 21.41334\n"
     ]
    },
    {
     "name": "stderr",
     "output_type": "stream",
     "text": [
      "\n",
      "\n",
      "26it [01:49,  4.32s/it]\u001b[A\u001b[A"
     ]
    },
    {
     "name": "stdout",
     "output_type": "stream",
     "text": [
      "iteration : 26\n",
      "Epoch 1/1\n",
      " 8/16 [==============>...............] - ETA: 0s - loss: 7.0934 - acc: 0.1250"
     ]
    },
    {
     "name": "stderr",
     "output_type": "stream",
     "text": [
      "/opt/conda/lib/python3.6/site-packages/keras/engine/training.py:490: UserWarning: Discrepancy between trainable weights and collected trainable weights, did you set `model.trainable` without calling `model.compile` after ?\n",
      "  'Discrepancy between trainable weights and collected trainable'\n"
     ]
    },
    {
     "name": "stdout",
     "output_type": "stream",
     "text": [
      "16/16 [==============================] - 0s 24ms/step - loss: 6.5301 - acc: 0.1875\n",
      "Epoch 1/1\n",
      "8/8 [==============================] - 1s 98ms/step - loss: 22.6468 - model_1_loss: 0.0012 - conv2d_20_loss: 0.1700\n",
      "\n",
      "Epoch 00001: loss did not improve from 21.41334\n"
     ]
    },
    {
     "name": "stderr",
     "output_type": "stream",
     "text": [
      "\n",
      "\n",
      "27it [01:53,  4.28s/it]\u001b[A\u001b[A"
     ]
    },
    {
     "name": "stdout",
     "output_type": "stream",
     "text": [
      "iteration : 27\n",
      "Epoch 1/1\n",
      " 8/16 [==============>...............] - ETA: 0s - loss: 4.9260 - acc: 0.1250"
     ]
    },
    {
     "name": "stderr",
     "output_type": "stream",
     "text": [
      "/opt/conda/lib/python3.6/site-packages/keras/engine/training.py:490: UserWarning: Discrepancy between trainable weights and collected trainable weights, did you set `model.trainable` without calling `model.compile` after ?\n",
      "  'Discrepancy between trainable weights and collected trainable'\n"
     ]
    },
    {
     "name": "stdout",
     "output_type": "stream",
     "text": [
      "16/16 [==============================] - 0s 23ms/step - loss: 5.9509 - acc: 0.1875\n",
      "Epoch 1/1\n",
      "8/8 [==============================] - 1s 97ms/step - loss: 23.1866 - model_1_loss: 0.0046 - conv2d_20_loss: 0.1752\n",
      "\n",
      "Epoch 00001: loss did not improve from 21.41334\n"
     ]
    },
    {
     "name": "stderr",
     "output_type": "stream",
     "text": [
      "\n",
      "\n",
      "28it [01:57,  4.25s/it]\u001b[A\u001b[A"
     ]
    },
    {
     "name": "stdout",
     "output_type": "stream",
     "text": [
      "iteration : 28\n",
      "Epoch 1/1\n",
      " 8/16 [==============>...............] - ETA: 0s - loss: 6.4180 - acc: 0.0000e+00"
     ]
    },
    {
     "name": "stderr",
     "output_type": "stream",
     "text": [
      "/opt/conda/lib/python3.6/site-packages/keras/engine/training.py:490: UserWarning: Discrepancy between trainable weights and collected trainable weights, did you set `model.trainable` without calling `model.compile` after ?\n",
      "  'Discrepancy between trainable weights and collected trainable'\n"
     ]
    },
    {
     "name": "stdout",
     "output_type": "stream",
     "text": [
      "16/16 [==============================] - 0s 24ms/step - loss: 6.4994 - acc: 0.0625\n",
      "Epoch 1/1\n",
      "8/8 [==============================] - 1s 98ms/step - loss: 23.1885 - model_1_loss: 0.0227 - conv2d_20_loss: 0.1743\n",
      "\n",
      "Epoch 00001: loss did not improve from 21.41334\n"
     ]
    },
    {
     "name": "stderr",
     "output_type": "stream",
     "text": [
      "\n",
      "\n",
      "29it [02:01,  4.23s/it]\u001b[A\u001b[A"
     ]
    },
    {
     "name": "stdout",
     "output_type": "stream",
     "text": [
      "iteration : 29\n",
      "Epoch 1/1\n",
      " 8/16 [==============>...............] - ETA: 0s - loss: 6.2073 - acc: 0.2500"
     ]
    },
    {
     "name": "stderr",
     "output_type": "stream",
     "text": [
      "/opt/conda/lib/python3.6/site-packages/keras/engine/training.py:490: UserWarning: Discrepancy between trainable weights and collected trainable weights, did you set `model.trainable` without calling `model.compile` after ?\n",
      "  'Discrepancy between trainable weights and collected trainable'\n"
     ]
    },
    {
     "name": "stdout",
     "output_type": "stream",
     "text": [
      "16/16 [==============================] - 0s 24ms/step - loss: 6.7162 - acc: 0.1875\n",
      "Epoch 1/1\n",
      "8/8 [==============================] - 1s 97ms/step - loss: 21.2599 - model_1_loss: 0.0060 - conv2d_20_loss: 0.1559\n",
      "\n",
      "Epoch 00001: loss improved from 21.41334 to 21.25995, saving model to weights-improvement.hdf5\n"
     ]
    },
    {
     "name": "stderr",
     "output_type": "stream",
     "text": [
      "\n",
      "\n",
      "30it [02:06,  4.40s/it]\u001b[A\u001b[A"
     ]
    },
    {
     "name": "stdout",
     "output_type": "stream",
     "text": [
      "iteration : 30\n",
      "Epoch 1/1\n",
      " 8/16 [==============>...............] - ETA: 0s - loss: 7.5116 - acc: 0.0000e+00"
     ]
    },
    {
     "name": "stderr",
     "output_type": "stream",
     "text": [
      "/opt/conda/lib/python3.6/site-packages/keras/engine/training.py:490: UserWarning: Discrepancy between trainable weights and collected trainable weights, did you set `model.trainable` without calling `model.compile` after ?\n",
      "  'Discrepancy between trainable weights and collected trainable'\n"
     ]
    },
    {
     "name": "stdout",
     "output_type": "stream",
     "text": [
      "16/16 [==============================] - 0s 24ms/step - loss: 7.0575 - acc: 0.1250\n",
      "Epoch 1/1\n",
      "8/8 [==============================] - 1s 98ms/step - loss: 23.1299 - model_1_loss: 1.6531e-04 - conv2d_20_loss: 0.1749\n",
      "\n",
      "Epoch 00001: loss did not improve from 21.25995\n"
     ]
    },
    {
     "name": "stderr",
     "output_type": "stream",
     "text": [
      "\n",
      "\n",
      "31it [02:10,  4.40s/it]\u001b[A\u001b[A"
     ]
    },
    {
     "name": "stdout",
     "output_type": "stream",
     "text": [
      "iteration : 31\n",
      "Epoch 1/1\n",
      " 8/16 [==============>...............] - ETA: 0s - loss: 4.3205 - acc: 0.2500"
     ]
    },
    {
     "name": "stderr",
     "output_type": "stream",
     "text": [
      "/opt/conda/lib/python3.6/site-packages/keras/engine/training.py:490: UserWarning: Discrepancy between trainable weights and collected trainable weights, did you set `model.trainable` without calling `model.compile` after ?\n",
      "  'Discrepancy between trainable weights and collected trainable'\n"
     ]
    },
    {
     "name": "stdout",
     "output_type": "stream",
     "text": [
      "16/16 [==============================] - 0s 23ms/step - loss: 4.7824 - acc: 0.2500\n",
      "Epoch 1/1\n",
      "8/8 [==============================] - 1s 97ms/step - loss: 22.7157 - model_1_loss: 0.0141 - conv2d_20_loss: 0.1700\n",
      "\n",
      "Epoch 00001: loss did not improve from 21.25995\n"
     ]
    },
    {
     "name": "stderr",
     "output_type": "stream",
     "text": [
      "\n",
      "\n",
      "32it [02:14,  4.33s/it]\u001b[A\u001b[A"
     ]
    },
    {
     "name": "stdout",
     "output_type": "stream",
     "text": [
      "iteration : 32\n",
      "Epoch 1/1\n",
      " 8/16 [==============>...............] - ETA: 0s - loss: 5.9320 - acc: 0.3750"
     ]
    },
    {
     "name": "stderr",
     "output_type": "stream",
     "text": [
      "/opt/conda/lib/python3.6/site-packages/keras/engine/training.py:490: UserWarning: Discrepancy between trainable weights and collected trainable weights, did you set `model.trainable` without calling `model.compile` after ?\n",
      "  'Discrepancy between trainable weights and collected trainable'\n"
     ]
    },
    {
     "name": "stdout",
     "output_type": "stream",
     "text": [
      "16/16 [==============================] - 0s 24ms/step - loss: 6.2480 - acc: 0.2500\n",
      "Epoch 1/1\n",
      "8/8 [==============================] - 1s 98ms/step - loss: 23.1196 - model_1_loss: 6.6696e-04 - conv2d_20_loss: 0.1747\n",
      "\n",
      "Epoch 00001: loss did not improve from 21.25995\n"
     ]
    },
    {
     "name": "stderr",
     "output_type": "stream",
     "text": [
      "\n",
      "\n",
      "33it [02:19,  4.29s/it]\u001b[A\u001b[A"
     ]
    },
    {
     "name": "stdout",
     "output_type": "stream",
     "text": [
      "iteration : 33\n",
      "Epoch 1/1\n",
      " 8/16 [==============>...............] - ETA: 0s - loss: 7.2776 - acc: 0.1250"
     ]
    },
    {
     "name": "stderr",
     "output_type": "stream",
     "text": [
      "/opt/conda/lib/python3.6/site-packages/keras/engine/training.py:490: UserWarning: Discrepancy between trainable weights and collected trainable weights, did you set `model.trainable` without calling `model.compile` after ?\n",
      "  'Discrepancy between trainable weights and collected trainable'\n"
     ]
    },
    {
     "name": "stdout",
     "output_type": "stream",
     "text": [
      "16/16 [==============================] - 0s 23ms/step - loss: 5.4355 - acc: 0.2500\n",
      "Epoch 1/1\n",
      "8/8 [==============================] - 1s 97ms/step - loss: 21.8411 - model_1_loss: 2.3780e-04 - conv2d_20_loss: 0.1620\n",
      "\n",
      "Epoch 00001: loss did not improve from 21.25995\n"
     ]
    },
    {
     "name": "stderr",
     "output_type": "stream",
     "text": [
      "\n",
      "\n",
      "34it [02:23,  4.25s/it]\u001b[A\u001b[A"
     ]
    },
    {
     "name": "stdout",
     "output_type": "stream",
     "text": [
      "iteration : 34\n",
      "Epoch 1/1\n",
      " 8/16 [==============>...............] - ETA: 0s - loss: 6.6730 - acc: 0.0000e+00"
     ]
    },
    {
     "name": "stderr",
     "output_type": "stream",
     "text": [
      "/opt/conda/lib/python3.6/site-packages/keras/engine/training.py:490: UserWarning: Discrepancy between trainable weights and collected trainable weights, did you set `model.trainable` without calling `model.compile` after ?\n",
      "  'Discrepancy between trainable weights and collected trainable'\n"
     ]
    },
    {
     "name": "stdout",
     "output_type": "stream",
     "text": [
      "16/16 [==============================] - 0s 24ms/step - loss: 6.7196 - acc: 0.0625\n",
      "Epoch 1/1\n",
      "8/8 [==============================] - 1s 98ms/step - loss: 22.3502 - model_1_loss: 0.0033 - conv2d_20_loss: 0.1669\n",
      "\n",
      "Epoch 00001: loss did not improve from 21.25995\n"
     ]
    },
    {
     "name": "stderr",
     "output_type": "stream",
     "text": [
      "\n",
      "\n",
      "35it [02:27,  4.23s/it]\u001b[A\u001b[A"
     ]
    },
    {
     "name": "stdout",
     "output_type": "stream",
     "text": [
      "iteration : 35\n",
      "Epoch 1/1\n",
      " 8/16 [==============>...............] - ETA: 0s - loss: 5.8256 - acc: 0.1250"
     ]
    },
    {
     "name": "stderr",
     "output_type": "stream",
     "text": [
      "/opt/conda/lib/python3.6/site-packages/keras/engine/training.py:490: UserWarning: Discrepancy between trainable weights and collected trainable weights, did you set `model.trainable` without calling `model.compile` after ?\n",
      "  'Discrepancy between trainable weights and collected trainable'\n"
     ]
    },
    {
     "name": "stdout",
     "output_type": "stream",
     "text": [
      "16/16 [==============================] - 0s 23ms/step - loss: 7.1566 - acc: 0.1875\n",
      "Epoch 1/1\n",
      "8/8 [==============================] - 1s 97ms/step - loss: 21.3688 - model_1_loss: 0.0054 - conv2d_20_loss: 0.1570\n",
      "\n",
      "Epoch 00001: loss did not improve from 21.25995\n"
     ]
    },
    {
     "name": "stderr",
     "output_type": "stream",
     "text": [
      "\n",
      "\n",
      "36it [02:31,  4.21s/it]\u001b[A\u001b[A"
     ]
    },
    {
     "name": "stdout",
     "output_type": "stream",
     "text": [
      "iteration : 36\n",
      "Epoch 1/1\n",
      " 8/16 [==============>...............] - ETA: 0s - loss: 4.4966 - acc: 0.3750"
     ]
    },
    {
     "name": "stderr",
     "output_type": "stream",
     "text": [
      "/opt/conda/lib/python3.6/site-packages/keras/engine/training.py:490: UserWarning: Discrepancy between trainable weights and collected trainable weights, did you set `model.trainable` without calling `model.compile` after ?\n",
      "  'Discrepancy between trainable weights and collected trainable'\n"
     ]
    },
    {
     "name": "stdout",
     "output_type": "stream",
     "text": [
      "16/16 [==============================] - 0s 24ms/step - loss: 5.6999 - acc: 0.3125\n",
      "Epoch 1/1\n",
      "8/8 [==============================] - 1s 98ms/step - loss: 22.2340 - model_1_loss: 0.0069 - conv2d_20_loss: 0.1656\n",
      "\n",
      "Epoch 00001: loss did not improve from 21.25995\n"
     ]
    },
    {
     "name": "stderr",
     "output_type": "stream",
     "text": [
      "\n",
      "\n",
      "37it [02:35,  4.19s/it]\u001b[A\u001b[A"
     ]
    },
    {
     "name": "stdout",
     "output_type": "stream",
     "text": [
      "iteration : 37\n",
      "Epoch 1/1\n",
      " 8/16 [==============>...............] - ETA: 0s - loss: 7.1322 - acc: 0.1250"
     ]
    },
    {
     "name": "stderr",
     "output_type": "stream",
     "text": [
      "/opt/conda/lib/python3.6/site-packages/keras/engine/training.py:490: UserWarning: Discrepancy between trainable weights and collected trainable weights, did you set `model.trainable` without calling `model.compile` after ?\n",
      "  'Discrepancy between trainable weights and collected trainable'\n"
     ]
    },
    {
     "name": "stdout",
     "output_type": "stream",
     "text": [
      "16/16 [==============================] - 0s 23ms/step - loss: 6.0266 - acc: 0.1250\n",
      "Epoch 1/1\n",
      "8/8 [==============================] - 1s 97ms/step - loss: 22.0704 - model_1_loss: 5.3855e-04 - conv2d_20_loss: 0.1642\n",
      "\n",
      "Epoch 00001: loss did not improve from 21.25995\n"
     ]
    },
    {
     "name": "stderr",
     "output_type": "stream",
     "text": [
      "\n",
      "\n",
      "38it [02:39,  4.19s/it]\u001b[A\u001b[A"
     ]
    },
    {
     "name": "stdout",
     "output_type": "stream",
     "text": [
      "iteration : 38\n",
      "Epoch 1/1\n",
      " 8/16 [==============>...............] - ETA: 0s - loss: 6.9863 - acc: 0.0000e+00"
     ]
    },
    {
     "name": "stderr",
     "output_type": "stream",
     "text": [
      "/opt/conda/lib/python3.6/site-packages/keras/engine/training.py:490: UserWarning: Discrepancy between trainable weights and collected trainable weights, did you set `model.trainable` without calling `model.compile` after ?\n",
      "  'Discrepancy between trainable weights and collected trainable'\n"
     ]
    },
    {
     "name": "stdout",
     "output_type": "stream",
     "text": [
      "16/16 [==============================] - 0s 24ms/step - loss: 7.3770 - acc: 0.1250\n",
      "Epoch 1/1\n",
      "8/8 [==============================] - 1s 99ms/step - loss: 20.5626 - model_1_loss: 5.0867e-04 - conv2d_20_loss: 0.1492\n",
      "\n",
      "Epoch 00001: loss improved from 21.25995 to 20.56258, saving model to weights-improvement.hdf5\n"
     ]
    },
    {
     "name": "stderr",
     "output_type": "stream",
     "text": [
      "\n",
      "\n",
      "39it [02:44,  4.35s/it]\u001b[A\u001b[A"
     ]
    },
    {
     "name": "stdout",
     "output_type": "stream",
     "text": [
      "iteration : 39\n",
      "Epoch 1/1\n",
      " 8/16 [==============>...............] - ETA: 0s - loss: 7.9266 - acc: 0.0000e+00"
     ]
    },
    {
     "name": "stderr",
     "output_type": "stream",
     "text": [
      "/opt/conda/lib/python3.6/site-packages/keras/engine/training.py:490: UserWarning: Discrepancy between trainable weights and collected trainable weights, did you set `model.trainable` without calling `model.compile` after ?\n",
      "  'Discrepancy between trainable weights and collected trainable'\n"
     ]
    },
    {
     "name": "stdout",
     "output_type": "stream",
     "text": [
      "16/16 [==============================] - 0s 23ms/step - loss: 7.4027 - acc: 0.0625\n",
      "Epoch 1/1\n",
      "8/8 [==============================] - 1s 97ms/step - loss: 21.8128 - model_1_loss: 0.0014 - conv2d_20_loss: 0.1616\n",
      "\n",
      "Epoch 00001: loss did not improve from 20.56258\n"
     ]
    },
    {
     "name": "stderr",
     "output_type": "stream",
     "text": [
      "\n",
      "\n",
      "40it [02:49,  4.37s/it]\u001b[A\u001b[A"
     ]
    },
    {
     "name": "stdout",
     "output_type": "stream",
     "text": [
      "iteration : 40\n",
      "Epoch 1/1\n",
      " 8/16 [==============>...............] - ETA: 0s - loss: 6.8915 - acc: 0.1250"
     ]
    },
    {
     "name": "stderr",
     "output_type": "stream",
     "text": [
      "/opt/conda/lib/python3.6/site-packages/keras/engine/training.py:490: UserWarning: Discrepancy between trainable weights and collected trainable weights, did you set `model.trainable` without calling `model.compile` after ?\n",
      "  'Discrepancy between trainable weights and collected trainable'\n"
     ]
    },
    {
     "name": "stdout",
     "output_type": "stream",
     "text": [
      "16/16 [==============================] - 0s 24ms/step - loss: 6.5300 - acc: 0.1875\n",
      "Epoch 1/1\n",
      "8/8 [==============================] - 1s 98ms/step - loss: 21.7700 - model_1_loss: 0.0135 - conv2d_20_loss: 0.1606\n",
      "\n",
      "Epoch 00001: loss did not improve from 20.56258\n"
     ]
    },
    {
     "name": "stderr",
     "output_type": "stream",
     "text": [
      "\n",
      "\n",
      "41it [02:53,  4.32s/it]\u001b[A\u001b[A"
     ]
    },
    {
     "name": "stdout",
     "output_type": "stream",
     "text": [
      "iteration : 41\n",
      "Epoch 1/1\n",
      " 8/16 [==============>...............] - ETA: 0s - loss: 7.6468 - acc: 0.0000e+00"
     ]
    },
    {
     "name": "stderr",
     "output_type": "stream",
     "text": [
      "/opt/conda/lib/python3.6/site-packages/keras/engine/training.py:490: UserWarning: Discrepancy between trainable weights and collected trainable weights, did you set `model.trainable` without calling `model.compile` after ?\n",
      "  'Discrepancy between trainable weights and collected trainable'\n"
     ]
    },
    {
     "name": "stdout",
     "output_type": "stream",
     "text": [
      "16/16 [==============================] - 0s 23ms/step - loss: 6.1436 - acc: 0.1250\n",
      "Epoch 1/1\n",
      "8/8 [==============================] - 1s 97ms/step - loss: 20.8428 - model_1_loss: 0.0053 - conv2d_20_loss: 0.1517\n",
      "\n",
      "Epoch 00001: loss did not improve from 20.56258\n"
     ]
    },
    {
     "name": "stderr",
     "output_type": "stream",
     "text": [
      "\n",
      "\n",
      "42it [02:57,  4.27s/it]\u001b[A\u001b[A"
     ]
    },
    {
     "name": "stdout",
     "output_type": "stream",
     "text": [
      "iteration : 42\n",
      "Epoch 1/1\n",
      " 8/16 [==============>...............] - ETA: 0s - loss: 6.7424 - acc: 0.2500"
     ]
    },
    {
     "name": "stderr",
     "output_type": "stream",
     "text": [
      "/opt/conda/lib/python3.6/site-packages/keras/engine/training.py:490: UserWarning: Discrepancy between trainable weights and collected trainable weights, did you set `model.trainable` without calling `model.compile` after ?\n",
      "  'Discrepancy between trainable weights and collected trainable'\n"
     ]
    },
    {
     "name": "stdout",
     "output_type": "stream",
     "text": [
      "16/16 [==============================] - 0s 24ms/step - loss: 6.6145 - acc: 0.1875\n",
      "Epoch 1/1\n",
      "8/8 [==============================] - 1s 98ms/step - loss: 20.8932 - model_1_loss: 9.6049e-04 - conv2d_20_loss: 0.1525\n",
      "\n",
      "Epoch 00001: loss did not improve from 20.56258\n"
     ]
    },
    {
     "name": "stderr",
     "output_type": "stream",
     "text": [
      "\n",
      "\n",
      "43it [03:01,  4.24s/it]\u001b[A\u001b[A"
     ]
    },
    {
     "name": "stdout",
     "output_type": "stream",
     "text": [
      "iteration : 43\n",
      "Epoch 1/1\n",
      " 8/16 [==============>...............] - ETA: 0s - loss: 7.5996 - acc: 0.1250"
     ]
    },
    {
     "name": "stderr",
     "output_type": "stream",
     "text": [
      "/opt/conda/lib/python3.6/site-packages/keras/engine/training.py:490: UserWarning: Discrepancy between trainable weights and collected trainable weights, did you set `model.trainable` without calling `model.compile` after ?\n",
      "  'Discrepancy between trainable weights and collected trainable'\n"
     ]
    },
    {
     "name": "stdout",
     "output_type": "stream",
     "text": [
      "16/16 [==============================] - 0s 23ms/step - loss: 6.5801 - acc: 0.1250\n",
      "Epoch 1/1\n",
      "8/8 [==============================] - 1s 97ms/step - loss: 20.7780 - model_1_loss: 0.0020 - conv2d_20_loss: 0.1513\n",
      "\n",
      "Epoch 00001: loss did not improve from 20.56258\n"
     ]
    },
    {
     "name": "stderr",
     "output_type": "stream",
     "text": [
      "\n",
      "\n",
      "44it [03:05,  4.20s/it]\u001b[A\u001b[A"
     ]
    },
    {
     "name": "stdout",
     "output_type": "stream",
     "text": [
      "iteration : 44\n",
      "Epoch 1/1\n",
      " 8/16 [==============>...............] - ETA: 0s - loss: 5.0066 - acc: 0.2500"
     ]
    },
    {
     "name": "stderr",
     "output_type": "stream",
     "text": [
      "/opt/conda/lib/python3.6/site-packages/keras/engine/training.py:490: UserWarning: Discrepancy between trainable weights and collected trainable weights, did you set `model.trainable` without calling `model.compile` after ?\n",
      "  'Discrepancy between trainable weights and collected trainable'\n"
     ]
    },
    {
     "name": "stdout",
     "output_type": "stream",
     "text": [
      "16/16 [==============================] - 0s 24ms/step - loss: 5.6446 - acc: 0.1875\n",
      "Epoch 1/1\n",
      "8/8 [==============================] - 1s 98ms/step - loss: 23.1853 - model_1_loss: 0.0017 - conv2d_20_loss: 0.1753\n",
      "\n",
      "Epoch 00001: loss did not improve from 20.56258\n"
     ]
    },
    {
     "name": "stderr",
     "output_type": "stream",
     "text": [
      "\n",
      "\n",
      "45it [03:09,  4.20s/it]\u001b[A\u001b[A"
     ]
    },
    {
     "name": "stdout",
     "output_type": "stream",
     "text": [
      "iteration : 45\n",
      "Epoch 1/1\n",
      " 8/16 [==============>...............] - ETA: 0s - loss: 6.8742 - acc: 0.1250"
     ]
    },
    {
     "name": "stderr",
     "output_type": "stream",
     "text": [
      "/opt/conda/lib/python3.6/site-packages/keras/engine/training.py:490: UserWarning: Discrepancy between trainable weights and collected trainable weights, did you set `model.trainable` without calling `model.compile` after ?\n",
      "  'Discrepancy between trainable weights and collected trainable'\n"
     ]
    },
    {
     "name": "stdout",
     "output_type": "stream",
     "text": [
      "16/16 [==============================] - 0s 23ms/step - loss: 7.3326 - acc: 0.1250\n",
      "Epoch 1/1\n",
      "8/8 [==============================] - 1s 97ms/step - loss: 20.7645 - model_1_loss: 0.0057 - conv2d_20_loss: 0.1509\n",
      "\n",
      "Epoch 00001: loss did not improve from 20.56258\n"
     ]
    },
    {
     "name": "stderr",
     "output_type": "stream",
     "text": [
      "\n",
      "\n",
      "46it [03:14,  4.19s/it]\u001b[A\u001b[A"
     ]
    },
    {
     "name": "stdout",
     "output_type": "stream",
     "text": [
      "iteration : 46\n",
      "Epoch 1/1\n",
      " 8/16 [==============>...............] - ETA: 0s - loss: 4.5756 - acc: 0.1250"
     ]
    },
    {
     "name": "stderr",
     "output_type": "stream",
     "text": [
      "/opt/conda/lib/python3.6/site-packages/keras/engine/training.py:490: UserWarning: Discrepancy between trainable weights and collected trainable weights, did you set `model.trainable` without calling `model.compile` after ?\n",
      "  'Discrepancy between trainable weights and collected trainable'\n"
     ]
    },
    {
     "name": "stdout",
     "output_type": "stream",
     "text": [
      "16/16 [==============================] - 0s 24ms/step - loss: 6.7721 - acc: 0.1250\n",
      "Epoch 1/1\n",
      "8/8 [==============================] - 1s 98ms/step - loss: 20.3510 - model_1_loss: 0.0031 - conv2d_20_loss: 0.1469\n",
      "\n",
      "Epoch 00001: loss improved from 20.56258 to 20.35099, saving model to weights-improvement.hdf5\n"
     ]
    },
    {
     "name": "stderr",
     "output_type": "stream",
     "text": [
      "\n",
      "\n",
      "47it [03:18,  4.36s/it]\u001b[A\u001b[A"
     ]
    },
    {
     "name": "stdout",
     "output_type": "stream",
     "text": [
      "iteration : 47\n",
      "Epoch 1/1\n",
      " 8/16 [==============>...............] - ETA: 0s - loss: 8.3055 - acc: 0.1250"
     ]
    },
    {
     "name": "stderr",
     "output_type": "stream",
     "text": [
      "/opt/conda/lib/python3.6/site-packages/keras/engine/training.py:490: UserWarning: Discrepancy between trainable weights and collected trainable weights, did you set `model.trainable` without calling `model.compile` after ?\n",
      "  'Discrepancy between trainable weights and collected trainable'\n"
     ]
    },
    {
     "name": "stdout",
     "output_type": "stream",
     "text": [
      "16/16 [==============================] - 0s 23ms/step - loss: 7.3311 - acc: 0.0625\n",
      "Epoch 1/1\n",
      "8/8 [==============================] - 1s 97ms/step - loss: 22.4582 - model_1_loss: 0.0293 - conv2d_20_loss: 0.1667\n",
      "\n",
      "Epoch 00001: loss did not improve from 20.35099\n"
     ]
    },
    {
     "name": "stderr",
     "output_type": "stream",
     "text": [
      "\n",
      "\n",
      "48it [03:23,  4.38s/it]\u001b[A\u001b[A"
     ]
    },
    {
     "name": "stdout",
     "output_type": "stream",
     "text": [
      "iteration : 48\n",
      "Epoch 1/1\n",
      " 8/16 [==============>...............] - ETA: 0s - loss: 7.2683 - acc: 0.0000e+00"
     ]
    },
    {
     "name": "stderr",
     "output_type": "stream",
     "text": [
      "/opt/conda/lib/python3.6/site-packages/keras/engine/training.py:490: UserWarning: Discrepancy between trainable weights and collected trainable weights, did you set `model.trainable` without calling `model.compile` after ?\n",
      "  'Discrepancy between trainable weights and collected trainable'\n"
     ]
    },
    {
     "name": "stdout",
     "output_type": "stream",
     "text": [
      "16/16 [==============================] - 0s 24ms/step - loss: 6.6470 - acc: 0.1250\n",
      "Epoch 1/1\n",
      "8/8 [==============================] - 1s 98ms/step - loss: 22.0518 - model_1_loss: 0.0063 - conv2d_20_loss: 0.1638\n",
      "\n",
      "Epoch 00001: loss did not improve from 20.35099\n"
     ]
    },
    {
     "name": "stderr",
     "output_type": "stream",
     "text": [
      "\n",
      "\n",
      "49it [03:27,  4.33s/it]\u001b[A\u001b[A"
     ]
    },
    {
     "name": "stdout",
     "output_type": "stream",
     "text": [
      "iteration : 49\n",
      "Epoch 1/1\n",
      " 8/16 [==============>...............] - ETA: 0s - loss: 8.9629 - acc: 0.0000e+00"
     ]
    },
    {
     "name": "stderr",
     "output_type": "stream",
     "text": [
      "/opt/conda/lib/python3.6/site-packages/keras/engine/training.py:490: UserWarning: Discrepancy between trainable weights and collected trainable weights, did you set `model.trainable` without calling `model.compile` after ?\n",
      "  'Discrepancy between trainable weights and collected trainable'\n"
     ]
    },
    {
     "name": "stdout",
     "output_type": "stream",
     "text": [
      "16/16 [==============================] - 0s 23ms/step - loss: 7.9464 - acc: 0.0625\n",
      "Epoch 1/1\n",
      "8/8 [==============================] - 1s 97ms/step - loss: 20.2915 - model_1_loss: 4.5790e-04 - conv2d_20_loss: 0.1465\n",
      "\n",
      "Epoch 00001: loss improved from 20.35099 to 20.29146, saving model to weights-improvement.hdf5\n"
     ]
    },
    {
     "name": "stderr",
     "output_type": "stream",
     "text": [
      "\n",
      "\n",
      "50it [03:32,  4.46s/it]\u001b[A\u001b[A"
     ]
    },
    {
     "name": "stdout",
     "output_type": "stream",
     "text": [
      "iteration : 50\n",
      "Epoch 1/1\n",
      " 8/16 [==============>...............] - ETA: 0s - loss: 6.7281 - acc: 0.1250"
     ]
    },
    {
     "name": "stderr",
     "output_type": "stream",
     "text": [
      "/opt/conda/lib/python3.6/site-packages/keras/engine/training.py:490: UserWarning: Discrepancy between trainable weights and collected trainable weights, did you set `model.trainable` without calling `model.compile` after ?\n",
      "  'Discrepancy between trainable weights and collected trainable'\n"
     ]
    },
    {
     "name": "stdout",
     "output_type": "stream",
     "text": [
      "16/16 [==============================] - 0s 24ms/step - loss: 6.8284 - acc: 0.1250\n",
      "Epoch 1/1\n",
      "8/8 [==============================] - 1s 98ms/step - loss: 20.6448 - model_1_loss: 0.0012 - conv2d_20_loss: 0.1500\n",
      "\n",
      "Epoch 00001: loss did not improve from 20.29146\n"
     ]
    },
    {
     "name": "stderr",
     "output_type": "stream",
     "text": [
      "\n",
      "\n",
      "51it [03:36,  4.44s/it]\u001b[A\u001b[A"
     ]
    },
    {
     "name": "stdout",
     "output_type": "stream",
     "text": [
      "iteration : 51\n",
      "Epoch 1/1\n",
      " 8/16 [==============>...............] - ETA: 0s - loss: 6.8747 - acc: 0.0000e+00"
     ]
    },
    {
     "name": "stderr",
     "output_type": "stream",
     "text": [
      "/opt/conda/lib/python3.6/site-packages/keras/engine/training.py:490: UserWarning: Discrepancy between trainable weights and collected trainable weights, did you set `model.trainable` without calling `model.compile` after ?\n",
      "  'Discrepancy between trainable weights and collected trainable'\n"
     ]
    },
    {
     "name": "stdout",
     "output_type": "stream",
     "text": [
      "16/16 [==============================] - 0s 23ms/step - loss: 6.3953 - acc: 0.0000e+00\n",
      "Epoch 1/1\n",
      "8/8 [==============================] - 1s 97ms/step - loss: 21.1746 - model_1_loss: 0.0010 - conv2d_20_loss: 0.1553\n",
      "\n",
      "Epoch 00001: loss did not improve from 20.29146\n"
     ]
    },
    {
     "name": "stderr",
     "output_type": "stream",
     "text": [
      "\n",
      "\n",
      "52it [03:40,  4.36s/it]\u001b[A\u001b[A"
     ]
    },
    {
     "name": "stdout",
     "output_type": "stream",
     "text": [
      "iteration : 52\n",
      "Epoch 1/1\n",
      " 8/16 [==============>...............] - ETA: 0s - loss: 4.9966 - acc: 0.3750"
     ]
    },
    {
     "name": "stderr",
     "output_type": "stream",
     "text": [
      "/opt/conda/lib/python3.6/site-packages/keras/engine/training.py:490: UserWarning: Discrepancy between trainable weights and collected trainable weights, did you set `model.trainable` without calling `model.compile` after ?\n",
      "  'Discrepancy between trainable weights and collected trainable'\n"
     ]
    },
    {
     "name": "stdout",
     "output_type": "stream",
     "text": [
      "16/16 [==============================] - 0s 24ms/step - loss: 5.6473 - acc: 0.2500\n",
      "Epoch 1/1\n",
      "8/8 [==============================] - 1s 98ms/step - loss: 21.0072 - model_1_loss: 0.0025 - conv2d_20_loss: 0.1535\n",
      "\n",
      "Epoch 00001: loss did not improve from 20.29146\n"
     ]
    },
    {
     "name": "stderr",
     "output_type": "stream",
     "text": [
      "\n",
      "\n",
      "53it [03:45,  4.30s/it]\u001b[A\u001b[A"
     ]
    },
    {
     "name": "stdout",
     "output_type": "stream",
     "text": [
      "iteration : 53\n",
      "Epoch 1/1\n",
      " 8/16 [==============>...............] - ETA: 0s - loss: 4.0688 - acc: 0.5000"
     ]
    },
    {
     "name": "stderr",
     "output_type": "stream",
     "text": [
      "/opt/conda/lib/python3.6/site-packages/keras/engine/training.py:490: UserWarning: Discrepancy between trainable weights and collected trainable weights, did you set `model.trainable` without calling `model.compile` after ?\n",
      "  'Discrepancy between trainable weights and collected trainable'\n"
     ]
    },
    {
     "name": "stdout",
     "output_type": "stream",
     "text": [
      "16/16 [==============================] - 0s 23ms/step - loss: 6.0318 - acc: 0.2500\n",
      "Epoch 1/1\n",
      "8/8 [==============================] - 1s 97ms/step - loss: 20.8740 - model_1_loss: 5.2427e-04 - conv2d_20_loss: 0.1523\n",
      "\n",
      "Epoch 00001: loss did not improve from 20.29146\n"
     ]
    },
    {
     "name": "stderr",
     "output_type": "stream",
     "text": [
      "\n",
      "\n",
      "54it [03:49,  4.26s/it]\u001b[A\u001b[A"
     ]
    },
    {
     "name": "stdout",
     "output_type": "stream",
     "text": [
      "iteration : 54\n",
      "Epoch 1/1\n",
      " 8/16 [==============>...............] - ETA: 0s - loss: 9.3602 - acc: 0.1250"
     ]
    },
    {
     "name": "stderr",
     "output_type": "stream",
     "text": [
      "/opt/conda/lib/python3.6/site-packages/keras/engine/training.py:490: UserWarning: Discrepancy between trainable weights and collected trainable weights, did you set `model.trainable` without calling `model.compile` after ?\n",
      "  'Discrepancy between trainable weights and collected trainable'\n"
     ]
    },
    {
     "name": "stdout",
     "output_type": "stream",
     "text": [
      "16/16 [==============================] - 0s 24ms/step - loss: 7.6155 - acc: 0.1875\n",
      "Epoch 1/1\n",
      "8/8 [==============================] - 1s 99ms/step - loss: 21.6298 - model_1_loss: 2.6005e-04 - conv2d_20_loss: 0.1599\n",
      "\n",
      "Epoch 00001: loss did not improve from 20.29146\n"
     ]
    },
    {
     "name": "stderr",
     "output_type": "stream",
     "text": [
      "\n",
      "\n",
      "55it [03:53,  4.23s/it]\u001b[A\u001b[A"
     ]
    },
    {
     "name": "stdout",
     "output_type": "stream",
     "text": [
      "iteration : 55\n",
      "Epoch 1/1\n",
      " 8/16 [==============>...............] - ETA: 0s - loss: 8.1872 - acc: 0.2500"
     ]
    },
    {
     "name": "stderr",
     "output_type": "stream",
     "text": [
      "/opt/conda/lib/python3.6/site-packages/keras/engine/training.py:490: UserWarning: Discrepancy between trainable weights and collected trainable weights, did you set `model.trainable` without calling `model.compile` after ?\n",
      "  'Discrepancy between trainable weights and collected trainable'\n"
     ]
    },
    {
     "name": "stdout",
     "output_type": "stream",
     "text": [
      "16/16 [==============================] - 0s 23ms/step - loss: 7.5578 - acc: 0.2500\n",
      "Epoch 1/1\n",
      "8/8 [==============================] - 1s 97ms/step - loss: 20.7107 - model_1_loss: 0.0029 - conv2d_20_loss: 0.1505\n",
      "\n",
      "Epoch 00001: loss did not improve from 20.29146\n"
     ]
    },
    {
     "name": "stderr",
     "output_type": "stream",
     "text": [
      "\n",
      "\n",
      "56it [03:57,  4.21s/it]\u001b[A\u001b[A"
     ]
    },
    {
     "name": "stdout",
     "output_type": "stream",
     "text": [
      "iteration : 56\n",
      "Epoch 1/1\n",
      " 8/16 [==============>...............] - ETA: 0s - loss: 5.7663 - acc: 0.2500"
     ]
    },
    {
     "name": "stderr",
     "output_type": "stream",
     "text": [
      "/opt/conda/lib/python3.6/site-packages/keras/engine/training.py:490: UserWarning: Discrepancy between trainable weights and collected trainable weights, did you set `model.trainable` without calling `model.compile` after ?\n",
      "  'Discrepancy between trainable weights and collected trainable'\n"
     ]
    },
    {
     "name": "stdout",
     "output_type": "stream",
     "text": [
      "16/16 [==============================] - 0s 24ms/step - loss: 5.9866 - acc: 0.2500\n",
      "Epoch 1/1\n",
      "8/8 [==============================] - 1s 99ms/step - loss: 21.5879 - model_1_loss: 0.0056 - conv2d_20_loss: 0.1592\n",
      "\n",
      "Epoch 00001: loss did not improve from 20.29146\n"
     ]
    },
    {
     "name": "stderr",
     "output_type": "stream",
     "text": [
      "\n",
      "\n",
      "57it [04:01,  4.20s/it]\u001b[A\u001b[A"
     ]
    },
    {
     "name": "stdout",
     "output_type": "stream",
     "text": [
      "iteration : 57\n",
      "Epoch 1/1\n",
      " 8/16 [==============>...............] - ETA: 0s - loss: 7.5808 - acc: 0.3750"
     ]
    },
    {
     "name": "stderr",
     "output_type": "stream",
     "text": [
      "/opt/conda/lib/python3.6/site-packages/keras/engine/training.py:490: UserWarning: Discrepancy between trainable weights and collected trainable weights, did you set `model.trainable` without calling `model.compile` after ?\n",
      "  'Discrepancy between trainable weights and collected trainable'\n"
     ]
    },
    {
     "name": "stdout",
     "output_type": "stream",
     "text": [
      "16/16 [==============================] - 0s 23ms/step - loss: 6.7434 - acc: 0.3125\n",
      "Epoch 1/1\n",
      "8/8 [==============================] - 1s 97ms/step - loss: 21.0706 - model_1_loss: 0.0376 - conv2d_20_loss: 0.1524\n",
      "\n",
      "Epoch 00001: loss did not improve from 20.29146\n"
     ]
    },
    {
     "name": "stderr",
     "output_type": "stream",
     "text": [
      "\n",
      "\n",
      "58it [04:05,  4.18s/it]\u001b[A\u001b[A"
     ]
    },
    {
     "name": "stdout",
     "output_type": "stream",
     "text": [
      "iteration : 58\n",
      "Epoch 1/1\n",
      " 8/16 [==============>...............] - ETA: 0s - loss: 5.6496 - acc: 0.0000e+00"
     ]
    },
    {
     "name": "stderr",
     "output_type": "stream",
     "text": [
      "/opt/conda/lib/python3.6/site-packages/keras/engine/training.py:490: UserWarning: Discrepancy between trainable weights and collected trainable weights, did you set `model.trainable` without calling `model.compile` after ?\n",
      "  'Discrepancy between trainable weights and collected trainable'\n"
     ]
    },
    {
     "name": "stdout",
     "output_type": "stream",
     "text": [
      "16/16 [==============================] - 0s 24ms/step - loss: 5.3041 - acc: 0.1250\n",
      "Epoch 1/1\n",
      "8/8 [==============================] - 1s 98ms/step - loss: 21.3534 - model_1_loss: 0.0013 - conv2d_20_loss: 0.1571\n",
      "\n",
      "Epoch 00001: loss did not improve from 20.29146\n"
     ]
    },
    {
     "name": "stderr",
     "output_type": "stream",
     "text": [
      "\n",
      "\n",
      "59it [04:09,  4.18s/it]\u001b[A\u001b[A"
     ]
    },
    {
     "name": "stdout",
     "output_type": "stream",
     "text": [
      "iteration : 59\n",
      "Epoch 1/1\n",
      " 8/16 [==============>...............] - ETA: 0s - loss: 6.9628 - acc: 0.0000e+00"
     ]
    },
    {
     "name": "stderr",
     "output_type": "stream",
     "text": [
      "/opt/conda/lib/python3.6/site-packages/keras/engine/training.py:490: UserWarning: Discrepancy between trainable weights and collected trainable weights, did you set `model.trainable` without calling `model.compile` after ?\n",
      "  'Discrepancy between trainable weights and collected trainable'\n"
     ]
    },
    {
     "name": "stdout",
     "output_type": "stream",
     "text": [
      "16/16 [==============================] - 0s 23ms/step - loss: 6.0354 - acc: 0.0625\n",
      "Epoch 1/1\n",
      "8/8 [==============================] - 1s 97ms/step - loss: 21.4052 - model_1_loss: 3.2448e-04 - conv2d_20_loss: 0.1576\n",
      "\n",
      "Epoch 00001: loss did not improve from 20.29146\n"
     ]
    },
    {
     "name": "stderr",
     "output_type": "stream",
     "text": [
      "\n",
      "\n",
      "60it [04:14,  4.18s/it]\u001b[A\u001b[A"
     ]
    },
    {
     "name": "stdout",
     "output_type": "stream",
     "text": [
      "iteration : 60\n",
      "Epoch 1/1\n",
      " 8/16 [==============>...............] - ETA: 0s - loss: 5.9499 - acc: 0.0000e+00"
     ]
    },
    {
     "name": "stderr",
     "output_type": "stream",
     "text": [
      "/opt/conda/lib/python3.6/site-packages/keras/engine/training.py:490: UserWarning: Discrepancy between trainable weights and collected trainable weights, did you set `model.trainable` without calling `model.compile` after ?\n",
      "  'Discrepancy between trainable weights and collected trainable'\n"
     ]
    },
    {
     "name": "stdout",
     "output_type": "stream",
     "text": [
      "16/16 [==============================] - 0s 24ms/step - loss: 6.4678 - acc: 0.0625\n",
      "Epoch 1/1\n",
      "8/8 [==============================] - 1s 99ms/step - loss: 20.5371 - model_1_loss: 3.2587e-04 - conv2d_20_loss: 0.1489\n",
      "\n",
      "Epoch 00001: loss did not improve from 20.29146\n"
     ]
    },
    {
     "name": "stderr",
     "output_type": "stream",
     "text": [
      "\n",
      "\n",
      "61it [04:18,  4.18s/it]\u001b[A\u001b[A"
     ]
    },
    {
     "name": "stdout",
     "output_type": "stream",
     "text": [
      "iteration : 61\n",
      "Epoch 1/1\n",
      " 8/16 [==============>...............] - ETA: 0s - loss: 4.6165 - acc: 0.3750"
     ]
    },
    {
     "name": "stderr",
     "output_type": "stream",
     "text": [
      "/opt/conda/lib/python3.6/site-packages/keras/engine/training.py:490: UserWarning: Discrepancy between trainable weights and collected trainable weights, did you set `model.trainable` without calling `model.compile` after ?\n",
      "  'Discrepancy between trainable weights and collected trainable'\n"
     ]
    },
    {
     "name": "stdout",
     "output_type": "stream",
     "text": [
      "16/16 [==============================] - 0s 23ms/step - loss: 6.1157 - acc: 0.1875\n",
      "Epoch 1/1\n",
      "8/8 [==============================] - 1s 97ms/step - loss: 22.6919 - model_1_loss: 7.4920e-04 - conv2d_20_loss: 0.1705\n",
      "\n",
      "Epoch 00001: loss did not improve from 20.29146\n"
     ]
    },
    {
     "name": "stderr",
     "output_type": "stream",
     "text": [
      "\n",
      "\n",
      "62it [04:22,  4.17s/it]\u001b[A\u001b[A"
     ]
    },
    {
     "name": "stdout",
     "output_type": "stream",
     "text": [
      "iteration : 62\n",
      "Epoch 1/1\n",
      " 8/16 [==============>...............] - ETA: 0s - loss: 5.8152 - acc: 0.1250"
     ]
    },
    {
     "name": "stderr",
     "output_type": "stream",
     "text": [
      "/opt/conda/lib/python3.6/site-packages/keras/engine/training.py:490: UserWarning: Discrepancy between trainable weights and collected trainable weights, did you set `model.trainable` without calling `model.compile` after ?\n",
      "  'Discrepancy between trainable weights and collected trainable'\n"
     ]
    },
    {
     "name": "stdout",
     "output_type": "stream",
     "text": [
      "16/16 [==============================] - 0s 24ms/step - loss: 5.1327 - acc: 0.2500\n",
      "Epoch 1/1\n",
      "8/8 [==============================] - 1s 98ms/step - loss: 20.7865 - model_1_loss: 1.1965e-04 - conv2d_20_loss: 0.1514\n",
      "\n",
      "Epoch 00001: loss did not improve from 20.29146\n"
     ]
    },
    {
     "name": "stderr",
     "output_type": "stream",
     "text": [
      "\n",
      "\n",
      "63it [04:26,  4.17s/it]\u001b[A\u001b[A"
     ]
    },
    {
     "name": "stdout",
     "output_type": "stream",
     "text": [
      "iteration : 63\n",
      "Epoch 1/1\n",
      " 8/16 [==============>...............] - ETA: 0s - loss: 7.7687 - acc: 0.1250"
     ]
    },
    {
     "name": "stderr",
     "output_type": "stream",
     "text": [
      "/opt/conda/lib/python3.6/site-packages/keras/engine/training.py:490: UserWarning: Discrepancy between trainable weights and collected trainable weights, did you set `model.trainable` without calling `model.compile` after ?\n",
      "  'Discrepancy between trainable weights and collected trainable'\n"
     ]
    },
    {
     "name": "stdout",
     "output_type": "stream",
     "text": [
      "16/16 [==============================] - 0s 23ms/step - loss: 7.3437 - acc: 0.2500\n",
      "Epoch 1/1\n",
      "8/8 [==============================] - 1s 97ms/step - loss: 20.7293 - model_1_loss: 4.2242e-04 - conv2d_20_loss: 0.1509\n",
      "\n",
      "Epoch 00001: loss did not improve from 20.29146\n"
     ]
    },
    {
     "name": "stderr",
     "output_type": "stream",
     "text": [
      "\n",
      "\n",
      "64it [04:30,  4.16s/it]\u001b[A\u001b[A"
     ]
    },
    {
     "name": "stdout",
     "output_type": "stream",
     "text": [
      "iteration : 64\n",
      "Epoch 1/1\n",
      " 8/16 [==============>...............] - ETA: 0s - loss: 5.9471 - acc: 0.2500"
     ]
    },
    {
     "name": "stderr",
     "output_type": "stream",
     "text": [
      "/opt/conda/lib/python3.6/site-packages/keras/engine/training.py:490: UserWarning: Discrepancy between trainable weights and collected trainable weights, did you set `model.trainable` without calling `model.compile` after ?\n",
      "  'Discrepancy between trainable weights and collected trainable'\n"
     ]
    },
    {
     "name": "stdout",
     "output_type": "stream",
     "text": [
      "16/16 [==============================] - 0s 24ms/step - loss: 6.5892 - acc: 0.1875\n",
      "Epoch 1/1\n",
      "8/8 [==============================] - 1s 98ms/step - loss: 20.9885 - model_1_loss: 0.0044 - conv2d_20_loss: 0.1533\n",
      "\n",
      "Epoch 00001: loss did not improve from 20.29146\n"
     ]
    },
    {
     "name": "stderr",
     "output_type": "stream",
     "text": [
      "\n",
      "\n",
      "65it [04:34,  4.16s/it]\u001b[A\u001b[A"
     ]
    },
    {
     "name": "stdout",
     "output_type": "stream",
     "text": [
      "iteration : 65\n",
      "Epoch 1/1\n",
      " 8/16 [==============>...............] - ETA: 0s - loss: 4.4814 - acc: 0.3750"
     ]
    },
    {
     "name": "stderr",
     "output_type": "stream",
     "text": [
      "/opt/conda/lib/python3.6/site-packages/keras/engine/training.py:490: UserWarning: Discrepancy between trainable weights and collected trainable weights, did you set `model.trainable` without calling `model.compile` after ?\n",
      "  'Discrepancy between trainable weights and collected trainable'\n"
     ]
    },
    {
     "name": "stdout",
     "output_type": "stream",
     "text": [
      "16/16 [==============================] - 0s 23ms/step - loss: 6.2296 - acc: 0.2500\n",
      "Epoch 1/1\n",
      "8/8 [==============================] - 1s 97ms/step - loss: 20.0713 - model_1_loss: 0.0010 - conv2d_20_loss: 0.1442\n",
      "\n",
      "Epoch 00001: loss improved from 20.29146 to 20.07129, saving model to weights-improvement.hdf5\n"
     ]
    },
    {
     "name": "stderr",
     "output_type": "stream",
     "text": [
      "\n",
      "\n",
      "66it [04:39,  4.34s/it]\u001b[A\u001b[A"
     ]
    },
    {
     "name": "stdout",
     "output_type": "stream",
     "text": [
      "iteration : 66\n",
      "Epoch 1/1\n",
      " 8/16 [==============>...............] - ETA: 0s - loss: 4.0432 - acc: 0.2500"
     ]
    },
    {
     "name": "stderr",
     "output_type": "stream",
     "text": [
      "/opt/conda/lib/python3.6/site-packages/keras/engine/training.py:490: UserWarning: Discrepancy between trainable weights and collected trainable weights, did you set `model.trainable` without calling `model.compile` after ?\n",
      "  'Discrepancy between trainable weights and collected trainable'\n"
     ]
    },
    {
     "name": "stdout",
     "output_type": "stream",
     "text": [
      "16/16 [==============================] - 0s 24ms/step - loss: 6.5851 - acc: 0.2500\n",
      "Epoch 1/1\n",
      "8/8 [==============================] - 1s 98ms/step - loss: 20.3659 - model_1_loss: 1.1578e-04 - conv2d_20_loss: 0.1472\n",
      "\n",
      "Epoch 00001: loss did not improve from 20.07129\n"
     ]
    },
    {
     "name": "stderr",
     "output_type": "stream",
     "text": [
      "\n",
      "\n",
      "67it [04:44,  4.35s/it]\u001b[A\u001b[A"
     ]
    },
    {
     "name": "stdout",
     "output_type": "stream",
     "text": [
      "iteration : 67\n",
      "Epoch 1/1\n",
      " 8/16 [==============>...............] - ETA: 0s - loss: 7.0918 - acc: 0.1250"
     ]
    },
    {
     "name": "stderr",
     "output_type": "stream",
     "text": [
      "/opt/conda/lib/python3.6/site-packages/keras/engine/training.py:490: UserWarning: Discrepancy between trainable weights and collected trainable weights, did you set `model.trainable` without calling `model.compile` after ?\n",
      "  'Discrepancy between trainable weights and collected trainable'\n"
     ]
    },
    {
     "name": "stdout",
     "output_type": "stream",
     "text": [
      "16/16 [==============================] - 0s 23ms/step - loss: 6.2745 - acc: 0.1875\n",
      "Epoch 1/1\n",
      "8/8 [==============================] - 1s 97ms/step - loss: 21.2532 - model_1_loss: 0.0304 - conv2d_20_loss: 0.1546\n",
      "\n",
      "Epoch 00001: loss did not improve from 20.07129\n"
     ]
    },
    {
     "name": "stderr",
     "output_type": "stream",
     "text": [
      "\n",
      "\n",
      "68it [04:48,  4.29s/it]\u001b[A\u001b[A"
     ]
    },
    {
     "name": "stdout",
     "output_type": "stream",
     "text": [
      "iteration : 68\n",
      "Epoch 1/1\n",
      " 8/16 [==============>...............] - ETA: 0s - loss: 7.6809 - acc: 0.0000e+00"
     ]
    },
    {
     "name": "stderr",
     "output_type": "stream",
     "text": [
      "/opt/conda/lib/python3.6/site-packages/keras/engine/training.py:490: UserWarning: Discrepancy between trainable weights and collected trainable weights, did you set `model.trainable` without calling `model.compile` after ?\n",
      "  'Discrepancy between trainable weights and collected trainable'\n"
     ]
    },
    {
     "name": "stdout",
     "output_type": "stream",
     "text": [
      "16/16 [==============================] - 0s 24ms/step - loss: 5.4827 - acc: 0.0625\n",
      "Epoch 1/1\n",
      "8/8 [==============================] - 1s 98ms/step - loss: 22.7430 - model_1_loss: 0.0039 - conv2d_20_loss: 0.1708\n",
      "\n",
      "Epoch 00001: loss did not improve from 20.07129\n"
     ]
    },
    {
     "name": "stderr",
     "output_type": "stream",
     "text": [
      "\n",
      "\n",
      "69it [04:52,  4.26s/it]\u001b[A\u001b[A"
     ]
    },
    {
     "name": "stdout",
     "output_type": "stream",
     "text": [
      "iteration : 69\n",
      "Epoch 1/1\n",
      " 8/16 [==============>...............] - ETA: 0s - loss: 6.8104 - acc: 0.1250"
     ]
    },
    {
     "name": "stderr",
     "output_type": "stream",
     "text": [
      "/opt/conda/lib/python3.6/site-packages/keras/engine/training.py:490: UserWarning: Discrepancy between trainable weights and collected trainable weights, did you set `model.trainable` without calling `model.compile` after ?\n",
      "  'Discrepancy between trainable weights and collected trainable'\n"
     ]
    },
    {
     "name": "stdout",
     "output_type": "stream",
     "text": [
      "16/16 [==============================] - 0s 23ms/step - loss: 6.3884 - acc: 0.1875\n",
      "Epoch 1/1\n",
      "8/8 [==============================] - 1s 97ms/step - loss: 20.5613 - model_1_loss: 0.0016 - conv2d_20_loss: 0.1491\n",
      "\n",
      "Epoch 00001: loss did not improve from 20.07129\n"
     ]
    },
    {
     "name": "stderr",
     "output_type": "stream",
     "text": [
      "\n",
      "\n",
      "70it [04:56,  4.23s/it]\u001b[A\u001b[A"
     ]
    },
    {
     "name": "stdout",
     "output_type": "stream",
     "text": [
      "iteration : 70\n",
      "Epoch 1/1\n",
      " 8/16 [==============>...............] - ETA: 0s - loss: 6.1518 - acc: 0.1250"
     ]
    },
    {
     "name": "stderr",
     "output_type": "stream",
     "text": [
      "/opt/conda/lib/python3.6/site-packages/keras/engine/training.py:490: UserWarning: Discrepancy between trainable weights and collected trainable weights, did you set `model.trainable` without calling `model.compile` after ?\n",
      "  'Discrepancy between trainable weights and collected trainable'\n"
     ]
    },
    {
     "name": "stdout",
     "output_type": "stream",
     "text": [
      "16/16 [==============================] - 0s 24ms/step - loss: 7.0849 - acc: 0.1875\n",
      "Epoch 1/1\n",
      "8/8 [==============================] - 1s 98ms/step - loss: 20.2176 - model_1_loss: 1.1929e-04 - conv2d_20_loss: 0.1458\n",
      "\n",
      "Epoch 00001: loss did not improve from 20.07129\n"
     ]
    },
    {
     "name": "stderr",
     "output_type": "stream",
     "text": [
      "\n",
      "\n",
      "71it [05:00,  4.21s/it]\u001b[A\u001b[A"
     ]
    },
    {
     "name": "stdout",
     "output_type": "stream",
     "text": [
      "iteration : 71\n",
      "Epoch 1/1\n",
      " 8/16 [==============>...............] - ETA: 0s - loss: 5.5169 - acc: 0.1250"
     ]
    },
    {
     "name": "stderr",
     "output_type": "stream",
     "text": [
      "/opt/conda/lib/python3.6/site-packages/keras/engine/training.py:490: UserWarning: Discrepancy between trainable weights and collected trainable weights, did you set `model.trainable` without calling `model.compile` after ?\n",
      "  'Discrepancy between trainable weights and collected trainable'\n"
     ]
    },
    {
     "name": "stdout",
     "output_type": "stream",
     "text": [
      "16/16 [==============================] - 0s 23ms/step - loss: 5.7924 - acc: 0.0625\n",
      "Epoch 1/1\n",
      "8/8 [==============================] - 1s 97ms/step - loss: 21.5398 - model_1_loss: 1.9935e-04 - conv2d_20_loss: 0.1590\n",
      "\n",
      "Epoch 00001: loss did not improve from 20.07129\n"
     ]
    },
    {
     "name": "stderr",
     "output_type": "stream",
     "text": [
      "\n",
      "\n",
      "72it [05:04,  4.19s/it]\u001b[A\u001b[A"
     ]
    },
    {
     "name": "stdout",
     "output_type": "stream",
     "text": [
      "iteration : 72\n",
      "Epoch 1/1\n",
      " 8/16 [==============>...............] - ETA: 0s - loss: 7.5750 - acc: 0.0000e+00"
     ]
    },
    {
     "name": "stderr",
     "output_type": "stream",
     "text": [
      "/opt/conda/lib/python3.6/site-packages/keras/engine/training.py:490: UserWarning: Discrepancy between trainable weights and collected trainable weights, did you set `model.trainable` without calling `model.compile` after ?\n",
      "  'Discrepancy between trainable weights and collected trainable'\n"
     ]
    },
    {
     "name": "stdout",
     "output_type": "stream",
     "text": [
      "16/16 [==============================] - 0s 24ms/step - loss: 7.3817 - acc: 0.0625\n",
      "Epoch 1/1\n",
      "8/8 [==============================] - 1s 99ms/step - loss: 20.3115 - model_1_loss: 8.1027e-04 - conv2d_20_loss: 0.1467\n",
      "\n",
      "Epoch 00001: loss did not improve from 20.07129\n"
     ]
    },
    {
     "name": "stderr",
     "output_type": "stream",
     "text": [
      "\n",
      "\n",
      "73it [05:09,  4.19s/it]\u001b[A\u001b[A"
     ]
    },
    {
     "name": "stdout",
     "output_type": "stream",
     "text": [
      "iteration : 73\n",
      "Epoch 1/1\n",
      " 8/16 [==============>...............] - ETA: 0s - loss: 7.7517 - acc: 0.0000e+00"
     ]
    },
    {
     "name": "stderr",
     "output_type": "stream",
     "text": [
      "/opt/conda/lib/python3.6/site-packages/keras/engine/training.py:490: UserWarning: Discrepancy between trainable weights and collected trainable weights, did you set `model.trainable` without calling `model.compile` after ?\n",
      "  'Discrepancy between trainable weights and collected trainable'\n"
     ]
    },
    {
     "name": "stdout",
     "output_type": "stream",
     "text": [
      "16/16 [==============================] - 0s 23ms/step - loss: 6.3851 - acc: 0.1250\n",
      "Epoch 1/1\n",
      "8/8 [==============================] - 1s 97ms/step - loss: 21.7921 - model_1_loss: 0.0012 - conv2d_20_loss: 0.1615\n",
      "\n",
      "Epoch 00001: loss did not improve from 20.07129\n"
     ]
    },
    {
     "name": "stderr",
     "output_type": "stream",
     "text": [
      "\n",
      "\n",
      "74it [05:13,  4.20s/it]\u001b[A\u001b[A"
     ]
    },
    {
     "name": "stdout",
     "output_type": "stream",
     "text": [
      "iteration : 74\n",
      "Epoch 1/1\n",
      " 8/16 [==============>...............] - ETA: 0s - loss: 8.6313 - acc: 0.1250"
     ]
    },
    {
     "name": "stderr",
     "output_type": "stream",
     "text": [
      "/opt/conda/lib/python3.6/site-packages/keras/engine/training.py:490: UserWarning: Discrepancy between trainable weights and collected trainable weights, did you set `model.trainable` without calling `model.compile` after ?\n",
      "  'Discrepancy between trainable weights and collected trainable'\n"
     ]
    },
    {
     "name": "stdout",
     "output_type": "stream",
     "text": [
      "16/16 [==============================] - 0s 24ms/step - loss: 7.1513 - acc: 0.1250\n",
      "Epoch 1/1\n",
      "8/8 [==============================] - 1s 98ms/step - loss: 20.5349 - model_1_loss: 0.0759 - conv2d_20_loss: 0.1451\n",
      "\n",
      "Epoch 00001: loss did not improve from 20.07129\n"
     ]
    },
    {
     "name": "stderr",
     "output_type": "stream",
     "text": [
      "\n",
      "\n",
      "75it [05:17,  4.16s/it]\u001b[A\u001b[A"
     ]
    },
    {
     "name": "stdout",
     "output_type": "stream",
     "text": [
      "iteration : 75\n",
      "Epoch 1/1\n",
      " 8/16 [==============>...............] - ETA: 0s - loss: 5.2452 - acc: 0.3750"
     ]
    },
    {
     "name": "stderr",
     "output_type": "stream",
     "text": [
      "/opt/conda/lib/python3.6/site-packages/keras/engine/training.py:490: UserWarning: Discrepancy between trainable weights and collected trainable weights, did you set `model.trainable` without calling `model.compile` after ?\n",
      "  'Discrepancy between trainable weights and collected trainable'\n"
     ]
    },
    {
     "name": "stdout",
     "output_type": "stream",
     "text": [
      "16/16 [==============================] - 0s 23ms/step - loss: 5.5801 - acc: 0.1875\n",
      "Epoch 1/1\n",
      "8/8 [==============================] - 1s 97ms/step - loss: 21.3892 - model_1_loss: 0.0041 - conv2d_20_loss: 0.1573\n",
      "\n",
      "Epoch 00001: loss did not improve from 20.07129\n"
     ]
    },
    {
     "name": "stderr",
     "output_type": "stream",
     "text": [
      "\n",
      "\n",
      "76it [05:21,  4.11s/it]\u001b[A\u001b[A"
     ]
    },
    {
     "name": "stdout",
     "output_type": "stream",
     "text": [
      "iteration : 76\n",
      "Epoch 1/1\n",
      " 8/16 [==============>...............] - ETA: 0s - loss: 5.6430 - acc: 0.1250"
     ]
    },
    {
     "name": "stderr",
     "output_type": "stream",
     "text": [
      "/opt/conda/lib/python3.6/site-packages/keras/engine/training.py:490: UserWarning: Discrepancy between trainable weights and collected trainable weights, did you set `model.trainable` without calling `model.compile` after ?\n",
      "  'Discrepancy between trainable weights and collected trainable'\n"
     ]
    },
    {
     "name": "stdout",
     "output_type": "stream",
     "text": [
      "16/16 [==============================] - 0s 23ms/step - loss: 5.6550 - acc: 0.1250\n",
      "Epoch 1/1\n",
      "8/8 [==============================] - 1s 98ms/step - loss: 20.8059 - model_1_loss: 2.2002e-05 - conv2d_20_loss: 0.1516\n",
      "\n",
      "Epoch 00001: loss did not improve from 20.07129\n"
     ]
    },
    {
     "name": "stderr",
     "output_type": "stream",
     "text": [
      "\n",
      "\n",
      "77it [05:25,  4.10s/it]\u001b[A\u001b[A"
     ]
    },
    {
     "name": "stdout",
     "output_type": "stream",
     "text": [
      "iteration : 77\n",
      "Epoch 1/1\n",
      " 8/16 [==============>...............] - ETA: 0s - loss: 6.0087 - acc: 0.3750"
     ]
    },
    {
     "name": "stderr",
     "output_type": "stream",
     "text": [
      "/opt/conda/lib/python3.6/site-packages/keras/engine/training.py:490: UserWarning: Discrepancy between trainable weights and collected trainable weights, did you set `model.trainable` without calling `model.compile` after ?\n",
      "  'Discrepancy between trainable weights and collected trainable'\n"
     ]
    },
    {
     "name": "stdout",
     "output_type": "stream",
     "text": [
      "16/16 [==============================] - 0s 23ms/step - loss: 5.3473 - acc: 0.2500\n",
      "Epoch 1/1\n",
      "8/8 [==============================] - 1s 97ms/step - loss: 20.3868 - model_1_loss: 0.0024 - conv2d_20_loss: 0.1473\n",
      "\n",
      "Epoch 00001: loss did not improve from 20.07129\n"
     ]
    },
    {
     "name": "stderr",
     "output_type": "stream",
     "text": [
      "\n",
      "\n",
      "78it [05:29,  4.09s/it]\u001b[A\u001b[A"
     ]
    },
    {
     "name": "stdout",
     "output_type": "stream",
     "text": [
      "iteration : 78\n",
      "Epoch 1/1\n",
      " 8/16 [==============>...............] - ETA: 0s - loss: 7.3243 - acc: 0.1250"
     ]
    },
    {
     "name": "stderr",
     "output_type": "stream",
     "text": [
      "/opt/conda/lib/python3.6/site-packages/keras/engine/training.py:490: UserWarning: Discrepancy between trainable weights and collected trainable weights, did you set `model.trainable` without calling `model.compile` after ?\n",
      "  'Discrepancy between trainable weights and collected trainable'\n"
     ]
    },
    {
     "name": "stdout",
     "output_type": "stream",
     "text": [
      "16/16 [==============================] - 0s 24ms/step - loss: 6.2991 - acc: 0.2500\n",
      "Epoch 1/1\n",
      "8/8 [==============================] - 1s 98ms/step - loss: 20.3121 - model_1_loss: 4.9004e-04 - conv2d_20_loss: 0.1467\n",
      "\n",
      "Epoch 00001: loss did not improve from 20.07129\n"
     ]
    },
    {
     "name": "stderr",
     "output_type": "stream",
     "text": [
      "\n",
      "\n",
      "79it [05:33,  4.09s/it]\u001b[A\u001b[A"
     ]
    },
    {
     "name": "stdout",
     "output_type": "stream",
     "text": [
      "iteration : 79\n",
      "Epoch 1/1\n",
      " 8/16 [==============>...............] - ETA: 0s - loss: 7.4169 - acc: 0.2500"
     ]
    },
    {
     "name": "stderr",
     "output_type": "stream",
     "text": [
      "/opt/conda/lib/python3.6/site-packages/keras/engine/training.py:490: UserWarning: Discrepancy between trainable weights and collected trainable weights, did you set `model.trainable` without calling `model.compile` after ?\n",
      "  'Discrepancy between trainable weights and collected trainable'\n"
     ]
    },
    {
     "name": "stdout",
     "output_type": "stream",
     "text": [
      "16/16 [==============================] - 0s 23ms/step - loss: 7.0988 - acc: 0.1250\n",
      "Epoch 1/1\n",
      "8/8 [==============================] - 1s 97ms/step - loss: 20.9739 - model_1_loss: 7.5949e-04 - conv2d_20_loss: 0.1533\n",
      "\n",
      "Epoch 00001: loss did not improve from 20.07129\n"
     ]
    },
    {
     "name": "stderr",
     "output_type": "stream",
     "text": [
      "\n",
      "\n",
      "80it [05:37,  4.08s/it]\u001b[A\u001b[A"
     ]
    },
    {
     "name": "stdout",
     "output_type": "stream",
     "text": [
      "iteration : 80\n",
      "Epoch 1/1\n",
      " 8/16 [==============>...............] - ETA: 0s - loss: 6.9000 - acc: 0.1250"
     ]
    },
    {
     "name": "stderr",
     "output_type": "stream",
     "text": [
      "/opt/conda/lib/python3.6/site-packages/keras/engine/training.py:490: UserWarning: Discrepancy between trainable weights and collected trainable weights, did you set `model.trainable` without calling `model.compile` after ?\n",
      "  'Discrepancy between trainable weights and collected trainable'\n"
     ]
    },
    {
     "name": "stdout",
     "output_type": "stream",
     "text": [
      "16/16 [==============================] - 0s 24ms/step - loss: 6.5690 - acc: 0.1250\n",
      "Epoch 1/1\n",
      "8/8 [==============================] - 1s 98ms/step - loss: 20.0876 - model_1_loss: 3.8391e-04 - conv2d_20_loss: 0.1444\n",
      "\n",
      "Epoch 00001: loss did not improve from 20.07129\n"
     ]
    },
    {
     "name": "stderr",
     "output_type": "stream",
     "text": [
      "\n",
      "\n",
      "81it [05:41,  4.09s/it]\u001b[A\u001b[A"
     ]
    },
    {
     "name": "stdout",
     "output_type": "stream",
     "text": [
      "iteration : 81\n",
      "Epoch 1/1\n",
      " 8/16 [==============>...............] - ETA: 0s - loss: 7.7635 - acc: 0.1250"
     ]
    },
    {
     "name": "stderr",
     "output_type": "stream",
     "text": [
      "/opt/conda/lib/python3.6/site-packages/keras/engine/training.py:490: UserWarning: Discrepancy between trainable weights and collected trainable weights, did you set `model.trainable` without calling `model.compile` after ?\n",
      "  'Discrepancy between trainable weights and collected trainable'\n"
     ]
    },
    {
     "name": "stdout",
     "output_type": "stream",
     "text": [
      "16/16 [==============================] - 0s 23ms/step - loss: 5.9580 - acc: 0.2500\n",
      "Epoch 1/1\n",
      "8/8 [==============================] - 1s 97ms/step - loss: 20.3183 - model_1_loss: 0.0011 - conv2d_20_loss: 0.1467\n",
      "\n",
      "Epoch 00001: loss did not improve from 20.07129\n"
     ]
    },
    {
     "name": "stderr",
     "output_type": "stream",
     "text": [
      "\n",
      "\n",
      "82it [05:45,  4.08s/it]\u001b[A\u001b[A"
     ]
    },
    {
     "name": "stdout",
     "output_type": "stream",
     "text": [
      "iteration : 82\n",
      "Epoch 1/1\n",
      " 8/16 [==============>...............] - ETA: 0s - loss: 5.6058 - acc: 0.2500"
     ]
    },
    {
     "name": "stderr",
     "output_type": "stream",
     "text": [
      "/opt/conda/lib/python3.6/site-packages/keras/engine/training.py:490: UserWarning: Discrepancy between trainable weights and collected trainable weights, did you set `model.trainable` without calling `model.compile` after ?\n",
      "  'Discrepancy between trainable weights and collected trainable'\n"
     ]
    },
    {
     "name": "stdout",
     "output_type": "stream",
     "text": [
      "16/16 [==============================] - 0s 24ms/step - loss: 7.4432 - acc: 0.1875\n",
      "Epoch 1/1\n",
      "8/8 [==============================] - 1s 99ms/step - loss: 19.5826 - model_1_loss: 5.4619e-04 - conv2d_20_loss: 0.1394\n",
      "\n",
      "Epoch 00001: loss improved from 20.07129 to 19.58262, saving model to weights-improvement.hdf5\n"
     ]
    },
    {
     "name": "stderr",
     "output_type": "stream",
     "text": [
      "\n",
      "\n",
      "83it [05:50,  4.26s/it]\u001b[A\u001b[A"
     ]
    },
    {
     "name": "stdout",
     "output_type": "stream",
     "text": [
      "iteration : 83\n",
      "Epoch 1/1\n",
      " 8/16 [==============>...............] - ETA: 0s - loss: 6.0494 - acc: 0.1250"
     ]
    },
    {
     "name": "stderr",
     "output_type": "stream",
     "text": [
      "/opt/conda/lib/python3.6/site-packages/keras/engine/training.py:490: UserWarning: Discrepancy between trainable weights and collected trainable weights, did you set `model.trainable` without calling `model.compile` after ?\n",
      "  'Discrepancy between trainable weights and collected trainable'\n"
     ]
    },
    {
     "name": "stdout",
     "output_type": "stream",
     "text": [
      "16/16 [==============================] - 0s 23ms/step - loss: 6.6543 - acc: 0.0625\n",
      "Epoch 1/1\n",
      "8/8 [==============================] - 1s 97ms/step - loss: 20.1953 - model_1_loss: 0.0114 - conv2d_20_loss: 0.1450\n",
      "\n",
      "Epoch 00001: loss did not improve from 19.58262\n"
     ]
    },
    {
     "name": "stderr",
     "output_type": "stream",
     "text": [
      "\n",
      "\n",
      "84it [05:54,  4.25s/it]\u001b[A\u001b[A"
     ]
    },
    {
     "name": "stdout",
     "output_type": "stream",
     "text": [
      "iteration : 84\n",
      "Epoch 1/1\n",
      " 8/16 [==============>...............] - ETA: 0s - loss: 3.9060 - acc: 0.5000"
     ]
    },
    {
     "name": "stderr",
     "output_type": "stream",
     "text": [
      "/opt/conda/lib/python3.6/site-packages/keras/engine/training.py:490: UserWarning: Discrepancy between trainable weights and collected trainable weights, did you set `model.trainable` without calling `model.compile` after ?\n",
      "  'Discrepancy between trainable weights and collected trainable'\n"
     ]
    },
    {
     "name": "stdout",
     "output_type": "stream",
     "text": [
      "16/16 [==============================] - 0s 24ms/step - loss: 5.3940 - acc: 0.3125\n",
      "Epoch 1/1\n",
      "8/8 [==============================] - 1s 98ms/step - loss: 19.9779 - model_1_loss: 0.0013 - conv2d_20_loss: 0.1433\n",
      "\n",
      "Epoch 00001: loss did not improve from 19.58262\n"
     ]
    },
    {
     "name": "stderr",
     "output_type": "stream",
     "text": [
      "\n",
      "\n",
      "85it [05:58,  4.21s/it]\u001b[A\u001b[A"
     ]
    },
    {
     "name": "stdout",
     "output_type": "stream",
     "text": [
      "iteration : 85\n",
      "Epoch 1/1\n",
      " 8/16 [==============>...............] - ETA: 0s - loss: 5.9849 - acc: 0.1250"
     ]
    },
    {
     "name": "stderr",
     "output_type": "stream",
     "text": [
      "/opt/conda/lib/python3.6/site-packages/keras/engine/training.py:490: UserWarning: Discrepancy between trainable weights and collected trainable weights, did you set `model.trainable` without calling `model.compile` after ?\n",
      "  'Discrepancy between trainable weights and collected trainable'\n"
     ]
    },
    {
     "name": "stdout",
     "output_type": "stream",
     "text": [
      "16/16 [==============================] - 0s 23ms/step - loss: 5.9126 - acc: 0.0625\n",
      "Epoch 1/1\n",
      "8/8 [==============================] - 1s 98ms/step - loss: 19.9468 - model_1_loss: 0.0028 - conv2d_20_loss: 0.1429\n",
      "\n",
      "Epoch 00001: loss did not improve from 19.58262\n"
     ]
    },
    {
     "name": "stderr",
     "output_type": "stream",
     "text": [
      "\n",
      "\n",
      "86it [06:02,  4.17s/it]\u001b[A\u001b[A"
     ]
    },
    {
     "name": "stdout",
     "output_type": "stream",
     "text": [
      "iteration : 86\n",
      "Epoch 1/1\n",
      " 8/16 [==============>...............] - ETA: 0s - loss: 6.0674 - acc: 0.1250"
     ]
    },
    {
     "name": "stderr",
     "output_type": "stream",
     "text": [
      "/opt/conda/lib/python3.6/site-packages/keras/engine/training.py:490: UserWarning: Discrepancy between trainable weights and collected trainable weights, did you set `model.trainable` without calling `model.compile` after ?\n",
      "  'Discrepancy between trainable weights and collected trainable'\n"
     ]
    },
    {
     "name": "stdout",
     "output_type": "stream",
     "text": [
      "16/16 [==============================] - 0s 24ms/step - loss: 6.1462 - acc: 0.1250\n",
      "Epoch 1/1\n",
      "8/8 [==============================] - 1s 98ms/step - loss: 20.0751 - model_1_loss: 1.1088e-04 - conv2d_20_loss: 0.1443\n",
      "\n",
      "Epoch 00001: loss did not improve from 19.58262\n"
     ]
    },
    {
     "name": "stderr",
     "output_type": "stream",
     "text": [
      "\n",
      "\n",
      "87it [06:07,  4.15s/it]\u001b[A\u001b[A"
     ]
    },
    {
     "name": "stdout",
     "output_type": "stream",
     "text": [
      "iteration : 87\n",
      "Epoch 1/1\n",
      " 8/16 [==============>...............] - ETA: 0s - loss: 8.5616 - acc: 0.1250"
     ]
    },
    {
     "name": "stderr",
     "output_type": "stream",
     "text": [
      "/opt/conda/lib/python3.6/site-packages/keras/engine/training.py:490: UserWarning: Discrepancy between trainable weights and collected trainable weights, did you set `model.trainable` without calling `model.compile` after ?\n",
      "  'Discrepancy between trainable weights and collected trainable'\n"
     ]
    },
    {
     "name": "stdout",
     "output_type": "stream",
     "text": [
      "16/16 [==============================] - 0s 23ms/step - loss: 7.0891 - acc: 0.1875\n",
      "Epoch 1/1\n",
      "8/8 [==============================] - 1s 97ms/step - loss: 19.8509 - model_1_loss: 0.0016 - conv2d_20_loss: 0.1420\n",
      "\n",
      "Epoch 00001: loss did not improve from 19.58262\n"
     ]
    },
    {
     "name": "stderr",
     "output_type": "stream",
     "text": [
      "\n",
      "\n",
      "88it [06:11,  4.12s/it]\u001b[A\u001b[A"
     ]
    },
    {
     "name": "stdout",
     "output_type": "stream",
     "text": [
      "iteration : 88\n",
      "Epoch 1/1\n",
      " 8/16 [==============>...............] - ETA: 0s - loss: 6.4711 - acc: 0.0000e+00"
     ]
    },
    {
     "name": "stderr",
     "output_type": "stream",
     "text": [
      "/opt/conda/lib/python3.6/site-packages/keras/engine/training.py:490: UserWarning: Discrepancy between trainable weights and collected trainable weights, did you set `model.trainable` without calling `model.compile` after ?\n",
      "  'Discrepancy between trainable weights and collected trainable'\n"
     ]
    },
    {
     "name": "stdout",
     "output_type": "stream",
     "text": [
      "16/16 [==============================] - 0s 24ms/step - loss: 5.8911 - acc: 0.1250\n",
      "Epoch 1/1\n",
      "8/8 [==============================] - 1s 98ms/step - loss: 20.6190 - model_1_loss: 0.0061 - conv2d_20_loss: 0.1495\n",
      "\n",
      "Epoch 00001: loss did not improve from 19.58262\n"
     ]
    },
    {
     "name": "stderr",
     "output_type": "stream",
     "text": [
      "\n",
      "\n",
      "89it [06:15,  4.12s/it]\u001b[A\u001b[A"
     ]
    },
    {
     "name": "stdout",
     "output_type": "stream",
     "text": [
      "iteration : 89\n",
      "Epoch 1/1\n",
      " 8/16 [==============>...............] - ETA: 0s - loss: 5.2810 - acc: 0.1250"
     ]
    },
    {
     "name": "stderr",
     "output_type": "stream",
     "text": [
      "/opt/conda/lib/python3.6/site-packages/keras/engine/training.py:490: UserWarning: Discrepancy between trainable weights and collected trainable weights, did you set `model.trainable` without calling `model.compile` after ?\n",
      "  'Discrepancy between trainable weights and collected trainable'\n"
     ]
    },
    {
     "name": "stdout",
     "output_type": "stream",
     "text": [
      "16/16 [==============================] - 0s 23ms/step - loss: 5.1570 - acc: 0.1875\n",
      "Epoch 1/1\n",
      "8/8 [==============================] - 1s 97ms/step - loss: 20.1743 - model_1_loss: 0.0099 - conv2d_20_loss: 0.1448\n",
      "\n",
      "Epoch 00001: loss did not improve from 19.58262\n"
     ]
    },
    {
     "name": "stderr",
     "output_type": "stream",
     "text": [
      "\n",
      "\n",
      "90it [06:19,  4.11s/it]\u001b[A\u001b[A"
     ]
    },
    {
     "name": "stdout",
     "output_type": "stream",
     "text": [
      "iteration : 90\n",
      "Epoch 1/1\n",
      " 8/16 [==============>...............] - ETA: 0s - loss: 6.4091 - acc: 0.2500"
     ]
    },
    {
     "name": "stderr",
     "output_type": "stream",
     "text": [
      "/opt/conda/lib/python3.6/site-packages/keras/engine/training.py:490: UserWarning: Discrepancy between trainable weights and collected trainable weights, did you set `model.trainable` without calling `model.compile` after ?\n",
      "  'Discrepancy between trainable weights and collected trainable'\n"
     ]
    },
    {
     "name": "stdout",
     "output_type": "stream",
     "text": [
      "16/16 [==============================] - 0s 24ms/step - loss: 6.1038 - acc: 0.3125\n",
      "Epoch 1/1\n",
      "8/8 [==============================] - 1s 98ms/step - loss: 20.2348 - model_1_loss: 0.0012 - conv2d_20_loss: 0.1459\n",
      "\n",
      "Epoch 00001: loss did not improve from 19.58262\n"
     ]
    },
    {
     "name": "stderr",
     "output_type": "stream",
     "text": [
      "\n",
      "\n",
      "91it [06:23,  4.09s/it]\u001b[A\u001b[A"
     ]
    },
    {
     "name": "stdout",
     "output_type": "stream",
     "text": [
      "iteration : 91\n",
      "Epoch 1/1\n",
      " 8/16 [==============>...............] - ETA: 0s - loss: 6.6702 - acc: 0.2500"
     ]
    },
    {
     "name": "stderr",
     "output_type": "stream",
     "text": [
      "/opt/conda/lib/python3.6/site-packages/keras/engine/training.py:490: UserWarning: Discrepancy between trainable weights and collected trainable weights, did you set `model.trainable` without calling `model.compile` after ?\n",
      "  'Discrepancy between trainable weights and collected trainable'\n"
     ]
    },
    {
     "name": "stdout",
     "output_type": "stream",
     "text": [
      "16/16 [==============================] - 0s 23ms/step - loss: 5.7274 - acc: 0.1250\n",
      "Epoch 1/1\n",
      "8/8 [==============================] - 1s 97ms/step - loss: 20.7787 - model_1_loss: 0.0053 - conv2d_20_loss: 0.1511\n",
      "\n",
      "Epoch 00001: loss did not improve from 19.58262\n"
     ]
    },
    {
     "name": "stderr",
     "output_type": "stream",
     "text": [
      "\n",
      "\n",
      "92it [06:27,  4.09s/it]\u001b[A\u001b[A"
     ]
    },
    {
     "name": "stdout",
     "output_type": "stream",
     "text": [
      "iteration : 92\n",
      "Epoch 1/1\n",
      " 8/16 [==============>...............] - ETA: 0s - loss: 6.3936 - acc: 0.2500"
     ]
    },
    {
     "name": "stderr",
     "output_type": "stream",
     "text": [
      "/opt/conda/lib/python3.6/site-packages/keras/engine/training.py:490: UserWarning: Discrepancy between trainable weights and collected trainable weights, did you set `model.trainable` without calling `model.compile` after ?\n",
      "  'Discrepancy between trainable weights and collected trainable'\n"
     ]
    },
    {
     "name": "stdout",
     "output_type": "stream",
     "text": [
      "16/16 [==============================] - 0s 24ms/step - loss: 7.0453 - acc: 0.1875\n",
      "Epoch 1/1\n",
      "8/8 [==============================] - 1s 98ms/step - loss: 19.9617 - model_1_loss: 0.0036 - conv2d_20_loss: 0.1430\n",
      "\n",
      "Epoch 00001: loss did not improve from 19.58262\n"
     ]
    },
    {
     "name": "stderr",
     "output_type": "stream",
     "text": [
      "\n",
      "\n",
      "93it [06:31,  4.09s/it]\u001b[A\u001b[A"
     ]
    },
    {
     "name": "stdout",
     "output_type": "stream",
     "text": [
      "iteration : 93\n",
      "Epoch 1/1\n",
      " 8/16 [==============>...............] - ETA: 0s - loss: 7.4590 - acc: 0.1250"
     ]
    },
    {
     "name": "stderr",
     "output_type": "stream",
     "text": [
      "/opt/conda/lib/python3.6/site-packages/keras/engine/training.py:490: UserWarning: Discrepancy between trainable weights and collected trainable weights, did you set `model.trainable` without calling `model.compile` after ?\n",
      "  'Discrepancy between trainable weights and collected trainable'\n"
     ]
    },
    {
     "name": "stdout",
     "output_type": "stream",
     "text": [
      "16/16 [==============================] - 0s 23ms/step - loss: 6.5883 - acc: 0.1250\n",
      "Epoch 1/1\n",
      "8/8 [==============================] - 1s 97ms/step - loss: 20.0971 - model_1_loss: 0.0229 - conv2d_20_loss: 0.1434\n",
      "\n",
      "Epoch 00001: loss did not improve from 19.58262\n"
     ]
    },
    {
     "name": "stderr",
     "output_type": "stream",
     "text": [
      "\n",
      "\n",
      "94it [06:35,  4.08s/it]\u001b[A\u001b[A"
     ]
    },
    {
     "name": "stdout",
     "output_type": "stream",
     "text": [
      "iteration : 94\n",
      "Epoch 1/1\n",
      " 8/16 [==============>...............] - ETA: 0s - loss: 7.4957 - acc: 0.2500"
     ]
    },
    {
     "name": "stderr",
     "output_type": "stream",
     "text": [
      "/opt/conda/lib/python3.6/site-packages/keras/engine/training.py:490: UserWarning: Discrepancy between trainable weights and collected trainable weights, did you set `model.trainable` without calling `model.compile` after ?\n",
      "  'Discrepancy between trainable weights and collected trainable'\n"
     ]
    },
    {
     "name": "stdout",
     "output_type": "stream",
     "text": [
      "16/16 [==============================] - 0s 24ms/step - loss: 6.6498 - acc: 0.2500\n",
      "Epoch 1/1\n",
      "8/8 [==============================] - 1s 98ms/step - loss: 21.2899 - model_1_loss: 0.0172 - conv2d_20_loss: 0.1556\n",
      "\n",
      "Epoch 00001: loss did not improve from 19.58262\n"
     ]
    },
    {
     "name": "stderr",
     "output_type": "stream",
     "text": [
      "\n",
      "\n",
      "95it [06:39,  4.08s/it]\u001b[A\u001b[A"
     ]
    },
    {
     "name": "stdout",
     "output_type": "stream",
     "text": [
      "iteration : 95\n",
      "Epoch 1/1\n",
      " 8/16 [==============>...............] - ETA: 0s - loss: 5.3887 - acc: 0.3750"
     ]
    },
    {
     "name": "stderr",
     "output_type": "stream",
     "text": [
      "/opt/conda/lib/python3.6/site-packages/keras/engine/training.py:490: UserWarning: Discrepancy between trainable weights and collected trainable weights, did you set `model.trainable` without calling `model.compile` after ?\n",
      "  'Discrepancy between trainable weights and collected trainable'\n"
     ]
    },
    {
     "name": "stdout",
     "output_type": "stream",
     "text": [
      "16/16 [==============================] - 0s 23ms/step - loss: 5.8425 - acc: 0.2500\n",
      "Epoch 1/1\n",
      "8/8 [==============================] - 1s 97ms/step - loss: 21.2787 - model_1_loss: 3.6600e-05 - conv2d_20_loss: 0.1564\n",
      "\n",
      "Epoch 00001: loss did not improve from 19.58262\n"
     ]
    },
    {
     "name": "stderr",
     "output_type": "stream",
     "text": [
      "\n",
      "\n",
      "96it [06:43,  4.07s/it]\u001b[A\u001b[A"
     ]
    },
    {
     "name": "stdout",
     "output_type": "stream",
     "text": [
      "iteration : 96\n",
      "Epoch 1/1\n",
      " 8/16 [==============>...............] - ETA: 0s - loss: 6.8821 - acc: 0.1250"
     ]
    },
    {
     "name": "stderr",
     "output_type": "stream",
     "text": [
      "/opt/conda/lib/python3.6/site-packages/keras/engine/training.py:490: UserWarning: Discrepancy between trainable weights and collected trainable weights, did you set `model.trainable` without calling `model.compile` after ?\n",
      "  'Discrepancy between trainable weights and collected trainable'\n"
     ]
    },
    {
     "name": "stdout",
     "output_type": "stream",
     "text": [
      "16/16 [==============================] - 0s 24ms/step - loss: 6.3674 - acc: 0.0625\n",
      "Epoch 1/1\n",
      "8/8 [==============================] - 1s 98ms/step - loss: 19.8820 - model_1_loss: 0.0400 - conv2d_20_loss: 0.1404\n",
      "\n",
      "Epoch 00001: loss did not improve from 19.58262\n"
     ]
    },
    {
     "name": "stderr",
     "output_type": "stream",
     "text": [
      "\n",
      "\n",
      "97it [06:47,  4.06s/it]\u001b[A\u001b[A"
     ]
    },
    {
     "name": "stdout",
     "output_type": "stream",
     "text": [
      "iteration : 97\n",
      "Epoch 1/1\n",
      " 8/16 [==============>...............] - ETA: 0s - loss: 4.8396 - acc: 0.1250"
     ]
    },
    {
     "name": "stderr",
     "output_type": "stream",
     "text": [
      "/opt/conda/lib/python3.6/site-packages/keras/engine/training.py:490: UserWarning: Discrepancy between trainable weights and collected trainable weights, did you set `model.trainable` without calling `model.compile` after ?\n",
      "  'Discrepancy between trainable weights and collected trainable'\n"
     ]
    },
    {
     "name": "stdout",
     "output_type": "stream",
     "text": [
      "16/16 [==============================] - 0s 23ms/step - loss: 6.1237 - acc: 0.1250\n",
      "Epoch 1/1\n",
      "8/8 [==============================] - 1s 96ms/step - loss: 19.1914 - model_1_loss: 5.3314e-04 - conv2d_20_loss: 0.1355\n",
      "\n",
      "Epoch 00001: loss improved from 19.58262 to 19.19139, saving model to weights-improvement.hdf5\n"
     ]
    },
    {
     "name": "stderr",
     "output_type": "stream",
     "text": [
      "\n",
      "\n",
      "98it [06:52,  4.22s/it]\u001b[A\u001b[A"
     ]
    },
    {
     "name": "stdout",
     "output_type": "stream",
     "text": [
      "iteration : 98\n",
      "Epoch 1/1\n",
      " 8/16 [==============>...............] - ETA: 0s - loss: 6.6798 - acc: 0.1250"
     ]
    },
    {
     "name": "stderr",
     "output_type": "stream",
     "text": [
      "/opt/conda/lib/python3.6/site-packages/keras/engine/training.py:490: UserWarning: Discrepancy between trainable weights and collected trainable weights, did you set `model.trainable` without calling `model.compile` after ?\n",
      "  'Discrepancy between trainable weights and collected trainable'\n"
     ]
    },
    {
     "name": "stdout",
     "output_type": "stream",
     "text": [
      "16/16 [==============================] - 0s 23ms/step - loss: 6.6200 - acc: 0.1875\n",
      "Epoch 1/1\n",
      "8/8 [==============================] - 1s 98ms/step - loss: 20.2919 - model_1_loss: 0.0016 - conv2d_20_loss: 0.1464\n",
      "\n",
      "Epoch 00001: loss did not improve from 19.19139\n"
     ]
    },
    {
     "name": "stderr",
     "output_type": "stream",
     "text": [
      "\n",
      "\n",
      "99it [06:56,  4.22s/it]\u001b[A\u001b[A"
     ]
    },
    {
     "name": "stdout",
     "output_type": "stream",
     "text": [
      "iteration : 99\n",
      "Epoch 1/1\n",
      " 8/16 [==============>...............] - ETA: 0s - loss: 5.2039 - acc: 0.1250"
     ]
    },
    {
     "name": "stderr",
     "output_type": "stream",
     "text": [
      "/opt/conda/lib/python3.6/site-packages/keras/engine/training.py:490: UserWarning: Discrepancy between trainable weights and collected trainable weights, did you set `model.trainable` without calling `model.compile` after ?\n",
      "  'Discrepancy between trainable weights and collected trainable'\n"
     ]
    },
    {
     "name": "stdout",
     "output_type": "stream",
     "text": [
      "16/16 [==============================] - 0s 23ms/step - loss: 6.9459 - acc: 0.1250\n",
      "Epoch 1/1\n",
      "8/8 [==============================] - 1s 97ms/step - loss: 20.3393 - model_1_loss: 0.0041 - conv2d_20_loss: 0.1468\n",
      "\n",
      "Epoch 00001: loss did not improve from 19.19139\n"
     ]
    },
    {
     "name": "stderr",
     "output_type": "stream",
     "text": [
      "\n",
      "\n",
      "100it [07:00,  4.18s/it]\u001b[A\u001b[A"
     ]
    },
    {
     "name": "stdout",
     "output_type": "stream",
     "text": [
      "iteration : 100\n",
      "Epoch 1/1\n",
      " 8/16 [==============>...............] - ETA: 0s - loss: 4.6720 - acc: 0.3750"
     ]
    },
    {
     "name": "stderr",
     "output_type": "stream",
     "text": [
      "/opt/conda/lib/python3.6/site-packages/keras/engine/training.py:490: UserWarning: Discrepancy between trainable weights and collected trainable weights, did you set `model.trainable` without calling `model.compile` after ?\n",
      "  'Discrepancy between trainable weights and collected trainable'\n"
     ]
    },
    {
     "name": "stdout",
     "output_type": "stream",
     "text": [
      "16/16 [==============================] - 0s 24ms/step - loss: 6.4783 - acc: 0.3125\n",
      "Epoch 1/1\n",
      "8/8 [==============================] - 1s 98ms/step - loss: 19.9872 - model_1_loss: 0.0105 - conv2d_20_loss: 0.1429\n",
      "\n",
      "Epoch 00001: loss did not improve from 19.19139\n"
     ]
    },
    {
     "name": "stderr",
     "output_type": "stream",
     "text": [
      "\n",
      "\n",
      "101it [07:04,  4.15s/it]\u001b[A\u001b[A"
     ]
    },
    {
     "name": "stdout",
     "output_type": "stream",
     "text": [
      "iteration : 101\n",
      "Epoch 1/1\n",
      " 8/16 [==============>...............] - ETA: 0s - loss: 7.6765 - acc: 0.2500"
     ]
    },
    {
     "name": "stderr",
     "output_type": "stream",
     "text": [
      "/opt/conda/lib/python3.6/site-packages/keras/engine/training.py:490: UserWarning: Discrepancy between trainable weights and collected trainable weights, did you set `model.trainable` without calling `model.compile` after ?\n",
      "  'Discrepancy between trainable weights and collected trainable'\n"
     ]
    },
    {
     "name": "stdout",
     "output_type": "stream",
     "text": [
      "16/16 [==============================] - 0s 23ms/step - loss: 6.8121 - acc: 0.2500\n",
      "Epoch 1/1\n",
      "8/8 [==============================] - 1s 97ms/step - loss: 19.9879 - model_1_loss: 1.1893e-04 - conv2d_20_loss: 0.1435\n",
      "\n",
      "Epoch 00001: loss did not improve from 19.19139\n"
     ]
    },
    {
     "name": "stderr",
     "output_type": "stream",
     "text": [
      "\n",
      "\n",
      "102it [07:08,  4.13s/it]\u001b[A\u001b[A"
     ]
    },
    {
     "name": "stdout",
     "output_type": "stream",
     "text": [
      "iteration : 102\n",
      "Epoch 1/1\n",
      " 8/16 [==============>...............] - ETA: 0s - loss: 7.9032 - acc: 0.2500"
     ]
    },
    {
     "name": "stderr",
     "output_type": "stream",
     "text": [
      "/opt/conda/lib/python3.6/site-packages/keras/engine/training.py:490: UserWarning: Discrepancy between trainable weights and collected trainable weights, did you set `model.trainable` without calling `model.compile` after ?\n",
      "  'Discrepancy between trainable weights and collected trainable'\n"
     ]
    },
    {
     "name": "stdout",
     "output_type": "stream",
     "text": [
      "16/16 [==============================] - 0s 24ms/step - loss: 6.0752 - acc: 0.2500\n",
      "Epoch 1/1\n",
      "8/8 [==============================] - 1s 98ms/step - loss: 22.5921 - model_1_loss: 0.0075 - conv2d_20_loss: 0.1691\n",
      "\n",
      "Epoch 00001: loss did not improve from 19.19139\n"
     ]
    },
    {
     "name": "stderr",
     "output_type": "stream",
     "text": [
      "\n",
      "\n",
      "103it [07:12,  4.12s/it]\u001b[A\u001b[A"
     ]
    },
    {
     "name": "stdout",
     "output_type": "stream",
     "text": [
      "iteration : 103\n",
      "Epoch 1/1\n",
      " 8/16 [==============>...............] - ETA: 0s - loss: 6.8376 - acc: 0.1250"
     ]
    },
    {
     "name": "stderr",
     "output_type": "stream",
     "text": [
      "/opt/conda/lib/python3.6/site-packages/keras/engine/training.py:490: UserWarning: Discrepancy between trainable weights and collected trainable weights, did you set `model.trainable` without calling `model.compile` after ?\n",
      "  'Discrepancy between trainable weights and collected trainable'\n"
     ]
    },
    {
     "name": "stdout",
     "output_type": "stream",
     "text": [
      "16/16 [==============================] - 0s 23ms/step - loss: 6.6458 - acc: 0.1875\n",
      "Epoch 1/1\n",
      "8/8 [==============================] - 1s 97ms/step - loss: 19.5477 - model_1_loss: 7.7284e-05 - conv2d_20_loss: 0.1391\n",
      "\n",
      "Epoch 00001: loss did not improve from 19.19139\n"
     ]
    },
    {
     "name": "stderr",
     "output_type": "stream",
     "text": [
      "\n",
      "\n",
      "104it [07:16,  4.11s/it]\u001b[A\u001b[A"
     ]
    },
    {
     "name": "stdout",
     "output_type": "stream",
     "text": [
      "iteration : 104\n",
      "Epoch 1/1\n",
      " 8/16 [==============>...............] - ETA: 0s - loss: 5.2158 - acc: 0.1250"
     ]
    },
    {
     "name": "stderr",
     "output_type": "stream",
     "text": [
      "/opt/conda/lib/python3.6/site-packages/keras/engine/training.py:490: UserWarning: Discrepancy between trainable weights and collected trainable weights, did you set `model.trainable` without calling `model.compile` after ?\n",
      "  'Discrepancy between trainable weights and collected trainable'\n"
     ]
    },
    {
     "name": "stdout",
     "output_type": "stream",
     "text": [
      "16/16 [==============================] - 0s 24ms/step - loss: 7.3781 - acc: 0.1250\n",
      "Epoch 1/1\n",
      "8/8 [==============================] - 1s 98ms/step - loss: 20.5485 - model_1_loss: 8.6414e-04 - conv2d_20_loss: 0.1490\n",
      "\n",
      "Epoch 00001: loss did not improve from 19.19139\n"
     ]
    },
    {
     "name": "stderr",
     "output_type": "stream",
     "text": [
      "\n",
      "\n",
      "105it [07:21,  4.12s/it]\u001b[A\u001b[A"
     ]
    },
    {
     "name": "stdout",
     "output_type": "stream",
     "text": [
      "iteration : 105\n",
      "Epoch 1/1\n",
      " 8/16 [==============>...............] - ETA: 0s - loss: 5.3159 - acc: 0.2500"
     ]
    },
    {
     "name": "stderr",
     "output_type": "stream",
     "text": [
      "/opt/conda/lib/python3.6/site-packages/keras/engine/training.py:490: UserWarning: Discrepancy between trainable weights and collected trainable weights, did you set `model.trainable` without calling `model.compile` after ?\n",
      "  'Discrepancy between trainable weights and collected trainable'\n"
     ]
    },
    {
     "name": "stdout",
     "output_type": "stream",
     "text": [
      "16/16 [==============================] - 0s 23ms/step - loss: 6.3280 - acc: 0.1875\n",
      "Epoch 1/1\n",
      "8/8 [==============================] - 1s 97ms/step - loss: 21.0981 - model_1_loss: 1.1526e-04 - conv2d_20_loss: 0.1546\n",
      "\n",
      "Epoch 00001: loss did not improve from 19.19139\n"
     ]
    },
    {
     "name": "stderr",
     "output_type": "stream",
     "text": [
      "\n",
      "\n",
      "106it [07:25,  4.10s/it]\u001b[A\u001b[A"
     ]
    },
    {
     "name": "stdout",
     "output_type": "stream",
     "text": [
      "iteration : 106\n",
      "Epoch 1/1\n",
      " 8/16 [==============>...............] - ETA: 0s - loss: 6.4412 - acc: 0.2500"
     ]
    },
    {
     "name": "stderr",
     "output_type": "stream",
     "text": [
      "/opt/conda/lib/python3.6/site-packages/keras/engine/training.py:490: UserWarning: Discrepancy between trainable weights and collected trainable weights, did you set `model.trainable` without calling `model.compile` after ?\n",
      "  'Discrepancy between trainable weights and collected trainable'\n"
     ]
    },
    {
     "name": "stdout",
     "output_type": "stream",
     "text": [
      "16/16 [==============================] - 0s 24ms/step - loss: 6.7568 - acc: 0.1875\n",
      "Epoch 1/1\n",
      "8/8 [==============================] - 1s 98ms/step - loss: 20.9622 - model_1_loss: 3.8354e-04 - conv2d_20_loss: 0.1532\n",
      "\n",
      "Epoch 00001: loss did not improve from 19.19139\n"
     ]
    },
    {
     "name": "stderr",
     "output_type": "stream",
     "text": [
      "\n",
      "\n",
      "107it [07:29,  4.11s/it]\u001b[A\u001b[A"
     ]
    },
    {
     "name": "stdout",
     "output_type": "stream",
     "text": [
      "iteration : 107\n",
      "Epoch 1/1\n",
      " 8/16 [==============>...............] - ETA: 0s - loss: 5.5574 - acc: 0.5000"
     ]
    },
    {
     "name": "stderr",
     "output_type": "stream",
     "text": [
      "/opt/conda/lib/python3.6/site-packages/keras/engine/training.py:490: UserWarning: Discrepancy between trainable weights and collected trainable weights, did you set `model.trainable` without calling `model.compile` after ?\n",
      "  'Discrepancy between trainable weights and collected trainable'\n"
     ]
    },
    {
     "name": "stdout",
     "output_type": "stream",
     "text": [
      "16/16 [==============================] - 0s 23ms/step - loss: 6.0199 - acc: 0.3125\n",
      "Epoch 1/1\n",
      "8/8 [==============================] - 1s 97ms/step - loss: 19.7280 - model_1_loss: 1.0685e-04 - conv2d_20_loss: 0.1409\n",
      "\n",
      "Epoch 00001: loss did not improve from 19.19139\n"
     ]
    },
    {
     "name": "stderr",
     "output_type": "stream",
     "text": [
      "\n",
      "\n",
      "108it [07:33,  4.09s/it]\u001b[A\u001b[A"
     ]
    },
    {
     "name": "stdout",
     "output_type": "stream",
     "text": [
      "iteration : 108\n",
      "Epoch 1/1\n",
      " 8/16 [==============>...............] - ETA: 0s - loss: 3.8725 - acc: 0.3750"
     ]
    },
    {
     "name": "stderr",
     "output_type": "stream",
     "text": [
      "/opt/conda/lib/python3.6/site-packages/keras/engine/training.py:490: UserWarning: Discrepancy between trainable weights and collected trainable weights, did you set `model.trainable` without calling `model.compile` after ?\n",
      "  'Discrepancy between trainable weights and collected trainable'\n"
     ]
    },
    {
     "name": "stdout",
     "output_type": "stream",
     "text": [
      "16/16 [==============================] - 0s 24ms/step - loss: 4.9070 - acc: 0.2500\n",
      "Epoch 1/1\n",
      "8/8 [==============================] - 1s 98ms/step - loss: 22.2681 - model_1_loss: 0.0105 - conv2d_20_loss: 0.1658\n",
      "\n",
      "Epoch 00001: loss did not improve from 19.19139\n"
     ]
    },
    {
     "name": "stderr",
     "output_type": "stream",
     "text": [
      "\n",
      "\n",
      "109it [07:37,  4.09s/it]\u001b[A\u001b[A"
     ]
    },
    {
     "name": "stdout",
     "output_type": "stream",
     "text": [
      "iteration : 109\n",
      "Epoch 1/1\n",
      " 8/16 [==============>...............] - ETA: 0s - loss: 10.1844 - acc: 0.2500"
     ]
    },
    {
     "name": "stderr",
     "output_type": "stream",
     "text": [
      "/opt/conda/lib/python3.6/site-packages/keras/engine/training.py:490: UserWarning: Discrepancy between trainable weights and collected trainable weights, did you set `model.trainable` without calling `model.compile` after ?\n",
      "  'Discrepancy between trainable weights and collected trainable'\n"
     ]
    },
    {
     "name": "stdout",
     "output_type": "stream",
     "text": [
      "16/16 [==============================] - 0s 23ms/step - loss: 7.7655 - acc: 0.1875\n",
      "Epoch 1/1\n",
      "8/8 [==============================] - 1s 97ms/step - loss: 20.2016 - model_1_loss: 1.8479e-04 - conv2d_20_loss: 0.1456\n",
      "\n",
      "Epoch 00001: loss did not improve from 19.19139\n"
     ]
    },
    {
     "name": "stderr",
     "output_type": "stream",
     "text": [
      "\n",
      "\n",
      "110it [07:41,  4.09s/it]\u001b[A\u001b[A"
     ]
    },
    {
     "name": "stdout",
     "output_type": "stream",
     "text": [
      "iteration : 110\n",
      "Epoch 1/1\n",
      " 8/16 [==============>...............] - ETA: 0s - loss: 7.7352 - acc: 0.0000e+00"
     ]
    },
    {
     "name": "stderr",
     "output_type": "stream",
     "text": [
      "/opt/conda/lib/python3.6/site-packages/keras/engine/training.py:490: UserWarning: Discrepancy between trainable weights and collected trainable weights, did you set `model.trainable` without calling `model.compile` after ?\n",
      "  'Discrepancy between trainable weights and collected trainable'\n"
     ]
    },
    {
     "name": "stdout",
     "output_type": "stream",
     "text": [
      "16/16 [==============================] - 0s 24ms/step - loss: 6.3677 - acc: 0.0625\n",
      "Epoch 1/1\n",
      "8/8 [==============================] - 1s 98ms/step - loss: 21.2922 - model_1_loss: 0.0076 - conv2d_20_loss: 0.1561\n",
      "\n",
      "Epoch 00001: loss did not improve from 19.19139\n"
     ]
    },
    {
     "name": "stderr",
     "output_type": "stream",
     "text": [
      "\n",
      "\n",
      "111it [07:45,  4.09s/it]\u001b[A\u001b[A"
     ]
    },
    {
     "name": "stdout",
     "output_type": "stream",
     "text": [
      "iteration : 111\n",
      "Epoch 1/1\n",
      " 8/16 [==============>...............] - ETA: 0s - loss: 5.9413 - acc: 0.2500"
     ]
    },
    {
     "name": "stderr",
     "output_type": "stream",
     "text": [
      "/opt/conda/lib/python3.6/site-packages/keras/engine/training.py:490: UserWarning: Discrepancy between trainable weights and collected trainable weights, did you set `model.trainable` without calling `model.compile` after ?\n",
      "  'Discrepancy between trainable weights and collected trainable'\n"
     ]
    },
    {
     "name": "stdout",
     "output_type": "stream",
     "text": [
      "16/16 [==============================] - 0s 23ms/step - loss: 7.1870 - acc: 0.1875\n",
      "Epoch 1/1\n",
      "8/8 [==============================] - 1s 97ms/step - loss: 20.1815 - model_1_loss: 2.9015e-05 - conv2d_20_loss: 0.1454\n",
      "\n",
      "Epoch 00001: loss did not improve from 19.19139\n"
     ]
    },
    {
     "name": "stderr",
     "output_type": "stream",
     "text": [
      "\n",
      "\n",
      "112it [07:49,  4.08s/it]\u001b[A\u001b[A"
     ]
    },
    {
     "name": "stdout",
     "output_type": "stream",
     "text": [
      "iteration : 112\n",
      "Epoch 1/1\n",
      " 8/16 [==============>...............] - ETA: 0s - loss: 4.7271 - acc: 0.3750"
     ]
    },
    {
     "name": "stderr",
     "output_type": "stream",
     "text": [
      "/opt/conda/lib/python3.6/site-packages/keras/engine/training.py:490: UserWarning: Discrepancy between trainable weights and collected trainable weights, did you set `model.trainable` without calling `model.compile` after ?\n",
      "  'Discrepancy between trainable weights and collected trainable'\n"
     ]
    },
    {
     "name": "stdout",
     "output_type": "stream",
     "text": [
      "16/16 [==============================] - 0s 24ms/step - loss: 5.5121 - acc: 0.2500\n",
      "Epoch 1/1\n",
      "8/8 [==============================] - 1s 98ms/step - loss: 19.6013 - model_1_loss: 0.0130 - conv2d_20_loss: 0.1390\n",
      "\n",
      "Epoch 00001: loss did not improve from 19.19139\n"
     ]
    },
    {
     "name": "stderr",
     "output_type": "stream",
     "text": [
      "\n",
      "\n",
      "113it [07:53,  4.08s/it]\u001b[A\u001b[A"
     ]
    },
    {
     "name": "stdout",
     "output_type": "stream",
     "text": [
      "iteration : 113\n",
      "Epoch 1/1\n",
      " 8/16 [==============>...............] - ETA: 0s - loss: 8.3456 - acc: 0.1250"
     ]
    },
    {
     "name": "stderr",
     "output_type": "stream",
     "text": [
      "/opt/conda/lib/python3.6/site-packages/keras/engine/training.py:490: UserWarning: Discrepancy between trainable weights and collected trainable weights, did you set `model.trainable` without calling `model.compile` after ?\n",
      "  'Discrepancy between trainable weights and collected trainable'\n"
     ]
    },
    {
     "name": "stdout",
     "output_type": "stream",
     "text": [
      "16/16 [==============================] - 0s 23ms/step - loss: 6.7489 - acc: 0.2500\n",
      "Epoch 1/1\n",
      "8/8 [==============================] - 1s 97ms/step - loss: 20.6752 - model_1_loss: 0.0100 - conv2d_20_loss: 0.1499\n",
      "\n",
      "Epoch 00001: loss did not improve from 19.19139\n"
     ]
    },
    {
     "name": "stderr",
     "output_type": "stream",
     "text": [
      "\n",
      "\n",
      "114it [07:57,  4.08s/it]\u001b[A\u001b[A"
     ]
    },
    {
     "name": "stdout",
     "output_type": "stream",
     "text": [
      "iteration : 114\n",
      "Epoch 1/1\n",
      " 8/16 [==============>...............] - ETA: 0s - loss: 4.6093 - acc: 0.3750"
     ]
    },
    {
     "name": "stderr",
     "output_type": "stream",
     "text": [
      "/opt/conda/lib/python3.6/site-packages/keras/engine/training.py:490: UserWarning: Discrepancy between trainable weights and collected trainable weights, did you set `model.trainable` without calling `model.compile` after ?\n",
      "  'Discrepancy between trainable weights and collected trainable'\n"
     ]
    },
    {
     "name": "stdout",
     "output_type": "stream",
     "text": [
      "16/16 [==============================] - 0s 24ms/step - loss: 6.1004 - acc: 0.3125\n",
      "Epoch 1/1\n",
      "8/8 [==============================] - 1s 99ms/step - loss: 20.7412 - model_1_loss: 0.0799 - conv2d_20_loss: 0.1470\n",
      "\n",
      "Epoch 00001: loss did not improve from 19.19139\n"
     ]
    },
    {
     "name": "stderr",
     "output_type": "stream",
     "text": [
      "\n",
      "\n",
      "115it [08:01,  4.09s/it]\u001b[A\u001b[A"
     ]
    },
    {
     "name": "stdout",
     "output_type": "stream",
     "text": [
      "iteration : 115\n",
      "Epoch 1/1\n",
      " 8/16 [==============>...............] - ETA: 0s - loss: 7.3203 - acc: 0.2500"
     ]
    },
    {
     "name": "stderr",
     "output_type": "stream",
     "text": [
      "/opt/conda/lib/python3.6/site-packages/keras/engine/training.py:490: UserWarning: Discrepancy between trainable weights and collected trainable weights, did you set `model.trainable` without calling `model.compile` after ?\n",
      "  'Discrepancy between trainable weights and collected trainable'\n"
     ]
    },
    {
     "name": "stdout",
     "output_type": "stream",
     "text": [
      "16/16 [==============================] - 0s 23ms/step - loss: 5.8698 - acc: 0.3750\n",
      "Epoch 1/1\n",
      "8/8 [==============================] - 1s 97ms/step - loss: 20.7339 - model_1_loss: 0.0031 - conv2d_20_loss: 0.1508\n",
      "\n",
      "Epoch 00001: loss did not improve from 19.19139\n"
     ]
    },
    {
     "name": "stderr",
     "output_type": "stream",
     "text": [
      "\n",
      "\n",
      "116it [08:05,  4.08s/it]\u001b[A\u001b[A"
     ]
    },
    {
     "name": "stdout",
     "output_type": "stream",
     "text": [
      "iteration : 116\n",
      "Epoch 1/1\n",
      " 8/16 [==============>...............] - ETA: 0s - loss: 2.8791 - acc: 0.5000"
     ]
    },
    {
     "name": "stderr",
     "output_type": "stream",
     "text": [
      "/opt/conda/lib/python3.6/site-packages/keras/engine/training.py:490: UserWarning: Discrepancy between trainable weights and collected trainable weights, did you set `model.trainable` without calling `model.compile` after ?\n",
      "  'Discrepancy between trainable weights and collected trainable'\n"
     ]
    },
    {
     "name": "stdout",
     "output_type": "stream",
     "text": [
      "16/16 [==============================] - 0s 24ms/step - loss: 5.1899 - acc: 0.3125\n",
      "Epoch 1/1\n",
      "8/8 [==============================] - 1s 98ms/step - loss: 20.6394 - model_1_loss: 0.0014 - conv2d_20_loss: 0.1499\n",
      "\n",
      "Epoch 00001: loss did not improve from 19.19139\n"
     ]
    },
    {
     "name": "stderr",
     "output_type": "stream",
     "text": [
      "\n",
      "\n",
      "117it [08:10,  4.08s/it]\u001b[A\u001b[A"
     ]
    },
    {
     "name": "stdout",
     "output_type": "stream",
     "text": [
      "iteration : 117\n",
      "Epoch 1/1\n",
      " 8/16 [==============>...............] - ETA: 0s - loss: 4.3407 - acc: 0.1250"
     ]
    },
    {
     "name": "stderr",
     "output_type": "stream",
     "text": [
      "/opt/conda/lib/python3.6/site-packages/keras/engine/training.py:490: UserWarning: Discrepancy between trainable weights and collected trainable weights, did you set `model.trainable` without calling `model.compile` after ?\n",
      "  'Discrepancy between trainable weights and collected trainable'\n"
     ]
    },
    {
     "name": "stdout",
     "output_type": "stream",
     "text": [
      "16/16 [==============================] - 0s 23ms/step - loss: 5.4643 - acc: 0.2500\n",
      "Epoch 1/1\n",
      "8/8 [==============================] - 1s 97ms/step - loss: 20.0194 - model_1_loss: 4.1539e-04 - conv2d_20_loss: 0.1438\n",
      "\n",
      "Epoch 00001: loss did not improve from 19.19139\n"
     ]
    },
    {
     "name": "stderr",
     "output_type": "stream",
     "text": [
      "\n",
      "\n",
      "118it [08:14,  4.08s/it]\u001b[A\u001b[A"
     ]
    },
    {
     "name": "stdout",
     "output_type": "stream",
     "text": [
      "iteration : 118\n",
      "Epoch 1/1\n",
      " 8/16 [==============>...............] - ETA: 0s - loss: 7.0400 - acc: 0.2500"
     ]
    },
    {
     "name": "stderr",
     "output_type": "stream",
     "text": [
      "/opt/conda/lib/python3.6/site-packages/keras/engine/training.py:490: UserWarning: Discrepancy between trainable weights and collected trainable weights, did you set `model.trainable` without calling `model.compile` after ?\n",
      "  'Discrepancy between trainable weights and collected trainable'\n"
     ]
    },
    {
     "name": "stdout",
     "output_type": "stream",
     "text": [
      "16/16 [==============================] - 0s 24ms/step - loss: 6.4961 - acc: 0.2500\n",
      "Epoch 1/1\n",
      "8/8 [==============================] - 1s 98ms/step - loss: 19.9811 - model_1_loss: 1.3180e-05 - conv2d_20_loss: 0.1434\n",
      "\n",
      "Epoch 00001: loss did not improve from 19.19139\n"
     ]
    },
    {
     "name": "stderr",
     "output_type": "stream",
     "text": [
      "\n",
      "\n",
      "119it [08:18,  4.08s/it]\u001b[A\u001b[A"
     ]
    },
    {
     "name": "stdout",
     "output_type": "stream",
     "text": [
      "iteration : 119\n",
      "Epoch 1/1\n",
      " 8/16 [==============>...............] - ETA: 0s - loss: 6.6143 - acc: 0.2500"
     ]
    },
    {
     "name": "stderr",
     "output_type": "stream",
     "text": [
      "/opt/conda/lib/python3.6/site-packages/keras/engine/training.py:490: UserWarning: Discrepancy between trainable weights and collected trainable weights, did you set `model.trainable` without calling `model.compile` after ?\n",
      "  'Discrepancy between trainable weights and collected trainable'\n"
     ]
    },
    {
     "name": "stdout",
     "output_type": "stream",
     "text": [
      "16/16 [==============================] - 0s 23ms/step - loss: 5.6150 - acc: 0.1875\n",
      "Epoch 1/1\n",
      "8/8 [==============================] - 1s 97ms/step - loss: 19.2345 - model_1_loss: 0.0134 - conv2d_20_loss: 0.1353\n",
      "\n",
      "Epoch 00001: loss did not improve from 19.19139\n"
     ]
    },
    {
     "name": "stderr",
     "output_type": "stream",
     "text": [
      "\n",
      "\n",
      "120it [08:22,  4.09s/it]\u001b[A\u001b[A"
     ]
    },
    {
     "name": "stdout",
     "output_type": "stream",
     "text": [
      "iteration : 120\n",
      "Epoch 1/1\n",
      " 8/16 [==============>...............] - ETA: 0s - loss: 8.0284 - acc: 0.0000e+00"
     ]
    },
    {
     "name": "stderr",
     "output_type": "stream",
     "text": [
      "/opt/conda/lib/python3.6/site-packages/keras/engine/training.py:490: UserWarning: Discrepancy between trainable weights and collected trainable weights, did you set `model.trainable` without calling `model.compile` after ?\n",
      "  'Discrepancy between trainable weights and collected trainable'\n"
     ]
    },
    {
     "name": "stdout",
     "output_type": "stream",
     "text": [
      "16/16 [==============================] - 0s 24ms/step - loss: 7.4463 - acc: 0.1250\n",
      "Epoch 1/1\n",
      "8/8 [==============================] - 1s 98ms/step - loss: 19.6905 - model_1_loss: 8.6865e-04 - conv2d_20_loss: 0.1405\n",
      "\n",
      "Epoch 00001: loss did not improve from 19.19139\n"
     ]
    },
    {
     "name": "stderr",
     "output_type": "stream",
     "text": [
      "\n",
      "\n",
      "121it [08:26,  4.09s/it]\u001b[A\u001b[A"
     ]
    },
    {
     "name": "stdout",
     "output_type": "stream",
     "text": [
      "iteration : 121\n",
      "Epoch 1/1\n",
      " 8/16 [==============>...............] - ETA: 0s - loss: 7.5659 - acc: 0.1250"
     ]
    },
    {
     "name": "stderr",
     "output_type": "stream",
     "text": [
      "/opt/conda/lib/python3.6/site-packages/keras/engine/training.py:490: UserWarning: Discrepancy between trainable weights and collected trainable weights, did you set `model.trainable` without calling `model.compile` after ?\n",
      "  'Discrepancy between trainable weights and collected trainable'\n"
     ]
    },
    {
     "name": "stdout",
     "output_type": "stream",
     "text": [
      "16/16 [==============================] - 0s 23ms/step - loss: 6.3527 - acc: 0.3125\n",
      "Epoch 1/1\n",
      "8/8 [==============================] - 1s 97ms/step - loss: 19.5677 - model_1_loss: 2.7056e-04 - conv2d_20_loss: 0.1393\n",
      "\n",
      "Epoch 00001: loss did not improve from 19.19139\n"
     ]
    },
    {
     "name": "stderr",
     "output_type": "stream",
     "text": [
      "\n",
      "\n",
      "122it [08:30,  4.09s/it]\u001b[A\u001b[A"
     ]
    },
    {
     "name": "stdout",
     "output_type": "stream",
     "text": [
      "iteration : 122\n",
      "Epoch 1/1\n",
      " 8/16 [==============>...............] - ETA: 0s - loss: 9.4664 - acc: 0.1250"
     ]
    },
    {
     "name": "stderr",
     "output_type": "stream",
     "text": [
      "/opt/conda/lib/python3.6/site-packages/keras/engine/training.py:490: UserWarning: Discrepancy between trainable weights and collected trainable weights, did you set `model.trainable` without calling `model.compile` after ?\n",
      "  'Discrepancy between trainable weights and collected trainable'\n"
     ]
    },
    {
     "name": "stdout",
     "output_type": "stream",
     "text": [
      "16/16 [==============================] - 0s 24ms/step - loss: 6.9776 - acc: 0.1875\n",
      "Epoch 1/1\n",
      "8/8 [==============================] - 1s 98ms/step - loss: 19.5967 - model_1_loss: 0.0018 - conv2d_20_loss: 0.1395\n",
      "\n",
      "Epoch 00001: loss did not improve from 19.19139\n"
     ]
    },
    {
     "name": "stderr",
     "output_type": "stream",
     "text": [
      "\n",
      "\n",
      "123it [08:34,  4.09s/it]\u001b[A\u001b[A"
     ]
    },
    {
     "name": "stdout",
     "output_type": "stream",
     "text": [
      "iteration : 123\n",
      "Epoch 1/1\n",
      " 8/16 [==============>...............] - ETA: 0s - loss: 4.5408 - acc: 0.3750"
     ]
    },
    {
     "name": "stderr",
     "output_type": "stream",
     "text": [
      "/opt/conda/lib/python3.6/site-packages/keras/engine/training.py:490: UserWarning: Discrepancy between trainable weights and collected trainable weights, did you set `model.trainable` without calling `model.compile` after ?\n",
      "  'Discrepancy between trainable weights and collected trainable'\n"
     ]
    },
    {
     "name": "stdout",
     "output_type": "stream",
     "text": [
      "16/16 [==============================] - 0s 23ms/step - loss: 5.9227 - acc: 0.2500\n",
      "Epoch 1/1\n",
      "8/8 [==============================] - 1s 97ms/step - loss: 19.2355 - model_1_loss: 0.0103 - conv2d_20_loss: 0.1355\n",
      "\n",
      "Epoch 00001: loss did not improve from 19.19139\n"
     ]
    },
    {
     "name": "stderr",
     "output_type": "stream",
     "text": [
      "\n",
      "\n",
      "124it [08:38,  4.07s/it]\u001b[A\u001b[A"
     ]
    },
    {
     "name": "stdout",
     "output_type": "stream",
     "text": [
      "iteration : 124\n",
      "Epoch 1/1\n",
      " 8/16 [==============>...............] - ETA: 0s - loss: 5.3306 - acc: 0.2500"
     ]
    },
    {
     "name": "stderr",
     "output_type": "stream",
     "text": [
      "/opt/conda/lib/python3.6/site-packages/keras/engine/training.py:490: UserWarning: Discrepancy between trainable weights and collected trainable weights, did you set `model.trainable` without calling `model.compile` after ?\n",
      "  'Discrepancy between trainable weights and collected trainable'\n"
     ]
    },
    {
     "name": "stdout",
     "output_type": "stream",
     "text": [
      "16/16 [==============================] - 0s 24ms/step - loss: 4.7454 - acc: 0.3125\n",
      "Epoch 1/1\n",
      "8/8 [==============================] - 1s 98ms/step - loss: 19.0508 - model_1_loss: 0.0284 - conv2d_20_loss: 0.1327\n",
      "\n",
      "Epoch 00001: loss improved from 19.19139 to 19.05075, saving model to weights-improvement.hdf5\n"
     ]
    },
    {
     "name": "stderr",
     "output_type": "stream",
     "text": [
      "\n",
      "\n",
      "125it [08:43,  4.26s/it]\u001b[A\u001b[A"
     ]
    },
    {
     "name": "stdout",
     "output_type": "stream",
     "text": [
      "iteration : 125\n",
      "Epoch 1/1\n",
      " 8/16 [==============>...............] - ETA: 0s - loss: 5.3442 - acc: 0.1250"
     ]
    },
    {
     "name": "stderr",
     "output_type": "stream",
     "text": [
      "/opt/conda/lib/python3.6/site-packages/keras/engine/training.py:490: UserWarning: Discrepancy between trainable weights and collected trainable weights, did you set `model.trainable` without calling `model.compile` after ?\n",
      "  'Discrepancy between trainable weights and collected trainable'\n"
     ]
    },
    {
     "name": "stdout",
     "output_type": "stream",
     "text": [
      "16/16 [==============================] - 0s 23ms/step - loss: 5.7900 - acc: 0.0625\n",
      "Epoch 1/1\n",
      "8/8 [==============================] - 1s 97ms/step - loss: 19.6244 - model_1_loss: 0.0064 - conv2d_20_loss: 0.1395\n",
      "\n",
      "Epoch 00001: loss did not improve from 19.05075\n"
     ]
    },
    {
     "name": "stderr",
     "output_type": "stream",
     "text": [
      "\n",
      "\n",
      "126it [08:47,  4.26s/it]\u001b[A\u001b[A"
     ]
    },
    {
     "name": "stdout",
     "output_type": "stream",
     "text": [
      "iteration : 126\n",
      "Epoch 1/1\n",
      " 8/16 [==============>...............] - ETA: 0s - loss: 6.7259 - acc: 0.0000e+00"
     ]
    },
    {
     "name": "stderr",
     "output_type": "stream",
     "text": [
      "/opt/conda/lib/python3.6/site-packages/keras/engine/training.py:490: UserWarning: Discrepancy between trainable weights and collected trainable weights, did you set `model.trainable` without calling `model.compile` after ?\n",
      "  'Discrepancy between trainable weights and collected trainable'\n"
     ]
    },
    {
     "name": "stdout",
     "output_type": "stream",
     "text": [
      "16/16 [==============================] - 0s 24ms/step - loss: 5.5350 - acc: 0.1250\n",
      "Epoch 1/1\n",
      "8/8 [==============================] - 1s 98ms/step - loss: 19.7404 - model_1_loss: 2.9222e-04 - conv2d_20_loss: 0.1410\n",
      "\n",
      "Epoch 00001: loss did not improve from 19.05075\n"
     ]
    },
    {
     "name": "stderr",
     "output_type": "stream",
     "text": [
      "\n",
      "\n",
      "127it [08:51,  4.22s/it]\u001b[A\u001b[A"
     ]
    },
    {
     "name": "stdout",
     "output_type": "stream",
     "text": [
      "iteration : 127\n",
      "Epoch 1/1\n",
      " 8/16 [==============>...............] - ETA: 0s - loss: 5.7295 - acc: 0.3750"
     ]
    },
    {
     "name": "stderr",
     "output_type": "stream",
     "text": [
      "/opt/conda/lib/python3.6/site-packages/keras/engine/training.py:490: UserWarning: Discrepancy between trainable weights and collected trainable weights, did you set `model.trainable` without calling `model.compile` after ?\n",
      "  'Discrepancy between trainable weights and collected trainable'\n"
     ]
    },
    {
     "name": "stdout",
     "output_type": "stream",
     "text": [
      "16/16 [==============================] - 0s 23ms/step - loss: 5.9847 - acc: 0.3125\n",
      "Epoch 1/1\n",
      "8/8 [==============================] - 1s 97ms/step - loss: 20.2637 - model_1_loss: 0.0247 - conv2d_20_loss: 0.1450\n",
      "\n",
      "Epoch 00001: loss did not improve from 19.05075\n"
     ]
    },
    {
     "name": "stderr",
     "output_type": "stream",
     "text": [
      "\n",
      "\n",
      "128it [08:55,  4.18s/it]\u001b[A\u001b[A"
     ]
    },
    {
     "name": "stdout",
     "output_type": "stream",
     "text": [
      "iteration : 128\n",
      "Epoch 1/1\n",
      " 8/16 [==============>...............] - ETA: 0s - loss: 6.6622 - acc: 0.2500"
     ]
    },
    {
     "name": "stderr",
     "output_type": "stream",
     "text": [
      "/opt/conda/lib/python3.6/site-packages/keras/engine/training.py:490: UserWarning: Discrepancy between trainable weights and collected trainable weights, did you set `model.trainable` without calling `model.compile` after ?\n",
      "  'Discrepancy between trainable weights and collected trainable'\n"
     ]
    },
    {
     "name": "stdout",
     "output_type": "stream",
     "text": [
      "16/16 [==============================] - 0s 24ms/step - loss: 6.9613 - acc: 0.1250\n",
      "Epoch 1/1\n",
      "8/8 [==============================] - 1s 98ms/step - loss: 19.5419 - model_1_loss: 9.0428e-04 - conv2d_20_loss: 0.1390\n",
      "\n",
      "Epoch 00001: loss did not improve from 19.05075\n"
     ]
    },
    {
     "name": "stderr",
     "output_type": "stream",
     "text": [
      "\n",
      "\n",
      "129it [08:59,  4.16s/it]\u001b[A\u001b[A"
     ]
    },
    {
     "name": "stdout",
     "output_type": "stream",
     "text": [
      "iteration : 129\n",
      "Epoch 1/1\n",
      " 8/16 [==============>...............] - ETA: 0s - loss: 5.2858 - acc: 0.0000e+00"
     ]
    },
    {
     "name": "stderr",
     "output_type": "stream",
     "text": [
      "/opt/conda/lib/python3.6/site-packages/keras/engine/training.py:490: UserWarning: Discrepancy between trainable weights and collected trainable weights, did you set `model.trainable` without calling `model.compile` after ?\n",
      "  'Discrepancy between trainable weights and collected trainable'\n"
     ]
    },
    {
     "name": "stdout",
     "output_type": "stream",
     "text": [
      "16/16 [==============================] - 0s 23ms/step - loss: 6.1608 - acc: 0.1250\n",
      "Epoch 1/1\n",
      "8/8 [==============================] - 1s 97ms/step - loss: 20.3242 - model_1_loss: 7.3485e-04 - conv2d_20_loss: 0.1468\n",
      "\n",
      "Epoch 00001: loss did not improve from 19.05075\n"
     ]
    },
    {
     "name": "stderr",
     "output_type": "stream",
     "text": [
      "\n",
      "\n",
      "130it [09:03,  4.13s/it]\u001b[A\u001b[A"
     ]
    },
    {
     "name": "stdout",
     "output_type": "stream",
     "text": [
      "iteration : 130\n",
      "Epoch 1/1\n",
      " 8/16 [==============>...............] - ETA: 0s - loss: 8.5167 - acc: 0.0000e+00"
     ]
    },
    {
     "name": "stderr",
     "output_type": "stream",
     "text": [
      "/opt/conda/lib/python3.6/site-packages/keras/engine/training.py:490: UserWarning: Discrepancy between trainable weights and collected trainable weights, did you set `model.trainable` without calling `model.compile` after ?\n",
      "  'Discrepancy between trainable weights and collected trainable'\n"
     ]
    },
    {
     "name": "stdout",
     "output_type": "stream",
     "text": [
      "16/16 [==============================] - 0s 24ms/step - loss: 6.5771 - acc: 0.0625\n",
      "Epoch 1/1\n",
      "8/8 [==============================] - 1s 98ms/step - loss: 20.0570 - model_1_loss: 0.0948 - conv2d_20_loss: 0.1394\n",
      "\n",
      "Epoch 00001: loss did not improve from 19.05075\n"
     ]
    },
    {
     "name": "stderr",
     "output_type": "stream",
     "text": [
      "\n",
      "\n",
      "131it [09:08,  4.12s/it]\u001b[A\u001b[A"
     ]
    },
    {
     "name": "stdout",
     "output_type": "stream",
     "text": [
      "iteration : 131\n",
      "Epoch 1/1\n",
      " 8/16 [==============>...............] - ETA: 0s - loss: 5.4711 - acc: 0.2500"
     ]
    },
    {
     "name": "stderr",
     "output_type": "stream",
     "text": [
      "/opt/conda/lib/python3.6/site-packages/keras/engine/training.py:490: UserWarning: Discrepancy between trainable weights and collected trainable weights, did you set `model.trainable` without calling `model.compile` after ?\n",
      "  'Discrepancy between trainable weights and collected trainable'\n"
     ]
    },
    {
     "name": "stdout",
     "output_type": "stream",
     "text": [
      "16/16 [==============================] - 0s 23ms/step - loss: 5.4064 - acc: 0.1250\n",
      "Epoch 1/1\n",
      "8/8 [==============================] - 1s 98ms/step - loss: 19.7812 - model_1_loss: 0.0192 - conv2d_20_loss: 0.1405\n",
      "\n",
      "Epoch 00001: loss did not improve from 19.05075\n"
     ]
    },
    {
     "name": "stderr",
     "output_type": "stream",
     "text": [
      "\n",
      "\n",
      "132it [09:12,  4.11s/it]\u001b[A\u001b[A"
     ]
    },
    {
     "name": "stdout",
     "output_type": "stream",
     "text": [
      "iteration : 132\n",
      "Epoch 1/1\n",
      " 8/16 [==============>...............] - ETA: 0s - loss: 7.1079 - acc: 0.1250"
     ]
    },
    {
     "name": "stderr",
     "output_type": "stream",
     "text": [
      "/opt/conda/lib/python3.6/site-packages/keras/engine/training.py:490: UserWarning: Discrepancy between trainable weights and collected trainable weights, did you set `model.trainable` without calling `model.compile` after ?\n",
      "  'Discrepancy between trainable weights and collected trainable'\n"
     ]
    },
    {
     "name": "stdout",
     "output_type": "stream",
     "text": [
      "16/16 [==============================] - 0s 24ms/step - loss: 6.0165 - acc: 0.1250\n",
      "Epoch 1/1\n",
      "8/8 [==============================] - 1s 98ms/step - loss: 20.7423 - model_1_loss: 0.0064 - conv2d_20_loss: 0.1507\n",
      "\n",
      "Epoch 00001: loss did not improve from 19.05075\n"
     ]
    },
    {
     "name": "stderr",
     "output_type": "stream",
     "text": [
      "\n",
      "\n",
      "133it [09:16,  4.11s/it]\u001b[A\u001b[A"
     ]
    },
    {
     "name": "stdout",
     "output_type": "stream",
     "text": [
      "iteration : 133\n",
      "Epoch 1/1\n",
      " 8/16 [==============>...............] - ETA: 0s - loss: 6.0823 - acc: 0.0000e+00"
     ]
    },
    {
     "name": "stderr",
     "output_type": "stream",
     "text": [
      "/opt/conda/lib/python3.6/site-packages/keras/engine/training.py:490: UserWarning: Discrepancy between trainable weights and collected trainable weights, did you set `model.trainable` without calling `model.compile` after ?\n",
      "  'Discrepancy between trainable weights and collected trainable'\n"
     ]
    },
    {
     "name": "stdout",
     "output_type": "stream",
     "text": [
      "16/16 [==============================] - 0s 23ms/step - loss: 6.0680 - acc: 0.0625\n",
      "Epoch 1/1\n",
      "8/8 [==============================] - 1s 97ms/step - loss: 19.8515 - model_1_loss: 0.0032 - conv2d_20_loss: 0.1420\n",
      "\n",
      "Epoch 00001: loss did not improve from 19.05075\n"
     ]
    },
    {
     "name": "stderr",
     "output_type": "stream",
     "text": [
      "\n",
      "\n",
      "134it [09:20,  4.10s/it]\u001b[A\u001b[A"
     ]
    },
    {
     "name": "stdout",
     "output_type": "stream",
     "text": [
      "iteration : 134\n",
      "Epoch 1/1\n",
      " 8/16 [==============>...............] - ETA: 0s - loss: 8.1245 - acc: 0.1250"
     ]
    },
    {
     "name": "stderr",
     "output_type": "stream",
     "text": [
      "/opt/conda/lib/python3.6/site-packages/keras/engine/training.py:490: UserWarning: Discrepancy between trainable weights and collected trainable weights, did you set `model.trainable` without calling `model.compile` after ?\n",
      "  'Discrepancy between trainable weights and collected trainable'\n"
     ]
    },
    {
     "name": "stdout",
     "output_type": "stream",
     "text": [
      "16/16 [==============================] - 0s 24ms/step - loss: 6.2257 - acc: 0.1875\n",
      "Epoch 1/1\n",
      "8/8 [==============================] - 1s 98ms/step - loss: 19.3704 - model_1_loss: 0.0075 - conv2d_20_loss: 0.1369\n",
      "\n",
      "Epoch 00001: loss did not improve from 19.05075\n"
     ]
    },
    {
     "name": "stderr",
     "output_type": "stream",
     "text": [
      "\n",
      "\n",
      "135it [09:24,  4.11s/it]\u001b[A\u001b[A"
     ]
    },
    {
     "name": "stdout",
     "output_type": "stream",
     "text": [
      "iteration : 135\n",
      "Epoch 1/1\n",
      " 8/16 [==============>...............] - ETA: 0s - loss: 6.8871 - acc: 0.0000e+00"
     ]
    },
    {
     "name": "stderr",
     "output_type": "stream",
     "text": [
      "/opt/conda/lib/python3.6/site-packages/keras/engine/training.py:490: UserWarning: Discrepancy between trainable weights and collected trainable weights, did you set `model.trainable` without calling `model.compile` after ?\n",
      "  'Discrepancy between trainable weights and collected trainable'\n"
     ]
    },
    {
     "name": "stdout",
     "output_type": "stream",
     "text": [
      "16/16 [==============================] - 0s 23ms/step - loss: 6.3772 - acc: 0.0625\n",
      "Epoch 1/1\n",
      "8/8 [==============================] - 1s 97ms/step - loss: 18.7559 - model_1_loss: 9.7460e-04 - conv2d_20_loss: 0.1311\n",
      "\n",
      "Epoch 00001: loss improved from 19.05075 to 18.75587, saving model to weights-improvement.hdf5\n"
     ]
    },
    {
     "name": "stderr",
     "output_type": "stream",
     "text": [
      "\n",
      "\n",
      "136it [09:29,  4.27s/it]\u001b[A\u001b[A"
     ]
    },
    {
     "name": "stdout",
     "output_type": "stream",
     "text": [
      "iteration : 136\n",
      "Epoch 1/1\n",
      " 8/16 [==============>...............] - ETA: 0s - loss: 5.3165 - acc: 0.1250"
     ]
    },
    {
     "name": "stderr",
     "output_type": "stream",
     "text": [
      "/opt/conda/lib/python3.6/site-packages/keras/engine/training.py:490: UserWarning: Discrepancy between trainable weights and collected trainable weights, did you set `model.trainable` without calling `model.compile` after ?\n",
      "  'Discrepancy between trainable weights and collected trainable'\n"
     ]
    },
    {
     "name": "stdout",
     "output_type": "stream",
     "text": [
      "16/16 [==============================] - 0s 24ms/step - loss: 5.3910 - acc: 0.1250\n",
      "Epoch 1/1\n",
      "8/8 [==============================] - 1s 98ms/step - loss: 19.3795 - model_1_loss: 0.0020 - conv2d_20_loss: 0.1373\n",
      "\n",
      "Epoch 00001: loss did not improve from 18.75587\n"
     ]
    },
    {
     "name": "stderr",
     "output_type": "stream",
     "text": [
      "\n",
      "\n",
      "137it [09:33,  4.31s/it]\u001b[A\u001b[A"
     ]
    },
    {
     "name": "stdout",
     "output_type": "stream",
     "text": [
      "iteration : 137\n",
      "Epoch 1/1\n",
      " 8/16 [==============>...............] - ETA: 0s - loss: 4.3658 - acc: 0.3750"
     ]
    },
    {
     "name": "stderr",
     "output_type": "stream",
     "text": [
      "/opt/conda/lib/python3.6/site-packages/keras/engine/training.py:490: UserWarning: Discrepancy between trainable weights and collected trainable weights, did you set `model.trainable` without calling `model.compile` after ?\n",
      "  'Discrepancy between trainable weights and collected trainable'\n"
     ]
    },
    {
     "name": "stdout",
     "output_type": "stream",
     "text": [
      "16/16 [==============================] - 0s 23ms/step - loss: 6.5592 - acc: 0.1875\n",
      "Epoch 1/1\n",
      "8/8 [==============================] - 1s 97ms/step - loss: 20.0945 - model_1_loss: 8.4457e-04 - conv2d_20_loss: 0.1445\n",
      "\n",
      "Epoch 00001: loss did not improve from 18.75587\n"
     ]
    },
    {
     "name": "stderr",
     "output_type": "stream",
     "text": [
      "\n",
      "\n",
      "138it [09:37,  4.25s/it]\u001b[A\u001b[A"
     ]
    },
    {
     "name": "stdout",
     "output_type": "stream",
     "text": [
      "iteration : 138\n",
      "Epoch 1/1\n",
      " 8/16 [==============>...............] - ETA: 0s - loss: 6.5495 - acc: 0.1250"
     ]
    },
    {
     "name": "stderr",
     "output_type": "stream",
     "text": [
      "/opt/conda/lib/python3.6/site-packages/keras/engine/training.py:490: UserWarning: Discrepancy between trainable weights and collected trainable weights, did you set `model.trainable` without calling `model.compile` after ?\n",
      "  'Discrepancy between trainable weights and collected trainable'\n"
     ]
    },
    {
     "name": "stdout",
     "output_type": "stream",
     "text": [
      "16/16 [==============================] - 0s 24ms/step - loss: 6.6447 - acc: 0.1875\n",
      "Epoch 1/1\n",
      "8/8 [==============================] - 1s 98ms/step - loss: 19.3635 - model_1_loss: 0.0143 - conv2d_20_loss: 0.1365\n",
      "\n",
      "Epoch 00001: loss did not improve from 18.75587\n"
     ]
    },
    {
     "name": "stderr",
     "output_type": "stream",
     "text": [
      "\n",
      "\n",
      "139it [09:41,  4.21s/it]\u001b[A\u001b[A"
     ]
    },
    {
     "name": "stdout",
     "output_type": "stream",
     "text": [
      "iteration : 139\n",
      "Epoch 1/1\n",
      " 8/16 [==============>...............] - ETA: 0s - loss: 7.2292 - acc: 0.1250"
     ]
    },
    {
     "name": "stderr",
     "output_type": "stream",
     "text": [
      "/opt/conda/lib/python3.6/site-packages/keras/engine/training.py:490: UserWarning: Discrepancy between trainable weights and collected trainable weights, did you set `model.trainable` without calling `model.compile` after ?\n",
      "  'Discrepancy between trainable weights and collected trainable'\n"
     ]
    },
    {
     "name": "stdout",
     "output_type": "stream",
     "text": [
      "16/16 [==============================] - 0s 23ms/step - loss: 7.3737 - acc: 0.1875\n",
      "Epoch 1/1\n",
      "8/8 [==============================] - 1s 97ms/step - loss: 18.4488 - model_1_loss: 3.5741e-04 - conv2d_20_loss: 0.1281\n",
      "\n",
      "Epoch 00001: loss improved from 18.75587 to 18.44878, saving model to weights-improvement.hdf5\n"
     ]
    },
    {
     "name": "stderr",
     "output_type": "stream",
     "text": [
      "\n",
      "\n",
      "140it [09:46,  4.34s/it]\u001b[A\u001b[A"
     ]
    },
    {
     "name": "stdout",
     "output_type": "stream",
     "text": [
      "iteration : 140\n",
      "Epoch 1/1\n",
      " 8/16 [==============>...............] - ETA: 0s - loss: 4.8319 - acc: 0.2500"
     ]
    },
    {
     "name": "stderr",
     "output_type": "stream",
     "text": [
      "/opt/conda/lib/python3.6/site-packages/keras/engine/training.py:490: UserWarning: Discrepancy between trainable weights and collected trainable weights, did you set `model.trainable` without calling `model.compile` after ?\n",
      "  'Discrepancy between trainable weights and collected trainable'\n"
     ]
    },
    {
     "name": "stdout",
     "output_type": "stream",
     "text": [
      "16/16 [==============================] - 0s 24ms/step - loss: 5.8608 - acc: 0.1250\n",
      "Epoch 1/1\n",
      "8/8 [==============================] - 1s 98ms/step - loss: 22.6786 - model_1_loss: 0.4294 - conv2d_20_loss: 0.1489\n",
      "\n",
      "Epoch 00001: loss did not improve from 18.44878\n"
     ]
    },
    {
     "name": "stderr",
     "output_type": "stream",
     "text": [
      "\n",
      "\n",
      "141it [09:50,  4.32s/it]\u001b[A\u001b[A"
     ]
    },
    {
     "name": "stdout",
     "output_type": "stream",
     "text": [
      "iteration : 141\n",
      "Epoch 1/1\n",
      " 8/16 [==============>...............] - ETA: 0s - loss: 5.7923 - acc: 0.0000e+00"
     ]
    },
    {
     "name": "stderr",
     "output_type": "stream",
     "text": [
      "/opt/conda/lib/python3.6/site-packages/keras/engine/training.py:490: UserWarning: Discrepancy between trainable weights and collected trainable weights, did you set `model.trainable` without calling `model.compile` after ?\n",
      "  'Discrepancy between trainable weights and collected trainable'\n"
     ]
    },
    {
     "name": "stdout",
     "output_type": "stream",
     "text": [
      "16/16 [==============================] - 0s 23ms/step - loss: 6.6218 - acc: 0.0000e+00\n",
      "Epoch 1/1\n",
      "8/8 [==============================] - 1s 97ms/step - loss: 21.0061 - model_1_loss: 0.0063 - conv2d_20_loss: 0.1534\n",
      "\n",
      "Epoch 00001: loss did not improve from 18.44878\n"
     ]
    },
    {
     "name": "stderr",
     "output_type": "stream",
     "text": [
      "\n",
      "\n",
      "142it [09:54,  4.26s/it]\u001b[A\u001b[A"
     ]
    },
    {
     "name": "stdout",
     "output_type": "stream",
     "text": [
      "iteration : 142\n",
      "Epoch 1/1\n",
      " 8/16 [==============>...............] - ETA: 0s - loss: 3.7014 - acc: 0.2500"
     ]
    },
    {
     "name": "stderr",
     "output_type": "stream",
     "text": [
      "/opt/conda/lib/python3.6/site-packages/keras/engine/training.py:490: UserWarning: Discrepancy between trainable weights and collected trainable weights, did you set `model.trainable` without calling `model.compile` after ?\n",
      "  'Discrepancy between trainable weights and collected trainable'\n"
     ]
    },
    {
     "name": "stdout",
     "output_type": "stream",
     "text": [
      "16/16 [==============================] - 0s 23ms/step - loss: 5.9608 - acc: 0.1875\n",
      "Epoch 1/1\n",
      "8/8 [==============================] - 1s 98ms/step - loss: 20.1563 - model_1_loss: 0.0752 - conv2d_20_loss: 0.1414\n",
      "\n",
      "Epoch 00001: loss did not improve from 18.44878\n"
     ]
    },
    {
     "name": "stderr",
     "output_type": "stream",
     "text": [
      "\n",
      "\n",
      "143it [09:58,  4.22s/it]\u001b[A\u001b[A"
     ]
    },
    {
     "name": "stdout",
     "output_type": "stream",
     "text": [
      "iteration : 143\n",
      "Epoch 1/1\n",
      " 8/16 [==============>...............] - ETA: 0s - loss: 4.4565 - acc: 0.1250"
     ]
    },
    {
     "name": "stderr",
     "output_type": "stream",
     "text": [
      "/opt/conda/lib/python3.6/site-packages/keras/engine/training.py:490: UserWarning: Discrepancy between trainable weights and collected trainable weights, did you set `model.trainable` without calling `model.compile` after ?\n",
      "  'Discrepancy between trainable weights and collected trainable'\n"
     ]
    },
    {
     "name": "stdout",
     "output_type": "stream",
     "text": [
      "16/16 [==============================] - 0s 23ms/step - loss: 6.1404 - acc: 0.1875\n",
      "Epoch 1/1\n",
      "8/8 [==============================] - 1s 97ms/step - loss: 19.6956 - model_1_loss: 0.0029 - conv2d_20_loss: 0.1404\n",
      "\n",
      "Epoch 00001: loss did not improve from 18.44878\n"
     ]
    },
    {
     "name": "stderr",
     "output_type": "stream",
     "text": [
      "\n",
      "\n",
      "144it [10:02,  4.18s/it]\u001b[A\u001b[A"
     ]
    },
    {
     "name": "stdout",
     "output_type": "stream",
     "text": [
      "iteration : 144\n",
      "Epoch 1/1\n",
      " 8/16 [==============>...............] - ETA: 0s - loss: 4.9697 - acc: 0.1250"
     ]
    },
    {
     "name": "stderr",
     "output_type": "stream",
     "text": [
      "/opt/conda/lib/python3.6/site-packages/keras/engine/training.py:490: UserWarning: Discrepancy between trainable weights and collected trainable weights, did you set `model.trainable` without calling `model.compile` after ?\n",
      "  'Discrepancy between trainable weights and collected trainable'\n"
     ]
    },
    {
     "name": "stdout",
     "output_type": "stream",
     "text": [
      "16/16 [==============================] - 0s 24ms/step - loss: 5.8533 - acc: 0.1250\n",
      "Epoch 1/1\n",
      "8/8 [==============================] - 1s 98ms/step - loss: 20.7641 - model_1_loss: 0.0099 - conv2d_20_loss: 0.1508\n",
      "\n",
      "Epoch 00001: loss did not improve from 18.44878\n"
     ]
    },
    {
     "name": "stderr",
     "output_type": "stream",
     "text": [
      "\n",
      "\n",
      "145it [10:07,  4.15s/it]\u001b[A\u001b[A"
     ]
    },
    {
     "name": "stdout",
     "output_type": "stream",
     "text": [
      "iteration : 145\n",
      "Epoch 1/1\n",
      " 8/16 [==============>...............] - ETA: 0s - loss: 4.7505 - acc: 0.2500"
     ]
    },
    {
     "name": "stderr",
     "output_type": "stream",
     "text": [
      "/opt/conda/lib/python3.6/site-packages/keras/engine/training.py:490: UserWarning: Discrepancy between trainable weights and collected trainable weights, did you set `model.trainable` without calling `model.compile` after ?\n",
      "  'Discrepancy between trainable weights and collected trainable'\n"
     ]
    },
    {
     "name": "stdout",
     "output_type": "stream",
     "text": [
      "16/16 [==============================] - 0s 23ms/step - loss: 5.5240 - acc: 0.1875\n",
      "Epoch 1/1\n",
      "8/8 [==============================] - 1s 97ms/step - loss: 19.3950 - model_1_loss: 0.0042 - conv2d_20_loss: 0.1374\n",
      "\n",
      "Epoch 00001: loss did not improve from 18.44878\n"
     ]
    },
    {
     "name": "stderr",
     "output_type": "stream",
     "text": [
      "\n",
      "\n",
      "146it [10:11,  4.13s/it]\u001b[A\u001b[A"
     ]
    },
    {
     "name": "stdout",
     "output_type": "stream",
     "text": [
      "iteration : 146\n",
      "Epoch 1/1\n",
      " 8/16 [==============>...............] - ETA: 0s - loss: 3.3799 - acc: 0.2500"
     ]
    },
    {
     "name": "stderr",
     "output_type": "stream",
     "text": [
      "/opt/conda/lib/python3.6/site-packages/keras/engine/training.py:490: UserWarning: Discrepancy between trainable weights and collected trainable weights, did you set `model.trainable` without calling `model.compile` after ?\n",
      "  'Discrepancy between trainable weights and collected trainable'\n"
     ]
    },
    {
     "name": "stdout",
     "output_type": "stream",
     "text": [
      "16/16 [==============================] - 0s 24ms/step - loss: 5.4668 - acc: 0.1875\n",
      "Epoch 1/1\n",
      "8/8 [==============================] - 1s 98ms/step - loss: 19.6298 - model_1_loss: 0.0452 - conv2d_20_loss: 0.1377\n",
      "\n",
      "Epoch 00001: loss did not improve from 18.44878\n"
     ]
    },
    {
     "name": "stderr",
     "output_type": "stream",
     "text": [
      "\n",
      "\n",
      "147it [10:15,  4.12s/it]\u001b[A\u001b[A"
     ]
    },
    {
     "name": "stdout",
     "output_type": "stream",
     "text": [
      "iteration : 147\n",
      "Epoch 1/1\n",
      " 8/16 [==============>...............] - ETA: 0s - loss: 6.1558 - acc: 0.0000e+00"
     ]
    },
    {
     "name": "stderr",
     "output_type": "stream",
     "text": [
      "/opt/conda/lib/python3.6/site-packages/keras/engine/training.py:490: UserWarning: Discrepancy between trainable weights and collected trainable weights, did you set `model.trainable` without calling `model.compile` after ?\n",
      "  'Discrepancy between trainable weights and collected trainable'\n"
     ]
    },
    {
     "name": "stdout",
     "output_type": "stream",
     "text": [
      "16/16 [==============================] - 0s 23ms/step - loss: 6.3944 - acc: 0.0000e+00\n",
      "Epoch 1/1\n",
      "8/8 [==============================] - 1s 97ms/step - loss: 19.3584 - model_1_loss: 0.0037 - conv2d_20_loss: 0.1370\n",
      "\n",
      "Epoch 00001: loss did not improve from 18.44878\n"
     ]
    },
    {
     "name": "stderr",
     "output_type": "stream",
     "text": [
      "\n",
      "\n",
      "148it [10:19,  4.11s/it]\u001b[A\u001b[A"
     ]
    },
    {
     "name": "stdout",
     "output_type": "stream",
     "text": [
      "iteration : 148\n",
      "Epoch 1/1\n",
      " 8/16 [==============>...............] - ETA: 0s - loss: 6.6035 - acc: 0.1250"
     ]
    },
    {
     "name": "stderr",
     "output_type": "stream",
     "text": [
      "/opt/conda/lib/python3.6/site-packages/keras/engine/training.py:490: UserWarning: Discrepancy between trainable weights and collected trainable weights, did you set `model.trainable` without calling `model.compile` after ?\n",
      "  'Discrepancy between trainable weights and collected trainable'\n"
     ]
    },
    {
     "name": "stdout",
     "output_type": "stream",
     "text": [
      "16/16 [==============================] - 0s 24ms/step - loss: 6.0002 - acc: 0.0625\n",
      "Epoch 1/1\n",
      "8/8 [==============================] - 1s 99ms/step - loss: 19.3798 - model_1_loss: 0.0011 - conv2d_20_loss: 0.1374\n",
      "\n",
      "Epoch 00001: loss did not improve from 18.44878\n"
     ]
    },
    {
     "name": "stderr",
     "output_type": "stream",
     "text": [
      "\n",
      "\n",
      "149it [10:23,  4.10s/it]\u001b[A\u001b[A"
     ]
    },
    {
     "name": "stdout",
     "output_type": "stream",
     "text": [
      "iteration : 149\n",
      "Epoch 1/1\n",
      " 8/16 [==============>...............] - ETA: 0s - loss: 5.7443 - acc: 0.3750"
     ]
    },
    {
     "name": "stderr",
     "output_type": "stream",
     "text": [
      "/opt/conda/lib/python3.6/site-packages/keras/engine/training.py:490: UserWarning: Discrepancy between trainable weights and collected trainable weights, did you set `model.trainable` without calling `model.compile` after ?\n",
      "  'Discrepancy between trainable weights and collected trainable'\n"
     ]
    },
    {
     "name": "stdout",
     "output_type": "stream",
     "text": [
      "16/16 [==============================] - 0s 23ms/step - loss: 5.4895 - acc: 0.3125\n",
      "Epoch 1/1\n",
      "8/8 [==============================] - 1s 96ms/step - loss: 19.3387 - model_1_loss: 6.7426e-04 - conv2d_20_loss: 0.1370\n",
      "\n",
      "Epoch 00001: loss did not improve from 18.44878\n"
     ]
    },
    {
     "name": "stderr",
     "output_type": "stream",
     "text": [
      "\n",
      "\n",
      "150it [10:27,  4.07s/it]\u001b[A\u001b[A"
     ]
    },
    {
     "name": "stdout",
     "output_type": "stream",
     "text": [
      "iteration : 150\n",
      "Epoch 1/1\n",
      " 8/16 [==============>...............] - ETA: 0s - loss: 6.7029 - acc: 0.1250"
     ]
    },
    {
     "name": "stderr",
     "output_type": "stream",
     "text": [
      "/opt/conda/lib/python3.6/site-packages/keras/engine/training.py:490: UserWarning: Discrepancy between trainable weights and collected trainable weights, did you set `model.trainable` without calling `model.compile` after ?\n",
      "  'Discrepancy between trainable weights and collected trainable'\n"
     ]
    },
    {
     "name": "stdout",
     "output_type": "stream",
     "text": [
      "16/16 [==============================] - 0s 23ms/step - loss: 6.0538 - acc: 0.1875\n",
      "Epoch 1/1\n",
      "8/8 [==============================] - 1s 98ms/step - loss: 21.2677 - model_1_loss: 0.0076 - conv2d_20_loss: 0.1559\n",
      "\n",
      "Epoch 00001: loss did not improve from 18.44878\n"
     ]
    },
    {
     "name": "stderr",
     "output_type": "stream",
     "text": [
      "\n",
      "\n",
      "\n",
      "0it [00:00, ?it/s]\u001b[A\u001b[A\u001b[A"
     ]
    },
    {
     "name": "stdout",
     "output_type": "stream",
     "text": [
      "Epoch 2\n",
      "iteration : 0\n",
      "Epoch 1/1\n",
      " 8/16 [==============>...............] - ETA: 0s - loss: 2.9856 - acc: 0.2500"
     ]
    },
    {
     "name": "stderr",
     "output_type": "stream",
     "text": [
      "/opt/conda/lib/python3.6/site-packages/keras/engine/training.py:490: UserWarning: Discrepancy between trainable weights and collected trainable weights, did you set `model.trainable` without calling `model.compile` after ?\n",
      "  'Discrepancy between trainable weights and collected trainable'\n"
     ]
    },
    {
     "name": "stdout",
     "output_type": "stream",
     "text": [
      "16/16 [==============================] - 0s 23ms/step - loss: 4.0188 - acc: 0.2500\n",
      "Epoch 1/1\n",
      "8/8 [==============================] - 1s 97ms/step - loss: 19.9104 - model_1_loss: 3.7435e-04 - conv2d_20_loss: 0.1427\n",
      "\n",
      "Epoch 00001: loss did not improve from 18.44878\n"
     ]
    },
    {
     "name": "stderr",
     "output_type": "stream",
     "text": [
      "\n",
      "\n",
      "\n",
      "1it [00:04,  4.07s/it]\u001b[A\u001b[A\u001b[A"
     ]
    },
    {
     "name": "stdout",
     "output_type": "stream",
     "text": [
      "iteration : 1\n",
      "Epoch 1/1\n",
      " 8/16 [==============>...............] - ETA: 0s - loss: 5.9383 - acc: 0.1250"
     ]
    },
    {
     "name": "stderr",
     "output_type": "stream",
     "text": [
      "/opt/conda/lib/python3.6/site-packages/keras/engine/training.py:490: UserWarning: Discrepancy between trainable weights and collected trainable weights, did you set `model.trainable` without calling `model.compile` after ?\n",
      "  'Discrepancy between trainable weights and collected trainable'\n"
     ]
    },
    {
     "name": "stdout",
     "output_type": "stream",
     "text": [
      "16/16 [==============================] - 0s 24ms/step - loss: 6.2327 - acc: 0.1875\n",
      "Epoch 1/1\n",
      "8/8 [==============================] - 1s 98ms/step - loss: 20.3940 - model_1_loss: 0.0021 - conv2d_20_loss: 0.1475\n",
      "\n",
      "Epoch 00001: loss did not improve from 18.44878\n"
     ]
    },
    {
     "name": "stderr",
     "output_type": "stream",
     "text": [
      "\n",
      "\n",
      "\n",
      "2it [00:08,  4.08s/it]\u001b[A\u001b[A\u001b[A"
     ]
    },
    {
     "name": "stdout",
     "output_type": "stream",
     "text": [
      "iteration : 2\n",
      "Epoch 1/1\n",
      " 8/16 [==============>...............] - ETA: 0s - loss: 6.8187 - acc: 0.1250"
     ]
    },
    {
     "name": "stderr",
     "output_type": "stream",
     "text": [
      "/opt/conda/lib/python3.6/site-packages/keras/engine/training.py:490: UserWarning: Discrepancy between trainable weights and collected trainable weights, did you set `model.trainable` without calling `model.compile` after ?\n",
      "  'Discrepancy between trainable weights and collected trainable'\n"
     ]
    },
    {
     "name": "stdout",
     "output_type": "stream",
     "text": [
      "16/16 [==============================] - 0s 23ms/step - loss: 5.8055 - acc: 0.1250\n",
      "Epoch 1/1\n",
      "8/8 [==============================] - 1s 97ms/step - loss: 19.6478 - model_1_loss: 9.9436e-04 - conv2d_20_loss: 0.1401\n",
      "\n",
      "Epoch 00001: loss did not improve from 18.44878\n"
     ]
    },
    {
     "name": "stderr",
     "output_type": "stream",
     "text": [
      "\n",
      "\n",
      "\n",
      "3it [00:12,  4.08s/it]\u001b[A\u001b[A\u001b[A"
     ]
    },
    {
     "name": "stdout",
     "output_type": "stream",
     "text": [
      "iteration : 3\n",
      "Epoch 1/1\n",
      " 8/16 [==============>...............] - ETA: 0s - loss: 5.6464 - acc: 0.2500"
     ]
    },
    {
     "name": "stderr",
     "output_type": "stream",
     "text": [
      "/opt/conda/lib/python3.6/site-packages/keras/engine/training.py:490: UserWarning: Discrepancy between trainable weights and collected trainable weights, did you set `model.trainable` without calling `model.compile` after ?\n",
      "  'Discrepancy between trainable weights and collected trainable'\n"
     ]
    },
    {
     "name": "stdout",
     "output_type": "stream",
     "text": [
      "16/16 [==============================] - 0s 24ms/step - loss: 5.1134 - acc: 0.1875\n",
      "Epoch 1/1\n",
      "8/8 [==============================] - 1s 99ms/step - loss: 21.0754 - model_1_loss: 0.0675 - conv2d_20_loss: 0.1510\n",
      "\n",
      "Epoch 00001: loss did not improve from 18.44878\n"
     ]
    },
    {
     "name": "stderr",
     "output_type": "stream",
     "text": [
      "\n",
      "\n",
      "\n",
      "4it [00:16,  4.08s/it]\u001b[A\u001b[A\u001b[A"
     ]
    },
    {
     "name": "stdout",
     "output_type": "stream",
     "text": [
      "iteration : 4\n",
      "Epoch 1/1\n",
      " 8/16 [==============>...............] - ETA: 0s - loss: 4.3628 - acc: 0.1250"
     ]
    },
    {
     "name": "stderr",
     "output_type": "stream",
     "text": [
      "/opt/conda/lib/python3.6/site-packages/keras/engine/training.py:490: UserWarning: Discrepancy between trainable weights and collected trainable weights, did you set `model.trainable` without calling `model.compile` after ?\n",
      "  'Discrepancy between trainable weights and collected trainable'\n"
     ]
    },
    {
     "name": "stdout",
     "output_type": "stream",
     "text": [
      "16/16 [==============================] - 0s 23ms/step - loss: 4.9098 - acc: 0.1875\n",
      "Epoch 1/1\n",
      "8/8 [==============================] - 1s 97ms/step - loss: 21.3611 - model_1_loss: 0.0017 - conv2d_20_loss: 0.1572\n",
      "\n",
      "Epoch 00001: loss did not improve from 18.44878\n"
     ]
    },
    {
     "name": "stderr",
     "output_type": "stream",
     "text": [
      "\n",
      "\n",
      "\n",
      "5it [00:20,  4.08s/it]\u001b[A\u001b[A\u001b[A"
     ]
    },
    {
     "name": "stdout",
     "output_type": "stream",
     "text": [
      "iteration : 5\n",
      "Epoch 1/1\n",
      " 8/16 [==============>...............] - ETA: 0s - loss: 4.3407 - acc: 0.5000"
     ]
    },
    {
     "name": "stderr",
     "output_type": "stream",
     "text": [
      "/opt/conda/lib/python3.6/site-packages/keras/engine/training.py:490: UserWarning: Discrepancy between trainable weights and collected trainable weights, did you set `model.trainable` without calling `model.compile` after ?\n",
      "  'Discrepancy between trainable weights and collected trainable'\n"
     ]
    },
    {
     "name": "stdout",
     "output_type": "stream",
     "text": [
      "16/16 [==============================] - 0s 24ms/step - loss: 4.9936 - acc: 0.2500\n",
      "Epoch 1/1\n",
      "8/8 [==============================] - 1s 98ms/step - loss: 18.8401 - model_1_loss: 0.0013 - conv2d_20_loss: 0.1320\n",
      "\n",
      "Epoch 00001: loss did not improve from 18.44878\n"
     ]
    },
    {
     "name": "stderr",
     "output_type": "stream",
     "text": [
      "\n",
      "\n",
      "\n",
      "6it [00:24,  4.09s/it]\u001b[A\u001b[A\u001b[A"
     ]
    },
    {
     "name": "stdout",
     "output_type": "stream",
     "text": [
      "iteration : 6\n",
      "Epoch 1/1\n",
      " 8/16 [==============>...............] - ETA: 0s - loss: 2.3817 - acc: 0.3750"
     ]
    },
    {
     "name": "stderr",
     "output_type": "stream",
     "text": [
      "/opt/conda/lib/python3.6/site-packages/keras/engine/training.py:490: UserWarning: Discrepancy between trainable weights and collected trainable weights, did you set `model.trainable` without calling `model.compile` after ?\n",
      "  'Discrepancy between trainable weights and collected trainable'\n"
     ]
    },
    {
     "name": "stdout",
     "output_type": "stream",
     "text": [
      "16/16 [==============================] - 0s 23ms/step - loss: 5.3653 - acc: 0.1875\n",
      "Epoch 1/1\n",
      "8/8 [==============================] - 1s 97ms/step - loss: 20.6624 - model_1_loss: 0.0042 - conv2d_20_loss: 0.1500\n",
      "\n",
      "Epoch 00001: loss did not improve from 18.44878\n"
     ]
    },
    {
     "name": "stderr",
     "output_type": "stream",
     "text": [
      "\n",
      "\n",
      "\n",
      "7it [00:28,  4.10s/it]\u001b[A\u001b[A\u001b[A"
     ]
    },
    {
     "name": "stdout",
     "output_type": "stream",
     "text": [
      "iteration : 7\n",
      "Epoch 1/1\n",
      " 8/16 [==============>...............] - ETA: 0s - loss: 6.8319 - acc: 0.1250"
     ]
    },
    {
     "name": "stderr",
     "output_type": "stream",
     "text": [
      "/opt/conda/lib/python3.6/site-packages/keras/engine/training.py:490: UserWarning: Discrepancy between trainable weights and collected trainable weights, did you set `model.trainable` without calling `model.compile` after ?\n",
      "  'Discrepancy between trainable weights and collected trainable'\n"
     ]
    },
    {
     "name": "stdout",
     "output_type": "stream",
     "text": [
      "16/16 [==============================] - 0s 24ms/step - loss: 6.8763 - acc: 0.0625\n",
      "Epoch 1/1\n",
      "8/8 [==============================] - 1s 98ms/step - loss: 20.7193 - model_1_loss: 0.0028 - conv2d_20_loss: 0.1507\n",
      "\n",
      "Epoch 00001: loss did not improve from 18.44878\n"
     ]
    },
    {
     "name": "stderr",
     "output_type": "stream",
     "text": [
      "\n",
      "\n",
      "\n",
      "8it [00:32,  4.10s/it]\u001b[A\u001b[A\u001b[A"
     ]
    },
    {
     "name": "stdout",
     "output_type": "stream",
     "text": [
      "iteration : 8\n",
      "Epoch 1/1\n",
      " 8/16 [==============>...............] - ETA: 0s - loss: 4.7000 - acc: 0.2500"
     ]
    },
    {
     "name": "stderr",
     "output_type": "stream",
     "text": [
      "/opt/conda/lib/python3.6/site-packages/keras/engine/training.py:490: UserWarning: Discrepancy between trainable weights and collected trainable weights, did you set `model.trainable` without calling `model.compile` after ?\n",
      "  'Discrepancy between trainable weights and collected trainable'\n"
     ]
    },
    {
     "name": "stdout",
     "output_type": "stream",
     "text": [
      "16/16 [==============================] - 0s 23ms/step - loss: 4.9218 - acc: 0.1250\n",
      "Epoch 1/1\n",
      "8/8 [==============================] - 1s 97ms/step - loss: 20.2485 - model_1_loss: 9.1537e-04 - conv2d_20_loss: 0.1461\n",
      "\n",
      "Epoch 00001: loss did not improve from 18.44878\n"
     ]
    },
    {
     "name": "stderr",
     "output_type": "stream",
     "text": [
      "\n",
      "\n",
      "\n",
      "9it [00:36,  4.09s/it]\u001b[A\u001b[A\u001b[A"
     ]
    },
    {
     "name": "stdout",
     "output_type": "stream",
     "text": [
      "iteration : 9\n",
      "Epoch 1/1\n",
      " 8/16 [==============>...............] - ETA: 0s - loss: 5.4585 - acc: 0.2500"
     ]
    },
    {
     "name": "stderr",
     "output_type": "stream",
     "text": [
      "/opt/conda/lib/python3.6/site-packages/keras/engine/training.py:490: UserWarning: Discrepancy between trainable weights and collected trainable weights, did you set `model.trainable` without calling `model.compile` after ?\n",
      "  'Discrepancy between trainable weights and collected trainable'\n"
     ]
    },
    {
     "name": "stdout",
     "output_type": "stream",
     "text": [
      "16/16 [==============================] - 0s 24ms/step - loss: 6.6250 - acc: 0.1250\n",
      "Epoch 1/1\n",
      "8/8 [==============================] - 1s 98ms/step - loss: 20.6211 - model_1_loss: 0.1164 - conv2d_20_loss: 0.1440\n",
      "\n",
      "Epoch 00001: loss did not improve from 18.44878\n"
     ]
    },
    {
     "name": "stderr",
     "output_type": "stream",
     "text": [
      "\n",
      "\n",
      "\n",
      "10it [00:40,  4.09s/it]\u001b[A\u001b[A\u001b[A"
     ]
    },
    {
     "name": "stdout",
     "output_type": "stream",
     "text": [
      "iteration : 10\n",
      "Epoch 1/1\n",
      " 8/16 [==============>...............] - ETA: 0s - loss: 3.4516 - acc: 0.5000"
     ]
    },
    {
     "name": "stderr",
     "output_type": "stream",
     "text": [
      "/opt/conda/lib/python3.6/site-packages/keras/engine/training.py:490: UserWarning: Discrepancy between trainable weights and collected trainable weights, did you set `model.trainable` without calling `model.compile` after ?\n",
      "  'Discrepancy between trainable weights and collected trainable'\n"
     ]
    },
    {
     "name": "stdout",
     "output_type": "stream",
     "text": [
      "16/16 [==============================] - 0s 23ms/step - loss: 4.9008 - acc: 0.2500\n",
      "Epoch 1/1\n",
      "8/8 [==============================] - 1s 97ms/step - loss: 20.7631 - model_1_loss: 3.9782e-04 - conv2d_20_loss: 0.1512\n",
      "\n",
      "Epoch 00001: loss did not improve from 18.44878\n"
     ]
    },
    {
     "name": "stderr",
     "output_type": "stream",
     "text": [
      "\n",
      "\n",
      "\n",
      "11it [00:45,  4.09s/it]\u001b[A\u001b[A\u001b[A"
     ]
    },
    {
     "name": "stdout",
     "output_type": "stream",
     "text": [
      "iteration : 11\n",
      "Epoch 1/1\n",
      " 8/16 [==============>...............] - ETA: 0s - loss: 3.7779 - acc: 0.3750"
     ]
    },
    {
     "name": "stderr",
     "output_type": "stream",
     "text": [
      "/opt/conda/lib/python3.6/site-packages/keras/engine/training.py:490: UserWarning: Discrepancy between trainable weights and collected trainable weights, did you set `model.trainable` without calling `model.compile` after ?\n",
      "  'Discrepancy between trainable weights and collected trainable'\n"
     ]
    },
    {
     "name": "stdout",
     "output_type": "stream",
     "text": [
      "16/16 [==============================] - 0s 24ms/step - loss: 4.6502 - acc: 0.3125\n",
      "Epoch 1/1\n",
      "8/8 [==============================] - 1s 98ms/step - loss: 19.1988 - model_1_loss: 3.0845e-04 - conv2d_20_loss: 0.1356\n",
      "\n",
      "Epoch 00001: loss did not improve from 18.44878\n"
     ]
    },
    {
     "name": "stderr",
     "output_type": "stream",
     "text": [
      "\n",
      "\n",
      "\n",
      "12it [00:49,  4.09s/it]\u001b[A\u001b[A\u001b[A"
     ]
    },
    {
     "name": "stdout",
     "output_type": "stream",
     "text": [
      "iteration : 12\n",
      "Epoch 1/1\n",
      " 8/16 [==============>...............] - ETA: 0s - loss: 6.9982 - acc: 0.1250"
     ]
    },
    {
     "name": "stderr",
     "output_type": "stream",
     "text": [
      "/opt/conda/lib/python3.6/site-packages/keras/engine/training.py:490: UserWarning: Discrepancy between trainable weights and collected trainable weights, did you set `model.trainable` without calling `model.compile` after ?\n",
      "  'Discrepancy between trainable weights and collected trainable'\n"
     ]
    },
    {
     "name": "stdout",
     "output_type": "stream",
     "text": [
      "16/16 [==============================] - 0s 23ms/step - loss: 5.7051 - acc: 0.0625\n",
      "Epoch 1/1\n",
      "8/8 [==============================] - 1s 97ms/step - loss: 19.6644 - model_1_loss: 0.0100 - conv2d_20_loss: 0.1398\n",
      "\n",
      "Epoch 00001: loss did not improve from 18.44878\n"
     ]
    },
    {
     "name": "stderr",
     "output_type": "stream",
     "text": [
      "\n",
      "\n",
      "\n",
      "13it [00:53,  4.09s/it]\u001b[A\u001b[A\u001b[A"
     ]
    },
    {
     "name": "stdout",
     "output_type": "stream",
     "text": [
      "iteration : 13\n",
      "Epoch 1/1\n",
      " 8/16 [==============>...............] - ETA: 0s - loss: 6.0552 - acc: 0.2500"
     ]
    },
    {
     "name": "stderr",
     "output_type": "stream",
     "text": [
      "/opt/conda/lib/python3.6/site-packages/keras/engine/training.py:490: UserWarning: Discrepancy between trainable weights and collected trainable weights, did you set `model.trainable` without calling `model.compile` after ?\n",
      "  'Discrepancy between trainable weights and collected trainable'\n"
     ]
    },
    {
     "name": "stdout",
     "output_type": "stream",
     "text": [
      "16/16 [==============================] - 0s 24ms/step - loss: 5.7010 - acc: 0.2500\n",
      "Epoch 1/1\n",
      "8/8 [==============================] - 1s 99ms/step - loss: 19.7035 - model_1_loss: 0.0172 - conv2d_20_loss: 0.1398\n",
      "\n",
      "Epoch 00001: loss did not improve from 18.44878\n"
     ]
    },
    {
     "name": "stderr",
     "output_type": "stream",
     "text": [
      "\n",
      "\n",
      "\n",
      "14it [00:57,  4.10s/it]\u001b[A\u001b[A\u001b[A"
     ]
    },
    {
     "name": "stdout",
     "output_type": "stream",
     "text": [
      "iteration : 14\n",
      "Epoch 1/1\n",
      " 8/16 [==============>...............] - ETA: 0s - loss: 5.6729 - acc: 0.1250"
     ]
    },
    {
     "name": "stderr",
     "output_type": "stream",
     "text": [
      "/opt/conda/lib/python3.6/site-packages/keras/engine/training.py:490: UserWarning: Discrepancy between trainable weights and collected trainable weights, did you set `model.trainable` without calling `model.compile` after ?\n",
      "  'Discrepancy between trainable weights and collected trainable'\n"
     ]
    },
    {
     "name": "stdout",
     "output_type": "stream",
     "text": [
      "16/16 [==============================] - 0s 23ms/step - loss: 6.5066 - acc: 0.1875\n",
      "Epoch 1/1\n",
      "8/8 [==============================] - 1s 97ms/step - loss: 20.3469 - model_1_loss: 3.2183e-04 - conv2d_20_loss: 0.1471\n",
      "\n",
      "Epoch 00001: loss did not improve from 18.44878\n"
     ]
    },
    {
     "name": "stderr",
     "output_type": "stream",
     "text": [
      "\n",
      "\n",
      "\n",
      "15it [01:01,  4.09s/it]\u001b[A\u001b[A\u001b[A"
     ]
    },
    {
     "name": "stdout",
     "output_type": "stream",
     "text": [
      "iteration : 15\n",
      "Epoch 1/1\n",
      " 8/16 [==============>...............] - ETA: 0s - loss: 5.3031 - acc: 0.3750"
     ]
    },
    {
     "name": "stderr",
     "output_type": "stream",
     "text": [
      "/opt/conda/lib/python3.6/site-packages/keras/engine/training.py:490: UserWarning: Discrepancy between trainable weights and collected trainable weights, did you set `model.trainable` without calling `model.compile` after ?\n",
      "  'Discrepancy between trainable weights and collected trainable'\n"
     ]
    },
    {
     "name": "stdout",
     "output_type": "stream",
     "text": [
      "16/16 [==============================] - 0s 24ms/step - loss: 6.7564 - acc: 0.1875\n",
      "Epoch 1/1\n",
      "8/8 [==============================] - 1s 98ms/step - loss: 20.3676 - model_1_loss: 0.0051 - conv2d_20_loss: 0.1471\n",
      "\n",
      "Epoch 00001: loss did not improve from 18.44878\n"
     ]
    },
    {
     "name": "stderr",
     "output_type": "stream",
     "text": [
      "\n",
      "\n",
      "\n",
      "16it [01:05,  4.10s/it]\u001b[A\u001b[A\u001b[A"
     ]
    },
    {
     "name": "stdout",
     "output_type": "stream",
     "text": [
      "iteration : 16\n",
      "Epoch 1/1\n",
      " 8/16 [==============>...............] - ETA: 0s - loss: 6.0582 - acc: 0.0000e+00"
     ]
    },
    {
     "name": "stderr",
     "output_type": "stream",
     "text": [
      "/opt/conda/lib/python3.6/site-packages/keras/engine/training.py:490: UserWarning: Discrepancy between trainable weights and collected trainable weights, did you set `model.trainable` without calling `model.compile` after ?\n",
      "  'Discrepancy between trainable weights and collected trainable'\n"
     ]
    },
    {
     "name": "stdout",
     "output_type": "stream",
     "text": [
      "16/16 [==============================] - 0s 23ms/step - loss: 6.2475 - acc: 0.1250\n",
      "Epoch 1/1\n",
      "8/8 [==============================] - 1s 97ms/step - loss: 19.3691 - model_1_loss: 0.0015 - conv2d_20_loss: 0.1372\n",
      "\n",
      "Epoch 00001: loss did not improve from 18.44878\n"
     ]
    },
    {
     "name": "stderr",
     "output_type": "stream",
     "text": [
      "\n",
      "\n",
      "\n",
      "17it [01:09,  4.09s/it]\u001b[A\u001b[A\u001b[A"
     ]
    },
    {
     "name": "stdout",
     "output_type": "stream",
     "text": [
      "iteration : 17\n",
      "Epoch 1/1\n",
      " 8/16 [==============>...............] - ETA: 0s - loss: 7.6959 - acc: 0.0000e+00"
     ]
    },
    {
     "name": "stderr",
     "output_type": "stream",
     "text": [
      "/opt/conda/lib/python3.6/site-packages/keras/engine/training.py:490: UserWarning: Discrepancy between trainable weights and collected trainable weights, did you set `model.trainable` without calling `model.compile` after ?\n",
      "  'Discrepancy between trainable weights and collected trainable'\n"
     ]
    },
    {
     "name": "stdout",
     "output_type": "stream",
     "text": [
      "16/16 [==============================] - 0s 24ms/step - loss: 6.8123 - acc: 0.1250\n",
      "Epoch 1/1\n",
      "8/8 [==============================] - 1s 98ms/step - loss: 20.7610 - model_1_loss: 0.0098 - conv2d_20_loss: 0.1507\n",
      "\n",
      "Epoch 00001: loss did not improve from 18.44878\n"
     ]
    },
    {
     "name": "stderr",
     "output_type": "stream",
     "text": [
      "\n",
      "\n",
      "\n",
      "18it [01:13,  4.09s/it]\u001b[A\u001b[A\u001b[A"
     ]
    },
    {
     "name": "stdout",
     "output_type": "stream",
     "text": [
      "iteration : 18\n",
      "Epoch 1/1\n",
      " 8/16 [==============>...............] - ETA: 0s - loss: 6.6223 - acc: 0.1250"
     ]
    },
    {
     "name": "stderr",
     "output_type": "stream",
     "text": [
      "/opt/conda/lib/python3.6/site-packages/keras/engine/training.py:490: UserWarning: Discrepancy between trainable weights and collected trainable weights, did you set `model.trainable` without calling `model.compile` after ?\n",
      "  'Discrepancy between trainable weights and collected trainable'\n"
     ]
    },
    {
     "name": "stdout",
     "output_type": "stream",
     "text": [
      "16/16 [==============================] - 0s 23ms/step - loss: 7.0610 - acc: 0.1250\n",
      "Epoch 1/1\n",
      "8/8 [==============================] - 1s 97ms/step - loss: 19.7976 - model_1_loss: 0.0128 - conv2d_20_loss: 0.1410\n",
      "\n",
      "Epoch 00001: loss did not improve from 18.44878\n"
     ]
    },
    {
     "name": "stderr",
     "output_type": "stream",
     "text": [
      "\n",
      "\n",
      "\n",
      "19it [01:17,  4.09s/it]\u001b[A\u001b[A\u001b[A"
     ]
    },
    {
     "name": "stdout",
     "output_type": "stream",
     "text": [
      "iteration : 19\n",
      "Epoch 1/1\n",
      " 8/16 [==============>...............] - ETA: 0s - loss: 3.5943 - acc: 0.6250"
     ]
    },
    {
     "name": "stderr",
     "output_type": "stream",
     "text": [
      "/opt/conda/lib/python3.6/site-packages/keras/engine/training.py:490: UserWarning: Discrepancy between trainable weights and collected trainable weights, did you set `model.trainable` without calling `model.compile` after ?\n",
      "  'Discrepancy between trainable weights and collected trainable'\n"
     ]
    },
    {
     "name": "stdout",
     "output_type": "stream",
     "text": [
      "16/16 [==============================] - 0s 24ms/step - loss: 5.3901 - acc: 0.3750\n",
      "Epoch 1/1\n",
      "8/8 [==============================] - 1s 98ms/step - loss: 21.4748 - model_1_loss: 0.1753 - conv2d_20_loss: 0.1496\n",
      "\n",
      "Epoch 00001: loss did not improve from 18.44878\n"
     ]
    },
    {
     "name": "stderr",
     "output_type": "stream",
     "text": [
      "\n",
      "\n",
      "\n",
      "20it [01:21,  4.09s/it]\u001b[A\u001b[A\u001b[A"
     ]
    },
    {
     "name": "stdout",
     "output_type": "stream",
     "text": [
      "iteration : 20\n",
      "Epoch 1/1\n",
      " 8/16 [==============>...............] - ETA: 0s - loss: 6.7184 - acc: 0.1250"
     ]
    },
    {
     "name": "stderr",
     "output_type": "stream",
     "text": [
      "/opt/conda/lib/python3.6/site-packages/keras/engine/training.py:490: UserWarning: Discrepancy between trainable weights and collected trainable weights, did you set `model.trainable` without calling `model.compile` after ?\n",
      "  'Discrepancy between trainable weights and collected trainable'\n"
     ]
    },
    {
     "name": "stdout",
     "output_type": "stream",
     "text": [
      "16/16 [==============================] - 0s 23ms/step - loss: 7.0622 - acc: 0.1875\n",
      "Epoch 1/1\n",
      "8/8 [==============================] - 1s 97ms/step - loss: 19.5419 - model_1_loss: 4.4825e-05 - conv2d_20_loss: 0.1390\n",
      "\n",
      "Epoch 00001: loss did not improve from 18.44878\n"
     ]
    },
    {
     "name": "stderr",
     "output_type": "stream",
     "text": [
      "\n",
      "\n",
      "\n",
      "21it [01:25,  4.09s/it]\u001b[A\u001b[A\u001b[A"
     ]
    },
    {
     "name": "stdout",
     "output_type": "stream",
     "text": [
      "iteration : 21\n",
      "Epoch 1/1\n",
      " 8/16 [==============>...............] - ETA: 0s - loss: 6.7902 - acc: 0.0000e+00"
     ]
    },
    {
     "name": "stderr",
     "output_type": "stream",
     "text": [
      "/opt/conda/lib/python3.6/site-packages/keras/engine/training.py:490: UserWarning: Discrepancy between trainable weights and collected trainable weights, did you set `model.trainable` without calling `model.compile` after ?\n",
      "  'Discrepancy between trainable weights and collected trainable'\n"
     ]
    },
    {
     "name": "stdout",
     "output_type": "stream",
     "text": [
      "16/16 [==============================] - 0s 23ms/step - loss: 6.7757 - acc: 0.0625\n",
      "Epoch 1/1\n",
      "8/8 [==============================] - 1s 98ms/step - loss: 20.9087 - model_1_loss: 0.0044 - conv2d_20_loss: 0.1525\n",
      "\n",
      "Epoch 00001: loss did not improve from 18.44878\n"
     ]
    },
    {
     "name": "stderr",
     "output_type": "stream",
     "text": [
      "\n",
      "\n",
      "\n",
      "22it [01:29,  4.07s/it]\u001b[A\u001b[A\u001b[A"
     ]
    },
    {
     "name": "stdout",
     "output_type": "stream",
     "text": [
      "iteration : 22\n",
      "Epoch 1/1\n",
      " 8/16 [==============>...............] - ETA: 0s - loss: 8.3760 - acc: 0.2500"
     ]
    },
    {
     "name": "stderr",
     "output_type": "stream",
     "text": [
      "/opt/conda/lib/python3.6/site-packages/keras/engine/training.py:490: UserWarning: Discrepancy between trainable weights and collected trainable weights, did you set `model.trainable` without calling `model.compile` after ?\n",
      "  'Discrepancy between trainable weights and collected trainable'\n"
     ]
    },
    {
     "name": "stdout",
     "output_type": "stream",
     "text": [
      "16/16 [==============================] - 0s 22ms/step - loss: 7.8230 - acc: 0.1875\n",
      "Epoch 1/1\n",
      "8/8 [==============================] - 1s 96ms/step - loss: 19.0966 - model_1_loss: 0.0035 - conv2d_20_loss: 0.1344\n",
      "\n",
      "Epoch 00001: loss did not improve from 18.44878\n"
     ]
    },
    {
     "name": "stderr",
     "output_type": "stream",
     "text": [
      "\n",
      "\n",
      "\n",
      "23it [01:33,  4.04s/it]\u001b[A\u001b[A\u001b[A"
     ]
    },
    {
     "name": "stdout",
     "output_type": "stream",
     "text": [
      "iteration : 23\n",
      "Epoch 1/1\n",
      " 8/16 [==============>...............] - ETA: 0s - loss: 6.4915 - acc: 0.2500"
     ]
    },
    {
     "name": "stderr",
     "output_type": "stream",
     "text": [
      "/opt/conda/lib/python3.6/site-packages/keras/engine/training.py:490: UserWarning: Discrepancy between trainable weights and collected trainable weights, did you set `model.trainable` without calling `model.compile` after ?\n",
      "  'Discrepancy between trainable weights and collected trainable'\n"
     ]
    },
    {
     "name": "stdout",
     "output_type": "stream",
     "text": [
      "16/16 [==============================] - 0s 23ms/step - loss: 7.4819 - acc: 0.1875\n",
      "Epoch 1/1\n",
      "8/8 [==============================] - 1s 98ms/step - loss: 20.3037 - model_1_loss: 0.0043 - conv2d_20_loss: 0.1465\n",
      "\n",
      "Epoch 00001: loss did not improve from 18.44878\n"
     ]
    },
    {
     "name": "stderr",
     "output_type": "stream",
     "text": [
      "\n",
      "\n",
      "\n",
      "24it [01:38,  4.10s/it]\u001b[A\u001b[A\u001b[A"
     ]
    },
    {
     "name": "stdout",
     "output_type": "stream",
     "text": [
      "iteration : 24\n",
      "Epoch 1/1\n",
      " 8/16 [==============>...............] - ETA: 0s - loss: 5.9878 - acc: 0.1250"
     ]
    },
    {
     "name": "stderr",
     "output_type": "stream",
     "text": [
      "/opt/conda/lib/python3.6/site-packages/keras/engine/training.py:490: UserWarning: Discrepancy between trainable weights and collected trainable weights, did you set `model.trainable` without calling `model.compile` after ?\n",
      "  'Discrepancy between trainable weights and collected trainable'\n"
     ]
    },
    {
     "name": "stdout",
     "output_type": "stream",
     "text": [
      "16/16 [==============================] - 0s 23ms/step - loss: 6.5020 - acc: 0.1250\n",
      "Epoch 1/1\n",
      "8/8 [==============================] - 1s 97ms/step - loss: 20.3563 - model_1_loss: 6.2978e-05 - conv2d_20_loss: 0.1472\n",
      "\n",
      "Epoch 00001: loss did not improve from 18.44878\n"
     ]
    },
    {
     "name": "stderr",
     "output_type": "stream",
     "text": [
      "\n",
      "\n",
      "\n",
      "25it [01:42,  4.10s/it]\u001b[A\u001b[A\u001b[A"
     ]
    },
    {
     "name": "stdout",
     "output_type": "stream",
     "text": [
      "iteration : 25\n",
      "Epoch 1/1\n",
      " 8/16 [==============>...............] - ETA: 0s - loss: 7.5984 - acc: 0.0000e+00"
     ]
    },
    {
     "name": "stderr",
     "output_type": "stream",
     "text": [
      "/opt/conda/lib/python3.6/site-packages/keras/engine/training.py:490: UserWarning: Discrepancy between trainable weights and collected trainable weights, did you set `model.trainable` without calling `model.compile` after ?\n",
      "  'Discrepancy between trainable weights and collected trainable'\n"
     ]
    },
    {
     "name": "stdout",
     "output_type": "stream",
     "text": [
      "16/16 [==============================] - 0s 24ms/step - loss: 5.7719 - acc: 0.0625\n",
      "Epoch 1/1\n",
      "8/8 [==============================] - 1s 98ms/step - loss: 20.4044 - model_1_loss: 1.6671e-04 - conv2d_20_loss: 0.1477\n",
      "\n",
      "Epoch 00001: loss did not improve from 18.44878\n"
     ]
    },
    {
     "name": "stderr",
     "output_type": "stream",
     "text": [
      "\n",
      "\n",
      "\n",
      "26it [01:46,  4.10s/it]\u001b[A\u001b[A\u001b[A"
     ]
    },
    {
     "name": "stdout",
     "output_type": "stream",
     "text": [
      "iteration : 26\n",
      "Epoch 1/1\n",
      " 8/16 [==============>...............] - ETA: 0s - loss: 10.6362 - acc: 0.1250"
     ]
    },
    {
     "name": "stderr",
     "output_type": "stream",
     "text": [
      "/opt/conda/lib/python3.6/site-packages/keras/engine/training.py:490: UserWarning: Discrepancy between trainable weights and collected trainable weights, did you set `model.trainable` without calling `model.compile` after ?\n",
      "  'Discrepancy between trainable weights and collected trainable'\n"
     ]
    },
    {
     "name": "stdout",
     "output_type": "stream",
     "text": [
      "16/16 [==============================] - 0s 23ms/step - loss: 8.8502 - acc: 0.1250\n",
      "Epoch 1/1\n",
      "8/8 [==============================] - 1s 98ms/step - loss: 18.9653 - model_1_loss: 0.0014 - conv2d_20_loss: 0.1332\n",
      "\n",
      "Epoch 00001: loss did not improve from 18.44878\n"
     ]
    },
    {
     "name": "stderr",
     "output_type": "stream",
     "text": [
      "\n",
      "\n",
      "\n",
      "27it [01:50,  4.10s/it]\u001b[A\u001b[A\u001b[A"
     ]
    },
    {
     "name": "stdout",
     "output_type": "stream",
     "text": [
      "iteration : 27\n",
      "Epoch 1/1\n",
      " 8/16 [==============>...............] - ETA: 0s - loss: 7.0992 - acc: 0.1250"
     ]
    },
    {
     "name": "stderr",
     "output_type": "stream",
     "text": [
      "/opt/conda/lib/python3.6/site-packages/keras/engine/training.py:490: UserWarning: Discrepancy between trainable weights and collected trainable weights, did you set `model.trainable` without calling `model.compile` after ?\n",
      "  'Discrepancy between trainable weights and collected trainable'\n"
     ]
    },
    {
     "name": "stdout",
     "output_type": "stream",
     "text": [
      "16/16 [==============================] - 0s 24ms/step - loss: 6.9436 - acc: 0.1875\n",
      "Epoch 1/1\n",
      "8/8 [==============================] - 1s 98ms/step - loss: 19.2470 - model_1_loss: 6.6110e-05 - conv2d_20_loss: 0.1361\n",
      "\n",
      "Epoch 00001: loss did not improve from 18.44878\n"
     ]
    },
    {
     "name": "stderr",
     "output_type": "stream",
     "text": [
      "\n",
      "\n",
      "\n",
      "28it [01:54,  4.10s/it]\u001b[A\u001b[A\u001b[A"
     ]
    },
    {
     "name": "stdout",
     "output_type": "stream",
     "text": [
      "iteration : 28\n",
      "Epoch 1/1\n",
      " 8/16 [==============>...............] - ETA: 0s - loss: 4.3828 - acc: 0.1250"
     ]
    },
    {
     "name": "stderr",
     "output_type": "stream",
     "text": [
      "/opt/conda/lib/python3.6/site-packages/keras/engine/training.py:490: UserWarning: Discrepancy between trainable weights and collected trainable weights, did you set `model.trainable` without calling `model.compile` after ?\n",
      "  'Discrepancy between trainable weights and collected trainable'\n"
     ]
    },
    {
     "name": "stdout",
     "output_type": "stream",
     "text": [
      "16/16 [==============================] - 0s 23ms/step - loss: 6.2575 - acc: 0.1875\n",
      "Epoch 1/1\n",
      "8/8 [==============================] - 1s 97ms/step - loss: 19.2863 - model_1_loss: 0.0029 - conv2d_20_loss: 0.1364\n",
      "\n",
      "Epoch 00001: loss did not improve from 18.44878\n"
     ]
    },
    {
     "name": "stderr",
     "output_type": "stream",
     "text": [
      "\n",
      "\n",
      "\n",
      "29it [01:58,  4.09s/it]\u001b[A\u001b[A\u001b[A"
     ]
    },
    {
     "name": "stdout",
     "output_type": "stream",
     "text": [
      "iteration : 29\n",
      "Epoch 1/1\n",
      " 8/16 [==============>...............] - ETA: 0s - loss: 5.7736 - acc: 0.2500"
     ]
    },
    {
     "name": "stderr",
     "output_type": "stream",
     "text": [
      "/opt/conda/lib/python3.6/site-packages/keras/engine/training.py:490: UserWarning: Discrepancy between trainable weights and collected trainable weights, did you set `model.trainable` without calling `model.compile` after ?\n",
      "  'Discrepancy between trainable weights and collected trainable'\n"
     ]
    },
    {
     "name": "stdout",
     "output_type": "stream",
     "text": [
      "16/16 [==============================] - 0s 24ms/step - loss: 6.8195 - acc: 0.1875\n",
      "Epoch 1/1\n",
      "8/8 [==============================] - 1s 98ms/step - loss: 19.4816 - model_1_loss: 0.0017 - conv2d_20_loss: 0.1384\n",
      "\n",
      "Epoch 00001: loss did not improve from 18.44878\n"
     ]
    },
    {
     "name": "stderr",
     "output_type": "stream",
     "text": [
      "\n",
      "\n",
      "\n",
      "30it [02:02,  4.09s/it]\u001b[A\u001b[A\u001b[A"
     ]
    },
    {
     "name": "stdout",
     "output_type": "stream",
     "text": [
      "iteration : 30\n",
      "Epoch 1/1\n",
      " 8/16 [==============>...............] - ETA: 0s - loss: 6.9643 - acc: 0.1250"
     ]
    },
    {
     "name": "stderr",
     "output_type": "stream",
     "text": [
      "/opt/conda/lib/python3.6/site-packages/keras/engine/training.py:490: UserWarning: Discrepancy between trainable weights and collected trainable weights, did you set `model.trainable` without calling `model.compile` after ?\n",
      "  'Discrepancy between trainable weights and collected trainable'\n"
     ]
    },
    {
     "name": "stdout",
     "output_type": "stream",
     "text": [
      "16/16 [==============================] - 0s 23ms/step - loss: 6.9499 - acc: 0.1875\n",
      "Epoch 1/1\n",
      "8/8 [==============================] - 1s 97ms/step - loss: 19.0370 - model_1_loss: 7.0484e-04 - conv2d_20_loss: 0.1340\n",
      "\n",
      "Epoch 00001: loss did not improve from 18.44878\n"
     ]
    },
    {
     "name": "stderr",
     "output_type": "stream",
     "text": [
      "\n",
      "\n",
      "\n",
      "31it [02:06,  4.09s/it]\u001b[A\u001b[A\u001b[A"
     ]
    },
    {
     "name": "stdout",
     "output_type": "stream",
     "text": [
      "iteration : 31\n",
      "Epoch 1/1\n",
      " 8/16 [==============>...............] - ETA: 0s - loss: 6.6766 - acc: 0.1250"
     ]
    },
    {
     "name": "stderr",
     "output_type": "stream",
     "text": [
      "/opt/conda/lib/python3.6/site-packages/keras/engine/training.py:490: UserWarning: Discrepancy between trainable weights and collected trainable weights, did you set `model.trainable` without calling `model.compile` after ?\n",
      "  'Discrepancy between trainable weights and collected trainable'\n"
     ]
    },
    {
     "name": "stdout",
     "output_type": "stream",
     "text": [
      "16/16 [==============================] - 0s 24ms/step - loss: 6.2996 - acc: 0.2500\n",
      "Epoch 1/1\n",
      "8/8 [==============================] - 1s 98ms/step - loss: 19.7783 - model_1_loss: 3.2894e-04 - conv2d_20_loss: 0.1414\n",
      "\n",
      "Epoch 00001: loss did not improve from 18.44878\n"
     ]
    },
    {
     "name": "stderr",
     "output_type": "stream",
     "text": [
      "\n",
      "\n",
      "\n",
      "32it [02:10,  4.09s/it]\u001b[A\u001b[A\u001b[A"
     ]
    },
    {
     "name": "stdout",
     "output_type": "stream",
     "text": [
      "iteration : 32\n",
      "Epoch 1/1\n",
      " 8/16 [==============>...............] - ETA: 0s - loss: 8.5221 - acc: 0.2500"
     ]
    },
    {
     "name": "stderr",
     "output_type": "stream",
     "text": [
      "/opt/conda/lib/python3.6/site-packages/keras/engine/training.py:490: UserWarning: Discrepancy between trainable weights and collected trainable weights, did you set `model.trainable` without calling `model.compile` after ?\n",
      "  'Discrepancy between trainable weights and collected trainable'\n"
     ]
    },
    {
     "name": "stdout",
     "output_type": "stream",
     "text": [
      "16/16 [==============================] - 0s 23ms/step - loss: 7.0630 - acc: 0.2500\n",
      "Epoch 1/1\n",
      "8/8 [==============================] - 1s 97ms/step - loss: 19.8779 - model_1_loss: 0.0109 - conv2d_20_loss: 0.1419\n",
      "\n",
      "Epoch 00001: loss did not improve from 18.44878\n"
     ]
    },
    {
     "name": "stderr",
     "output_type": "stream",
     "text": [
      "\n",
      "\n",
      "\n",
      "33it [02:14,  4.09s/it]\u001b[A\u001b[A\u001b[A"
     ]
    },
    {
     "name": "stdout",
     "output_type": "stream",
     "text": [
      "iteration : 33\n",
      "Epoch 1/1\n",
      " 8/16 [==============>...............] - ETA: 0s - loss: 3.9473 - acc: 0.3750"
     ]
    },
    {
     "name": "stderr",
     "output_type": "stream",
     "text": [
      "/opt/conda/lib/python3.6/site-packages/keras/engine/training.py:490: UserWarning: Discrepancy between trainable weights and collected trainable weights, did you set `model.trainable` without calling `model.compile` after ?\n",
      "  'Discrepancy between trainable weights and collected trainable'\n"
     ]
    },
    {
     "name": "stdout",
     "output_type": "stream",
     "text": [
      "16/16 [==============================] - 0s 24ms/step - loss: 5.9075 - acc: 0.1875\n",
      "Epoch 1/1\n",
      "8/8 [==============================] - 1s 98ms/step - loss: 22.2922 - model_1_loss: 0.1331 - conv2d_20_loss: 0.1599\n",
      "\n",
      "Epoch 00001: loss did not improve from 18.44878\n"
     ]
    },
    {
     "name": "stderr",
     "output_type": "stream",
     "text": [
      "\n",
      "\n",
      "\n",
      "34it [02:19,  4.10s/it]\u001b[A\u001b[A\u001b[A"
     ]
    },
    {
     "name": "stdout",
     "output_type": "stream",
     "text": [
      "iteration : 34\n",
      "Epoch 1/1\n",
      " 8/16 [==============>...............] - ETA: 0s - loss: 6.2863 - acc: 0.3750"
     ]
    },
    {
     "name": "stderr",
     "output_type": "stream",
     "text": [
      "/opt/conda/lib/python3.6/site-packages/keras/engine/training.py:490: UserWarning: Discrepancy between trainable weights and collected trainable weights, did you set `model.trainable` without calling `model.compile` after ?\n",
      "  'Discrepancy between trainable weights and collected trainable'\n"
     ]
    },
    {
     "name": "stdout",
     "output_type": "stream",
     "text": [
      "16/16 [==============================] - 0s 23ms/step - loss: 6.3290 - acc: 0.3125\n",
      "Epoch 1/1\n",
      "8/8 [==============================] - 1s 97ms/step - loss: 18.9565 - model_1_loss: 0.0042 - conv2d_20_loss: 0.1330\n",
      "\n",
      "Epoch 00001: loss did not improve from 18.44878\n"
     ]
    },
    {
     "name": "stderr",
     "output_type": "stream",
     "text": [
      "\n",
      "\n",
      "\n",
      "35it [02:23,  4.09s/it]\u001b[A\u001b[A\u001b[A"
     ]
    },
    {
     "name": "stdout",
     "output_type": "stream",
     "text": [
      "iteration : 35\n",
      "Epoch 1/1\n",
      " 8/16 [==============>...............] - ETA: 0s - loss: 6.6731 - acc: 0.1250"
     ]
    },
    {
     "name": "stderr",
     "output_type": "stream",
     "text": [
      "/opt/conda/lib/python3.6/site-packages/keras/engine/training.py:490: UserWarning: Discrepancy between trainable weights and collected trainable weights, did you set `model.trainable` without calling `model.compile` after ?\n",
      "  'Discrepancy between trainable weights and collected trainable'\n"
     ]
    },
    {
     "name": "stdout",
     "output_type": "stream",
     "text": [
      "16/16 [==============================] - 0s 24ms/step - loss: 5.3636 - acc: 0.3125\n",
      "Epoch 1/1\n",
      "8/8 [==============================] - 1s 98ms/step - loss: 19.5248 - model_1_loss: 0.0029 - conv2d_20_loss: 0.1387\n",
      "\n",
      "Epoch 00001: loss did not improve from 18.44878\n"
     ]
    },
    {
     "name": "stderr",
     "output_type": "stream",
     "text": [
      "\n",
      "\n",
      "\n",
      "36it [02:27,  4.10s/it]\u001b[A\u001b[A\u001b[A"
     ]
    },
    {
     "name": "stdout",
     "output_type": "stream",
     "text": [
      "iteration : 36\n",
      "Epoch 1/1\n",
      " 8/16 [==============>...............] - ETA: 0s - loss: 6.9189 - acc: 0.1250"
     ]
    },
    {
     "name": "stderr",
     "output_type": "stream",
     "text": [
      "/opt/conda/lib/python3.6/site-packages/keras/engine/training.py:490: UserWarning: Discrepancy between trainable weights and collected trainable weights, did you set `model.trainable` without calling `model.compile` after ?\n",
      "  'Discrepancy between trainable weights and collected trainable'\n"
     ]
    },
    {
     "name": "stdout",
     "output_type": "stream",
     "text": [
      "16/16 [==============================] - 0s 23ms/step - loss: 6.4801 - acc: 0.1250\n",
      "Epoch 1/1\n",
      "8/8 [==============================] - 1s 97ms/step - loss: 21.1285 - model_1_loss: 0.1575 - conv2d_20_loss: 0.1470\n",
      "\n",
      "Epoch 00001: loss did not improve from 18.44878\n"
     ]
    },
    {
     "name": "stderr",
     "output_type": "stream",
     "text": [
      "\n",
      "\n",
      "\n",
      "37it [02:31,  4.09s/it]\u001b[A\u001b[A\u001b[A"
     ]
    },
    {
     "name": "stdout",
     "output_type": "stream",
     "text": [
      "iteration : 37\n",
      "Epoch 1/1\n",
      " 8/16 [==============>...............] - ETA: 0s - loss: 5.4537 - acc: 0.5000"
     ]
    },
    {
     "name": "stderr",
     "output_type": "stream",
     "text": [
      "/opt/conda/lib/python3.6/site-packages/keras/engine/training.py:490: UserWarning: Discrepancy between trainable weights and collected trainable weights, did you set `model.trainable` without calling `model.compile` after ?\n",
      "  'Discrepancy between trainable weights and collected trainable'\n"
     ]
    },
    {
     "name": "stdout",
     "output_type": "stream",
     "text": [
      "16/16 [==============================] - 0s 24ms/step - loss: 5.8982 - acc: 0.4375\n",
      "Epoch 1/1\n",
      "8/8 [==============================] - 1s 98ms/step - loss: 20.3252 - model_1_loss: 0.0032 - conv2d_20_loss: 0.1467\n",
      "\n",
      "Epoch 00001: loss did not improve from 18.44878\n"
     ]
    },
    {
     "name": "stderr",
     "output_type": "stream",
     "text": [
      "\n",
      "\n",
      "\n",
      "38it [02:35,  4.10s/it]\u001b[A\u001b[A\u001b[A"
     ]
    },
    {
     "name": "stdout",
     "output_type": "stream",
     "text": [
      "iteration : 38\n",
      "Epoch 1/1\n",
      " 8/16 [==============>...............] - ETA: 0s - loss: 3.0697 - acc: 0.2500"
     ]
    },
    {
     "name": "stderr",
     "output_type": "stream",
     "text": [
      "/opt/conda/lib/python3.6/site-packages/keras/engine/training.py:490: UserWarning: Discrepancy between trainable weights and collected trainable weights, did you set `model.trainable` without calling `model.compile` after ?\n",
      "  'Discrepancy between trainable weights and collected trainable'\n"
     ]
    },
    {
     "name": "stdout",
     "output_type": "stream",
     "text": [
      "16/16 [==============================] - 0s 23ms/step - loss: 4.4108 - acc: 0.3125\n",
      "Epoch 1/1\n",
      "8/8 [==============================] - 1s 97ms/step - loss: 19.4067 - model_1_loss: 0.0211 - conv2d_20_loss: 0.1367\n",
      "\n",
      "Epoch 00001: loss did not improve from 18.44878\n"
     ]
    },
    {
     "name": "stderr",
     "output_type": "stream",
     "text": [
      "\n",
      "\n",
      "\n",
      "39it [02:39,  4.10s/it]\u001b[A\u001b[A\u001b[A"
     ]
    },
    {
     "name": "stdout",
     "output_type": "stream",
     "text": [
      "iteration : 39\n",
      "Epoch 1/1\n",
      " 8/16 [==============>...............] - ETA: 0s - loss: 5.2622 - acc: 0.0000e+00"
     ]
    },
    {
     "name": "stderr",
     "output_type": "stream",
     "text": [
      "/opt/conda/lib/python3.6/site-packages/keras/engine/training.py:490: UserWarning: Discrepancy between trainable weights and collected trainable weights, did you set `model.trainable` without calling `model.compile` after ?\n",
      "  'Discrepancy between trainable weights and collected trainable'\n"
     ]
    },
    {
     "name": "stdout",
     "output_type": "stream",
     "text": [
      "16/16 [==============================] - 0s 24ms/step - loss: 6.0533 - acc: 0.1250\n",
      "Epoch 1/1\n",
      "8/8 [==============================] - 1s 98ms/step - loss: 20.9328 - model_1_loss: 0.0152 - conv2d_20_loss: 0.1522\n",
      "\n",
      "Epoch 00001: loss did not improve from 18.44878\n"
     ]
    },
    {
     "name": "stderr",
     "output_type": "stream",
     "text": [
      "\n",
      "\n",
      "\n",
      "40it [02:43,  4.09s/it]\u001b[A\u001b[A\u001b[A"
     ]
    },
    {
     "name": "stdout",
     "output_type": "stream",
     "text": [
      "iteration : 40\n",
      "Epoch 1/1\n",
      " 8/16 [==============>...............] - ETA: 0s - loss: 7.2289 - acc: 0.0000e+00"
     ]
    },
    {
     "name": "stderr",
     "output_type": "stream",
     "text": [
      "/opt/conda/lib/python3.6/site-packages/keras/engine/training.py:490: UserWarning: Discrepancy between trainable weights and collected trainable weights, did you set `model.trainable` without calling `model.compile` after ?\n",
      "  'Discrepancy between trainable weights and collected trainable'\n"
     ]
    },
    {
     "name": "stdout",
     "output_type": "stream",
     "text": [
      "16/16 [==============================] - 0s 23ms/step - loss: 5.3411 - acc: 0.2500\n",
      "Epoch 1/1\n",
      "8/8 [==============================] - 1s 97ms/step - loss: 20.4628 - model_1_loss: 1.7765e-04 - conv2d_20_loss: 0.1483\n",
      "\n",
      "Epoch 00001: loss did not improve from 18.44878\n"
     ]
    },
    {
     "name": "stderr",
     "output_type": "stream",
     "text": [
      "\n",
      "\n",
      "\n",
      "41it [02:47,  4.09s/it]\u001b[A\u001b[A\u001b[A"
     ]
    },
    {
     "name": "stdout",
     "output_type": "stream",
     "text": [
      "iteration : 41\n",
      "Epoch 1/1\n",
      " 8/16 [==============>...............] - ETA: 0s - loss: 4.2855 - acc: 0.0000e+00"
     ]
    },
    {
     "name": "stderr",
     "output_type": "stream",
     "text": [
      "/opt/conda/lib/python3.6/site-packages/keras/engine/training.py:490: UserWarning: Discrepancy between trainable weights and collected trainable weights, did you set `model.trainable` without calling `model.compile` after ?\n",
      "  'Discrepancy between trainable weights and collected trainable'\n"
     ]
    },
    {
     "name": "stdout",
     "output_type": "stream",
     "text": [
      "16/16 [==============================] - 0s 24ms/step - loss: 5.4810 - acc: 0.0625\n",
      "Epoch 1/1\n",
      "8/8 [==============================] - 1s 98ms/step - loss: 19.8862 - model_1_loss: 3.7182e-04 - conv2d_20_loss: 0.1425\n",
      "\n",
      "Epoch 00001: loss did not improve from 18.44878\n"
     ]
    },
    {
     "name": "stderr",
     "output_type": "stream",
     "text": [
      "\n",
      "\n",
      "\n",
      "42it [02:51,  4.09s/it]\u001b[A\u001b[A\u001b[A"
     ]
    },
    {
     "name": "stdout",
     "output_type": "stream",
     "text": [
      "iteration : 42\n",
      "Epoch 1/1\n",
      " 8/16 [==============>...............] - ETA: 0s - loss: 6.3611 - acc: 0.0000e+00"
     ]
    },
    {
     "name": "stderr",
     "output_type": "stream",
     "text": [
      "/opt/conda/lib/python3.6/site-packages/keras/engine/training.py:490: UserWarning: Discrepancy between trainable weights and collected trainable weights, did you set `model.trainable` without calling `model.compile` after ?\n",
      "  'Discrepancy between trainable weights and collected trainable'\n"
     ]
    },
    {
     "name": "stdout",
     "output_type": "stream",
     "text": [
      "16/16 [==============================] - 0s 23ms/step - loss: 5.3791 - acc: 0.0625\n",
      "Epoch 1/1\n",
      "8/8 [==============================] - 1s 97ms/step - loss: 20.7643 - model_1_loss: 0.0793 - conv2d_20_loss: 0.1473\n",
      "\n",
      "Epoch 00001: loss did not improve from 18.44878\n"
     ]
    },
    {
     "name": "stderr",
     "output_type": "stream",
     "text": [
      "\n",
      "\n",
      "\n",
      "43it [02:55,  4.09s/it]\u001b[A\u001b[A\u001b[A"
     ]
    },
    {
     "name": "stdout",
     "output_type": "stream",
     "text": [
      "iteration : 43\n",
      "Epoch 1/1\n",
      " 8/16 [==============>...............] - ETA: 0s - loss: 4.2150 - acc: 0.0000e+00"
     ]
    },
    {
     "name": "stderr",
     "output_type": "stream",
     "text": [
      "/opt/conda/lib/python3.6/site-packages/keras/engine/training.py:490: UserWarning: Discrepancy between trainable weights and collected trainable weights, did you set `model.trainable` without calling `model.compile` after ?\n",
      "  'Discrepancy between trainable weights and collected trainable'\n"
     ]
    },
    {
     "name": "stdout",
     "output_type": "stream",
     "text": [
      "16/16 [==============================] - 0s 24ms/step - loss: 5.5339 - acc: 0.0625\n",
      "Epoch 1/1\n",
      "8/8 [==============================] - 1s 98ms/step - loss: 19.5463 - model_1_loss: 0.0025 - conv2d_20_loss: 0.1390\n",
      "\n",
      "Epoch 00001: loss did not improve from 18.44878\n"
     ]
    },
    {
     "name": "stderr",
     "output_type": "stream",
     "text": [
      "\n",
      "\n",
      "\n",
      "44it [03:00,  4.09s/it]\u001b[A\u001b[A\u001b[A"
     ]
    },
    {
     "name": "stdout",
     "output_type": "stream",
     "text": [
      "iteration : 44\n",
      "Epoch 1/1\n",
      " 8/16 [==============>...............] - ETA: 0s - loss: 5.0031 - acc: 0.2500"
     ]
    },
    {
     "name": "stderr",
     "output_type": "stream",
     "text": [
      "/opt/conda/lib/python3.6/site-packages/keras/engine/training.py:490: UserWarning: Discrepancy between trainable weights and collected trainable weights, did you set `model.trainable` without calling `model.compile` after ?\n",
      "  'Discrepancy between trainable weights and collected trainable'\n"
     ]
    },
    {
     "name": "stdout",
     "output_type": "stream",
     "text": [
      "16/16 [==============================] - 0s 23ms/step - loss: 6.4177 - acc: 0.1875\n",
      "Epoch 1/1\n",
      "8/8 [==============================] - 1s 97ms/step - loss: 18.5200 - model_1_loss: 7.0380e-04 - conv2d_20_loss: 0.1288\n",
      "\n",
      "Epoch 00001: loss did not improve from 18.44878\n"
     ]
    },
    {
     "name": "stderr",
     "output_type": "stream",
     "text": [
      "\n",
      "\n",
      "\n",
      "45it [03:04,  4.08s/it]\u001b[A\u001b[A\u001b[A"
     ]
    },
    {
     "name": "stdout",
     "output_type": "stream",
     "text": [
      "iteration : 45\n",
      "Epoch 1/1\n",
      " 8/16 [==============>...............] - ETA: 0s - loss: 7.1263 - acc: 0.1250"
     ]
    },
    {
     "name": "stderr",
     "output_type": "stream",
     "text": [
      "/opt/conda/lib/python3.6/site-packages/keras/engine/training.py:490: UserWarning: Discrepancy between trainable weights and collected trainable weights, did you set `model.trainable` without calling `model.compile` after ?\n",
      "  'Discrepancy between trainable weights and collected trainable'\n"
     ]
    },
    {
     "name": "stdout",
     "output_type": "stream",
     "text": [
      "16/16 [==============================] - 0s 24ms/step - loss: 6.5143 - acc: 0.0625\n",
      "Epoch 1/1\n",
      "8/8 [==============================] - 1s 98ms/step - loss: 19.7165 - model_1_loss: 0.0016 - conv2d_20_loss: 0.1407\n",
      "\n",
      "Epoch 00001: loss did not improve from 18.44878\n"
     ]
    },
    {
     "name": "stderr",
     "output_type": "stream",
     "text": [
      "\n",
      "\n",
      "\n",
      "46it [03:08,  4.09s/it]\u001b[A\u001b[A\u001b[A"
     ]
    },
    {
     "name": "stdout",
     "output_type": "stream",
     "text": [
      "iteration : 46\n",
      "Epoch 1/1\n",
      " 8/16 [==============>...............] - ETA: 0s - loss: 5.3618 - acc: 0.3750"
     ]
    },
    {
     "name": "stderr",
     "output_type": "stream",
     "text": [
      "/opt/conda/lib/python3.6/site-packages/keras/engine/training.py:490: UserWarning: Discrepancy between trainable weights and collected trainable weights, did you set `model.trainable` without calling `model.compile` after ?\n",
      "  'Discrepancy between trainable weights and collected trainable'\n"
     ]
    },
    {
     "name": "stdout",
     "output_type": "stream",
     "text": [
      "16/16 [==============================] - 0s 23ms/step - loss: 6.3797 - acc: 0.3125\n",
      "Epoch 1/1\n",
      "8/8 [==============================] - 1s 97ms/step - loss: 20.2864 - model_1_loss: 0.0043 - conv2d_20_loss: 0.1463\n",
      "\n",
      "Epoch 00001: loss did not improve from 18.44878\n"
     ]
    },
    {
     "name": "stderr",
     "output_type": "stream",
     "text": [
      "\n",
      "\n",
      "\n",
      "47it [03:12,  4.08s/it]\u001b[A\u001b[A\u001b[A"
     ]
    },
    {
     "name": "stdout",
     "output_type": "stream",
     "text": [
      "iteration : 47\n",
      "Epoch 1/1\n",
      " 8/16 [==============>...............] - ETA: 0s - loss: 4.7286 - acc: 0.2500"
     ]
    },
    {
     "name": "stderr",
     "output_type": "stream",
     "text": [
      "/opt/conda/lib/python3.6/site-packages/keras/engine/training.py:490: UserWarning: Discrepancy between trainable weights and collected trainable weights, did you set `model.trainable` without calling `model.compile` after ?\n",
      "  'Discrepancy between trainable weights and collected trainable'\n"
     ]
    },
    {
     "name": "stdout",
     "output_type": "stream",
     "text": [
      "16/16 [==============================] - 0s 24ms/step - loss: 4.6211 - acc: 0.1875\n",
      "Epoch 1/1\n",
      "8/8 [==============================] - 1s 98ms/step - loss: 22.6399 - model_1_loss: 0.0948 - conv2d_20_loss: 0.1653\n",
      "\n",
      "Epoch 00001: loss did not improve from 18.44878\n"
     ]
    },
    {
     "name": "stderr",
     "output_type": "stream",
     "text": [
      "\n",
      "\n",
      "\n",
      "48it [03:16,  4.09s/it]\u001b[A\u001b[A\u001b[A"
     ]
    },
    {
     "name": "stdout",
     "output_type": "stream",
     "text": [
      "iteration : 48\n",
      "Epoch 1/1\n",
      " 8/16 [==============>...............] - ETA: 0s - loss: 6.9049 - acc: 0.0000e+00"
     ]
    },
    {
     "name": "stderr",
     "output_type": "stream",
     "text": [
      "/opt/conda/lib/python3.6/site-packages/keras/engine/training.py:490: UserWarning: Discrepancy between trainable weights and collected trainable weights, did you set `model.trainable` without calling `model.compile` after ?\n",
      "  'Discrepancy between trainable weights and collected trainable'\n"
     ]
    },
    {
     "name": "stdout",
     "output_type": "stream",
     "text": [
      "16/16 [==============================] - 0s 23ms/step - loss: 6.1945 - acc: 0.0625\n",
      "Epoch 1/1\n",
      "8/8 [==============================] - 1s 97ms/step - loss: 19.5197 - model_1_loss: 4.1015e-04 - conv2d_20_loss: 0.1388\n",
      "\n",
      "Epoch 00001: loss did not improve from 18.44878\n"
     ]
    },
    {
     "name": "stderr",
     "output_type": "stream",
     "text": [
      "\n",
      "\n",
      "\n",
      "49it [03:20,  4.08s/it]\u001b[A\u001b[A\u001b[A"
     ]
    },
    {
     "name": "stdout",
     "output_type": "stream",
     "text": [
      "iteration : 49\n",
      "Epoch 1/1\n",
      " 8/16 [==============>...............] - ETA: 0s - loss: 6.6529 - acc: 0.1250"
     ]
    },
    {
     "name": "stderr",
     "output_type": "stream",
     "text": [
      "/opt/conda/lib/python3.6/site-packages/keras/engine/training.py:490: UserWarning: Discrepancy between trainable weights and collected trainable weights, did you set `model.trainable` without calling `model.compile` after ?\n",
      "  'Discrepancy between trainable weights and collected trainable'\n"
     ]
    },
    {
     "name": "stdout",
     "output_type": "stream",
     "text": [
      "16/16 [==============================] - 0s 24ms/step - loss: 5.6787 - acc: 0.3125\n",
      "Epoch 1/1\n",
      "8/8 [==============================] - 1s 98ms/step - loss: 21.6185 - model_1_loss: 0.0054 - conv2d_20_loss: 0.1596\n",
      "\n",
      "Epoch 00001: loss did not improve from 18.44878\n"
     ]
    },
    {
     "name": "stderr",
     "output_type": "stream",
     "text": [
      "\n",
      "\n",
      "\n",
      "50it [03:24,  4.08s/it]\u001b[A\u001b[A\u001b[A"
     ]
    },
    {
     "name": "stdout",
     "output_type": "stream",
     "text": [
      "iteration : 50\n",
      "Epoch 1/1\n",
      " 8/16 [==============>...............] - ETA: 0s - loss: 7.8178 - acc: 0.2500"
     ]
    },
    {
     "name": "stderr",
     "output_type": "stream",
     "text": [
      "/opt/conda/lib/python3.6/site-packages/keras/engine/training.py:490: UserWarning: Discrepancy between trainable weights and collected trainable weights, did you set `model.trainable` without calling `model.compile` after ?\n",
      "  'Discrepancy between trainable weights and collected trainable'\n"
     ]
    },
    {
     "name": "stdout",
     "output_type": "stream",
     "text": [
      "16/16 [==============================] - 0s 24ms/step - loss: 6.5049 - acc: 0.1875\n",
      "Epoch 1/1\n",
      "8/8 [==============================] - 1s 97ms/step - loss: 21.0578 - model_1_loss: 0.0016 - conv2d_20_loss: 0.1541\n",
      "\n",
      "Epoch 00001: loss did not improve from 18.44878\n"
     ]
    },
    {
     "name": "stderr",
     "output_type": "stream",
     "text": [
      "\n",
      "\n",
      "\n",
      "51it [03:28,  4.09s/it]\u001b[A\u001b[A\u001b[A"
     ]
    },
    {
     "name": "stdout",
     "output_type": "stream",
     "text": [
      "iteration : 51\n",
      "Epoch 1/1\n",
      " 8/16 [==============>...............] - ETA: 0s - loss: 5.3807 - acc: 0.1250"
     ]
    },
    {
     "name": "stderr",
     "output_type": "stream",
     "text": [
      "/opt/conda/lib/python3.6/site-packages/keras/engine/training.py:490: UserWarning: Discrepancy between trainable weights and collected trainable weights, did you set `model.trainable` without calling `model.compile` after ?\n",
      "  'Discrepancy between trainable weights and collected trainable'\n"
     ]
    },
    {
     "name": "stdout",
     "output_type": "stream",
     "text": [
      "16/16 [==============================] - 0s 24ms/step - loss: 5.5919 - acc: 0.1250\n",
      "Epoch 1/1\n",
      "8/8 [==============================] - 1s 98ms/step - loss: 19.0871 - model_1_loss: 0.0024 - conv2d_20_loss: 0.1344\n",
      "\n",
      "Epoch 00001: loss did not improve from 18.44878\n"
     ]
    },
    {
     "name": "stderr",
     "output_type": "stream",
     "text": [
      "\n",
      "\n",
      "\n",
      "52it [03:32,  4.08s/it]\u001b[A\u001b[A\u001b[A"
     ]
    },
    {
     "name": "stdout",
     "output_type": "stream",
     "text": [
      "iteration : 52\n",
      "Epoch 1/1\n",
      " 8/16 [==============>...............] - ETA: 0s - loss: 7.4242 - acc: 0.0000e+00"
     ]
    },
    {
     "name": "stderr",
     "output_type": "stream",
     "text": [
      "/opt/conda/lib/python3.6/site-packages/keras/engine/training.py:490: UserWarning: Discrepancy between trainable weights and collected trainable weights, did you set `model.trainable` without calling `model.compile` after ?\n",
      "  'Discrepancy between trainable weights and collected trainable'\n"
     ]
    },
    {
     "name": "stdout",
     "output_type": "stream",
     "text": [
      "16/16 [==============================] - 0s 23ms/step - loss: 6.8532 - acc: 0.1250\n",
      "Epoch 1/1\n",
      "8/8 [==============================] - 1s 97ms/step - loss: 18.5408 - model_1_loss: 6.2956e-04 - conv2d_20_loss: 0.1290\n",
      "\n",
      "Epoch 00001: loss did not improve from 18.44878\n"
     ]
    },
    {
     "name": "stderr",
     "output_type": "stream",
     "text": [
      "\n",
      "\n",
      "\n",
      "53it [03:36,  4.08s/it]\u001b[A\u001b[A\u001b[A"
     ]
    },
    {
     "name": "stdout",
     "output_type": "stream",
     "text": [
      "iteration : 53\n",
      "Epoch 1/1\n",
      " 8/16 [==============>...............] - ETA: 0s - loss: 4.5126 - acc: 0.2500"
     ]
    },
    {
     "name": "stderr",
     "output_type": "stream",
     "text": [
      "/opt/conda/lib/python3.6/site-packages/keras/engine/training.py:490: UserWarning: Discrepancy between trainable weights and collected trainable weights, did you set `model.trainable` without calling `model.compile` after ?\n",
      "  'Discrepancy between trainable weights and collected trainable'\n"
     ]
    },
    {
     "name": "stdout",
     "output_type": "stream",
     "text": [
      "16/16 [==============================] - 0s 24ms/step - loss: 5.0100 - acc: 0.2500\n",
      "Epoch 1/1\n",
      "8/8 [==============================] - 1s 98ms/step - loss: 19.0315 - model_1_loss: 0.0064 - conv2d_20_loss: 0.1336\n",
      "\n",
      "Epoch 00001: loss did not improve from 18.44878\n"
     ]
    },
    {
     "name": "stderr",
     "output_type": "stream",
     "text": [
      "\n",
      "\n",
      "\n",
      "54it [03:40,  4.10s/it]\u001b[A\u001b[A\u001b[A"
     ]
    },
    {
     "name": "stdout",
     "output_type": "stream",
     "text": [
      "iteration : 54\n",
      "Epoch 1/1\n",
      " 8/16 [==============>...............] - ETA: 0s - loss: 5.2773 - acc: 0.3750"
     ]
    },
    {
     "name": "stderr",
     "output_type": "stream",
     "text": [
      "/opt/conda/lib/python3.6/site-packages/keras/engine/training.py:490: UserWarning: Discrepancy between trainable weights and collected trainable weights, did you set `model.trainable` without calling `model.compile` after ?\n",
      "  'Discrepancy between trainable weights and collected trainable'\n"
     ]
    },
    {
     "name": "stdout",
     "output_type": "stream",
     "text": [
      "16/16 [==============================] - 0s 23ms/step - loss: 4.5657 - acc: 0.2500\n",
      "Epoch 1/1\n",
      "8/8 [==============================] - 1s 97ms/step - loss: 19.7766 - model_1_loss: 0.0104 - conv2d_20_loss: 0.1409\n",
      "\n",
      "Epoch 00001: loss did not improve from 18.44878\n"
     ]
    },
    {
     "name": "stderr",
     "output_type": "stream",
     "text": [
      "\n",
      "\n",
      "\n",
      "55it [03:44,  4.08s/it]\u001b[A\u001b[A\u001b[A"
     ]
    },
    {
     "name": "stdout",
     "output_type": "stream",
     "text": [
      "iteration : 55\n",
      "Epoch 1/1\n",
      " 8/16 [==============>...............] - ETA: 0s - loss: 5.7373 - acc: 0.2500"
     ]
    },
    {
     "name": "stderr",
     "output_type": "stream",
     "text": [
      "/opt/conda/lib/python3.6/site-packages/keras/engine/training.py:490: UserWarning: Discrepancy between trainable weights and collected trainable weights, did you set `model.trainable` without calling `model.compile` after ?\n",
      "  'Discrepancy between trainable weights and collected trainable'\n"
     ]
    },
    {
     "name": "stdout",
     "output_type": "stream",
     "text": [
      "16/16 [==============================] - 0s 24ms/step - loss: 5.0256 - acc: 0.3125\n",
      "Epoch 1/1\n",
      "8/8 [==============================] - 1s 98ms/step - loss: 19.6613 - model_1_loss: 0.0108 - conv2d_20_loss: 0.1397\n",
      "\n",
      "Epoch 00001: loss did not improve from 18.44878\n"
     ]
    },
    {
     "name": "stderr",
     "output_type": "stream",
     "text": [
      "\n",
      "\n",
      "\n",
      "56it [03:49,  4.09s/it]\u001b[A\u001b[A\u001b[A"
     ]
    },
    {
     "name": "stdout",
     "output_type": "stream",
     "text": [
      "iteration : 56\n",
      "Epoch 1/1\n",
      " 8/16 [==============>...............] - ETA: 0s - loss: 5.3503 - acc: 0.1250"
     ]
    },
    {
     "name": "stderr",
     "output_type": "stream",
     "text": [
      "/opt/conda/lib/python3.6/site-packages/keras/engine/training.py:490: UserWarning: Discrepancy between trainable weights and collected trainable weights, did you set `model.trainable` without calling `model.compile` after ?\n",
      "  'Discrepancy between trainable weights and collected trainable'\n"
     ]
    },
    {
     "name": "stdout",
     "output_type": "stream",
     "text": [
      "16/16 [==============================] - 0s 23ms/step - loss: 6.1546 - acc: 0.1875\n",
      "Epoch 1/1\n",
      "8/8 [==============================] - 1s 97ms/step - loss: 18.7748 - model_1_loss: 0.0048 - conv2d_20_loss: 0.1312\n",
      "\n",
      "Epoch 00001: loss did not improve from 18.44878\n"
     ]
    },
    {
     "name": "stderr",
     "output_type": "stream",
     "text": [
      "\n",
      "\n",
      "\n",
      "57it [03:53,  4.08s/it]\u001b[A\u001b[A\u001b[A"
     ]
    },
    {
     "name": "stdout",
     "output_type": "stream",
     "text": [
      "iteration : 57\n",
      "Epoch 1/1\n",
      " 8/16 [==============>...............] - ETA: 0s - loss: 4.0406 - acc: 0.2500"
     ]
    },
    {
     "name": "stderr",
     "output_type": "stream",
     "text": [
      "/opt/conda/lib/python3.6/site-packages/keras/engine/training.py:490: UserWarning: Discrepancy between trainable weights and collected trainable weights, did you set `model.trainable` without calling `model.compile` after ?\n",
      "  'Discrepancy between trainable weights and collected trainable'\n"
     ]
    },
    {
     "name": "stdout",
     "output_type": "stream",
     "text": [
      "16/16 [==============================] - 0s 24ms/step - loss: 6.4535 - acc: 0.1875\n",
      "Epoch 1/1\n",
      "8/8 [==============================] - 1s 98ms/step - loss: 19.3081 - model_1_loss: 0.0026 - conv2d_20_loss: 0.1366\n",
      "\n",
      "Epoch 00001: loss did not improve from 18.44878\n"
     ]
    },
    {
     "name": "stderr",
     "output_type": "stream",
     "text": [
      "\n",
      "\n",
      "\n",
      "58it [03:57,  4.09s/it]\u001b[A\u001b[A\u001b[A"
     ]
    },
    {
     "name": "stdout",
     "output_type": "stream",
     "text": [
      "iteration : 58\n",
      "Epoch 1/1\n",
      " 8/16 [==============>...............] - ETA: 0s - loss: 4.9646 - acc: 0.2500"
     ]
    },
    {
     "name": "stderr",
     "output_type": "stream",
     "text": [
      "/opt/conda/lib/python3.6/site-packages/keras/engine/training.py:490: UserWarning: Discrepancy between trainable weights and collected trainable weights, did you set `model.trainable` without calling `model.compile` after ?\n",
      "  'Discrepancy between trainable weights and collected trainable'\n"
     ]
    },
    {
     "name": "stdout",
     "output_type": "stream",
     "text": [
      "16/16 [==============================] - 0s 23ms/step - loss: 6.1351 - acc: 0.2500\n",
      "Epoch 1/1\n",
      "8/8 [==============================] - 1s 97ms/step - loss: 18.7827 - model_1_loss: 0.0048 - conv2d_20_loss: 0.1312\n",
      "\n",
      "Epoch 00001: loss did not improve from 18.44878\n"
     ]
    },
    {
     "name": "stderr",
     "output_type": "stream",
     "text": [
      "\n",
      "\n",
      "\n",
      "59it [04:01,  4.08s/it]\u001b[A\u001b[A\u001b[A"
     ]
    },
    {
     "name": "stdout",
     "output_type": "stream",
     "text": [
      "iteration : 59\n",
      "Epoch 1/1\n",
      " 8/16 [==============>...............] - ETA: 0s - loss: 3.9755 - acc: 0.3750"
     ]
    },
    {
     "name": "stderr",
     "output_type": "stream",
     "text": [
      "/opt/conda/lib/python3.6/site-packages/keras/engine/training.py:490: UserWarning: Discrepancy between trainable weights and collected trainable weights, did you set `model.trainable` without calling `model.compile` after ?\n",
      "  'Discrepancy between trainable weights and collected trainable'\n"
     ]
    },
    {
     "name": "stdout",
     "output_type": "stream",
     "text": [
      "16/16 [==============================] - 0s 24ms/step - loss: 5.1817 - acc: 0.3125\n",
      "Epoch 1/1\n",
      "8/8 [==============================] - 1s 98ms/step - loss: 19.1765 - model_1_loss: 0.0072 - conv2d_20_loss: 0.1351\n",
      "\n",
      "Epoch 00001: loss did not improve from 18.44878\n"
     ]
    },
    {
     "name": "stderr",
     "output_type": "stream",
     "text": [
      "\n",
      "\n",
      "\n",
      "60it [04:05,  4.09s/it]\u001b[A\u001b[A\u001b[A"
     ]
    },
    {
     "name": "stdout",
     "output_type": "stream",
     "text": [
      "iteration : 60\n",
      "Epoch 1/1\n",
      " 8/16 [==============>...............] - ETA: 0s - loss: 6.6568 - acc: 0.1250"
     ]
    },
    {
     "name": "stderr",
     "output_type": "stream",
     "text": [
      "/opt/conda/lib/python3.6/site-packages/keras/engine/training.py:490: UserWarning: Discrepancy between trainable weights and collected trainable weights, did you set `model.trainable` without calling `model.compile` after ?\n",
      "  'Discrepancy between trainable weights and collected trainable'\n"
     ]
    },
    {
     "name": "stdout",
     "output_type": "stream",
     "text": [
      "16/16 [==============================] - 0s 23ms/step - loss: 5.7168 - acc: 0.1250\n",
      "Epoch 1/1\n",
      "8/8 [==============================] - 1s 97ms/step - loss: 18.2982 - model_1_loss: 0.0048 - conv2d_20_loss: 0.1264\n",
      "\n",
      "Epoch 00001: loss improved from 18.44878 to 18.29823, saving model to weights-improvement.hdf5\n"
     ]
    },
    {
     "name": "stderr",
     "output_type": "stream",
     "text": [
      "\n",
      "\n",
      "\n",
      "61it [04:10,  4.25s/it]\u001b[A\u001b[A\u001b[A"
     ]
    },
    {
     "name": "stdout",
     "output_type": "stream",
     "text": [
      "iteration : 61\n",
      "Epoch 1/1\n",
      " 8/16 [==============>...............] - ETA: 0s - loss: 2.9398 - acc: 0.5000"
     ]
    },
    {
     "name": "stderr",
     "output_type": "stream",
     "text": [
      "/opt/conda/lib/python3.6/site-packages/keras/engine/training.py:490: UserWarning: Discrepancy between trainable weights and collected trainable weights, did you set `model.trainable` without calling `model.compile` after ?\n",
      "  'Discrepancy between trainable weights and collected trainable'\n"
     ]
    },
    {
     "name": "stdout",
     "output_type": "stream",
     "text": [
      "16/16 [==============================] - 0s 24ms/step - loss: 5.0260 - acc: 0.2500\n",
      "Epoch 1/1\n",
      "8/8 [==============================] - 1s 98ms/step - loss: 19.4007 - model_1_loss: 8.2508e-04 - conv2d_20_loss: 0.1376\n",
      "\n",
      "Epoch 00001: loss did not improve from 18.29823\n"
     ]
    },
    {
     "name": "stderr",
     "output_type": "stream",
     "text": [
      "\n",
      "\n",
      "\n",
      "62it [04:14,  4.26s/it]\u001b[A\u001b[A\u001b[A"
     ]
    },
    {
     "name": "stdout",
     "output_type": "stream",
     "text": [
      "iteration : 62\n",
      "Epoch 1/1\n",
      " 8/16 [==============>...............] - ETA: 0s - loss: 6.7338 - acc: 0.2500"
     ]
    },
    {
     "name": "stderr",
     "output_type": "stream",
     "text": [
      "/opt/conda/lib/python3.6/site-packages/keras/engine/training.py:490: UserWarning: Discrepancy between trainable weights and collected trainable weights, did you set `model.trainable` without calling `model.compile` after ?\n",
      "  'Discrepancy between trainable weights and collected trainable'\n"
     ]
    },
    {
     "name": "stdout",
     "output_type": "stream",
     "text": [
      "16/16 [==============================] - 0s 23ms/step - loss: 5.9409 - acc: 0.3125\n",
      "Epoch 1/1\n",
      "8/8 [==============================] - 1s 97ms/step - loss: 19.6223 - model_1_loss: 0.0030 - conv2d_20_loss: 0.1397\n",
      "\n",
      "Epoch 00001: loss did not improve from 18.29823\n"
     ]
    },
    {
     "name": "stderr",
     "output_type": "stream",
     "text": [
      "\n",
      "\n",
      "\n",
      "63it [04:18,  4.21s/it]\u001b[A\u001b[A\u001b[A"
     ]
    },
    {
     "name": "stdout",
     "output_type": "stream",
     "text": [
      "iteration : 63\n",
      "Epoch 1/1\n",
      " 8/16 [==============>...............] - ETA: 0s - loss: 5.9997 - acc: 0.0000e+00"
     ]
    },
    {
     "name": "stderr",
     "output_type": "stream",
     "text": [
      "/opt/conda/lib/python3.6/site-packages/keras/engine/training.py:490: UserWarning: Discrepancy between trainable weights and collected trainable weights, did you set `model.trainable` without calling `model.compile` after ?\n",
      "  'Discrepancy between trainable weights and collected trainable'\n"
     ]
    },
    {
     "name": "stdout",
     "output_type": "stream",
     "text": [
      "16/16 [==============================] - 0s 24ms/step - loss: 7.0328 - acc: 0.0625\n",
      "Epoch 1/1\n",
      "8/8 [==============================] - 1s 98ms/step - loss: 18.9421 - model_1_loss: 1.7130e-04 - conv2d_20_loss: 0.1331\n",
      "\n",
      "Epoch 00001: loss did not improve from 18.29823\n"
     ]
    },
    {
     "name": "stderr",
     "output_type": "stream",
     "text": [
      "\n",
      "\n",
      "\n",
      "64it [04:22,  4.17s/it]\u001b[A\u001b[A\u001b[A"
     ]
    },
    {
     "name": "stdout",
     "output_type": "stream",
     "text": [
      "iteration : 64\n",
      "Epoch 1/1\n",
      " 8/16 [==============>...............] - ETA: 0s - loss: 4.0676 - acc: 0.3750"
     ]
    },
    {
     "name": "stderr",
     "output_type": "stream",
     "text": [
      "/opt/conda/lib/python3.6/site-packages/keras/engine/training.py:490: UserWarning: Discrepancy between trainable weights and collected trainable weights, did you set `model.trainable` without calling `model.compile` after ?\n",
      "  'Discrepancy between trainable weights and collected trainable'\n"
     ]
    },
    {
     "name": "stdout",
     "output_type": "stream",
     "text": [
      "16/16 [==============================] - 0s 23ms/step - loss: 5.6315 - acc: 0.2500\n",
      "Epoch 1/1\n",
      "8/8 [==============================] - 1s 97ms/step - loss: 18.7427 - model_1_loss: 0.0242 - conv2d_20_loss: 0.1299\n",
      "\n",
      "Epoch 00001: loss did not improve from 18.29823\n"
     ]
    },
    {
     "name": "stderr",
     "output_type": "stream",
     "text": [
      "\n",
      "\n",
      "\n",
      "65it [04:26,  4.15s/it]\u001b[A\u001b[A\u001b[A"
     ]
    },
    {
     "name": "stdout",
     "output_type": "stream",
     "text": [
      "iteration : 65\n",
      "Epoch 1/1\n",
      " 8/16 [==============>...............] - ETA: 0s - loss: 5.4315 - acc: 0.1250"
     ]
    },
    {
     "name": "stderr",
     "output_type": "stream",
     "text": [
      "/opt/conda/lib/python3.6/site-packages/keras/engine/training.py:490: UserWarning: Discrepancy between trainable weights and collected trainable weights, did you set `model.trainable` without calling `model.compile` after ?\n",
      "  'Discrepancy between trainable weights and collected trainable'\n"
     ]
    },
    {
     "name": "stdout",
     "output_type": "stream",
     "text": [
      "16/16 [==============================] - 0s 24ms/step - loss: 6.2098 - acc: 0.1250\n",
      "Epoch 1/1\n",
      "8/8 [==============================] - 1s 98ms/step - loss: 18.9189 - model_1_loss: 0.0035 - conv2d_20_loss: 0.1327\n",
      "\n",
      "Epoch 00001: loss did not improve from 18.29823\n"
     ]
    },
    {
     "name": "stderr",
     "output_type": "stream",
     "text": [
      "\n",
      "\n",
      "\n",
      "66it [04:30,  4.14s/it]\u001b[A\u001b[A\u001b[A"
     ]
    },
    {
     "name": "stdout",
     "output_type": "stream",
     "text": [
      "iteration : 66\n",
      "Epoch 1/1\n",
      " 8/16 [==============>...............] - ETA: 0s - loss: 6.0706 - acc: 0.2500"
     ]
    },
    {
     "name": "stderr",
     "output_type": "stream",
     "text": [
      "/opt/conda/lib/python3.6/site-packages/keras/engine/training.py:490: UserWarning: Discrepancy between trainable weights and collected trainable weights, did you set `model.trainable` without calling `model.compile` after ?\n",
      "  'Discrepancy between trainable weights and collected trainable'\n"
     ]
    },
    {
     "name": "stdout",
     "output_type": "stream",
     "text": [
      "16/16 [==============================] - 0s 23ms/step - loss: 6.1194 - acc: 0.3125\n",
      "Epoch 1/1\n",
      "8/8 [==============================] - 1s 97ms/step - loss: 21.2251 - model_1_loss: 0.0189 - conv2d_20_loss: 0.1550\n",
      "\n",
      "Epoch 00001: loss did not improve from 18.29823\n"
     ]
    },
    {
     "name": "stderr",
     "output_type": "stream",
     "text": [
      "\n",
      "\n",
      "\n",
      "67it [04:34,  4.12s/it]\u001b[A\u001b[A\u001b[A"
     ]
    },
    {
     "name": "stdout",
     "output_type": "stream",
     "text": [
      "iteration : 67\n",
      "Epoch 1/1\n",
      " 8/16 [==============>...............] - ETA: 0s - loss: 6.4014 - acc: 0.2500"
     ]
    },
    {
     "name": "stderr",
     "output_type": "stream",
     "text": [
      "/opt/conda/lib/python3.6/site-packages/keras/engine/training.py:490: UserWarning: Discrepancy between trainable weights and collected trainable weights, did you set `model.trainable` without calling `model.compile` after ?\n",
      "  'Discrepancy between trainable weights and collected trainable'\n"
     ]
    },
    {
     "name": "stdout",
     "output_type": "stream",
     "text": [
      "16/16 [==============================] - 0s 24ms/step - loss: 5.7765 - acc: 0.1250\n",
      "Epoch 1/1\n",
      "8/8 [==============================] - 1s 98ms/step - loss: 21.3723 - model_1_loss: 0.0055 - conv2d_20_loss: 0.1571\n",
      "\n",
      "Epoch 00001: loss did not improve from 18.29823\n"
     ]
    },
    {
     "name": "stderr",
     "output_type": "stream",
     "text": [
      "\n",
      "\n",
      "\n",
      "68it [04:38,  4.12s/it]\u001b[A\u001b[A\u001b[A"
     ]
    },
    {
     "name": "stdout",
     "output_type": "stream",
     "text": [
      "iteration : 68\n",
      "Epoch 1/1\n",
      " 8/16 [==============>...............] - ETA: 0s - loss: 7.2186 - acc: 0.0000e+00"
     ]
    },
    {
     "name": "stderr",
     "output_type": "stream",
     "text": [
      "/opt/conda/lib/python3.6/site-packages/keras/engine/training.py:490: UserWarning: Discrepancy between trainable weights and collected trainable weights, did you set `model.trainable` without calling `model.compile` after ?\n",
      "  'Discrepancy between trainable weights and collected trainable'\n"
     ]
    },
    {
     "name": "stdout",
     "output_type": "stream",
     "text": [
      "16/16 [==============================] - 0s 23ms/step - loss: 6.4801 - acc: 0.1250\n",
      "Epoch 1/1\n",
      "8/8 [==============================] - 1s 97ms/step - loss: 18.4679 - model_1_loss: 0.0163 - conv2d_20_loss: 0.1275\n",
      "\n",
      "Epoch 00001: loss did not improve from 18.29823\n"
     ]
    },
    {
     "name": "stderr",
     "output_type": "stream",
     "text": [
      "\n",
      "\n",
      "\n",
      "69it [04:42,  4.11s/it]\u001b[A\u001b[A\u001b[A"
     ]
    },
    {
     "name": "stdout",
     "output_type": "stream",
     "text": [
      "iteration : 69\n",
      "Epoch 1/1\n",
      " 8/16 [==============>...............] - ETA: 0s - loss: 5.3448 - acc: 0.2500"
     ]
    },
    {
     "name": "stderr",
     "output_type": "stream",
     "text": [
      "/opt/conda/lib/python3.6/site-packages/keras/engine/training.py:490: UserWarning: Discrepancy between trainable weights and collected trainable weights, did you set `model.trainable` without calling `model.compile` after ?\n",
      "  'Discrepancy between trainable weights and collected trainable'\n"
     ]
    },
    {
     "name": "stdout",
     "output_type": "stream",
     "text": [
      "16/16 [==============================] - 0s 24ms/step - loss: 5.7171 - acc: 0.1250\n",
      "Epoch 1/1\n",
      "8/8 [==============================] - 1s 98ms/step - loss: 22.8114 - model_1_loss: 0.0018 - conv2d_20_loss: 0.1717\n",
      "\n",
      "Epoch 00001: loss did not improve from 18.29823\n"
     ]
    },
    {
     "name": "stderr",
     "output_type": "stream",
     "text": [
      "\n",
      "\n",
      "\n",
      "70it [04:47,  4.10s/it]\u001b[A\u001b[A\u001b[A"
     ]
    },
    {
     "name": "stdout",
     "output_type": "stream",
     "text": [
      "iteration : 70\n",
      "Epoch 1/1\n",
      " 8/16 [==============>...............] - ETA: 0s - loss: 6.6071 - acc: 0.1250"
     ]
    },
    {
     "name": "stderr",
     "output_type": "stream",
     "text": [
      "/opt/conda/lib/python3.6/site-packages/keras/engine/training.py:490: UserWarning: Discrepancy between trainable weights and collected trainable weights, did you set `model.trainable` without calling `model.compile` after ?\n",
      "  'Discrepancy between trainable weights and collected trainable'\n"
     ]
    },
    {
     "name": "stdout",
     "output_type": "stream",
     "text": [
      "16/16 [==============================] - 0s 23ms/step - loss: 6.5331 - acc: 0.1875\n",
      "Epoch 1/1\n",
      "8/8 [==============================] - 1s 97ms/step - loss: 18.2453 - model_1_loss: 7.8617e-04 - conv2d_20_loss: 0.1261\n",
      "\n",
      "Epoch 00001: loss improved from 18.29823 to 18.24533, saving model to weights-improvement.hdf5\n"
     ]
    },
    {
     "name": "stderr",
     "output_type": "stream",
     "text": [
      "\n",
      "\n",
      "\n",
      "71it [04:51,  4.27s/it]\u001b[A\u001b[A\u001b[A"
     ]
    },
    {
     "name": "stdout",
     "output_type": "stream",
     "text": [
      "iteration : 71\n",
      "Epoch 1/1\n",
      " 8/16 [==============>...............] - ETA: 0s - loss: 6.1402 - acc: 0.1250"
     ]
    },
    {
     "name": "stderr",
     "output_type": "stream",
     "text": [
      "/opt/conda/lib/python3.6/site-packages/keras/engine/training.py:490: UserWarning: Discrepancy between trainable weights and collected trainable weights, did you set `model.trainable` without calling `model.compile` after ?\n",
      "  'Discrepancy between trainable weights and collected trainable'\n"
     ]
    },
    {
     "name": "stdout",
     "output_type": "stream",
     "text": [
      "16/16 [==============================] - 0s 24ms/step - loss: 7.1396 - acc: 0.1875\n",
      "Epoch 1/1\n",
      "8/8 [==============================] - 1s 98ms/step - loss: 19.1109 - model_1_loss: 0.0031 - conv2d_20_loss: 0.1346\n",
      "\n",
      "Epoch 00001: loss did not improve from 18.24533\n"
     ]
    },
    {
     "name": "stderr",
     "output_type": "stream",
     "text": [
      "\n",
      "\n",
      "\n",
      "72it [04:56,  4.29s/it]\u001b[A\u001b[A\u001b[A"
     ]
    },
    {
     "name": "stdout",
     "output_type": "stream",
     "text": [
      "iteration : 72\n",
      "Epoch 1/1\n",
      " 8/16 [==============>...............] - ETA: 0s - loss: 8.6753 - acc: 0.0000e+00"
     ]
    },
    {
     "name": "stderr",
     "output_type": "stream",
     "text": [
      "/opt/conda/lib/python3.6/site-packages/keras/engine/training.py:490: UserWarning: Discrepancy between trainable weights and collected trainable weights, did you set `model.trainable` without calling `model.compile` after ?\n",
      "  'Discrepancy between trainable weights and collected trainable'\n"
     ]
    },
    {
     "name": "stdout",
     "output_type": "stream",
     "text": [
      "16/16 [==============================] - 0s 23ms/step - loss: 6.8572 - acc: 0.0625\n",
      "Epoch 1/1\n",
      "8/8 [==============================] - 1s 97ms/step - loss: 20.7885 - model_1_loss: 5.5985e-04 - conv2d_20_loss: 0.1515\n",
      "\n",
      "Epoch 00001: loss did not improve from 18.24533\n"
     ]
    },
    {
     "name": "stderr",
     "output_type": "stream",
     "text": [
      "\n",
      "\n",
      "\n",
      "73it [05:00,  4.21s/it]\u001b[A\u001b[A\u001b[A"
     ]
    },
    {
     "name": "stdout",
     "output_type": "stream",
     "text": [
      "iteration : 73\n",
      "Epoch 1/1\n",
      " 8/16 [==============>...............] - ETA: 0s - loss: 7.3194 - acc: 0.0000e+00"
     ]
    },
    {
     "name": "stderr",
     "output_type": "stream",
     "text": [
      "/opt/conda/lib/python3.6/site-packages/keras/engine/training.py:490: UserWarning: Discrepancy between trainable weights and collected trainable weights, did you set `model.trainable` without calling `model.compile` after ?\n",
      "  'Discrepancy between trainable weights and collected trainable'\n"
     ]
    },
    {
     "name": "stdout",
     "output_type": "stream",
     "text": [
      "16/16 [==============================] - 0s 23ms/step - loss: 6.7622 - acc: 0.0625\n",
      "Epoch 1/1\n",
      "8/8 [==============================] - 1s 98ms/step - loss: 22.0269 - model_1_loss: 0.0047 - conv2d_20_loss: 0.1637\n",
      "\n",
      "Epoch 00001: loss did not improve from 18.24533\n"
     ]
    },
    {
     "name": "stderr",
     "output_type": "stream",
     "text": [
      "\n",
      "\n",
      "\n",
      "74it [05:04,  4.17s/it]\u001b[A\u001b[A\u001b[A"
     ]
    },
    {
     "name": "stdout",
     "output_type": "stream",
     "text": [
      "iteration : 74\n",
      "Epoch 1/1\n",
      " 8/16 [==============>...............] - ETA: 0s - loss: 5.0276 - acc: 0.2500"
     ]
    },
    {
     "name": "stderr",
     "output_type": "stream",
     "text": [
      "/opt/conda/lib/python3.6/site-packages/keras/engine/training.py:490: UserWarning: Discrepancy between trainable weights and collected trainable weights, did you set `model.trainable` without calling `model.compile` after ?\n",
      "  'Discrepancy between trainable weights and collected trainable'\n"
     ]
    },
    {
     "name": "stdout",
     "output_type": "stream",
     "text": [
      "16/16 [==============================] - 0s 23ms/step - loss: 5.6122 - acc: 0.1250\n",
      "Epoch 1/1\n",
      "8/8 [==============================] - 1s 97ms/step - loss: 19.4754 - model_1_loss: 3.6285e-04 - conv2d_20_loss: 0.1384\n",
      "\n",
      "Epoch 00001: loss did not improve from 18.24533\n"
     ]
    },
    {
     "name": "stderr",
     "output_type": "stream",
     "text": [
      "\n",
      "\n",
      "\n",
      "75it [05:08,  4.14s/it]\u001b[A\u001b[A\u001b[A"
     ]
    },
    {
     "name": "stdout",
     "output_type": "stream",
     "text": [
      "iteration : 75\n",
      "Epoch 1/1\n",
      " 8/16 [==============>...............] - ETA: 0s - loss: 6.4688 - acc: 0.1250"
     ]
    },
    {
     "name": "stderr",
     "output_type": "stream",
     "text": [
      "/opt/conda/lib/python3.6/site-packages/keras/engine/training.py:490: UserWarning: Discrepancy between trainable weights and collected trainable weights, did you set `model.trainable` without calling `model.compile` after ?\n",
      "  'Discrepancy between trainable weights and collected trainable'\n"
     ]
    },
    {
     "name": "stdout",
     "output_type": "stream",
     "text": [
      "16/16 [==============================] - 0s 24ms/step - loss: 6.9828 - acc: 0.0625\n",
      "Epoch 1/1\n",
      "8/8 [==============================] - 1s 98ms/step - loss: 19.7062 - model_1_loss: 1.7929e-04 - conv2d_20_loss: 0.1407\n",
      "\n",
      "Epoch 00001: loss did not improve from 18.24533\n"
     ]
    },
    {
     "name": "stderr",
     "output_type": "stream",
     "text": [
      "\n",
      "\n",
      "\n",
      "76it [05:12,  4.13s/it]\u001b[A\u001b[A\u001b[A"
     ]
    },
    {
     "name": "stdout",
     "output_type": "stream",
     "text": [
      "iteration : 76\n",
      "Epoch 1/1\n",
      " 8/16 [==============>...............] - ETA: 0s - loss: 7.3545 - acc: 0.1250"
     ]
    },
    {
     "name": "stderr",
     "output_type": "stream",
     "text": [
      "/opt/conda/lib/python3.6/site-packages/keras/engine/training.py:490: UserWarning: Discrepancy between trainable weights and collected trainable weights, did you set `model.trainable` without calling `model.compile` after ?\n",
      "  'Discrepancy between trainable weights and collected trainable'\n"
     ]
    },
    {
     "name": "stdout",
     "output_type": "stream",
     "text": [
      "16/16 [==============================] - 0s 23ms/step - loss: 6.4035 - acc: 0.0625\n",
      "Epoch 1/1\n",
      "8/8 [==============================] - 1s 97ms/step - loss: 20.0343 - model_1_loss: 0.0113 - conv2d_20_loss: 0.1434\n",
      "\n",
      "Epoch 00001: loss did not improve from 18.24533\n"
     ]
    },
    {
     "name": "stderr",
     "output_type": "stream",
     "text": [
      "\n",
      "\n",
      "\n",
      "77it [05:16,  4.11s/it]\u001b[A\u001b[A\u001b[A"
     ]
    },
    {
     "name": "stdout",
     "output_type": "stream",
     "text": [
      "iteration : 77\n",
      "Epoch 1/1\n",
      " 8/16 [==============>...............] - ETA: 0s - loss: 8.3237 - acc: 0.1250"
     ]
    },
    {
     "name": "stderr",
     "output_type": "stream",
     "text": [
      "/opt/conda/lib/python3.6/site-packages/keras/engine/training.py:490: UserWarning: Discrepancy between trainable weights and collected trainable weights, did you set `model.trainable` without calling `model.compile` after ?\n",
      "  'Discrepancy between trainable weights and collected trainable'\n"
     ]
    },
    {
     "name": "stdout",
     "output_type": "stream",
     "text": [
      "16/16 [==============================] - 0s 24ms/step - loss: 7.9870 - acc: 0.1875\n",
      "Epoch 1/1\n",
      "8/8 [==============================] - 1s 98ms/step - loss: 18.3126 - model_1_loss: 4.9015e-04 - conv2d_20_loss: 0.1268\n",
      "\n",
      "Epoch 00001: loss did not improve from 18.24533\n"
     ]
    },
    {
     "name": "stderr",
     "output_type": "stream",
     "text": [
      "\n",
      "\n",
      "\n",
      "78it [05:20,  4.12s/it]\u001b[A\u001b[A\u001b[A"
     ]
    },
    {
     "name": "stdout",
     "output_type": "stream",
     "text": [
      "iteration : 78\n",
      "Epoch 1/1\n",
      " 8/16 [==============>...............] - ETA: 0s - loss: 7.0562 - acc: 0.0000e+00"
     ]
    },
    {
     "name": "stderr",
     "output_type": "stream",
     "text": [
      "/opt/conda/lib/python3.6/site-packages/keras/engine/training.py:490: UserWarning: Discrepancy between trainable weights and collected trainable weights, did you set `model.trainable` without calling `model.compile` after ?\n",
      "  'Discrepancy between trainable weights and collected trainable'\n"
     ]
    },
    {
     "name": "stdout",
     "output_type": "stream",
     "text": [
      "16/16 [==============================] - 0s 23ms/step - loss: 6.9748 - acc: 0.0625\n",
      "Epoch 1/1\n",
      "8/8 [==============================] - 1s 97ms/step - loss: 19.3221 - model_1_loss: 2.6067e-04 - conv2d_20_loss: 0.1369\n",
      "\n",
      "Epoch 00001: loss did not improve from 18.24533\n"
     ]
    },
    {
     "name": "stderr",
     "output_type": "stream",
     "text": [
      "\n",
      "\n",
      "\n",
      "79it [05:24,  4.10s/it]\u001b[A\u001b[A\u001b[A"
     ]
    },
    {
     "name": "stdout",
     "output_type": "stream",
     "text": [
      "iteration : 79\n",
      "Epoch 1/1\n",
      " 8/16 [==============>...............] - ETA: 0s - loss: 6.4975 - acc: 0.0000e+00"
     ]
    },
    {
     "name": "stderr",
     "output_type": "stream",
     "text": [
      "/opt/conda/lib/python3.6/site-packages/keras/engine/training.py:490: UserWarning: Discrepancy between trainable weights and collected trainable weights, did you set `model.trainable` without calling `model.compile` after ?\n",
      "  'Discrepancy between trainable weights and collected trainable'\n"
     ]
    },
    {
     "name": "stdout",
     "output_type": "stream",
     "text": [
      "16/16 [==============================] - 0s 24ms/step - loss: 5.7000 - acc: 0.0625\n",
      "Epoch 1/1\n",
      "8/8 [==============================] - 1s 98ms/step - loss: 21.6959 - model_1_loss: 0.0027 - conv2d_20_loss: 0.1605\n",
      "\n",
      "Epoch 00001: loss did not improve from 18.24533\n"
     ]
    },
    {
     "name": "stderr",
     "output_type": "stream",
     "text": [
      "\n",
      "\n",
      "\n",
      "80it [05:28,  4.10s/it]\u001b[A\u001b[A\u001b[A"
     ]
    },
    {
     "name": "stdout",
     "output_type": "stream",
     "text": [
      "iteration : 80\n",
      "Epoch 1/1\n",
      " 8/16 [==============>...............] - ETA: 0s - loss: 10.5696 - acc: 0.0000e+00"
     ]
    },
    {
     "name": "stderr",
     "output_type": "stream",
     "text": [
      "/opt/conda/lib/python3.6/site-packages/keras/engine/training.py:490: UserWarning: Discrepancy between trainable weights and collected trainable weights, did you set `model.trainable` without calling `model.compile` after ?\n",
      "  'Discrepancy between trainable weights and collected trainable'\n"
     ]
    },
    {
     "name": "stdout",
     "output_type": "stream",
     "text": [
      "16/16 [==============================] - 0s 23ms/step - loss: 7.8882 - acc: 0.1875\n",
      "Epoch 1/1\n",
      "8/8 [==============================] - 1s 97ms/step - loss: 18.4399 - model_1_loss: 1.6938e-04 - conv2d_20_loss: 0.1280\n",
      "\n",
      "Epoch 00001: loss did not improve from 18.24533\n"
     ]
    },
    {
     "name": "stderr",
     "output_type": "stream",
     "text": [
      "\n",
      "\n",
      "\n",
      "81it [05:32,  4.09s/it]\u001b[A\u001b[A\u001b[A"
     ]
    },
    {
     "name": "stdout",
     "output_type": "stream",
     "text": [
      "iteration : 81\n",
      "Epoch 1/1\n",
      " 8/16 [==============>...............] - ETA: 0s - loss: 6.1439 - acc: 0.2500"
     ]
    },
    {
     "name": "stderr",
     "output_type": "stream",
     "text": [
      "/opt/conda/lib/python3.6/site-packages/keras/engine/training.py:490: UserWarning: Discrepancy between trainable weights and collected trainable weights, did you set `model.trainable` without calling `model.compile` after ?\n",
      "  'Discrepancy between trainable weights and collected trainable'\n"
     ]
    },
    {
     "name": "stdout",
     "output_type": "stream",
     "text": [
      "16/16 [==============================] - 0s 24ms/step - loss: 5.5261 - acc: 0.2500\n",
      "Epoch 1/1\n",
      "8/8 [==============================] - 1s 98ms/step - loss: 18.9486 - model_1_loss: 0.0804 - conv2d_20_loss: 0.1291\n",
      "\n",
      "Epoch 00001: loss did not improve from 18.24533\n"
     ]
    },
    {
     "name": "stderr",
     "output_type": "stream",
     "text": [
      "\n",
      "\n",
      "\n",
      "82it [05:36,  4.09s/it]\u001b[A\u001b[A\u001b[A"
     ]
    },
    {
     "name": "stdout",
     "output_type": "stream",
     "text": [
      "iteration : 82\n",
      "Epoch 1/1\n",
      " 8/16 [==============>...............] - ETA: 0s - loss: 6.9950 - acc: 0.0000e+00"
     ]
    },
    {
     "name": "stderr",
     "output_type": "stream",
     "text": [
      "/opt/conda/lib/python3.6/site-packages/keras/engine/training.py:490: UserWarning: Discrepancy between trainable weights and collected trainable weights, did you set `model.trainable` without calling `model.compile` after ?\n",
      "  'Discrepancy between trainable weights and collected trainable'\n"
     ]
    },
    {
     "name": "stdout",
     "output_type": "stream",
     "text": [
      "16/16 [==============================] - 0s 23ms/step - loss: 5.3989 - acc: 0.0625\n",
      "Epoch 1/1\n",
      "8/8 [==============================] - 1s 97ms/step - loss: 19.8404 - model_1_loss: 0.0023 - conv2d_20_loss: 0.1419\n",
      "\n",
      "Epoch 00001: loss did not improve from 18.24533\n"
     ]
    },
    {
     "name": "stderr",
     "output_type": "stream",
     "text": [
      "\n",
      "\n",
      "\n",
      "83it [05:40,  4.09s/it]\u001b[A\u001b[A\u001b[A"
     ]
    },
    {
     "name": "stdout",
     "output_type": "stream",
     "text": [
      "iteration : 83\n",
      "Epoch 1/1\n",
      " 8/16 [==============>...............] - ETA: 0s - loss: 5.6760 - acc: 0.1250"
     ]
    },
    {
     "name": "stderr",
     "output_type": "stream",
     "text": [
      "/opt/conda/lib/python3.6/site-packages/keras/engine/training.py:490: UserWarning: Discrepancy between trainable weights and collected trainable weights, did you set `model.trainable` without calling `model.compile` after ?\n",
      "  'Discrepancy between trainable weights and collected trainable'\n"
     ]
    },
    {
     "name": "stdout",
     "output_type": "stream",
     "text": [
      "16/16 [==============================] - 0s 24ms/step - loss: 5.8454 - acc: 0.1875\n",
      "Epoch 1/1\n",
      "8/8 [==============================] - 1s 98ms/step - loss: 22.6380 - model_1_loss: 0.0089 - conv2d_20_loss: 0.1696\n",
      "\n",
      "Epoch 00001: loss did not improve from 18.24533\n"
     ]
    },
    {
     "name": "stderr",
     "output_type": "stream",
     "text": [
      "\n",
      "\n",
      "\n",
      "84it [05:45,  4.09s/it]\u001b[A\u001b[A\u001b[A"
     ]
    },
    {
     "name": "stdout",
     "output_type": "stream",
     "text": [
      "iteration : 84\n",
      "Epoch 1/1\n",
      " 8/16 [==============>...............] - ETA: 0s - loss: 5.4892 - acc: 0.3750"
     ]
    },
    {
     "name": "stderr",
     "output_type": "stream",
     "text": [
      "/opt/conda/lib/python3.6/site-packages/keras/engine/training.py:490: UserWarning: Discrepancy between trainable weights and collected trainable weights, did you set `model.trainable` without calling `model.compile` after ?\n",
      "  'Discrepancy between trainable weights and collected trainable'\n"
     ]
    },
    {
     "name": "stdout",
     "output_type": "stream",
     "text": [
      "16/16 [==============================] - 0s 23ms/step - loss: 6.0900 - acc: 0.3125\n",
      "Epoch 1/1\n",
      "8/8 [==============================] - 1s 97ms/step - loss: 19.0123 - model_1_loss: 3.1296e-05 - conv2d_20_loss: 0.1338\n",
      "\n",
      "Epoch 00001: loss did not improve from 18.24533\n"
     ]
    },
    {
     "name": "stderr",
     "output_type": "stream",
     "text": [
      "\n",
      "\n",
      "\n",
      "85it [05:49,  4.08s/it]\u001b[A\u001b[A\u001b[A"
     ]
    },
    {
     "name": "stdout",
     "output_type": "stream",
     "text": [
      "iteration : 85\n",
      "Epoch 1/1\n",
      " 8/16 [==============>...............] - ETA: 0s - loss: 5.8738 - acc: 0.0000e+00"
     ]
    },
    {
     "name": "stderr",
     "output_type": "stream",
     "text": [
      "/opt/conda/lib/python3.6/site-packages/keras/engine/training.py:490: UserWarning: Discrepancy between trainable weights and collected trainable weights, did you set `model.trainable` without calling `model.compile` after ?\n",
      "  'Discrepancy between trainable weights and collected trainable'\n"
     ]
    },
    {
     "name": "stdout",
     "output_type": "stream",
     "text": [
      "16/16 [==============================] - 0s 24ms/step - loss: 6.1488 - acc: 0.0625\n",
      "Epoch 1/1\n",
      "8/8 [==============================] - 1s 98ms/step - loss: 20.1428 - model_1_loss: 6.3381e-04 - conv2d_20_loss: 0.1451\n",
      "\n",
      "Epoch 00001: loss did not improve from 18.24533\n"
     ]
    },
    {
     "name": "stderr",
     "output_type": "stream",
     "text": [
      "\n",
      "\n",
      "\n",
      "86it [05:53,  4.08s/it]\u001b[A\u001b[A\u001b[A"
     ]
    },
    {
     "name": "stdout",
     "output_type": "stream",
     "text": [
      "iteration : 86\n",
      "Epoch 1/1\n",
      " 8/16 [==============>...............] - ETA: 0s - loss: 4.8045 - acc: 0.3750"
     ]
    },
    {
     "name": "stderr",
     "output_type": "stream",
     "text": [
      "/opt/conda/lib/python3.6/site-packages/keras/engine/training.py:490: UserWarning: Discrepancy between trainable weights and collected trainable weights, did you set `model.trainable` without calling `model.compile` after ?\n",
      "  'Discrepancy between trainable weights and collected trainable'\n"
     ]
    },
    {
     "name": "stdout",
     "output_type": "stream",
     "text": [
      "16/16 [==============================] - 0s 23ms/step - loss: 5.6153 - acc: 0.1875\n",
      "Epoch 1/1\n",
      "8/8 [==============================] - 1s 97ms/step - loss: 19.3206 - model_1_loss: 0.0373 - conv2d_20_loss: 0.1350\n",
      "\n",
      "Epoch 00001: loss did not improve from 18.24533\n"
     ]
    },
    {
     "name": "stderr",
     "output_type": "stream",
     "text": [
      "\n",
      "\n",
      "\n",
      "87it [05:57,  4.08s/it]\u001b[A\u001b[A\u001b[A"
     ]
    },
    {
     "name": "stdout",
     "output_type": "stream",
     "text": [
      "iteration : 87\n",
      "Epoch 1/1\n",
      " 8/16 [==============>...............] - ETA: 0s - loss: 4.9936 - acc: 0.2500"
     ]
    },
    {
     "name": "stderr",
     "output_type": "stream",
     "text": [
      "/opt/conda/lib/python3.6/site-packages/keras/engine/training.py:490: UserWarning: Discrepancy between trainable weights and collected trainable weights, did you set `model.trainable` without calling `model.compile` after ?\n",
      "  'Discrepancy between trainable weights and collected trainable'\n"
     ]
    },
    {
     "name": "stdout",
     "output_type": "stream",
     "text": [
      "16/16 [==============================] - 0s 24ms/step - loss: 6.5460 - acc: 0.1250\n",
      "Epoch 1/1\n",
      "8/8 [==============================] - 1s 98ms/step - loss: 19.9058 - model_1_loss: 2.0775e-04 - conv2d_20_loss: 0.1427\n",
      "\n",
      "Epoch 00001: loss did not improve from 18.24533\n"
     ]
    },
    {
     "name": "stderr",
     "output_type": "stream",
     "text": [
      "\n",
      "\n",
      "\n",
      "88it [06:01,  4.09s/it]\u001b[A\u001b[A\u001b[A"
     ]
    },
    {
     "name": "stdout",
     "output_type": "stream",
     "text": [
      "iteration : 88\n",
      "Epoch 1/1\n",
      " 8/16 [==============>...............] - ETA: 0s - loss: 7.3919 - acc: 0.1250"
     ]
    },
    {
     "name": "stderr",
     "output_type": "stream",
     "text": [
      "/opt/conda/lib/python3.6/site-packages/keras/engine/training.py:490: UserWarning: Discrepancy between trainable weights and collected trainable weights, did you set `model.trainable` without calling `model.compile` after ?\n",
      "  'Discrepancy between trainable weights and collected trainable'\n"
     ]
    },
    {
     "name": "stdout",
     "output_type": "stream",
     "text": [
      "16/16 [==============================] - 0s 23ms/step - loss: 6.6157 - acc: 0.1250\n",
      "Epoch 1/1\n",
      "8/8 [==============================] - 1s 97ms/step - loss: 18.7960 - model_1_loss: 4.3769e-04 - conv2d_20_loss: 0.1316\n",
      "\n",
      "Epoch 00001: loss did not improve from 18.24533\n"
     ]
    },
    {
     "name": "stderr",
     "output_type": "stream",
     "text": [
      "\n",
      "\n",
      "\n",
      "89it [06:05,  4.09s/it]\u001b[A\u001b[A\u001b[A"
     ]
    },
    {
     "name": "stdout",
     "output_type": "stream",
     "text": [
      "iteration : 89\n",
      "Epoch 1/1\n",
      " 8/16 [==============>...............] - ETA: 0s - loss: 3.7904 - acc: 0.1250"
     ]
    },
    {
     "name": "stderr",
     "output_type": "stream",
     "text": [
      "/opt/conda/lib/python3.6/site-packages/keras/engine/training.py:490: UserWarning: Discrepancy between trainable weights and collected trainable weights, did you set `model.trainable` without calling `model.compile` after ?\n",
      "  'Discrepancy between trainable weights and collected trainable'\n"
     ]
    },
    {
     "name": "stdout",
     "output_type": "stream",
     "text": [
      "16/16 [==============================] - 0s 24ms/step - loss: 6.6587 - acc: 0.0625\n",
      "Epoch 1/1\n",
      "8/8 [==============================] - 1s 98ms/step - loss: 20.8723 - model_1_loss: 0.0161 - conv2d_20_loss: 0.1516\n",
      "\n",
      "Epoch 00001: loss did not improve from 18.24533\n"
     ]
    },
    {
     "name": "stderr",
     "output_type": "stream",
     "text": [
      "\n",
      "\n",
      "\n",
      "90it [06:09,  4.09s/it]\u001b[A\u001b[A\u001b[A"
     ]
    },
    {
     "name": "stdout",
     "output_type": "stream",
     "text": [
      "iteration : 90\n",
      "Epoch 1/1\n",
      " 8/16 [==============>...............] - ETA: 0s - loss: 8.0971 - acc: 0.2500"
     ]
    },
    {
     "name": "stderr",
     "output_type": "stream",
     "text": [
      "/opt/conda/lib/python3.6/site-packages/keras/engine/training.py:490: UserWarning: Discrepancy between trainable weights and collected trainable weights, did you set `model.trainable` without calling `model.compile` after ?\n",
      "  'Discrepancy between trainable weights and collected trainable'\n"
     ]
    },
    {
     "name": "stdout",
     "output_type": "stream",
     "text": [
      "16/16 [==============================] - 0s 23ms/step - loss: 6.4371 - acc: 0.1875\n",
      "Epoch 1/1\n",
      "8/8 [==============================] - 1s 97ms/step - loss: 18.1776 - model_1_loss: 4.2041e-04 - conv2d_20_loss: 0.1254\n",
      "\n",
      "Epoch 00001: loss improved from 18.24533 to 18.17765, saving model to weights-improvement.hdf5\n"
     ]
    },
    {
     "name": "stderr",
     "output_type": "stream",
     "text": [
      "\n",
      "\n",
      "\n",
      "91it [06:14,  4.25s/it]\u001b[A\u001b[A\u001b[A"
     ]
    },
    {
     "name": "stdout",
     "output_type": "stream",
     "text": [
      "iteration : 91\n",
      "Epoch 1/1\n",
      " 8/16 [==============>...............] - ETA: 0s - loss: 8.0278 - acc: 0.0000e+00"
     ]
    },
    {
     "name": "stderr",
     "output_type": "stream",
     "text": [
      "/opt/conda/lib/python3.6/site-packages/keras/engine/training.py:490: UserWarning: Discrepancy between trainable weights and collected trainable weights, did you set `model.trainable` without calling `model.compile` after ?\n",
      "  'Discrepancy between trainable weights and collected trainable'\n"
     ]
    },
    {
     "name": "stdout",
     "output_type": "stream",
     "text": [
      "16/16 [==============================] - 0s 24ms/step - loss: 9.1771 - acc: 0.0000e+00\n",
      "Epoch 1/1\n",
      "8/8 [==============================] - 1s 98ms/step - loss: 19.2588 - model_1_loss: 0.0036 - conv2d_20_loss: 0.1361\n",
      "\n",
      "Epoch 00001: loss did not improve from 18.17765\n"
     ]
    },
    {
     "name": "stderr",
     "output_type": "stream",
     "text": [
      "\n",
      "\n",
      "\n",
      "92it [06:18,  4.28s/it]\u001b[A\u001b[A\u001b[A"
     ]
    },
    {
     "name": "stdout",
     "output_type": "stream",
     "text": [
      "iteration : 92\n",
      "Epoch 1/1\n",
      " 8/16 [==============>...............] - ETA: 0s - loss: 6.4169 - acc: 0.0000e+00"
     ]
    },
    {
     "name": "stderr",
     "output_type": "stream",
     "text": [
      "/opt/conda/lib/python3.6/site-packages/keras/engine/training.py:490: UserWarning: Discrepancy between trainable weights and collected trainable weights, did you set `model.trainable` without calling `model.compile` after ?\n",
      "  'Discrepancy between trainable weights and collected trainable'\n"
     ]
    },
    {
     "name": "stdout",
     "output_type": "stream",
     "text": [
      "16/16 [==============================] - 0s 23ms/step - loss: 6.1981 - acc: 0.0000e+00\n",
      "Epoch 1/1\n",
      "8/8 [==============================] - 1s 97ms/step - loss: 20.6692 - model_1_loss: 0.0017 - conv2d_20_loss: 0.1503\n",
      "\n",
      "Epoch 00001: loss did not improve from 18.17765\n"
     ]
    },
    {
     "name": "stderr",
     "output_type": "stream",
     "text": [
      "\n",
      "\n",
      "\n",
      "93it [06:22,  4.22s/it]\u001b[A\u001b[A\u001b[A"
     ]
    },
    {
     "name": "stdout",
     "output_type": "stream",
     "text": [
      "iteration : 93\n",
      "Epoch 1/1\n",
      " 8/16 [==============>...............] - ETA: 0s - loss: 3.6377 - acc: 0.1250"
     ]
    },
    {
     "name": "stderr",
     "output_type": "stream",
     "text": [
      "/opt/conda/lib/python3.6/site-packages/keras/engine/training.py:490: UserWarning: Discrepancy between trainable weights and collected trainable weights, did you set `model.trainable` without calling `model.compile` after ?\n",
      "  'Discrepancy between trainable weights and collected trainable'\n"
     ]
    },
    {
     "name": "stdout",
     "output_type": "stream",
     "text": [
      "16/16 [==============================] - 0s 24ms/step - loss: 5.0734 - acc: 0.1250\n",
      "Epoch 1/1\n",
      "8/8 [==============================] - 1s 98ms/step - loss: 21.3962 - model_1_loss: 0.0681 - conv2d_20_loss: 0.1542\n",
      "\n",
      "Epoch 00001: loss did not improve from 18.17765\n"
     ]
    },
    {
     "name": "stderr",
     "output_type": "stream",
     "text": [
      "\n",
      "\n",
      "\n",
      "94it [06:26,  4.19s/it]\u001b[A\u001b[A\u001b[A"
     ]
    },
    {
     "name": "stdout",
     "output_type": "stream",
     "text": [
      "iteration : 94\n",
      "Epoch 1/1\n",
      " 8/16 [==============>...............] - ETA: 0s - loss: 4.0485 - acc: 0.1250"
     ]
    },
    {
     "name": "stderr",
     "output_type": "stream",
     "text": [
      "/opt/conda/lib/python3.6/site-packages/keras/engine/training.py:490: UserWarning: Discrepancy between trainable weights and collected trainable weights, did you set `model.trainable` without calling `model.compile` after ?\n",
      "  'Discrepancy between trainable weights and collected trainable'\n"
     ]
    },
    {
     "name": "stdout",
     "output_type": "stream",
     "text": [
      "16/16 [==============================] - 0s 23ms/step - loss: 5.7271 - acc: 0.1250\n",
      "Epoch 1/1\n",
      "8/8 [==============================] - 1s 97ms/step - loss: 18.8966 - model_1_loss: 0.0031 - conv2d_20_loss: 0.1325\n",
      "\n",
      "Epoch 00001: loss did not improve from 18.17765\n"
     ]
    },
    {
     "name": "stderr",
     "output_type": "stream",
     "text": [
      "\n",
      "\n",
      "\n",
      "95it [06:30,  4.16s/it]\u001b[A\u001b[A\u001b[A"
     ]
    },
    {
     "name": "stdout",
     "output_type": "stream",
     "text": [
      "iteration : 95\n",
      "Epoch 1/1\n",
      " 8/16 [==============>...............] - ETA: 0s - loss: 5.1605 - acc: 0.2500"
     ]
    },
    {
     "name": "stderr",
     "output_type": "stream",
     "text": [
      "/opt/conda/lib/python3.6/site-packages/keras/engine/training.py:490: UserWarning: Discrepancy between trainable weights and collected trainable weights, did you set `model.trainable` without calling `model.compile` after ?\n",
      "  'Discrepancy between trainable weights and collected trainable'\n"
     ]
    },
    {
     "name": "stdout",
     "output_type": "stream",
     "text": [
      "16/16 [==============================] - 0s 24ms/step - loss: 6.7895 - acc: 0.1875\n",
      "Epoch 1/1\n",
      "8/8 [==============================] - 1s 98ms/step - loss: 19.5365 - model_1_loss: 0.0012 - conv2d_20_loss: 0.1390\n",
      "\n",
      "Epoch 00001: loss did not improve from 18.17765\n"
     ]
    },
    {
     "name": "stderr",
     "output_type": "stream",
     "text": [
      "\n",
      "\n",
      "\n",
      "96it [06:34,  4.14s/it]\u001b[A\u001b[A\u001b[A"
     ]
    },
    {
     "name": "stdout",
     "output_type": "stream",
     "text": [
      "iteration : 96\n",
      "Epoch 1/1\n",
      " 8/16 [==============>...............] - ETA: 0s - loss: 8.2306 - acc: 0.1250"
     ]
    },
    {
     "name": "stderr",
     "output_type": "stream",
     "text": [
      "/opt/conda/lib/python3.6/site-packages/keras/engine/training.py:490: UserWarning: Discrepancy between trainable weights and collected trainable weights, did you set `model.trainable` without calling `model.compile` after ?\n",
      "  'Discrepancy between trainable weights and collected trainable'\n"
     ]
    },
    {
     "name": "stdout",
     "output_type": "stream",
     "text": [
      "16/16 [==============================] - 0s 23ms/step - loss: 6.4688 - acc: 0.1250\n",
      "Epoch 1/1\n",
      "8/8 [==============================] - 1s 96ms/step - loss: 19.3604 - model_1_loss: 7.4562e-04 - conv2d_20_loss: 0.1372\n",
      "\n",
      "Epoch 00001: loss did not improve from 18.17765\n"
     ]
    },
    {
     "name": "stderr",
     "output_type": "stream",
     "text": [
      "\n",
      "\n",
      "\n",
      "97it [06:38,  4.11s/it]\u001b[A\u001b[A\u001b[A"
     ]
    },
    {
     "name": "stdout",
     "output_type": "stream",
     "text": [
      "iteration : 97\n",
      "Epoch 1/1\n",
      " 8/16 [==============>...............] - ETA: 0s - loss: 5.5315 - acc: 0.2500"
     ]
    },
    {
     "name": "stderr",
     "output_type": "stream",
     "text": [
      "/opt/conda/lib/python3.6/site-packages/keras/engine/training.py:490: UserWarning: Discrepancy between trainable weights and collected trainable weights, did you set `model.trainable` without calling `model.compile` after ?\n",
      "  'Discrepancy between trainable weights and collected trainable'\n"
     ]
    },
    {
     "name": "stdout",
     "output_type": "stream",
     "text": [
      "16/16 [==============================] - 0s 23ms/step - loss: 6.4627 - acc: 0.3125\n",
      "Epoch 1/1\n",
      "8/8 [==============================] - 1s 98ms/step - loss: 19.1717 - model_1_loss: 5.5985e-04 - conv2d_20_loss: 0.1354\n",
      "\n",
      "Epoch 00001: loss did not improve from 18.17765\n"
     ]
    },
    {
     "name": "stderr",
     "output_type": "stream",
     "text": [
      "\n",
      "\n",
      "\n",
      "98it [06:43,  4.10s/it]\u001b[A\u001b[A\u001b[A"
     ]
    },
    {
     "name": "stdout",
     "output_type": "stream",
     "text": [
      "iteration : 98\n",
      "Epoch 1/1\n",
      " 8/16 [==============>...............] - ETA: 0s - loss: 4.5572 - acc: 0.2500"
     ]
    },
    {
     "name": "stderr",
     "output_type": "stream",
     "text": [
      "/opt/conda/lib/python3.6/site-packages/keras/engine/training.py:490: UserWarning: Discrepancy between trainable weights and collected trainable weights, did you set `model.trainable` without calling `model.compile` after ?\n",
      "  'Discrepancy between trainable weights and collected trainable'\n"
     ]
    },
    {
     "name": "stdout",
     "output_type": "stream",
     "text": [
      "16/16 [==============================] - 0s 23ms/step - loss: 4.5145 - acc: 0.3125\n",
      "Epoch 1/1\n",
      "8/8 [==============================] - 1s 97ms/step - loss: 20.8512 - model_1_loss: 0.3642 - conv2d_20_loss: 0.1340\n",
      "\n",
      "Epoch 00001: loss did not improve from 18.17765\n"
     ]
    },
    {
     "name": "stderr",
     "output_type": "stream",
     "text": [
      "\n",
      "\n",
      "\n",
      "99it [06:47,  4.10s/it]\u001b[A\u001b[A\u001b[A"
     ]
    },
    {
     "name": "stdout",
     "output_type": "stream",
     "text": [
      "iteration : 99\n",
      "Epoch 1/1\n",
      " 8/16 [==============>...............] - ETA: 0s - loss: 6.4452 - acc: 0.2500"
     ]
    },
    {
     "name": "stderr",
     "output_type": "stream",
     "text": [
      "/opt/conda/lib/python3.6/site-packages/keras/engine/training.py:490: UserWarning: Discrepancy between trainable weights and collected trainable weights, did you set `model.trainable` without calling `model.compile` after ?\n",
      "  'Discrepancy between trainable weights and collected trainable'\n"
     ]
    },
    {
     "name": "stdout",
     "output_type": "stream",
     "text": [
      "16/16 [==============================] - 0s 24ms/step - loss: 6.6532 - acc: 0.1250\n",
      "Epoch 1/1\n",
      "8/8 [==============================] - 1s 99ms/step - loss: 20.8512 - model_1_loss: 3.4066e-04 - conv2d_20_loss: 0.1522\n",
      "\n",
      "Epoch 00001: loss did not improve from 18.17765\n"
     ]
    },
    {
     "name": "stderr",
     "output_type": "stream",
     "text": [
      "\n",
      "\n",
      "\n",
      "100it [06:51,  4.11s/it]\u001b[A\u001b[A\u001b[A"
     ]
    },
    {
     "name": "stdout",
     "output_type": "stream",
     "text": [
      "iteration : 100\n",
      "Epoch 1/1\n",
      " 8/16 [==============>...............] - ETA: 0s - loss: 6.2453 - acc: 0.3750"
     ]
    },
    {
     "name": "stderr",
     "output_type": "stream",
     "text": [
      "/opt/conda/lib/python3.6/site-packages/keras/engine/training.py:490: UserWarning: Discrepancy between trainable weights and collected trainable weights, did you set `model.trainable` without calling `model.compile` after ?\n",
      "  'Discrepancy between trainable weights and collected trainable'\n"
     ]
    },
    {
     "name": "stdout",
     "output_type": "stream",
     "text": [
      "16/16 [==============================] - 0s 23ms/step - loss: 6.5283 - acc: 0.2500\n",
      "Epoch 1/1\n",
      "8/8 [==============================] - 1s 97ms/step - loss: 19.2007 - model_1_loss: 7.5661e-04 - conv2d_20_loss: 0.1356\n",
      "\n",
      "Epoch 00001: loss did not improve from 18.17765\n"
     ]
    },
    {
     "name": "stderr",
     "output_type": "stream",
     "text": [
      "\n",
      "\n",
      "\n",
      "101it [06:55,  4.10s/it]\u001b[A\u001b[A\u001b[A"
     ]
    },
    {
     "name": "stdout",
     "output_type": "stream",
     "text": [
      "iteration : 101\n",
      "Epoch 1/1\n",
      " 8/16 [==============>...............] - ETA: 0s - loss: 7.1017 - acc: 0.1250"
     ]
    },
    {
     "name": "stderr",
     "output_type": "stream",
     "text": [
      "/opt/conda/lib/python3.6/site-packages/keras/engine/training.py:490: UserWarning: Discrepancy between trainable weights and collected trainable weights, did you set `model.trainable` without calling `model.compile` after ?\n",
      "  'Discrepancy between trainable weights and collected trainable'\n"
     ]
    },
    {
     "name": "stdout",
     "output_type": "stream",
     "text": [
      "16/16 [==============================] - 0s 24ms/step - loss: 5.1236 - acc: 0.3125\n",
      "Epoch 1/1\n",
      "8/8 [==============================] - 1s 98ms/step - loss: 19.6618 - model_1_loss: 0.0046 - conv2d_20_loss: 0.1401\n",
      "\n",
      "Epoch 00001: loss did not improve from 18.17765\n"
     ]
    },
    {
     "name": "stderr",
     "output_type": "stream",
     "text": [
      "\n",
      "\n",
      "\n",
      "102it [06:59,  4.10s/it]\u001b[A\u001b[A\u001b[A"
     ]
    },
    {
     "name": "stdout",
     "output_type": "stream",
     "text": [
      "iteration : 102\n",
      "Epoch 1/1\n",
      " 8/16 [==============>...............] - ETA: 0s - loss: 6.5034 - acc: 0.0000e+00"
     ]
    },
    {
     "name": "stderr",
     "output_type": "stream",
     "text": [
      "/opt/conda/lib/python3.6/site-packages/keras/engine/training.py:490: UserWarning: Discrepancy between trainable weights and collected trainable weights, did you set `model.trainable` without calling `model.compile` after ?\n",
      "  'Discrepancy between trainable weights and collected trainable'\n"
     ]
    },
    {
     "name": "stdout",
     "output_type": "stream",
     "text": [
      "16/16 [==============================] - 0s 23ms/step - loss: 6.7400 - acc: 0.0625\n",
      "Epoch 1/1\n",
      "8/8 [==============================] - 1s 97ms/step - loss: 18.2080 - model_1_loss: 0.0127 - conv2d_20_loss: 0.1251\n",
      "\n",
      "Epoch 00001: loss did not improve from 18.17765\n"
     ]
    },
    {
     "name": "stderr",
     "output_type": "stream",
     "text": [
      "\n",
      "\n",
      "\n",
      "103it [07:03,  4.09s/it]\u001b[A\u001b[A\u001b[A"
     ]
    },
    {
     "name": "stdout",
     "output_type": "stream",
     "text": [
      "iteration : 103\n",
      "Epoch 1/1\n",
      " 8/16 [==============>...............] - ETA: 0s - loss: 5.4317 - acc: 0.0000e+00"
     ]
    },
    {
     "name": "stderr",
     "output_type": "stream",
     "text": [
      "/opt/conda/lib/python3.6/site-packages/keras/engine/training.py:490: UserWarning: Discrepancy between trainable weights and collected trainable weights, did you set `model.trainable` without calling `model.compile` after ?\n",
      "  'Discrepancy between trainable weights and collected trainable'\n"
     ]
    },
    {
     "name": "stdout",
     "output_type": "stream",
     "text": [
      "16/16 [==============================] - 0s 24ms/step - loss: 6.2036 - acc: 0.0000e+00\n",
      "Epoch 1/1\n",
      "8/8 [==============================] - 1s 98ms/step - loss: 19.8737 - model_1_loss: 3.1181e-04 - conv2d_20_loss: 0.1424\n",
      "\n",
      "Epoch 00001: loss did not improve from 18.17765\n"
     ]
    },
    {
     "name": "stderr",
     "output_type": "stream",
     "text": [
      "\n",
      "\n",
      "\n",
      "104it [07:07,  4.10s/it]\u001b[A\u001b[A\u001b[A"
     ]
    },
    {
     "name": "stdout",
     "output_type": "stream",
     "text": [
      "iteration : 104\n",
      "Epoch 1/1\n",
      " 8/16 [==============>...............] - ETA: 0s - loss: 5.7196 - acc: 0.1250"
     ]
    },
    {
     "name": "stderr",
     "output_type": "stream",
     "text": [
      "/opt/conda/lib/python3.6/site-packages/keras/engine/training.py:490: UserWarning: Discrepancy between trainable weights and collected trainable weights, did you set `model.trainable` without calling `model.compile` after ?\n",
      "  'Discrepancy between trainable weights and collected trainable'\n"
     ]
    },
    {
     "name": "stdout",
     "output_type": "stream",
     "text": [
      "16/16 [==============================] - 0s 23ms/step - loss: 6.0554 - acc: 0.1250\n",
      "Epoch 1/1\n",
      "8/8 [==============================] - 1s 97ms/step - loss: 18.4665 - model_1_loss: 0.0015 - conv2d_20_loss: 0.1283\n",
      "\n",
      "Epoch 00001: loss did not improve from 18.17765\n"
     ]
    },
    {
     "name": "stderr",
     "output_type": "stream",
     "text": [
      "\n",
      "\n",
      "\n",
      "105it [07:11,  4.09s/it]\u001b[A\u001b[A\u001b[A"
     ]
    },
    {
     "name": "stdout",
     "output_type": "stream",
     "text": [
      "iteration : 105\n",
      "Epoch 1/1\n",
      " 8/16 [==============>...............] - ETA: 0s - loss: 5.9907 - acc: 0.0000e+00"
     ]
    },
    {
     "name": "stderr",
     "output_type": "stream",
     "text": [
      "/opt/conda/lib/python3.6/site-packages/keras/engine/training.py:490: UserWarning: Discrepancy between trainable weights and collected trainable weights, did you set `model.trainable` without calling `model.compile` after ?\n",
      "  'Discrepancy between trainable weights and collected trainable'\n"
     ]
    },
    {
     "name": "stdout",
     "output_type": "stream",
     "text": [
      "16/16 [==============================] - 0s 24ms/step - loss: 5.3105 - acc: 0.1250\n",
      "Epoch 1/1\n",
      "8/8 [==============================] - 1s 98ms/step - loss: 19.1688 - model_1_loss: 0.0026 - conv2d_20_loss: 0.1352\n",
      "\n",
      "Epoch 00001: loss did not improve from 18.17765\n"
     ]
    },
    {
     "name": "stderr",
     "output_type": "stream",
     "text": [
      "\n",
      "\n",
      "\n",
      "106it [07:15,  4.09s/it]\u001b[A\u001b[A\u001b[A"
     ]
    },
    {
     "name": "stdout",
     "output_type": "stream",
     "text": [
      "iteration : 106\n",
      "Epoch 1/1\n",
      " 8/16 [==============>...............] - ETA: 0s - loss: 6.7574 - acc: 0.2500"
     ]
    },
    {
     "name": "stderr",
     "output_type": "stream",
     "text": [
      "/opt/conda/lib/python3.6/site-packages/keras/engine/training.py:490: UserWarning: Discrepancy between trainable weights and collected trainable weights, did you set `model.trainable` without calling `model.compile` after ?\n",
      "  'Discrepancy between trainable weights and collected trainable'\n"
     ]
    },
    {
     "name": "stdout",
     "output_type": "stream",
     "text": [
      "16/16 [==============================] - 0s 23ms/step - loss: 6.1194 - acc: 0.2500\n",
      "Epoch 1/1\n",
      "8/8 [==============================] - 1s 97ms/step - loss: 19.6261 - model_1_loss: 0.0050 - conv2d_20_loss: 0.1397\n",
      "\n",
      "Epoch 00001: loss did not improve from 18.17765\n"
     ]
    },
    {
     "name": "stderr",
     "output_type": "stream",
     "text": [
      "\n",
      "\n",
      "\n",
      "107it [07:19,  4.09s/it]\u001b[A\u001b[A\u001b[A"
     ]
    },
    {
     "name": "stdout",
     "output_type": "stream",
     "text": [
      "iteration : 107\n",
      "Epoch 1/1\n",
      " 8/16 [==============>...............] - ETA: 0s - loss: 6.7003 - acc: 0.0000e+00"
     ]
    },
    {
     "name": "stderr",
     "output_type": "stream",
     "text": [
      "/opt/conda/lib/python3.6/site-packages/keras/engine/training.py:490: UserWarning: Discrepancy between trainable weights and collected trainable weights, did you set `model.trainable` without calling `model.compile` after ?\n",
      "  'Discrepancy between trainable weights and collected trainable'\n"
     ]
    },
    {
     "name": "stdout",
     "output_type": "stream",
     "text": [
      "16/16 [==============================] - 0s 24ms/step - loss: 5.9970 - acc: 0.1250\n",
      "Epoch 1/1\n",
      "8/8 [==============================] - 1s 98ms/step - loss: 19.7405 - model_1_loss: 0.0013 - conv2d_20_loss: 0.1410\n",
      "\n",
      "Epoch 00001: loss did not improve from 18.17765\n"
     ]
    },
    {
     "name": "stderr",
     "output_type": "stream",
     "text": [
      "\n",
      "\n",
      "\n",
      "108it [07:23,  4.09s/it]\u001b[A\u001b[A\u001b[A"
     ]
    },
    {
     "name": "stdout",
     "output_type": "stream",
     "text": [
      "iteration : 108\n",
      "Epoch 1/1\n",
      " 8/16 [==============>...............] - ETA: 0s - loss: 5.7237 - acc: 0.2500"
     ]
    },
    {
     "name": "stderr",
     "output_type": "stream",
     "text": [
      "/opt/conda/lib/python3.6/site-packages/keras/engine/training.py:490: UserWarning: Discrepancy between trainable weights and collected trainable weights, did you set `model.trainable` without calling `model.compile` after ?\n",
      "  'Discrepancy between trainable weights and collected trainable'\n"
     ]
    },
    {
     "name": "stdout",
     "output_type": "stream",
     "text": [
      "16/16 [==============================] - 0s 23ms/step - loss: 4.9623 - acc: 0.1875\n",
      "Epoch 1/1\n",
      "8/8 [==============================] - 1s 97ms/step - loss: 18.5311 - model_1_loss: 0.0117 - conv2d_20_loss: 0.1284\n",
      "\n",
      "Epoch 00001: loss did not improve from 18.17765\n"
     ]
    },
    {
     "name": "stderr",
     "output_type": "stream",
     "text": [
      "\n",
      "\n",
      "\n",
      "109it [07:28,  4.09s/it]\u001b[A\u001b[A\u001b[A"
     ]
    },
    {
     "name": "stdout",
     "output_type": "stream",
     "text": [
      "iteration : 109\n",
      "Epoch 1/1\n",
      " 8/16 [==============>...............] - ETA: 0s - loss: 5.2343 - acc: 0.1250"
     ]
    },
    {
     "name": "stderr",
     "output_type": "stream",
     "text": [
      "/opt/conda/lib/python3.6/site-packages/keras/engine/training.py:490: UserWarning: Discrepancy between trainable weights and collected trainable weights, did you set `model.trainable` without calling `model.compile` after ?\n",
      "  'Discrepancy between trainable weights and collected trainable'\n"
     ]
    },
    {
     "name": "stdout",
     "output_type": "stream",
     "text": [
      "16/16 [==============================] - 0s 24ms/step - loss: 4.9969 - acc: 0.1875\n",
      "Epoch 1/1\n",
      "8/8 [==============================] - 1s 98ms/step - loss: 18.2830 - model_1_loss: 0.0117 - conv2d_20_loss: 0.1259\n",
      "\n",
      "Epoch 00001: loss did not improve from 18.17765\n"
     ]
    },
    {
     "name": "stderr",
     "output_type": "stream",
     "text": [
      "\n",
      "\n",
      "\n",
      "110it [07:32,  4.09s/it]\u001b[A\u001b[A\u001b[A"
     ]
    },
    {
     "name": "stdout",
     "output_type": "stream",
     "text": [
      "iteration : 110\n",
      "Epoch 1/1\n",
      " 8/16 [==============>...............] - ETA: 0s - loss: 5.8872 - acc: 0.1250"
     ]
    },
    {
     "name": "stderr",
     "output_type": "stream",
     "text": [
      "/opt/conda/lib/python3.6/site-packages/keras/engine/training.py:490: UserWarning: Discrepancy between trainable weights and collected trainable weights, did you set `model.trainable` without calling `model.compile` after ?\n",
      "  'Discrepancy between trainable weights and collected trainable'\n"
     ]
    },
    {
     "name": "stdout",
     "output_type": "stream",
     "text": [
      "16/16 [==============================] - 0s 23ms/step - loss: 4.9271 - acc: 0.2500\n",
      "Epoch 1/1\n",
      "8/8 [==============================] - 1s 97ms/step - loss: 20.0957 - model_1_loss: 0.0068 - conv2d_20_loss: 0.1443\n",
      "\n",
      "Epoch 00001: loss did not improve from 18.17765\n"
     ]
    },
    {
     "name": "stderr",
     "output_type": "stream",
     "text": [
      "\n",
      "\n",
      "\n",
      "111it [07:36,  4.09s/it]\u001b[A\u001b[A\u001b[A"
     ]
    },
    {
     "name": "stdout",
     "output_type": "stream",
     "text": [
      "iteration : 111\n",
      "Epoch 1/1\n",
      " 8/16 [==============>...............] - ETA: 0s - loss: 6.5151 - acc: 0.2500"
     ]
    },
    {
     "name": "stderr",
     "output_type": "stream",
     "text": [
      "/opt/conda/lib/python3.6/site-packages/keras/engine/training.py:490: UserWarning: Discrepancy between trainable weights and collected trainable weights, did you set `model.trainable` without calling `model.compile` after ?\n",
      "  'Discrepancy between trainable weights and collected trainable'\n"
     ]
    },
    {
     "name": "stdout",
     "output_type": "stream",
     "text": [
      "16/16 [==============================] - 0s 24ms/step - loss: 5.8077 - acc: 0.1875\n",
      "Epoch 1/1\n",
      "8/8 [==============================] - 1s 98ms/step - loss: 20.0007 - model_1_loss: 6.2970e-04 - conv2d_20_loss: 0.1436\n",
      "\n",
      "Epoch 00001: loss did not improve from 18.17765\n"
     ]
    },
    {
     "name": "stderr",
     "output_type": "stream",
     "text": [
      "\n",
      "\n",
      "\n",
      "112it [07:40,  4.09s/it]\u001b[A\u001b[A\u001b[A"
     ]
    },
    {
     "name": "stdout",
     "output_type": "stream",
     "text": [
      "iteration : 112\n",
      "Epoch 1/1\n",
      " 8/16 [==============>...............] - ETA: 0s - loss: 7.9912 - acc: 0.1250"
     ]
    },
    {
     "name": "stderr",
     "output_type": "stream",
     "text": [
      "/opt/conda/lib/python3.6/site-packages/keras/engine/training.py:490: UserWarning: Discrepancy between trainable weights and collected trainable weights, did you set `model.trainable` without calling `model.compile` after ?\n",
      "  'Discrepancy between trainable weights and collected trainable'\n"
     ]
    },
    {
     "name": "stdout",
     "output_type": "stream",
     "text": [
      "16/16 [==============================] - 0s 23ms/step - loss: 6.5917 - acc: 0.1250\n",
      "Epoch 1/1\n",
      "8/8 [==============================] - 1s 97ms/step - loss: 18.6287 - model_1_loss: 4.4047e-04 - conv2d_20_loss: 0.1299\n",
      "\n",
      "Epoch 00001: loss did not improve from 18.17765\n"
     ]
    },
    {
     "name": "stderr",
     "output_type": "stream",
     "text": [
      "\n",
      "\n",
      "\n",
      "113it [07:44,  4.09s/it]\u001b[A\u001b[A\u001b[A"
     ]
    },
    {
     "name": "stdout",
     "output_type": "stream",
     "text": [
      "iteration : 113\n",
      "Epoch 1/1\n",
      " 8/16 [==============>...............] - ETA: 0s - loss: 6.1613 - acc: 0.1250"
     ]
    },
    {
     "name": "stderr",
     "output_type": "stream",
     "text": [
      "/opt/conda/lib/python3.6/site-packages/keras/engine/training.py:490: UserWarning: Discrepancy between trainable weights and collected trainable weights, did you set `model.trainable` without calling `model.compile` after ?\n",
      "  'Discrepancy between trainable weights and collected trainable'\n"
     ]
    },
    {
     "name": "stdout",
     "output_type": "stream",
     "text": [
      "16/16 [==============================] - 0s 24ms/step - loss: 6.2079 - acc: 0.1250\n",
      "Epoch 1/1\n",
      "8/8 [==============================] - 1s 98ms/step - loss: 18.0791 - model_1_loss: 8.9546e-04 - conv2d_20_loss: 0.1244\n",
      "\n",
      "Epoch 00001: loss improved from 18.17765 to 18.07910, saving model to weights-improvement.hdf5\n"
     ]
    },
    {
     "name": "stderr",
     "output_type": "stream",
     "text": [
      "\n",
      "\n",
      "\n",
      "114it [07:49,  4.27s/it]\u001b[A\u001b[A\u001b[A"
     ]
    },
    {
     "name": "stdout",
     "output_type": "stream",
     "text": [
      "iteration : 114\n",
      "Epoch 1/1\n",
      " 8/16 [==============>...............] - ETA: 0s - loss: 7.1994 - acc: 0.1250"
     ]
    },
    {
     "name": "stderr",
     "output_type": "stream",
     "text": [
      "/opt/conda/lib/python3.6/site-packages/keras/engine/training.py:490: UserWarning: Discrepancy between trainable weights and collected trainable weights, did you set `model.trainable` without calling `model.compile` after ?\n",
      "  'Discrepancy between trainable weights and collected trainable'\n"
     ]
    },
    {
     "name": "stdout",
     "output_type": "stream",
     "text": [
      "16/16 [==============================] - 0s 23ms/step - loss: 6.0754 - acc: 0.1250\n",
      "Epoch 1/1\n",
      "8/8 [==============================] - 1s 97ms/step - loss: 20.0317 - model_1_loss: 0.0035 - conv2d_20_loss: 0.1438\n",
      "\n",
      "Epoch 00001: loss did not improve from 18.07910\n"
     ]
    },
    {
     "name": "stderr",
     "output_type": "stream",
     "text": [
      "\n",
      "\n",
      "\n",
      "115it [07:53,  4.28s/it]\u001b[A\u001b[A\u001b[A"
     ]
    },
    {
     "name": "stdout",
     "output_type": "stream",
     "text": [
      "iteration : 115\n",
      "Epoch 1/1\n",
      " 8/16 [==============>...............] - ETA: 0s - loss: 3.2149 - acc: 0.2500"
     ]
    },
    {
     "name": "stderr",
     "output_type": "stream",
     "text": [
      "/opt/conda/lib/python3.6/site-packages/keras/engine/training.py:490: UserWarning: Discrepancy between trainable weights and collected trainable weights, did you set `model.trainable` without calling `model.compile` after ?\n",
      "  'Discrepancy between trainable weights and collected trainable'\n"
     ]
    },
    {
     "name": "stdout",
     "output_type": "stream",
     "text": [
      "16/16 [==============================] - 0s 24ms/step - loss: 5.7519 - acc: 0.1250\n",
      "Epoch 1/1\n",
      "8/8 [==============================] - 1s 98ms/step - loss: 19.4710 - model_1_loss: 0.0010 - conv2d_20_loss: 0.1383\n",
      "\n",
      "Epoch 00001: loss did not improve from 18.07910\n"
     ]
    },
    {
     "name": "stderr",
     "output_type": "stream",
     "text": [
      "\n",
      "\n",
      "\n",
      "116it [07:57,  4.24s/it]\u001b[A\u001b[A\u001b[A"
     ]
    },
    {
     "name": "stdout",
     "output_type": "stream",
     "text": [
      "iteration : 116\n",
      "Epoch 1/1\n",
      " 8/16 [==============>...............] - ETA: 0s - loss: 4.6349 - acc: 0.1250"
     ]
    },
    {
     "name": "stderr",
     "output_type": "stream",
     "text": [
      "/opt/conda/lib/python3.6/site-packages/keras/engine/training.py:490: UserWarning: Discrepancy between trainable weights and collected trainable weights, did you set `model.trainable` without calling `model.compile` after ?\n",
      "  'Discrepancy between trainable weights and collected trainable'\n"
     ]
    },
    {
     "name": "stdout",
     "output_type": "stream",
     "text": [
      "16/16 [==============================] - 0s 23ms/step - loss: 5.2115 - acc: 0.0625\n",
      "Epoch 1/1\n",
      "8/8 [==============================] - 1s 97ms/step - loss: 18.8593 - model_1_loss: 0.0053 - conv2d_20_loss: 0.1320\n",
      "\n",
      "Epoch 00001: loss did not improve from 18.07910\n"
     ]
    },
    {
     "name": "stderr",
     "output_type": "stream",
     "text": [
      "\n",
      "\n",
      "\n",
      "117it [08:01,  4.19s/it]\u001b[A\u001b[A\u001b[A"
     ]
    },
    {
     "name": "stdout",
     "output_type": "stream",
     "text": [
      "iteration : 117\n",
      "Epoch 1/1\n",
      " 8/16 [==============>...............] - ETA: 0s - loss: 6.1323 - acc: 0.0000e+00"
     ]
    },
    {
     "name": "stderr",
     "output_type": "stream",
     "text": [
      "/opt/conda/lib/python3.6/site-packages/keras/engine/training.py:490: UserWarning: Discrepancy between trainable weights and collected trainable weights, did you set `model.trainable` without calling `model.compile` after ?\n",
      "  'Discrepancy between trainable weights and collected trainable'\n"
     ]
    },
    {
     "name": "stdout",
     "output_type": "stream",
     "text": [
      "16/16 [==============================] - 0s 24ms/step - loss: 4.5466 - acc: 0.1875\n",
      "Epoch 1/1\n",
      "8/8 [==============================] - 1s 98ms/step - loss: 20.5435 - model_1_loss: 7.5772e-04 - conv2d_20_loss: 0.1491\n",
      "\n",
      "Epoch 00001: loss did not improve from 18.07910\n"
     ]
    },
    {
     "name": "stderr",
     "output_type": "stream",
     "text": [
      "\n",
      "\n",
      "\n",
      "118it [08:05,  4.16s/it]\u001b[A\u001b[A\u001b[A"
     ]
    },
    {
     "name": "stdout",
     "output_type": "stream",
     "text": [
      "iteration : 118\n",
      "Epoch 1/1\n",
      " 8/16 [==============>...............] - ETA: 0s - loss: 5.6339 - acc: 0.1250"
     ]
    },
    {
     "name": "stderr",
     "output_type": "stream",
     "text": [
      "/opt/conda/lib/python3.6/site-packages/keras/engine/training.py:490: UserWarning: Discrepancy between trainable weights and collected trainable weights, did you set `model.trainable` without calling `model.compile` after ?\n",
      "  'Discrepancy between trainable weights and collected trainable'\n"
     ]
    },
    {
     "name": "stdout",
     "output_type": "stream",
     "text": [
      "16/16 [==============================] - 0s 23ms/step - loss: 5.5728 - acc: 0.1250\n",
      "Epoch 1/1\n",
      "8/8 [==============================] - 1s 97ms/step - loss: 19.9896 - model_1_loss: 0.0056 - conv2d_20_loss: 0.1433\n",
      "\n",
      "Epoch 00001: loss did not improve from 18.07910\n"
     ]
    },
    {
     "name": "stderr",
     "output_type": "stream",
     "text": [
      "\n",
      "\n",
      "\n",
      "119it [08:09,  4.13s/it]\u001b[A\u001b[A\u001b[A"
     ]
    },
    {
     "name": "stdout",
     "output_type": "stream",
     "text": [
      "iteration : 119\n",
      "Epoch 1/1\n",
      " 8/16 [==============>...............] - ETA: 0s - loss: 5.9663 - acc: 0.1250"
     ]
    },
    {
     "name": "stderr",
     "output_type": "stream",
     "text": [
      "/opt/conda/lib/python3.6/site-packages/keras/engine/training.py:490: UserWarning: Discrepancy between trainable weights and collected trainable weights, did you set `model.trainable` without calling `model.compile` after ?\n",
      "  'Discrepancy between trainable weights and collected trainable'\n"
     ]
    },
    {
     "name": "stdout",
     "output_type": "stream",
     "text": [
      "16/16 [==============================] - 0s 24ms/step - loss: 4.8826 - acc: 0.1250\n",
      "Epoch 1/1\n",
      "8/8 [==============================] - 1s 98ms/step - loss: 18.5289 - model_1_loss: 0.0205 - conv2d_20_loss: 0.1279\n",
      "\n",
      "Epoch 00001: loss did not improve from 18.07910\n"
     ]
    },
    {
     "name": "stderr",
     "output_type": "stream",
     "text": [
      "\n",
      "\n",
      "\n",
      "120it [08:13,  4.11s/it]\u001b[A\u001b[A\u001b[A"
     ]
    },
    {
     "name": "stdout",
     "output_type": "stream",
     "text": [
      "iteration : 120\n",
      "Epoch 1/1\n",
      " 8/16 [==============>...............] - ETA: 0s - loss: 7.7808 - acc: 0.2500"
     ]
    },
    {
     "name": "stderr",
     "output_type": "stream",
     "text": [
      "/opt/conda/lib/python3.6/site-packages/keras/engine/training.py:490: UserWarning: Discrepancy between trainable weights and collected trainable weights, did you set `model.trainable` without calling `model.compile` after ?\n",
      "  'Discrepancy between trainable weights and collected trainable'\n"
     ]
    },
    {
     "name": "stdout",
     "output_type": "stream",
     "text": [
      "16/16 [==============================] - 0s 23ms/step - loss: 6.9661 - acc: 0.1250\n",
      "Epoch 1/1\n",
      "8/8 [==============================] - 1s 97ms/step - loss: 19.0007 - model_1_loss: 7.6690e-04 - conv2d_20_loss: 0.1336\n",
      "\n",
      "Epoch 00001: loss did not improve from 18.07910\n"
     ]
    },
    {
     "name": "stderr",
     "output_type": "stream",
     "text": [
      "\n",
      "\n",
      "\n",
      "121it [08:17,  4.10s/it]\u001b[A\u001b[A\u001b[A"
     ]
    },
    {
     "name": "stdout",
     "output_type": "stream",
     "text": [
      "iteration : 121\n",
      "Epoch 1/1\n",
      " 8/16 [==============>...............] - ETA: 0s - loss: 6.0992 - acc: 0.1250"
     ]
    },
    {
     "name": "stderr",
     "output_type": "stream",
     "text": [
      "/opt/conda/lib/python3.6/site-packages/keras/engine/training.py:490: UserWarning: Discrepancy between trainable weights and collected trainable weights, did you set `model.trainable` without calling `model.compile` after ?\n",
      "  'Discrepancy between trainable weights and collected trainable'\n"
     ]
    },
    {
     "name": "stdout",
     "output_type": "stream",
     "text": [
      "16/16 [==============================] - 0s 24ms/step - loss: 5.2839 - acc: 0.1250\n",
      "Epoch 1/1\n",
      "8/8 [==============================] - 1s 99ms/step - loss: 18.9887 - model_1_loss: 0.0021 - conv2d_20_loss: 0.1335\n",
      "\n",
      "Epoch 00001: loss did not improve from 18.07910\n"
     ]
    },
    {
     "name": "stderr",
     "output_type": "stream",
     "text": [
      "\n",
      "\n",
      "\n",
      "122it [08:22,  4.10s/it]\u001b[A\u001b[A\u001b[A"
     ]
    },
    {
     "name": "stdout",
     "output_type": "stream",
     "text": [
      "iteration : 122\n",
      "Epoch 1/1\n",
      " 8/16 [==============>...............] - ETA: 0s - loss: 4.8079 - acc: 0.1250"
     ]
    },
    {
     "name": "stderr",
     "output_type": "stream",
     "text": [
      "/opt/conda/lib/python3.6/site-packages/keras/engine/training.py:490: UserWarning: Discrepancy between trainable weights and collected trainable weights, did you set `model.trainable` without calling `model.compile` after ?\n",
      "  'Discrepancy between trainable weights and collected trainable'\n"
     ]
    },
    {
     "name": "stdout",
     "output_type": "stream",
     "text": [
      "16/16 [==============================] - 0s 23ms/step - loss: 5.0146 - acc: 0.1250\n",
      "Epoch 1/1\n",
      "8/8 [==============================] - 1s 97ms/step - loss: 20.2547 - model_1_loss: 0.0150 - conv2d_20_loss: 0.1455\n",
      "\n",
      "Epoch 00001: loss did not improve from 18.07910\n"
     ]
    },
    {
     "name": "stderr",
     "output_type": "stream",
     "text": [
      "\n",
      "\n",
      "\n",
      "123it [08:26,  4.10s/it]\u001b[A\u001b[A\u001b[A"
     ]
    },
    {
     "name": "stdout",
     "output_type": "stream",
     "text": [
      "iteration : 123\n",
      "Epoch 1/1\n",
      " 8/16 [==============>...............] - ETA: 0s - loss: 6.6859 - acc: 0.0000e+00"
     ]
    },
    {
     "name": "stderr",
     "output_type": "stream",
     "text": [
      "/opt/conda/lib/python3.6/site-packages/keras/engine/training.py:490: UserWarning: Discrepancy between trainable weights and collected trainable weights, did you set `model.trainable` without calling `model.compile` after ?\n",
      "  'Discrepancy between trainable weights and collected trainable'\n"
     ]
    },
    {
     "name": "stdout",
     "output_type": "stream",
     "text": [
      "16/16 [==============================] - 0s 24ms/step - loss: 5.7374 - acc: 0.1250\n",
      "Epoch 1/1\n",
      "8/8 [==============================] - 1s 98ms/step - loss: 17.8106 - model_1_loss: 0.0341 - conv2d_20_loss: 0.1201\n",
      "\n",
      "Epoch 00001: loss improved from 18.07910 to 17.81060, saving model to weights-improvement.hdf5\n"
     ]
    },
    {
     "name": "stderr",
     "output_type": "stream",
     "text": [
      "\n",
      "\n",
      "\n",
      "124it [08:30,  4.27s/it]\u001b[A\u001b[A\u001b[A"
     ]
    },
    {
     "name": "stdout",
     "output_type": "stream",
     "text": [
      "iteration : 124\n",
      "Epoch 1/1\n",
      " 8/16 [==============>...............] - ETA: 0s - loss: 6.3545 - acc: 0.0000e+00"
     ]
    },
    {
     "name": "stderr",
     "output_type": "stream",
     "text": [
      "/opt/conda/lib/python3.6/site-packages/keras/engine/training.py:490: UserWarning: Discrepancy between trainable weights and collected trainable weights, did you set `model.trainable` without calling `model.compile` after ?\n",
      "  'Discrepancy between trainable weights and collected trainable'\n"
     ]
    },
    {
     "name": "stdout",
     "output_type": "stream",
     "text": [
      "16/16 [==============================] - 0s 23ms/step - loss: 6.0035 - acc: 0.1250\n",
      "Epoch 1/1\n",
      "8/8 [==============================] - 1s 97ms/step - loss: 19.0713 - model_1_loss: 0.0036 - conv2d_20_loss: 0.1342\n",
      "\n",
      "Epoch 00001: loss did not improve from 17.81060\n"
     ]
    },
    {
     "name": "stderr",
     "output_type": "stream",
     "text": [
      "\n",
      "\n",
      "\n",
      "125it [08:34,  4.25s/it]\u001b[A\u001b[A\u001b[A"
     ]
    },
    {
     "name": "stdout",
     "output_type": "stream",
     "text": [
      "iteration : 125\n",
      "Epoch 1/1\n",
      " 8/16 [==============>...............] - ETA: 0s - loss: 7.5209 - acc: 0.2500"
     ]
    },
    {
     "name": "stderr",
     "output_type": "stream",
     "text": [
      "/opt/conda/lib/python3.6/site-packages/keras/engine/training.py:490: UserWarning: Discrepancy between trainable weights and collected trainable weights, did you set `model.trainable` without calling `model.compile` after ?\n",
      "  'Discrepancy between trainable weights and collected trainable'\n"
     ]
    },
    {
     "name": "stdout",
     "output_type": "stream",
     "text": [
      "16/16 [==============================] - 0s 24ms/step - loss: 6.7356 - acc: 0.1250\n",
      "Epoch 1/1\n",
      "8/8 [==============================] - 1s 98ms/step - loss: 16.8220 - model_1_loss: 0.0036 - conv2d_20_loss: 0.1117\n",
      "\n",
      "Epoch 00001: loss improved from 17.81060 to 16.82198, saving model to weights-improvement.hdf5\n"
     ]
    },
    {
     "name": "stderr",
     "output_type": "stream",
     "text": [
      "\n",
      "\n",
      "\n",
      "126it [08:39,  4.43s/it]\u001b[A\u001b[A\u001b[A"
     ]
    },
    {
     "name": "stdout",
     "output_type": "stream",
     "text": [
      "iteration : 126\n",
      "Epoch 1/1\n",
      " 8/16 [==============>...............] - ETA: 0s - loss: 6.2336 - acc: 0.2500"
     ]
    },
    {
     "name": "stderr",
     "output_type": "stream",
     "text": [
      "/opt/conda/lib/python3.6/site-packages/keras/engine/training.py:490: UserWarning: Discrepancy between trainable weights and collected trainable weights, did you set `model.trainable` without calling `model.compile` after ?\n",
      "  'Discrepancy between trainable weights and collected trainable'\n"
     ]
    },
    {
     "name": "stdout",
     "output_type": "stream",
     "text": [
      "16/16 [==============================] - 0s 23ms/step - loss: 5.7941 - acc: 0.2500\n",
      "Epoch 1/1\n",
      "8/8 [==============================] - 1s 97ms/step - loss: 18.5567 - model_1_loss: 0.0361 - conv2d_20_loss: 0.1274\n",
      "\n",
      "Epoch 00001: loss did not improve from 16.82198\n"
     ]
    },
    {
     "name": "stderr",
     "output_type": "stream",
     "text": [
      "\n",
      "\n",
      "\n",
      "127it [08:43,  4.34s/it]\u001b[A\u001b[A\u001b[A"
     ]
    },
    {
     "name": "stdout",
     "output_type": "stream",
     "text": [
      "iteration : 127\n",
      "Epoch 1/1\n",
      " 8/16 [==============>...............] - ETA: 0s - loss: 6.1770 - acc: 0.2500"
     ]
    },
    {
     "name": "stderr",
     "output_type": "stream",
     "text": [
      "/opt/conda/lib/python3.6/site-packages/keras/engine/training.py:490: UserWarning: Discrepancy between trainable weights and collected trainable weights, did you set `model.trainable` without calling `model.compile` after ?\n",
      "  'Discrepancy between trainable weights and collected trainable'\n"
     ]
    },
    {
     "name": "stdout",
     "output_type": "stream",
     "text": [
      "16/16 [==============================] - 0s 24ms/step - loss: 6.4869 - acc: 0.1250\n",
      "Epoch 1/1\n",
      "8/8 [==============================] - 1s 98ms/step - loss: 19.9864 - model_1_loss: 0.0338 - conv2d_20_loss: 0.1418\n",
      "\n",
      "Epoch 00001: loss did not improve from 16.82198\n"
     ]
    },
    {
     "name": "stderr",
     "output_type": "stream",
     "text": [
      "\n",
      "\n",
      "\n",
      "128it [08:48,  4.28s/it]\u001b[A\u001b[A\u001b[A"
     ]
    },
    {
     "name": "stdout",
     "output_type": "stream",
     "text": [
      "iteration : 128\n",
      "Epoch 1/1\n",
      " 8/16 [==============>...............] - ETA: 0s - loss: 4.4034 - acc: 0.3750"
     ]
    },
    {
     "name": "stderr",
     "output_type": "stream",
     "text": [
      "/opt/conda/lib/python3.6/site-packages/keras/engine/training.py:490: UserWarning: Discrepancy between trainable weights and collected trainable weights, did you set `model.trainable` without calling `model.compile` after ?\n",
      "  'Discrepancy between trainable weights and collected trainable'\n"
     ]
    },
    {
     "name": "stdout",
     "output_type": "stream",
     "text": [
      "16/16 [==============================] - 0s 23ms/step - loss: 4.8702 - acc: 0.3125\n",
      "Epoch 1/1\n",
      "8/8 [==============================] - 1s 97ms/step - loss: 18.7772 - model_1_loss: 0.0114 - conv2d_20_loss: 0.1309\n",
      "\n",
      "Epoch 00001: loss did not improve from 16.82198\n"
     ]
    },
    {
     "name": "stderr",
     "output_type": "stream",
     "text": [
      "\n",
      "\n",
      "\n",
      "129it [08:52,  4.22s/it]\u001b[A\u001b[A\u001b[A"
     ]
    },
    {
     "name": "stdout",
     "output_type": "stream",
     "text": [
      "iteration : 129\n",
      "Epoch 1/1\n",
      " 8/16 [==============>...............] - ETA: 0s - loss: 6.1175 - acc: 0.2500"
     ]
    },
    {
     "name": "stderr",
     "output_type": "stream",
     "text": [
      "/opt/conda/lib/python3.6/site-packages/keras/engine/training.py:490: UserWarning: Discrepancy between trainable weights and collected trainable weights, did you set `model.trainable` without calling `model.compile` after ?\n",
      "  'Discrepancy between trainable weights and collected trainable'\n"
     ]
    },
    {
     "name": "stdout",
     "output_type": "stream",
     "text": [
      "16/16 [==============================] - 0s 24ms/step - loss: 4.7371 - acc: 0.3125\n",
      "Epoch 1/1\n",
      "8/8 [==============================] - 1s 98ms/step - loss: 18.7630 - model_1_loss: 0.0773 - conv2d_20_loss: 0.1274\n",
      "\n",
      "Epoch 00001: loss did not improve from 16.82198\n"
     ]
    },
    {
     "name": "stderr",
     "output_type": "stream",
     "text": [
      "\n",
      "\n",
      "\n",
      "130it [08:56,  4.19s/it]\u001b[A\u001b[A\u001b[A"
     ]
    },
    {
     "name": "stdout",
     "output_type": "stream",
     "text": [
      "iteration : 130\n",
      "Epoch 1/1\n",
      " 8/16 [==============>...............] - ETA: 0s - loss: 6.6218 - acc: 0.0000e+00"
     ]
    },
    {
     "name": "stderr",
     "output_type": "stream",
     "text": [
      "/opt/conda/lib/python3.6/site-packages/keras/engine/training.py:490: UserWarning: Discrepancy between trainable weights and collected trainable weights, did you set `model.trainable` without calling `model.compile` after ?\n",
      "  'Discrepancy between trainable weights and collected trainable'\n"
     ]
    },
    {
     "name": "stdout",
     "output_type": "stream",
     "text": [
      "16/16 [==============================] - 0s 23ms/step - loss: 6.1704 - acc: 0.1875\n",
      "Epoch 1/1\n",
      "8/8 [==============================] - 1s 97ms/step - loss: 19.3840 - model_1_loss: 0.0011 - conv2d_20_loss: 0.1375\n",
      "\n",
      "Epoch 00001: loss did not improve from 16.82198\n"
     ]
    },
    {
     "name": "stderr",
     "output_type": "stream",
     "text": [
      "\n",
      "\n",
      "\n",
      "131it [09:00,  4.14s/it]\u001b[A\u001b[A\u001b[A"
     ]
    },
    {
     "name": "stdout",
     "output_type": "stream",
     "text": [
      "iteration : 131\n",
      "Epoch 1/1\n",
      " 8/16 [==============>...............] - ETA: 0s - loss: 6.0425 - acc: 0.3750"
     ]
    },
    {
     "name": "stderr",
     "output_type": "stream",
     "text": [
      "/opt/conda/lib/python3.6/site-packages/keras/engine/training.py:490: UserWarning: Discrepancy between trainable weights and collected trainable weights, did you set `model.trainable` without calling `model.compile` after ?\n",
      "  'Discrepancy between trainable weights and collected trainable'\n"
     ]
    },
    {
     "name": "stdout",
     "output_type": "stream",
     "text": [
      "16/16 [==============================] - 0s 24ms/step - loss: 6.9569 - acc: 0.2500\n",
      "Epoch 1/1\n",
      "8/8 [==============================] - 1s 98ms/step - loss: 19.0158 - model_1_loss: 0.0012 - conv2d_20_loss: 0.1338\n",
      "\n",
      "Epoch 00001: loss did not improve from 16.82198\n"
     ]
    },
    {
     "name": "stderr",
     "output_type": "stream",
     "text": [
      "\n",
      "\n",
      "\n",
      "132it [09:04,  4.13s/it]\u001b[A\u001b[A\u001b[A"
     ]
    },
    {
     "name": "stdout",
     "output_type": "stream",
     "text": [
      "iteration : 132\n",
      "Epoch 1/1\n",
      " 8/16 [==============>...............] - ETA: 0s - loss: 8.9405 - acc: 0.0000e+00"
     ]
    },
    {
     "name": "stderr",
     "output_type": "stream",
     "text": [
      "/opt/conda/lib/python3.6/site-packages/keras/engine/training.py:490: UserWarning: Discrepancy between trainable weights and collected trainable weights, did you set `model.trainable` without calling `model.compile` after ?\n",
      "  'Discrepancy between trainable weights and collected trainable'\n"
     ]
    },
    {
     "name": "stdout",
     "output_type": "stream",
     "text": [
      "16/16 [==============================] - 0s 23ms/step - loss: 7.5136 - acc: 0.1250\n",
      "Epoch 1/1\n",
      "8/8 [==============================] - 1s 96ms/step - loss: 18.6088 - model_1_loss: 0.0011 - conv2d_20_loss: 0.1297\n",
      "\n",
      "Epoch 00001: loss did not improve from 16.82198\n"
     ]
    },
    {
     "name": "stderr",
     "output_type": "stream",
     "text": [
      "\n",
      "\n",
      "\n",
      "133it [09:08,  4.11s/it]\u001b[A\u001b[A\u001b[A"
     ]
    },
    {
     "name": "stdout",
     "output_type": "stream",
     "text": [
      "iteration : 133\n",
      "Epoch 1/1\n",
      " 8/16 [==============>...............] - ETA: 0s - loss: 6.9964 - acc: 0.0000e+00"
     ]
    },
    {
     "name": "stderr",
     "output_type": "stream",
     "text": [
      "/opt/conda/lib/python3.6/site-packages/keras/engine/training.py:490: UserWarning: Discrepancy between trainable weights and collected trainable weights, did you set `model.trainable` without calling `model.compile` after ?\n",
      "  'Discrepancy between trainable weights and collected trainable'\n"
     ]
    },
    {
     "name": "stdout",
     "output_type": "stream",
     "text": [
      "16/16 [==============================] - 0s 24ms/step - loss: 6.9770 - acc: 0.0000e+00\n",
      "Epoch 1/1\n",
      "8/8 [==============================] - 1s 98ms/step - loss: 18.8829 - model_1_loss: 4.9624e-04 - conv2d_20_loss: 0.1325\n",
      "\n",
      "Epoch 00001: loss did not improve from 16.82198\n"
     ]
    },
    {
     "name": "stderr",
     "output_type": "stream",
     "text": [
      "\n",
      "\n",
      "\n",
      "134it [09:12,  4.11s/it]\u001b[A\u001b[A\u001b[A"
     ]
    },
    {
     "name": "stdout",
     "output_type": "stream",
     "text": [
      "iteration : 134\n",
      "Epoch 1/1\n",
      " 8/16 [==============>...............] - ETA: 0s - loss: 7.3304 - acc: 0.1250"
     ]
    },
    {
     "name": "stderr",
     "output_type": "stream",
     "text": [
      "/opt/conda/lib/python3.6/site-packages/keras/engine/training.py:490: UserWarning: Discrepancy between trainable weights and collected trainable weights, did you set `model.trainable` without calling `model.compile` after ?\n",
      "  'Discrepancy between trainable weights and collected trainable'\n"
     ]
    },
    {
     "name": "stdout",
     "output_type": "stream",
     "text": [
      "16/16 [==============================] - 0s 23ms/step - loss: 7.5425 - acc: 0.1875\n",
      "Epoch 1/1\n",
      "8/8 [==============================] - 1s 97ms/step - loss: 18.2620 - model_1_loss: 0.0080 - conv2d_20_loss: 0.1259\n",
      "\n",
      "Epoch 00001: loss did not improve from 16.82198\n"
     ]
    },
    {
     "name": "stderr",
     "output_type": "stream",
     "text": [
      "\n",
      "\n",
      "\n",
      "135it [09:16,  4.09s/it]\u001b[A\u001b[A\u001b[A"
     ]
    },
    {
     "name": "stdout",
     "output_type": "stream",
     "text": [
      "iteration : 135\n",
      "Epoch 1/1\n",
      " 8/16 [==============>...............] - ETA: 0s - loss: 2.7196 - acc: 0.5000"
     ]
    },
    {
     "name": "stderr",
     "output_type": "stream",
     "text": [
      "/opt/conda/lib/python3.6/site-packages/keras/engine/training.py:490: UserWarning: Discrepancy between trainable weights and collected trainable weights, did you set `model.trainable` without calling `model.compile` after ?\n",
      "  'Discrepancy between trainable weights and collected trainable'\n"
     ]
    },
    {
     "name": "stdout",
     "output_type": "stream",
     "text": [
      "16/16 [==============================] - 0s 24ms/step - loss: 6.0597 - acc: 0.2500\n",
      "Epoch 1/1\n",
      "8/8 [==============================] - 1s 98ms/step - loss: 18.5089 - model_1_loss: 0.0075 - conv2d_20_loss: 0.1284\n",
      "\n",
      "Epoch 00001: loss did not improve from 16.82198\n"
     ]
    },
    {
     "name": "stderr",
     "output_type": "stream",
     "text": [
      "\n",
      "\n",
      "\n",
      "136it [09:20,  4.09s/it]\u001b[A\u001b[A\u001b[A"
     ]
    },
    {
     "name": "stdout",
     "output_type": "stream",
     "text": [
      "iteration : 136\n",
      "Epoch 1/1\n",
      " 8/16 [==============>...............] - ETA: 0s - loss: 5.9738 - acc: 0.2500"
     ]
    },
    {
     "name": "stderr",
     "output_type": "stream",
     "text": [
      "/opt/conda/lib/python3.6/site-packages/keras/engine/training.py:490: UserWarning: Discrepancy between trainable weights and collected trainable weights, did you set `model.trainable` without calling `model.compile` after ?\n",
      "  'Discrepancy between trainable weights and collected trainable'\n"
     ]
    },
    {
     "name": "stdout",
     "output_type": "stream",
     "text": [
      "16/16 [==============================] - 0s 23ms/step - loss: 7.0469 - acc: 0.1875\n",
      "Epoch 1/1\n",
      "8/8 [==============================] - 1s 97ms/step - loss: 19.9419 - model_1_loss: 3.6119e-04 - conv2d_20_loss: 0.1431\n",
      "\n",
      "Epoch 00001: loss did not improve from 16.82198\n"
     ]
    },
    {
     "name": "stderr",
     "output_type": "stream",
     "text": [
      "\n",
      "\n",
      "\n",
      "137it [09:24,  4.08s/it]\u001b[A\u001b[A\u001b[A"
     ]
    },
    {
     "name": "stdout",
     "output_type": "stream",
     "text": [
      "iteration : 137\n",
      "Epoch 1/1\n",
      " 8/16 [==============>...............] - ETA: 0s - loss: 7.3955 - acc: 0.1250"
     ]
    },
    {
     "name": "stderr",
     "output_type": "stream",
     "text": [
      "/opt/conda/lib/python3.6/site-packages/keras/engine/training.py:490: UserWarning: Discrepancy between trainable weights and collected trainable weights, did you set `model.trainable` without calling `model.compile` after ?\n",
      "  'Discrepancy between trainable weights and collected trainable'\n"
     ]
    },
    {
     "name": "stdout",
     "output_type": "stream",
     "text": [
      "16/16 [==============================] - 0s 24ms/step - loss: 7.2163 - acc: 0.3125\n",
      "Epoch 1/1\n",
      "8/8 [==============================] - 1s 98ms/step - loss: 18.2112 - model_1_loss: 1.5177e-05 - conv2d_20_loss: 0.1258\n",
      "\n",
      "Epoch 00001: loss did not improve from 16.82198\n"
     ]
    },
    {
     "name": "stderr",
     "output_type": "stream",
     "text": [
      "\n",
      "\n",
      "\n",
      "138it [09:28,  4.09s/it]\u001b[A\u001b[A\u001b[A"
     ]
    },
    {
     "name": "stdout",
     "output_type": "stream",
     "text": [
      "iteration : 138\n",
      "Epoch 1/1\n",
      " 8/16 [==============>...............] - ETA: 0s - loss: 6.6919 - acc: 0.2500"
     ]
    },
    {
     "name": "stderr",
     "output_type": "stream",
     "text": [
      "/opt/conda/lib/python3.6/site-packages/keras/engine/training.py:490: UserWarning: Discrepancy between trainable weights and collected trainable weights, did you set `model.trainable` without calling `model.compile` after ?\n",
      "  'Discrepancy between trainable weights and collected trainable'\n"
     ]
    },
    {
     "name": "stdout",
     "output_type": "stream",
     "text": [
      "16/16 [==============================] - 0s 23ms/step - loss: 7.1080 - acc: 0.1875\n",
      "Epoch 1/1\n",
      "8/8 [==============================] - 1s 97ms/step - loss: 18.2687 - model_1_loss: 2.7719e-04 - conv2d_20_loss: 0.1264\n",
      "\n",
      "Epoch 00001: loss did not improve from 16.82198\n"
     ]
    },
    {
     "name": "stderr",
     "output_type": "stream",
     "text": [
      "\n",
      "\n",
      "\n",
      "139it [09:32,  4.08s/it]\u001b[A\u001b[A\u001b[A"
     ]
    },
    {
     "name": "stdout",
     "output_type": "stream",
     "text": [
      "iteration : 139\n",
      "Epoch 1/1\n",
      " 8/16 [==============>...............] - ETA: 0s - loss: 6.3718 - acc: 0.0000e+00"
     ]
    },
    {
     "name": "stderr",
     "output_type": "stream",
     "text": [
      "/opt/conda/lib/python3.6/site-packages/keras/engine/training.py:490: UserWarning: Discrepancy between trainable weights and collected trainable weights, did you set `model.trainable` without calling `model.compile` after ?\n",
      "  'Discrepancy between trainable weights and collected trainable'\n"
     ]
    },
    {
     "name": "stdout",
     "output_type": "stream",
     "text": [
      "16/16 [==============================] - 0s 24ms/step - loss: 6.9816 - acc: 0.0625\n",
      "Epoch 1/1\n",
      "8/8 [==============================] - 1s 98ms/step - loss: 18.2178 - model_1_loss: 7.4160e-04 - conv2d_20_loss: 0.1258\n",
      "\n",
      "Epoch 00001: loss did not improve from 16.82198\n"
     ]
    },
    {
     "name": "stderr",
     "output_type": "stream",
     "text": [
      "\n",
      "\n",
      "\n",
      "140it [09:37,  4.08s/it]\u001b[A\u001b[A\u001b[A"
     ]
    },
    {
     "name": "stdout",
     "output_type": "stream",
     "text": [
      "iteration : 140\n",
      "Epoch 1/1\n",
      " 8/16 [==============>...............] - ETA: 0s - loss: 7.9923 - acc: 0.1250"
     ]
    },
    {
     "name": "stderr",
     "output_type": "stream",
     "text": [
      "/opt/conda/lib/python3.6/site-packages/keras/engine/training.py:490: UserWarning: Discrepancy between trainable weights and collected trainable weights, did you set `model.trainable` without calling `model.compile` after ?\n",
      "  'Discrepancy between trainable weights and collected trainable'\n"
     ]
    },
    {
     "name": "stdout",
     "output_type": "stream",
     "text": [
      "16/16 [==============================] - 0s 23ms/step - loss: 6.4289 - acc: 0.3750\n",
      "Epoch 1/1\n",
      "8/8 [==============================] - 1s 97ms/step - loss: 18.9288 - model_1_loss: 0.1374 - conv2d_20_loss: 0.1261\n",
      "\n",
      "Epoch 00001: loss did not improve from 16.82198\n"
     ]
    },
    {
     "name": "stderr",
     "output_type": "stream",
     "text": [
      "\n",
      "\n",
      "\n",
      "141it [09:41,  4.08s/it]\u001b[A\u001b[A\u001b[A"
     ]
    },
    {
     "name": "stdout",
     "output_type": "stream",
     "text": [
      "iteration : 141\n",
      "Epoch 1/1\n",
      " 8/16 [==============>...............] - ETA: 0s - loss: 8.6453 - acc: 0.2500"
     ]
    },
    {
     "name": "stderr",
     "output_type": "stream",
     "text": [
      "/opt/conda/lib/python3.6/site-packages/keras/engine/training.py:490: UserWarning: Discrepancy between trainable weights and collected trainable weights, did you set `model.trainable` without calling `model.compile` after ?\n",
      "  'Discrepancy between trainable weights and collected trainable'\n"
     ]
    },
    {
     "name": "stdout",
     "output_type": "stream",
     "text": [
      "16/16 [==============================] - 0s 24ms/step - loss: 8.2585 - acc: 0.1250\n",
      "Epoch 1/1\n",
      "8/8 [==============================] - 1s 98ms/step - loss: 17.9175 - model_1_loss: 3.3444e-04 - conv2d_20_loss: 0.1228\n",
      "\n",
      "Epoch 00001: loss did not improve from 16.82198\n"
     ]
    },
    {
     "name": "stderr",
     "output_type": "stream",
     "text": [
      "\n",
      "\n",
      "\n",
      "142it [09:45,  4.08s/it]\u001b[A\u001b[A\u001b[A"
     ]
    },
    {
     "name": "stdout",
     "output_type": "stream",
     "text": [
      "iteration : 142\n",
      "Epoch 1/1\n",
      " 8/16 [==============>...............] - ETA: 0s - loss: 9.6885 - acc: 0.1250"
     ]
    },
    {
     "name": "stderr",
     "output_type": "stream",
     "text": [
      "/opt/conda/lib/python3.6/site-packages/keras/engine/training.py:490: UserWarning: Discrepancy between trainable weights and collected trainable weights, did you set `model.trainable` without calling `model.compile` after ?\n",
      "  'Discrepancy between trainable weights and collected trainable'\n"
     ]
    },
    {
     "name": "stdout",
     "output_type": "stream",
     "text": [
      "16/16 [==============================] - 0s 23ms/step - loss: 7.8746 - acc: 0.2500\n",
      "Epoch 1/1\n",
      "8/8 [==============================] - 1s 97ms/step - loss: 18.2972 - model_1_loss: 6.5158e-05 - conv2d_20_loss: 0.1267\n",
      "\n",
      "Epoch 00001: loss did not improve from 16.82198\n"
     ]
    },
    {
     "name": "stderr",
     "output_type": "stream",
     "text": [
      "\n",
      "\n",
      "\n",
      "143it [09:49,  4.08s/it]\u001b[A\u001b[A\u001b[A"
     ]
    },
    {
     "name": "stdout",
     "output_type": "stream",
     "text": [
      "iteration : 143\n",
      "Epoch 1/1\n",
      " 8/16 [==============>...............] - ETA: 0s - loss: 8.3546 - acc: 0.1250"
     ]
    },
    {
     "name": "stderr",
     "output_type": "stream",
     "text": [
      "/opt/conda/lib/python3.6/site-packages/keras/engine/training.py:490: UserWarning: Discrepancy between trainable weights and collected trainable weights, did you set `model.trainable` without calling `model.compile` after ?\n",
      "  'Discrepancy between trainable weights and collected trainable'\n"
     ]
    },
    {
     "name": "stdout",
     "output_type": "stream",
     "text": [
      "16/16 [==============================] - 0s 24ms/step - loss: 7.0728 - acc: 0.1250\n",
      "Epoch 1/1\n",
      "8/8 [==============================] - 1s 98ms/step - loss: 18.7201 - model_1_loss: 2.4163e-05 - conv2d_20_loss: 0.1309\n",
      "\n",
      "Epoch 00001: loss did not improve from 16.82198\n"
     ]
    },
    {
     "name": "stderr",
     "output_type": "stream",
     "text": [
      "\n",
      "\n",
      "\n",
      "144it [09:53,  4.08s/it]\u001b[A\u001b[A\u001b[A"
     ]
    },
    {
     "name": "stdout",
     "output_type": "stream",
     "text": [
      "iteration : 144\n",
      "Epoch 1/1\n",
      " 8/16 [==============>...............] - ETA: 0s - loss: 7.5497 - acc: 0.1250"
     ]
    },
    {
     "name": "stderr",
     "output_type": "stream",
     "text": [
      "/opt/conda/lib/python3.6/site-packages/keras/engine/training.py:490: UserWarning: Discrepancy between trainable weights and collected trainable weights, did you set `model.trainable` without calling `model.compile` after ?\n",
      "  'Discrepancy between trainable weights and collected trainable'\n"
     ]
    },
    {
     "name": "stdout",
     "output_type": "stream",
     "text": [
      "16/16 [==============================] - 0s 23ms/step - loss: 7.0729 - acc: 0.1875\n",
      "Epoch 1/1\n",
      "8/8 [==============================] - 1s 97ms/step - loss: 18.7190 - model_1_loss: 8.1711e-05 - conv2d_20_loss: 0.1309\n",
      "\n",
      "Epoch 00001: loss did not improve from 16.82198\n"
     ]
    },
    {
     "name": "stderr",
     "output_type": "stream",
     "text": [
      "\n",
      "\n",
      "\n",
      "145it [09:57,  4.08s/it]\u001b[A\u001b[A\u001b[A"
     ]
    },
    {
     "name": "stdout",
     "output_type": "stream",
     "text": [
      "iteration : 145\n",
      "Epoch 1/1\n",
      " 8/16 [==============>...............] - ETA: 0s - loss: 6.3371 - acc: 0.1250"
     ]
    },
    {
     "name": "stderr",
     "output_type": "stream",
     "text": [
      "/opt/conda/lib/python3.6/site-packages/keras/engine/training.py:490: UserWarning: Discrepancy between trainable weights and collected trainable weights, did you set `model.trainable` without calling `model.compile` after ?\n",
      "  'Discrepancy between trainable weights and collected trainable'\n"
     ]
    },
    {
     "name": "stdout",
     "output_type": "stream",
     "text": [
      "16/16 [==============================] - 0s 24ms/step - loss: 6.8132 - acc: 0.1875\n",
      "Epoch 1/1\n",
      "8/8 [==============================] - 1s 99ms/step - loss: 17.5481 - model_1_loss: 8.0502e-04 - conv2d_20_loss: 0.1191\n",
      "\n",
      "Epoch 00001: loss did not improve from 16.82198\n"
     ]
    },
    {
     "name": "stderr",
     "output_type": "stream",
     "text": [
      "\n",
      "\n",
      "\n",
      "146it [10:01,  4.08s/it]\u001b[A\u001b[A\u001b[A"
     ]
    },
    {
     "name": "stdout",
     "output_type": "stream",
     "text": [
      "iteration : 146\n",
      "Epoch 1/1\n",
      " 8/16 [==============>...............] - ETA: 0s - loss: 7.8357 - acc: 0.0000e+00"
     ]
    },
    {
     "name": "stderr",
     "output_type": "stream",
     "text": [
      "/opt/conda/lib/python3.6/site-packages/keras/engine/training.py:490: UserWarning: Discrepancy between trainable weights and collected trainable weights, did you set `model.trainable` without calling `model.compile` after ?\n",
      "  'Discrepancy between trainable weights and collected trainable'\n"
     ]
    },
    {
     "name": "stdout",
     "output_type": "stream",
     "text": [
      "16/16 [==============================] - 0s 23ms/step - loss: 6.5404 - acc: 0.1250\n",
      "Epoch 1/1\n",
      "8/8 [==============================] - 1s 97ms/step - loss: 17.5866 - model_1_loss: 3.9945e-05 - conv2d_20_loss: 0.1196\n",
      "\n",
      "Epoch 00001: loss did not improve from 16.82198\n"
     ]
    },
    {
     "name": "stderr",
     "output_type": "stream",
     "text": [
      "\n",
      "\n",
      "\n",
      "147it [10:05,  4.06s/it]\u001b[A\u001b[A\u001b[A"
     ]
    },
    {
     "name": "stdout",
     "output_type": "stream",
     "text": [
      "iteration : 147\n",
      "Epoch 1/1\n",
      " 8/16 [==============>...............] - ETA: 0s - loss: 6.4080 - acc: 0.1250"
     ]
    },
    {
     "name": "stderr",
     "output_type": "stream",
     "text": [
      "/opt/conda/lib/python3.6/site-packages/keras/engine/training.py:490: UserWarning: Discrepancy between trainable weights and collected trainable weights, did you set `model.trainable` without calling `model.compile` after ?\n",
      "  'Discrepancy between trainable weights and collected trainable'\n"
     ]
    },
    {
     "name": "stdout",
     "output_type": "stream",
     "text": [
      "16/16 [==============================] - 0s 23ms/step - loss: 6.9412 - acc: 0.0625\n",
      "Epoch 1/1\n",
      "8/8 [==============================] - 1s 98ms/step - loss: 18.2201 - model_1_loss: 8.2087e-05 - conv2d_20_loss: 0.1259\n",
      "\n",
      "Epoch 00001: loss did not improve from 16.82198\n"
     ]
    },
    {
     "name": "stderr",
     "output_type": "stream",
     "text": [
      "\n",
      "\n",
      "\n",
      "148it [10:09,  4.06s/it]\u001b[A\u001b[A\u001b[A"
     ]
    },
    {
     "name": "stdout",
     "output_type": "stream",
     "text": [
      "iteration : 148\n",
      "Epoch 1/1\n",
      " 8/16 [==============>...............] - ETA: 0s - loss: 7.1426 - acc: 0.2500"
     ]
    },
    {
     "name": "stderr",
     "output_type": "stream",
     "text": [
      "/opt/conda/lib/python3.6/site-packages/keras/engine/training.py:490: UserWarning: Discrepancy between trainable weights and collected trainable weights, did you set `model.trainable` without calling `model.compile` after ?\n",
      "  'Discrepancy between trainable weights and collected trainable'\n"
     ]
    },
    {
     "name": "stdout",
     "output_type": "stream",
     "text": [
      "16/16 [==============================] - 0s 23ms/step - loss: 7.1574 - acc: 0.1875\n",
      "Epoch 1/1\n",
      "8/8 [==============================] - 1s 97ms/step - loss: 18.1698 - model_1_loss: 0.0010 - conv2d_20_loss: 0.1253\n",
      "\n",
      "Epoch 00001: loss did not improve from 16.82198\n"
     ]
    },
    {
     "name": "stderr",
     "output_type": "stream",
     "text": [
      "\n",
      "\n",
      "\n",
      "149it [10:13,  4.05s/it]\u001b[A\u001b[A\u001b[A"
     ]
    },
    {
     "name": "stdout",
     "output_type": "stream",
     "text": [
      "iteration : 149\n",
      "Epoch 1/1\n",
      " 8/16 [==============>...............] - ETA: 0s - loss: 5.0970 - acc: 0.1250"
     ]
    },
    {
     "name": "stderr",
     "output_type": "stream",
     "text": [
      "/opt/conda/lib/python3.6/site-packages/keras/engine/training.py:490: UserWarning: Discrepancy between trainable weights and collected trainable weights, did you set `model.trainable` without calling `model.compile` after ?\n",
      "  'Discrepancy between trainable weights and collected trainable'\n"
     ]
    },
    {
     "name": "stdout",
     "output_type": "stream",
     "text": [
      "16/16 [==============================] - 0s 24ms/step - loss: 6.3378 - acc: 0.1250\n",
      "Epoch 1/1\n",
      "8/8 [==============================] - 1s 98ms/step - loss: 18.5490 - model_1_loss: 3.4022e-05 - conv2d_20_loss: 0.1292\n",
      "\n",
      "Epoch 00001: loss did not improve from 16.82198\n"
     ]
    },
    {
     "name": "stderr",
     "output_type": "stream",
     "text": [
      "\n",
      "\n",
      "\n",
      "150it [10:17,  4.07s/it]\u001b[A\u001b[A\u001b[A"
     ]
    },
    {
     "name": "stdout",
     "output_type": "stream",
     "text": [
      "iteration : 150\n",
      "Epoch 1/1\n",
      " 8/16 [==============>...............] - ETA: 0s - loss: 5.4748 - acc: 0.1250"
     ]
    },
    {
     "name": "stderr",
     "output_type": "stream",
     "text": [
      "/opt/conda/lib/python3.6/site-packages/keras/engine/training.py:490: UserWarning: Discrepancy between trainable weights and collected trainable weights, did you set `model.trainable` without calling `model.compile` after ?\n",
      "  'Discrepancy between trainable weights and collected trainable'\n"
     ]
    },
    {
     "name": "stdout",
     "output_type": "stream",
     "text": [
      "16/16 [==============================] - 0s 23ms/step - loss: 7.2437 - acc: 0.1250\n",
      "Epoch 1/1\n",
      "8/8 [==============================] - 1s 97ms/step - loss: 18.2857 - model_1_loss: 1.8851e-04 - conv2d_20_loss: 0.1265\n",
      "\n",
      "Epoch 00001: loss did not improve from 16.82198\n"
     ]
    },
    {
     "name": "stderr",
     "output_type": "stream",
     "text": [
      "\n",
      "\n",
      "\n",
      "\n",
      "0it [00:00, ?it/s]\u001b[A\u001b[A\u001b[A\u001b[A"
     ]
    },
    {
     "name": "stdout",
     "output_type": "stream",
     "text": [
      "Epoch 3\n",
      "iteration : 0\n",
      "Epoch 1/1\n",
      " 8/16 [==============>...............] - ETA: 0s - loss: 7.0605 - acc: 0.2500"
     ]
    },
    {
     "name": "stderr",
     "output_type": "stream",
     "text": [
      "/opt/conda/lib/python3.6/site-packages/keras/engine/training.py:490: UserWarning: Discrepancy between trainable weights and collected trainable weights, did you set `model.trainable` without calling `model.compile` after ?\n",
      "  'Discrepancy between trainable weights and collected trainable'\n"
     ]
    },
    {
     "name": "stdout",
     "output_type": "stream",
     "text": [
      "16/16 [==============================] - 0s 24ms/step - loss: 7.2261 - acc: 0.1250\n",
      "Epoch 1/1\n",
      "8/8 [==============================] - 1s 98ms/step - loss: 17.8973 - model_1_loss: 8.0677e-05 - conv2d_20_loss: 0.1227\n",
      "\n",
      "Epoch 00001: loss did not improve from 16.82198\n"
     ]
    },
    {
     "name": "stderr",
     "output_type": "stream",
     "text": [
      "\n",
      "\n",
      "\n",
      "\n",
      "1it [00:04,  4.11s/it]\u001b[A\u001b[A\u001b[A\u001b[A"
     ]
    },
    {
     "name": "stdout",
     "output_type": "stream",
     "text": [
      "iteration : 1\n",
      "Epoch 1/1\n",
      " 8/16 [==============>...............] - ETA: 0s - loss: 9.1933 - acc: 0.0000e+00"
     ]
    },
    {
     "name": "stderr",
     "output_type": "stream",
     "text": [
      "/opt/conda/lib/python3.6/site-packages/keras/engine/training.py:490: UserWarning: Discrepancy between trainable weights and collected trainable weights, did you set `model.trainable` without calling `model.compile` after ?\n",
      "  'Discrepancy between trainable weights and collected trainable'\n"
     ]
    },
    {
     "name": "stdout",
     "output_type": "stream",
     "text": [
      "16/16 [==============================] - 0s 23ms/step - loss: 6.5610 - acc: 0.1875\n",
      "Epoch 1/1\n",
      "8/8 [==============================] - 1s 97ms/step - loss: 20.6070 - model_1_loss: 0.0111 - conv2d_20_loss: 0.1492\n",
      "\n",
      "Epoch 00001: loss did not improve from 16.82198\n"
     ]
    },
    {
     "name": "stderr",
     "output_type": "stream",
     "text": [
      "\n",
      "\n",
      "\n",
      "\n",
      "2it [00:08,  4.10s/it]\u001b[A\u001b[A\u001b[A\u001b[A"
     ]
    },
    {
     "name": "stdout",
     "output_type": "stream",
     "text": [
      "iteration : 2\n",
      "Epoch 1/1\n",
      " 8/16 [==============>...............] - ETA: 0s - loss: 6.8603 - acc: 0.1250"
     ]
    },
    {
     "name": "stderr",
     "output_type": "stream",
     "text": [
      "/opt/conda/lib/python3.6/site-packages/keras/engine/training.py:490: UserWarning: Discrepancy between trainable weights and collected trainable weights, did you set `model.trainable` without calling `model.compile` after ?\n",
      "  'Discrepancy between trainable weights and collected trainable'\n"
     ]
    },
    {
     "name": "stdout",
     "output_type": "stream",
     "text": [
      "16/16 [==============================] - 0s 24ms/step - loss: 6.6448 - acc: 0.1250\n",
      "Epoch 1/1\n",
      "8/8 [==============================] - 1s 98ms/step - loss: 18.6715 - model_1_loss: 0.0059 - conv2d_20_loss: 0.1301\n",
      "\n",
      "Epoch 00001: loss did not improve from 16.82198\n"
     ]
    },
    {
     "name": "stderr",
     "output_type": "stream",
     "text": [
      "\n",
      "\n",
      "\n",
      "\n",
      "3it [00:12,  4.10s/it]\u001b[A\u001b[A\u001b[A\u001b[A"
     ]
    },
    {
     "name": "stdout",
     "output_type": "stream",
     "text": [
      "iteration : 3\n",
      "Epoch 1/1\n",
      " 8/16 [==============>...............] - ETA: 0s - loss: 6.2349 - acc: 0.3750"
     ]
    },
    {
     "name": "stderr",
     "output_type": "stream",
     "text": [
      "/opt/conda/lib/python3.6/site-packages/keras/engine/training.py:490: UserWarning: Discrepancy between trainable weights and collected trainable weights, did you set `model.trainable` without calling `model.compile` after ?\n",
      "  'Discrepancy between trainable weights and collected trainable'\n"
     ]
    },
    {
     "name": "stdout",
     "output_type": "stream",
     "text": [
      "16/16 [==============================] - 0s 23ms/step - loss: 6.5329 - acc: 0.3125\n",
      "Epoch 1/1\n",
      "8/8 [==============================] - 1s 97ms/step - loss: 17.8622 - model_1_loss: 0.0011 - conv2d_20_loss: 0.1223\n",
      "\n",
      "Epoch 00001: loss did not improve from 16.82198\n"
     ]
    },
    {
     "name": "stderr",
     "output_type": "stream",
     "text": [
      "\n",
      "\n",
      "\n",
      "\n",
      "4it [00:16,  4.09s/it]\u001b[A\u001b[A\u001b[A\u001b[A"
     ]
    },
    {
     "name": "stdout",
     "output_type": "stream",
     "text": [
      "iteration : 4\n",
      "Epoch 1/1\n",
      " 8/16 [==============>...............] - ETA: 0s - loss: 6.1886 - acc: 0.1250"
     ]
    },
    {
     "name": "stderr",
     "output_type": "stream",
     "text": [
      "/opt/conda/lib/python3.6/site-packages/keras/engine/training.py:490: UserWarning: Discrepancy between trainable weights and collected trainable weights, did you set `model.trainable` without calling `model.compile` after ?\n",
      "  'Discrepancy between trainable weights and collected trainable'\n"
     ]
    },
    {
     "name": "stdout",
     "output_type": "stream",
     "text": [
      "16/16 [==============================] - 0s 24ms/step - loss: 6.1172 - acc: 0.0625\n",
      "Epoch 1/1\n",
      "8/8 [==============================] - 1s 98ms/step - loss: 20.7829 - model_1_loss: 0.0024 - conv2d_20_loss: 0.1514\n",
      "\n",
      "Epoch 00001: loss did not improve from 16.82198\n"
     ]
    },
    {
     "name": "stderr",
     "output_type": "stream",
     "text": [
      "\n",
      "\n",
      "\n",
      "\n",
      "5it [00:20,  4.09s/it]\u001b[A\u001b[A\u001b[A\u001b[A"
     ]
    },
    {
     "name": "stdout",
     "output_type": "stream",
     "text": [
      "iteration : 5\n",
      "Epoch 1/1\n",
      " 8/16 [==============>...............] - ETA: 0s - loss: 6.4714 - acc: 0.1250"
     ]
    },
    {
     "name": "stderr",
     "output_type": "stream",
     "text": [
      "/opt/conda/lib/python3.6/site-packages/keras/engine/training.py:490: UserWarning: Discrepancy between trainable weights and collected trainable weights, did you set `model.trainable` without calling `model.compile` after ?\n",
      "  'Discrepancy between trainable weights and collected trainable'\n"
     ]
    },
    {
     "name": "stdout",
     "output_type": "stream",
     "text": [
      "16/16 [==============================] - 0s 23ms/step - loss: 6.5034 - acc: 0.1250\n",
      "Epoch 1/1\n",
      "8/8 [==============================] - 1s 97ms/step - loss: 18.4419 - model_1_loss: 4.6675e-05 - conv2d_20_loss: 0.1281\n",
      "\n",
      "Epoch 00001: loss did not improve from 16.82198\n"
     ]
    },
    {
     "name": "stderr",
     "output_type": "stream",
     "text": [
      "\n",
      "\n",
      "\n",
      "\n",
      "6it [00:24,  4.09s/it]\u001b[A\u001b[A\u001b[A\u001b[A"
     ]
    },
    {
     "name": "stdout",
     "output_type": "stream",
     "text": [
      "iteration : 6\n",
      "Epoch 1/1\n",
      " 8/16 [==============>...............] - ETA: 0s - loss: 7.7400 - acc: 0.0000e+00"
     ]
    },
    {
     "name": "stderr",
     "output_type": "stream",
     "text": [
      "/opt/conda/lib/python3.6/site-packages/keras/engine/training.py:490: UserWarning: Discrepancy between trainable weights and collected trainable weights, did you set `model.trainable` without calling `model.compile` after ?\n",
      "  'Discrepancy between trainable weights and collected trainable'\n"
     ]
    },
    {
     "name": "stdout",
     "output_type": "stream",
     "text": [
      "16/16 [==============================] - 0s 24ms/step - loss: 6.8650 - acc: 0.0000e+00\n",
      "Epoch 1/1\n",
      "8/8 [==============================] - 1s 98ms/step - loss: 18.4104 - model_1_loss: 4.3188e-05 - conv2d_20_loss: 0.1278\n",
      "\n",
      "Epoch 00001: loss did not improve from 16.82198\n"
     ]
    },
    {
     "name": "stderr",
     "output_type": "stream",
     "text": [
      "\n",
      "\n",
      "\n",
      "\n",
      "7it [00:28,  4.09s/it]\u001b[A\u001b[A\u001b[A\u001b[A"
     ]
    },
    {
     "name": "stdout",
     "output_type": "stream",
     "text": [
      "iteration : 7\n",
      "Epoch 1/1\n",
      " 8/16 [==============>...............] - ETA: 0s - loss: 4.9845 - acc: 0.1250"
     ]
    },
    {
     "name": "stderr",
     "output_type": "stream",
     "text": [
      "/opt/conda/lib/python3.6/site-packages/keras/engine/training.py:490: UserWarning: Discrepancy between trainable weights and collected trainable weights, did you set `model.trainable` without calling `model.compile` after ?\n",
      "  'Discrepancy between trainable weights and collected trainable'\n"
     ]
    },
    {
     "name": "stdout",
     "output_type": "stream",
     "text": [
      "16/16 [==============================] - 0s 23ms/step - loss: 7.8353 - acc: 0.0625\n",
      "Epoch 1/1\n",
      "8/8 [==============================] - 1s 97ms/step - loss: 18.2602 - model_1_loss: 2.9976e-05 - conv2d_20_loss: 0.1263\n",
      "\n",
      "Epoch 00001: loss did not improve from 16.82198\n"
     ]
    },
    {
     "name": "stderr",
     "output_type": "stream",
     "text": [
      "\n",
      "\n",
      "\n",
      "\n",
      "8it [00:32,  4.08s/it]\u001b[A\u001b[A\u001b[A\u001b[A"
     ]
    },
    {
     "name": "stdout",
     "output_type": "stream",
     "text": [
      "iteration : 8\n",
      "Epoch 1/1\n",
      " 8/16 [==============>...............] - ETA: 0s - loss: 10.5621 - acc: 0.0000e+00"
     ]
    },
    {
     "name": "stderr",
     "output_type": "stream",
     "text": [
      "/opt/conda/lib/python3.6/site-packages/keras/engine/training.py:490: UserWarning: Discrepancy between trainable weights and collected trainable weights, did you set `model.trainable` without calling `model.compile` after ?\n",
      "  'Discrepancy between trainable weights and collected trainable'\n"
     ]
    },
    {
     "name": "stdout",
     "output_type": "stream",
     "text": [
      "16/16 [==============================] - 0s 24ms/step - loss: 7.6521 - acc: 0.0625\n",
      "Epoch 1/1\n",
      "8/8 [==============================] - 1s 98ms/step - loss: 17.9345 - model_1_loss: 0.0048 - conv2d_20_loss: 0.1228\n",
      "\n",
      "Epoch 00001: loss did not improve from 16.82198\n"
     ]
    },
    {
     "name": "stderr",
     "output_type": "stream",
     "text": [
      "\n",
      "\n",
      "\n",
      "\n",
      "9it [00:36,  4.09s/it]\u001b[A\u001b[A\u001b[A\u001b[A"
     ]
    },
    {
     "name": "stdout",
     "output_type": "stream",
     "text": [
      "iteration : 9\n",
      "Epoch 1/1\n",
      " 8/16 [==============>...............] - ETA: 0s - loss: 7.6847 - acc: 0.1250"
     ]
    },
    {
     "name": "stderr",
     "output_type": "stream",
     "text": [
      "/opt/conda/lib/python3.6/site-packages/keras/engine/training.py:490: UserWarning: Discrepancy between trainable weights and collected trainable weights, did you set `model.trainable` without calling `model.compile` after ?\n",
      "  'Discrepancy between trainable weights and collected trainable'\n"
     ]
    },
    {
     "name": "stdout",
     "output_type": "stream",
     "text": [
      "16/16 [==============================] - 0s 23ms/step - loss: 5.6103 - acc: 0.3125\n",
      "Epoch 1/1\n",
      "8/8 [==============================] - 1s 97ms/step - loss: 19.2202 - model_1_loss: 0.0029 - conv2d_20_loss: 0.1358\n",
      "\n",
      "Epoch 00001: loss did not improve from 16.82198\n"
     ]
    },
    {
     "name": "stderr",
     "output_type": "stream",
     "text": [
      "\n",
      "\n",
      "\n",
      "\n",
      "10it [00:40,  4.08s/it]\u001b[A\u001b[A\u001b[A\u001b[A"
     ]
    },
    {
     "name": "stdout",
     "output_type": "stream",
     "text": [
      "iteration : 10\n",
      "Epoch 1/1\n",
      " 8/16 [==============>...............] - ETA: 0s - loss: 7.3858 - acc: 0.1250"
     ]
    },
    {
     "name": "stderr",
     "output_type": "stream",
     "text": [
      "/opt/conda/lib/python3.6/site-packages/keras/engine/training.py:490: UserWarning: Discrepancy between trainable weights and collected trainable weights, did you set `model.trainable` without calling `model.compile` after ?\n",
      "  'Discrepancy between trainable weights and collected trainable'\n"
     ]
    },
    {
     "name": "stdout",
     "output_type": "stream",
     "text": [
      "16/16 [==============================] - 0s 24ms/step - loss: 7.2056 - acc: 0.1250\n",
      "Epoch 1/1\n",
      "8/8 [==============================] - 1s 98ms/step - loss: 20.1534 - model_1_loss: 0.0032 - conv2d_20_loss: 0.1451\n",
      "\n",
      "Epoch 00001: loss did not improve from 16.82198\n"
     ]
    },
    {
     "name": "stderr",
     "output_type": "stream",
     "text": [
      "\n",
      "\n",
      "\n",
      "\n",
      "11it [00:44,  4.09s/it]\u001b[A\u001b[A\u001b[A\u001b[A"
     ]
    },
    {
     "name": "stdout",
     "output_type": "stream",
     "text": [
      "iteration : 11\n",
      "Epoch 1/1\n",
      " 8/16 [==============>...............] - ETA: 0s - loss: 7.8165 - acc: 0.1250"
     ]
    },
    {
     "name": "stderr",
     "output_type": "stream",
     "text": [
      "/opt/conda/lib/python3.6/site-packages/keras/engine/training.py:490: UserWarning: Discrepancy between trainable weights and collected trainable weights, did you set `model.trainable` without calling `model.compile` after ?\n",
      "  'Discrepancy between trainable weights and collected trainable'\n"
     ]
    },
    {
     "name": "stdout",
     "output_type": "stream",
     "text": [
      "16/16 [==============================] - 0s 23ms/step - loss: 6.9259 - acc: 0.1250\n",
      "Epoch 1/1\n",
      "8/8 [==============================] - 1s 97ms/step - loss: 20.5731 - model_1_loss: 0.4084 - conv2d_20_loss: 0.1290\n",
      "\n",
      "Epoch 00001: loss did not improve from 16.82198\n"
     ]
    },
    {
     "name": "stderr",
     "output_type": "stream",
     "text": [
      "\n",
      "\n",
      "\n",
      "\n",
      "12it [00:49,  4.09s/it]\u001b[A\u001b[A\u001b[A\u001b[A"
     ]
    },
    {
     "name": "stdout",
     "output_type": "stream",
     "text": [
      "iteration : 12\n",
      "Epoch 1/1\n",
      " 8/16 [==============>...............] - ETA: 0s - loss: 6.9251 - acc: 0.2500"
     ]
    },
    {
     "name": "stderr",
     "output_type": "stream",
     "text": [
      "/opt/conda/lib/python3.6/site-packages/keras/engine/training.py:490: UserWarning: Discrepancy between trainable weights and collected trainable weights, did you set `model.trainable` without calling `model.compile` after ?\n",
      "  'Discrepancy between trainable weights and collected trainable'\n"
     ]
    },
    {
     "name": "stdout",
     "output_type": "stream",
     "text": [
      "16/16 [==============================] - 0s 24ms/step - loss: 6.5550 - acc: 0.3125\n",
      "Epoch 1/1\n",
      "8/8 [==============================] - 1s 98ms/step - loss: 17.5997 - model_1_loss: 2.3694e-05 - conv2d_20_loss: 0.1197\n",
      "\n",
      "Epoch 00001: loss did not improve from 16.82198\n"
     ]
    },
    {
     "name": "stderr",
     "output_type": "stream",
     "text": [
      "\n",
      "\n",
      "\n",
      "\n",
      "13it [00:53,  4.09s/it]\u001b[A\u001b[A\u001b[A\u001b[A"
     ]
    },
    {
     "name": "stdout",
     "output_type": "stream",
     "text": [
      "iteration : 13\n",
      "Epoch 1/1\n",
      " 8/16 [==============>...............] - ETA: 0s - loss: 6.7238 - acc: 0.0000e+00"
     ]
    },
    {
     "name": "stderr",
     "output_type": "stream",
     "text": [
      "/opt/conda/lib/python3.6/site-packages/keras/engine/training.py:490: UserWarning: Discrepancy between trainable weights and collected trainable weights, did you set `model.trainable` without calling `model.compile` after ?\n",
      "  'Discrepancy between trainable weights and collected trainable'\n"
     ]
    },
    {
     "name": "stdout",
     "output_type": "stream",
     "text": [
      "16/16 [==============================] - 0s 23ms/step - loss: 6.7747 - acc: 0.1250\n",
      "Epoch 1/1\n",
      "8/8 [==============================] - 1s 97ms/step - loss: 17.8713 - model_1_loss: 5.5317e-04 - conv2d_20_loss: 0.1224\n",
      "\n",
      "Epoch 00001: loss did not improve from 16.82198\n"
     ]
    },
    {
     "name": "stderr",
     "output_type": "stream",
     "text": [
      "\n",
      "\n",
      "\n",
      "\n",
      "14it [00:57,  4.08s/it]\u001b[A\u001b[A\u001b[A\u001b[A"
     ]
    },
    {
     "name": "stdout",
     "output_type": "stream",
     "text": [
      "iteration : 14\n",
      "Epoch 1/1\n",
      " 8/16 [==============>...............] - ETA: 0s - loss: 8.7249 - acc: 0.1250"
     ]
    },
    {
     "name": "stderr",
     "output_type": "stream",
     "text": [
      "/opt/conda/lib/python3.6/site-packages/keras/engine/training.py:490: UserWarning: Discrepancy between trainable weights and collected trainable weights, did you set `model.trainable` without calling `model.compile` after ?\n",
      "  'Discrepancy between trainable weights and collected trainable'\n"
     ]
    },
    {
     "name": "stdout",
     "output_type": "stream",
     "text": [
      "16/16 [==============================] - 0s 24ms/step - loss: 7.2002 - acc: 0.1250\n",
      "Epoch 1/1\n",
      "8/8 [==============================] - 1s 98ms/step - loss: 18.0861 - model_1_loss: 1.3408e-04 - conv2d_20_loss: 0.1246\n",
      "\n",
      "Epoch 00001: loss did not improve from 16.82198\n"
     ]
    },
    {
     "name": "stderr",
     "output_type": "stream",
     "text": [
      "\n",
      "\n",
      "\n",
      "\n",
      "15it [01:01,  4.09s/it]\u001b[A\u001b[A\u001b[A\u001b[A"
     ]
    },
    {
     "name": "stdout",
     "output_type": "stream",
     "text": [
      "iteration : 15\n",
      "Epoch 1/1\n",
      " 8/16 [==============>...............] - ETA: 0s - loss: 6.9159 - acc: 0.0000e+00"
     ]
    },
    {
     "name": "stderr",
     "output_type": "stream",
     "text": [
      "/opt/conda/lib/python3.6/site-packages/keras/engine/training.py:490: UserWarning: Discrepancy between trainable weights and collected trainable weights, did you set `model.trainable` without calling `model.compile` after ?\n",
      "  'Discrepancy between trainable weights and collected trainable'\n"
     ]
    },
    {
     "name": "stdout",
     "output_type": "stream",
     "text": [
      "16/16 [==============================] - 0s 23ms/step - loss: 6.7907 - acc: 0.0000e+00\n",
      "Epoch 1/1\n",
      "8/8 [==============================] - 1s 97ms/step - loss: 21.2517 - model_1_loss: 7.5676e-05 - conv2d_20_loss: 0.1562\n",
      "\n",
      "Epoch 00001: loss did not improve from 16.82198\n"
     ]
    },
    {
     "name": "stderr",
     "output_type": "stream",
     "text": [
      "\n",
      "\n",
      "\n",
      "\n",
      "16it [01:05,  4.09s/it]\u001b[A\u001b[A\u001b[A\u001b[A"
     ]
    },
    {
     "name": "stdout",
     "output_type": "stream",
     "text": [
      "iteration : 16\n",
      "Epoch 1/1\n",
      " 8/16 [==============>...............] - ETA: 0s - loss: 4.9838 - acc: 0.2500"
     ]
    },
    {
     "name": "stderr",
     "output_type": "stream",
     "text": [
      "/opt/conda/lib/python3.6/site-packages/keras/engine/training.py:490: UserWarning: Discrepancy between trainable weights and collected trainable weights, did you set `model.trainable` without calling `model.compile` after ?\n",
      "  'Discrepancy between trainable weights and collected trainable'\n"
     ]
    },
    {
     "name": "stdout",
     "output_type": "stream",
     "text": [
      "16/16 [==============================] - 0s 24ms/step - loss: 4.9190 - acc: 0.1875\n",
      "Epoch 1/1\n",
      "8/8 [==============================] - 1s 98ms/step - loss: 18.3290 - model_1_loss: 0.0012 - conv2d_20_loss: 0.1269\n",
      "\n",
      "Epoch 00001: loss did not improve from 16.82198\n"
     ]
    },
    {
     "name": "stderr",
     "output_type": "stream",
     "text": [
      "\n",
      "\n",
      "\n",
      "\n",
      "17it [01:09,  4.09s/it]\u001b[A\u001b[A\u001b[A\u001b[A"
     ]
    },
    {
     "name": "stdout",
     "output_type": "stream",
     "text": [
      "iteration : 17\n",
      "Epoch 1/1\n",
      " 8/16 [==============>...............] - ETA: 0s - loss: 7.3016 - acc: 0.1250"
     ]
    },
    {
     "name": "stderr",
     "output_type": "stream",
     "text": [
      "/opt/conda/lib/python3.6/site-packages/keras/engine/training.py:490: UserWarning: Discrepancy between trainable weights and collected trainable weights, did you set `model.trainable` without calling `model.compile` after ?\n",
      "  'Discrepancy between trainable weights and collected trainable'\n"
     ]
    },
    {
     "name": "stdout",
     "output_type": "stream",
     "text": [
      "16/16 [==============================] - 0s 23ms/step - loss: 6.9875 - acc: 0.1250\n",
      "Epoch 1/1\n",
      "8/8 [==============================] - 1s 97ms/step - loss: 18.2134 - model_1_loss: 4.0728e-04 - conv2d_20_loss: 0.1258\n",
      "\n",
      "Epoch 00001: loss did not improve from 16.82198\n"
     ]
    },
    {
     "name": "stderr",
     "output_type": "stream",
     "text": [
      "\n",
      "\n",
      "\n",
      "\n",
      "18it [01:13,  4.08s/it]\u001b[A\u001b[A\u001b[A\u001b[A"
     ]
    },
    {
     "name": "stdout",
     "output_type": "stream",
     "text": [
      "iteration : 18\n",
      "Epoch 1/1\n",
      " 8/16 [==============>...............] - ETA: 0s - loss: 6.1480 - acc: 0.1250"
     ]
    },
    {
     "name": "stderr",
     "output_type": "stream",
     "text": [
      "/opt/conda/lib/python3.6/site-packages/keras/engine/training.py:490: UserWarning: Discrepancy between trainable weights and collected trainable weights, did you set `model.trainable` without calling `model.compile` after ?\n",
      "  'Discrepancy between trainable weights and collected trainable'\n"
     ]
    },
    {
     "name": "stdout",
     "output_type": "stream",
     "text": [
      "16/16 [==============================] - 0s 24ms/step - loss: 6.4640 - acc: 0.1250\n",
      "Epoch 1/1\n",
      "8/8 [==============================] - 1s 98ms/step - loss: 18.0707 - model_1_loss: 1.7938e-04 - conv2d_20_loss: 0.1244\n",
      "\n",
      "Epoch 00001: loss did not improve from 16.82198\n"
     ]
    },
    {
     "name": "stderr",
     "output_type": "stream",
     "text": [
      "\n",
      "\n",
      "\n",
      "\n",
      "19it [01:17,  4.08s/it]\u001b[A\u001b[A\u001b[A\u001b[A"
     ]
    },
    {
     "name": "stdout",
     "output_type": "stream",
     "text": [
      "iteration : 19\n",
      "Epoch 1/1\n",
      " 8/16 [==============>...............] - ETA: 0s - loss: 7.3915 - acc: 0.0000e+00"
     ]
    },
    {
     "name": "stderr",
     "output_type": "stream",
     "text": [
      "/opt/conda/lib/python3.6/site-packages/keras/engine/training.py:490: UserWarning: Discrepancy between trainable weights and collected trainable weights, did you set `model.trainable` without calling `model.compile` after ?\n",
      "  'Discrepancy between trainable weights and collected trainable'\n"
     ]
    },
    {
     "name": "stdout",
     "output_type": "stream",
     "text": [
      "16/16 [==============================] - 0s 23ms/step - loss: 7.7433 - acc: 0.1250\n",
      "Epoch 1/1\n",
      "8/8 [==============================] - 1s 97ms/step - loss: 19.5602 - model_1_loss: 7.3286e-04 - conv2d_20_loss: 0.1393\n",
      "\n",
      "Epoch 00001: loss did not improve from 16.82198\n"
     ]
    },
    {
     "name": "stderr",
     "output_type": "stream",
     "text": [
      "\n",
      "\n",
      "\n",
      "\n",
      "20it [01:21,  4.08s/it]\u001b[A\u001b[A\u001b[A\u001b[A"
     ]
    },
    {
     "name": "stdout",
     "output_type": "stream",
     "text": [
      "iteration : 20\n"
     ]
    },
    {
     "name": "stderr",
     "output_type": "stream",
     "text": [
      "/opt/conda/lib/python3.6/site-packages/keras/engine/training.py:490: UserWarning: Discrepancy between trainable weights and collected trainable weights, did you set `model.trainable` without calling `model.compile` after ?\n",
      "  'Discrepancy between trainable weights and collected trainable'\n"
     ]
    },
    {
     "name": "stdout",
     "output_type": "stream",
     "text": [
      "Epoch 1/1\n",
      "16/16 [==============================] - 0s 25ms/step - loss: 5.7818 - acc: 0.0625\n",
      "Epoch 1/1\n",
      "8/8 [==============================] - 1s 99ms/step - loss: 19.0707 - model_1_loss: 0.0084 - conv2d_20_loss: 0.1340\n",
      "\n",
      "Epoch 00001: loss did not improve from 16.82198\n"
     ]
    },
    {
     "name": "stderr",
     "output_type": "stream",
     "text": [
      "\n",
      "\n",
      "\n",
      "\n",
      "21it [01:25,  4.09s/it]\u001b[A\u001b[A\u001b[A\u001b[A"
     ]
    },
    {
     "name": "stdout",
     "output_type": "stream",
     "text": [
      "iteration : 21\n",
      "Epoch 1/1\n",
      " 8/16 [==============>...............] - ETA: 0s - loss: 8.7273 - acc: 0.1250"
     ]
    },
    {
     "name": "stderr",
     "output_type": "stream",
     "text": [
      "/opt/conda/lib/python3.6/site-packages/keras/engine/training.py:490: UserWarning: Discrepancy between trainable weights and collected trainable weights, did you set `model.trainable` without calling `model.compile` after ?\n",
      "  'Discrepancy between trainable weights and collected trainable'\n"
     ]
    },
    {
     "name": "stdout",
     "output_type": "stream",
     "text": [
      "16/16 [==============================] - 0s 23ms/step - loss: 7.2795 - acc: 0.2500\n",
      "Epoch 1/1\n",
      "8/8 [==============================] - 1s 96ms/step - loss: 20.5507 - model_1_loss: 0.0030 - conv2d_20_loss: 0.1491\n",
      "\n",
      "Epoch 00001: loss did not improve from 16.82198\n"
     ]
    },
    {
     "name": "stderr",
     "output_type": "stream",
     "text": [
      "\n",
      "\n",
      "\n",
      "\n",
      "22it [01:29,  4.07s/it]\u001b[A\u001b[A\u001b[A\u001b[A"
     ]
    },
    {
     "name": "stdout",
     "output_type": "stream",
     "text": [
      "iteration : 22\n",
      "Epoch 1/1\n",
      " 8/16 [==============>...............] - ETA: 0s - loss: 3.7227 - acc: 0.2500"
     ]
    },
    {
     "name": "stderr",
     "output_type": "stream",
     "text": [
      "/opt/conda/lib/python3.6/site-packages/keras/engine/training.py:490: UserWarning: Discrepancy between trainable weights and collected trainable weights, did you set `model.trainable` without calling `model.compile` after ?\n",
      "  'Discrepancy between trainable weights and collected trainable'\n"
     ]
    },
    {
     "name": "stdout",
     "output_type": "stream",
     "text": [
      "16/16 [==============================] - 0s 23ms/step - loss: 6.7998 - acc: 0.1875\n",
      "Epoch 1/1\n",
      "8/8 [==============================] - 1s 98ms/step - loss: 18.4407 - model_1_loss: 1.7329e-04 - conv2d_20_loss: 0.1281\n",
      "\n",
      "Epoch 00001: loss did not improve from 16.82198\n"
     ]
    },
    {
     "name": "stderr",
     "output_type": "stream",
     "text": [
      "\n",
      "\n",
      "\n",
      "\n",
      "23it [01:33,  4.06s/it]\u001b[A\u001b[A\u001b[A\u001b[A"
     ]
    },
    {
     "name": "stdout",
     "output_type": "stream",
     "text": [
      "iteration : 23\n",
      "Epoch 1/1\n",
      " 8/16 [==============>...............] - ETA: 0s - loss: 5.9448 - acc: 0.2500"
     ]
    },
    {
     "name": "stderr",
     "output_type": "stream",
     "text": [
      "/opt/conda/lib/python3.6/site-packages/keras/engine/training.py:490: UserWarning: Discrepancy between trainable weights and collected trainable weights, did you set `model.trainable` without calling `model.compile` after ?\n",
      "  'Discrepancy between trainable weights and collected trainable'\n"
     ]
    },
    {
     "name": "stdout",
     "output_type": "stream",
     "text": [
      "16/16 [==============================] - 0s 23ms/step - loss: 6.2272 - acc: 0.1250\n",
      "Epoch 1/1\n",
      "8/8 [==============================] - 1s 97ms/step - loss: 19.5924 - model_1_loss: 0.0012 - conv2d_20_loss: 0.1396\n",
      "\n",
      "Epoch 00001: loss did not improve from 16.82198\n"
     ]
    },
    {
     "name": "stderr",
     "output_type": "stream",
     "text": [
      "\n",
      "\n",
      "\n",
      "\n",
      "24it [01:37,  4.06s/it]\u001b[A\u001b[A\u001b[A\u001b[A"
     ]
    },
    {
     "name": "stdout",
     "output_type": "stream",
     "text": [
      "iteration : 24\n",
      "Epoch 1/1\n",
      " 8/16 [==============>...............] - ETA: 0s - loss: 6.6918 - acc: 0.1250"
     ]
    },
    {
     "name": "stderr",
     "output_type": "stream",
     "text": [
      "/opt/conda/lib/python3.6/site-packages/keras/engine/training.py:490: UserWarning: Discrepancy between trainable weights and collected trainable weights, did you set `model.trainable` without calling `model.compile` after ?\n",
      "  'Discrepancy between trainable weights and collected trainable'\n"
     ]
    },
    {
     "name": "stdout",
     "output_type": "stream",
     "text": [
      "16/16 [==============================] - 0s 24ms/step - loss: 7.4950 - acc: 0.1875\n",
      "Epoch 1/1\n",
      "8/8 [==============================] - 1s 98ms/step - loss: 18.5050 - model_1_loss: 3.1185e-04 - conv2d_20_loss: 0.1287\n",
      "\n",
      "Epoch 00001: loss did not improve from 16.82198\n"
     ]
    },
    {
     "name": "stderr",
     "output_type": "stream",
     "text": [
      "\n",
      "\n",
      "\n",
      "\n",
      "25it [01:42,  4.07s/it]\u001b[A\u001b[A\u001b[A\u001b[A"
     ]
    },
    {
     "name": "stdout",
     "output_type": "stream",
     "text": [
      "iteration : 25\n",
      "Epoch 1/1\n",
      " 8/16 [==============>...............] - ETA: 0s - loss: 5.0858 - acc: 0.1250"
     ]
    },
    {
     "name": "stderr",
     "output_type": "stream",
     "text": [
      "/opt/conda/lib/python3.6/site-packages/keras/engine/training.py:490: UserWarning: Discrepancy between trainable weights and collected trainable weights, did you set `model.trainable` without calling `model.compile` after ?\n",
      "  'Discrepancy between trainable weights and collected trainable'\n"
     ]
    },
    {
     "name": "stdout",
     "output_type": "stream",
     "text": [
      "16/16 [==============================] - 0s 23ms/step - loss: 6.1239 - acc: 0.0625\n",
      "Epoch 1/1\n",
      "8/8 [==============================] - 1s 97ms/step - loss: 19.3829 - model_1_loss: 0.0048 - conv2d_20_loss: 0.1373\n",
      "\n",
      "Epoch 00001: loss did not improve from 16.82198\n"
     ]
    },
    {
     "name": "stderr",
     "output_type": "stream",
     "text": [
      "\n",
      "\n",
      "\n",
      "\n",
      "26it [01:46,  4.07s/it]\u001b[A\u001b[A\u001b[A\u001b[A"
     ]
    },
    {
     "name": "stdout",
     "output_type": "stream",
     "text": [
      "iteration : 26\n",
      "Epoch 1/1\n",
      " 8/16 [==============>...............] - ETA: 0s - loss: 7.3501 - acc: 0.0000e+00"
     ]
    },
    {
     "name": "stderr",
     "output_type": "stream",
     "text": [
      "/opt/conda/lib/python3.6/site-packages/keras/engine/training.py:490: UserWarning: Discrepancy between trainable weights and collected trainable weights, did you set `model.trainable` without calling `model.compile` after ?\n",
      "  'Discrepancy between trainable weights and collected trainable'\n"
     ]
    },
    {
     "name": "stdout",
     "output_type": "stream",
     "text": [
      "16/16 [==============================] - 0s 24ms/step - loss: 6.4154 - acc: 0.0000e+00\n",
      "Epoch 1/1\n",
      "8/8 [==============================] - 1s 98ms/step - loss: 21.2240 - model_1_loss: 0.0343 - conv2d_20_loss: 0.1542\n",
      "\n",
      "Epoch 00001: loss did not improve from 16.82198\n"
     ]
    },
    {
     "name": "stderr",
     "output_type": "stream",
     "text": [
      "\n",
      "\n",
      "\n",
      "\n",
      "27it [01:50,  4.08s/it]\u001b[A\u001b[A\u001b[A\u001b[A"
     ]
    },
    {
     "name": "stdout",
     "output_type": "stream",
     "text": [
      "iteration : 27\n",
      "Epoch 1/1\n",
      " 8/16 [==============>...............] - ETA: 0s - loss: 7.1840 - acc: 0.2500"
     ]
    },
    {
     "name": "stderr",
     "output_type": "stream",
     "text": [
      "/opt/conda/lib/python3.6/site-packages/keras/engine/training.py:490: UserWarning: Discrepancy between trainable weights and collected trainable weights, did you set `model.trainable` without calling `model.compile` after ?\n",
      "  'Discrepancy between trainable weights and collected trainable'\n"
     ]
    },
    {
     "name": "stdout",
     "output_type": "stream",
     "text": [
      "16/16 [==============================] - 0s 23ms/step - loss: 5.9613 - acc: 0.3125\n",
      "Epoch 1/1\n",
      "8/8 [==============================] - 1s 97ms/step - loss: 18.8882 - model_1_loss: 0.0015 - conv2d_20_loss: 0.1325\n",
      "\n",
      "Epoch 00001: loss did not improve from 16.82198\n"
     ]
    },
    {
     "name": "stderr",
     "output_type": "stream",
     "text": [
      "\n",
      "\n",
      "\n",
      "\n",
      "28it [01:54,  4.08s/it]\u001b[A\u001b[A\u001b[A\u001b[A"
     ]
    },
    {
     "name": "stdout",
     "output_type": "stream",
     "text": [
      "iteration : 28\n",
      "Epoch 1/1\n",
      " 8/16 [==============>...............] - ETA: 0s - loss: 8.3078 - acc: 0.1250"
     ]
    },
    {
     "name": "stderr",
     "output_type": "stream",
     "text": [
      "/opt/conda/lib/python3.6/site-packages/keras/engine/training.py:490: UserWarning: Discrepancy between trainable weights and collected trainable weights, did you set `model.trainable` without calling `model.compile` after ?\n",
      "  'Discrepancy between trainable weights and collected trainable'\n"
     ]
    },
    {
     "name": "stdout",
     "output_type": "stream",
     "text": [
      "16/16 [==============================] - 0s 24ms/step - loss: 6.1657 - acc: 0.1875\n",
      "Epoch 1/1\n",
      "8/8 [==============================] - 1s 98ms/step - loss: 18.2272 - model_1_loss: 3.4288e-04 - conv2d_20_loss: 0.1260\n",
      "\n",
      "Epoch 00001: loss did not improve from 16.82198\n"
     ]
    },
    {
     "name": "stderr",
     "output_type": "stream",
     "text": [
      "\n",
      "\n",
      "\n",
      "\n",
      "29it [01:58,  4.08s/it]\u001b[A\u001b[A\u001b[A\u001b[A"
     ]
    },
    {
     "name": "stdout",
     "output_type": "stream",
     "text": [
      "iteration : 29\n",
      "Epoch 1/1\n",
      " 8/16 [==============>...............] - ETA: 0s - loss: 6.8625 - acc: 0.1250"
     ]
    },
    {
     "name": "stderr",
     "output_type": "stream",
     "text": [
      "/opt/conda/lib/python3.6/site-packages/keras/engine/training.py:490: UserWarning: Discrepancy between trainable weights and collected trainable weights, did you set `model.trainable` without calling `model.compile` after ?\n",
      "  'Discrepancy between trainable weights and collected trainable'\n"
     ]
    },
    {
     "name": "stdout",
     "output_type": "stream",
     "text": [
      "16/16 [==============================] - 0s 23ms/step - loss: 6.7434 - acc: 0.1250\n",
      "Epoch 1/1\n",
      "8/8 [==============================] - 1s 98ms/step - loss: 18.7651 - model_1_loss: 3.0381e-04 - conv2d_20_loss: 0.1313\n",
      "\n",
      "Epoch 00001: loss did not improve from 16.82198\n"
     ]
    },
    {
     "name": "stderr",
     "output_type": "stream",
     "text": [
      "\n",
      "\n",
      "\n",
      "\n",
      "30it [02:02,  4.07s/it]\u001b[A\u001b[A\u001b[A\u001b[A"
     ]
    },
    {
     "name": "stdout",
     "output_type": "stream",
     "text": [
      "iteration : 30\n",
      "Epoch 1/1\n",
      " 8/16 [==============>...............] - ETA: 0s - loss: 7.8437 - acc: 0.0000e+00"
     ]
    },
    {
     "name": "stderr",
     "output_type": "stream",
     "text": [
      "/opt/conda/lib/python3.6/site-packages/keras/engine/training.py:490: UserWarning: Discrepancy between trainable weights and collected trainable weights, did you set `model.trainable` without calling `model.compile` after ?\n",
      "  'Discrepancy between trainable weights and collected trainable'\n"
     ]
    },
    {
     "name": "stdout",
     "output_type": "stream",
     "text": [
      "16/16 [==============================] - 0s 24ms/step - loss: 5.6090 - acc: 0.1250\n",
      "Epoch 1/1\n",
      "8/8 [==============================] - 1s 98ms/step - loss: 18.8649 - model_1_loss: 8.8660e-04 - conv2d_20_loss: 0.1323\n",
      "\n",
      "Epoch 00001: loss did not improve from 16.82198\n"
     ]
    },
    {
     "name": "stderr",
     "output_type": "stream",
     "text": [
      "\n",
      "\n",
      "\n",
      "\n",
      "31it [02:06,  4.09s/it]\u001b[A\u001b[A\u001b[A\u001b[A"
     ]
    },
    {
     "name": "stdout",
     "output_type": "stream",
     "text": [
      "iteration : 31\n",
      "Epoch 1/1\n",
      " 8/16 [==============>...............] - ETA: 0s - loss: 5.4035 - acc: 0.2500"
     ]
    },
    {
     "name": "stderr",
     "output_type": "stream",
     "text": [
      "/opt/conda/lib/python3.6/site-packages/keras/engine/training.py:490: UserWarning: Discrepancy between trainable weights and collected trainable weights, did you set `model.trainable` without calling `model.compile` after ?\n",
      "  'Discrepancy between trainable weights and collected trainable'\n"
     ]
    },
    {
     "name": "stdout",
     "output_type": "stream",
     "text": [
      "16/16 [==============================] - 0s 23ms/step - loss: 6.2119 - acc: 0.2500\n",
      "Epoch 1/1\n",
      "8/8 [==============================] - 1s 97ms/step - loss: 18.6122 - model_1_loss: 7.3491e-04 - conv2d_20_loss: 0.1298\n",
      "\n",
      "Epoch 00001: loss did not improve from 16.82198\n"
     ]
    },
    {
     "name": "stderr",
     "output_type": "stream",
     "text": [
      "\n",
      "\n",
      "\n",
      "\n",
      "32it [02:10,  4.08s/it]\u001b[A\u001b[A\u001b[A\u001b[A"
     ]
    },
    {
     "name": "stdout",
     "output_type": "stream",
     "text": [
      "iteration : 32\n",
      "Epoch 1/1\n",
      " 8/16 [==============>...............] - ETA: 0s - loss: 4.3531 - acc: 0.3750"
     ]
    },
    {
     "name": "stderr",
     "output_type": "stream",
     "text": [
      "/opt/conda/lib/python3.6/site-packages/keras/engine/training.py:490: UserWarning: Discrepancy between trainable weights and collected trainable weights, did you set `model.trainable` without calling `model.compile` after ?\n",
      "  'Discrepancy between trainable weights and collected trainable'\n"
     ]
    },
    {
     "name": "stdout",
     "output_type": "stream",
     "text": [
      "16/16 [==============================] - 0s 24ms/step - loss: 5.0091 - acc: 0.2500\n",
      "Epoch 1/1\n",
      "8/8 [==============================] - 1s 98ms/step - loss: 19.2340 - model_1_loss: 5.0147e-04 - conv2d_20_loss: 0.1360\n",
      "\n",
      "Epoch 00001: loss did not improve from 16.82198\n"
     ]
    },
    {
     "name": "stderr",
     "output_type": "stream",
     "text": [
      "\n",
      "\n",
      "\n",
      "\n",
      "33it [02:14,  4.08s/it]\u001b[A\u001b[A\u001b[A\u001b[A"
     ]
    },
    {
     "name": "stdout",
     "output_type": "stream",
     "text": [
      "iteration : 33\n",
      "Epoch 1/1\n",
      " 8/16 [==============>...............] - ETA: 0s - loss: 6.5551 - acc: 0.1250"
     ]
    },
    {
     "name": "stderr",
     "output_type": "stream",
     "text": [
      "/opt/conda/lib/python3.6/site-packages/keras/engine/training.py:490: UserWarning: Discrepancy between trainable weights and collected trainable weights, did you set `model.trainable` without calling `model.compile` after ?\n",
      "  'Discrepancy between trainable weights and collected trainable'\n"
     ]
    },
    {
     "name": "stdout",
     "output_type": "stream",
     "text": [
      "16/16 [==============================] - 0s 23ms/step - loss: 6.6223 - acc: 0.1875\n",
      "Epoch 1/1\n",
      "8/8 [==============================] - 1s 97ms/step - loss: 18.3668 - model_1_loss: 4.1703e-04 - conv2d_20_loss: 0.1274\n",
      "\n",
      "Epoch 00001: loss did not improve from 16.82198\n"
     ]
    },
    {
     "name": "stderr",
     "output_type": "stream",
     "text": [
      "\n",
      "\n",
      "\n",
      "\n",
      "34it [02:18,  4.08s/it]\u001b[A\u001b[A\u001b[A\u001b[A"
     ]
    },
    {
     "name": "stdout",
     "output_type": "stream",
     "text": [
      "iteration : 34\n",
      "Epoch 1/1\n",
      " 8/16 [==============>...............] - ETA: 0s - loss: 7.1304 - acc: 0.1250"
     ]
    },
    {
     "name": "stderr",
     "output_type": "stream",
     "text": [
      "/opt/conda/lib/python3.6/site-packages/keras/engine/training.py:490: UserWarning: Discrepancy between trainable weights and collected trainable weights, did you set `model.trainable` without calling `model.compile` after ?\n",
      "  'Discrepancy between trainable weights and collected trainable'\n"
     ]
    },
    {
     "name": "stdout",
     "output_type": "stream",
     "text": [
      "16/16 [==============================] - 0s 24ms/step - loss: 5.7467 - acc: 0.0625\n",
      "Epoch 1/1\n",
      "8/8 [==============================] - 1s 98ms/step - loss: 17.5341 - model_1_loss: 0.0042 - conv2d_20_loss: 0.1188\n",
      "\n",
      "Epoch 00001: loss did not improve from 16.82198\n"
     ]
    },
    {
     "name": "stderr",
     "output_type": "stream",
     "text": [
      "\n",
      "\n",
      "\n",
      "\n",
      "35it [02:22,  4.08s/it]\u001b[A\u001b[A\u001b[A\u001b[A"
     ]
    },
    {
     "name": "stdout",
     "output_type": "stream",
     "text": [
      "iteration : 35\n",
      "Epoch 1/1\n",
      " 8/16 [==============>...............] - ETA: 0s - loss: 9.1658 - acc: 0.0000e+00"
     ]
    },
    {
     "name": "stderr",
     "output_type": "stream",
     "text": [
      "/opt/conda/lib/python3.6/site-packages/keras/engine/training.py:490: UserWarning: Discrepancy between trainable weights and collected trainable weights, did you set `model.trainable` without calling `model.compile` after ?\n",
      "  'Discrepancy between trainable weights and collected trainable'\n"
     ]
    },
    {
     "name": "stdout",
     "output_type": "stream",
     "text": [
      "16/16 [==============================] - 0s 23ms/step - loss: 7.7547 - acc: 0.1875\n",
      "Epoch 1/1\n",
      "8/8 [==============================] - 1s 97ms/step - loss: 18.5325 - model_1_loss: 0.0228 - conv2d_20_loss: 0.1279\n",
      "\n",
      "Epoch 00001: loss did not improve from 16.82198\n"
     ]
    },
    {
     "name": "stderr",
     "output_type": "stream",
     "text": [
      "\n",
      "\n",
      "\n",
      "\n",
      "36it [02:26,  4.09s/it]\u001b[A\u001b[A\u001b[A\u001b[A"
     ]
    },
    {
     "name": "stdout",
     "output_type": "stream",
     "text": [
      "iteration : 36\n",
      "Epoch 1/1\n",
      " 8/16 [==============>...............] - ETA: 0s - loss: 5.4095 - acc: 0.2500"
     ]
    },
    {
     "name": "stderr",
     "output_type": "stream",
     "text": [
      "/opt/conda/lib/python3.6/site-packages/keras/engine/training.py:490: UserWarning: Discrepancy between trainable weights and collected trainable weights, did you set `model.trainable` without calling `model.compile` after ?\n",
      "  'Discrepancy between trainable weights and collected trainable'\n"
     ]
    },
    {
     "name": "stdout",
     "output_type": "stream",
     "text": [
      "16/16 [==============================] - 0s 24ms/step - loss: 5.7597 - acc: 0.1875\n",
      "Epoch 1/1\n",
      "8/8 [==============================] - 1s 98ms/step - loss: 17.5426 - model_1_loss: 0.0085 - conv2d_20_loss: 0.1187\n",
      "\n",
      "Epoch 00001: loss did not improve from 16.82198\n"
     ]
    },
    {
     "name": "stderr",
     "output_type": "stream",
     "text": [
      "\n",
      "\n",
      "\n",
      "\n",
      "37it [02:31,  4.09s/it]\u001b[A\u001b[A\u001b[A\u001b[A"
     ]
    },
    {
     "name": "stdout",
     "output_type": "stream",
     "text": [
      "iteration : 37\n",
      "Epoch 1/1\n",
      " 8/16 [==============>...............] - ETA: 0s - loss: 5.9955 - acc: 0.1250"
     ]
    },
    {
     "name": "stderr",
     "output_type": "stream",
     "text": [
      "/opt/conda/lib/python3.6/site-packages/keras/engine/training.py:490: UserWarning: Discrepancy between trainable weights and collected trainable weights, did you set `model.trainable` without calling `model.compile` after ?\n",
      "  'Discrepancy between trainable weights and collected trainable'\n"
     ]
    },
    {
     "name": "stdout",
     "output_type": "stream",
     "text": [
      "16/16 [==============================] - 0s 23ms/step - loss: 5.6062 - acc: 0.1250\n",
      "Epoch 1/1\n",
      "8/8 [==============================] - 1s 97ms/step - loss: 18.5102 - model_1_loss: 0.0055 - conv2d_20_loss: 0.1285\n",
      "\n",
      "Epoch 00001: loss did not improve from 16.82198\n"
     ]
    },
    {
     "name": "stderr",
     "output_type": "stream",
     "text": [
      "\n",
      "\n",
      "\n",
      "\n",
      "38it [02:35,  4.09s/it]\u001b[A\u001b[A\u001b[A\u001b[A"
     ]
    },
    {
     "name": "stdout",
     "output_type": "stream",
     "text": [
      "iteration : 38\n",
      "Epoch 1/1\n",
      " 8/16 [==============>...............] - ETA: 0s - loss: 6.8200 - acc: 0.0000e+00"
     ]
    },
    {
     "name": "stderr",
     "output_type": "stream",
     "text": [
      "/opt/conda/lib/python3.6/site-packages/keras/engine/training.py:490: UserWarning: Discrepancy between trainable weights and collected trainable weights, did you set `model.trainable` without calling `model.compile` after ?\n",
      "  'Discrepancy between trainable weights and collected trainable'\n"
     ]
    },
    {
     "name": "stdout",
     "output_type": "stream",
     "text": [
      "16/16 [==============================] - 0s 24ms/step - loss: 5.6605 - acc: 0.1250\n",
      "Epoch 1/1\n",
      "8/8 [==============================] - 1s 98ms/step - loss: 18.4193 - model_1_loss: 0.0020 - conv2d_20_loss: 0.1278\n",
      "\n",
      "Epoch 00001: loss did not improve from 16.82198\n"
     ]
    },
    {
     "name": "stderr",
     "output_type": "stream",
     "text": [
      "\n",
      "\n",
      "\n",
      "\n",
      "39it [02:39,  4.10s/it]\u001b[A\u001b[A\u001b[A\u001b[A"
     ]
    },
    {
     "name": "stdout",
     "output_type": "stream",
     "text": [
      "iteration : 39\n",
      "Epoch 1/1\n",
      " 8/16 [==============>...............] - ETA: 0s - loss: 9.4813 - acc: 0.0000e+00"
     ]
    },
    {
     "name": "stderr",
     "output_type": "stream",
     "text": [
      "/opt/conda/lib/python3.6/site-packages/keras/engine/training.py:490: UserWarning: Discrepancy between trainable weights and collected trainable weights, did you set `model.trainable` without calling `model.compile` after ?\n",
      "  'Discrepancy between trainable weights and collected trainable'\n"
     ]
    },
    {
     "name": "stdout",
     "output_type": "stream",
     "text": [
      "16/16 [==============================] - 0s 23ms/step - loss: 7.7086 - acc: 0.0000e+00\n",
      "Epoch 1/1\n",
      "8/8 [==============================] - 1s 98ms/step - loss: 17.8711 - model_1_loss: 0.0016 - conv2d_20_loss: 0.1223\n",
      "\n",
      "Epoch 00001: loss did not improve from 16.82198\n"
     ]
    },
    {
     "name": "stderr",
     "output_type": "stream",
     "text": [
      "\n",
      "\n",
      "\n",
      "\n",
      "40it [02:43,  4.09s/it]\u001b[A\u001b[A\u001b[A\u001b[A"
     ]
    },
    {
     "name": "stdout",
     "output_type": "stream",
     "text": [
      "iteration : 40\n",
      "Epoch 1/1\n",
      " 8/16 [==============>...............] - ETA: 0s - loss: 5.0908 - acc: 0.3750"
     ]
    },
    {
     "name": "stderr",
     "output_type": "stream",
     "text": [
      "/opt/conda/lib/python3.6/site-packages/keras/engine/training.py:490: UserWarning: Discrepancy between trainable weights and collected trainable weights, did you set `model.trainable` without calling `model.compile` after ?\n",
      "  'Discrepancy between trainable weights and collected trainable'\n"
     ]
    },
    {
     "name": "stdout",
     "output_type": "stream",
     "text": [
      "16/16 [==============================] - 0s 24ms/step - loss: 5.5863 - acc: 0.1875\n",
      "Epoch 1/1\n",
      "8/8 [==============================] - 1s 98ms/step - loss: 19.6154 - model_1_loss: 0.0098 - conv2d_20_loss: 0.1394\n",
      "\n",
      "Epoch 00001: loss did not improve from 16.82198\n"
     ]
    },
    {
     "name": "stderr",
     "output_type": "stream",
     "text": [
      "\n",
      "\n",
      "\n",
      "\n",
      "41it [02:47,  4.10s/it]\u001b[A\u001b[A\u001b[A\u001b[A"
     ]
    },
    {
     "name": "stdout",
     "output_type": "stream",
     "text": [
      "iteration : 41\n",
      "Epoch 1/1\n",
      " 8/16 [==============>...............] - ETA: 0s - loss: 4.8739 - acc: 0.0000e+00"
     ]
    },
    {
     "name": "stderr",
     "output_type": "stream",
     "text": [
      "/opt/conda/lib/python3.6/site-packages/keras/engine/training.py:490: UserWarning: Discrepancy between trainable weights and collected trainable weights, did you set `model.trainable` without calling `model.compile` after ?\n",
      "  'Discrepancy between trainable weights and collected trainable'\n"
     ]
    },
    {
     "name": "stdout",
     "output_type": "stream",
     "text": [
      "16/16 [==============================] - 0s 23ms/step - loss: 4.9903 - acc: 0.1250\n",
      "Epoch 1/1\n",
      "8/8 [==============================] - 1s 97ms/step - loss: 19.3758 - model_1_loss: 0.0092 - conv2d_20_loss: 0.1370\n",
      "\n",
      "Epoch 00001: loss did not improve from 16.82198\n"
     ]
    },
    {
     "name": "stderr",
     "output_type": "stream",
     "text": [
      "\n",
      "\n",
      "\n",
      "\n",
      "42it [02:51,  4.09s/it]\u001b[A\u001b[A\u001b[A\u001b[A"
     ]
    },
    {
     "name": "stdout",
     "output_type": "stream",
     "text": [
      "iteration : 42\n",
      "Epoch 1/1\n",
      " 8/16 [==============>...............] - ETA: 0s - loss: 5.7270 - acc: 0.3750"
     ]
    },
    {
     "name": "stderr",
     "output_type": "stream",
     "text": [
      "/opt/conda/lib/python3.6/site-packages/keras/engine/training.py:490: UserWarning: Discrepancy between trainable weights and collected trainable weights, did you set `model.trainable` without calling `model.compile` after ?\n",
      "  'Discrepancy between trainable weights and collected trainable'\n"
     ]
    },
    {
     "name": "stdout",
     "output_type": "stream",
     "text": [
      "16/16 [==============================] - 0s 24ms/step - loss: 5.5148 - acc: 0.2500\n",
      "Epoch 1/1\n",
      "8/8 [==============================] - 1s 98ms/step - loss: 18.2766 - model_1_loss: 2.8559e-05 - conv2d_20_loss: 0.1265\n",
      "\n",
      "Epoch 00001: loss did not improve from 16.82198\n"
     ]
    },
    {
     "name": "stderr",
     "output_type": "stream",
     "text": [
      "\n",
      "\n",
      "\n",
      "\n",
      "43it [02:55,  4.09s/it]\u001b[A\u001b[A\u001b[A\u001b[A"
     ]
    },
    {
     "name": "stdout",
     "output_type": "stream",
     "text": [
      "iteration : 43\n",
      "Epoch 1/1\n",
      " 8/16 [==============>...............] - ETA: 0s - loss: 7.7811 - acc: 0.0000e+00"
     ]
    },
    {
     "name": "stderr",
     "output_type": "stream",
     "text": [
      "/opt/conda/lib/python3.6/site-packages/keras/engine/training.py:490: UserWarning: Discrepancy between trainable weights and collected trainable weights, did you set `model.trainable` without calling `model.compile` after ?\n",
      "  'Discrepancy between trainable weights and collected trainable'\n"
     ]
    },
    {
     "name": "stdout",
     "output_type": "stream",
     "text": [
      "16/16 [==============================] - 0s 23ms/step - loss: 6.9972 - acc: 0.1875\n",
      "Epoch 1/1\n",
      "8/8 [==============================] - 1s 97ms/step - loss: 18.5351 - model_1_loss: 9.1418e-04 - conv2d_20_loss: 0.1290\n",
      "\n",
      "Epoch 00001: loss did not improve from 16.82198\n"
     ]
    },
    {
     "name": "stderr",
     "output_type": "stream",
     "text": [
      "\n",
      "\n",
      "\n",
      "\n",
      "44it [02:59,  4.09s/it]\u001b[A\u001b[A\u001b[A\u001b[A"
     ]
    },
    {
     "name": "stdout",
     "output_type": "stream",
     "text": [
      "iteration : 44\n",
      "Epoch 1/1\n",
      " 8/16 [==============>...............] - ETA: 0s - loss: 8.4574 - acc: 0.0000e+00"
     ]
    },
    {
     "name": "stderr",
     "output_type": "stream",
     "text": [
      "/opt/conda/lib/python3.6/site-packages/keras/engine/training.py:490: UserWarning: Discrepancy between trainable weights and collected trainable weights, did you set `model.trainable` without calling `model.compile` after ?\n",
      "  'Discrepancy between trainable weights and collected trainable'\n"
     ]
    },
    {
     "name": "stdout",
     "output_type": "stream",
     "text": [
      "16/16 [==============================] - 0s 24ms/step - loss: 7.1479 - acc: 0.1875\n",
      "Epoch 1/1\n",
      "8/8 [==============================] - 1s 98ms/step - loss: 19.1933 - model_1_loss: 2.8959e-04 - conv2d_20_loss: 0.1356\n",
      "\n",
      "Epoch 00001: loss did not improve from 16.82198\n"
     ]
    },
    {
     "name": "stderr",
     "output_type": "stream",
     "text": [
      "\n",
      "\n",
      "\n",
      "\n",
      "45it [03:03,  4.10s/it]\u001b[A\u001b[A\u001b[A\u001b[A"
     ]
    },
    {
     "name": "stdout",
     "output_type": "stream",
     "text": [
      "iteration : 45\n",
      "Epoch 1/1\n",
      " 8/16 [==============>...............] - ETA: 0s - loss: 7.2183 - acc: 0.2500"
     ]
    },
    {
     "name": "stderr",
     "output_type": "stream",
     "text": [
      "/opt/conda/lib/python3.6/site-packages/keras/engine/training.py:490: UserWarning: Discrepancy between trainable weights and collected trainable weights, did you set `model.trainable` without calling `model.compile` after ?\n",
      "  'Discrepancy between trainable weights and collected trainable'\n"
     ]
    },
    {
     "name": "stdout",
     "output_type": "stream",
     "text": [
      "16/16 [==============================] - 0s 23ms/step - loss: 6.1780 - acc: 0.3125\n",
      "Epoch 1/1\n",
      "8/8 [==============================] - 1s 97ms/step - loss: 20.4960 - model_1_loss: 7.0189e-05 - conv2d_20_loss: 0.1487\n",
      "\n",
      "Epoch 00001: loss did not improve from 16.82198\n"
     ]
    },
    {
     "name": "stderr",
     "output_type": "stream",
     "text": [
      "\n",
      "\n",
      "\n",
      "\n",
      "46it [03:07,  4.09s/it]\u001b[A\u001b[A\u001b[A\u001b[A"
     ]
    },
    {
     "name": "stdout",
     "output_type": "stream",
     "text": [
      "iteration : 46\n",
      "Epoch 1/1\n",
      " 8/16 [==============>...............] - ETA: 0s - loss: 7.9347 - acc: 0.1250"
     ]
    },
    {
     "name": "stderr",
     "output_type": "stream",
     "text": [
      "/opt/conda/lib/python3.6/site-packages/keras/engine/training.py:490: UserWarning: Discrepancy between trainable weights and collected trainable weights, did you set `model.trainable` without calling `model.compile` after ?\n",
      "  'Discrepancy between trainable weights and collected trainable'\n"
     ]
    },
    {
     "name": "stdout",
     "output_type": "stream",
     "text": [
      "16/16 [==============================] - 0s 24ms/step - loss: 6.7019 - acc: 0.1875\n",
      "Epoch 1/1\n",
      "8/8 [==============================] - 1s 98ms/step - loss: 18.7363 - model_1_loss: 0.0034 - conv2d_20_loss: 0.1309\n",
      "\n",
      "Epoch 00001: loss did not improve from 16.82198\n"
     ]
    },
    {
     "name": "stderr",
     "output_type": "stream",
     "text": [
      "\n",
      "\n",
      "\n",
      "\n",
      "47it [03:11,  4.09s/it]\u001b[A\u001b[A\u001b[A\u001b[A"
     ]
    },
    {
     "name": "stdout",
     "output_type": "stream",
     "text": [
      "iteration : 47\n",
      "Epoch 1/1\n",
      " 8/16 [==============>...............] - ETA: 0s - loss: 6.2349 - acc: 0.1250"
     ]
    },
    {
     "name": "stderr",
     "output_type": "stream",
     "text": [
      "/opt/conda/lib/python3.6/site-packages/keras/engine/training.py:490: UserWarning: Discrepancy between trainable weights and collected trainable weights, did you set `model.trainable` without calling `model.compile` after ?\n",
      "  'Discrepancy between trainable weights and collected trainable'\n"
     ]
    },
    {
     "name": "stdout",
     "output_type": "stream",
     "text": [
      "16/16 [==============================] - 0s 23ms/step - loss: 6.7851 - acc: 0.1250\n",
      "Epoch 1/1\n",
      "8/8 [==============================] - 1s 97ms/step - loss: 19.3787 - model_1_loss: 1.5810e-05 - conv2d_20_loss: 0.1375\n",
      "\n",
      "Epoch 00001: loss did not improve from 16.82198\n"
     ]
    },
    {
     "name": "stderr",
     "output_type": "stream",
     "text": [
      "\n",
      "\n",
      "\n",
      "\n",
      "48it [03:16,  4.09s/it]\u001b[A\u001b[A\u001b[A\u001b[A"
     ]
    },
    {
     "name": "stdout",
     "output_type": "stream",
     "text": [
      "iteration : 48\n",
      "Epoch 1/1\n",
      " 8/16 [==============>...............] - ETA: 0s - loss: 6.5651 - acc: 0.0000e+00"
     ]
    },
    {
     "name": "stderr",
     "output_type": "stream",
     "text": [
      "/opt/conda/lib/python3.6/site-packages/keras/engine/training.py:490: UserWarning: Discrepancy between trainable weights and collected trainable weights, did you set `model.trainable` without calling `model.compile` after ?\n",
      "  'Discrepancy between trainable weights and collected trainable'\n"
     ]
    },
    {
     "name": "stdout",
     "output_type": "stream",
     "text": [
      "16/16 [==============================] - 0s 24ms/step - loss: 7.1724 - acc: 0.1250\n",
      "Epoch 1/1\n",
      "8/8 [==============================] - 1s 98ms/step - loss: 18.7063 - model_1_loss: 4.8866e-04 - conv2d_20_loss: 0.1307\n",
      "\n",
      "Epoch 00001: loss did not improve from 16.82198\n"
     ]
    },
    {
     "name": "stderr",
     "output_type": "stream",
     "text": [
      "\n",
      "\n",
      "\n",
      "\n",
      "49it [03:20,  4.08s/it]\u001b[A\u001b[A\u001b[A\u001b[A"
     ]
    },
    {
     "name": "stdout",
     "output_type": "stream",
     "text": [
      "iteration : 49\n",
      "Epoch 1/1\n",
      " 8/16 [==============>...............] - ETA: 0s - loss: 6.7570 - acc: 0.0000e+00"
     ]
    },
    {
     "name": "stderr",
     "output_type": "stream",
     "text": [
      "/opt/conda/lib/python3.6/site-packages/keras/engine/training.py:490: UserWarning: Discrepancy between trainable weights and collected trainable weights, did you set `model.trainable` without calling `model.compile` after ?\n",
      "  'Discrepancy between trainable weights and collected trainable'\n"
     ]
    },
    {
     "name": "stdout",
     "output_type": "stream",
     "text": [
      "16/16 [==============================] - 0s 23ms/step - loss: 7.9033 - acc: 0.0000e+00\n",
      "Epoch 1/1\n",
      "8/8 [==============================] - 1s 97ms/step - loss: 19.6842 - model_1_loss: 4.9401e-04 - conv2d_20_loss: 0.1405\n",
      "\n",
      "Epoch 00001: loss did not improve from 16.82198\n"
     ]
    },
    {
     "name": "stderr",
     "output_type": "stream",
     "text": [
      "\n",
      "\n",
      "\n",
      "\n",
      "50it [03:24,  4.08s/it]\u001b[A\u001b[A\u001b[A\u001b[A"
     ]
    },
    {
     "name": "stdout",
     "output_type": "stream",
     "text": [
      "iteration : 50\n",
      "Epoch 1/1\n",
      " 8/16 [==============>...............] - ETA: 0s - loss: 8.9222 - acc: 0.0000e+00"
     ]
    },
    {
     "name": "stderr",
     "output_type": "stream",
     "text": [
      "/opt/conda/lib/python3.6/site-packages/keras/engine/training.py:490: UserWarning: Discrepancy between trainable weights and collected trainable weights, did you set `model.trainable` without calling `model.compile` after ?\n",
      "  'Discrepancy between trainable weights and collected trainable'\n"
     ]
    },
    {
     "name": "stdout",
     "output_type": "stream",
     "text": [
      "16/16 [==============================] - 0s 24ms/step - loss: 6.9640 - acc: 0.0625\n",
      "Epoch 1/1\n",
      "8/8 [==============================] - 1s 99ms/step - loss: 19.5458 - model_1_loss: 0.0018 - conv2d_20_loss: 0.1391\n",
      "\n",
      "Epoch 00001: loss did not improve from 16.82198\n"
     ]
    },
    {
     "name": "stderr",
     "output_type": "stream",
     "text": [
      "\n",
      "\n",
      "\n",
      "\n",
      "51it [03:28,  4.09s/it]\u001b[A\u001b[A\u001b[A\u001b[A"
     ]
    },
    {
     "name": "stdout",
     "output_type": "stream",
     "text": [
      "iteration : 51\n",
      "Epoch 1/1\n",
      " 8/16 [==============>...............] - ETA: 0s - loss: 5.3723 - acc: 0.1250"
     ]
    },
    {
     "name": "stderr",
     "output_type": "stream",
     "text": [
      "/opt/conda/lib/python3.6/site-packages/keras/engine/training.py:490: UserWarning: Discrepancy between trainable weights and collected trainable weights, did you set `model.trainable` without calling `model.compile` after ?\n",
      "  'Discrepancy between trainable weights and collected trainable'\n"
     ]
    },
    {
     "name": "stdout",
     "output_type": "stream",
     "text": [
      "16/16 [==============================] - 0s 23ms/step - loss: 6.3070 - acc: 0.0625\n",
      "Epoch 1/1\n",
      "8/8 [==============================] - 1s 97ms/step - loss: 17.2430 - model_1_loss: 3.8738e-05 - conv2d_20_loss: 0.1161\n",
      "\n",
      "Epoch 00001: loss did not improve from 16.82198\n"
     ]
    },
    {
     "name": "stderr",
     "output_type": "stream",
     "text": [
      "\n",
      "\n",
      "\n",
      "\n",
      "52it [03:32,  4.07s/it]\u001b[A\u001b[A\u001b[A\u001b[A"
     ]
    },
    {
     "name": "stdout",
     "output_type": "stream",
     "text": [
      "iteration : 52\n",
      "Epoch 1/1\n",
      " 8/16 [==============>...............] - ETA: 0s - loss: 6.7158 - acc: 0.0000e+00"
     ]
    },
    {
     "name": "stderr",
     "output_type": "stream",
     "text": [
      "/opt/conda/lib/python3.6/site-packages/keras/engine/training.py:490: UserWarning: Discrepancy between trainable weights and collected trainable weights, did you set `model.trainable` without calling `model.compile` after ?\n",
      "  'Discrepancy between trainable weights and collected trainable'\n"
     ]
    },
    {
     "name": "stdout",
     "output_type": "stream",
     "text": [
      "16/16 [==============================] - 0s 24ms/step - loss: 6.2810 - acc: 0.1250\n",
      "Epoch 1/1\n",
      "8/8 [==============================] - 1s 98ms/step - loss: 18.5536 - model_1_loss: 0.0507 - conv2d_20_loss: 0.1267\n",
      "\n",
      "Epoch 00001: loss did not improve from 16.82198\n"
     ]
    },
    {
     "name": "stderr",
     "output_type": "stream",
     "text": [
      "\n",
      "\n",
      "\n",
      "\n",
      "53it [03:36,  4.09s/it]\u001b[A\u001b[A\u001b[A\u001b[A"
     ]
    },
    {
     "name": "stdout",
     "output_type": "stream",
     "text": [
      "iteration : 53\n",
      "Epoch 1/1\n",
      " 8/16 [==============>...............] - ETA: 0s - loss: 5.2797 - acc: 0.3750"
     ]
    },
    {
     "name": "stderr",
     "output_type": "stream",
     "text": [
      "/opt/conda/lib/python3.6/site-packages/keras/engine/training.py:490: UserWarning: Discrepancy between trainable weights and collected trainable weights, did you set `model.trainable` without calling `model.compile` after ?\n",
      "  'Discrepancy between trainable weights and collected trainable'\n"
     ]
    },
    {
     "name": "stdout",
     "output_type": "stream",
     "text": [
      "16/16 [==============================] - 0s 23ms/step - loss: 6.0827 - acc: 0.2500\n",
      "Epoch 1/1\n",
      "8/8 [==============================] - 1s 97ms/step - loss: 17.5657 - model_1_loss: 2.1454e-04 - conv2d_20_loss: 0.1194\n",
      "\n",
      "Epoch 00001: loss did not improve from 16.82198\n"
     ]
    },
    {
     "name": "stderr",
     "output_type": "stream",
     "text": [
      "\n",
      "\n",
      "\n",
      "\n",
      "54it [03:40,  4.07s/it]\u001b[A\u001b[A\u001b[A\u001b[A"
     ]
    },
    {
     "name": "stdout",
     "output_type": "stream",
     "text": [
      "iteration : 54\n",
      "Epoch 1/1\n",
      " 8/16 [==============>...............] - ETA: 0s - loss: 8.4857 - acc: 0.0000e+00"
     ]
    },
    {
     "name": "stderr",
     "output_type": "stream",
     "text": [
      "/opt/conda/lib/python3.6/site-packages/keras/engine/training.py:490: UserWarning: Discrepancy between trainable weights and collected trainable weights, did you set `model.trainable` without calling `model.compile` after ?\n",
      "  'Discrepancy between trainable weights and collected trainable'\n"
     ]
    },
    {
     "name": "stdout",
     "output_type": "stream",
     "text": [
      "16/16 [==============================] - 0s 24ms/step - loss: 7.4938 - acc: 0.1875\n",
      "Epoch 1/1\n",
      "8/8 [==============================] - 1s 98ms/step - loss: 18.8838 - model_1_loss: 5.9339e-05 - conv2d_20_loss: 0.1326\n",
      "\n",
      "Epoch 00001: loss did not improve from 16.82198\n"
     ]
    },
    {
     "name": "stderr",
     "output_type": "stream",
     "text": [
      "\n",
      "\n",
      "\n",
      "\n",
      "55it [03:44,  4.08s/it]\u001b[A\u001b[A\u001b[A\u001b[A"
     ]
    },
    {
     "name": "stdout",
     "output_type": "stream",
     "text": [
      "iteration : 55\n",
      "Epoch 1/1\n",
      " 8/16 [==============>...............] - ETA: 0s - loss: 5.8319 - acc: 0.1250"
     ]
    },
    {
     "name": "stderr",
     "output_type": "stream",
     "text": [
      "/opt/conda/lib/python3.6/site-packages/keras/engine/training.py:490: UserWarning: Discrepancy between trainable weights and collected trainable weights, did you set `model.trainable` without calling `model.compile` after ?\n",
      "  'Discrepancy between trainable weights and collected trainable'\n"
     ]
    },
    {
     "name": "stdout",
     "output_type": "stream",
     "text": [
      "16/16 [==============================] - 0s 23ms/step - loss: 6.3190 - acc: 0.1250\n",
      "Epoch 1/1\n",
      "8/8 [==============================] - 1s 97ms/step - loss: 17.9176 - model_1_loss: 0.0056 - conv2d_20_loss: 0.1226\n",
      "\n",
      "Epoch 00001: loss did not improve from 16.82198\n"
     ]
    },
    {
     "name": "stderr",
     "output_type": "stream",
     "text": [
      "\n",
      "\n",
      "\n",
      "\n",
      "56it [03:48,  4.08s/it]\u001b[A\u001b[A\u001b[A\u001b[A"
     ]
    },
    {
     "name": "stdout",
     "output_type": "stream",
     "text": [
      "iteration : 56\n",
      "Epoch 1/1\n",
      " 8/16 [==============>...............] - ETA: 0s - loss: 6.9802 - acc: 0.1250"
     ]
    },
    {
     "name": "stderr",
     "output_type": "stream",
     "text": [
      "/opt/conda/lib/python3.6/site-packages/keras/engine/training.py:490: UserWarning: Discrepancy between trainable weights and collected trainable weights, did you set `model.trainable` without calling `model.compile` after ?\n",
      "  'Discrepancy between trainable weights and collected trainable'\n"
     ]
    },
    {
     "name": "stdout",
     "output_type": "stream",
     "text": [
      "16/16 [==============================] - 0s 24ms/step - loss: 7.3470 - acc: 0.1875\n",
      "Epoch 1/1\n",
      "8/8 [==============================] - 1s 98ms/step - loss: 18.2573 - model_1_loss: 1.2903e-04 - conv2d_20_loss: 0.1263\n",
      "\n",
      "Epoch 00001: loss did not improve from 16.82198\n"
     ]
    },
    {
     "name": "stderr",
     "output_type": "stream",
     "text": [
      "\n",
      "\n",
      "\n",
      "\n",
      "57it [03:52,  4.08s/it]\u001b[A\u001b[A\u001b[A\u001b[A"
     ]
    },
    {
     "name": "stdout",
     "output_type": "stream",
     "text": [
      "iteration : 57\n",
      "Epoch 1/1\n",
      " 8/16 [==============>...............] - ETA: 0s - loss: 6.5142 - acc: 0.2500"
     ]
    },
    {
     "name": "stderr",
     "output_type": "stream",
     "text": [
      "/opt/conda/lib/python3.6/site-packages/keras/engine/training.py:490: UserWarning: Discrepancy between trainable weights and collected trainable weights, did you set `model.trainable` without calling `model.compile` after ?\n",
      "  'Discrepancy between trainable weights and collected trainable'\n"
     ]
    },
    {
     "name": "stdout",
     "output_type": "stream",
     "text": [
      "16/16 [==============================] - 0s 23ms/step - loss: 5.9134 - acc: 0.2500\n",
      "Epoch 1/1\n",
      "8/8 [==============================] - 1s 97ms/step - loss: 17.9550 - model_1_loss: 3.8040e-04 - conv2d_20_loss: 0.1232\n",
      "\n",
      "Epoch 00001: loss did not improve from 16.82198\n"
     ]
    },
    {
     "name": "stderr",
     "output_type": "stream",
     "text": [
      "\n",
      "\n",
      "\n",
      "\n",
      "58it [03:56,  4.09s/it]\u001b[A\u001b[A\u001b[A\u001b[A"
     ]
    },
    {
     "name": "stdout",
     "output_type": "stream",
     "text": [
      "iteration : 58\n",
      "Epoch 1/1\n",
      " 8/16 [==============>...............] - ETA: 0s - loss: 6.0252 - acc: 0.2500"
     ]
    },
    {
     "name": "stderr",
     "output_type": "stream",
     "text": [
      "/opt/conda/lib/python3.6/site-packages/keras/engine/training.py:490: UserWarning: Discrepancy between trainable weights and collected trainable weights, did you set `model.trainable` without calling `model.compile` after ?\n",
      "  'Discrepancy between trainable weights and collected trainable'\n"
     ]
    },
    {
     "name": "stdout",
     "output_type": "stream",
     "text": [
      "16/16 [==============================] - 0s 24ms/step - loss: 5.8254 - acc: 0.1875\n",
      "Epoch 1/1\n",
      "8/8 [==============================] - 1s 98ms/step - loss: 18.9791 - model_1_loss: 0.0043 - conv2d_20_loss: 0.1333\n",
      "\n",
      "Epoch 00001: loss did not improve from 16.82198\n"
     ]
    },
    {
     "name": "stderr",
     "output_type": "stream",
     "text": [
      "\n",
      "\n",
      "\n",
      "\n",
      "59it [04:00,  4.09s/it]\u001b[A\u001b[A\u001b[A\u001b[A"
     ]
    },
    {
     "name": "stdout",
     "output_type": "stream",
     "text": [
      "iteration : 59\n",
      "Epoch 1/1\n",
      " 8/16 [==============>...............] - ETA: 0s - loss: 5.2838 - acc: 0.6250"
     ]
    },
    {
     "name": "stderr",
     "output_type": "stream",
     "text": [
      "/opt/conda/lib/python3.6/site-packages/keras/engine/training.py:490: UserWarning: Discrepancy between trainable weights and collected trainable weights, did you set `model.trainable` without calling `model.compile` after ?\n",
      "  'Discrepancy between trainable weights and collected trainable'\n"
     ]
    },
    {
     "name": "stdout",
     "output_type": "stream",
     "text": [
      "16/16 [==============================] - 0s 23ms/step - loss: 6.3414 - acc: 0.3750\n",
      "Epoch 1/1\n",
      "8/8 [==============================] - 1s 97ms/step - loss: 18.9168 - model_1_loss: 0.0131 - conv2d_20_loss: 0.1322\n",
      "\n",
      "Epoch 00001: loss did not improve from 16.82198\n"
     ]
    },
    {
     "name": "stderr",
     "output_type": "stream",
     "text": [
      "\n",
      "\n",
      "\n",
      "\n",
      "60it [04:05,  4.09s/it]\u001b[A\u001b[A\u001b[A\u001b[A"
     ]
    },
    {
     "name": "stdout",
     "output_type": "stream",
     "text": [
      "iteration : 60\n",
      "Epoch 1/1\n",
      " 8/16 [==============>...............] - ETA: 0s - loss: 6.7320 - acc: 0.3750"
     ]
    },
    {
     "name": "stderr",
     "output_type": "stream",
     "text": [
      "/opt/conda/lib/python3.6/site-packages/keras/engine/training.py:490: UserWarning: Discrepancy between trainable weights and collected trainable weights, did you set `model.trainable` without calling `model.compile` after ?\n",
      "  'Discrepancy between trainable weights and collected trainable'\n"
     ]
    },
    {
     "name": "stdout",
     "output_type": "stream",
     "text": [
      "16/16 [==============================] - 0s 24ms/step - loss: 5.6400 - acc: 0.3125\n",
      "Epoch 1/1\n",
      "8/8 [==============================] - 1s 98ms/step - loss: 18.1369 - model_1_loss: 2.3009e-05 - conv2d_20_loss: 0.1251\n",
      "\n",
      "Epoch 00001: loss did not improve from 16.82198\n"
     ]
    },
    {
     "name": "stderr",
     "output_type": "stream",
     "text": [
      "\n",
      "\n",
      "\n",
      "\n",
      "61it [04:09,  4.09s/it]\u001b[A\u001b[A\u001b[A\u001b[A"
     ]
    },
    {
     "name": "stdout",
     "output_type": "stream",
     "text": [
      "iteration : 61\n",
      "Epoch 1/1\n",
      " 8/16 [==============>...............] - ETA: 0s - loss: 4.5465 - acc: 0.2500"
     ]
    },
    {
     "name": "stderr",
     "output_type": "stream",
     "text": [
      "/opt/conda/lib/python3.6/site-packages/keras/engine/training.py:490: UserWarning: Discrepancy between trainable weights and collected trainable weights, did you set `model.trainable` without calling `model.compile` after ?\n",
      "  'Discrepancy between trainable weights and collected trainable'\n"
     ]
    },
    {
     "name": "stdout",
     "output_type": "stream",
     "text": [
      "16/16 [==============================] - 0s 23ms/step - loss: 7.2079 - acc: 0.1250\n",
      "Epoch 1/1\n",
      "8/8 [==============================] - 1s 97ms/step - loss: 18.3903 - model_1_loss: 8.4341e-06 - conv2d_20_loss: 0.1276\n",
      "\n",
      "Epoch 00001: loss did not improve from 16.82198\n"
     ]
    },
    {
     "name": "stderr",
     "output_type": "stream",
     "text": [
      "\n",
      "\n",
      "\n",
      "\n",
      "62it [04:13,  4.08s/it]\u001b[A\u001b[A\u001b[A\u001b[A"
     ]
    },
    {
     "name": "stdout",
     "output_type": "stream",
     "text": [
      "iteration : 62\n",
      "Epoch 1/1\n",
      " 8/16 [==============>...............] - ETA: 0s - loss: 5.6369 - acc: 0.2500"
     ]
    },
    {
     "name": "stderr",
     "output_type": "stream",
     "text": [
      "/opt/conda/lib/python3.6/site-packages/keras/engine/training.py:490: UserWarning: Discrepancy between trainable weights and collected trainable weights, did you set `model.trainable` without calling `model.compile` after ?\n",
      "  'Discrepancy between trainable weights and collected trainable'\n"
     ]
    },
    {
     "name": "stdout",
     "output_type": "stream",
     "text": [
      "16/16 [==============================] - 0s 24ms/step - loss: 5.4435 - acc: 0.1875\n",
      "Epoch 1/1\n",
      "8/8 [==============================] - 1s 98ms/step - loss: 19.0669 - model_1_loss: 8.8400e-04 - conv2d_20_loss: 0.1343\n",
      "\n",
      "Epoch 00001: loss did not improve from 16.82198\n"
     ]
    },
    {
     "name": "stderr",
     "output_type": "stream",
     "text": [
      "\n",
      "\n",
      "\n",
      "\n",
      "63it [04:17,  4.09s/it]\u001b[A\u001b[A\u001b[A\u001b[A"
     ]
    },
    {
     "name": "stdout",
     "output_type": "stream",
     "text": [
      "iteration : 63\n",
      "Epoch 1/1\n",
      " 8/16 [==============>...............] - ETA: 0s - loss: 7.6769 - acc: 0.0000e+00"
     ]
    },
    {
     "name": "stderr",
     "output_type": "stream",
     "text": [
      "/opt/conda/lib/python3.6/site-packages/keras/engine/training.py:490: UserWarning: Discrepancy between trainable weights and collected trainable weights, did you set `model.trainable` without calling `model.compile` after ?\n",
      "  'Discrepancy between trainable weights and collected trainable'\n"
     ]
    },
    {
     "name": "stdout",
     "output_type": "stream",
     "text": [
      "16/16 [==============================] - 0s 23ms/step - loss: 6.6245 - acc: 0.1250\n",
      "Epoch 1/1\n",
      "8/8 [==============================] - 1s 97ms/step - loss: 19.0760 - model_1_loss: 0.0971 - conv2d_20_loss: 0.1296\n",
      "\n",
      "Epoch 00001: loss did not improve from 16.82198\n"
     ]
    },
    {
     "name": "stderr",
     "output_type": "stream",
     "text": [
      "\n",
      "\n",
      "\n",
      "\n",
      "64it [04:21,  4.08s/it]\u001b[A\u001b[A\u001b[A\u001b[A"
     ]
    },
    {
     "name": "stdout",
     "output_type": "stream",
     "text": [
      "iteration : 64\n",
      "Epoch 1/1\n",
      " 8/16 [==============>...............] - ETA: 0s - loss: 5.9326 - acc: 0.0000e+00"
     ]
    },
    {
     "name": "stderr",
     "output_type": "stream",
     "text": [
      "/opt/conda/lib/python3.6/site-packages/keras/engine/training.py:490: UserWarning: Discrepancy between trainable weights and collected trainable weights, did you set `model.trainable` without calling `model.compile` after ?\n",
      "  'Discrepancy between trainable weights and collected trainable'\n"
     ]
    },
    {
     "name": "stdout",
     "output_type": "stream",
     "text": [
      "16/16 [==============================] - 0s 24ms/step - loss: 5.3164 - acc: 0.0000e+00\n",
      "Epoch 1/1\n",
      "8/8 [==============================] - 1s 98ms/step - loss: 18.8191 - model_1_loss: 0.0098 - conv2d_20_loss: 0.1314\n",
      "\n",
      "Epoch 00001: loss did not improve from 16.82198\n"
     ]
    },
    {
     "name": "stderr",
     "output_type": "stream",
     "text": [
      "\n",
      "\n",
      "\n",
      "\n",
      "65it [04:25,  4.09s/it]\u001b[A\u001b[A\u001b[A\u001b[A"
     ]
    },
    {
     "name": "stdout",
     "output_type": "stream",
     "text": [
      "iteration : 65\n",
      "Epoch 1/1\n",
      " 8/16 [==============>...............] - ETA: 0s - loss: 7.0458 - acc: 0.1250"
     ]
    },
    {
     "name": "stderr",
     "output_type": "stream",
     "text": [
      "/opt/conda/lib/python3.6/site-packages/keras/engine/training.py:490: UserWarning: Discrepancy between trainable weights and collected trainable weights, did you set `model.trainable` without calling `model.compile` after ?\n",
      "  'Discrepancy between trainable weights and collected trainable'\n"
     ]
    },
    {
     "name": "stdout",
     "output_type": "stream",
     "text": [
      "16/16 [==============================] - 0s 23ms/step - loss: 6.0768 - acc: 0.1875\n",
      "Epoch 1/1\n",
      "8/8 [==============================] - 1s 97ms/step - loss: 19.2719 - model_1_loss: 2.4960e-05 - conv2d_20_loss: 0.1364\n",
      "\n",
      "Epoch 00001: loss did not improve from 16.82198\n"
     ]
    },
    {
     "name": "stderr",
     "output_type": "stream",
     "text": [
      "\n",
      "\n",
      "\n",
      "\n",
      "66it [04:29,  4.08s/it]\u001b[A\u001b[A\u001b[A\u001b[A"
     ]
    },
    {
     "name": "stdout",
     "output_type": "stream",
     "text": [
      "iteration : 66\n",
      "Epoch 1/1\n",
      " 8/16 [==============>...............] - ETA: 0s - loss: 4.7912 - acc: 0.1250"
     ]
    },
    {
     "name": "stderr",
     "output_type": "stream",
     "text": [
      "/opt/conda/lib/python3.6/site-packages/keras/engine/training.py:490: UserWarning: Discrepancy between trainable weights and collected trainable weights, did you set `model.trainable` without calling `model.compile` after ?\n",
      "  'Discrepancy between trainable weights and collected trainable'\n"
     ]
    },
    {
     "name": "stdout",
     "output_type": "stream",
     "text": [
      "16/16 [==============================] - 0s 24ms/step - loss: 6.3868 - acc: 0.0625\n",
      "Epoch 1/1\n",
      "8/8 [==============================] - 1s 98ms/step - loss: 18.9650 - model_1_loss: 3.7370e-04 - conv2d_20_loss: 0.1334\n",
      "\n",
      "Epoch 00001: loss did not improve from 16.82198\n"
     ]
    },
    {
     "name": "stderr",
     "output_type": "stream",
     "text": [
      "\n",
      "\n",
      "\n",
      "\n",
      "67it [04:33,  4.09s/it]\u001b[A\u001b[A\u001b[A\u001b[A"
     ]
    },
    {
     "name": "stdout",
     "output_type": "stream",
     "text": [
      "iteration : 67\n",
      "Epoch 1/1\n",
      " 8/16 [==============>...............] - ETA: 0s - loss: 3.5962 - acc: 0.3750"
     ]
    },
    {
     "name": "stderr",
     "output_type": "stream",
     "text": [
      "/opt/conda/lib/python3.6/site-packages/keras/engine/training.py:490: UserWarning: Discrepancy between trainable weights and collected trainable weights, did you set `model.trainable` without calling `model.compile` after ?\n",
      "  'Discrepancy between trainable weights and collected trainable'\n"
     ]
    },
    {
     "name": "stdout",
     "output_type": "stream",
     "text": [
      "16/16 [==============================] - 0s 23ms/step - loss: 7.0417 - acc: 0.1875\n",
      "Epoch 1/1\n",
      "8/8 [==============================] - 1s 97ms/step - loss: 19.6908 - model_1_loss: 2.7581e-04 - conv2d_20_loss: 0.1406\n",
      "\n",
      "Epoch 00001: loss did not improve from 16.82198\n"
     ]
    },
    {
     "name": "stderr",
     "output_type": "stream",
     "text": [
      "\n",
      "\n",
      "\n",
      "\n",
      "68it [04:37,  4.08s/it]\u001b[A\u001b[A\u001b[A\u001b[A"
     ]
    },
    {
     "name": "stdout",
     "output_type": "stream",
     "text": [
      "iteration : 68\n",
      "Epoch 1/1\n",
      " 8/16 [==============>...............] - ETA: 0s - loss: 6.0644 - acc: 0.1250"
     ]
    },
    {
     "name": "stderr",
     "output_type": "stream",
     "text": [
      "/opt/conda/lib/python3.6/site-packages/keras/engine/training.py:490: UserWarning: Discrepancy between trainable weights and collected trainable weights, did you set `model.trainable` without calling `model.compile` after ?\n",
      "  'Discrepancy between trainable weights and collected trainable'\n"
     ]
    },
    {
     "name": "stdout",
     "output_type": "stream",
     "text": [
      "16/16 [==============================] - 0s 24ms/step - loss: 6.4779 - acc: 0.1875\n",
      "Epoch 1/1\n",
      "8/8 [==============================] - 1s 98ms/step - loss: 17.6924 - model_1_loss: 0.0024 - conv2d_20_loss: 0.1205\n",
      "\n",
      "Epoch 00001: loss did not improve from 16.82198\n"
     ]
    },
    {
     "name": "stderr",
     "output_type": "stream",
     "text": [
      "\n",
      "\n",
      "\n",
      "\n",
      "69it [04:41,  4.09s/it]\u001b[A\u001b[A\u001b[A\u001b[A"
     ]
    },
    {
     "name": "stdout",
     "output_type": "stream",
     "text": [
      "iteration : 69\n",
      "Epoch 1/1\n",
      " 8/16 [==============>...............] - ETA: 0s - loss: 7.4318 - acc: 0.1250"
     ]
    },
    {
     "name": "stderr",
     "output_type": "stream",
     "text": [
      "/opt/conda/lib/python3.6/site-packages/keras/engine/training.py:490: UserWarning: Discrepancy between trainable weights and collected trainable weights, did you set `model.trainable` without calling `model.compile` after ?\n",
      "  'Discrepancy between trainable weights and collected trainable'\n"
     ]
    },
    {
     "name": "stdout",
     "output_type": "stream",
     "text": [
      "16/16 [==============================] - 0s 23ms/step - loss: 7.0850 - acc: 0.2500\n",
      "Epoch 1/1\n",
      "8/8 [==============================] - 1s 97ms/step - loss: 18.7171 - model_1_loss: 0.0089 - conv2d_20_loss: 0.1304\n",
      "\n",
      "Epoch 00001: loss did not improve from 16.82198\n"
     ]
    },
    {
     "name": "stderr",
     "output_type": "stream",
     "text": [
      "\n",
      "\n",
      "\n",
      "\n",
      "70it [04:45,  4.08s/it]\u001b[A\u001b[A\u001b[A\u001b[A"
     ]
    },
    {
     "name": "stdout",
     "output_type": "stream",
     "text": [
      "iteration : 70\n",
      "Epoch 1/1\n",
      " 8/16 [==============>...............] - ETA: 0s - loss: 6.1837 - acc: 0.2500"
     ]
    },
    {
     "name": "stderr",
     "output_type": "stream",
     "text": [
      "/opt/conda/lib/python3.6/site-packages/keras/engine/training.py:490: UserWarning: Discrepancy between trainable weights and collected trainable weights, did you set `model.trainable` without calling `model.compile` after ?\n",
      "  'Discrepancy between trainable weights and collected trainable'\n"
     ]
    },
    {
     "name": "stdout",
     "output_type": "stream",
     "text": [
      "16/16 [==============================] - 0s 24ms/step - loss: 6.7624 - acc: 0.1875\n",
      "Epoch 1/1\n",
      "8/8 [==============================] - 1s 98ms/step - loss: 18.3137 - model_1_loss: 0.0034 - conv2d_20_loss: 0.1267\n",
      "\n",
      "Epoch 00001: loss did not improve from 16.82198\n"
     ]
    },
    {
     "name": "stderr",
     "output_type": "stream",
     "text": [
      "\n",
      "\n",
      "\n",
      "\n",
      "71it [04:49,  4.06s/it]\u001b[A\u001b[A\u001b[A\u001b[A"
     ]
    },
    {
     "name": "stdout",
     "output_type": "stream",
     "text": [
      "iteration : 71\n",
      "Epoch 1/1\n",
      " 8/16 [==============>...............] - ETA: 0s - loss: 7.9499 - acc: 0.2500"
     ]
    },
    {
     "name": "stderr",
     "output_type": "stream",
     "text": [
      "/opt/conda/lib/python3.6/site-packages/keras/engine/training.py:490: UserWarning: Discrepancy between trainable weights and collected trainable weights, did you set `model.trainable` without calling `model.compile` after ?\n",
      "  'Discrepancy between trainable weights and collected trainable'\n"
     ]
    },
    {
     "name": "stdout",
     "output_type": "stream",
     "text": [
      "16/16 [==============================] - 0s 22ms/step - loss: 6.2338 - acc: 0.1875\n",
      "Epoch 1/1\n",
      "8/8 [==============================] - 1s 96ms/step - loss: 20.5011 - model_1_loss: 0.0088 - conv2d_20_loss: 0.1483\n",
      "\n",
      "Epoch 00001: loss did not improve from 16.82198\n"
     ]
    },
    {
     "name": "stderr",
     "output_type": "stream",
     "text": [
      "\n",
      "\n",
      "\n",
      "\n",
      "72it [04:53,  4.06s/it]\u001b[A\u001b[A\u001b[A\u001b[A"
     ]
    },
    {
     "name": "stdout",
     "output_type": "stream",
     "text": [
      "iteration : 72\n",
      "Epoch 1/1\n",
      " 8/16 [==============>...............] - ETA: 0s - loss: 7.9983 - acc: 0.0000e+00"
     ]
    },
    {
     "name": "stderr",
     "output_type": "stream",
     "text": [
      "/opt/conda/lib/python3.6/site-packages/keras/engine/training.py:490: UserWarning: Discrepancy between trainable weights and collected trainable weights, did you set `model.trainable` without calling `model.compile` after ?\n",
      "  'Discrepancy between trainable weights and collected trainable'\n"
     ]
    },
    {
     "name": "stdout",
     "output_type": "stream",
     "text": [
      "16/16 [==============================] - 0s 24ms/step - loss: 6.1731 - acc: 0.0625\n",
      "Epoch 1/1\n",
      "8/8 [==============================] - 1s 98ms/step - loss: 19.1831 - model_1_loss: 0.0043 - conv2d_20_loss: 0.1353\n",
      "\n",
      "Epoch 00001: loss did not improve from 16.82198\n"
     ]
    },
    {
     "name": "stderr",
     "output_type": "stream",
     "text": [
      "\n",
      "\n",
      "\n",
      "\n",
      "73it [04:58,  4.08s/it]\u001b[A\u001b[A\u001b[A\u001b[A"
     ]
    },
    {
     "name": "stdout",
     "output_type": "stream",
     "text": [
      "iteration : 73\n",
      "Epoch 1/1\n",
      " 8/16 [==============>...............] - ETA: 0s - loss: 6.7649 - acc: 0.2500"
     ]
    },
    {
     "name": "stderr",
     "output_type": "stream",
     "text": [
      "/opt/conda/lib/python3.6/site-packages/keras/engine/training.py:490: UserWarning: Discrepancy between trainable weights and collected trainable weights, did you set `model.trainable` without calling `model.compile` after ?\n",
      "  'Discrepancy between trainable weights and collected trainable'\n"
     ]
    },
    {
     "name": "stdout",
     "output_type": "stream",
     "text": [
      "16/16 [==============================] - 0s 23ms/step - loss: 5.9394 - acc: 0.2500\n",
      "Epoch 1/1\n",
      "8/8 [==============================] - 1s 97ms/step - loss: 19.8819 - model_1_loss: 7.2196e-04 - conv2d_20_loss: 0.1425\n",
      "\n",
      "Epoch 00001: loss did not improve from 16.82198\n"
     ]
    },
    {
     "name": "stderr",
     "output_type": "stream",
     "text": [
      "\n",
      "\n",
      "\n",
      "\n",
      "74it [05:02,  4.07s/it]\u001b[A\u001b[A\u001b[A\u001b[A"
     ]
    },
    {
     "name": "stdout",
     "output_type": "stream",
     "text": [
      "iteration : 74\n",
      "Epoch 1/1\n",
      " 8/16 [==============>...............] - ETA: 0s - loss: 9.1160 - acc: 0.0000e+00"
     ]
    },
    {
     "name": "stderr",
     "output_type": "stream",
     "text": [
      "/opt/conda/lib/python3.6/site-packages/keras/engine/training.py:490: UserWarning: Discrepancy between trainable weights and collected trainable weights, did you set `model.trainable` without calling `model.compile` after ?\n",
      "  'Discrepancy between trainable weights and collected trainable'\n"
     ]
    },
    {
     "name": "stdout",
     "output_type": "stream",
     "text": [
      "16/16 [==============================] - 0s 24ms/step - loss: 7.0074 - acc: 0.1250\n",
      "Epoch 1/1\n",
      "8/8 [==============================] - 1s 98ms/step - loss: 18.4906 - model_1_loss: 0.0073 - conv2d_20_loss: 0.1283\n",
      "\n",
      "Epoch 00001: loss did not improve from 16.82198\n"
     ]
    },
    {
     "name": "stderr",
     "output_type": "stream",
     "text": [
      "\n",
      "\n",
      "\n",
      "\n",
      "75it [05:06,  4.08s/it]\u001b[A\u001b[A\u001b[A\u001b[A"
     ]
    },
    {
     "name": "stdout",
     "output_type": "stream",
     "text": [
      "iteration : 75\n",
      "Epoch 1/1\n",
      " 8/16 [==============>...............] - ETA: 0s - loss: 4.0482 - acc: 0.2500"
     ]
    },
    {
     "name": "stderr",
     "output_type": "stream",
     "text": [
      "/opt/conda/lib/python3.6/site-packages/keras/engine/training.py:490: UserWarning: Discrepancy between trainable weights and collected trainable weights, did you set `model.trainable` without calling `model.compile` after ?\n",
      "  'Discrepancy between trainable weights and collected trainable'\n"
     ]
    },
    {
     "name": "stdout",
     "output_type": "stream",
     "text": [
      "16/16 [==============================] - 0s 23ms/step - loss: 4.3111 - acc: 0.1875\n",
      "Epoch 1/1\n",
      "8/8 [==============================] - 1s 97ms/step - loss: 24.3832 - model_1_loss: 0.1129 - conv2d_20_loss: 0.1819\n",
      "\n",
      "Epoch 00001: loss did not improve from 16.82198\n"
     ]
    },
    {
     "name": "stderr",
     "output_type": "stream",
     "text": [
      "\n",
      "\n",
      "\n",
      "\n",
      "76it [05:10,  4.07s/it]\u001b[A\u001b[A\u001b[A\u001b[A"
     ]
    },
    {
     "name": "stdout",
     "output_type": "stream",
     "text": [
      "iteration : 76\n",
      "Epoch 1/1\n",
      " 8/16 [==============>...............] - ETA: 0s - loss: 5.7420 - acc: 0.5000"
     ]
    },
    {
     "name": "stderr",
     "output_type": "stream",
     "text": [
      "/opt/conda/lib/python3.6/site-packages/keras/engine/training.py:490: UserWarning: Discrepancy between trainable weights and collected trainable weights, did you set `model.trainable` without calling `model.compile` after ?\n",
      "  'Discrepancy between trainable weights and collected trainable'\n"
     ]
    },
    {
     "name": "stdout",
     "output_type": "stream",
     "text": [
      "16/16 [==============================] - 0s 24ms/step - loss: 5.7128 - acc: 0.4375\n",
      "Epoch 1/1\n",
      "8/8 [==============================] - 1s 98ms/step - loss: 19.8067 - model_1_loss: 0.0141 - conv2d_20_loss: 0.1411\n",
      "\n",
      "Epoch 00001: loss did not improve from 16.82198\n"
     ]
    },
    {
     "name": "stderr",
     "output_type": "stream",
     "text": [
      "\n",
      "\n",
      "\n",
      "\n",
      "77it [05:14,  4.08s/it]\u001b[A\u001b[A\u001b[A\u001b[A"
     ]
    },
    {
     "name": "stdout",
     "output_type": "stream",
     "text": [
      "iteration : 77\n",
      "Epoch 1/1\n",
      " 8/16 [==============>...............] - ETA: 0s - loss: 5.1953 - acc: 0.2500"
     ]
    },
    {
     "name": "stderr",
     "output_type": "stream",
     "text": [
      "/opt/conda/lib/python3.6/site-packages/keras/engine/training.py:490: UserWarning: Discrepancy between trainable weights and collected trainable weights, did you set `model.trainable` without calling `model.compile` after ?\n",
      "  'Discrepancy between trainable weights and collected trainable'\n"
     ]
    },
    {
     "name": "stdout",
     "output_type": "stream",
     "text": [
      "16/16 [==============================] - 0s 23ms/step - loss: 5.9155 - acc: 0.1875\n",
      "Epoch 1/1\n",
      "8/8 [==============================] - 1s 97ms/step - loss: 18.0665 - model_1_loss: 0.0015 - conv2d_20_loss: 0.1243\n",
      "\n",
      "Epoch 00001: loss did not improve from 16.82198\n"
     ]
    },
    {
     "name": "stderr",
     "output_type": "stream",
     "text": [
      "\n",
      "\n",
      "\n",
      "\n",
      "78it [05:18,  4.08s/it]\u001b[A\u001b[A\u001b[A\u001b[A"
     ]
    },
    {
     "name": "stdout",
     "output_type": "stream",
     "text": [
      "iteration : 78\n",
      "Epoch 1/1\n",
      " 8/16 [==============>...............] - ETA: 0s - loss: 7.5645 - acc: 0.0000e+00"
     ]
    },
    {
     "name": "stderr",
     "output_type": "stream",
     "text": [
      "/opt/conda/lib/python3.6/site-packages/keras/engine/training.py:490: UserWarning: Discrepancy between trainable weights and collected trainable weights, did you set `model.trainable` without calling `model.compile` after ?\n",
      "  'Discrepancy between trainable weights and collected trainable'\n"
     ]
    },
    {
     "name": "stdout",
     "output_type": "stream",
     "text": [
      "16/16 [==============================] - 0s 24ms/step - loss: 6.9849 - acc: 0.0625\n",
      "Epoch 1/1\n",
      "8/8 [==============================] - 1s 98ms/step - loss: 21.2934 - model_1_loss: 4.8387e-05 - conv2d_20_loss: 0.1567\n",
      "\n",
      "Epoch 00001: loss did not improve from 16.82198\n"
     ]
    },
    {
     "name": "stderr",
     "output_type": "stream",
     "text": [
      "\n",
      "\n",
      "\n",
      "\n",
      "79it [05:22,  4.08s/it]\u001b[A\u001b[A\u001b[A\u001b[A"
     ]
    },
    {
     "name": "stdout",
     "output_type": "stream",
     "text": [
      "iteration : 79\n",
      "Epoch 1/1\n",
      " 8/16 [==============>...............] - ETA: 0s - loss: 7.5656 - acc: 0.1250"
     ]
    },
    {
     "name": "stderr",
     "output_type": "stream",
     "text": [
      "/opt/conda/lib/python3.6/site-packages/keras/engine/training.py:490: UserWarning: Discrepancy between trainable weights and collected trainable weights, did you set `model.trainable` without calling `model.compile` after ?\n",
      "  'Discrepancy between trainable weights and collected trainable'\n"
     ]
    },
    {
     "name": "stdout",
     "output_type": "stream",
     "text": [
      "16/16 [==============================] - 0s 23ms/step - loss: 6.2806 - acc: 0.1250\n",
      "Epoch 1/1\n",
      "8/8 [==============================] - 1s 97ms/step - loss: 18.1941 - model_1_loss: 0.1039 - conv2d_20_loss: 0.1205\n",
      "\n",
      "Epoch 00001: loss did not improve from 16.82198\n"
     ]
    },
    {
     "name": "stderr",
     "output_type": "stream",
     "text": [
      "\n",
      "\n",
      "\n",
      "\n",
      "80it [05:26,  4.08s/it]\u001b[A\u001b[A\u001b[A\u001b[A"
     ]
    },
    {
     "name": "stdout",
     "output_type": "stream",
     "text": [
      "iteration : 80\n",
      "Epoch 1/1\n",
      " 8/16 [==============>...............] - ETA: 0s - loss: 5.8019 - acc: 0.2500"
     ]
    },
    {
     "name": "stderr",
     "output_type": "stream",
     "text": [
      "/opt/conda/lib/python3.6/site-packages/keras/engine/training.py:490: UserWarning: Discrepancy between trainable weights and collected trainable weights, did you set `model.trainable` without calling `model.compile` after ?\n",
      "  'Discrepancy between trainable weights and collected trainable'\n"
     ]
    },
    {
     "name": "stdout",
     "output_type": "stream",
     "text": [
      "16/16 [==============================] - 0s 24ms/step - loss: 6.0337 - acc: 0.1250\n",
      "Epoch 1/1\n",
      "8/8 [==============================] - 1s 98ms/step - loss: 19.9006 - model_1_loss: 6.9805e-04 - conv2d_20_loss: 0.1427\n",
      "\n",
      "Epoch 00001: loss did not improve from 16.82198\n"
     ]
    },
    {
     "name": "stderr",
     "output_type": "stream",
     "text": [
      "\n",
      "\n",
      "\n",
      "\n",
      "81it [05:30,  4.09s/it]\u001b[A\u001b[A\u001b[A\u001b[A"
     ]
    },
    {
     "name": "stdout",
     "output_type": "stream",
     "text": [
      "iteration : 81\n",
      "Epoch 1/1\n",
      " 8/16 [==============>...............] - ETA: 0s - loss: 4.9076 - acc: 0.1250"
     ]
    },
    {
     "name": "stderr",
     "output_type": "stream",
     "text": [
      "/opt/conda/lib/python3.6/site-packages/keras/engine/training.py:490: UserWarning: Discrepancy between trainable weights and collected trainable weights, did you set `model.trainable` without calling `model.compile` after ?\n",
      "  'Discrepancy between trainable weights and collected trainable'\n"
     ]
    },
    {
     "name": "stdout",
     "output_type": "stream",
     "text": [
      "16/16 [==============================] - 0s 23ms/step - loss: 6.6137 - acc: 0.0625\n",
      "Epoch 1/1\n",
      "8/8 [==============================] - 1s 97ms/step - loss: 19.0723 - model_1_loss: 0.0019 - conv2d_20_loss: 0.1344\n",
      "\n",
      "Epoch 00001: loss did not improve from 16.82198\n"
     ]
    },
    {
     "name": "stderr",
     "output_type": "stream",
     "text": [
      "\n",
      "\n",
      "\n",
      "\n",
      "82it [05:34,  4.08s/it]\u001b[A\u001b[A\u001b[A\u001b[A"
     ]
    },
    {
     "name": "stdout",
     "output_type": "stream",
     "text": [
      "iteration : 82\n",
      "Epoch 1/1\n",
      " 8/16 [==============>...............] - ETA: 0s - loss: 5.5464 - acc: 0.1250"
     ]
    },
    {
     "name": "stderr",
     "output_type": "stream",
     "text": [
      "/opt/conda/lib/python3.6/site-packages/keras/engine/training.py:490: UserWarning: Discrepancy between trainable weights and collected trainable weights, did you set `model.trainable` without calling `model.compile` after ?\n",
      "  'Discrepancy between trainable weights and collected trainable'\n"
     ]
    },
    {
     "name": "stdout",
     "output_type": "stream",
     "text": [
      "16/16 [==============================] - 0s 24ms/step - loss: 7.4691 - acc: 0.0625\n",
      "Epoch 1/1\n",
      "8/8 [==============================] - 1s 98ms/step - loss: 17.4579 - model_1_loss: 1.3771e-04 - conv2d_20_loss: 0.1183\n",
      "\n",
      "Epoch 00001: loss did not improve from 16.82198\n"
     ]
    },
    {
     "name": "stderr",
     "output_type": "stream",
     "text": [
      "\n",
      "\n",
      "\n",
      "\n",
      "83it [05:38,  4.08s/it]\u001b[A\u001b[A\u001b[A\u001b[A"
     ]
    },
    {
     "name": "stdout",
     "output_type": "stream",
     "text": [
      "iteration : 83\n",
      "Epoch 1/1\n",
      " 8/16 [==============>...............] - ETA: 0s - loss: 4.2797 - acc: 0.2500"
     ]
    },
    {
     "name": "stderr",
     "output_type": "stream",
     "text": [
      "/opt/conda/lib/python3.6/site-packages/keras/engine/training.py:490: UserWarning: Discrepancy between trainable weights and collected trainable weights, did you set `model.trainable` without calling `model.compile` after ?\n",
      "  'Discrepancy between trainable weights and collected trainable'\n"
     ]
    },
    {
     "name": "stdout",
     "output_type": "stream",
     "text": [
      "16/16 [==============================] - 0s 23ms/step - loss: 7.9109 - acc: 0.1250\n",
      "Epoch 1/1\n",
      "8/8 [==============================] - 1s 97ms/step - loss: 19.7547 - model_1_loss: 2.4359e-04 - conv2d_20_loss: 0.1413\n",
      "\n",
      "Epoch 00001: loss did not improve from 16.82198\n"
     ]
    },
    {
     "name": "stderr",
     "output_type": "stream",
     "text": [
      "\n",
      "\n",
      "\n",
      "\n",
      "84it [05:42,  4.08s/it]\u001b[A\u001b[A\u001b[A\u001b[A"
     ]
    },
    {
     "name": "stdout",
     "output_type": "stream",
     "text": [
      "iteration : 84\n",
      "Epoch 1/1\n",
      " 8/16 [==============>...............] - ETA: 0s - loss: 7.0872 - acc: 0.2500"
     ]
    },
    {
     "name": "stderr",
     "output_type": "stream",
     "text": [
      "/opt/conda/lib/python3.6/site-packages/keras/engine/training.py:490: UserWarning: Discrepancy between trainable weights and collected trainable weights, did you set `model.trainable` without calling `model.compile` after ?\n",
      "  'Discrepancy between trainable weights and collected trainable'\n"
     ]
    },
    {
     "name": "stdout",
     "output_type": "stream",
     "text": [
      "16/16 [==============================] - 0s 24ms/step - loss: 6.4203 - acc: 0.1875\n",
      "Epoch 1/1\n",
      "8/8 [==============================] - 1s 98ms/step - loss: 18.4436 - model_1_loss: 0.0697 - conv2d_20_loss: 0.1247\n",
      "\n",
      "Epoch 00001: loss did not improve from 16.82198\n"
     ]
    },
    {
     "name": "stderr",
     "output_type": "stream",
     "text": [
      "\n",
      "\n",
      "\n",
      "\n",
      "85it [05:47,  4.09s/it]\u001b[A\u001b[A\u001b[A\u001b[A"
     ]
    },
    {
     "name": "stdout",
     "output_type": "stream",
     "text": [
      "iteration : 85\n",
      "Epoch 1/1\n",
      " 8/16 [==============>...............] - ETA: 0s - loss: 5.2260 - acc: 0.1250"
     ]
    },
    {
     "name": "stderr",
     "output_type": "stream",
     "text": [
      "/opt/conda/lib/python3.6/site-packages/keras/engine/training.py:490: UserWarning: Discrepancy between trainable weights and collected trainable weights, did you set `model.trainable` without calling `model.compile` after ?\n",
      "  'Discrepancy between trainable weights and collected trainable'\n"
     ]
    },
    {
     "name": "stdout",
     "output_type": "stream",
     "text": [
      "16/16 [==============================] - 0s 23ms/step - loss: 5.5135 - acc: 0.1875\n",
      "Epoch 1/1\n",
      "8/8 [==============================] - 1s 97ms/step - loss: 18.1021 - model_1_loss: 0.0011 - conv2d_20_loss: 0.1247\n",
      "\n",
      "Epoch 00001: loss did not improve from 16.82198\n"
     ]
    },
    {
     "name": "stderr",
     "output_type": "stream",
     "text": [
      "\n",
      "\n",
      "\n",
      "\n",
      "86it [05:51,  4.08s/it]\u001b[A\u001b[A\u001b[A\u001b[A"
     ]
    },
    {
     "name": "stdout",
     "output_type": "stream",
     "text": [
      "iteration : 86\n",
      "Epoch 1/1\n",
      " 8/16 [==============>...............] - ETA: 0s - loss: 5.2431 - acc: 0.0000e+00"
     ]
    },
    {
     "name": "stderr",
     "output_type": "stream",
     "text": [
      "/opt/conda/lib/python3.6/site-packages/keras/engine/training.py:490: UserWarning: Discrepancy between trainable weights and collected trainable weights, did you set `model.trainable` without calling `model.compile` after ?\n",
      "  'Discrepancy between trainable weights and collected trainable'\n"
     ]
    },
    {
     "name": "stdout",
     "output_type": "stream",
     "text": [
      "16/16 [==============================] - 0s 24ms/step - loss: 6.7100 - acc: 0.0625\n",
      "Epoch 1/1\n",
      "8/8 [==============================] - 1s 98ms/step - loss: 17.9921 - model_1_loss: 0.0014 - conv2d_20_loss: 0.1236\n",
      "\n",
      "Epoch 00001: loss did not improve from 16.82198\n"
     ]
    },
    {
     "name": "stderr",
     "output_type": "stream",
     "text": [
      "\n",
      "\n",
      "\n",
      "\n",
      "87it [05:55,  4.09s/it]\u001b[A\u001b[A\u001b[A\u001b[A"
     ]
    },
    {
     "name": "stdout",
     "output_type": "stream",
     "text": [
      "iteration : 87\n",
      "Epoch 1/1\n",
      " 8/16 [==============>...............] - ETA: 0s - loss: 5.0231 - acc: 0.2500"
     ]
    },
    {
     "name": "stderr",
     "output_type": "stream",
     "text": [
      "/opt/conda/lib/python3.6/site-packages/keras/engine/training.py:490: UserWarning: Discrepancy between trainable weights and collected trainable weights, did you set `model.trainable` without calling `model.compile` after ?\n",
      "  'Discrepancy between trainable weights and collected trainable'\n"
     ]
    },
    {
     "name": "stdout",
     "output_type": "stream",
     "text": [
      "16/16 [==============================] - 0s 23ms/step - loss: 5.4799 - acc: 0.1875\n",
      "Epoch 1/1\n",
      "8/8 [==============================] - 1s 97ms/step - loss: 18.6604 - model_1_loss: 2.3086e-04 - conv2d_20_loss: 0.1303\n",
      "\n",
      "Epoch 00001: loss did not improve from 16.82198\n"
     ]
    },
    {
     "name": "stderr",
     "output_type": "stream",
     "text": [
      "\n",
      "\n",
      "\n",
      "\n",
      "88it [05:59,  4.09s/it]\u001b[A\u001b[A\u001b[A\u001b[A"
     ]
    },
    {
     "name": "stdout",
     "output_type": "stream",
     "text": [
      "iteration : 88\n",
      "Epoch 1/1\n",
      " 8/16 [==============>...............] - ETA: 0s - loss: 5.5071 - acc: 0.1250"
     ]
    },
    {
     "name": "stderr",
     "output_type": "stream",
     "text": [
      "/opt/conda/lib/python3.6/site-packages/keras/engine/training.py:490: UserWarning: Discrepancy between trainable weights and collected trainable weights, did you set `model.trainable` without calling `model.compile` after ?\n",
      "  'Discrepancy between trainable weights and collected trainable'\n"
     ]
    },
    {
     "name": "stdout",
     "output_type": "stream",
     "text": [
      "16/16 [==============================] - 0s 24ms/step - loss: 6.4780 - acc: 0.1250\n",
      "Epoch 1/1\n",
      "8/8 [==============================] - 1s 98ms/step - loss: 17.3653 - model_1_loss: 0.0097 - conv2d_20_loss: 0.1169\n",
      "\n",
      "Epoch 00001: loss did not improve from 16.82198\n"
     ]
    },
    {
     "name": "stderr",
     "output_type": "stream",
     "text": [
      "\n",
      "\n",
      "\n",
      "\n",
      "89it [06:03,  4.09s/it]\u001b[A\u001b[A\u001b[A\u001b[A"
     ]
    },
    {
     "name": "stdout",
     "output_type": "stream",
     "text": [
      "iteration : 89\n",
      "Epoch 1/1\n",
      " 8/16 [==============>...............] - ETA: 0s - loss: 5.5443 - acc: 0.3750"
     ]
    },
    {
     "name": "stderr",
     "output_type": "stream",
     "text": [
      "/opt/conda/lib/python3.6/site-packages/keras/engine/training.py:490: UserWarning: Discrepancy between trainable weights and collected trainable weights, did you set `model.trainable` without calling `model.compile` after ?\n",
      "  'Discrepancy between trainable weights and collected trainable'\n"
     ]
    },
    {
     "name": "stdout",
     "output_type": "stream",
     "text": [
      "16/16 [==============================] - 0s 23ms/step - loss: 5.9535 - acc: 0.2500\n",
      "Epoch 1/1\n",
      "8/8 [==============================] - 1s 97ms/step - loss: 19.0676 - model_1_loss: 0.0018 - conv2d_20_loss: 0.1343\n",
      "\n",
      "Epoch 00001: loss did not improve from 16.82198\n"
     ]
    },
    {
     "name": "stderr",
     "output_type": "stream",
     "text": [
      "\n",
      "\n",
      "\n",
      "\n",
      "90it [06:07,  4.10s/it]\u001b[A\u001b[A\u001b[A\u001b[A"
     ]
    },
    {
     "name": "stdout",
     "output_type": "stream",
     "text": [
      "iteration : 90\n",
      "Epoch 1/1\n",
      " 8/16 [==============>...............] - ETA: 0s - loss: 5.1061 - acc: 0.1250"
     ]
    },
    {
     "name": "stderr",
     "output_type": "stream",
     "text": [
      "/opt/conda/lib/python3.6/site-packages/keras/engine/training.py:490: UserWarning: Discrepancy between trainable weights and collected trainable weights, did you set `model.trainable` without calling `model.compile` after ?\n",
      "  'Discrepancy between trainable weights and collected trainable'\n"
     ]
    },
    {
     "name": "stdout",
     "output_type": "stream",
     "text": [
      "16/16 [==============================] - 0s 24ms/step - loss: 6.5220 - acc: 0.2500\n",
      "Epoch 1/1\n",
      "8/8 [==============================] - 1s 98ms/step - loss: 18.9869 - model_1_loss: 2.4520e-05 - conv2d_20_loss: 0.1336\n",
      "\n",
      "Epoch 00001: loss did not improve from 16.82198\n"
     ]
    },
    {
     "name": "stderr",
     "output_type": "stream",
     "text": [
      "\n",
      "\n",
      "\n",
      "\n",
      "91it [06:11,  4.09s/it]\u001b[A\u001b[A\u001b[A\u001b[A"
     ]
    },
    {
     "name": "stdout",
     "output_type": "stream",
     "text": [
      "iteration : 91\n",
      "Epoch 1/1\n",
      " 8/16 [==============>...............] - ETA: 0s - loss: 6.1813 - acc: 0.3750"
     ]
    },
    {
     "name": "stderr",
     "output_type": "stream",
     "text": [
      "/opt/conda/lib/python3.6/site-packages/keras/engine/training.py:490: UserWarning: Discrepancy between trainable weights and collected trainable weights, did you set `model.trainable` without calling `model.compile` after ?\n",
      "  'Discrepancy between trainable weights and collected trainable'\n"
     ]
    },
    {
     "name": "stdout",
     "output_type": "stream",
     "text": [
      "16/16 [==============================] - 0s 23ms/step - loss: 5.6583 - acc: 0.2500\n",
      "Epoch 1/1\n",
      "8/8 [==============================] - 1s 97ms/step - loss: 19.5116 - model_1_loss: 0.0015 - conv2d_20_loss: 0.1388\n",
      "\n",
      "Epoch 00001: loss did not improve from 16.82198\n"
     ]
    },
    {
     "name": "stderr",
     "output_type": "stream",
     "text": [
      "\n",
      "\n",
      "\n",
      "\n",
      "92it [06:15,  4.09s/it]\u001b[A\u001b[A\u001b[A\u001b[A"
     ]
    },
    {
     "name": "stdout",
     "output_type": "stream",
     "text": [
      "iteration : 92\n",
      "Epoch 1/1\n",
      " 8/16 [==============>...............] - ETA: 0s - loss: 5.3368 - acc: 0.1250"
     ]
    },
    {
     "name": "stderr",
     "output_type": "stream",
     "text": [
      "/opt/conda/lib/python3.6/site-packages/keras/engine/training.py:490: UserWarning: Discrepancy between trainable weights and collected trainable weights, did you set `model.trainable` without calling `model.compile` after ?\n",
      "  'Discrepancy between trainable weights and collected trainable'\n"
     ]
    },
    {
     "name": "stdout",
     "output_type": "stream",
     "text": [
      "16/16 [==============================] - 0s 24ms/step - loss: 6.2100 - acc: 0.1875\n",
      "Epoch 1/1\n",
      "8/8 [==============================] - 1s 98ms/step - loss: 19.0423 - model_1_loss: 0.0028 - conv2d_20_loss: 0.1340\n",
      "\n",
      "Epoch 00001: loss did not improve from 16.82198\n"
     ]
    },
    {
     "name": "stderr",
     "output_type": "stream",
     "text": [
      "\n",
      "\n",
      "\n",
      "\n",
      "93it [06:19,  4.09s/it]\u001b[A\u001b[A\u001b[A\u001b[A"
     ]
    },
    {
     "name": "stdout",
     "output_type": "stream",
     "text": [
      "iteration : 93\n",
      "Epoch 1/1\n",
      " 8/16 [==============>...............] - ETA: 0s - loss: 7.8263 - acc: 0.1250"
     ]
    },
    {
     "name": "stderr",
     "output_type": "stream",
     "text": [
      "/opt/conda/lib/python3.6/site-packages/keras/engine/training.py:490: UserWarning: Discrepancy between trainable weights and collected trainable weights, did you set `model.trainable` without calling `model.compile` after ?\n",
      "  'Discrepancy between trainable weights and collected trainable'\n"
     ]
    },
    {
     "name": "stdout",
     "output_type": "stream",
     "text": [
      "16/16 [==============================] - 0s 23ms/step - loss: 6.7306 - acc: 0.1250\n",
      "Epoch 1/1\n",
      "8/8 [==============================] - 1s 97ms/step - loss: 19.1996 - model_1_loss: 1.0714e-05 - conv2d_20_loss: 0.1357\n",
      "\n",
      "Epoch 00001: loss did not improve from 16.82198\n"
     ]
    },
    {
     "name": "stderr",
     "output_type": "stream",
     "text": [
      "\n",
      "\n",
      "\n",
      "\n",
      "94it [06:23,  4.09s/it]\u001b[A\u001b[A\u001b[A\u001b[A"
     ]
    },
    {
     "name": "stdout",
     "output_type": "stream",
     "text": [
      "iteration : 94\n",
      "Epoch 1/1\n",
      " 8/16 [==============>...............] - ETA: 0s - loss: 9.1887 - acc: 0.1250"
     ]
    },
    {
     "name": "stderr",
     "output_type": "stream",
     "text": [
      "/opt/conda/lib/python3.6/site-packages/keras/engine/training.py:490: UserWarning: Discrepancy between trainable weights and collected trainable weights, did you set `model.trainable` without calling `model.compile` after ?\n",
      "  'Discrepancy between trainable weights and collected trainable'\n"
     ]
    },
    {
     "name": "stdout",
     "output_type": "stream",
     "text": [
      "16/16 [==============================] - 0s 24ms/step - loss: 7.7003 - acc: 0.1875\n",
      "Epoch 1/1\n",
      "8/8 [==============================] - 1s 98ms/step - loss: 18.1579 - model_1_loss: 0.0033 - conv2d_20_loss: 0.1251\n",
      "\n",
      "Epoch 00001: loss did not improve from 16.82198\n"
     ]
    },
    {
     "name": "stderr",
     "output_type": "stream",
     "text": [
      "\n",
      "\n",
      "\n",
      "\n",
      "95it [06:28,  4.12s/it]\u001b[A\u001b[A\u001b[A\u001b[A"
     ]
    },
    {
     "name": "stdout",
     "output_type": "stream",
     "text": [
      "iteration : 95\n",
      "Epoch 1/1\n",
      " 8/16 [==============>...............] - ETA: 0s - loss: 4.5313 - acc: 0.2500"
     ]
    },
    {
     "name": "stderr",
     "output_type": "stream",
     "text": [
      "/opt/conda/lib/python3.6/site-packages/keras/engine/training.py:490: UserWarning: Discrepancy between trainable weights and collected trainable weights, did you set `model.trainable` without calling `model.compile` after ?\n",
      "  'Discrepancy between trainable weights and collected trainable'\n"
     ]
    },
    {
     "name": "stdout",
     "output_type": "stream",
     "text": [
      "16/16 [==============================] - 0s 23ms/step - loss: 5.9046 - acc: 0.1875\n",
      "Epoch 1/1\n",
      "8/8 [==============================] - 1s 97ms/step - loss: 17.9223 - model_1_loss: 2.6388e-04 - conv2d_20_loss: 0.1229\n",
      "\n",
      "Epoch 00001: loss did not improve from 16.82198\n"
     ]
    },
    {
     "name": "stderr",
     "output_type": "stream",
     "text": [
      "\n",
      "\n",
      "\n",
      "\n",
      "96it [06:32,  4.11s/it]\u001b[A\u001b[A\u001b[A\u001b[A"
     ]
    },
    {
     "name": "stdout",
     "output_type": "stream",
     "text": [
      "iteration : 96\n",
      "Epoch 1/1\n",
      " 8/16 [==============>...............] - ETA: 0s - loss: 6.7634 - acc: 0.0000e+00"
     ]
    },
    {
     "name": "stderr",
     "output_type": "stream",
     "text": [
      "/opt/conda/lib/python3.6/site-packages/keras/engine/training.py:490: UserWarning: Discrepancy between trainable weights and collected trainable weights, did you set `model.trainable` without calling `model.compile` after ?\n",
      "  'Discrepancy between trainable weights and collected trainable'\n"
     ]
    },
    {
     "name": "stdout",
     "output_type": "stream",
     "text": [
      "16/16 [==============================] - 0s 24ms/step - loss: 6.3871 - acc: 0.0625\n",
      "Epoch 1/1\n",
      "8/8 [==============================] - 1s 99ms/step - loss: 18.1650 - model_1_loss: 0.0014 - conv2d_20_loss: 0.1253\n",
      "\n",
      "Epoch 00001: loss did not improve from 16.82198\n"
     ]
    },
    {
     "name": "stderr",
     "output_type": "stream",
     "text": [
      "\n",
      "\n",
      "\n",
      "\n",
      "97it [06:36,  4.10s/it]\u001b[A\u001b[A\u001b[A\u001b[A"
     ]
    },
    {
     "name": "stdout",
     "output_type": "stream",
     "text": [
      "iteration : 97\n",
      "Epoch 1/1\n",
      " 8/16 [==============>...............] - ETA: 0s - loss: 6.7512 - acc: 0.1250"
     ]
    },
    {
     "name": "stderr",
     "output_type": "stream",
     "text": [
      "/opt/conda/lib/python3.6/site-packages/keras/engine/training.py:490: UserWarning: Discrepancy between trainable weights and collected trainable weights, did you set `model.trainable` without calling `model.compile` after ?\n",
      "  'Discrepancy between trainable weights and collected trainable'\n"
     ]
    },
    {
     "name": "stdout",
     "output_type": "stream",
     "text": [
      "16/16 [==============================] - 0s 23ms/step - loss: 6.5479 - acc: 0.1250\n",
      "Epoch 1/1\n",
      "8/8 [==============================] - 1s 97ms/step - loss: 17.4003 - model_1_loss: 5.7528e-04 - conv2d_20_loss: 0.1177\n",
      "\n",
      "Epoch 00001: loss did not improve from 16.82198\n"
     ]
    },
    {
     "name": "stderr",
     "output_type": "stream",
     "text": [
      "\n",
      "\n",
      "\n",
      "\n",
      "98it [06:40,  4.07s/it]\u001b[A\u001b[A\u001b[A\u001b[A"
     ]
    },
    {
     "name": "stdout",
     "output_type": "stream",
     "text": [
      "iteration : 98\n",
      "Epoch 1/1\n",
      " 8/16 [==============>...............] - ETA: 0s - loss: 4.7304 - acc: 0.2500"
     ]
    },
    {
     "name": "stderr",
     "output_type": "stream",
     "text": [
      "/opt/conda/lib/python3.6/site-packages/keras/engine/training.py:490: UserWarning: Discrepancy between trainable weights and collected trainable weights, did you set `model.trainable` without calling `model.compile` after ?\n",
      "  'Discrepancy between trainable weights and collected trainable'\n"
     ]
    },
    {
     "name": "stdout",
     "output_type": "stream",
     "text": [
      "16/16 [==============================] - 0s 23ms/step - loss: 6.5597 - acc: 0.1250\n",
      "Epoch 1/1\n",
      "8/8 [==============================] - 1s 98ms/step - loss: 18.4476 - model_1_loss: 0.0011 - conv2d_20_loss: 0.1282\n",
      "\n",
      "Epoch 00001: loss did not improve from 16.82198\n"
     ]
    },
    {
     "name": "stderr",
     "output_type": "stream",
     "text": [
      "\n",
      "\n",
      "\n",
      "\n",
      "99it [06:44,  4.05s/it]\u001b[A\u001b[A\u001b[A\u001b[A"
     ]
    },
    {
     "name": "stdout",
     "output_type": "stream",
     "text": [
      "iteration : 99\n",
      "Epoch 1/1\n",
      " 8/16 [==============>...............] - ETA: 0s - loss: 3.9396 - acc: 0.3750"
     ]
    },
    {
     "name": "stderr",
     "output_type": "stream",
     "text": [
      "/opt/conda/lib/python3.6/site-packages/keras/engine/training.py:490: UserWarning: Discrepancy between trainable weights and collected trainable weights, did you set `model.trainable` without calling `model.compile` after ?\n",
      "  'Discrepancy between trainable weights and collected trainable'\n"
     ]
    },
    {
     "name": "stdout",
     "output_type": "stream",
     "text": [
      "16/16 [==============================] - 0s 23ms/step - loss: 5.8142 - acc: 0.3125\n",
      "Epoch 1/1\n",
      "8/8 [==============================] - 1s 97ms/step - loss: 18.3469 - model_1_loss: 1.9182e-04 - conv2d_20_loss: 0.1272\n",
      "\n",
      "Epoch 00001: loss did not improve from 16.82198\n"
     ]
    },
    {
     "name": "stderr",
     "output_type": "stream",
     "text": [
      "\n",
      "\n",
      "\n",
      "\n",
      "100it [06:48,  4.06s/it]\u001b[A\u001b[A\u001b[A\u001b[A"
     ]
    },
    {
     "name": "stdout",
     "output_type": "stream",
     "text": [
      "iteration : 100\n",
      "Epoch 1/1\n",
      " 8/16 [==============>...............] - ETA: 0s - loss: 6.0225 - acc: 0.1250"
     ]
    },
    {
     "name": "stderr",
     "output_type": "stream",
     "text": [
      "/opt/conda/lib/python3.6/site-packages/keras/engine/training.py:490: UserWarning: Discrepancy between trainable weights and collected trainable weights, did you set `model.trainable` without calling `model.compile` after ?\n",
      "  'Discrepancy between trainable weights and collected trainable'\n"
     ]
    },
    {
     "name": "stdout",
     "output_type": "stream",
     "text": [
      "16/16 [==============================] - 0s 24ms/step - loss: 6.7156 - acc: 0.1875\n",
      "Epoch 1/1\n",
      "8/8 [==============================] - 1s 99ms/step - loss: 17.1849 - model_1_loss: 8.6055e-06 - conv2d_20_loss: 0.1156\n",
      "\n",
      "Epoch 00001: loss did not improve from 16.82198\n"
     ]
    },
    {
     "name": "stderr",
     "output_type": "stream",
     "text": [
      "\n",
      "\n",
      "\n",
      "\n",
      "101it [06:52,  4.07s/it]\u001b[A\u001b[A\u001b[A\u001b[A"
     ]
    },
    {
     "name": "stdout",
     "output_type": "stream",
     "text": [
      "iteration : 101\n",
      "Epoch 1/1\n",
      " 8/16 [==============>...............] - ETA: 0s - loss: 7.1116 - acc: 0.1250"
     ]
    },
    {
     "name": "stderr",
     "output_type": "stream",
     "text": [
      "/opt/conda/lib/python3.6/site-packages/keras/engine/training.py:490: UserWarning: Discrepancy between trainable weights and collected trainable weights, did you set `model.trainable` without calling `model.compile` after ?\n",
      "  'Discrepancy between trainable weights and collected trainable'\n"
     ]
    },
    {
     "name": "stdout",
     "output_type": "stream",
     "text": [
      "16/16 [==============================] - 0s 23ms/step - loss: 5.7933 - acc: 0.2500\n",
      "Epoch 1/1\n",
      "8/8 [==============================] - 1s 97ms/step - loss: 16.8443 - model_1_loss: 6.6066e-04 - conv2d_20_loss: 0.1121\n",
      "\n",
      "Epoch 00001: loss did not improve from 16.82198\n"
     ]
    },
    {
     "name": "stderr",
     "output_type": "stream",
     "text": [
      "\n",
      "\n",
      "\n",
      "\n",
      "102it [06:56,  4.07s/it]\u001b[A\u001b[A\u001b[A\u001b[A"
     ]
    },
    {
     "name": "stdout",
     "output_type": "stream",
     "text": [
      "iteration : 102\n",
      "Epoch 1/1\n",
      " 8/16 [==============>...............] - ETA: 0s - loss: 5.9599 - acc: 0.2500"
     ]
    },
    {
     "name": "stderr",
     "output_type": "stream",
     "text": [
      "/opt/conda/lib/python3.6/site-packages/keras/engine/training.py:490: UserWarning: Discrepancy between trainable weights and collected trainable weights, did you set `model.trainable` without calling `model.compile` after ?\n",
      "  'Discrepancy between trainable weights and collected trainable'\n"
     ]
    },
    {
     "name": "stdout",
     "output_type": "stream",
     "text": [
      "16/16 [==============================] - 0s 24ms/step - loss: 7.6975 - acc: 0.1250\n",
      "Epoch 1/1\n",
      "8/8 [==============================] - 1s 98ms/step - loss: 18.2713 - model_1_loss: 0.0018 - conv2d_20_loss: 0.1264\n",
      "\n",
      "Epoch 00001: loss did not improve from 16.82198\n"
     ]
    },
    {
     "name": "stderr",
     "output_type": "stream",
     "text": [
      "\n",
      "\n",
      "\n",
      "\n",
      "103it [07:00,  4.08s/it]\u001b[A\u001b[A\u001b[A\u001b[A"
     ]
    },
    {
     "name": "stdout",
     "output_type": "stream",
     "text": [
      "iteration : 103\n",
      "Epoch 1/1\n",
      " 8/16 [==============>...............] - ETA: 0s - loss: 6.6849 - acc: 0.1250"
     ]
    },
    {
     "name": "stderr",
     "output_type": "stream",
     "text": [
      "/opt/conda/lib/python3.6/site-packages/keras/engine/training.py:490: UserWarning: Discrepancy between trainable weights and collected trainable weights, did you set `model.trainable` without calling `model.compile` after ?\n",
      "  'Discrepancy between trainable weights and collected trainable'\n"
     ]
    },
    {
     "name": "stdout",
     "output_type": "stream",
     "text": [
      "16/16 [==============================] - 0s 23ms/step - loss: 6.6591 - acc: 0.1250\n",
      "Epoch 1/1\n",
      "8/8 [==============================] - 1s 97ms/step - loss: 17.5512 - model_1_loss: 9.5308e-04 - conv2d_20_loss: 0.1192\n",
      "\n",
      "Epoch 00001: loss did not improve from 16.82198\n"
     ]
    },
    {
     "name": "stderr",
     "output_type": "stream",
     "text": [
      "\n",
      "\n",
      "\n",
      "\n",
      "104it [07:04,  4.08s/it]\u001b[A\u001b[A\u001b[A\u001b[A"
     ]
    },
    {
     "name": "stdout",
     "output_type": "stream",
     "text": [
      "iteration : 104\n",
      "Epoch 1/1\n",
      " 8/16 [==============>...............] - ETA: 0s - loss: 5.9317 - acc: 0.1250"
     ]
    },
    {
     "name": "stderr",
     "output_type": "stream",
     "text": [
      "/opt/conda/lib/python3.6/site-packages/keras/engine/training.py:490: UserWarning: Discrepancy between trainable weights and collected trainable weights, did you set `model.trainable` without calling `model.compile` after ?\n",
      "  'Discrepancy between trainable weights and collected trainable'\n"
     ]
    },
    {
     "name": "stdout",
     "output_type": "stream",
     "text": [
      "16/16 [==============================] - 0s 24ms/step - loss: 5.9884 - acc: 0.1250\n",
      "Epoch 1/1\n",
      "8/8 [==============================] - 1s 98ms/step - loss: 17.7812 - model_1_loss: 3.4668e-04 - conv2d_20_loss: 0.1215\n",
      "\n",
      "Epoch 00001: loss did not improve from 16.82198\n"
     ]
    },
    {
     "name": "stderr",
     "output_type": "stream",
     "text": [
      "\n",
      "\n",
      "\n",
      "\n",
      "105it [07:08,  4.09s/it]\u001b[A\u001b[A\u001b[A\u001b[A"
     ]
    },
    {
     "name": "stdout",
     "output_type": "stream",
     "text": [
      "iteration : 105\n",
      "Epoch 1/1\n",
      " 8/16 [==============>...............] - ETA: 0s - loss: 7.5693 - acc: 0.0000e+00"
     ]
    },
    {
     "name": "stderr",
     "output_type": "stream",
     "text": [
      "/opt/conda/lib/python3.6/site-packages/keras/engine/training.py:490: UserWarning: Discrepancy between trainable weights and collected trainable weights, did you set `model.trainable` without calling `model.compile` after ?\n",
      "  'Discrepancy between trainable weights and collected trainable'\n"
     ]
    },
    {
     "name": "stdout",
     "output_type": "stream",
     "text": [
      "16/16 [==============================] - 0s 23ms/step - loss: 6.3701 - acc: 0.1250\n",
      "Epoch 1/1\n",
      "8/8 [==============================] - 1s 97ms/step - loss: 18.1868 - model_1_loss: 0.0015 - conv2d_20_loss: 0.1255\n",
      "\n",
      "Epoch 00001: loss did not improve from 16.82198\n"
     ]
    },
    {
     "name": "stderr",
     "output_type": "stream",
     "text": [
      "\n",
      "\n",
      "\n",
      "\n",
      "106it [07:12,  4.08s/it]\u001b[A\u001b[A\u001b[A\u001b[A"
     ]
    },
    {
     "name": "stdout",
     "output_type": "stream",
     "text": [
      "iteration : 106\n",
      "Epoch 1/1\n",
      " 8/16 [==============>...............] - ETA: 0s - loss: 5.4063 - acc: 0.2500"
     ]
    },
    {
     "name": "stderr",
     "output_type": "stream",
     "text": [
      "/opt/conda/lib/python3.6/site-packages/keras/engine/training.py:490: UserWarning: Discrepancy between trainable weights and collected trainable weights, did you set `model.trainable` without calling `model.compile` after ?\n",
      "  'Discrepancy between trainable weights and collected trainable'\n"
     ]
    },
    {
     "name": "stdout",
     "output_type": "stream",
     "text": [
      "16/16 [==============================] - 0s 24ms/step - loss: 6.1385 - acc: 0.2500\n",
      "Epoch 1/1\n",
      "8/8 [==============================] - 1s 99ms/step - loss: 17.9929 - model_1_loss: 0.0118 - conv2d_20_loss: 0.1231\n",
      "\n",
      "Epoch 00001: loss did not improve from 16.82198\n"
     ]
    },
    {
     "name": "stderr",
     "output_type": "stream",
     "text": [
      "\n",
      "\n",
      "\n",
      "\n",
      "107it [07:17,  4.10s/it]\u001b[A\u001b[A\u001b[A\u001b[A"
     ]
    },
    {
     "name": "stdout",
     "output_type": "stream",
     "text": [
      "iteration : 107\n",
      "Epoch 1/1\n",
      " 8/16 [==============>...............] - ETA: 0s - loss: 5.9898 - acc: 0.1250"
     ]
    },
    {
     "name": "stderr",
     "output_type": "stream",
     "text": [
      "/opt/conda/lib/python3.6/site-packages/keras/engine/training.py:490: UserWarning: Discrepancy between trainable weights and collected trainable weights, did you set `model.trainable` without calling `model.compile` after ?\n",
      "  'Discrepancy between trainable weights and collected trainable'\n"
     ]
    },
    {
     "name": "stdout",
     "output_type": "stream",
     "text": [
      "16/16 [==============================] - 0s 23ms/step - loss: 5.9743 - acc: 0.1875\n",
      "Epoch 1/1\n",
      "8/8 [==============================] - 1s 97ms/step - loss: 19.5144 - model_1_loss: 0.0414 - conv2d_20_loss: 0.1368\n",
      "\n",
      "Epoch 00001: loss did not improve from 16.82198\n"
     ]
    },
    {
     "name": "stderr",
     "output_type": "stream",
     "text": [
      "\n",
      "\n",
      "\n",
      "\n",
      "108it [07:21,  4.09s/it]\u001b[A\u001b[A\u001b[A\u001b[A"
     ]
    },
    {
     "name": "stdout",
     "output_type": "stream",
     "text": [
      "iteration : 108\n",
      "Epoch 1/1\n",
      " 8/16 [==============>...............] - ETA: 0s - loss: 7.7725 - acc: 0.0000e+00"
     ]
    },
    {
     "name": "stderr",
     "output_type": "stream",
     "text": [
      "/opt/conda/lib/python3.6/site-packages/keras/engine/training.py:490: UserWarning: Discrepancy between trainable weights and collected trainable weights, did you set `model.trainable` without calling `model.compile` after ?\n",
      "  'Discrepancy between trainable weights and collected trainable'\n"
     ]
    },
    {
     "name": "stdout",
     "output_type": "stream",
     "text": [
      "16/16 [==============================] - 0s 24ms/step - loss: 7.6507 - acc: 0.0000e+00\n",
      "Epoch 1/1\n",
      "8/8 [==============================] - 1s 98ms/step - loss: 18.1561 - model_1_loss: 6.8331e-04 - conv2d_20_loss: 0.1253\n",
      "\n",
      "Epoch 00001: loss did not improve from 16.82198\n"
     ]
    },
    {
     "name": "stderr",
     "output_type": "stream",
     "text": [
      "\n",
      "\n",
      "\n",
      "\n",
      "109it [07:25,  4.10s/it]\u001b[A\u001b[A\u001b[A\u001b[A"
     ]
    },
    {
     "name": "stdout",
     "output_type": "stream",
     "text": [
      "iteration : 109\n",
      "Epoch 1/1\n",
      " 8/16 [==============>...............] - ETA: 0s - loss: 7.6539 - acc: 0.1250"
     ]
    },
    {
     "name": "stderr",
     "output_type": "stream",
     "text": [
      "/opt/conda/lib/python3.6/site-packages/keras/engine/training.py:490: UserWarning: Discrepancy between trainable weights and collected trainable weights, did you set `model.trainable` without calling `model.compile` after ?\n",
      "  'Discrepancy between trainable weights and collected trainable'\n"
     ]
    },
    {
     "name": "stdout",
     "output_type": "stream",
     "text": [
      "16/16 [==============================] - 0s 23ms/step - loss: 6.2527 - acc: 0.2500\n",
      "Epoch 1/1\n",
      "8/8 [==============================] - 1s 97ms/step - loss: 18.1651 - model_1_loss: 5.7539e-04 - conv2d_20_loss: 0.1254\n",
      "\n",
      "Epoch 00001: loss did not improve from 16.82198\n"
     ]
    },
    {
     "name": "stderr",
     "output_type": "stream",
     "text": [
      "\n",
      "\n",
      "\n",
      "\n",
      "110it [07:29,  4.09s/it]\u001b[A\u001b[A\u001b[A\u001b[A"
     ]
    },
    {
     "name": "stdout",
     "output_type": "stream",
     "text": [
      "iteration : 110\n",
      "Epoch 1/1\n",
      " 8/16 [==============>...............] - ETA: 0s - loss: 8.1694 - acc: 0.2500"
     ]
    },
    {
     "name": "stderr",
     "output_type": "stream",
     "text": [
      "/opt/conda/lib/python3.6/site-packages/keras/engine/training.py:490: UserWarning: Discrepancy between trainable weights and collected trainable weights, did you set `model.trainable` without calling `model.compile` after ?\n",
      "  'Discrepancy between trainable weights and collected trainable'\n"
     ]
    },
    {
     "name": "stdout",
     "output_type": "stream",
     "text": [
      "16/16 [==============================] - 0s 24ms/step - loss: 7.0248 - acc: 0.1250\n",
      "Epoch 1/1\n",
      "8/8 [==============================] - 1s 98ms/step - loss: 18.3250 - model_1_loss: 0.0245 - conv2d_20_loss: 0.1258\n",
      "\n",
      "Epoch 00001: loss did not improve from 16.82198\n"
     ]
    },
    {
     "name": "stderr",
     "output_type": "stream",
     "text": [
      "\n",
      "\n",
      "\n",
      "\n",
      "111it [07:33,  4.10s/it]\u001b[A\u001b[A\u001b[A\u001b[A"
     ]
    },
    {
     "name": "stdout",
     "output_type": "stream",
     "text": [
      "iteration : 111\n",
      "Epoch 1/1\n",
      " 8/16 [==============>...............] - ETA: 0s - loss: 8.8175 - acc: 0.1250"
     ]
    },
    {
     "name": "stderr",
     "output_type": "stream",
     "text": [
      "/opt/conda/lib/python3.6/site-packages/keras/engine/training.py:490: UserWarning: Discrepancy between trainable weights and collected trainable weights, did you set `model.trainable` without calling `model.compile` after ?\n",
      "  'Discrepancy between trainable weights and collected trainable'\n"
     ]
    },
    {
     "name": "stdout",
     "output_type": "stream",
     "text": [
      "16/16 [==============================] - 0s 23ms/step - loss: 7.1542 - acc: 0.1875\n",
      "Epoch 1/1\n",
      "8/8 [==============================] - 1s 97ms/step - loss: 19.3342 - model_1_loss: 5.0955e-04 - conv2d_20_loss: 0.1371\n",
      "\n",
      "Epoch 00001: loss did not improve from 16.82198\n"
     ]
    },
    {
     "name": "stderr",
     "output_type": "stream",
     "text": [
      "\n",
      "\n",
      "\n",
      "\n",
      "112it [07:37,  4.09s/it]\u001b[A\u001b[A\u001b[A\u001b[A"
     ]
    },
    {
     "name": "stdout",
     "output_type": "stream",
     "text": [
      "iteration : 112\n",
      "Epoch 1/1\n",
      " 8/16 [==============>...............] - ETA: 0s - loss: 6.5853 - acc: 0.1250"
     ]
    },
    {
     "name": "stderr",
     "output_type": "stream",
     "text": [
      "/opt/conda/lib/python3.6/site-packages/keras/engine/training.py:490: UserWarning: Discrepancy between trainable weights and collected trainable weights, did you set `model.trainable` without calling `model.compile` after ?\n",
      "  'Discrepancy between trainable weights and collected trainable'\n"
     ]
    },
    {
     "name": "stdout",
     "output_type": "stream",
     "text": [
      "16/16 [==============================] - 0s 24ms/step - loss: 6.2516 - acc: 0.1875\n",
      "Epoch 1/1\n",
      "8/8 [==============================] - 1s 98ms/step - loss: 18.9178 - model_1_loss: 0.0070 - conv2d_20_loss: 0.1326\n",
      "\n",
      "Epoch 00001: loss did not improve from 16.82198\n"
     ]
    },
    {
     "name": "stderr",
     "output_type": "stream",
     "text": [
      "\n",
      "\n",
      "\n",
      "\n",
      "113it [07:41,  4.09s/it]\u001b[A\u001b[A\u001b[A\u001b[A"
     ]
    },
    {
     "name": "stdout",
     "output_type": "stream",
     "text": [
      "iteration : 113\n",
      "Epoch 1/1\n",
      " 8/16 [==============>...............] - ETA: 0s - loss: 6.2488 - acc: 0.2500"
     ]
    },
    {
     "name": "stderr",
     "output_type": "stream",
     "text": [
      "/opt/conda/lib/python3.6/site-packages/keras/engine/training.py:490: UserWarning: Discrepancy between trainable weights and collected trainable weights, did you set `model.trainable` without calling `model.compile` after ?\n",
      "  'Discrepancy between trainable weights and collected trainable'\n"
     ]
    },
    {
     "name": "stdout",
     "output_type": "stream",
     "text": [
      "16/16 [==============================] - 0s 23ms/step - loss: 6.9776 - acc: 0.1250\n",
      "Epoch 1/1\n",
      "8/8 [==============================] - 1s 97ms/step - loss: 21.6862 - model_1_loss: 0.0084 - conv2d_20_loss: 0.1602\n",
      "\n",
      "Epoch 00001: loss did not improve from 16.82198\n"
     ]
    },
    {
     "name": "stderr",
     "output_type": "stream",
     "text": [
      "\n",
      "\n",
      "\n",
      "\n",
      "114it [07:45,  4.08s/it]\u001b[A\u001b[A\u001b[A\u001b[A"
     ]
    },
    {
     "name": "stdout",
     "output_type": "stream",
     "text": [
      "iteration : 114\n",
      "Epoch 1/1\n",
      " 8/16 [==============>...............] - ETA: 0s - loss: 4.2321 - acc: 0.1250"
     ]
    },
    {
     "name": "stderr",
     "output_type": "stream",
     "text": [
      "/opt/conda/lib/python3.6/site-packages/keras/engine/training.py:490: UserWarning: Discrepancy between trainable weights and collected trainable weights, did you set `model.trainable` without calling `model.compile` after ?\n",
      "  'Discrepancy between trainable weights and collected trainable'\n"
     ]
    },
    {
     "name": "stdout",
     "output_type": "stream",
     "text": [
      "16/16 [==============================] - 0s 24ms/step - loss: 6.1253 - acc: 0.1250\n",
      "Epoch 1/1\n",
      "8/8 [==============================] - 1s 98ms/step - loss: 18.1105 - model_1_loss: 3.5634e-04 - conv2d_20_loss: 0.1248\n",
      "\n",
      "Epoch 00001: loss did not improve from 16.82198\n"
     ]
    },
    {
     "name": "stderr",
     "output_type": "stream",
     "text": [
      "\n",
      "\n",
      "\n",
      "\n",
      "115it [07:49,  4.08s/it]\u001b[A\u001b[A\u001b[A\u001b[A"
     ]
    },
    {
     "name": "stdout",
     "output_type": "stream",
     "text": [
      "iteration : 115\n",
      "Epoch 1/1\n",
      " 8/16 [==============>...............] - ETA: 0s - loss: 9.6399 - acc: 0.0000e+00"
     ]
    },
    {
     "name": "stderr",
     "output_type": "stream",
     "text": [
      "/opt/conda/lib/python3.6/site-packages/keras/engine/training.py:490: UserWarning: Discrepancy between trainable weights and collected trainable weights, did you set `model.trainable` without calling `model.compile` after ?\n",
      "  'Discrepancy between trainable weights and collected trainable'\n"
     ]
    },
    {
     "name": "stdout",
     "output_type": "stream",
     "text": [
      "16/16 [==============================] - 0s 23ms/step - loss: 7.4954 - acc: 0.1250\n",
      "Epoch 1/1\n",
      "8/8 [==============================] - 1s 97ms/step - loss: 17.2226 - model_1_loss: 3.8524e-05 - conv2d_20_loss: 0.1160\n",
      "\n",
      "Epoch 00001: loss did not improve from 16.82198\n"
     ]
    },
    {
     "name": "stderr",
     "output_type": "stream",
     "text": [
      "\n",
      "\n",
      "\n",
      "\n",
      "116it [07:53,  4.08s/it]\u001b[A\u001b[A\u001b[A\u001b[A"
     ]
    },
    {
     "name": "stdout",
     "output_type": "stream",
     "text": [
      "iteration : 116\n",
      "Epoch 1/1\n",
      " 8/16 [==============>...............] - ETA: 0s - loss: 5.3313 - acc: 0.0000e+00"
     ]
    },
    {
     "name": "stderr",
     "output_type": "stream",
     "text": [
      "/opt/conda/lib/python3.6/site-packages/keras/engine/training.py:490: UserWarning: Discrepancy between trainable weights and collected trainable weights, did you set `model.trainable` without calling `model.compile` after ?\n",
      "  'Discrepancy between trainable weights and collected trainable'\n"
     ]
    },
    {
     "name": "stdout",
     "output_type": "stream",
     "text": [
      "16/16 [==============================] - 0s 24ms/step - loss: 6.6670 - acc: 0.0000e+00\n",
      "Epoch 1/1\n",
      "8/8 [==============================] - 1s 99ms/step - loss: 17.7655 - model_1_loss: 0.0421 - conv2d_20_loss: 0.1193\n",
      "\n",
      "Epoch 00001: loss did not improve from 16.82198\n"
     ]
    },
    {
     "name": "stderr",
     "output_type": "stream",
     "text": [
      "\n",
      "\n",
      "\n",
      "\n",
      "117it [07:57,  4.08s/it]\u001b[A\u001b[A\u001b[A\u001b[A"
     ]
    },
    {
     "name": "stdout",
     "output_type": "stream",
     "text": [
      "iteration : 117\n",
      "Epoch 1/1\n",
      " 8/16 [==============>...............] - ETA: 0s - loss: 10.2005 - acc: 0.0000e+00"
     ]
    },
    {
     "name": "stderr",
     "output_type": "stream",
     "text": [
      "/opt/conda/lib/python3.6/site-packages/keras/engine/training.py:490: UserWarning: Discrepancy between trainable weights and collected trainable weights, did you set `model.trainable` without calling `model.compile` after ?\n",
      "  'Discrepancy between trainable weights and collected trainable'\n"
     ]
    },
    {
     "name": "stdout",
     "output_type": "stream",
     "text": [
      "16/16 [==============================] - 0s 23ms/step - loss: 6.9065 - acc: 0.1875\n",
      "Epoch 1/1\n",
      "8/8 [==============================] - 1s 97ms/step - loss: 17.3073 - model_1_loss: 1.1945e-04 - conv2d_20_loss: 0.1168\n",
      "\n",
      "Epoch 00001: loss did not improve from 16.82198\n"
     ]
    },
    {
     "name": "stderr",
     "output_type": "stream",
     "text": [
      "\n",
      "\n",
      "\n",
      "\n",
      "118it [08:01,  4.08s/it]\u001b[A\u001b[A\u001b[A\u001b[A"
     ]
    },
    {
     "name": "stdout",
     "output_type": "stream",
     "text": [
      "iteration : 118\n",
      "Epoch 1/1\n",
      " 8/16 [==============>...............] - ETA: 0s - loss: 10.0052 - acc: 0.1250"
     ]
    },
    {
     "name": "stderr",
     "output_type": "stream",
     "text": [
      "/opt/conda/lib/python3.6/site-packages/keras/engine/training.py:490: UserWarning: Discrepancy between trainable weights and collected trainable weights, did you set `model.trainable` without calling `model.compile` after ?\n",
      "  'Discrepancy between trainable weights and collected trainable'\n"
     ]
    },
    {
     "name": "stdout",
     "output_type": "stream",
     "text": [
      "16/16 [==============================] - 0s 24ms/step - loss: 6.8911 - acc: 0.1875\n",
      "Epoch 1/1\n",
      "8/8 [==============================] - 1s 99ms/step - loss: 18.6336 - model_1_loss: 1.5721e-05 - conv2d_20_loss: 0.1301\n",
      "\n",
      "Epoch 00001: loss did not improve from 16.82198\n"
     ]
    },
    {
     "name": "stderr",
     "output_type": "stream",
     "text": [
      "\n",
      "\n",
      "\n",
      "\n",
      "119it [08:06,  4.08s/it]\u001b[A\u001b[A\u001b[A\u001b[A"
     ]
    },
    {
     "name": "stdout",
     "output_type": "stream",
     "text": [
      "iteration : 119\n",
      "Epoch 1/1\n",
      " 8/16 [==============>...............] - ETA: 0s - loss: 7.6246 - acc: 0.1250"
     ]
    },
    {
     "name": "stderr",
     "output_type": "stream",
     "text": [
      "/opt/conda/lib/python3.6/site-packages/keras/engine/training.py:490: UserWarning: Discrepancy between trainable weights and collected trainable weights, did you set `model.trainable` without calling `model.compile` after ?\n",
      "  'Discrepancy between trainable weights and collected trainable'\n"
     ]
    },
    {
     "name": "stdout",
     "output_type": "stream",
     "text": [
      "16/16 [==============================] - 0s 23ms/step - loss: 6.9890 - acc: 0.0625\n",
      "Epoch 1/1\n",
      "8/8 [==============================] - 1s 97ms/step - loss: 17.8552 - model_1_loss: 3.1281e-04 - conv2d_20_loss: 0.1223\n",
      "\n",
      "Epoch 00001: loss did not improve from 16.82198\n"
     ]
    },
    {
     "name": "stderr",
     "output_type": "stream",
     "text": [
      "\n",
      "\n",
      "\n",
      "\n",
      "120it [08:10,  4.08s/it]\u001b[A\u001b[A\u001b[A\u001b[A"
     ]
    },
    {
     "name": "stdout",
     "output_type": "stream",
     "text": [
      "iteration : 120\n",
      "Epoch 1/1\n",
      " 8/16 [==============>...............] - ETA: 0s - loss: 7.0318 - acc: 0.0000e+00"
     ]
    },
    {
     "name": "stderr",
     "output_type": "stream",
     "text": [
      "/opt/conda/lib/python3.6/site-packages/keras/engine/training.py:490: UserWarning: Discrepancy between trainable weights and collected trainable weights, did you set `model.trainable` without calling `model.compile` after ?\n",
      "  'Discrepancy between trainable weights and collected trainable'\n"
     ]
    },
    {
     "name": "stdout",
     "output_type": "stream",
     "text": [
      "16/16 [==============================] - 0s 24ms/step - loss: 6.6650 - acc: 0.1250\n",
      "Epoch 1/1\n",
      "8/8 [==============================] - 1s 98ms/step - loss: 16.8725 - model_1_loss: 3.2652e-04 - conv2d_20_loss: 0.1125\n",
      "\n",
      "Epoch 00001: loss did not improve from 16.82198\n"
     ]
    },
    {
     "name": "stderr",
     "output_type": "stream",
     "text": [
      "\n",
      "\n",
      "\n",
      "\n",
      "121it [08:14,  4.09s/it]\u001b[A\u001b[A\u001b[A\u001b[A"
     ]
    },
    {
     "name": "stdout",
     "output_type": "stream",
     "text": [
      "iteration : 121\n",
      "Epoch 1/1\n",
      " 8/16 [==============>...............] - ETA: 0s - loss: 6.6820 - acc: 0.1250"
     ]
    },
    {
     "name": "stderr",
     "output_type": "stream",
     "text": [
      "/opt/conda/lib/python3.6/site-packages/keras/engine/training.py:490: UserWarning: Discrepancy between trainable weights and collected trainable weights, did you set `model.trainable` without calling `model.compile` after ?\n",
      "  'Discrepancy between trainable weights and collected trainable'\n"
     ]
    },
    {
     "name": "stdout",
     "output_type": "stream",
     "text": [
      "16/16 [==============================] - 0s 23ms/step - loss: 6.3802 - acc: 0.1875\n",
      "Epoch 1/1\n",
      "8/8 [==============================] - 1s 97ms/step - loss: 17.8263 - model_1_loss: 1.1822e-04 - conv2d_20_loss: 0.1220\n",
      "\n",
      "Epoch 00001: loss did not improve from 16.82198\n"
     ]
    },
    {
     "name": "stderr",
     "output_type": "stream",
     "text": [
      "\n",
      "\n",
      "\n",
      "\n",
      "122it [08:18,  4.08s/it]\u001b[A\u001b[A\u001b[A\u001b[A"
     ]
    },
    {
     "name": "stdout",
     "output_type": "stream",
     "text": [
      "iteration : 122\n",
      "Epoch 1/1\n",
      " 8/16 [==============>...............] - ETA: 0s - loss: 6.9904 - acc: 0.2500"
     ]
    },
    {
     "name": "stderr",
     "output_type": "stream",
     "text": [
      "/opt/conda/lib/python3.6/site-packages/keras/engine/training.py:490: UserWarning: Discrepancy between trainable weights and collected trainable weights, did you set `model.trainable` without calling `model.compile` after ?\n",
      "  'Discrepancy between trainable weights and collected trainable'\n"
     ]
    },
    {
     "name": "stdout",
     "output_type": "stream",
     "text": [
      "16/16 [==============================] - 0s 24ms/step - loss: 6.1575 - acc: 0.2500\n",
      "Epoch 1/1\n",
      "8/8 [==============================] - 1s 98ms/step - loss: 18.0755 - model_1_loss: 0.0041 - conv2d_20_loss: 0.1243\n",
      "\n",
      "Epoch 00001: loss did not improve from 16.82198\n"
     ]
    },
    {
     "name": "stderr",
     "output_type": "stream",
     "text": [
      "\n",
      "\n",
      "\n",
      "\n",
      "123it [08:22,  4.09s/it]\u001b[A\u001b[A\u001b[A\u001b[A"
     ]
    },
    {
     "name": "stdout",
     "output_type": "stream",
     "text": [
      "iteration : 123\n",
      "Epoch 1/1\n",
      " 8/16 [==============>...............] - ETA: 0s - loss: 3.9138 - acc: 0.2500"
     ]
    },
    {
     "name": "stderr",
     "output_type": "stream",
     "text": [
      "/opt/conda/lib/python3.6/site-packages/keras/engine/training.py:490: UserWarning: Discrepancy between trainable weights and collected trainable weights, did you set `model.trainable` without calling `model.compile` after ?\n",
      "  'Discrepancy between trainable weights and collected trainable'\n"
     ]
    },
    {
     "name": "stdout",
     "output_type": "stream",
     "text": [
      "16/16 [==============================] - 0s 23ms/step - loss: 7.1843 - acc: 0.1875\n",
      "Epoch 1/1\n",
      "8/8 [==============================] - 1s 97ms/step - loss: 18.1293 - model_1_loss: 3.4323e-04 - conv2d_20_loss: 0.1250\n",
      "\n",
      "Epoch 00001: loss did not improve from 16.82198\n"
     ]
    },
    {
     "name": "stderr",
     "output_type": "stream",
     "text": [
      "\n",
      "\n",
      "\n",
      "\n",
      "124it [08:26,  4.09s/it]\u001b[A\u001b[A\u001b[A\u001b[A"
     ]
    },
    {
     "name": "stdout",
     "output_type": "stream",
     "text": [
      "iteration : 124\n",
      "Epoch 1/1\n",
      " 8/16 [==============>...............] - ETA: 0s - loss: 5.3755 - acc: 0.1250"
     ]
    },
    {
     "name": "stderr",
     "output_type": "stream",
     "text": [
      "/opt/conda/lib/python3.6/site-packages/keras/engine/training.py:490: UserWarning: Discrepancy between trainable weights and collected trainable weights, did you set `model.trainable` without calling `model.compile` after ?\n",
      "  'Discrepancy between trainable weights and collected trainable'\n"
     ]
    },
    {
     "name": "stdout",
     "output_type": "stream",
     "text": [
      "16/16 [==============================] - 0s 24ms/step - loss: 6.8469 - acc: 0.1875\n",
      "Epoch 1/1\n",
      "8/8 [==============================] - 1s 98ms/step - loss: 18.3640 - model_1_loss: 8.8026e-05 - conv2d_20_loss: 0.1274\n",
      "\n",
      "Epoch 00001: loss did not improve from 16.82198\n"
     ]
    },
    {
     "name": "stderr",
     "output_type": "stream",
     "text": [
      "\n",
      "\n",
      "\n",
      "\n",
      "125it [08:30,  4.09s/it]\u001b[A\u001b[A\u001b[A\u001b[A"
     ]
    },
    {
     "name": "stdout",
     "output_type": "stream",
     "text": [
      "iteration : 125\n",
      "Epoch 1/1\n",
      " 8/16 [==============>...............] - ETA: 0s - loss: 7.2889 - acc: 0.2500"
     ]
    },
    {
     "name": "stderr",
     "output_type": "stream",
     "text": [
      "/opt/conda/lib/python3.6/site-packages/keras/engine/training.py:490: UserWarning: Discrepancy between trainable weights and collected trainable weights, did you set `model.trainable` without calling `model.compile` after ?\n",
      "  'Discrepancy between trainable weights and collected trainable'\n"
     ]
    },
    {
     "name": "stdout",
     "output_type": "stream",
     "text": [
      "16/16 [==============================] - 0s 23ms/step - loss: 6.1979 - acc: 0.1250\n",
      "Epoch 1/1\n",
      "8/8 [==============================] - 1s 97ms/step - loss: 19.9433 - model_1_loss: 0.0150 - conv2d_20_loss: 0.1424\n",
      "\n",
      "Epoch 00001: loss did not improve from 16.82198\n"
     ]
    },
    {
     "name": "stderr",
     "output_type": "stream",
     "text": [
      "\n",
      "\n",
      "\n",
      "\n",
      "126it [08:34,  4.09s/it]\u001b[A\u001b[A\u001b[A\u001b[A"
     ]
    },
    {
     "name": "stdout",
     "output_type": "stream",
     "text": [
      "iteration : 126\n",
      "Epoch 1/1\n",
      " 8/16 [==============>...............] - ETA: 0s - loss: 8.5085 - acc: 0.3750"
     ]
    },
    {
     "name": "stderr",
     "output_type": "stream",
     "text": [
      "/opt/conda/lib/python3.6/site-packages/keras/engine/training.py:490: UserWarning: Discrepancy between trainable weights and collected trainable weights, did you set `model.trainable` without calling `model.compile` after ?\n",
      "  'Discrepancy between trainable weights and collected trainable'\n"
     ]
    },
    {
     "name": "stdout",
     "output_type": "stream",
     "text": [
      "16/16 [==============================] - 0s 24ms/step - loss: 6.2318 - acc: 0.2500\n",
      "Epoch 1/1\n",
      "8/8 [==============================] - 1s 98ms/step - loss: 16.9173 - model_1_loss: 0.0033 - conv2d_20_loss: 0.1128\n",
      "\n",
      "Epoch 00001: loss did not improve from 16.82198\n"
     ]
    },
    {
     "name": "stderr",
     "output_type": "stream",
     "text": [
      "\n",
      "\n",
      "\n",
      "\n",
      "127it [08:38,  4.09s/it]\u001b[A\u001b[A\u001b[A\u001b[A"
     ]
    },
    {
     "name": "stdout",
     "output_type": "stream",
     "text": [
      "iteration : 127\n",
      "Epoch 1/1\n",
      " 8/16 [==============>...............] - ETA: 0s - loss: 6.0388 - acc: 0.2500"
     ]
    },
    {
     "name": "stderr",
     "output_type": "stream",
     "text": [
      "/opt/conda/lib/python3.6/site-packages/keras/engine/training.py:490: UserWarning: Discrepancy between trainable weights and collected trainable weights, did you set `model.trainable` without calling `model.compile` after ?\n",
      "  'Discrepancy between trainable weights and collected trainable'\n"
     ]
    },
    {
     "name": "stdout",
     "output_type": "stream",
     "text": [
      "16/16 [==============================] - 0s 23ms/step - loss: 6.5506 - acc: 0.2500\n",
      "Epoch 1/1\n",
      "8/8 [==============================] - 1s 97ms/step - loss: 17.8313 - model_1_loss: 3.0288e-05 - conv2d_20_loss: 0.1221\n",
      "\n",
      "Epoch 00001: loss did not improve from 16.82198\n"
     ]
    },
    {
     "name": "stderr",
     "output_type": "stream",
     "text": [
      "\n",
      "\n",
      "\n",
      "\n",
      "128it [08:42,  4.10s/it]\u001b[A\u001b[A\u001b[A\u001b[A"
     ]
    },
    {
     "name": "stdout",
     "output_type": "stream",
     "text": [
      "iteration : 128\n",
      "Epoch 1/1\n",
      " 8/16 [==============>...............] - ETA: 0s - loss: 7.6984 - acc: 0.0000e+00"
     ]
    },
    {
     "name": "stderr",
     "output_type": "stream",
     "text": [
      "/opt/conda/lib/python3.6/site-packages/keras/engine/training.py:490: UserWarning: Discrepancy between trainable weights and collected trainable weights, did you set `model.trainable` without calling `model.compile` after ?\n",
      "  'Discrepancy between trainable weights and collected trainable'\n"
     ]
    },
    {
     "name": "stdout",
     "output_type": "stream",
     "text": [
      "16/16 [==============================] - 0s 24ms/step - loss: 6.7588 - acc: 0.1250\n",
      "Epoch 1/1\n",
      "8/8 [==============================] - 1s 98ms/step - loss: 17.6944 - model_1_loss: 0.0185 - conv2d_20_loss: 0.1198\n",
      "\n",
      "Epoch 00001: loss did not improve from 16.82198\n"
     ]
    },
    {
     "name": "stderr",
     "output_type": "stream",
     "text": [
      "\n",
      "\n",
      "\n",
      "\n",
      "129it [08:46,  4.11s/it]\u001b[A\u001b[A\u001b[A\u001b[A"
     ]
    },
    {
     "name": "stdout",
     "output_type": "stream",
     "text": [
      "iteration : 129\n",
      "Epoch 1/1\n",
      " 8/16 [==============>...............] - ETA: 0s - loss: 7.2740 - acc: 0.1250"
     ]
    },
    {
     "name": "stderr",
     "output_type": "stream",
     "text": [
      "/opt/conda/lib/python3.6/site-packages/keras/engine/training.py:490: UserWarning: Discrepancy between trainable weights and collected trainable weights, did you set `model.trainable` without calling `model.compile` after ?\n",
      "  'Discrepancy between trainable weights and collected trainable'\n"
     ]
    },
    {
     "name": "stdout",
     "output_type": "stream",
     "text": [
      "16/16 [==============================] - 0s 23ms/step - loss: 8.0360 - acc: 0.0625\n",
      "Epoch 1/1\n",
      "8/8 [==============================] - 1s 97ms/step - loss: 18.5474 - model_1_loss: 0.0055 - conv2d_20_loss: 0.1290\n",
      "\n",
      "Epoch 00001: loss did not improve from 16.82198\n"
     ]
    },
    {
     "name": "stderr",
     "output_type": "stream",
     "text": [
      "\n",
      "\n",
      "\n",
      "\n",
      "130it [08:51,  4.10s/it]\u001b[A\u001b[A\u001b[A\u001b[A"
     ]
    },
    {
     "name": "stdout",
     "output_type": "stream",
     "text": [
      "iteration : 130\n",
      "Epoch 1/1\n",
      " 8/16 [==============>...............] - ETA: 0s - loss: 5.3644 - acc: 0.2500"
     ]
    },
    {
     "name": "stderr",
     "output_type": "stream",
     "text": [
      "/opt/conda/lib/python3.6/site-packages/keras/engine/training.py:490: UserWarning: Discrepancy between trainable weights and collected trainable weights, did you set `model.trainable` without calling `model.compile` after ?\n",
      "  'Discrepancy between trainable weights and collected trainable'\n"
     ]
    },
    {
     "name": "stdout",
     "output_type": "stream",
     "text": [
      "16/16 [==============================] - 0s 24ms/step - loss: 5.9054 - acc: 0.1875\n",
      "Epoch 1/1\n",
      "8/8 [==============================] - 1s 98ms/step - loss: 18.4244 - model_1_loss: 6.4255e-05 - conv2d_20_loss: 0.1280\n",
      "\n",
      "Epoch 00001: loss did not improve from 16.82198\n"
     ]
    },
    {
     "name": "stderr",
     "output_type": "stream",
     "text": [
      "\n",
      "\n",
      "\n",
      "\n",
      "131it [08:55,  4.14s/it]\u001b[A\u001b[A\u001b[A\u001b[A"
     ]
    },
    {
     "name": "stdout",
     "output_type": "stream",
     "text": [
      "iteration : 131\n",
      "Epoch 1/1\n",
      " 8/16 [==============>...............] - ETA: 0s - loss: 6.7163 - acc: 0.1250"
     ]
    },
    {
     "name": "stderr",
     "output_type": "stream",
     "text": [
      "/opt/conda/lib/python3.6/site-packages/keras/engine/training.py:490: UserWarning: Discrepancy between trainable weights and collected trainable weights, did you set `model.trainable` without calling `model.compile` after ?\n",
      "  'Discrepancy between trainable weights and collected trainable'\n"
     ]
    },
    {
     "name": "stdout",
     "output_type": "stream",
     "text": [
      "16/16 [==============================] - 0s 23ms/step - loss: 6.8865 - acc: 0.1250\n",
      "Epoch 1/1\n",
      "8/8 [==============================] - 1s 98ms/step - loss: 17.9972 - model_1_loss: 2.8371e-04 - conv2d_20_loss: 0.1237\n",
      "\n",
      "Epoch 00001: loss did not improve from 16.82198\n"
     ]
    },
    {
     "name": "stderr",
     "output_type": "stream",
     "text": [
      "\n",
      "\n",
      "\n",
      "\n",
      "132it [08:59,  4.16s/it]\u001b[A\u001b[A\u001b[A\u001b[A"
     ]
    },
    {
     "name": "stdout",
     "output_type": "stream",
     "text": [
      "iteration : 132\n",
      "Epoch 1/1\n",
      " 8/16 [==============>...............] - ETA: 0s - loss: 8.7680 - acc: 0.0000e+00"
     ]
    },
    {
     "name": "stderr",
     "output_type": "stream",
     "text": [
      "/opt/conda/lib/python3.6/site-packages/keras/engine/training.py:490: UserWarning: Discrepancy between trainable weights and collected trainable weights, did you set `model.trainable` without calling `model.compile` after ?\n",
      "  'Discrepancy between trainable weights and collected trainable'\n"
     ]
    },
    {
     "name": "stdout",
     "output_type": "stream",
     "text": [
      "16/16 [==============================] - 0s 24ms/step - loss: 6.6070 - acc: 0.1250\n",
      "Epoch 1/1\n",
      "8/8 [==============================] - 1s 98ms/step - loss: 18.3499 - model_1_loss: 0.0024 - conv2d_20_loss: 0.1271\n",
      "\n",
      "Epoch 00001: loss did not improve from 16.82198\n"
     ]
    },
    {
     "name": "stderr",
     "output_type": "stream",
     "text": [
      "\n",
      "\n",
      "\n",
      "\n",
      "133it [09:03,  4.18s/it]\u001b[A\u001b[A\u001b[A\u001b[A"
     ]
    },
    {
     "name": "stdout",
     "output_type": "stream",
     "text": [
      "iteration : 133\n",
      "Epoch 1/1\n",
      " 8/16 [==============>...............] - ETA: 0s - loss: 9.1098 - acc: 0.0000e+00"
     ]
    },
    {
     "name": "stderr",
     "output_type": "stream",
     "text": [
      "/opt/conda/lib/python3.6/site-packages/keras/engine/training.py:490: UserWarning: Discrepancy between trainable weights and collected trainable weights, did you set `model.trainable` without calling `model.compile` after ?\n",
      "  'Discrepancy between trainable weights and collected trainable'\n"
     ]
    },
    {
     "name": "stdout",
     "output_type": "stream",
     "text": [
      "16/16 [==============================] - 0s 23ms/step - loss: 7.3536 - acc: 0.0000e+00\n",
      "Epoch 1/1\n",
      "8/8 [==============================] - 1s 97ms/step - loss: 17.9326 - model_1_loss: 5.5877e-05 - conv2d_20_loss: 0.1231\n",
      "\n",
      "Epoch 00001: loss did not improve from 16.82198\n"
     ]
    },
    {
     "name": "stderr",
     "output_type": "stream",
     "text": [
      "\n",
      "\n",
      "\n",
      "\n",
      "134it [09:07,  4.18s/it]\u001b[A\u001b[A\u001b[A\u001b[A"
     ]
    },
    {
     "name": "stdout",
     "output_type": "stream",
     "text": [
      "iteration : 134\n",
      "Epoch 1/1\n",
      " 8/16 [==============>...............] - ETA: 0s - loss: 7.3003 - acc: 0.2500"
     ]
    },
    {
     "name": "stderr",
     "output_type": "stream",
     "text": [
      "/opt/conda/lib/python3.6/site-packages/keras/engine/training.py:490: UserWarning: Discrepancy between trainable weights and collected trainable weights, did you set `model.trainable` without calling `model.compile` after ?\n",
      "  'Discrepancy between trainable weights and collected trainable'\n"
     ]
    },
    {
     "name": "stdout",
     "output_type": "stream",
     "text": [
      "16/16 [==============================] - 0s 24ms/step - loss: 6.7273 - acc: 0.1875\n",
      "Epoch 1/1\n",
      "8/8 [==============================] - 1s 99ms/step - loss: 18.5904 - model_1_loss: 1.0839e-04 - conv2d_20_loss: 0.1297\n",
      "\n",
      "Epoch 00001: loss did not improve from 16.82198\n"
     ]
    },
    {
     "name": "stderr",
     "output_type": "stream",
     "text": [
      "\n",
      "\n",
      "\n",
      "\n",
      "135it [09:12,  4.19s/it]\u001b[A\u001b[A\u001b[A\u001b[A"
     ]
    },
    {
     "name": "stdout",
     "output_type": "stream",
     "text": [
      "iteration : 135\n",
      "Epoch 1/1\n",
      " 8/16 [==============>...............] - ETA: 0s - loss: 5.0189 - acc: 0.5000"
     ]
    },
    {
     "name": "stderr",
     "output_type": "stream",
     "text": [
      "/opt/conda/lib/python3.6/site-packages/keras/engine/training.py:490: UserWarning: Discrepancy between trainable weights and collected trainable weights, did you set `model.trainable` without calling `model.compile` after ?\n",
      "  'Discrepancy between trainable weights and collected trainable'\n"
     ]
    },
    {
     "name": "stdout",
     "output_type": "stream",
     "text": [
      "16/16 [==============================] - 0s 23ms/step - loss: 7.3168 - acc: 0.3125\n",
      "Epoch 1/1\n",
      "8/8 [==============================] - 1s 97ms/step - loss: 17.9474 - model_1_loss: 4.3135e-04 - conv2d_20_loss: 0.1232\n",
      "\n",
      "Epoch 00001: loss did not improve from 16.82198\n"
     ]
    },
    {
     "name": "stderr",
     "output_type": "stream",
     "text": [
      "\n",
      "\n",
      "\n",
      "\n",
      "136it [09:16,  4.18s/it]\u001b[A\u001b[A\u001b[A\u001b[A"
     ]
    },
    {
     "name": "stdout",
     "output_type": "stream",
     "text": [
      "iteration : 136\n",
      "Epoch 1/1\n",
      " 8/16 [==============>...............] - ETA: 0s - loss: 6.0774 - acc: 0.2500"
     ]
    },
    {
     "name": "stderr",
     "output_type": "stream",
     "text": [
      "/opt/conda/lib/python3.6/site-packages/keras/engine/training.py:490: UserWarning: Discrepancy between trainable weights and collected trainable weights, did you set `model.trainable` without calling `model.compile` after ?\n",
      "  'Discrepancy between trainable weights and collected trainable'\n"
     ]
    },
    {
     "name": "stdout",
     "output_type": "stream",
     "text": [
      "16/16 [==============================] - 0s 24ms/step - loss: 6.2189 - acc: 0.1875\n",
      "Epoch 1/1\n",
      "8/8 [==============================] - 1s 99ms/step - loss: 18.2343 - model_1_loss: 0.0028 - conv2d_20_loss: 0.1260\n",
      "\n",
      "Epoch 00001: loss did not improve from 16.82198\n"
     ]
    },
    {
     "name": "stderr",
     "output_type": "stream",
     "text": [
      "\n",
      "\n",
      "\n",
      "\n",
      "137it [09:20,  4.19s/it]\u001b[A\u001b[A\u001b[A\u001b[A"
     ]
    },
    {
     "name": "stdout",
     "output_type": "stream",
     "text": [
      "iteration : 137\n",
      "Epoch 1/1\n",
      " 8/16 [==============>...............] - ETA: 0s - loss: 7.7403 - acc: 0.1250"
     ]
    },
    {
     "name": "stderr",
     "output_type": "stream",
     "text": [
      "/opt/conda/lib/python3.6/site-packages/keras/engine/training.py:490: UserWarning: Discrepancy between trainable weights and collected trainable weights, did you set `model.trainable` without calling `model.compile` after ?\n",
      "  'Discrepancy between trainable weights and collected trainable'\n"
     ]
    },
    {
     "name": "stdout",
     "output_type": "stream",
     "text": [
      "16/16 [==============================] - 0s 23ms/step - loss: 6.3911 - acc: 0.2500\n",
      "Epoch 1/1\n",
      "8/8 [==============================] - 1s 97ms/step - loss: 18.6713 - model_1_loss: 0.0014 - conv2d_20_loss: 0.1304\n",
      "\n",
      "Epoch 00001: loss did not improve from 16.82198\n"
     ]
    },
    {
     "name": "stderr",
     "output_type": "stream",
     "text": [
      "\n",
      "\n",
      "\n",
      "\n",
      "138it [09:24,  4.19s/it]\u001b[A\u001b[A\u001b[A\u001b[A"
     ]
    },
    {
     "name": "stdout",
     "output_type": "stream",
     "text": [
      "iteration : 138\n",
      "Epoch 1/1\n",
      " 8/16 [==============>...............] - ETA: 0s - loss: 5.5815 - acc: 0.1250"
     ]
    },
    {
     "name": "stderr",
     "output_type": "stream",
     "text": [
      "/opt/conda/lib/python3.6/site-packages/keras/engine/training.py:490: UserWarning: Discrepancy between trainable weights and collected trainable weights, did you set `model.trainable` without calling `model.compile` after ?\n",
      "  'Discrepancy between trainable weights and collected trainable'\n"
     ]
    },
    {
     "name": "stdout",
     "output_type": "stream",
     "text": [
      "16/16 [==============================] - 0s 24ms/step - loss: 6.1998 - acc: 0.1875\n",
      "Epoch 1/1\n",
      "8/8 [==============================] - 1s 98ms/step - loss: 18.6722 - model_1_loss: 3.2716e-04 - conv2d_20_loss: 0.1305\n",
      "\n",
      "Epoch 00001: loss did not improve from 16.82198\n"
     ]
    },
    {
     "name": "stderr",
     "output_type": "stream",
     "text": [
      "\n",
      "\n",
      "\n",
      "\n",
      "139it [09:28,  4.20s/it]\u001b[A\u001b[A\u001b[A\u001b[A"
     ]
    },
    {
     "name": "stdout",
     "output_type": "stream",
     "text": [
      "iteration : 139\n",
      "Epoch 1/1\n",
      " 8/16 [==============>...............] - ETA: 0s - loss: 8.6762 - acc: 0.1250"
     ]
    },
    {
     "name": "stderr",
     "output_type": "stream",
     "text": [
      "/opt/conda/lib/python3.6/site-packages/keras/engine/training.py:490: UserWarning: Discrepancy between trainable weights and collected trainable weights, did you set `model.trainable` without calling `model.compile` after ?\n",
      "  'Discrepancy between trainable weights and collected trainable'\n"
     ]
    },
    {
     "name": "stdout",
     "output_type": "stream",
     "text": [
      "16/16 [==============================] - 0s 23ms/step - loss: 6.2994 - acc: 0.1875\n",
      "Epoch 1/1\n",
      "8/8 [==============================] - 1s 97ms/step - loss: 24.4979 - model_1_loss: 0.0500 - conv2d_20_loss: 0.1862\n",
      "\n",
      "Epoch 00001: loss did not improve from 16.82198\n"
     ]
    },
    {
     "name": "stderr",
     "output_type": "stream",
     "text": [
      "\n",
      "\n",
      "\n",
      "\n",
      "140it [09:33,  4.19s/it]\u001b[A\u001b[A\u001b[A\u001b[A"
     ]
    },
    {
     "name": "stdout",
     "output_type": "stream",
     "text": [
      "iteration : 140\n",
      "Epoch 1/1\n",
      " 8/16 [==============>...............] - ETA: 0s - loss: 8.7466 - acc: 0.1250"
     ]
    },
    {
     "name": "stderr",
     "output_type": "stream",
     "text": [
      "/opt/conda/lib/python3.6/site-packages/keras/engine/training.py:490: UserWarning: Discrepancy between trainable weights and collected trainable weights, did you set `model.trainable` without calling `model.compile` after ?\n",
      "  'Discrepancy between trainable weights and collected trainable'\n"
     ]
    },
    {
     "name": "stdout",
     "output_type": "stream",
     "text": [
      "16/16 [==============================] - 0s 24ms/step - loss: 7.3198 - acc: 0.1875\n",
      "Epoch 1/1\n",
      "8/8 [==============================] - 1s 98ms/step - loss: 18.1635 - model_1_loss: 0.0040 - conv2d_20_loss: 0.1252\n",
      "\n",
      "Epoch 00001: loss did not improve from 16.82198\n"
     ]
    },
    {
     "name": "stderr",
     "output_type": "stream",
     "text": [
      "\n",
      "\n",
      "\n",
      "\n",
      "141it [09:37,  4.20s/it]\u001b[A\u001b[A\u001b[A\u001b[A"
     ]
    },
    {
     "name": "stdout",
     "output_type": "stream",
     "text": [
      "iteration : 141\n",
      "Epoch 1/1\n",
      " 8/16 [==============>...............] - ETA: 0s - loss: 8.0018 - acc: 0.2500"
     ]
    },
    {
     "name": "stderr",
     "output_type": "stream",
     "text": [
      "/opt/conda/lib/python3.6/site-packages/keras/engine/training.py:490: UserWarning: Discrepancy between trainable weights and collected trainable weights, did you set `model.trainable` without calling `model.compile` after ?\n",
      "  'Discrepancy between trainable weights and collected trainable'\n"
     ]
    },
    {
     "name": "stdout",
     "output_type": "stream",
     "text": [
      "16/16 [==============================] - 0s 23ms/step - loss: 7.2673 - acc: 0.1875\n",
      "Epoch 1/1\n",
      "8/8 [==============================] - 1s 97ms/step - loss: 18.5048 - model_1_loss: 1.3033e-04 - conv2d_20_loss: 0.1288\n",
      "\n",
      "Epoch 00001: loss did not improve from 16.82198\n"
     ]
    },
    {
     "name": "stderr",
     "output_type": "stream",
     "text": [
      "\n",
      "\n",
      "\n",
      "\n",
      "142it [09:41,  4.19s/it]\u001b[A\u001b[A\u001b[A\u001b[A"
     ]
    },
    {
     "name": "stdout",
     "output_type": "stream",
     "text": [
      "iteration : 142\n",
      "Epoch 1/1\n",
      " 8/16 [==============>...............] - ETA: 0s - loss: 6.1032 - acc: 0.1250"
     ]
    },
    {
     "name": "stderr",
     "output_type": "stream",
     "text": [
      "/opt/conda/lib/python3.6/site-packages/keras/engine/training.py:490: UserWarning: Discrepancy between trainable weights and collected trainable weights, did you set `model.trainable` without calling `model.compile` after ?\n",
      "  'Discrepancy between trainable weights and collected trainable'\n"
     ]
    },
    {
     "name": "stdout",
     "output_type": "stream",
     "text": [
      "16/16 [==============================] - 0s 24ms/step - loss: 7.1447 - acc: 0.1250\n",
      "Epoch 1/1\n",
      "8/8 [==============================] - 1s 99ms/step - loss: 18.0681 - model_1_loss: 7.0521e-04 - conv2d_20_loss: 0.1244\n",
      "\n",
      "Epoch 00001: loss did not improve from 16.82198\n"
     ]
    },
    {
     "name": "stderr",
     "output_type": "stream",
     "text": [
      "\n",
      "\n",
      "\n",
      "\n",
      "143it [09:45,  4.20s/it]\u001b[A\u001b[A\u001b[A\u001b[A"
     ]
    },
    {
     "name": "stdout",
     "output_type": "stream",
     "text": [
      "iteration : 143\n",
      "Epoch 1/1\n",
      " 8/16 [==============>...............] - ETA: 0s - loss: 7.6717 - acc: 0.0000e+00"
     ]
    },
    {
     "name": "stderr",
     "output_type": "stream",
     "text": [
      "/opt/conda/lib/python3.6/site-packages/keras/engine/training.py:490: UserWarning: Discrepancy between trainable weights and collected trainable weights, did you set `model.trainable` without calling `model.compile` after ?\n",
      "  'Discrepancy between trainable weights and collected trainable'\n"
     ]
    },
    {
     "name": "stdout",
     "output_type": "stream",
     "text": [
      "16/16 [==============================] - 0s 23ms/step - loss: 6.9812 - acc: 0.0625\n",
      "Epoch 1/1\n",
      "8/8 [==============================] - 1s 97ms/step - loss: 18.5306 - model_1_loss: 5.5221e-04 - conv2d_20_loss: 0.1290\n",
      "\n",
      "Epoch 00001: loss did not improve from 16.82198\n"
     ]
    },
    {
     "name": "stderr",
     "output_type": "stream",
     "text": [
      "\n",
      "\n",
      "\n",
      "\n",
      "144it [09:49,  4.19s/it]\u001b[A\u001b[A\u001b[A\u001b[A"
     ]
    },
    {
     "name": "stdout",
     "output_type": "stream",
     "text": [
      "iteration : 144\n",
      "Epoch 1/1\n",
      " 8/16 [==============>...............] - ETA: 0s - loss: 6.7391 - acc: 0.1250"
     ]
    },
    {
     "name": "stderr",
     "output_type": "stream",
     "text": [
      "/opt/conda/lib/python3.6/site-packages/keras/engine/training.py:490: UserWarning: Discrepancy between trainable weights and collected trainable weights, did you set `model.trainable` without calling `model.compile` after ?\n",
      "  'Discrepancy between trainable weights and collected trainable'\n"
     ]
    },
    {
     "name": "stdout",
     "output_type": "stream",
     "text": [
      "16/16 [==============================] - 0s 24ms/step - loss: 6.9618 - acc: 0.1250\n",
      "Epoch 1/1\n",
      "8/8 [==============================] - 1s 99ms/step - loss: 19.5937 - model_1_loss: 0.0016 - conv2d_20_loss: 0.1396\n",
      "\n",
      "Epoch 00001: loss did not improve from 16.82198\n"
     ]
    },
    {
     "name": "stderr",
     "output_type": "stream",
     "text": [
      "\n",
      "\n",
      "\n",
      "\n",
      "145it [09:53,  4.17s/it]\u001b[A\u001b[A\u001b[A\u001b[A"
     ]
    },
    {
     "name": "stdout",
     "output_type": "stream",
     "text": [
      "iteration : 145\n",
      "Epoch 1/1\n",
      " 8/16 [==============>...............] - ETA: 0s - loss: 7.2109 - acc: 0.0000e+00"
     ]
    },
    {
     "name": "stderr",
     "output_type": "stream",
     "text": [
      "/opt/conda/lib/python3.6/site-packages/keras/engine/training.py:490: UserWarning: Discrepancy between trainable weights and collected trainable weights, did you set `model.trainable` without calling `model.compile` after ?\n",
      "  'Discrepancy between trainable weights and collected trainable'\n"
     ]
    },
    {
     "name": "stdout",
     "output_type": "stream",
     "text": [
      "16/16 [==============================] - 0s 23ms/step - loss: 7.1350 - acc: 0.0000e+00\n",
      "Epoch 1/1\n",
      "8/8 [==============================] - 1s 97ms/step - loss: 18.8433 - model_1_loss: 0.0048 - conv2d_20_loss: 0.1320\n",
      "\n",
      "Epoch 00001: loss did not improve from 16.82198\n"
     ]
    },
    {
     "name": "stderr",
     "output_type": "stream",
     "text": [
      "\n",
      "\n",
      "\n",
      "\n",
      "146it [09:58,  4.13s/it]\u001b[A\u001b[A\u001b[A\u001b[A"
     ]
    },
    {
     "name": "stdout",
     "output_type": "stream",
     "text": [
      "iteration : 146\n",
      "Epoch 1/1\n",
      " 8/16 [==============>...............] - ETA: 0s - loss: 9.7780 - acc: 0.1250"
     ]
    },
    {
     "name": "stderr",
     "output_type": "stream",
     "text": [
      "/opt/conda/lib/python3.6/site-packages/keras/engine/training.py:490: UserWarning: Discrepancy between trainable weights and collected trainable weights, did you set `model.trainable` without calling `model.compile` after ?\n",
      "  'Discrepancy between trainable weights and collected trainable'\n"
     ]
    },
    {
     "name": "stdout",
     "output_type": "stream",
     "text": [
      "16/16 [==============================] - 0s 24ms/step - loss: 7.2339 - acc: 0.1250\n",
      "Epoch 1/1\n",
      "8/8 [==============================] - 1s 99ms/step - loss: 17.1261 - model_1_loss: 2.6556e-04 - conv2d_20_loss: 0.1150\n",
      "\n",
      "Epoch 00001: loss did not improve from 16.82198\n"
     ]
    },
    {
     "name": "stderr",
     "output_type": "stream",
     "text": [
      "\n",
      "\n",
      "\n",
      "\n",
      "147it [10:02,  4.15s/it]\u001b[A\u001b[A\u001b[A\u001b[A"
     ]
    },
    {
     "name": "stdout",
     "output_type": "stream",
     "text": [
      "iteration : 147\n",
      "Epoch 1/1\n",
      " 8/16 [==============>...............] - ETA: 0s - loss: 7.8117 - acc: 0.0000e+00"
     ]
    },
    {
     "name": "stderr",
     "output_type": "stream",
     "text": [
      "/opt/conda/lib/python3.6/site-packages/keras/engine/training.py:490: UserWarning: Discrepancy between trainable weights and collected trainable weights, did you set `model.trainable` without calling `model.compile` after ?\n",
      "  'Discrepancy between trainable weights and collected trainable'\n"
     ]
    },
    {
     "name": "stdout",
     "output_type": "stream",
     "text": [
      "16/16 [==============================] - 0s 23ms/step - loss: 6.3752 - acc: 0.1875\n",
      "Epoch 1/1\n",
      "8/8 [==============================] - 1s 100ms/step - loss: 17.3931 - model_1_loss: 9.8590e-04 - conv2d_20_loss: 0.1176\n",
      "\n",
      "Epoch 00001: loss did not improve from 16.82198\n"
     ]
    },
    {
     "name": "stderr",
     "output_type": "stream",
     "text": [
      "\n",
      "\n",
      "\n",
      "\n",
      "148it [10:06,  4.18s/it]\u001b[A\u001b[A\u001b[A\u001b[A"
     ]
    },
    {
     "name": "stdout",
     "output_type": "stream",
     "text": [
      "iteration : 148\n",
      "Epoch 1/1\n",
      " 8/16 [==============>...............] - ETA: 0s - loss: 6.7615 - acc: 0.0000e+00"
     ]
    },
    {
     "name": "stderr",
     "output_type": "stream",
     "text": [
      "/opt/conda/lib/python3.6/site-packages/keras/engine/training.py:490: UserWarning: Discrepancy between trainable weights and collected trainable weights, did you set `model.trainable` without calling `model.compile` after ?\n",
      "  'Discrepancy between trainable weights and collected trainable'\n"
     ]
    },
    {
     "name": "stdout",
     "output_type": "stream",
     "text": [
      "16/16 [==============================] - 0s 24ms/step - loss: 5.9592 - acc: 0.0625\n",
      "Epoch 1/1\n",
      "8/8 [==============================] - 1s 99ms/step - loss: 19.1053 - model_1_loss: 4.1622e-04 - conv2d_20_loss: 0.1348\n",
      "\n",
      "Epoch 00001: loss did not improve from 16.82198\n"
     ]
    },
    {
     "name": "stderr",
     "output_type": "stream",
     "text": [
      "\n",
      "\n",
      "\n",
      "\n",
      "149it [10:10,  4.19s/it]\u001b[A\u001b[A\u001b[A\u001b[A"
     ]
    },
    {
     "name": "stdout",
     "output_type": "stream",
     "text": [
      "iteration : 149\n",
      "Epoch 1/1\n",
      " 8/16 [==============>...............] - ETA: 0s - loss: 6.5550 - acc: 0.0000e+00"
     ]
    },
    {
     "name": "stderr",
     "output_type": "stream",
     "text": [
      "/opt/conda/lib/python3.6/site-packages/keras/engine/training.py:490: UserWarning: Discrepancy between trainable weights and collected trainable weights, did you set `model.trainable` without calling `model.compile` after ?\n",
      "  'Discrepancy between trainable weights and collected trainable'\n"
     ]
    },
    {
     "name": "stdout",
     "output_type": "stream",
     "text": [
      "16/16 [==============================] - 0s 23ms/step - loss: 6.4673 - acc: 0.0625\n",
      "Epoch 1/1\n",
      "8/8 [==============================] - 1s 97ms/step - loss: 16.9860 - model_1_loss: 0.0029 - conv2d_20_loss: 0.1135\n",
      "\n",
      "Epoch 00001: loss did not improve from 16.82198\n"
     ]
    },
    {
     "name": "stderr",
     "output_type": "stream",
     "text": [
      "\n",
      "\n",
      "\n",
      "\n",
      "150it [10:14,  4.20s/it]\u001b[A\u001b[A\u001b[A\u001b[A"
     ]
    },
    {
     "name": "stdout",
     "output_type": "stream",
     "text": [
      "iteration : 150\n",
      "Epoch 1/1\n",
      " 8/16 [==============>...............] - ETA: 0s - loss: 6.7763 - acc: 0.2500"
     ]
    },
    {
     "name": "stderr",
     "output_type": "stream",
     "text": [
      "/opt/conda/lib/python3.6/site-packages/keras/engine/training.py:490: UserWarning: Discrepancy between trainable weights and collected trainable weights, did you set `model.trainable` without calling `model.compile` after ?\n",
      "  'Discrepancy between trainable weights and collected trainable'\n"
     ]
    },
    {
     "name": "stdout",
     "output_type": "stream",
     "text": [
      "16/16 [==============================] - 0s 24ms/step - loss: 6.6164 - acc: 0.3125\n",
      "Epoch 1/1\n",
      "8/8 [==============================] - 1s 99ms/step - loss: 17.7730 - model_1_loss: 1.1224e-04 - conv2d_20_loss: 0.1215\n",
      "\n",
      "Epoch 00001: loss did not improve from 16.82198\n"
     ]
    },
    {
     "name": "stderr",
     "output_type": "stream",
     "text": [
      "\n",
      "\n",
      "\n",
      "\n",
      "\n",
      "0it [00:00, ?it/s]\u001b[A\u001b[A\u001b[A\u001b[A\u001b[A"
     ]
    },
    {
     "name": "stdout",
     "output_type": "stream",
     "text": [
      "Epoch 4\n",
      "iteration : 0\n",
      "Epoch 1/1\n",
      " 8/16 [==============>...............] - ETA: 0s - loss: 3.6252 - acc: 0.1250"
     ]
    },
    {
     "name": "stderr",
     "output_type": "stream",
     "text": [
      "/opt/conda/lib/python3.6/site-packages/keras/engine/training.py:490: UserWarning: Discrepancy between trainable weights and collected trainable weights, did you set `model.trainable` without calling `model.compile` after ?\n",
      "  'Discrepancy between trainable weights and collected trainable'\n"
     ]
    },
    {
     "name": "stdout",
     "output_type": "stream",
     "text": [
      "16/16 [==============================] - 0s 23ms/step - loss: 6.2365 - acc: 0.0625\n",
      "Epoch 1/1\n",
      "8/8 [==============================] - 1s 97ms/step - loss: 17.5407 - model_1_loss: 0.0174 - conv2d_20_loss: 0.1183\n",
      "\n",
      "Epoch 00001: loss did not improve from 16.82198\n"
     ]
    },
    {
     "name": "stderr",
     "output_type": "stream",
     "text": [
      "\n",
      "\n",
      "\n",
      "\n",
      "\n",
      "1it [00:04,  4.16s/it]\u001b[A\u001b[A\u001b[A\u001b[A\u001b[A"
     ]
    },
    {
     "name": "stdout",
     "output_type": "stream",
     "text": [
      "iteration : 1\n",
      "Epoch 1/1\n",
      " 8/16 [==============>...............] - ETA: 0s - loss: 4.3425 - acc: 0.1250"
     ]
    },
    {
     "name": "stderr",
     "output_type": "stream",
     "text": [
      "/opt/conda/lib/python3.6/site-packages/keras/engine/training.py:490: UserWarning: Discrepancy between trainable weights and collected trainable weights, did you set `model.trainable` without calling `model.compile` after ?\n",
      "  'Discrepancy between trainable weights and collected trainable'\n"
     ]
    },
    {
     "name": "stdout",
     "output_type": "stream",
     "text": [
      "16/16 [==============================] - 0s 24ms/step - loss: 5.5010 - acc: 0.1250\n",
      "Epoch 1/1\n",
      "8/8 [==============================] - 1s 98ms/step - loss: 17.9489 - model_1_loss: 0.0030 - conv2d_20_loss: 0.1231\n",
      "\n",
      "Epoch 00001: loss did not improve from 16.82198\n"
     ]
    },
    {
     "name": "stderr",
     "output_type": "stream",
     "text": [
      "\n",
      "\n",
      "\n",
      "\n",
      "\n",
      "2it [00:08,  4.18s/it]\u001b[A\u001b[A\u001b[A\u001b[A\u001b[A"
     ]
    },
    {
     "name": "stdout",
     "output_type": "stream",
     "text": [
      "iteration : 2\n",
      "Epoch 1/1\n",
      " 8/16 [==============>...............] - ETA: 0s - loss: 3.4487 - acc: 0.3750"
     ]
    },
    {
     "name": "stderr",
     "output_type": "stream",
     "text": [
      "/opt/conda/lib/python3.6/site-packages/keras/engine/training.py:490: UserWarning: Discrepancy between trainable weights and collected trainable weights, did you set `model.trainable` without calling `model.compile` after ?\n",
      "  'Discrepancy between trainable weights and collected trainable'\n"
     ]
    },
    {
     "name": "stdout",
     "output_type": "stream",
     "text": [
      "16/16 [==============================] - 0s 23ms/step - loss: 6.2470 - acc: 0.1875\n",
      "Epoch 1/1\n",
      "8/8 [==============================] - 1s 97ms/step - loss: 18.5464 - model_1_loss: 5.5714e-04 - conv2d_20_loss: 0.1292\n",
      "\n",
      "Epoch 00001: loss did not improve from 16.82198\n"
     ]
    },
    {
     "name": "stderr",
     "output_type": "stream",
     "text": [
      "\n",
      "\n",
      "\n",
      "\n",
      "\n",
      "3it [00:12,  4.18s/it]\u001b[A\u001b[A\u001b[A\u001b[A\u001b[A"
     ]
    },
    {
     "name": "stdout",
     "output_type": "stream",
     "text": [
      "iteration : 3\n",
      "Epoch 1/1\n",
      " 8/16 [==============>...............] - ETA: 0s - loss: 8.4644 - acc: 0.1250"
     ]
    },
    {
     "name": "stderr",
     "output_type": "stream",
     "text": [
      "/opt/conda/lib/python3.6/site-packages/keras/engine/training.py:490: UserWarning: Discrepancy between trainable weights and collected trainable weights, did you set `model.trainable` without calling `model.compile` after ?\n",
      "  'Discrepancy between trainable weights and collected trainable'\n"
     ]
    },
    {
     "name": "stdout",
     "output_type": "stream",
     "text": [
      "16/16 [==============================] - 0s 24ms/step - loss: 7.4246 - acc: 0.2500\n",
      "Epoch 1/1\n",
      "8/8 [==============================] - 1s 99ms/step - loss: 17.3160 - model_1_loss: 2.3628e-04 - conv2d_20_loss: 0.1169\n",
      "\n",
      "Epoch 00001: loss did not improve from 16.82198\n"
     ]
    },
    {
     "name": "stderr",
     "output_type": "stream",
     "text": [
      "\n",
      "\n",
      "\n",
      "\n",
      "\n",
      "4it [00:16,  4.19s/it]\u001b[A\u001b[A\u001b[A\u001b[A\u001b[A"
     ]
    },
    {
     "name": "stdout",
     "output_type": "stream",
     "text": [
      "iteration : 4\n",
      "Epoch 1/1\n",
      " 8/16 [==============>...............] - ETA: 0s - loss: 7.4538 - acc: 0.1250"
     ]
    },
    {
     "name": "stderr",
     "output_type": "stream",
     "text": [
      "/opt/conda/lib/python3.6/site-packages/keras/engine/training.py:490: UserWarning: Discrepancy between trainable weights and collected trainable weights, did you set `model.trainable` without calling `model.compile` after ?\n",
      "  'Discrepancy between trainable weights and collected trainable'\n"
     ]
    },
    {
     "name": "stdout",
     "output_type": "stream",
     "text": [
      "16/16 [==============================] - 0s 23ms/step - loss: 6.7737 - acc: 0.0625\n",
      "Epoch 1/1\n",
      "8/8 [==============================] - 1s 97ms/step - loss: 18.4410 - model_1_loss: 0.0100 - conv2d_20_loss: 0.1277\n",
      "\n",
      "Epoch 00001: loss did not improve from 16.82198\n"
     ]
    },
    {
     "name": "stderr",
     "output_type": "stream",
     "text": [
      "\n",
      "\n",
      "\n",
      "\n",
      "\n",
      "5it [00:20,  4.19s/it]\u001b[A\u001b[A\u001b[A\u001b[A\u001b[A"
     ]
    },
    {
     "name": "stdout",
     "output_type": "stream",
     "text": [
      "iteration : 5\n",
      "Epoch 1/1\n",
      " 8/16 [==============>...............] - ETA: 0s - loss: 9.9008 - acc: 0.1250"
     ]
    },
    {
     "name": "stderr",
     "output_type": "stream",
     "text": [
      "/opt/conda/lib/python3.6/site-packages/keras/engine/training.py:490: UserWarning: Discrepancy between trainable weights and collected trainable weights, did you set `model.trainable` without calling `model.compile` after ?\n",
      "  'Discrepancy between trainable weights and collected trainable'\n"
     ]
    },
    {
     "name": "stdout",
     "output_type": "stream",
     "text": [
      "16/16 [==============================] - 0s 24ms/step - loss: 7.7265 - acc: 0.0625\n",
      "Epoch 1/1\n",
      "8/8 [==============================] - 1s 98ms/step - loss: 17.4493 - model_1_loss: 4.1898e-04 - conv2d_20_loss: 0.1182\n",
      "\n",
      "Epoch 00001: loss did not improve from 16.82198\n"
     ]
    },
    {
     "name": "stderr",
     "output_type": "stream",
     "text": [
      "\n",
      "\n",
      "\n",
      "\n",
      "\n",
      "6it [00:25,  4.20s/it]\u001b[A\u001b[A\u001b[A\u001b[A\u001b[A"
     ]
    },
    {
     "name": "stdout",
     "output_type": "stream",
     "text": [
      "iteration : 6\n",
      "Epoch 1/1\n",
      " 8/16 [==============>...............] - ETA: 0s - loss: 6.4753 - acc: 0.2500"
     ]
    },
    {
     "name": "stderr",
     "output_type": "stream",
     "text": [
      "/opt/conda/lib/python3.6/site-packages/keras/engine/training.py:490: UserWarning: Discrepancy between trainable weights and collected trainable weights, did you set `model.trainable` without calling `model.compile` after ?\n",
      "  'Discrepancy between trainable weights and collected trainable'\n"
     ]
    },
    {
     "name": "stdout",
     "output_type": "stream",
     "text": [
      "16/16 [==============================] - 0s 23ms/step - loss: 7.1148 - acc: 0.1875\n",
      "Epoch 1/1\n",
      "8/8 [==============================] - 1s 97ms/step - loss: 17.6465 - model_1_loss: 0.0034 - conv2d_20_loss: 0.1201\n",
      "\n",
      "Epoch 00001: loss did not improve from 16.82198\n"
     ]
    },
    {
     "name": "stderr",
     "output_type": "stream",
     "text": [
      "\n",
      "\n",
      "\n",
      "\n",
      "\n",
      "7it [00:29,  4.19s/it]\u001b[A\u001b[A\u001b[A\u001b[A\u001b[A"
     ]
    },
    {
     "name": "stdout",
     "output_type": "stream",
     "text": [
      "iteration : 7\n",
      "Epoch 1/1\n",
      " 8/16 [==============>...............] - ETA: 0s - loss: 5.1810 - acc: 0.3750"
     ]
    },
    {
     "name": "stderr",
     "output_type": "stream",
     "text": [
      "/opt/conda/lib/python3.6/site-packages/keras/engine/training.py:490: UserWarning: Discrepancy between trainable weights and collected trainable weights, did you set `model.trainable` without calling `model.compile` after ?\n",
      "  'Discrepancy between trainable weights and collected trainable'\n"
     ]
    },
    {
     "name": "stdout",
     "output_type": "stream",
     "text": [
      "16/16 [==============================] - 0s 24ms/step - loss: 5.6610 - acc: 0.3125\n",
      "Epoch 1/1\n",
      "8/8 [==============================] - 1s 98ms/step - loss: 17.9328 - model_1_loss: 0.0014 - conv2d_20_loss: 0.1230\n",
      "\n",
      "Epoch 00001: loss did not improve from 16.82198\n"
     ]
    },
    {
     "name": "stderr",
     "output_type": "stream",
     "text": [
      "\n",
      "\n",
      "\n",
      "\n",
      "\n",
      "8it [00:33,  4.20s/it]\u001b[A\u001b[A\u001b[A\u001b[A\u001b[A"
     ]
    },
    {
     "name": "stdout",
     "output_type": "stream",
     "text": [
      "iteration : 8\n",
      "Epoch 1/1\n",
      " 8/16 [==============>...............] - ETA: 0s - loss: 5.5579 - acc: 0.1250"
     ]
    },
    {
     "name": "stderr",
     "output_type": "stream",
     "text": [
      "/opt/conda/lib/python3.6/site-packages/keras/engine/training.py:490: UserWarning: Discrepancy between trainable weights and collected trainable weights, did you set `model.trainable` without calling `model.compile` after ?\n",
      "  'Discrepancy between trainable weights and collected trainable'\n"
     ]
    },
    {
     "name": "stdout",
     "output_type": "stream",
     "text": [
      "16/16 [==============================] - 0s 23ms/step - loss: 6.7213 - acc: 0.0625\n",
      "Epoch 1/1\n",
      "8/8 [==============================] - 1s 97ms/step - loss: 17.7433 - model_1_loss: 0.0021 - conv2d_20_loss: 0.1211\n",
      "\n",
      "Epoch 00001: loss did not improve from 16.82198\n"
     ]
    },
    {
     "name": "stderr",
     "output_type": "stream",
     "text": [
      "\n",
      "\n",
      "\n",
      "\n",
      "\n",
      "9it [00:37,  4.20s/it]\u001b[A\u001b[A\u001b[A\u001b[A\u001b[A"
     ]
    },
    {
     "name": "stdout",
     "output_type": "stream",
     "text": [
      "iteration : 9\n",
      "Epoch 1/1\n",
      " 8/16 [==============>...............] - ETA: 0s - loss: 6.4805 - acc: 0.3750"
     ]
    },
    {
     "name": "stderr",
     "output_type": "stream",
     "text": [
      "/opt/conda/lib/python3.6/site-packages/keras/engine/training.py:490: UserWarning: Discrepancy between trainable weights and collected trainable weights, did you set `model.trainable` without calling `model.compile` after ?\n",
      "  'Discrepancy between trainable weights and collected trainable'\n"
     ]
    },
    {
     "name": "stdout",
     "output_type": "stream",
     "text": [
      "16/16 [==============================] - 0s 24ms/step - loss: 6.7809 - acc: 0.3125\n",
      "Epoch 1/1\n",
      "8/8 [==============================] - 1s 99ms/step - loss: 17.6128 - model_1_loss: 2.7986e-04 - conv2d_20_loss: 0.1199\n",
      "\n",
      "Epoch 00001: loss did not improve from 16.82198\n"
     ]
    },
    {
     "name": "stderr",
     "output_type": "stream",
     "text": [
      "\n",
      "\n",
      "\n",
      "\n",
      "\n",
      "10it [00:42,  4.21s/it]\u001b[A\u001b[A\u001b[A\u001b[A\u001b[A"
     ]
    },
    {
     "name": "stdout",
     "output_type": "stream",
     "text": [
      "iteration : 10\n",
      "Epoch 1/1\n",
      " 8/16 [==============>...............] - ETA: 0s - loss: 7.4759 - acc: 0.1250"
     ]
    },
    {
     "name": "stderr",
     "output_type": "stream",
     "text": [
      "/opt/conda/lib/python3.6/site-packages/keras/engine/training.py:490: UserWarning: Discrepancy between trainable weights and collected trainable weights, did you set `model.trainable` without calling `model.compile` after ?\n",
      "  'Discrepancy between trainable weights and collected trainable'\n"
     ]
    },
    {
     "name": "stdout",
     "output_type": "stream",
     "text": [
      "16/16 [==============================] - 0s 23ms/step - loss: 7.8919 - acc: 0.1250\n",
      "Epoch 1/1\n",
      "8/8 [==============================] - 1s 97ms/step - loss: 16.9790 - model_1_loss: 3.1808e-05 - conv2d_20_loss: 0.1136\n",
      "\n",
      "Epoch 00001: loss did not improve from 16.82198\n"
     ]
    },
    {
     "name": "stderr",
     "output_type": "stream",
     "text": [
      "\n",
      "\n",
      "\n",
      "\n",
      "\n",
      "11it [00:46,  4.21s/it]\u001b[A\u001b[A\u001b[A\u001b[A\u001b[A"
     ]
    },
    {
     "name": "stdout",
     "output_type": "stream",
     "text": [
      "iteration : 11\n",
      "Epoch 1/1\n",
      " 8/16 [==============>...............] - ETA: 0s - loss: 5.2384 - acc: 0.2500"
     ]
    },
    {
     "name": "stderr",
     "output_type": "stream",
     "text": [
      "/opt/conda/lib/python3.6/site-packages/keras/engine/training.py:490: UserWarning: Discrepancy between trainable weights and collected trainable weights, did you set `model.trainable` without calling `model.compile` after ?\n",
      "  'Discrepancy between trainable weights and collected trainable'\n"
     ]
    },
    {
     "name": "stdout",
     "output_type": "stream",
     "text": [
      "16/16 [==============================] - 0s 24ms/step - loss: 6.1217 - acc: 0.3125\n",
      "Epoch 1/1\n",
      "8/8 [==============================] - 1s 99ms/step - loss: 21.2372 - model_1_loss: 0.0014 - conv2d_20_loss: 0.1561\n",
      "\n",
      "Epoch 00001: loss did not improve from 16.82198\n"
     ]
    },
    {
     "name": "stderr",
     "output_type": "stream",
     "text": [
      "\n",
      "\n",
      "\n",
      "\n",
      "\n",
      "12it [00:50,  4.21s/it]\u001b[A\u001b[A\u001b[A\u001b[A\u001b[A"
     ]
    },
    {
     "name": "stdout",
     "output_type": "stream",
     "text": [
      "iteration : 12\n",
      "Epoch 1/1\n",
      " 8/16 [==============>...............] - ETA: 0s - loss: 4.5625 - acc: 0.5000"
     ]
    },
    {
     "name": "stderr",
     "output_type": "stream",
     "text": [
      "/opt/conda/lib/python3.6/site-packages/keras/engine/training.py:490: UserWarning: Discrepancy between trainable weights and collected trainable weights, did you set `model.trainable` without calling `model.compile` after ?\n",
      "  'Discrepancy between trainable weights and collected trainable'\n"
     ]
    },
    {
     "name": "stdout",
     "output_type": "stream",
     "text": [
      "16/16 [==============================] - 0s 23ms/step - loss: 7.5951 - acc: 0.2500\n",
      "Epoch 1/1\n",
      "8/8 [==============================] - 1s 98ms/step - loss: 16.6115 - model_1_loss: 2.5663e-04 - conv2d_20_loss: 0.1099\n",
      "\n",
      "Epoch 00001: loss improved from 16.82198 to 16.61147, saving model to weights-improvement.hdf5\n"
     ]
    },
    {
     "name": "stderr",
     "output_type": "stream",
     "text": [
      "\n",
      "\n",
      "\n",
      "\n",
      "\n",
      "13it [00:55,  4.38s/it]\u001b[A\u001b[A\u001b[A\u001b[A\u001b[A"
     ]
    },
    {
     "name": "stdout",
     "output_type": "stream",
     "text": [
      "iteration : 13\n",
      "Epoch 1/1\n",
      " 8/16 [==============>...............] - ETA: 0s - loss: 5.6310 - acc: 0.2500"
     ]
    },
    {
     "name": "stderr",
     "output_type": "stream",
     "text": [
      "/opt/conda/lib/python3.6/site-packages/keras/engine/training.py:490: UserWarning: Discrepancy between trainable weights and collected trainable weights, did you set `model.trainable` without calling `model.compile` after ?\n",
      "  'Discrepancy between trainable weights and collected trainable'\n"
     ]
    },
    {
     "name": "stdout",
     "output_type": "stream",
     "text": [
      "16/16 [==============================] - 0s 24ms/step - loss: 6.0316 - acc: 0.2500\n",
      "Epoch 1/1\n",
      "8/8 [==============================] - 1s 98ms/step - loss: 17.4636 - model_1_loss: 5.3181e-05 - conv2d_20_loss: 0.1184\n",
      "\n",
      "Epoch 00001: loss did not improve from 16.61147\n"
     ]
    },
    {
     "name": "stderr",
     "output_type": "stream",
     "text": [
      "\n",
      "\n",
      "\n",
      "\n",
      "\n",
      "14it [00:59,  4.38s/it]\u001b[A\u001b[A\u001b[A\u001b[A\u001b[A"
     ]
    },
    {
     "name": "stdout",
     "output_type": "stream",
     "text": [
      "iteration : 14\n",
      "Epoch 1/1\n",
      " 8/16 [==============>...............] - ETA: 0s - loss: 4.6891 - acc: 0.1250"
     ]
    },
    {
     "name": "stderr",
     "output_type": "stream",
     "text": [
      "/opt/conda/lib/python3.6/site-packages/keras/engine/training.py:490: UserWarning: Discrepancy between trainable weights and collected trainable weights, did you set `model.trainable` without calling `model.compile` after ?\n",
      "  'Discrepancy between trainable weights and collected trainable'\n"
     ]
    },
    {
     "name": "stdout",
     "output_type": "stream",
     "text": [
      "16/16 [==============================] - 0s 23ms/step - loss: 6.6365 - acc: 0.0625\n",
      "Epoch 1/1\n",
      "8/8 [==============================] - 1s 97ms/step - loss: 17.4790 - model_1_loss: 5.3177e-05 - conv2d_20_loss: 0.1186\n",
      "\n",
      "Epoch 00001: loss did not improve from 16.61147\n"
     ]
    },
    {
     "name": "stderr",
     "output_type": "stream",
     "text": [
      "\n",
      "\n",
      "\n",
      "\n",
      "\n",
      "15it [01:03,  4.33s/it]\u001b[A\u001b[A\u001b[A\u001b[A\u001b[A"
     ]
    },
    {
     "name": "stdout",
     "output_type": "stream",
     "text": [
      "iteration : 15\n",
      "Epoch 1/1\n",
      " 8/16 [==============>...............] - ETA: 0s - loss: 5.1196 - acc: 0.3750"
     ]
    },
    {
     "name": "stderr",
     "output_type": "stream",
     "text": [
      "/opt/conda/lib/python3.6/site-packages/keras/engine/training.py:490: UserWarning: Discrepancy between trainable weights and collected trainable weights, did you set `model.trainable` without calling `model.compile` after ?\n",
      "  'Discrepancy between trainable weights and collected trainable'\n"
     ]
    },
    {
     "name": "stdout",
     "output_type": "stream",
     "text": [
      "16/16 [==============================] - 0s 24ms/step - loss: 5.6531 - acc: 0.3125\n",
      "Epoch 1/1\n",
      "8/8 [==============================] - 1s 99ms/step - loss: 18.5730 - model_1_loss: 0.0025 - conv2d_20_loss: 0.1294\n",
      "\n",
      "Epoch 00001: loss did not improve from 16.61147\n"
     ]
    },
    {
     "name": "stderr",
     "output_type": "stream",
     "text": [
      "\n",
      "\n",
      "\n",
      "\n",
      "\n",
      "16it [01:08,  4.31s/it]\u001b[A\u001b[A\u001b[A\u001b[A\u001b[A"
     ]
    },
    {
     "name": "stdout",
     "output_type": "stream",
     "text": [
      "iteration : 16\n",
      "Epoch 1/1\n",
      " 8/16 [==============>...............] - ETA: 0s - loss: 7.1169 - acc: 0.2500"
     ]
    },
    {
     "name": "stderr",
     "output_type": "stream",
     "text": [
      "/opt/conda/lib/python3.6/site-packages/keras/engine/training.py:490: UserWarning: Discrepancy between trainable weights and collected trainable weights, did you set `model.trainable` without calling `model.compile` after ?\n",
      "  'Discrepancy between trainable weights and collected trainable'\n"
     ]
    },
    {
     "name": "stdout",
     "output_type": "stream",
     "text": [
      "16/16 [==============================] - 0s 23ms/step - loss: 6.7747 - acc: 0.1875\n",
      "Epoch 1/1\n",
      "8/8 [==============================] - 1s 97ms/step - loss: 17.1919 - model_1_loss: 2.3511e-04 - conv2d_20_loss: 0.1157\n",
      "\n",
      "Epoch 00001: loss did not improve from 16.61147\n"
     ]
    },
    {
     "name": "stderr",
     "output_type": "stream",
     "text": [
      "\n",
      "\n",
      "\n",
      "\n",
      "\n",
      "17it [01:12,  4.28s/it]\u001b[A\u001b[A\u001b[A\u001b[A\u001b[A"
     ]
    },
    {
     "name": "stdout",
     "output_type": "stream",
     "text": [
      "iteration : 17\n"
     ]
    },
    {
     "name": "stderr",
     "output_type": "stream",
     "text": [
      "/opt/conda/lib/python3.6/site-packages/keras/engine/training.py:490: UserWarning: Discrepancy between trainable weights and collected trainable weights, did you set `model.trainable` without calling `model.compile` after ?\n",
      "  'Discrepancy between trainable weights and collected trainable'\n"
     ]
    },
    {
     "name": "stdout",
     "output_type": "stream",
     "text": [
      "Epoch 1/1\n",
      "16/16 [==============================] - 0s 25ms/step - loss: 6.0988 - acc: 0.2500\n",
      "Epoch 1/1\n",
      "8/8 [==============================] - 1s 99ms/step - loss: 17.2040 - model_1_loss: 8.1545e-05 - conv2d_20_loss: 0.1158\n",
      "\n",
      "Epoch 00001: loss did not improve from 16.61147\n"
     ]
    },
    {
     "name": "stderr",
     "output_type": "stream",
     "text": [
      "\n",
      "\n",
      "\n",
      "\n",
      "\n",
      "18it [01:16,  4.27s/it]\u001b[A\u001b[A\u001b[A\u001b[A\u001b[A"
     ]
    },
    {
     "name": "stdout",
     "output_type": "stream",
     "text": [
      "iteration : 18\n",
      "Epoch 1/1\n",
      " 8/16 [==============>...............] - ETA: 0s - loss: 5.6937 - acc: 0.3750"
     ]
    },
    {
     "name": "stderr",
     "output_type": "stream",
     "text": [
      "/opt/conda/lib/python3.6/site-packages/keras/engine/training.py:490: UserWarning: Discrepancy between trainable weights and collected trainable weights, did you set `model.trainable` without calling `model.compile` after ?\n",
      "  'Discrepancy between trainable weights and collected trainable'\n"
     ]
    },
    {
     "name": "stdout",
     "output_type": "stream",
     "text": [
      "16/16 [==============================] - 0s 23ms/step - loss: 5.6212 - acc: 0.3125\n",
      "Epoch 1/1\n",
      "8/8 [==============================] - 1s 97ms/step - loss: 18.1664 - model_1_loss: 4.4901e-04 - conv2d_20_loss: 0.1254\n",
      "\n",
      "Epoch 00001: loss did not improve from 16.61147\n"
     ]
    },
    {
     "name": "stderr",
     "output_type": "stream",
     "text": [
      "\n",
      "\n",
      "\n",
      "\n",
      "\n",
      "19it [01:20,  4.25s/it]\u001b[A\u001b[A\u001b[A\u001b[A\u001b[A"
     ]
    },
    {
     "name": "stdout",
     "output_type": "stream",
     "text": [
      "iteration : 19\n",
      "Epoch 1/1\n",
      " 8/16 [==============>...............] - ETA: 0s - loss: 4.0287 - acc: 0.3750"
     ]
    },
    {
     "name": "stderr",
     "output_type": "stream",
     "text": [
      "/opt/conda/lib/python3.6/site-packages/keras/engine/training.py:490: UserWarning: Discrepancy between trainable weights and collected trainable weights, did you set `model.trainable` without calling `model.compile` after ?\n",
      "  'Discrepancy between trainable weights and collected trainable'\n"
     ]
    },
    {
     "name": "stdout",
     "output_type": "stream",
     "text": [
      "16/16 [==============================] - 0s 24ms/step - loss: 5.4096 - acc: 0.1875\n",
      "Epoch 1/1\n",
      "8/8 [==============================] - 1s 99ms/step - loss: 18.6211 - model_1_loss: 2.5773e-05 - conv2d_20_loss: 0.1300\n",
      "\n",
      "Epoch 00001: loss did not improve from 16.61147\n"
     ]
    },
    {
     "name": "stderr",
     "output_type": "stream",
     "text": [
      "\n",
      "\n",
      "\n",
      "\n",
      "\n",
      "20it [01:24,  4.24s/it]\u001b[A\u001b[A\u001b[A\u001b[A\u001b[A"
     ]
    },
    {
     "name": "stdout",
     "output_type": "stream",
     "text": [
      "iteration : 20\n",
      "Epoch 1/1\n",
      " 8/16 [==============>...............] - ETA: 0s - loss: 6.6131 - acc: 0.2500"
     ]
    },
    {
     "name": "stderr",
     "output_type": "stream",
     "text": [
      "/opt/conda/lib/python3.6/site-packages/keras/engine/training.py:490: UserWarning: Discrepancy between trainable weights and collected trainable weights, did you set `model.trainable` without calling `model.compile` after ?\n",
      "  'Discrepancy between trainable weights and collected trainable'\n"
     ]
    },
    {
     "name": "stdout",
     "output_type": "stream",
     "text": [
      "16/16 [==============================] - 0s 23ms/step - loss: 7.4445 - acc: 0.1250\n",
      "Epoch 1/1\n",
      "8/8 [==============================] - 1s 96ms/step - loss: 17.4970 - model_1_loss: 0.0028 - conv2d_20_loss: 0.1186\n",
      "\n",
      "Epoch 00001: loss did not improve from 16.61147\n"
     ]
    },
    {
     "name": "stderr",
     "output_type": "stream",
     "text": [
      "\n",
      "\n",
      "\n",
      "\n",
      "\n",
      "21it [01:28,  4.18s/it]\u001b[A\u001b[A\u001b[A\u001b[A\u001b[A"
     ]
    },
    {
     "name": "stdout",
     "output_type": "stream",
     "text": [
      "iteration : 21\n",
      "Epoch 1/1\n",
      " 8/16 [==============>...............] - ETA: 0s - loss: 7.9106 - acc: 0.0000e+00"
     ]
    },
    {
     "name": "stderr",
     "output_type": "stream",
     "text": [
      "/opt/conda/lib/python3.6/site-packages/keras/engine/training.py:490: UserWarning: Discrepancy between trainable weights and collected trainable weights, did you set `model.trainable` without calling `model.compile` after ?\n",
      "  'Discrepancy between trainable weights and collected trainable'\n"
     ]
    },
    {
     "name": "stdout",
     "output_type": "stream",
     "text": [
      "16/16 [==============================] - 0s 23ms/step - loss: 7.2415 - acc: 0.0625\n",
      "Epoch 1/1\n",
      "8/8 [==============================] - 1s 98ms/step - loss: 17.8853 - model_1_loss: 3.0101e-06 - conv2d_20_loss: 0.1226\n",
      "\n",
      "Epoch 00001: loss did not improve from 16.61147\n"
     ]
    },
    {
     "name": "stderr",
     "output_type": "stream",
     "text": [
      "\n",
      "\n",
      "\n",
      "\n",
      "\n",
      "22it [01:33,  4.14s/it]\u001b[A\u001b[A\u001b[A\u001b[A\u001b[A"
     ]
    },
    {
     "name": "stdout",
     "output_type": "stream",
     "text": [
      "iteration : 22\n",
      "Epoch 1/1\n",
      " 8/16 [==============>...............] - ETA: 0s - loss: 7.7645 - acc: 0.1250"
     ]
    },
    {
     "name": "stderr",
     "output_type": "stream",
     "text": [
      "/opt/conda/lib/python3.6/site-packages/keras/engine/training.py:490: UserWarning: Discrepancy between trainable weights and collected trainable weights, did you set `model.trainable` without calling `model.compile` after ?\n",
      "  'Discrepancy between trainable weights and collected trainable'\n"
     ]
    },
    {
     "name": "stdout",
     "output_type": "stream",
     "text": [
      "16/16 [==============================] - 0s 23ms/step - loss: 7.0070 - acc: 0.1875\n",
      "Epoch 1/1\n",
      "8/8 [==============================] - 1s 97ms/step - loss: 17.7928 - model_1_loss: 5.4566e-05 - conv2d_20_loss: 0.1217\n",
      "\n",
      "Epoch 00001: loss did not improve from 16.61147\n"
     ]
    },
    {
     "name": "stderr",
     "output_type": "stream",
     "text": [
      "\n",
      "\n",
      "\n",
      "\n",
      "\n",
      "23it [01:37,  4.13s/it]\u001b[A\u001b[A\u001b[A\u001b[A\u001b[A"
     ]
    },
    {
     "name": "stdout",
     "output_type": "stream",
     "text": [
      "iteration : 23\n",
      "Epoch 1/1\n",
      " 8/16 [==============>...............] - ETA: 0s - loss: 9.4685 - acc: 0.2500"
     ]
    },
    {
     "name": "stderr",
     "output_type": "stream",
     "text": [
      "/opt/conda/lib/python3.6/site-packages/keras/engine/training.py:490: UserWarning: Discrepancy between trainable weights and collected trainable weights, did you set `model.trainable` without calling `model.compile` after ?\n",
      "  'Discrepancy between trainable weights and collected trainable'\n"
     ]
    },
    {
     "name": "stdout",
     "output_type": "stream",
     "text": [
      "16/16 [==============================] - 0s 24ms/step - loss: 7.1237 - acc: 0.1875\n",
      "Epoch 1/1\n",
      "8/8 [==============================] - 1s 98ms/step - loss: 17.8235 - model_1_loss: 0.0016 - conv2d_20_loss: 0.1219\n",
      "\n",
      "Epoch 00001: loss did not improve from 16.61147\n"
     ]
    },
    {
     "name": "stderr",
     "output_type": "stream",
     "text": [
      "\n",
      "\n",
      "\n",
      "\n",
      "\n",
      "24it [01:41,  4.15s/it]\u001b[A\u001b[A\u001b[A\u001b[A\u001b[A"
     ]
    },
    {
     "name": "stdout",
     "output_type": "stream",
     "text": [
      "iteration : 24\n",
      "Epoch 1/1\n",
      " 8/16 [==============>...............] - ETA: 0s - loss: 5.6446 - acc: 0.0000e+00"
     ]
    },
    {
     "name": "stderr",
     "output_type": "stream",
     "text": [
      "/opt/conda/lib/python3.6/site-packages/keras/engine/training.py:490: UserWarning: Discrepancy between trainable weights and collected trainable weights, did you set `model.trainable` without calling `model.compile` after ?\n",
      "  'Discrepancy between trainable weights and collected trainable'\n"
     ]
    },
    {
     "name": "stdout",
     "output_type": "stream",
     "text": [
      "16/16 [==============================] - 0s 23ms/step - loss: 5.7807 - acc: 0.1875\n",
      "Epoch 1/1\n",
      "8/8 [==============================] - 1s 97ms/step - loss: 17.6390 - model_1_loss: 1.7674e-04 - conv2d_20_loss: 0.1202\n",
      "\n",
      "Epoch 00001: loss did not improve from 16.61147\n"
     ]
    },
    {
     "name": "stderr",
     "output_type": "stream",
     "text": [
      "\n",
      "\n",
      "\n",
      "\n",
      "\n",
      "25it [01:45,  4.18s/it]\u001b[A\u001b[A\u001b[A\u001b[A\u001b[A"
     ]
    },
    {
     "name": "stdout",
     "output_type": "stream",
     "text": [
      "iteration : 25\n",
      "Epoch 1/1\n",
      " 8/16 [==============>...............] - ETA: 0s - loss: 6.0208 - acc: 0.0000e+00"
     ]
    },
    {
     "name": "stderr",
     "output_type": "stream",
     "text": [
      "/opt/conda/lib/python3.6/site-packages/keras/engine/training.py:490: UserWarning: Discrepancy between trainable weights and collected trainable weights, did you set `model.trainable` without calling `model.compile` after ?\n",
      "  'Discrepancy between trainable weights and collected trainable'\n"
     ]
    },
    {
     "name": "stdout",
     "output_type": "stream",
     "text": [
      "16/16 [==============================] - 0s 24ms/step - loss: 6.0126 - acc: 0.1250\n",
      "Epoch 1/1\n",
      "8/8 [==============================] - 1s 99ms/step - loss: 18.1461 - model_1_loss: 5.9063e-04 - conv2d_20_loss: 0.1252\n",
      "\n",
      "Epoch 00001: loss did not improve from 16.61147\n"
     ]
    },
    {
     "name": "stderr",
     "output_type": "stream",
     "text": [
      "\n",
      "\n",
      "\n",
      "\n",
      "\n",
      "26it [01:49,  4.20s/it]\u001b[A\u001b[A\u001b[A\u001b[A\u001b[A"
     ]
    },
    {
     "name": "stdout",
     "output_type": "stream",
     "text": [
      "iteration : 26\n",
      "Epoch 1/1\n",
      " 8/16 [==============>...............] - ETA: 0s - loss: 6.4016 - acc: 0.3750"
     ]
    },
    {
     "name": "stderr",
     "output_type": "stream",
     "text": [
      "/opt/conda/lib/python3.6/site-packages/keras/engine/training.py:490: UserWarning: Discrepancy between trainable weights and collected trainable weights, did you set `model.trainable` without calling `model.compile` after ?\n",
      "  'Discrepancy between trainable weights and collected trainable'\n"
     ]
    },
    {
     "name": "stdout",
     "output_type": "stream",
     "text": [
      "16/16 [==============================] - 0s 23ms/step - loss: 7.4292 - acc: 0.3125\n",
      "Epoch 1/1\n",
      "8/8 [==============================] - 1s 97ms/step - loss: 17.1369 - model_1_loss: 0.0021 - conv2d_20_loss: 0.1150\n",
      "\n",
      "Epoch 00001: loss did not improve from 16.61147\n"
     ]
    },
    {
     "name": "stderr",
     "output_type": "stream",
     "text": [
      "\n",
      "\n",
      "\n",
      "\n",
      "\n",
      "27it [01:54,  4.20s/it]\u001b[A\u001b[A\u001b[A\u001b[A\u001b[A"
     ]
    },
    {
     "name": "stdout",
     "output_type": "stream",
     "text": [
      "iteration : 27\n",
      "Epoch 1/1\n",
      " 8/16 [==============>...............] - ETA: 0s - loss: 4.2358 - acc: 0.3750"
     ]
    },
    {
     "name": "stderr",
     "output_type": "stream",
     "text": [
      "/opt/conda/lib/python3.6/site-packages/keras/engine/training.py:490: UserWarning: Discrepancy between trainable weights and collected trainable weights, did you set `model.trainable` without calling `model.compile` after ?\n",
      "  'Discrepancy between trainable weights and collected trainable'\n"
     ]
    },
    {
     "name": "stdout",
     "output_type": "stream",
     "text": [
      "16/16 [==============================] - 0s 24ms/step - loss: 7.2563 - acc: 0.1875\n",
      "Epoch 1/1\n",
      "8/8 [==============================] - 1s 99ms/step - loss: 17.3796 - model_1_loss: 1.8392e-04 - conv2d_20_loss: 0.1176\n",
      "\n",
      "Epoch 00001: loss did not improve from 16.61147\n"
     ]
    },
    {
     "name": "stderr",
     "output_type": "stream",
     "text": [
      "\n",
      "\n",
      "\n",
      "\n",
      "\n",
      "28it [01:58,  4.21s/it]\u001b[A\u001b[A\u001b[A\u001b[A\u001b[A"
     ]
    },
    {
     "name": "stdout",
     "output_type": "stream",
     "text": [
      "iteration : 28\n",
      "Epoch 1/1\n",
      " 8/16 [==============>...............] - ETA: 0s - loss: 4.3659 - acc: 0.3750"
     ]
    },
    {
     "name": "stderr",
     "output_type": "stream",
     "text": [
      "/opt/conda/lib/python3.6/site-packages/keras/engine/training.py:490: UserWarning: Discrepancy between trainable weights and collected trainable weights, did you set `model.trainable` without calling `model.compile` after ?\n",
      "  'Discrepancy between trainable weights and collected trainable'\n"
     ]
    },
    {
     "name": "stdout",
     "output_type": "stream",
     "text": [
      "16/16 [==============================] - 0s 23ms/step - loss: 5.4996 - acc: 0.2500\n",
      "Epoch 1/1\n",
      "8/8 [==============================] - 1s 97ms/step - loss: 18.9228 - model_1_loss: 8.0720e-05 - conv2d_20_loss: 0.1330\n",
      "\n",
      "Epoch 00001: loss did not improve from 16.61147\n"
     ]
    },
    {
     "name": "stderr",
     "output_type": "stream",
     "text": [
      "\n",
      "\n",
      "\n",
      "\n",
      "\n",
      "29it [02:02,  4.20s/it]\u001b[A\u001b[A\u001b[A\u001b[A\u001b[A"
     ]
    },
    {
     "name": "stdout",
     "output_type": "stream",
     "text": [
      "iteration : 29\n",
      "Epoch 1/1\n",
      " 8/16 [==============>...............] - ETA: 0s - loss: 4.4142 - acc: 0.5000"
     ]
    },
    {
     "name": "stderr",
     "output_type": "stream",
     "text": [
      "/opt/conda/lib/python3.6/site-packages/keras/engine/training.py:490: UserWarning: Discrepancy between trainable weights and collected trainable weights, did you set `model.trainable` without calling `model.compile` after ?\n",
      "  'Discrepancy between trainable weights and collected trainable'\n"
     ]
    },
    {
     "name": "stdout",
     "output_type": "stream",
     "text": [
      "16/16 [==============================] - 0s 24ms/step - loss: 6.8654 - acc: 0.2500\n",
      "Epoch 1/1\n",
      "8/8 [==============================] - 1s 98ms/step - loss: 16.9312 - model_1_loss: 2.9099e-04 - conv2d_20_loss: 0.1131\n",
      "\n",
      "Epoch 00001: loss did not improve from 16.61147\n"
     ]
    },
    {
     "name": "stderr",
     "output_type": "stream",
     "text": [
      "\n",
      "\n",
      "\n",
      "\n",
      "\n",
      "30it [02:06,  4.21s/it]\u001b[A\u001b[A\u001b[A\u001b[A\u001b[A"
     ]
    },
    {
     "name": "stdout",
     "output_type": "stream",
     "text": [
      "iteration : 30\n",
      "Epoch 1/1\n",
      " 8/16 [==============>...............] - ETA: 0s - loss: 10.1186 - acc: 0.2500"
     ]
    },
    {
     "name": "stderr",
     "output_type": "stream",
     "text": [
      "/opt/conda/lib/python3.6/site-packages/keras/engine/training.py:490: UserWarning: Discrepancy between trainable weights and collected trainable weights, did you set `model.trainable` without calling `model.compile` after ?\n",
      "  'Discrepancy between trainable weights and collected trainable'\n"
     ]
    },
    {
     "name": "stdout",
     "output_type": "stream",
     "text": [
      "16/16 [==============================] - 0s 23ms/step - loss: 7.7309 - acc: 0.1875\n",
      "Epoch 1/1\n",
      "8/8 [==============================] - 1s 97ms/step - loss: 18.0475 - model_1_loss: 1.4115e-04 - conv2d_20_loss: 0.1242\n",
      "\n",
      "Epoch 00001: loss did not improve from 16.61147\n"
     ]
    },
    {
     "name": "stderr",
     "output_type": "stream",
     "text": [
      "\n",
      "\n",
      "\n",
      "\n",
      "\n",
      "31it [02:10,  4.20s/it]\u001b[A\u001b[A\u001b[A\u001b[A\u001b[A"
     ]
    },
    {
     "name": "stdout",
     "output_type": "stream",
     "text": [
      "iteration : 31\n",
      "Epoch 1/1\n",
      " 8/16 [==============>...............] - ETA: 0s - loss: 5.1972 - acc: 0.2500"
     ]
    },
    {
     "name": "stderr",
     "output_type": "stream",
     "text": [
      "/opt/conda/lib/python3.6/site-packages/keras/engine/training.py:490: UserWarning: Discrepancy between trainable weights and collected trainable weights, did you set `model.trainable` without calling `model.compile` after ?\n",
      "  'Discrepancy between trainable weights and collected trainable'\n"
     ]
    },
    {
     "name": "stdout",
     "output_type": "stream",
     "text": [
      "16/16 [==============================] - 0s 24ms/step - loss: 6.0826 - acc: 0.2500\n",
      "Epoch 1/1\n",
      "8/8 [==============================] - 1s 99ms/step - loss: 16.5237 - model_1_loss: 7.9536e-05 - conv2d_20_loss: 0.1090\n",
      "\n",
      "Epoch 00001: loss improved from 16.61147 to 16.52373, saving model to weights-improvement.hdf5\n"
     ]
    },
    {
     "name": "stderr",
     "output_type": "stream",
     "text": [
      "\n",
      "\n",
      "\n",
      "\n",
      "\n",
      "32it [02:15,  4.40s/it]\u001b[A\u001b[A\u001b[A\u001b[A\u001b[A"
     ]
    },
    {
     "name": "stdout",
     "output_type": "stream",
     "text": [
      "iteration : 32\n",
      "Epoch 1/1\n",
      " 8/16 [==============>...............] - ETA: 0s - loss: 8.8007 - acc: 0.1250"
     ]
    },
    {
     "name": "stderr",
     "output_type": "stream",
     "text": [
      "/opt/conda/lib/python3.6/site-packages/keras/engine/training.py:490: UserWarning: Discrepancy between trainable weights and collected trainable weights, did you set `model.trainable` without calling `model.compile` after ?\n",
      "  'Discrepancy between trainable weights and collected trainable'\n"
     ]
    },
    {
     "name": "stdout",
     "output_type": "stream",
     "text": [
      "16/16 [==============================] - 0s 23ms/step - loss: 7.6620 - acc: 0.1875\n",
      "Epoch 1/1\n",
      "8/8 [==============================] - 1s 98ms/step - loss: 16.9630 - model_1_loss: 6.0589e-04 - conv2d_20_loss: 0.1134\n",
      "\n",
      "Epoch 00001: loss did not improve from 16.52373\n"
     ]
    },
    {
     "name": "stderr",
     "output_type": "stream",
     "text": [
      "\n",
      "\n",
      "\n",
      "\n",
      "\n",
      "33it [02:20,  4.40s/it]\u001b[A\u001b[A\u001b[A\u001b[A\u001b[A"
     ]
    },
    {
     "name": "stdout",
     "output_type": "stream",
     "text": [
      "iteration : 33\n",
      "Epoch 1/1\n",
      " 8/16 [==============>...............] - ETA: 0s - loss: 4.6269 - acc: 0.1250"
     ]
    },
    {
     "name": "stderr",
     "output_type": "stream",
     "text": [
      "/opt/conda/lib/python3.6/site-packages/keras/engine/training.py:490: UserWarning: Discrepancy between trainable weights and collected trainable weights, did you set `model.trainable` without calling `model.compile` after ?\n",
      "  'Discrepancy between trainable weights and collected trainable'\n"
     ]
    },
    {
     "name": "stdout",
     "output_type": "stream",
     "text": [
      "16/16 [==============================] - 0s 24ms/step - loss: 7.1284 - acc: 0.0625\n",
      "Epoch 1/1\n",
      "8/8 [==============================] - 1s 98ms/step - loss: 17.7460 - model_1_loss: 0.0017 - conv2d_20_loss: 0.1212\n",
      "\n",
      "Epoch 00001: loss did not improve from 16.52373\n"
     ]
    },
    {
     "name": "stderr",
     "output_type": "stream",
     "text": [
      "\n",
      "\n",
      "\n",
      "\n",
      "\n",
      "34it [02:24,  4.35s/it]\u001b[A\u001b[A\u001b[A\u001b[A\u001b[A"
     ]
    },
    {
     "name": "stdout",
     "output_type": "stream",
     "text": [
      "iteration : 34\n",
      "Epoch 1/1\n",
      " 8/16 [==============>...............] - ETA: 0s - loss: 5.5318 - acc: 0.0000e+00"
     ]
    },
    {
     "name": "stderr",
     "output_type": "stream",
     "text": [
      "/opt/conda/lib/python3.6/site-packages/keras/engine/training.py:490: UserWarning: Discrepancy between trainable weights and collected trainable weights, did you set `model.trainable` without calling `model.compile` after ?\n",
      "  'Discrepancy between trainable weights and collected trainable'\n"
     ]
    },
    {
     "name": "stdout",
     "output_type": "stream",
     "text": [
      "16/16 [==============================] - 0s 23ms/step - loss: 6.4806 - acc: 0.0625\n",
      "Epoch 1/1\n",
      "8/8 [==============================] - 1s 98ms/step - loss: 18.6052 - model_1_loss: 7.5406e-04 - conv2d_20_loss: 0.1298\n",
      "\n",
      "Epoch 00001: loss did not improve from 16.52373\n"
     ]
    },
    {
     "name": "stderr",
     "output_type": "stream",
     "text": [
      "\n",
      "\n",
      "\n",
      "\n",
      "\n",
      "35it [02:28,  4.31s/it]\u001b[A\u001b[A\u001b[A\u001b[A\u001b[A"
     ]
    },
    {
     "name": "stdout",
     "output_type": "stream",
     "text": [
      "iteration : 35\n",
      "Epoch 1/1\n",
      " 8/16 [==============>...............] - ETA: 0s - loss: 4.9767 - acc: 0.2500"
     ]
    },
    {
     "name": "stderr",
     "output_type": "stream",
     "text": [
      "/opt/conda/lib/python3.6/site-packages/keras/engine/training.py:490: UserWarning: Discrepancy between trainable weights and collected trainable weights, did you set `model.trainable` without calling `model.compile` after ?\n",
      "  'Discrepancy between trainable weights and collected trainable'\n"
     ]
    },
    {
     "name": "stdout",
     "output_type": "stream",
     "text": [
      "16/16 [==============================] - 0s 24ms/step - loss: 6.1214 - acc: 0.3125\n",
      "Epoch 1/1\n",
      "8/8 [==============================] - 1s 99ms/step - loss: 17.1711 - model_1_loss: 8.0333e-05 - conv2d_20_loss: 0.1155\n",
      "\n",
      "Epoch 00001: loss did not improve from 16.52373\n"
     ]
    },
    {
     "name": "stderr",
     "output_type": "stream",
     "text": [
      "\n",
      "\n",
      "\n",
      "\n",
      "\n",
      "36it [02:32,  4.28s/it]\u001b[A\u001b[A\u001b[A\u001b[A\u001b[A"
     ]
    },
    {
     "name": "stdout",
     "output_type": "stream",
     "text": [
      "iteration : 36\n",
      "Epoch 1/1\n",
      " 8/16 [==============>...............] - ETA: 0s - loss: 3.1704 - acc: 0.3750"
     ]
    },
    {
     "name": "stderr",
     "output_type": "stream",
     "text": [
      "/opt/conda/lib/python3.6/site-packages/keras/engine/training.py:490: UserWarning: Discrepancy between trainable weights and collected trainable weights, did you set `model.trainable` without calling `model.compile` after ?\n",
      "  'Discrepancy between trainable weights and collected trainable'\n"
     ]
    },
    {
     "name": "stdout",
     "output_type": "stream",
     "text": [
      "16/16 [==============================] - 0s 23ms/step - loss: 5.6079 - acc: 0.2500\n",
      "Epoch 1/1\n",
      "8/8 [==============================] - 1s 98ms/step - loss: 16.8869 - model_1_loss: 0.0142 - conv2d_20_loss: 0.1119\n",
      "\n",
      "Epoch 00001: loss did not improve from 16.52373\n"
     ]
    },
    {
     "name": "stderr",
     "output_type": "stream",
     "text": [
      "\n",
      "\n",
      "\n",
      "\n",
      "\n",
      "37it [02:37,  4.26s/it]\u001b[A\u001b[A\u001b[A\u001b[A\u001b[A"
     ]
    },
    {
     "name": "stdout",
     "output_type": "stream",
     "text": [
      "iteration : 37\n",
      "Epoch 1/1\n",
      " 8/16 [==============>...............] - ETA: 0s - loss: 8.1596 - acc: 0.0000e+00"
     ]
    },
    {
     "name": "stderr",
     "output_type": "stream",
     "text": [
      "/opt/conda/lib/python3.6/site-packages/keras/engine/training.py:490: UserWarning: Discrepancy between trainable weights and collected trainable weights, did you set `model.trainable` without calling `model.compile` after ?\n",
      "  'Discrepancy between trainable weights and collected trainable'\n"
     ]
    },
    {
     "name": "stdout",
     "output_type": "stream",
     "text": [
      "16/16 [==============================] - 0s 24ms/step - loss: 7.6721 - acc: 0.0000e+00\n",
      "Epoch 1/1\n",
      "8/8 [==============================] - 1s 99ms/step - loss: 16.7168 - model_1_loss: 2.3734e-04 - conv2d_20_loss: 0.1109\n",
      "\n",
      "Epoch 00001: loss did not improve from 16.52373\n"
     ]
    },
    {
     "name": "stderr",
     "output_type": "stream",
     "text": [
      "\n",
      "\n",
      "\n",
      "\n",
      "\n",
      "38it [02:41,  4.25s/it]\u001b[A\u001b[A\u001b[A\u001b[A\u001b[A"
     ]
    },
    {
     "name": "stdout",
     "output_type": "stream",
     "text": [
      "iteration : 38\n",
      "Epoch 1/1\n",
      " 8/16 [==============>...............] - ETA: 0s - loss: 6.7172 - acc: 0.0000e+00"
     ]
    },
    {
     "name": "stderr",
     "output_type": "stream",
     "text": [
      "/opt/conda/lib/python3.6/site-packages/keras/engine/training.py:490: UserWarning: Discrepancy between trainable weights and collected trainable weights, did you set `model.trainable` without calling `model.compile` after ?\n",
      "  'Discrepancy between trainable weights and collected trainable'\n"
     ]
    },
    {
     "name": "stdout",
     "output_type": "stream",
     "text": [
      "16/16 [==============================] - 0s 23ms/step - loss: 5.7040 - acc: 0.0000e+00\n",
      "Epoch 1/1\n",
      "8/8 [==============================] - 1s 97ms/step - loss: 16.8673 - model_1_loss: 2.8449e-04 - conv2d_20_loss: 0.1124\n",
      "\n",
      "Epoch 00001: loss did not improve from 16.52373\n"
     ]
    },
    {
     "name": "stderr",
     "output_type": "stream",
     "text": [
      "\n",
      "\n",
      "\n",
      "\n",
      "\n",
      "39it [02:45,  4.24s/it]\u001b[A\u001b[A\u001b[A\u001b[A\u001b[A"
     ]
    },
    {
     "name": "stdout",
     "output_type": "stream",
     "text": [
      "iteration : 39\n",
      "Epoch 1/1\n",
      " 8/16 [==============>...............] - ETA: 0s - loss: 5.2477 - acc: 0.5000"
     ]
    },
    {
     "name": "stderr",
     "output_type": "stream",
     "text": [
      "/opt/conda/lib/python3.6/site-packages/keras/engine/training.py:490: UserWarning: Discrepancy between trainable weights and collected trainable weights, did you set `model.trainable` without calling `model.compile` after ?\n",
      "  'Discrepancy between trainable weights and collected trainable'\n"
     ]
    },
    {
     "name": "stdout",
     "output_type": "stream",
     "text": [
      "16/16 [==============================] - 0s 24ms/step - loss: 5.7529 - acc: 0.5000\n",
      "Epoch 1/1\n",
      "8/8 [==============================] - 1s 99ms/step - loss: 18.5289 - model_1_loss: 0.0027 - conv2d_20_loss: 0.1289\n",
      "\n",
      "Epoch 00001: loss did not improve from 16.52373\n"
     ]
    },
    {
     "name": "stderr",
     "output_type": "stream",
     "text": [
      "\n",
      "\n",
      "\n",
      "\n",
      "\n",
      "40it [02:49,  4.24s/it]\u001b[A\u001b[A\u001b[A\u001b[A\u001b[A"
     ]
    },
    {
     "name": "stdout",
     "output_type": "stream",
     "text": [
      "iteration : 40\n",
      "Epoch 1/1\n",
      " 8/16 [==============>...............] - ETA: 0s - loss: 7.3774 - acc: 0.1250"
     ]
    },
    {
     "name": "stderr",
     "output_type": "stream",
     "text": [
      "/opt/conda/lib/python3.6/site-packages/keras/engine/training.py:490: UserWarning: Discrepancy between trainable weights and collected trainable weights, did you set `model.trainable` without calling `model.compile` after ?\n",
      "  'Discrepancy between trainable weights and collected trainable'\n"
     ]
    },
    {
     "name": "stdout",
     "output_type": "stream",
     "text": [
      "16/16 [==============================] - 0s 23ms/step - loss: 6.1201 - acc: 0.1875\n",
      "Epoch 1/1\n",
      "8/8 [==============================] - 1s 97ms/step - loss: 16.6626 - model_1_loss: 3.5178e-04 - conv2d_20_loss: 0.1104\n",
      "\n",
      "Epoch 00001: loss did not improve from 16.52373\n"
     ]
    },
    {
     "name": "stderr",
     "output_type": "stream",
     "text": [
      "\n",
      "\n",
      "\n",
      "\n",
      "\n",
      "41it [02:53,  4.22s/it]\u001b[A\u001b[A\u001b[A\u001b[A\u001b[A"
     ]
    },
    {
     "name": "stdout",
     "output_type": "stream",
     "text": [
      "iteration : 41\n"
     ]
    },
    {
     "name": "stderr",
     "output_type": "stream",
     "text": [
      "/opt/conda/lib/python3.6/site-packages/keras/engine/training.py:490: UserWarning: Discrepancy between trainable weights and collected trainable weights, did you set `model.trainable` without calling `model.compile` after ?\n",
      "  'Discrepancy between trainable weights and collected trainable'\n"
     ]
    },
    {
     "name": "stdout",
     "output_type": "stream",
     "text": [
      "Epoch 1/1\n",
      "16/16 [==============================] - 0s 24ms/step - loss: 5.3431 - acc: 0.1250\n",
      "Epoch 1/1\n",
      "8/8 [==============================] - 1s 99ms/step - loss: 18.4483 - model_1_loss: 5.6622e-04 - conv2d_20_loss: 0.1282\n",
      "\n",
      "Epoch 00001: loss did not improve from 16.52373\n"
     ]
    },
    {
     "name": "stderr",
     "output_type": "stream",
     "text": [
      "\n",
      "\n",
      "\n",
      "\n",
      "\n",
      "42it [02:58,  4.22s/it]\u001b[A\u001b[A\u001b[A\u001b[A\u001b[A"
     ]
    },
    {
     "name": "stdout",
     "output_type": "stream",
     "text": [
      "iteration : 42\n",
      "Epoch 1/1\n",
      " 8/16 [==============>...............] - ETA: 0s - loss: 7.1942 - acc: 0.5000"
     ]
    },
    {
     "name": "stderr",
     "output_type": "stream",
     "text": [
      "/opt/conda/lib/python3.6/site-packages/keras/engine/training.py:490: UserWarning: Discrepancy between trainable weights and collected trainable weights, did you set `model.trainable` without calling `model.compile` after ?\n",
      "  'Discrepancy between trainable weights and collected trainable'\n"
     ]
    },
    {
     "name": "stdout",
     "output_type": "stream",
     "text": [
      "16/16 [==============================] - 0s 23ms/step - loss: 6.9454 - acc: 0.3750\n",
      "Epoch 1/1\n",
      "8/8 [==============================] - 1s 97ms/step - loss: 16.7599 - model_1_loss: 5.8997e-05 - conv2d_20_loss: 0.1114\n",
      "\n",
      "Epoch 00001: loss did not improve from 16.52373\n"
     ]
    },
    {
     "name": "stderr",
     "output_type": "stream",
     "text": [
      "\n",
      "\n",
      "\n",
      "\n",
      "\n",
      "43it [03:02,  4.22s/it]\u001b[A\u001b[A\u001b[A\u001b[A\u001b[A"
     ]
    },
    {
     "name": "stdout",
     "output_type": "stream",
     "text": [
      "iteration : 43\n",
      "Epoch 1/1\n",
      " 8/16 [==============>...............] - ETA: 0s - loss: 8.5447 - acc: 0.0000e+00"
     ]
    },
    {
     "name": "stderr",
     "output_type": "stream",
     "text": [
      "/opt/conda/lib/python3.6/site-packages/keras/engine/training.py:490: UserWarning: Discrepancy between trainable weights and collected trainable weights, did you set `model.trainable` without calling `model.compile` after ?\n",
      "  'Discrepancy between trainable weights and collected trainable'\n"
     ]
    },
    {
     "name": "stdout",
     "output_type": "stream",
     "text": [
      "16/16 [==============================] - 0s 24ms/step - loss: 6.7150 - acc: 0.1875\n",
      "Epoch 1/1\n",
      "8/8 [==============================] - 1s 99ms/step - loss: 17.0061 - model_1_loss: 1.3314e-05 - conv2d_20_loss: 0.1138\n",
      "\n",
      "Epoch 00001: loss did not improve from 16.52373\n"
     ]
    },
    {
     "name": "stderr",
     "output_type": "stream",
     "text": [
      "\n",
      "\n",
      "\n",
      "\n",
      "\n",
      "44it [03:06,  4.22s/it]\u001b[A\u001b[A\u001b[A\u001b[A\u001b[A"
     ]
    },
    {
     "name": "stdout",
     "output_type": "stream",
     "text": [
      "iteration : 44\n",
      "Epoch 1/1\n",
      " 8/16 [==============>...............] - ETA: 0s - loss: 6.2407 - acc: 0.1250"
     ]
    },
    {
     "name": "stderr",
     "output_type": "stream",
     "text": [
      "/opt/conda/lib/python3.6/site-packages/keras/engine/training.py:490: UserWarning: Discrepancy between trainable weights and collected trainable weights, did you set `model.trainable` without calling `model.compile` after ?\n",
      "  'Discrepancy between trainable weights and collected trainable'\n"
     ]
    },
    {
     "name": "stdout",
     "output_type": "stream",
     "text": [
      "16/16 [==============================] - 0s 23ms/step - loss: 6.9650 - acc: 0.1250\n",
      "Epoch 1/1\n",
      "8/8 [==============================] - 1s 97ms/step - loss: 16.7386 - model_1_loss: 2.9688e-04 - conv2d_20_loss: 0.1112\n",
      "\n",
      "Epoch 00001: loss did not improve from 16.52373\n"
     ]
    },
    {
     "name": "stderr",
     "output_type": "stream",
     "text": [
      "\n",
      "\n",
      "\n",
      "\n",
      "\n",
      "45it [03:10,  4.21s/it]\u001b[A\u001b[A\u001b[A\u001b[A\u001b[A"
     ]
    },
    {
     "name": "stdout",
     "output_type": "stream",
     "text": [
      "iteration : 45\n",
      "Epoch 1/1\n",
      " 8/16 [==============>...............] - ETA: 0s - loss: 5.9192 - acc: 0.3750"
     ]
    },
    {
     "name": "stderr",
     "output_type": "stream",
     "text": [
      "/opt/conda/lib/python3.6/site-packages/keras/engine/training.py:490: UserWarning: Discrepancy between trainable weights and collected trainable weights, did you set `model.trainable` without calling `model.compile` after ?\n",
      "  'Discrepancy between trainable weights and collected trainable'\n"
     ]
    },
    {
     "name": "stdout",
     "output_type": "stream",
     "text": [
      "16/16 [==============================] - 0s 24ms/step - loss: 5.8740 - acc: 0.2500\n",
      "Epoch 1/1\n",
      "8/8 [==============================] - 1s 99ms/step - loss: 18.0556 - model_1_loss: 0.0057 - conv2d_20_loss: 0.1241\n",
      "\n",
      "Epoch 00001: loss did not improve from 16.52373\n"
     ]
    },
    {
     "name": "stderr",
     "output_type": "stream",
     "text": [
      "\n",
      "\n",
      "\n",
      "\n",
      "\n",
      "46it [03:14,  4.21s/it]\u001b[A\u001b[A\u001b[A\u001b[A\u001b[A"
     ]
    },
    {
     "name": "stdout",
     "output_type": "stream",
     "text": [
      "iteration : 46\n",
      "Epoch 1/1\n",
      " 8/16 [==============>...............] - ETA: 0s - loss: 8.4582 - acc: 0.1250"
     ]
    },
    {
     "name": "stderr",
     "output_type": "stream",
     "text": [
      "/opt/conda/lib/python3.6/site-packages/keras/engine/training.py:490: UserWarning: Discrepancy between trainable weights and collected trainable weights, did you set `model.trainable` without calling `model.compile` after ?\n",
      "  'Discrepancy between trainable weights and collected trainable'\n"
     ]
    },
    {
     "name": "stdout",
     "output_type": "stream",
     "text": [
      "16/16 [==============================] - 0s 23ms/step - loss: 6.6623 - acc: 0.0625\n",
      "Epoch 1/1\n",
      "8/8 [==============================] - 1s 97ms/step - loss: 17.1336 - model_1_loss: 6.0574e-06 - conv2d_20_loss: 0.1151\n",
      "\n",
      "Epoch 00001: loss did not improve from 16.52373\n"
     ]
    },
    {
     "name": "stderr",
     "output_type": "stream",
     "text": [
      "\n",
      "\n",
      "\n",
      "\n",
      "\n",
      "47it [03:19,  4.21s/it]\u001b[A\u001b[A\u001b[A\u001b[A\u001b[A"
     ]
    },
    {
     "name": "stdout",
     "output_type": "stream",
     "text": [
      "iteration : 47\n",
      "Epoch 1/1\n",
      " 8/16 [==============>...............] - ETA: 0s - loss: 5.2100 - acc: 0.1250"
     ]
    },
    {
     "name": "stderr",
     "output_type": "stream",
     "text": [
      "/opt/conda/lib/python3.6/site-packages/keras/engine/training.py:490: UserWarning: Discrepancy between trainable weights and collected trainable weights, did you set `model.trainable` without calling `model.compile` after ?\n",
      "  'Discrepancy between trainable weights and collected trainable'\n"
     ]
    },
    {
     "name": "stdout",
     "output_type": "stream",
     "text": [
      "16/16 [==============================] - 0s 24ms/step - loss: 5.9569 - acc: 0.2500\n",
      "Epoch 1/1\n",
      "8/8 [==============================] - 1s 99ms/step - loss: 16.9620 - model_1_loss: 2.0841e-04 - conv2d_20_loss: 0.1134\n",
      "\n",
      "Epoch 00001: loss did not improve from 16.52373\n"
     ]
    },
    {
     "name": "stderr",
     "output_type": "stream",
     "text": [
      "\n",
      "\n",
      "\n",
      "\n",
      "\n",
      "48it [03:23,  4.21s/it]\u001b[A\u001b[A\u001b[A\u001b[A\u001b[A"
     ]
    },
    {
     "name": "stdout",
     "output_type": "stream",
     "text": [
      "iteration : 48\n",
      "Epoch 1/1\n",
      " 8/16 [==============>...............] - ETA: 0s - loss: 4.2241 - acc: 0.3750"
     ]
    },
    {
     "name": "stderr",
     "output_type": "stream",
     "text": [
      "/opt/conda/lib/python3.6/site-packages/keras/engine/training.py:490: UserWarning: Discrepancy between trainable weights and collected trainable weights, did you set `model.trainable` without calling `model.compile` after ?\n",
      "  'Discrepancy between trainable weights and collected trainable'\n"
     ]
    },
    {
     "name": "stdout",
     "output_type": "stream",
     "text": [
      "16/16 [==============================] - 0s 23ms/step - loss: 7.1770 - acc: 0.1875\n",
      "Epoch 1/1\n",
      "8/8 [==============================] - 1s 97ms/step - loss: 17.6776 - model_1_loss: 2.5275e-04 - conv2d_20_loss: 0.1206\n",
      "\n",
      "Epoch 00001: loss did not improve from 16.52373\n"
     ]
    },
    {
     "name": "stderr",
     "output_type": "stream",
     "text": [
      "\n",
      "\n",
      "\n",
      "\n",
      "\n",
      "49it [03:27,  4.21s/it]\u001b[A\u001b[A\u001b[A\u001b[A\u001b[A"
     ]
    },
    {
     "name": "stdout",
     "output_type": "stream",
     "text": [
      "iteration : 49\n",
      "Epoch 1/1\n",
      " 8/16 [==============>...............] - ETA: 0s - loss: 3.9897 - acc: 0.2500"
     ]
    },
    {
     "name": "stderr",
     "output_type": "stream",
     "text": [
      "/opt/conda/lib/python3.6/site-packages/keras/engine/training.py:490: UserWarning: Discrepancy between trainable weights and collected trainable weights, did you set `model.trainable` without calling `model.compile` after ?\n",
      "  'Discrepancy between trainable weights and collected trainable'\n"
     ]
    },
    {
     "name": "stdout",
     "output_type": "stream",
     "text": [
      "16/16 [==============================] - 0s 24ms/step - loss: 4.3352 - acc: 0.2500\n",
      "Epoch 1/1\n",
      "8/8 [==============================] - 1s 99ms/step - loss: 18.3230 - model_1_loss: 0.0162 - conv2d_20_loss: 0.1262\n",
      "\n",
      "Epoch 00001: loss did not improve from 16.52373\n"
     ]
    },
    {
     "name": "stderr",
     "output_type": "stream",
     "text": [
      "\n",
      "\n",
      "\n",
      "\n",
      "\n",
      "50it [03:31,  4.21s/it]\u001b[A\u001b[A\u001b[A\u001b[A\u001b[A"
     ]
    },
    {
     "name": "stdout",
     "output_type": "stream",
     "text": [
      "iteration : 50\n",
      "Epoch 1/1\n",
      " 8/16 [==============>...............] - ETA: 0s - loss: 7.0019 - acc: 0.2500"
     ]
    },
    {
     "name": "stderr",
     "output_type": "stream",
     "text": [
      "/opt/conda/lib/python3.6/site-packages/keras/engine/training.py:490: UserWarning: Discrepancy between trainable weights and collected trainable weights, did you set `model.trainable` without calling `model.compile` after ?\n",
      "  'Discrepancy between trainable weights and collected trainable'\n"
     ]
    },
    {
     "name": "stdout",
     "output_type": "stream",
     "text": [
      "16/16 [==============================] - 0s 23ms/step - loss: 6.9288 - acc: 0.3125\n",
      "Epoch 1/1\n",
      "8/8 [==============================] - 1s 97ms/step - loss: 18.1897 - model_1_loss: 4.5468e-05 - conv2d_20_loss: 0.1257\n",
      "\n",
      "Epoch 00001: loss did not improve from 16.52373\n"
     ]
    },
    {
     "name": "stderr",
     "output_type": "stream",
     "text": [
      "\n",
      "\n",
      "\n",
      "\n",
      "\n",
      "51it [03:35,  4.21s/it]\u001b[A\u001b[A\u001b[A\u001b[A\u001b[A"
     ]
    },
    {
     "name": "stdout",
     "output_type": "stream",
     "text": [
      "iteration : 51\n",
      "Epoch 1/1\n",
      " 8/16 [==============>...............] - ETA: 0s - loss: 5.4606 - acc: 0.1250"
     ]
    },
    {
     "name": "stderr",
     "output_type": "stream",
     "text": [
      "/opt/conda/lib/python3.6/site-packages/keras/engine/training.py:490: UserWarning: Discrepancy between trainable weights and collected trainable weights, did you set `model.trainable` without calling `model.compile` after ?\n",
      "  'Discrepancy between trainable weights and collected trainable'\n"
     ]
    },
    {
     "name": "stdout",
     "output_type": "stream",
     "text": [
      "16/16 [==============================] - 0s 24ms/step - loss: 5.7509 - acc: 0.1250\n",
      "Epoch 1/1\n",
      "8/8 [==============================] - 1s 98ms/step - loss: 16.9679 - model_1_loss: 6.8345e-04 - conv2d_20_loss: 0.1134\n",
      "\n",
      "Epoch 00001: loss did not improve from 16.52373\n"
     ]
    },
    {
     "name": "stderr",
     "output_type": "stream",
     "text": [
      "\n",
      "\n",
      "\n",
      "\n",
      "\n",
      "52it [03:40,  4.22s/it]\u001b[A\u001b[A\u001b[A\u001b[A\u001b[A"
     ]
    },
    {
     "name": "stdout",
     "output_type": "stream",
     "text": [
      "iteration : 52\n",
      "Epoch 1/1\n",
      " 8/16 [==============>...............] - ETA: 0s - loss: 6.9602 - acc: 0.2500"
     ]
    },
    {
     "name": "stderr",
     "output_type": "stream",
     "text": [
      "/opt/conda/lib/python3.6/site-packages/keras/engine/training.py:490: UserWarning: Discrepancy between trainable weights and collected trainable weights, did you set `model.trainable` without calling `model.compile` after ?\n",
      "  'Discrepancy between trainable weights and collected trainable'\n"
     ]
    },
    {
     "name": "stdout",
     "output_type": "stream",
     "text": [
      "16/16 [==============================] - 0s 23ms/step - loss: 5.6942 - acc: 0.1250\n",
      "Epoch 1/1\n",
      "8/8 [==============================] - 1s 97ms/step - loss: 16.9073 - model_1_loss: 2.9189e-04 - conv2d_20_loss: 0.1129\n",
      "\n",
      "Epoch 00001: loss did not improve from 16.52373\n"
     ]
    },
    {
     "name": "stderr",
     "output_type": "stream",
     "text": [
      "\n",
      "\n",
      "\n",
      "\n",
      "\n",
      "53it [03:44,  4.22s/it]\u001b[A\u001b[A\u001b[A\u001b[A\u001b[A"
     ]
    },
    {
     "name": "stdout",
     "output_type": "stream",
     "text": [
      "iteration : 53\n",
      "Epoch 1/1\n",
      " 8/16 [==============>...............] - ETA: 0s - loss: 6.7766 - acc: 0.1250"
     ]
    },
    {
     "name": "stderr",
     "output_type": "stream",
     "text": [
      "/opt/conda/lib/python3.6/site-packages/keras/engine/training.py:490: UserWarning: Discrepancy between trainable weights and collected trainable weights, did you set `model.trainable` without calling `model.compile` after ?\n",
      "  'Discrepancy between trainable weights and collected trainable'\n"
     ]
    },
    {
     "name": "stdout",
     "output_type": "stream",
     "text": [
      "16/16 [==============================] - 0s 24ms/step - loss: 6.6322 - acc: 0.1250\n",
      "Epoch 1/1\n",
      "8/8 [==============================] - 1s 99ms/step - loss: 17.2735 - model_1_loss: 0.0041 - conv2d_20_loss: 0.1163\n",
      "\n",
      "Epoch 00001: loss did not improve from 16.52373\n"
     ]
    },
    {
     "name": "stderr",
     "output_type": "stream",
     "text": [
      "\n",
      "\n",
      "\n",
      "\n",
      "\n",
      "54it [03:48,  4.23s/it]\u001b[A\u001b[A\u001b[A\u001b[A\u001b[A"
     ]
    },
    {
     "name": "stdout",
     "output_type": "stream",
     "text": [
      "iteration : 54\n",
      "Epoch 1/1\n",
      " 8/16 [==============>...............] - ETA: 0s - loss: 8.1342 - acc: 0.0000e+00"
     ]
    },
    {
     "name": "stderr",
     "output_type": "stream",
     "text": [
      "/opt/conda/lib/python3.6/site-packages/keras/engine/training.py:490: UserWarning: Discrepancy between trainable weights and collected trainable weights, did you set `model.trainable` without calling `model.compile` after ?\n",
      "  'Discrepancy between trainable weights and collected trainable'\n"
     ]
    },
    {
     "name": "stdout",
     "output_type": "stream",
     "text": [
      "16/16 [==============================] - 0s 23ms/step - loss: 6.7420 - acc: 0.0625\n",
      "Epoch 1/1\n",
      "8/8 [==============================] - 1s 97ms/step - loss: 17.7486 - model_1_loss: 1.0743e-04 - conv2d_20_loss: 0.1213\n",
      "\n",
      "Epoch 00001: loss did not improve from 16.52373\n"
     ]
    },
    {
     "name": "stderr",
     "output_type": "stream",
     "text": [
      "\n",
      "\n",
      "\n",
      "\n",
      "\n",
      "55it [03:52,  4.22s/it]\u001b[A\u001b[A\u001b[A\u001b[A\u001b[A"
     ]
    },
    {
     "name": "stdout",
     "output_type": "stream",
     "text": [
      "iteration : 55\n",
      "Epoch 1/1\n",
      " 8/16 [==============>...............] - ETA: 0s - loss: 6.0497 - acc: 0.0000e+00"
     ]
    },
    {
     "name": "stderr",
     "output_type": "stream",
     "text": [
      "/opt/conda/lib/python3.6/site-packages/keras/engine/training.py:490: UserWarning: Discrepancy between trainable weights and collected trainable weights, did you set `model.trainable` without calling `model.compile` after ?\n",
      "  'Discrepancy between trainable weights and collected trainable'\n"
     ]
    },
    {
     "name": "stdout",
     "output_type": "stream",
     "text": [
      "16/16 [==============================] - 0s 24ms/step - loss: 5.8847 - acc: 0.1875\n",
      "Epoch 1/1\n",
      "8/8 [==============================] - 1s 99ms/step - loss: 18.7613 - model_1_loss: 1.8755e-04 - conv2d_20_loss: 0.1314\n",
      "\n",
      "Epoch 00001: loss did not improve from 16.52373\n"
     ]
    },
    {
     "name": "stderr",
     "output_type": "stream",
     "text": [
      "\n",
      "\n",
      "\n",
      "\n",
      "\n",
      "56it [03:57,  4.22s/it]\u001b[A\u001b[A\u001b[A\u001b[A\u001b[A"
     ]
    },
    {
     "name": "stdout",
     "output_type": "stream",
     "text": [
      "iteration : 56\n",
      "Epoch 1/1\n",
      " 8/16 [==============>...............] - ETA: 0s - loss: 6.4896 - acc: 0.0000e+00"
     ]
    },
    {
     "name": "stderr",
     "output_type": "stream",
     "text": [
      "/opt/conda/lib/python3.6/site-packages/keras/engine/training.py:490: UserWarning: Discrepancy between trainable weights and collected trainable weights, did you set `model.trainable` without calling `model.compile` after ?\n",
      "  'Discrepancy between trainable weights and collected trainable'\n"
     ]
    },
    {
     "name": "stdout",
     "output_type": "stream",
     "text": [
      "16/16 [==============================] - 0s 23ms/step - loss: 6.6441 - acc: 0.0625\n",
      "Epoch 1/1\n",
      "8/8 [==============================] - 1s 97ms/step - loss: 19.4611 - model_1_loss: 6.0738e-05 - conv2d_20_loss: 0.1384\n",
      "\n",
      "Epoch 00001: loss did not improve from 16.52373\n"
     ]
    },
    {
     "name": "stderr",
     "output_type": "stream",
     "text": [
      "\n",
      "\n",
      "\n",
      "\n",
      "\n",
      "57it [04:01,  4.21s/it]\u001b[A\u001b[A\u001b[A\u001b[A\u001b[A"
     ]
    },
    {
     "name": "stdout",
     "output_type": "stream",
     "text": [
      "iteration : 57\n",
      "Epoch 1/1\n",
      " 8/16 [==============>...............] - ETA: 0s - loss: 6.5332 - acc: 0.2500"
     ]
    },
    {
     "name": "stderr",
     "output_type": "stream",
     "text": [
      "/opt/conda/lib/python3.6/site-packages/keras/engine/training.py:490: UserWarning: Discrepancy between trainable weights and collected trainable weights, did you set `model.trainable` without calling `model.compile` after ?\n",
      "  'Discrepancy between trainable weights and collected trainable'\n"
     ]
    },
    {
     "name": "stdout",
     "output_type": "stream",
     "text": [
      "16/16 [==============================] - 0s 24ms/step - loss: 7.3926 - acc: 0.1250\n",
      "Epoch 1/1\n",
      "8/8 [==============================] - 1s 98ms/step - loss: 17.1761 - model_1_loss: 0.0013 - conv2d_20_loss: 0.1155\n",
      "\n",
      "Epoch 00001: loss did not improve from 16.52373\n"
     ]
    },
    {
     "name": "stderr",
     "output_type": "stream",
     "text": [
      "\n",
      "\n",
      "\n",
      "\n",
      "\n",
      "58it [04:05,  4.21s/it]\u001b[A\u001b[A\u001b[A\u001b[A\u001b[A"
     ]
    },
    {
     "name": "stdout",
     "output_type": "stream",
     "text": [
      "iteration : 58\n",
      "Epoch 1/1\n",
      " 8/16 [==============>...............] - ETA: 0s - loss: 7.1609 - acc: 0.0000e+00"
     ]
    },
    {
     "name": "stderr",
     "output_type": "stream",
     "text": [
      "/opt/conda/lib/python3.6/site-packages/keras/engine/training.py:490: UserWarning: Discrepancy between trainable weights and collected trainable weights, did you set `model.trainable` without calling `model.compile` after ?\n",
      "  'Discrepancy between trainable weights and collected trainable'\n"
     ]
    },
    {
     "name": "stdout",
     "output_type": "stream",
     "text": [
      "16/16 [==============================] - 0s 23ms/step - loss: 6.3979 - acc: 0.0000e+00\n",
      "Epoch 1/1\n",
      "8/8 [==============================] - 1s 97ms/step - loss: 17.8795 - model_1_loss: 3.1293e-06 - conv2d_20_loss: 0.1226\n",
      "\n",
      "Epoch 00001: loss did not improve from 16.52373\n"
     ]
    },
    {
     "name": "stderr",
     "output_type": "stream",
     "text": [
      "\n",
      "\n",
      "\n",
      "\n",
      "\n",
      "59it [04:09,  4.21s/it]\u001b[A\u001b[A\u001b[A\u001b[A\u001b[A"
     ]
    },
    {
     "name": "stdout",
     "output_type": "stream",
     "text": [
      "iteration : 59\n",
      "Epoch 1/1\n",
      " 8/16 [==============>...............] - ETA: 0s - loss: 6.4926 - acc: 0.3750"
     ]
    },
    {
     "name": "stderr",
     "output_type": "stream",
     "text": [
      "/opt/conda/lib/python3.6/site-packages/keras/engine/training.py:490: UserWarning: Discrepancy between trainable weights and collected trainable weights, did you set `model.trainable` without calling `model.compile` after ?\n",
      "  'Discrepancy between trainable weights and collected trainable'\n"
     ]
    },
    {
     "name": "stdout",
     "output_type": "stream",
     "text": [
      "16/16 [==============================] - 0s 24ms/step - loss: 6.6090 - acc: 0.3125\n",
      "Epoch 1/1\n",
      "8/8 [==============================] - 1s 99ms/step - loss: 17.0459 - model_1_loss: 9.6337e-06 - conv2d_20_loss: 0.1143\n",
      "\n",
      "Epoch 00001: loss did not improve from 16.52373\n"
     ]
    },
    {
     "name": "stderr",
     "output_type": "stream",
     "text": [
      "\n",
      "\n",
      "\n",
      "\n",
      "\n",
      "60it [04:13,  4.20s/it]\u001b[A\u001b[A\u001b[A\u001b[A\u001b[A"
     ]
    },
    {
     "name": "stdout",
     "output_type": "stream",
     "text": [
      "iteration : 60\n",
      "Epoch 1/1\n",
      " 8/16 [==============>...............] - ETA: 0s - loss: 9.8315 - acc: 0.1250"
     ]
    },
    {
     "name": "stderr",
     "output_type": "stream",
     "text": [
      "/opt/conda/lib/python3.6/site-packages/keras/engine/training.py:490: UserWarning: Discrepancy between trainable weights and collected trainable weights, did you set `model.trainable` without calling `model.compile` after ?\n",
      "  'Discrepancy between trainable weights and collected trainable'\n"
     ]
    },
    {
     "name": "stdout",
     "output_type": "stream",
     "text": [
      "16/16 [==============================] - 0s 23ms/step - loss: 6.6712 - acc: 0.2500\n",
      "Epoch 1/1\n",
      "8/8 [==============================] - 1s 97ms/step - loss: 17.3751 - model_1_loss: 0.0034 - conv2d_20_loss: 0.1174\n",
      "\n",
      "Epoch 00001: loss did not improve from 16.52373\n"
     ]
    },
    {
     "name": "stderr",
     "output_type": "stream",
     "text": [
      "\n",
      "\n",
      "\n",
      "\n",
      "\n",
      "61it [04:18,  4.20s/it]\u001b[A\u001b[A\u001b[A\u001b[A\u001b[A"
     ]
    },
    {
     "name": "stdout",
     "output_type": "stream",
     "text": [
      "iteration : 61\n",
      "Epoch 1/1\n",
      " 8/16 [==============>...............] - ETA: 0s - loss: 8.9509 - acc: 0.0000e+00"
     ]
    },
    {
     "name": "stderr",
     "output_type": "stream",
     "text": [
      "/opt/conda/lib/python3.6/site-packages/keras/engine/training.py:490: UserWarning: Discrepancy between trainable weights and collected trainable weights, did you set `model.trainable` without calling `model.compile` after ?\n",
      "  'Discrepancy between trainable weights and collected trainable'\n"
     ]
    },
    {
     "name": "stdout",
     "output_type": "stream",
     "text": [
      "16/16 [==============================] - 0s 24ms/step - loss: 6.6719 - acc: 0.0625\n",
      "Epoch 1/1\n",
      "8/8 [==============================] - 1s 98ms/step - loss: 18.1005 - model_1_loss: 5.8081e-04 - conv2d_20_loss: 0.1248\n",
      "\n",
      "Epoch 00001: loss did not improve from 16.52373\n"
     ]
    },
    {
     "name": "stderr",
     "output_type": "stream",
     "text": [
      "\n",
      "\n",
      "\n",
      "\n",
      "\n",
      "62it [04:22,  4.19s/it]\u001b[A\u001b[A\u001b[A\u001b[A\u001b[A"
     ]
    },
    {
     "name": "stdout",
     "output_type": "stream",
     "text": [
      "iteration : 62\n",
      "Epoch 1/1\n",
      " 8/16 [==============>...............] - ETA: 0s - loss: 4.8036 - acc: 0.3750"
     ]
    },
    {
     "name": "stderr",
     "output_type": "stream",
     "text": [
      "/opt/conda/lib/python3.6/site-packages/keras/engine/training.py:490: UserWarning: Discrepancy between trainable weights and collected trainable weights, did you set `model.trainable` without calling `model.compile` after ?\n",
      "  'Discrepancy between trainable weights and collected trainable'\n"
     ]
    },
    {
     "name": "stdout",
     "output_type": "stream",
     "text": [
      "16/16 [==============================] - 0s 23ms/step - loss: 5.0243 - acc: 0.2500\n",
      "Epoch 1/1\n",
      "8/8 [==============================] - 1s 97ms/step - loss: 18.1786 - model_1_loss: 0.0010 - conv2d_20_loss: 0.1255\n",
      "\n",
      "Epoch 00001: loss did not improve from 16.52373\n"
     ]
    },
    {
     "name": "stderr",
     "output_type": "stream",
     "text": [
      "\n",
      "\n",
      "\n",
      "\n",
      "\n",
      "63it [04:26,  4.19s/it]\u001b[A\u001b[A\u001b[A\u001b[A\u001b[A"
     ]
    },
    {
     "name": "stdout",
     "output_type": "stream",
     "text": [
      "iteration : 63\n",
      "Epoch 1/1\n",
      " 8/16 [==============>...............] - ETA: 0s - loss: 10.0974 - acc: 0.0000e+00"
     ]
    },
    {
     "name": "stderr",
     "output_type": "stream",
     "text": [
      "/opt/conda/lib/python3.6/site-packages/keras/engine/training.py:490: UserWarning: Discrepancy between trainable weights and collected trainable weights, did you set `model.trainable` without calling `model.compile` after ?\n",
      "  'Discrepancy between trainable weights and collected trainable'\n"
     ]
    },
    {
     "name": "stdout",
     "output_type": "stream",
     "text": [
      "16/16 [==============================] - 0s 24ms/step - loss: 6.9340 - acc: 0.1875\n",
      "Epoch 1/1\n",
      "8/8 [==============================] - 1s 98ms/step - loss: 17.1861 - model_1_loss: 0.0014 - conv2d_20_loss: 0.1156\n",
      "\n",
      "Epoch 00001: loss did not improve from 16.52373\n"
     ]
    },
    {
     "name": "stderr",
     "output_type": "stream",
     "text": [
      "\n",
      "\n",
      "\n",
      "\n",
      "\n",
      "64it [04:30,  4.19s/it]\u001b[A\u001b[A\u001b[A\u001b[A\u001b[A"
     ]
    },
    {
     "name": "stdout",
     "output_type": "stream",
     "text": [
      "iteration : 64\n",
      "Epoch 1/1\n",
      " 8/16 [==============>...............] - ETA: 0s - loss: 8.9176 - acc: 0.0000e+00"
     ]
    },
    {
     "name": "stderr",
     "output_type": "stream",
     "text": [
      "/opt/conda/lib/python3.6/site-packages/keras/engine/training.py:490: UserWarning: Discrepancy between trainable weights and collected trainable weights, did you set `model.trainable` without calling `model.compile` after ?\n",
      "  'Discrepancy between trainable weights and collected trainable'\n"
     ]
    },
    {
     "name": "stdout",
     "output_type": "stream",
     "text": [
      "16/16 [==============================] - 0s 23ms/step - loss: 7.9645 - acc: 0.1250\n",
      "Epoch 1/1\n",
      "8/8 [==============================] - 1s 97ms/step - loss: 17.3651 - model_1_loss: 3.6768e-04 - conv2d_20_loss: 0.1174\n",
      "\n",
      "Epoch 00001: loss did not improve from 16.52373\n"
     ]
    },
    {
     "name": "stderr",
     "output_type": "stream",
     "text": [
      "\n",
      "\n",
      "\n",
      "\n",
      "\n",
      "65it [04:34,  4.19s/it]\u001b[A\u001b[A\u001b[A\u001b[A\u001b[A"
     ]
    },
    {
     "name": "stdout",
     "output_type": "stream",
     "text": [
      "iteration : 65\n"
     ]
    },
    {
     "name": "stderr",
     "output_type": "stream",
     "text": [
      "/opt/conda/lib/python3.6/site-packages/keras/engine/training.py:490: UserWarning: Discrepancy between trainable weights and collected trainable weights, did you set `model.trainable` without calling `model.compile` after ?\n",
      "  'Discrepancy between trainable weights and collected trainable'\n"
     ]
    },
    {
     "name": "stdout",
     "output_type": "stream",
     "text": [
      "Epoch 1/1\n",
      "16/16 [==============================] - 0s 24ms/step - loss: 6.3242 - acc: 0.1250\n",
      "Epoch 1/1\n",
      "8/8 [==============================] - 1s 99ms/step - loss: 17.0570 - model_1_loss: 0.0190 - conv2d_20_loss: 0.1134\n",
      "\n",
      "Epoch 00001: loss did not improve from 16.52373\n"
     ]
    },
    {
     "name": "stderr",
     "output_type": "stream",
     "text": [
      "\n",
      "\n",
      "\n",
      "\n",
      "\n",
      "66it [04:39,  4.19s/it]\u001b[A\u001b[A\u001b[A\u001b[A\u001b[A"
     ]
    },
    {
     "name": "stdout",
     "output_type": "stream",
     "text": [
      "iteration : 66\n",
      "Epoch 1/1\n",
      " 8/16 [==============>...............] - ETA: 0s - loss: 4.6345 - acc: 0.3750"
     ]
    },
    {
     "name": "stderr",
     "output_type": "stream",
     "text": [
      "/opt/conda/lib/python3.6/site-packages/keras/engine/training.py:490: UserWarning: Discrepancy between trainable weights and collected trainable weights, did you set `model.trainable` without calling `model.compile` after ?\n",
      "  'Discrepancy between trainable weights and collected trainable'\n"
     ]
    },
    {
     "name": "stdout",
     "output_type": "stream",
     "text": [
      "16/16 [==============================] - 0s 23ms/step - loss: 4.7071 - acc: 0.3125\n",
      "Epoch 1/1\n",
      "8/8 [==============================] - 1s 97ms/step - loss: 18.8245 - model_1_loss: 4.5131e-04 - conv2d_20_loss: 0.1320\n",
      "\n",
      "Epoch 00001: loss did not improve from 16.52373\n"
     ]
    },
    {
     "name": "stderr",
     "output_type": "stream",
     "text": [
      "\n",
      "\n",
      "\n",
      "\n",
      "\n",
      "67it [04:43,  4.14s/it]\u001b[A\u001b[A\u001b[A\u001b[A\u001b[A"
     ]
    },
    {
     "name": "stdout",
     "output_type": "stream",
     "text": [
      "iteration : 67\n",
      "Epoch 1/1\n",
      " 8/16 [==============>...............] - ETA: 0s - loss: 5.2718 - acc: 0.2500"
     ]
    },
    {
     "name": "stderr",
     "output_type": "stream",
     "text": [
      "/opt/conda/lib/python3.6/site-packages/keras/engine/training.py:490: UserWarning: Discrepancy between trainable weights and collected trainable weights, did you set `model.trainable` without calling `model.compile` after ?\n",
      "  'Discrepancy between trainable weights and collected trainable'\n"
     ]
    },
    {
     "name": "stdout",
     "output_type": "stream",
     "text": [
      "16/16 [==============================] - 0s 23ms/step - loss: 6.6187 - acc: 0.1875\n",
      "Epoch 1/1\n",
      "8/8 [==============================] - 1s 98ms/step - loss: 17.3627 - model_1_loss: 6.9792e-04 - conv2d_20_loss: 0.1174\n",
      "\n",
      "Epoch 00001: loss did not improve from 16.52373\n"
     ]
    },
    {
     "name": "stderr",
     "output_type": "stream",
     "text": [
      "\n",
      "\n",
      "\n",
      "\n",
      "\n",
      "68it [04:47,  4.16s/it]\u001b[A\u001b[A\u001b[A\u001b[A\u001b[A"
     ]
    },
    {
     "name": "stdout",
     "output_type": "stream",
     "text": [
      "iteration : 68\n",
      "Epoch 1/1\n",
      " 8/16 [==============>...............] - ETA: 0s - loss: 4.9580 - acc: 0.1250"
     ]
    },
    {
     "name": "stderr",
     "output_type": "stream",
     "text": [
      "/opt/conda/lib/python3.6/site-packages/keras/engine/training.py:490: UserWarning: Discrepancy between trainable weights and collected trainable weights, did you set `model.trainable` without calling `model.compile` after ?\n",
      "  'Discrepancy between trainable weights and collected trainable'\n"
     ]
    },
    {
     "name": "stdout",
     "output_type": "stream",
     "text": [
      "16/16 [==============================] - 0s 23ms/step - loss: 6.4517 - acc: 0.0625\n",
      "Epoch 1/1\n",
      "8/8 [==============================] - 1s 97ms/step - loss: 17.5642 - model_1_loss: 0.0105 - conv2d_20_loss: 0.1189\n",
      "\n",
      "Epoch 00001: loss did not improve from 16.52373\n"
     ]
    },
    {
     "name": "stderr",
     "output_type": "stream",
     "text": [
      "\n",
      "\n",
      "\n",
      "\n",
      "\n",
      "69it [04:51,  4.16s/it]\u001b[A\u001b[A\u001b[A\u001b[A\u001b[A"
     ]
    },
    {
     "name": "stdout",
     "output_type": "stream",
     "text": [
      "iteration : 69\n",
      "Epoch 1/1\n",
      " 8/16 [==============>...............] - ETA: 0s - loss: 4.9883 - acc: 0.1250"
     ]
    },
    {
     "name": "stderr",
     "output_type": "stream",
     "text": [
      "/opt/conda/lib/python3.6/site-packages/keras/engine/training.py:490: UserWarning: Discrepancy between trainable weights and collected trainable weights, did you set `model.trainable` without calling `model.compile` after ?\n",
      "  'Discrepancy between trainable weights and collected trainable'\n"
     ]
    },
    {
     "name": "stdout",
     "output_type": "stream",
     "text": [
      "16/16 [==============================] - 0s 24ms/step - loss: 5.3521 - acc: 0.1875\n",
      "Epoch 1/1\n",
      "8/8 [==============================] - 1s 99ms/step - loss: 18.7923 - model_1_loss: 3.1589e-04 - conv2d_20_loss: 0.1317\n",
      "\n",
      "Epoch 00001: loss did not improve from 16.52373\n"
     ]
    },
    {
     "name": "stderr",
     "output_type": "stream",
     "text": [
      "\n",
      "\n",
      "\n",
      "\n",
      "\n",
      "70it [04:55,  4.17s/it]\u001b[A\u001b[A\u001b[A\u001b[A\u001b[A"
     ]
    },
    {
     "name": "stdout",
     "output_type": "stream",
     "text": [
      "iteration : 70\n",
      "Epoch 1/1\n",
      " 8/16 [==============>...............] - ETA: 0s - loss: 6.6432 - acc: 0.0000e+00"
     ]
    },
    {
     "name": "stderr",
     "output_type": "stream",
     "text": [
      "/opt/conda/lib/python3.6/site-packages/keras/engine/training.py:490: UserWarning: Discrepancy between trainable weights and collected trainable weights, did you set `model.trainable` without calling `model.compile` after ?\n",
      "  'Discrepancy between trainable weights and collected trainable'\n"
     ]
    },
    {
     "name": "stdout",
     "output_type": "stream",
     "text": [
      "16/16 [==============================] - 0s 23ms/step - loss: 4.9828 - acc: 0.1875\n",
      "Epoch 1/1\n",
      "8/8 [==============================] - 1s 97ms/step - loss: 20.8431 - model_1_loss: 0.3565 - conv2d_20_loss: 0.1344\n",
      "\n",
      "Epoch 00001: loss did not improve from 16.52373\n"
     ]
    },
    {
     "name": "stderr",
     "output_type": "stream",
     "text": [
      "\n",
      "\n",
      "\n",
      "\n",
      "\n",
      "71it [04:59,  4.17s/it]\u001b[A\u001b[A\u001b[A\u001b[A\u001b[A"
     ]
    },
    {
     "name": "stdout",
     "output_type": "stream",
     "text": [
      "iteration : 71\n",
      "Epoch 1/1\n",
      " 8/16 [==============>...............] - ETA: 0s - loss: 5.9619 - acc: 0.2500"
     ]
    },
    {
     "name": "stderr",
     "output_type": "stream",
     "text": [
      "/opt/conda/lib/python3.6/site-packages/keras/engine/training.py:490: UserWarning: Discrepancy between trainable weights and collected trainable weights, did you set `model.trainable` without calling `model.compile` after ?\n",
      "  'Discrepancy between trainable weights and collected trainable'\n"
     ]
    },
    {
     "name": "stdout",
     "output_type": "stream",
     "text": [
      "16/16 [==============================] - 0s 24ms/step - loss: 6.9135 - acc: 0.2500\n",
      "Epoch 1/1\n",
      "8/8 [==============================] - 1s 99ms/step - loss: 17.2762 - model_1_loss: 3.7620e-05 - conv2d_20_loss: 0.1166\n",
      "\n",
      "Epoch 00001: loss did not improve from 16.52373\n"
     ]
    },
    {
     "name": "stderr",
     "output_type": "stream",
     "text": [
      "\n",
      "\n",
      "\n",
      "\n",
      "\n",
      "72it [05:03,  4.18s/it]\u001b[A\u001b[A\u001b[A\u001b[A\u001b[A"
     ]
    },
    {
     "name": "stdout",
     "output_type": "stream",
     "text": [
      "iteration : 72\n",
      "Epoch 1/1\n",
      " 8/16 [==============>...............] - ETA: 0s - loss: 4.5965 - acc: 0.2500"
     ]
    },
    {
     "name": "stderr",
     "output_type": "stream",
     "text": [
      "/opt/conda/lib/python3.6/site-packages/keras/engine/training.py:490: UserWarning: Discrepancy between trainable weights and collected trainable weights, did you set `model.trainable` without calling `model.compile` after ?\n",
      "  'Discrepancy between trainable weights and collected trainable'\n"
     ]
    },
    {
     "name": "stdout",
     "output_type": "stream",
     "text": [
      "16/16 [==============================] - 0s 23ms/step - loss: 5.8764 - acc: 0.1250\n",
      "Epoch 1/1\n",
      "8/8 [==============================] - 1s 97ms/step - loss: 18.7599 - model_1_loss: 0.0084 - conv2d_20_loss: 0.1310\n",
      "\n",
      "Epoch 00001: loss did not improve from 16.52373\n"
     ]
    },
    {
     "name": "stderr",
     "output_type": "stream",
     "text": [
      "\n",
      "\n",
      "\n",
      "\n",
      "\n",
      "73it [05:08,  4.19s/it]\u001b[A\u001b[A\u001b[A\u001b[A\u001b[A"
     ]
    },
    {
     "name": "stdout",
     "output_type": "stream",
     "text": [
      "iteration : 73\n",
      "Epoch 1/1\n",
      " 8/16 [==============>...............] - ETA: 0s - loss: 5.2463 - acc: 0.0000e+00"
     ]
    },
    {
     "name": "stderr",
     "output_type": "stream",
     "text": [
      "/opt/conda/lib/python3.6/site-packages/keras/engine/training.py:490: UserWarning: Discrepancy between trainable weights and collected trainable weights, did you set `model.trainable` without calling `model.compile` after ?\n",
      "  'Discrepancy between trainable weights and collected trainable'\n"
     ]
    },
    {
     "name": "stdout",
     "output_type": "stream",
     "text": [
      "16/16 [==============================] - 0s 24ms/step - loss: 6.3250 - acc: 0.0625\n",
      "Epoch 1/1\n",
      "8/8 [==============================] - 1s 99ms/step - loss: 17.1463 - model_1_loss: 0.0041 - conv2d_20_loss: 0.1151\n",
      "\n",
      "Epoch 00001: loss did not improve from 16.52373\n"
     ]
    },
    {
     "name": "stderr",
     "output_type": "stream",
     "text": [
      "\n",
      "\n",
      "\n",
      "\n",
      "\n",
      "74it [05:12,  4.19s/it]\u001b[A\u001b[A\u001b[A\u001b[A\u001b[A"
     ]
    },
    {
     "name": "stdout",
     "output_type": "stream",
     "text": [
      "iteration : 74\n",
      "Epoch 1/1\n",
      " 8/16 [==============>...............] - ETA: 0s - loss: 6.4069 - acc: 0.0000e+00"
     ]
    },
    {
     "name": "stderr",
     "output_type": "stream",
     "text": [
      "/opt/conda/lib/python3.6/site-packages/keras/engine/training.py:490: UserWarning: Discrepancy between trainable weights and collected trainable weights, did you set `model.trainable` without calling `model.compile` after ?\n",
      "  'Discrepancy between trainable weights and collected trainable'\n"
     ]
    },
    {
     "name": "stdout",
     "output_type": "stream",
     "text": [
      "16/16 [==============================] - 0s 23ms/step - loss: 5.5840 - acc: 0.0625\n",
      "Epoch 1/1\n",
      "8/8 [==============================] - 1s 97ms/step - loss: 17.3725 - model_1_loss: 1.8375e-04 - conv2d_20_loss: 0.1175\n",
      "\n",
      "Epoch 00001: loss did not improve from 16.52373\n"
     ]
    },
    {
     "name": "stderr",
     "output_type": "stream",
     "text": [
      "\n",
      "\n",
      "\n",
      "\n",
      "\n",
      "75it [05:16,  4.19s/it]\u001b[A\u001b[A\u001b[A\u001b[A\u001b[A"
     ]
    },
    {
     "name": "stdout",
     "output_type": "stream",
     "text": [
      "iteration : 75\n",
      "Epoch 1/1\n",
      " 8/16 [==============>...............] - ETA: 0s - loss: 4.5052 - acc: 0.0000e+00"
     ]
    },
    {
     "name": "stderr",
     "output_type": "stream",
     "text": [
      "/opt/conda/lib/python3.6/site-packages/keras/engine/training.py:490: UserWarning: Discrepancy between trainable weights and collected trainable weights, did you set `model.trainable` without calling `model.compile` after ?\n",
      "  'Discrepancy between trainable weights and collected trainable'\n"
     ]
    },
    {
     "name": "stdout",
     "output_type": "stream",
     "text": [
      "16/16 [==============================] - 0s 24ms/step - loss: 5.2343 - acc: 0.0000e+00\n",
      "Epoch 1/1\n",
      "8/8 [==============================] - 1s 99ms/step - loss: 16.9528 - model_1_loss: 0.0097 - conv2d_20_loss: 0.1128\n",
      "\n",
      "Epoch 00001: loss did not improve from 16.52373\n"
     ]
    },
    {
     "name": "stderr",
     "output_type": "stream",
     "text": [
      "\n",
      "\n",
      "\n",
      "\n",
      "\n",
      "76it [05:20,  4.20s/it]\u001b[A\u001b[A\u001b[A\u001b[A\u001b[A"
     ]
    },
    {
     "name": "stdout",
     "output_type": "stream",
     "text": [
      "iteration : 76\n",
      "Epoch 1/1\n",
      " 8/16 [==============>...............] - ETA: 0s - loss: 7.7195 - acc: 0.2500"
     ]
    },
    {
     "name": "stderr",
     "output_type": "stream",
     "text": [
      "/opt/conda/lib/python3.6/site-packages/keras/engine/training.py:490: UserWarning: Discrepancy between trainable weights and collected trainable weights, did you set `model.trainable` without calling `model.compile` after ?\n",
      "  'Discrepancy between trainable weights and collected trainable'\n"
     ]
    },
    {
     "name": "stdout",
     "output_type": "stream",
     "text": [
      "16/16 [==============================] - 0s 23ms/step - loss: 6.3954 - acc: 0.1875\n",
      "Epoch 1/1\n",
      "8/8 [==============================] - 1s 97ms/step - loss: 17.2041 - model_1_loss: 1.7547e-04 - conv2d_20_loss: 0.1158\n",
      "\n",
      "Epoch 00001: loss did not improve from 16.52373\n"
     ]
    },
    {
     "name": "stderr",
     "output_type": "stream",
     "text": [
      "\n",
      "\n",
      "\n",
      "\n",
      "\n",
      "77it [05:24,  4.19s/it]\u001b[A\u001b[A\u001b[A\u001b[A\u001b[A"
     ]
    },
    {
     "name": "stdout",
     "output_type": "stream",
     "text": [
      "iteration : 77\n",
      "Epoch 1/1\n",
      " 8/16 [==============>...............] - ETA: 0s - loss: 6.2326 - acc: 0.1250"
     ]
    },
    {
     "name": "stderr",
     "output_type": "stream",
     "text": [
      "/opt/conda/lib/python3.6/site-packages/keras/engine/training.py:490: UserWarning: Discrepancy between trainable weights and collected trainable weights, did you set `model.trainable` without calling `model.compile` after ?\n",
      "  'Discrepancy between trainable weights and collected trainable'\n"
     ]
    },
    {
     "name": "stdout",
     "output_type": "stream",
     "text": [
      "16/16 [==============================] - 0s 24ms/step - loss: 5.3403 - acc: 0.1250\n",
      "Epoch 1/1\n",
      "8/8 [==============================] - 1s 98ms/step - loss: 17.1581 - model_1_loss: 0.0019 - conv2d_20_loss: 0.1153\n",
      "\n",
      "Epoch 00001: loss did not improve from 16.52373\n"
     ]
    },
    {
     "name": "stderr",
     "output_type": "stream",
     "text": [
      "\n",
      "\n",
      "\n",
      "\n",
      "\n",
      "78it [05:29,  4.19s/it]\u001b[A\u001b[A\u001b[A\u001b[A\u001b[A"
     ]
    },
    {
     "name": "stdout",
     "output_type": "stream",
     "text": [
      "iteration : 78\n",
      "Epoch 1/1\n",
      " 8/16 [==============>...............] - ETA: 0s - loss: 3.4093 - acc: 0.1250"
     ]
    },
    {
     "name": "stderr",
     "output_type": "stream",
     "text": [
      "/opt/conda/lib/python3.6/site-packages/keras/engine/training.py:490: UserWarning: Discrepancy between trainable weights and collected trainable weights, did you set `model.trainable` without calling `model.compile` after ?\n",
      "  'Discrepancy between trainable weights and collected trainable'\n"
     ]
    },
    {
     "name": "stdout",
     "output_type": "stream",
     "text": [
      "16/16 [==============================] - 0s 23ms/step - loss: 4.9465 - acc: 0.1250\n",
      "Epoch 1/1\n",
      "8/8 [==============================] - 1s 97ms/step - loss: 17.5043 - model_1_loss: 3.1665e-04 - conv2d_20_loss: 0.1188\n",
      "\n",
      "Epoch 00001: loss did not improve from 16.52373\n"
     ]
    }
   ],
   "source": [
    "# Initialises the cGAN model with (generator, discriminator)\n",
    "gen = generator_model()\n",
    "disc = discriminator_model()\n",
    "cGAN = cGAN_model(gen, disc)\n",
    "\n",
    "# Compile with custom loss functions\n",
    "disc.compile(loss=['binary_crossentropy'], optimizer=Adam(lr=1E-4, beta_1=0.9, beta_2=0.999, epsilon=1e-08), metrics=['accuracy'])\n",
    "cGAN.compile(loss=['binary_crossentropy', custom_loss_2], loss_weights=[5, 100], optimizer=Adam(lr=1E-4, beta_1=0.9, beta_2=0.999, epsilon=1e-08))\n",
    "    \n",
    "# Initialize callbacks for training session\n",
    "# In this situation, too many ModelCheckPoint give Memorry Error\n",
    "#filepath=\"weights-improvement-{epoch:02d}-{loss:.4f}.hdf5\"\n",
    "filepath=\"weights-improvement.hdf5\"\n",
    "reduce = ReduceLROnPlateau('loss', factor=0.1, patience=10, verbose=1)\n",
    "checkpoint = ModelCheckpoint(filepath, monitor='loss', verbose=1, save_best_only=True)\n",
    "callbacks_list = [checkpoint, reduce]\n",
    "\n",
    "\n",
    "image_generator =  image_a_b_gen(batch_size, Xtrain)\n",
    "\n",
    "# Start the training loop\n",
    "for e in range(global_epochs):\n",
    "    print('Epoch', e)\n",
    "\n",
    "    i = 0\n",
    "    for x_batch, y_batch in tqdm(image_generator):\n",
    "        \n",
    "        # Imprime l'itération actuelle du batch\n",
    "        print(\"iteration : \" + str(i))\n",
    "            \n",
    "        # Le nombre d'images retournées\n",
    "        samples = len(x_batch)\n",
    "        \n",
    "        # Premièrement, le generateur va générer des images à partir du noir et blanc\n",
    "        gen_image = gen.predict(x_batch, batch_size=samples)\n",
    "        \n",
    "        # Les inputs sont donc 2 fois les images en noir et blancs (1 fois pour le réel et 1 fois pour le générateur)\n",
    "        inputs = np.concatenate([x_batch, x_batch])\n",
    "                \n",
    "        # Les 'output' du réel et du générateur sont donc les images en couleurs et les images générées\n",
    "        outputs = np.concatenate([y_batch, gen_image])\n",
    "        \n",
    "        # Les labels sont donc vrais (pour les images en couleurs) puis faux (pour les images générées).\n",
    "        # Ce sont les output du discriminateur\n",
    "        labels = np.concatenate([np.ones((samples, 1)), np.zeros((samples, 1))])\n",
    "        \n",
    "        # Puis on entraine le discriminateur pour améliorer sa capacité à détecter les fausses images\n",
    "        # On lui donne les inputs et les images colorées et on lui laisse deviner qui est vrai et qui est faux\n",
    "        disc.fit([inputs, outputs], labels, epochs=1, batch_size=samples)\n",
    "                \n",
    "        # On désactive l'entrainement du discriminateur pour ne pas qu'il soit influencé par l'entrainement du cGAN\n",
    "        disc.trainable = False\n",
    "\n",
    "        # On entraine le cGAN (donc le générator)\n",
    "        cGAN.fit(x_batch, [np.ones((samples, 1)), y_batch], epochs=1, batch_size=samples, callbacks=callbacks_list)\n",
    "        \n",
    "        # On réactive l'entrainement du discriminateur\n",
    "        disc.trainable = True\n",
    "\n",
    "        #Probablement à supprimer : A TESTER\n",
    "        for a in range(10):\n",
    "            gc.collect()\n",
    "\n",
    "        if i >= len(Xtrain) / batch_size:\n",
    "            break\n",
    "        else :\n",
    "            i = i+1\n",
    "           \n",
    "    #Probablement à supprimer : A TESTER\n",
    "    gc.collect()      \n",
    "        \n",
    "\n",
    "print('Done')"
   ]
  },
  {
   "cell_type": "markdown",
   "metadata": {},
   "source": [
    "## Bonus"
   ]
  },
  {
   "cell_type": "code",
   "execution_count": 11,
   "metadata": {},
   "outputs": [],
   "source": [
    "#print(\"Loading model\")\n",
    "#model = load_model('model.h5')\n",
    "#model.load_weights('weights-improvement-27-0.0049.hdf5')\n",
    "#print(\"Model loaded\")"
   ]
  },
  {
   "cell_type": "markdown",
   "metadata": {},
   "source": [
    "# Old Version"
   ]
  },
  {
   "cell_type": "code",
   "execution_count": 12,
   "metadata": {},
   "outputs": [],
   "source": [
    "## Building the neural network\n",
    "#model = Sequential()\n",
    "#model.add(Conv2D(64, (3, 3), activation='relu', padding='same', input_shape=(512, 512, 1)))\n",
    "#model.add(Conv2D(64, (3, 3), activation='relu', padding='same', strides=2))\n",
    "\n",
    "#model.add(Conv2D(128, (3, 3), activation='relu', padding='same'))\n",
    "#model.add(Conv2D(128, (3, 3), activation='relu', padding='same', strides=2))\n",
    "\n",
    "#model.add(Conv2D(256, (3, 3), activation='relu', padding='same'))\n",
    "#model.add(Conv2D(256, (3, 3), activation='relu', padding='same', strides=2))\n",
    "\n",
    "#model.add(Conv2D(512, (3, 3), activation='relu', padding='same'))\n",
    "#model.add(Conv2D(256, (3, 3), activation='relu', padding='same'))\n",
    "#model.add(Conv2D(128, (3, 3), activation='relu', padding='same'))\n",
    "\n",
    "#model.add(UpSampling2D((2, 2)))\n",
    "#model.add(Conv2D(64, (3, 3), activation='relu', padding='same'))\n",
    "\n",
    "#model.add(UpSampling2D((2, 2)))\n",
    "#model.add(Conv2D(32, (3, 3), activation='relu', padding='same'))\n",
    "\n",
    "#model.add(UpSampling2D((2, 2)))\n",
    "#model.add(Conv2D(3, (3, 3), activation='relu', padding='same'))\n",
    "\n",
    "#model.compile(optimizer='rmsprop',loss='mse')\n",
    "\n",
    "#model.summary()\n",
    "\n",
    "#model.save(\"model.h5\")"
   ]
  },
  {
   "cell_type": "code",
   "execution_count": 13,
   "metadata": {},
   "outputs": [],
   "source": [
    "#filepath=\"weights-improvement-{epoch:02d}-{val_loss:.4f}.hdf5\"\n",
    "#checkpoint = ModelCheckpoint(filepath, monitor='val_loss', verbose=1, save_best_only=True)\n",
    "\n",
    "#reduce = ReduceLROnPlateau('val_loss', factor=0.1, patience=3, verbose=1)\n",
    "\n",
    "#callbacks_list = [checkpoint, reduce]\n",
    "\n",
    "#history = model.fit_generator(\n",
    "#    generator = image_a_b_gen(batch_size, Xtrain),\n",
    "#    validation_data = image_a_b_gen(batch_size, Xvalid),\n",
    "#    epochs = 100,\n",
    "#    steps_per_epoch = ceil(len(Xtrain) / batch_size),\n",
    "#    validation_steps = ceil(len(Xvalid) / batch_size),\n",
    "#    callbacks = callbacks_list\n",
    "#    )"
   ]
  },
  {
   "cell_type": "code",
   "execution_count": 14,
   "metadata": {},
   "outputs": [],
   "source": [
    "#Test pour une image\n",
    "\n",
    "\n",
    "# Load black and white images\n",
    "#color = []\n",
    "#gray = []\n",
    "\n",
    "#for filename in os.listdir('datasets/Images/'):\n",
    "#    if filename.endswith('.jpg'):\n",
    "#        image = cv2.imread('datasets/Images/'+filename)  \n",
    "#        cv2.imshow('Original', image)\n",
    "#        cv2.waitKey(0)\n",
    "#        color.append(image)\n",
    "#        break\n",
    "\n",
    "#color = np.array(color)\n",
    "\n",
    "#gray = [cv2.cvtColor(img, cv2.COLOR_BGR2GRAY) for img in color]\n",
    "#gray = np.array(gray)\n",
    "#gray = gray.reshape(gray.shape+(1,))\n",
    "\n",
    "#X = gray / 255\n",
    "#Y = color / 255\n",
    "        \n",
    "\n",
    "## Test model\n",
    "#output = model.predict(X)\n",
    "#output = np.array(output)\n",
    "\n",
    "##print(Y[0].shape)\n",
    "#cv2.imshow('Gray', X[0])\n",
    "#cv2.waitKey(0)\n",
    "\n",
    "##print('hi')\n",
    "#print(output[0].shape)\n",
    "#cv2.imshow('AI', output[0])\n",
    "#cv2.waitKey(0)\n",
    "#cv2.destroyAllWindows()"
   ]
  },
  {
   "cell_type": "markdown",
   "metadata": {},
   "source": [
    "# Useful fonctions"
   ]
  },
  {
   "cell_type": "code",
   "execution_count": 15,
   "metadata": {},
   "outputs": [],
   "source": [
    "## Affiche une image générée avec datagen en B/W & C\n",
    "#for x_batch, y_batch in image_a_b_gen(batch_size, Xtrain) : \n",
    "\n",
    "#    samples = len(x_batch)\n",
    "#    print(samples)\n",
    "\n",
    "#    print(x_batch[0].shape)\n",
    "#    cv2.imshow('AI', x_batch[0])\n",
    "#    cv2.waitKey(0)\n",
    "#    cv2.destroyAllWindows()\n",
    "\n",
    "#    print(y_batch[0].shape)\n",
    "#    cv2.imshow('AI', y_batch[0])\n",
    "#    cv2.waitKey(0)\n",
    "#    cv2.destroyAllWindows()\n",
    "    \n",
    "\n",
    "#    break"
   ]
  },
  {
   "cell_type": "code",
   "execution_count": 16,
   "metadata": {},
   "outputs": [],
   "source": [
    "#m = generator_model()\n",
    "#m.summary()"
   ]
  },
  {
   "cell_type": "code",
   "execution_count": 17,
   "metadata": {},
   "outputs": [],
   "source": [
    "#fichierlist = os.listdir('datasets/Images/Done/')\n",
    "#for fichier in fichierlist:\n",
    "#    if fichier.endswith('.jpg'):\n",
    "#        image = cv2.imread('datasets/Images/Done/' + fichier)  \n",
    "#        print(image.shape)"
   ]
  }
 ],
 "metadata": {
  "kernelspec": {
   "display_name": "Python 3",
   "language": "python",
   "name": "python3"
  },
  "language_info": {
   "codemirror_mode": {
    "name": "ipython",
    "version": 3
   },
   "file_extension": ".py",
   "mimetype": "text/x-python",
   "name": "python",
   "nbconvert_exporter": "python",
   "pygments_lexer": "ipython3",
   "version": "3.7.1"
  }
 },
 "nbformat": 4,
 "nbformat_minor": 1
}
